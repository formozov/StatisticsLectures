{
 "cells": [
  {
   "cell_type": "code",
   "execution_count": 1,
   "metadata": {
    "collapsed": false,
    "slideshow": {
     "slide_type": "skip"
    }
   },
   "outputs": [
    {
     "data": {
      "application/javascript": [
       "require(['codemirror/mode/clike/clike'], function(Clike) { console.log('ROOTaaS - C++ CodeMirror module loaded'); });"
      ]
     },
     "metadata": {},
     "output_type": "display_data"
    },
    {
     "data": {
      "application/javascript": [
       "IPython.CodeCell.config_defaults.highlight_modes['magic_text/x-c++src'] = {'reg':[/^%%cpp/]};"
      ]
     },
     "metadata": {},
     "output_type": "display_data"
    },
    {
     "name": "stdout",
     "output_type": "stream",
     "text": [
      "Welcome to ROOTaaS 6.06/00\n",
      "\r\n",
      "\u001b[1mRooFit v3.60 -- Developed by Wouter Verkerke and David Kirkby\u001b[0m \r\n",
      "                Copyright (C) 2000-2013 NIKHEF, University of California & Stanford University\r\n",
      "                All rights reserved, please read http://roofit.sourceforge.net/license.txt\r\n",
      "\r\n"
     ]
    }
   ],
   "source": [
    "from matplotlib import pyplot as plt\n",
    "import numpy as np\n",
    "from scipy import stats\n",
    "from IPython.display import HTML, IFrame, Image, SVG, Latex\n",
    "import ROOT\n",
    "from ROOT import RooFit, RooStats\n",
    "%matplotlib inline\n",
    "from ipywidgets import interact, interactive, fixed"
   ]
  },
  {
   "cell_type": "code",
   "execution_count": 2,
   "metadata": {
    "collapsed": false,
    "slideshow": {
     "slide_type": "skip"
    }
   },
   "outputs": [
    {
     "data": {
      "text/html": [
       "<link rel=\"stylesheet\" href=\"custom.css\" type=\"text/css\">"
      ],
      "text/plain": [
       "<IPython.core.display.HTML object>"
      ]
     },
     "execution_count": 2,
     "metadata": {},
     "output_type": "execute_result"
    }
   ],
   "source": [
    "HTML('<link rel=\"stylesheet\" href=\"custom.css\" type=\"text/css\">')"
   ]
  },
  {
   "cell_type": "code",
   "execution_count": 3,
   "metadata": {
    "collapsed": false,
    "slideshow": {
     "slide_type": "skip"
    }
   },
   "outputs": [
    {
     "data": {
      "text/plain": [
       "{u'theme': 'sans', u'transition': 'zoom'}"
      ]
     },
     "execution_count": 3,
     "metadata": {},
     "output_type": "execute_result"
    }
   ],
   "source": [
    "from notebook.services.config import ConfigManager\n",
    "cm = ConfigManager()\n",
    "cm.update('livereveal', {\n",
    "          'theme': 'sans',\n",
    "          'transition': 'zoom',\n",
    "})"
   ]
  },
  {
   "cell_type": "markdown",
   "metadata": {
    "slideshow": {
     "slide_type": "slide"
    }
   },
   "source": [
    "# Lecture 1\n",
    "\n",
    "<p style=\"text-align: center;\"><i class=\"icon-user icon-2x\"> [ruggero.turra@mi.infn.it](mailto:ruggero.turra@mi.infn.it)</i></p>\n",
    "<br/>\n",
    "\n",
    "## Content of the lecture\n",
    "\n",
    "   * Basic notion you should already have\n",
    "   * Introduction to inferential statistics\n",
    "   * Counting experiments\n",
    "   * RooFit / RooStats examples"
   ]
  },
  {
   "cell_type": "markdown",
   "metadata": {
    "slideshow": {
     "slide_type": "slide"
    }
   },
   "source": [
    "## Intro to the lectures\n",
    "   * This is not a course on [RooFit](https://root.cern.ch/roofit) / [RooStats](https://twiki.cern.ch/twiki/bin/view/RooStats/WebTopicList) / ...\n",
    "   * This is not a course of python / [numpy](http://www.numpy.org/) / [matplotlib](http://matplotlib.org/) / ...\n",
    "   * I have just collected some examples that can be interesting for your studies with the minimal-needed theory\n",
    "\n",
    "<small>\n",
    "These lectures are available on https://github.com/wiso/StatisticsLectures as [jupyter](http://jupyter.org/) (previous [ipython](http://ipython.org/) notebook) notebook. They can be shown as interactive slides using [RISE](https://github.com/damianavila/RISE). It works also with a simple `jupyter nbconvert --to slides file.ipynb --post serve`, but style is not optimized. </small>"
   ]
  },
  {
   "cell_type": "markdown",
   "metadata": {
    "slideshow": {
     "slide_type": "slide"
    }
   },
   "source": [
    "## Resources\n",
    "\n",
    "* [Kyle Cranmer](http://orcid.org/0000-0002-5769-7094) [lectures](https://indico.cern.ch/event/117033/other-view?view=standard) and [proceedings](https://cds.cern.ch/record/2004587/files/arXiv:1503.07622.pdf) at 2011 ESHEP (see page 3 for many books)\n",
    "* Kyle Cranmer [lectures](https://indico.cern.ch/event/243641/) for summer students in 2013\n",
    "* Glen Cowan [Statistical Data Analysis for Particle Physics](http://www.pp.rhul.ac.uk/~cowan/stat_aachen.html) and [other](http://www.pp.rhul.ac.uk/~cowan/) lectures"
   ]
  },
  {
   "cell_type": "code",
   "execution_count": 4,
   "metadata": {
    "collapsed": false,
    "hide_input": false,
    "scrolled": true,
    "slideshow": {
     "slide_type": "-"
    }
   },
   "outputs": [
    {
     "data": {
      "text/html": [
       "<iframe width=\"49%\" height=\"300\" src=\"https://indico.cern.ch/event/117033/contribution/19/attachments/55755/80228/Cranmer_L1.pdf\" frameborder=\"0\" allowfullscreen></iframe>\n",
       "     <iframe width=\"49%\" height=\"300\" src=\"http://www.pp.rhul.ac.uk/~cowan/stat_aachen.html\" frameborder=\"0\" allowfullscreen></iframe>"
      ],
      "text/plain": [
       "<IPython.core.display.HTML object>"
      ]
     },
     "execution_count": 4,
     "metadata": {},
     "output_type": "execute_result"
    }
   ],
   "source": [
    "HTML('''<iframe width=\"49%\" height=\"300\" src=\"https://indico.cern.ch/event/117033/contribution/19/attachments/55755/80228/Cranmer_L1.pdf\" frameborder=\"0\" allowfullscreen></iframe>\n",
    "     <iframe width=\"49%\" height=\"300\" src=\"http://www.pp.rhul.ac.uk/~cowan/stat_aachen.html\" frameborder=\"0\" allowfullscreen></iframe>''')"
   ]
  },
  {
   "cell_type": "markdown",
   "metadata": {
    "slideshow": {
     "slide_type": "subslide"
    }
   },
   "source": [
    "[Luca Lista](http://people.na.infn.it/~lista/Statistics/) with RooStats examples"
   ]
  },
  {
   "cell_type": "code",
   "execution_count": 5,
   "metadata": {
    "collapsed": false,
    "hide_input": false
   },
   "outputs": [
    {
     "data": {
      "text/html": [
       "\n",
       "        <iframe\n",
       "            width=\"900\"\n",
       "            height=\"400\"\n",
       "            src=\"http://people.na.infn.it/~lista/Statistics/\"\n",
       "            frameborder=\"0\"\n",
       "            allowfullscreen\n",
       "        ></iframe>\n",
       "        "
      ],
      "text/plain": [
       "<IPython.lib.display.IFrame at 0x7f36a904a2d0>"
      ]
     },
     "execution_count": 5,
     "metadata": {},
     "output_type": "execute_result"
    }
   ],
   "source": [
    "IFrame('http://people.na.infn.it/~lista/Statistics/', width=900, height=400)"
   ]
  },
  {
   "cell_type": "markdown",
   "metadata": {
    "slideshow": {
     "slide_type": "subslide"
    }
   },
   "source": [
    "LHC discovery related:\n",
    "\n",
    "   * Eilam Gross [LHC Statistics for Pedestrians](http://cds.cern.ch/record/1099994/files/p205.pdf)\n",
    "   * [Asymptotic formulae for likelihood-based tests of new physics](http://arxiv.org/pdf/1007.1727v3.pdf)\n",
    "   * [Procedure for the LHC Higgs boson search\n",
    "combination in Summer 2011](https://cds.cern.ch/record/1379837/files/NOTE2011_005.pdf)\n",
    "\n",
    "   \n",
    "Others:\n",
    "   * Gerhard Bohm, Günter Zech [\"Introduction to Statistics and Data\n",
    "Analysis for Physicists\"](http://www-library.desy.de/preparch/books/vstatmp_engl.pdf)\n",
    "   * Roger Barlow [\"Systematic Errors: Facts and Fictions\"](http://arxiv.org/pdf/hep-ex/0207026v1.pdf)\n",
    "   * Grégory Schott [RooStats for Searches](http://indico.cern.ch/event/107747/contribution/25/attachments/24332/35016/schott_2011.01.17__RooStats_talk.pdf)\n"
   ]
  },
  {
   "cell_type": "markdown",
   "metadata": {
    "slideshow": {
     "slide_type": "slide"
    }
   },
   "source": [
    "   * Statistics seems easy, since usually problems can described with a simple language. But it is not...\n",
    "   * Easy questions: do we have discovered the Higgs boson?"
   ]
  },
  {
   "cell_type": "markdown",
   "metadata": {
    "collapsed": true,
    "slideshow": {
     "slide_type": "slide"
    }
   },
   "source": [
    "## Basic concepts you should already have\n",
    "\n",
    "### about probability\n",
    "\n",
    "Given a (continuos) random variable $X$:\n",
    "   * <strong>CDF</strong>: $F_X(x) = P(X\\geq x)$\n",
    "   * <strong>PDF</strong>: $f_X = \\frac{dF_X}{dx}$\n",
    "   * <strong>Expected value</strong>\n",
    "   $E[X] = \\mu = \\int x f_X(x) dx$\n",
    "   * <strong>Variance</strong>:   \n",
    "   $V[X] = E[(X - \\mu)^2]$\n",
    "   * <strong>Covariance</strong>:   \n",
    "   $\\operatorname{cov}(X,Y) = \\operatorname{E}{\\big[(X - \\operatorname{E}[X])(Y - \\operatorname{E}[Y])\\big]} = \\\\\n",
    "   \\operatorname{E}\\left[X Y\\right] - \\operatorname{E}\\left[X\\right]\\operatorname{E}\\left[Y\\right]$"
   ]
  },
  {
   "cell_type": "markdown",
   "metadata": {
    "slideshow": {
     "slide_type": "subslide"
    }
   },
   "source": [
    "### Exercize\n",
    "   * Having a sample $\\{x_i\\}_i^n$, it is well know that $s^2 = \\frac{1}{n-1} \\sum_{i=1}^n \\left(x_i - \\overline{x} \\right)^2$ is a unbiased estimator ($E[\\text{bias}]=E[s^2 - V[X]] = 0$) for the variance\n",
    "   * Show analytically that $\\sqrt{s^2}$ is not an unbiased estimator for the standard deviation $\\sigma_X=\\sqrt{V[X]}$ (hint: $E$ is linear, $\\sqrt{\\,\\,\\,}$ is not)"
   ]
  },
  {
   "cell_type": "markdown",
   "metadata": {
    "slideshow": {
     "slide_type": "subslide"
    }
   },
   "source": [
    "#### Non-analytical solution\n",
    "\n",
    "Let generate many pseudo-experiments (toys), to see the bias of $\\sqrt{s^2}$. Every toy is made by a normal sample."
   ]
  },
  {
   "cell_type": "code",
   "execution_count": 6,
   "metadata": {
    "collapsed": true,
    "slideshow": {
     "slide_type": "-"
    }
   },
   "outputs": [],
   "source": [
    "POPULATION_STD_DEV = 3  # standard deviation of the population\n",
    "SIZE = 5                # size of the sample (for every toy)\n",
    "NTOYS = 1000            # number of toys\n",
    "\n",
    "# consider two versions of s^2 (with/without Bessel correction)\n",
    "all_bias_std, all_bias_std_corr = [], []\n",
    "\n",
    "for itoy in range(NTOYS):\n",
    "    # generate a sample\n",
    "    sample = np.random.normal(loc=0., scale=POPULATION_STD_DEV,\n",
    "                              size=SIZE)\n",
    "    \n",
    "    # compute the bias for the two definitions\n",
    "    all_bias_std.append(np.std(sample) - POPULATION_STD_DEV)\n",
    "    all_bias_std_corr.append(np.std(sample, ddof=1) - POPULATION_STD_DEV)"
   ]
  },
  {
   "cell_type": "markdown",
   "metadata": {
    "slideshow": {
     "slide_type": "subslide"
    }
   },
   "source": [
    "Much faster code with vectorization"
   ]
  },
  {
   "cell_type": "code",
   "execution_count": 7,
   "metadata": {
    "collapsed": false
   },
   "outputs": [],
   "source": [
    "NTOYS = 1000000\n",
    "samples = np.random.normal(loc=0., scale=POPULATION_STD_DEV,\n",
    "                           size=(NTOYS, 5))\n",
    "all_bias_std = np.std(samples, axis=1) - POPULATION_STD_DEV\n",
    "all_bias_std_corr = np.std(samples, axis=1, ddof=1) - POPULATION_STD_DEV"
   ]
  },
  {
   "cell_type": "code",
   "execution_count": 8,
   "metadata": {
    "collapsed": false,
    "slideshow": {
     "slide_type": "skip"
    }
   },
   "outputs": [],
   "source": [
    "# plot it\n",
    "mean_bias_non_corr, err_bias_non_corr = [f(all_bias_std) for f in (np.mean, stats.sem)]\n",
    "mean_bias_corr, err_bias_corr = [f(all_bias_std_corr) for f in (np.mean, stats.sem)]\n",
    "\n",
    "fig, ax = plt.subplots(figsize=(14, 7))\n",
    "bins = np.linspace(-1.2 * POPULATION_STD_DEV, 2 * POPULATION_STD_DEV, 100)\n",
    "ax.hist(all_bias_std, bins, histtype='step', normed=True, label='non-corr %.3f$\\pm$%.3f' % (mean_bias_non_corr, err_bias_non_corr))\n",
    "ax.hist(all_bias_std_corr, bins, histtype='step', normed=True, label='corr %.3f$\\pm$%.3f' % (mean_bias_corr, err_bias_corr))\n",
    "bias_pdf = stats.chi(df=SIZE-1, loc=-POPULATION_STD_DEV, scale = POPULATION_STD_DEV / (np.sqrt(SIZE - 1) ))\n",
    "bias_pdf_integral_window = bias_pdf.cdf(bins.max()) - bias_pdf.cdf(bins.min())\n",
    "ax.plot(bins, bias_pdf.pdf(bins) / bias_pdf_integral_window, label='$\\chi_{n-1}((\\mathrm{bias} + \\sigma) \\sqrt{n - 1} / \\sigma)$')\n",
    "ax.set_xlabel('bias')\n",
    "ax.legend()\n",
    "plt.close()"
   ]
  },
  {
   "cell_type": "code",
   "execution_count": 9,
   "metadata": {
    "collapsed": false,
    "slideshow": {
     "slide_type": "subslide"
    }
   },
   "outputs": [
    {
     "data": {
      "image/png": "[encoded data removed]",
      "text/plain": [
       "<matplotlib.figure.Figure at 0x7f36a90a46d0>"
      ]
     },
     "execution_count": 9,
     "metadata": {},
     "output_type": "execute_result"
    }
   ],
   "source": [
    "fig"
   ]
  },
  {
   "cell_type": "markdown",
   "metadata": {
    "slideshow": {
     "slide_type": "fragment"
    }
   },
   "source": [
    "<small>For a normal distribution $y^2\\sim\\chi^2_{n-1}$ with $y=\\sqrt{n-1}s/\\sigma$ by [Cochran's theorem](https://en.wikipedia.org/wiki/Cochran%27s_theorem), so in principle it is possibile to have an analytical expression for an unbiased estimator</small>"
   ]
  },
  {
   "cell_type": "markdown",
   "metadata": {
    "slideshow": {
     "slide_type": "fragment"
    }
   },
   "source": [
    "Can we draw a conclusions from these numbers? (answer=yes, detail in the rest of the lecture)"
   ]
  },
  {
   "cell_type": "markdown",
   "metadata": {
    "slideshow": {
     "slide_type": "subslide"
    }
   },
   "source": [
    "   * <strong>Statistic</strong>: a function of the data\n",
    "   * <strong>Conditional probability</strong> $P(A|B) = P(A\\cap B) / P(B)$\n",
    "      - 2% $\\stackrel{?}{=}$ P(to be pregnant|to be woman) $\\neq$ P(to be woman|to be pregnant) = 1\n",
    "      - P(data|theory) $\\neq$ P(theory|data)\n",
    "   * <strong>Bayes theorem</strong> $P(A|B)P(B) = P(B|A)P(A)$\n",
    "   * <strong>Likelihood</strong>: $\\mathcal{L}(\\theta|\\text{data}) = P(\\text{data}|\\theta)$"
   ]
  },
  {
   "cell_type": "code",
   "execution_count": 10,
   "metadata": {
    "collapsed": false,
    "slideshow": {
     "slide_type": "skip"
    }
   },
   "outputs": [
    {
     "data": {
      "image/png": "[encoded data removed]",
      "text/plain": [
       "<matplotlib.figure.Figure at 0x7f36a90a4fd0>"
      ]
     },
     "metadata": {},
     "output_type": "display_data"
    }
   ],
   "source": [
    "fig_gaussian, axs = plt.subplots(1, 2, figsize=(15, 4))\n",
    "x = np.linspace(-5, 5, 100)\n",
    "norm = stats.norm\n",
    "y = norm.pdf(x)\n",
    "z = 1.\n",
    "mask = x > z\n",
    "for ax in axs.flat:\n",
    "    ax.plot(x, y)\n",
    "axs[0].fill_between(x[mask], y[mask])\n",
    "pvalue = norm.sf(z)\n",
    "axs[0].annotate(\"p-value = %.2f\" % pvalue, xy=(2, norm.pdf(2)), xytext=(z*2, 0.2), ha='left', arrowprops=dict(arrowstyle=\"->\", connectionstyle=\"arc3,rad=-0.1\", facecolor='black'))\n",
    "axs[0].set_xticks(list(axs[0].get_xticks()) + [z])\n",
    "\n",
    "z = norm.isf(pvalue / 2.)\n",
    "axs[1].fill_between(x[x>z], y[x>z])\n",
    "axs[1].fill_between(x[x<-z], y[x<-z])\n",
    "axs[1].set_xticks(list(axs[1].get_xticks()) + [z, -z])\n",
    "\n",
    "for ax in axs.flat:\n",
    "    ax.set_xlim(-5, 5)\n",
    "    ax.set_ylim(0, 0.45)\n",
    "\n",
    "plt.show()\n"
   ]
  },
  {
   "cell_type": "markdown",
   "metadata": {
    "slideshow": {
     "slide_type": "slide"
    }
   },
   "source": [
    "## Normal significance\n",
    "\n",
    "Usually p-values are translated in a more-friendly normal-significance (number of sigmas) $z$. With the one-tail definition this is the value (quantile) corresponding to a certain p-value for a standard gaussian:\n",
    "\n",
    "$$ \\int_z^\\infty N[x| 0, 1] dx = \\text{p-value}$$\n",
    "\n",
    "or $ \\int_z^\\infty + \\int_{-\\infty}^{-z} N[x|0,1] dx = \\text{p-value}$ for the two-tail definition."
   ]
  },
  {
   "cell_type": "code",
   "execution_count": 11,
   "metadata": {
    "collapsed": false
   },
   "outputs": [
    {
     "data": {
      "image/png": "[encoded data removed]",
      "text/plain": [
       "<matplotlib.figure.Figure at 0x7f36a90a4fd0>"
      ]
     },
     "execution_count": 11,
     "metadata": {},
     "output_type": "execute_result"
    }
   ],
   "source": [
    "fig_gaussian"
   ]
  },
  {
   "cell_type": "markdown",
   "metadata": {
    "slideshow": {
     "slide_type": "subslide"
    }
   },
   "source": [
    "$$ \\int_z^\\infty N[x| 0, 1] dx = \\text{p-value}$$\n",
    "\n",
    "Taking into account the definition of the cumulative density function of a normal distribution, $\\Phi(z) = \\int_{-\\infty}^{z} N[x| 0, 1] dx$, this can be written as:\n",
    "\n",
    "$$ z = \\Phi^{-1}(1 - \\text{p-value})$$\n",
    "\n",
    "or taking into account the definition of the survival function $SF(z) = 1 - CDF(z)$:\n",
    "\n",
    "$$ z = \\text{SF}^{-1}(\\text{p-value})$$"
   ]
  },
  {
   "cell_type": "code",
   "execution_count": 12,
   "metadata": {
    "collapsed": true,
    "slideshow": {
     "slide_type": "subslide"
    }
   },
   "outputs": [],
   "source": [
    "def p2z(p_value, onetail=True):\n",
    "    \"\"\" pvalue to significance \"\"\"\n",
    "    if not onetail:\n",
    "        p_value /= 2\n",
    "    return stats.norm.isf(p_value)  # inverse of the survival function\n",
    "\n",
    "def z2p(z, onetail=True):\n",
    "    \"\"\" significance to pvalue \"\"\"\n",
    "    if onetail:\n",
    "        return stats.norm.sf(z)\n",
    "    else:\n",
    "        return stats.norm.sf(z) * 2"
   ]
  },
  {
   "cell_type": "code",
   "execution_count": 13,
   "metadata": {
    "collapsed": false,
    "slideshow": {
     "slide_type": "skip"
    }
   },
   "outputs": [],
   "source": [
    "table = '<table float=\"left\"><tr><td>p-value</td><td>z (one tail)</td><td>z (two tails)</td></tr>'\n",
    "for p_value in np.logspace(-1, -8, 8):\n",
    "    table += \"<tr><td>%.5g</td><td>%.3f</td><td>%.3f</td></tr>\" % (p_value, p2z(p_value), p2z(p_value, False))\n",
    "table += \"</table>\"\n",
    "\n",
    "table += '<table float=\"left\"><tr><td>z (one tail)</td><td>p-value</td></tr>'\n",
    "for z in np.arange(1, 7):\n",
    "    pvalue = z2p(z)\n",
    "    table += \"<tr><td>%.2f</td><td>%.2g</td></tr>\" % (z, pvalue)\n",
    "table += \"</table>\"    "
   ]
  },
  {
   "cell_type": "code",
   "execution_count": 14,
   "metadata": {
    "collapsed": false
   },
   "outputs": [
    {
     "data": {
      "text/html": [
       "<table float=\"left\"><tr><td>p-value</td><td>z (one tail)</td><td>z (two tails)</td></tr><tr><td>0.1</td><td>1.282</td><td>1.645</td></tr><tr><td>0.01</td><td>2.326</td><td>2.576</td></tr><tr><td>0.001</td><td>3.090</td><td>3.291</td></tr><tr><td>0.0001</td><td>3.719</td><td>3.891</td></tr><tr><td>1e-05</td><td>4.265</td><td>4.417</td></tr><tr><td>1e-06</td><td>4.753</td><td>4.892</td></tr><tr><td>1e-07</td><td>5.199</td><td>5.327</td></tr><tr><td>1e-08</td><td>5.612</td><td>5.731</td></tr></table><table float=\"left\"><tr><td>z (one tail)</td><td>p-value</td></tr><tr><td>1.00</td><td>0.16</td></tr><tr><td>2.00</td><td>0.023</td></tr><tr><td>3.00</td><td>0.0013</td></tr><tr><td>4.00</td><td>3.2e-05</td></tr><tr><td>5.00</td><td>2.9e-07</td></tr><tr><td>6.00</td><td>9.9e-10</td></tr></table>"
      ],
      "text/plain": [
       "<IPython.core.display.HTML object>"
      ]
     },
     "execution_count": 14,
     "metadata": {},
     "output_type": "execute_result"
    }
   ],
   "source": [
    "HTML(table)"
   ]
  },
  {
   "cell_type": "markdown",
   "metadata": {},
   "source": [
    "In HEP usually we call \"evidence\" deviation at $3\\sigma$ ($z=3$) and \"discovery\" at $5\\sigma$. In other field much bigger p-values (smaller significance) are used."
   ]
  },
  {
   "cell_type": "markdown",
   "metadata": {
    "slideshow": {
     "slide_type": "slide"
    }
   },
   "source": [
    "Counting model: observed events $N_{obs}$ distributed as Poisson distribution. Observed events can be signal or background. We know the prediction (expected) for the background: $N_{bkg}^{exp}$. \n",
    "\n",
    "Question: is there a signal? Compute the p-value.\n",
    "   * null hypothesis = background-only (expected signal = 0)\n",
    "   * Observable: $N_{obs}$\n",
    "   * Statistics: $N_{obs}$\n",
    "\n",
    "$P(N_{obs} | \\text{no signal}) = \\text{Poisson}[N_{obs}|N_{bkg}^{exp}]$. \n",
    "\n",
    "$$p_0 = \\text{p-value for no signal} = \\int_{N_{obs}}^{\\infty} P(N_{obs}|\\text{no signal}) =\\int_{N_{obs}}^{\\infty} \\text{Poisson}[N_{obs}|N_{bkg}^{exp}]$$"
   ]
  },
  {
   "cell_type": "code",
   "execution_count": 15,
   "metadata": {
    "collapsed": false,
    "slideshow": {
     "slide_type": "subslide"
    }
   },
   "outputs": [
    {
     "name": "stdout",
     "output_type": "stream",
     "text": [
      "p-value: 0.072160  z: 1.46  s/sqrt(b): 1.41\n"
     ]
    },
    {
     "data": {
      "image/png": "[encoded data removed]",
      "text/plain": [
       "<matplotlib.figure.Figure at 0x7f367167ee10>"
      ]
     },
     "metadata": {},
     "output_type": "display_data"
    }
   ],
   "source": [
    "@interact(NBKG_EXP=(1, 100), NOBS=(1, 100), NSIG_EXP=(0, 20))\n",
    "def simple_example_poisson(NBKG_EXP=50, NOBS=60, NSIG_EXP=10):\n",
    "    pdf_b = stats.poisson(NBKG_EXP)\n",
    "    p_value = pdf_b.sf(NOBS)\n",
    "    print \"p-value: {:f}  z: {:.2f}  s/sqrt(b): {:.2f}\".format(p_value, p2z(p_value), (NOBS - NBKG_EXP) / np.sqrt(NBKG_EXP))\n",
    "    \n",
    "    #plot\n",
    "    x = np.arange(0, NBKG_EXP * 2)\n",
    "    y = pdf_b.pmf(x)\n",
    "    plt.plot(x, y, linestyle='steps', label='$P(N_{obs}|s=0)$')\n",
    "    plt.plot(x, stats.poisson(NBKG_EXP + NSIG_EXP).pmf(x), linestyle='steps', alpha=0.3, label='$P(N_{obs}|s=%d)$' % NSIG_EXP)\n",
    "    #plt.step(x, y, fillcolor='red')\n",
    "    #plt.fill_between(x, y, steps='pre')\n",
    "    plt.vlines(NOBS, 0, pdf_b.pmf(NOBS))\n",
    "    plt.legend(loc=0)"
   ]
  },
  {
   "cell_type": "markdown",
   "metadata": {
    "slideshow": {
     "slide_type": "subslide"
    }
   },
   "source": [
    "<small>\n",
    "   * Note that exclusing the null-hypothesis doesn't mean that we consider the alternative hypothesis true.   \n",
    "   * Note that what we have computed is $P(N_{obs} | \\text{no signal})$, which can be written more generally as $P(\\text{data}|\\text{model})$, so we are computing a probability about data.\n",
    "   * We are not computing a probability about the model ($P(\\text{model})$, which is what we want to know!)\n",
    "   * Remember the definition of probability in the frequenstis approach $P(E) = \\lim_{N\\to\\infty}\\frac{n}{N}$, where $n$ is the number of occurrences of an event $E$ in $N$ trials. This can only be applied to repeatable events\n",
    "   * Only in a Bayesian framework you can aswer (or compute the relative probability) questions like \"Is there the Higgs boson?\", \"Will it rain tomorrow?\", \"Was Napoleon murdered?\"\n",
    "   \n",
    "> \"Bayesians address the question everyone is interested in, by using\n",
    "> assumptions no-one believes\"\n",
    "\n",
    "> \"Frequentists use impeccable logic to deal with an issue of no interest to\n",
    ">anyone\"\n",
    "L. Lyons\n",
    "</small>\n",
    "  \n",
    "\n",
    "   "
   ]
  },
  {
   "cell_type": "code",
   "execution_count": 16,
   "metadata": {
    "collapsed": false,
    "slideshow": {
     "slide_type": "subslide"
    }
   },
   "outputs": [],
   "source": [
    "def eval_sensitivity(bkg_xsec=1000, signal_xsec_exp=10., signal_efficiency=0.8, bkg_rejection=100, max_lumi=8.):\n",
    "    luminosities = np.linspace(1E-9, max_lumi, 200)\n",
    "\n",
    "    pvalues, zs = [], []\n",
    "    for lumi in luminosities:\n",
    "        nsignal_exp = lumi * signal_xsec_exp * signal_efficiency\n",
    "        nbkg_exp = lumi * bkg_xsec / bkg_rejection\n",
    "        p_value = stats.poisson.sf(nsignal_exp + nbkg_exp, nbkg_exp)\n",
    "        pvalues.append(p_value)\n",
    "        zs.append(p2z(p_value))\n",
    "\n",
    "    s = luminosities * signal_xsec_exp * signal_efficiency  \n",
    "    b = luminosities * bkg_xsec / bkg_rejection\n",
    "    \n",
    "    approximation_z = s / np.sqrt(b)\n",
    "    formula_z = np.sqrt(2 * ((s + b) * np.log(1 + s / b) - s))\n",
    "        \n",
    "    fig, axs = plt.subplots(1, 2, figsize=(15, 5))\n",
    "    axs[0].plot(luminosities, zs, label='$z$')\n",
    "    axs[0].plot(luminosities, approximation_z, '--', label='$s/\\sqrt{b}$')\n",
    "    axs[0].plot(luminosities, formula_z, '--', label='$\\sqrt{2 ((s + b)  \\log(1 + s / b) - s)}$')\n",
    "    axs[0].set_ylim(0, 7); axs[1].set_ylim(1E-8, 0.5)\n",
    "    axs[0].set_ylabel('significance')\n",
    "    axs[0].legend()\n",
    "    axs[0].text(0.05, 0.8, '$s=L\\sigma_S\\epsilon_S = %.2f L$' % (signal_xsec_exp * signal_efficiency), transform=axs[0].transAxes)\n",
    "    axs[0].text(0.05, 0.9, '$b=L\\sigma_b\\epsilon_b = %.2f L$' % (bkg_xsec / bkg_rejection), transform=axs[0].transAxes)\n",
    "    axs[1].semilogy(luminosities, pvalues)\n",
    "    axs[1].set_ylabel('$p_0$')\n",
    "    \n",
    "    axs[1].hlines([z2p(z) for z in range(7)], 1E-9, max_lumi, linestyles='--', alpha=0.3)\n",
    "    \n",
    "    for ax in axs.flat:\n",
    "        ax.set_xlabel('luminosity')"
   ]
  },
  {
   "cell_type": "code",
   "execution_count": 17,
   "metadata": {
    "collapsed": false,
    "slideshow": {
     "slide_type": "subslide"
    }
   },
   "outputs": [
    {
     "data": {
      "image/png": "[encoded data removed]",
      "text/plain": [
       "<matplotlib.figure.Figure at 0x7f3671727450>"
      ]
     },
     "metadata": {},
     "output_type": "display_data"
    }
   ],
   "source": [
    "eval_sensitivity = interact(eval_sensitivity, bkg_xsec=(10, 10000),\n",
    "                            signal_xsec_exp=(0.1, 20),\n",
    "                            signal_efficiency=(0.7, 1, 0.01),\n",
    "                            bkg_rejection=(3, 500, 10),\n",
    "                            max_lumi=(1, 100))"
   ]
  },
  {
   "cell_type": "markdown",
   "metadata": {
    "slideshow": {
     "slide_type": "subslide"
    }
   },
   "source": [
    "### Exercize\n",
    "Explain the discontinuities in the previous plots.\n",
    "### Exercize\n",
    "Derive the approximation for the median expected significance $z\\simeq s/\\sqrt{b}$ when $s\\ll b$. Hint: use gaussian approximation of the Poisson distribution."
   ]
  },
  {
   "cell_type": "markdown",
   "metadata": {
    "slideshow": {
     "slide_type": "slide"
    }
   },
   "source": [
    "## Do it with RooFit / RooStats"
   ]
  },
  {
   "cell_type": "code",
   "execution_count": 47,
   "metadata": {
    "collapsed": false,
    "slideshow": {
     "slide_type": "-"
    }
   },
   "outputs": [],
   "source": [
    "S, B = 10, 20  # expected values\n",
    "\n",
    "ws = ROOT.RooWorkspace('ws')  # create the workspace\n",
    "b = ws.factory(\"b[%f]\" % B)  # create constant variable\n",
    "n_exp = ws.factory(\"sum::n_exp(s[%f], b)\" % S)\n",
    "# create a Poisson pdf, with n_exp expected events\n",
    "pdf = ws.factory(\"Poisson::signal(n_obs[0, 100], n_exp)\")\n",
    "# generate a random experiment\n",
    "aset = ROOT.RooArgSet(ws.var('n_obs'))\n",
    "data = pdf.generate(aset, 1)  # generate with 1 entry\n",
    "n_obs_val = data.get(0).first().getVal()"
   ]
  },
  {
   "cell_type": "markdown",
   "metadata": {},
   "source": [
    "### Exercize\n",
    "Explain why for a counting experiment we generate a dataset with 1 entry"
   ]
  },
  {
   "cell_type": "markdown",
   "metadata": {
    "variables": {
     "n_exp.getVal()": "1100.0",
     "n_obs_val": "1058.0",
     "ws.var('nbkg_exp').getVal()": "1000.0",
     "ws.var('nsig_exp').getVal()": "100.0"
    }
   },
   "source": [
    "We expect to observe $s+b =$ {{S}} + {{B}} = {{n_exp.getVal()}} events if there is a signal and {{B}} if there is only background. We observe {{n_obs_val}}. Is there a signal?"
   ]
  },
  {
   "cell_type": "markdown",
   "metadata": {
    "slideshow": {
     "slide_type": "subslide"
    }
   },
   "source": [
    "We have just defined the pdf(s) and the variables of the model, but the meaning of the various items is not defined (what is our observables?). `ModelConfig`: it bind the RooFit world (just define the model) to RooStats world (do inference with the model).\n",
    "\n",
    "Create two `ModelConfig`s for null (bkg-only) and alternate hypothesis (s+b)"
   ]
  },
  {
   "cell_type": "code",
   "execution_count": 48,
   "metadata": {
    "collapsed": false
   },
   "outputs": [],
   "source": [
    "# create a MC linked to the ws\n",
    "sbModel = RooStats.ModelConfig(\"sbmodel\", ws)   \n",
    "sbModel.SetPdf(pdf)\n",
    "sbModel.SetObservables('n_obs')  # it understands variable-names\n",
    "sbModel.SetParametersOfInterest('s')\n",
    "# save the value of s for (s+b)-hypothesis\n",
    "sbModel.SetSnapshot(ROOT.RooArgSet(ws.var('s')))  \n",
    "\n",
    "bModel = sbModel.Clone(\"bmodel\")  # create a bkg-only model\n",
    "ws.var('s').setVal(0)             # with no signal\n",
    "bModel.SetSnapshot(ROOT.RooArgSet(ws.var('s')))"
   ]
  },
  {
   "cell_type": "code",
   "execution_count": 49,
   "metadata": {
    "collapsed": false,
    "slideshow": {
     "slide_type": "subslide"
    }
   },
   "outputs": [
    {
     "data": {
      "image/svg+xml": [
       "<svg height=\"241pt\" viewBox=\"0.00 0.00 333.79 241.22\" width=\"334pt\" xmlns=\"http://www.w3.org/2000/svg\" xmlns:xlink=\"http://www.w3.org/1999/xlink\">\n",
       "<g class=\"graph\" id=\"graph0\" transform=\"scale(1 1) rotate(0) translate(4 237.22)\">\n",
       "<title>signal</title>\n",
       "<polygon fill=\"white\" points=\"-4,4 -4,-237.22 329.794,-237.22 329.794,4 -4,4\" stroke=\"none\"/>\n",
       "<!-- signal -->\n",
       "<g class=\"node\" id=\"node1\"><title>signal</title>\n",
       "<ellipse cx=\"128.397\" cy=\"-206.35\" fill=\"none\" rx=\"57.0522\" ry=\"26.7407\" stroke=\"red\"/>\n",
       "<text font-family=\"Times,serif\" font-size=\"14.00\" text-anchor=\"middle\" x=\"128.397\" y=\"-210.15\">RooPoisson</text>\n",
       "<text font-family=\"Times,serif\" font-size=\"14.00\" text-anchor=\"middle\" x=\"128.397\" y=\"-195.15\">signal</text>\n",
       "</g>\n",
       "<!-- n_obs -->\n",
       "<g class=\"node\" id=\"node2\"><title>n_obs</title>\n",
       "<ellipse cx=\"59.397\" cy=\"-116.61\" fill=\"none\" rx=\"59.2941\" ry=\"26.7407\" stroke=\"blue\"/>\n",
       "<text font-family=\"Times,serif\" font-size=\"14.00\" text-anchor=\"middle\" x=\"59.397\" y=\"-120.41\">RooRealVar</text>\n",
       "<text font-family=\"Times,serif\" font-size=\"14.00\" text-anchor=\"middle\" x=\"59.397\" y=\"-105.41\">n_obs</text>\n",
       "</g>\n",
       "<!-- signal&#45;&gt;n_obs -->\n",
       "<g class=\"edge\" id=\"edge4\"><title>signal-&gt;n_obs</title>\n",
       "<path d=\"M109.177,-180.91C101.688,-171.387 92.9958,-160.334 84.9904,-150.155\" fill=\"none\" stroke=\"black\"/>\n",
       "<polygon fill=\"black\" points=\"87.6864,-147.921 78.7536,-142.224 82.184,-152.248 87.6864,-147.921\" stroke=\"black\"/>\n",
       "</g>\n",
       "<!-- n_exp -->\n",
       "<g class=\"node\" id=\"node3\"><title>n_exp</title>\n",
       "<ellipse cx=\"198.397\" cy=\"-116.61\" fill=\"none\" rx=\"61.5366\" ry=\"26.7407\" stroke=\"red\"/>\n",
       "<text font-family=\"Times,serif\" font-size=\"14.00\" text-anchor=\"middle\" x=\"198.397\" y=\"-120.41\">RooAddition</text>\n",
       "<text font-family=\"Times,serif\" font-size=\"14.00\" text-anchor=\"middle\" x=\"198.397\" y=\"-105.41\">n_exp</text>\n",
       "</g>\n",
       "<!-- signal&#45;&gt;n_exp -->\n",
       "<g class=\"edge\" id=\"edge3\"><title>signal-&gt;n_exp</title>\n",
       "<path d=\"M147.896,-180.91C155.493,-171.387 164.311,-160.334 172.433,-150.155\" fill=\"none\" stroke=\"black\"/>\n",
       "<polygon fill=\"black\" points=\"175.259,-152.224 178.76,-142.224 169.787,-147.858 175.259,-152.224\" stroke=\"black\"/>\n",
       "</g>\n",
       "<!-- s -->\n",
       "<g class=\"node\" id=\"node4\"><title>s</title>\n",
       "<ellipse cx=\"129.397\" cy=\"-26.8701\" fill=\"none\" rx=\"59.2941\" ry=\"26.7407\" stroke=\"blue\"/>\n",
       "<text font-family=\"Times,serif\" font-size=\"14.00\" text-anchor=\"middle\" x=\"129.397\" y=\"-30.6701\">RooRealVar</text>\n",
       "<text font-family=\"Times,serif\" font-size=\"14.00\" text-anchor=\"middle\" x=\"129.397\" y=\"-15.6701\">s</text>\n",
       "</g>\n",
       "<!-- n_exp&#45;&gt;s -->\n",
       "<g class=\"edge\" id=\"edge1\"><title>n_exp-&gt;s</title>\n",
       "<path d=\"M178.809,-90.7021C171.463,-81.3609 163,-70.5996 155.177,-60.6521\" fill=\"none\" stroke=\"black\"/>\n",
       "<polygon fill=\"black\" points=\"157.728,-58.2337 148.795,-52.5368 152.226,-62.5609 157.728,-58.2337\" stroke=\"black\"/>\n",
       "</g>\n",
       "<!-- b -->\n",
       "<g class=\"node\" id=\"node5\"><title>b</title>\n",
       "<ellipse cx=\"266.397\" cy=\"-26.8701\" fill=\"none\" rx=\"59.2941\" ry=\"26.7407\" stroke=\"blue\"/>\n",
       "<text font-family=\"Times,serif\" font-size=\"14.00\" text-anchor=\"middle\" x=\"266.397\" y=\"-30.6701\">RooRealVar</text>\n",
       "<text font-family=\"Times,serif\" font-size=\"14.00\" text-anchor=\"middle\" x=\"266.397\" y=\"-15.6701\">b</text>\n",
       "</g>\n",
       "<!-- n_exp&#45;&gt;b -->\n",
       "<g class=\"edge\" id=\"edge2\"><title>n_exp-&gt;b</title>\n",
       "<path d=\"M217.701,-90.7021C224.941,-81.3609 233.281,-70.5996 240.99,-60.6521\" fill=\"none\" stroke=\"black\"/>\n",
       "<polygon fill=\"black\" points=\"243.92,-62.5849 247.28,-52.5368 238.388,-58.2968 243.92,-62.5849\" stroke=\"black\"/>\n",
       "</g>\n",
       "</g>\n",
       "</svg>"
      ],
      "text/plain": [
       "<IPython.core.display.SVG object>"
      ]
     },
     "execution_count": 49,
     "metadata": {},
     "output_type": "execute_result"
    }
   ],
   "source": [
    "pdf.graphVizTree(\"pdf_graph.dot\")\n",
    "!dot -Tsvg pdf_graph.dot > pdf_graph.svg; rm pdf_graph.dot\n",
    "SVG(\"pdf_graph.svg\")"
   ]
  },
  {
   "cell_type": "code",
   "execution_count": 50,
   "metadata": {
    "collapsed": false
   },
   "outputs": [],
   "source": [
    "ws.Print()"
   ]
  },
  {
   "cell_type": "markdown",
   "metadata": {
    "slideshow": {
     "slide_type": "subslide"
    }
   },
   "source": [
    "As we have done before, for the simple counting experiment, we have used as statistic the observables directly: `n_obs`. "
   ]
  },
  {
   "cell_type": "code",
   "execution_count": 51,
   "metadata": {
    "collapsed": false
   },
   "outputs": [
    {
     "data": {
      "text/plain": [
       "37.0"
      ]
     },
     "execution_count": 51,
     "metadata": {},
     "output_type": "execute_result"
    },
    {
     "name": "stdout",
     "output_type": "stream",
     "text": [
      "\r\n",
      "RooWorkspace(ws) ws contents\r\n",
      "\r\n",
      "variables\r\n",
      "---------\r\n",
      "(b,n_obs,s)\r\n",
      "\r\n",
      "p.d.f.s\r\n",
      "-------\r\n",
      "RooPoisson::signal[ x=n_obs mean=n_exp ] = 7.63019e-09\r\n",
      "\r\n",
      "functions\r\n",
      "--------\r\n",
      "RooAddition::n_exp[ s + b ] = 20\r\n",
      "\r\n",
      "parameter snapshots\r\n",
      "-------------------\r\n",
      "sbmodel__snapshot = (s=10[C])\r\n",
      "bmodel__snapshot = (s=0[C])\r\n",
      "\r\n",
      "named sets\r\n",
      "----------\r\n",
      "bmodel__snapshot:(s)\r\n",
      "sbmodel_Observables:(n_obs)\r\n",
      "sbmodel_POI:(s)\r\n",
      "sbmodel__snapshot:(s)\r\n",
      "\r\n"
     ]
    }
   ],
   "source": [
    "test = RooStats.NumEventsTestStat(pdf)\n",
    "test.Evaluate(data, ROOT.RooArgSet(ws.var('s')))"
   ]
  },
  {
   "cell_type": "markdown",
   "metadata": {},
   "source": [
    "The only missing ingredient is the distribution of the statistics, but in this trivial example we have defied it to be the number of observed events, so it is Poissonian by definition. What to do in more complicated case (many entries for 1 events, or just in case I want to use the squared number of events)?\n",
    "   * rely on asymtotic formulas (if any)\n",
    "   * general and expensive method: run pseudo-experiments (toys), see next slide"
   ]
  },
  {
   "cell_type": "markdown",
   "metadata": {
    "slideshow": {
     "slide_type": "subslide"
    }
   },
   "source": [
    "## Usage of `ToyMCSampler`"
   ]
  },
  {
   "cell_type": "code",
   "execution_count": 60,
   "metadata": {
    "collapsed": false,
    "slideshow": {
     "slide_type": "-"
    }
   },
   "outputs": [
    {
     "name": "stdout",
     "output_type": "stream",
     "text": [
      "[#0] PROGRESS:Generation -- generated toys: 500 / 100000\r\n",
      "[#0] PROGRESS:Generation -- generated toys: 1000 / 100000\r\n",
      "[#0] PROGRESS:Generation -- generated toys: 1500 / 100000\r\n",
      "[#0] PROGRESS:Generation -- generated toys: 2000 / 100000\r\n",
      "[#0] PROGRESS:Generation -- generated toys: 2500 / 100000\r\n",
      "[#0] PROGRESS:Generation -- generated toys: 3000 / 100000\r\n",
      "[#0] PROGRESS:Generation -- generated toys: 3500 / 100000\r\n",
      "[#0] PROGRESS:Generation -- generated toys: 4000 / 100000\r\n",
      "[#0] PROGRESS:Generation -- generated toys: 4500 / 100000\r\n",
      "[#0] PROGRESS:Generation -- generated toys: 5000 / 100000\r\n",
      "[#0] PROGRESS:Generation -- generated toys: 5500 / 100000\r\n",
      "[#0] PROGRESS:Generation -- generated toys: 6000 / 100000\r\n",
      "[#0] PROGRESS:Generation -- generated toys: 6500 / 100000\r\n",
      "[#0] PROGRESS:Generation -- generated toys: 7000 / 100000\r\n",
      "[#0] PROGRESS:Generation -- generated toys: 7500 / 100000\r\n",
      "[#0] PROGRESS:Generation -- generated toys: 8000 / 100000\r\n",
      "[#0] PROGRESS:Generation -- generated toys: 8500 / 100000\r\n",
      "[#0] PROGRESS:Generation -- generated toys: 9000 / 100000\r\n",
      "[#0] PROGRESS:Generation -- generated toys: 9500 / 100000\r\n",
      "[#0] PROGRESS:Generation -- generated toys: 10000 / 100000\r\n",
      "[#0] PROGRESS:Generation -- generated toys: 10500 / 100000\r\n",
      "[#0] PROGRESS:Generation -- generated toys: 11000 / 100000\r\n",
      "[#0] PROGRESS:Generation -- generated toys: 11500 / 100000\r\n",
      "[#0] PROGRESS:Generation -- generated toys: 12000 / 100000\r\n",
      "[#0] PROGRESS:Generation -- generated toys: 12500 / 100000\r\n",
      "[#0] PROGRESS:Generation -- generated toys: 13000 / 100000\r\n",
      "[#0] PROGRESS:Generation -- generated toys: 13500 / 100000\r\n",
      "[#0] PROGRESS:Generation -- generated toys: 14000 / 100000\r\n",
      "[#0] PROGRESS:Generation -- generated toys: 14500 / 100000\r\n",
      "[#0] PROGRESS:Generation -- generated toys: 15000 / 100000\r\n",
      "[#0] PROGRESS:Generation -- generated toys: 15500 / 100000\r\n",
      "[#0] PROGRESS:Generation -- generated toys: 16000 / 100000\r\n",
      "[#0] PROGRESS:Generation -- generated toys: 16500 / 100000\r\n",
      "[#0] PROGRESS:Generation -- generated toys: 17000 / 100000\r\n",
      "[#0] PROGRESS:Generation -- generated toys: 17500 / 100000\r\n",
      "[#0] PROGRESS:Generation -- generated toys: 18000 / 100000\r\n",
      "[#0] PROGRESS:Generation -- generated toys: 18500 / 100000\r\n",
      "[#0] PROGRESS:Generation -- generated toys: 19000 / 100000\r\n",
      "[#0] PROGRESS:Generation -- generated toys: 19500 / 100000\r\n",
      "[#0] PROGRESS:Generation -- generated toys: 20000 / 100000\r\n",
      "[#0] PROGRESS:Generation -- generated toys: 20500 / 100000\r\n",
      "[#0] PROGRESS:Generation -- generated toys: 21000 / 100000\r\n",
      "[#0] PROGRESS:Generation -- generated toys: 21500 / 100000\r\n",
      "[#0] PROGRESS:Generation -- generated toys: 22000 / 100000\r\n",
      "[#0] PROGRESS:Generation -- generated toys: 22500 / 100000\r\n",
      "[#0] PROGRESS:Generation -- generated toys: 23000 / 100000\r\n",
      "[#0] PROGRESS:Generation -- generated toys: 23500 / 100000\r\n",
      "[#0] PROGRESS:Generation -- generated toys: 24000 / 100000\r\n",
      "[#0] PROGRESS:Generation -- generated toys: 24500 / 100000\r\n",
      "[#0] PROGRESS:Generation -- generated toys: 25000 / 100000\r\n",
      "[#0] PROGRESS:Generation -- generated toys: 25500 / 100000\r\n",
      "[#0] PROGRESS:Generation -- generated toys: 26000 / 100000\r\n",
      "[#0] PROGRESS:Generation -- generated toys: 26500 / 100000\r\n",
      "[#0] PROGRESS:Generation -- generated toys: 27000 / 100000\r\n",
      "[#0] PROGRESS:Generation -- generated toys: 27500 / 100000\r\n",
      "[#0] PROGRESS:Generation -- generated toys: 28000 / 100000\r\n",
      "[#0] PROGRESS:Generation -- generated toys: 28500 / 100000\r\n",
      "[#0] PROGRESS:Generation -- generated toys: 29000 / 100000\r\n",
      "[#0] PROGRESS:Generation -- generated toys: 29500 / 100000\r\n",
      "[#0] PROGRESS:Generation -- generated toys: 30000 / 100000\r\n",
      "[#0] PROGRESS:Generation -- generated toys: 30500 / 100000\r\n",
      "[#0] PROGRESS:Generation -- generated toys: 31000 / 100000\r\n",
      "[#0] PROGRESS:Generation -- generated toys: 31500 / 100000\r\n",
      "[#0] PROGRESS:Generation -- generated toys: 32000 / 100000\r\n",
      "[#0] PROGRESS:Generation -- generated toys: 32500 / 100000\r\n",
      "[#0] PROGRESS:Generation -- generated toys: 33000 / 100000\r\n",
      "[#0] PROGRESS:Generation -- generated toys: 33500 / 100000\r\n",
      "[#0] PROGRESS:Generation -- generated toys: 34000 / 100000\r\n",
      "[#0] PROGRESS:Generation -- generated toys: 34500 / 100000\r\n",
      "[#0] PROGRESS:Generation -- generated toys: 35000 / 100000\r\n",
      "[#0] PROGRESS:Generation -- generated toys: 35500 / 100000\r\n",
      "[#0] PROGRESS:Generation -- generated toys: 36000 / 100000\r\n",
      "[#0] PROGRESS:Generation -- generated toys: 36500 / 100000\r\n",
      "[#0] PROGRESS:Generation -- generated toys: 37000 / 100000\r\n",
      "[#0] PROGRESS:Generation -- generated toys: 37500 / 100000\r\n",
      "[#0] PROGRESS:Generation -- generated toys: 38000 / 100000\r\n",
      "[#0] PROGRESS:Generation -- generated toys: 38500 / 100000\r\n",
      "[#0] PROGRESS:Generation -- generated toys: 39000 / 100000\r\n",
      "[#0] PROGRESS:Generation -- generated toys: 39500 / 100000\r\n",
      "[#0] PROGRESS:Generation -- generated toys: 40000 / 100000\r\n",
      "[#0] PROGRESS:Generation -- generated toys: 40500 / 100000\r\n",
      "[#0] PROGRESS:Generation -- generated toys: 41000 / 100000\r\n",
      "[#0] PROGRESS:Generation -- generated toys: 41500 / 100000\r\n",
      "[#0] PROGRESS:Generation -- generated toys: 42000 / 100000\r\n",
      "[#0] PROGRESS:Generation -- generated toys: 42500 / 100000\r\n",
      "[#0] PROGRESS:Generation -- generated toys: 43000 / 100000\r\n",
      "[#0] PROGRESS:Generation -- generated toys: 43500 / 100000\r\n",
      "[#0] PROGRESS:Generation -- generated toys: 44000 / 100000\r\n",
      "[#0] PROGRESS:Generation -- generated toys: 44500 / 100000\r\n",
      "[#0] PROGRESS:Generation -- generated toys: 45000 / 100000\r\n",
      "[#0] PROGRESS:Generation -- generated toys: 45500 / 100000\r\n",
      "[#0] PROGRESS:Generation -- generated toys: 46000 / 100000\r\n",
      "[#0] PROGRESS:Generation -- generated toys: 46500 / 100000\r\n",
      "[#0] PROGRESS:Generation -- generated toys: 47000 / 100000\r\n",
      "[#0] PROGRESS:Generation -- generated toys: 47500 / 100000\r\n",
      "[#0] PROGRESS:Generation -- generated toys: 48000 / 100000\r\n",
      "[#0] PROGRESS:Generation -- generated toys: 48500 / 100000\r\n",
      "[#0] PROGRESS:Generation -- generated toys: 49000 / 100000\r\n",
      "[#0] PROGRESS:Generation -- generated toys: 49500 / 100000\r\n",
      "[#0] PROGRESS:Generation -- generated toys: 50000 / 100000\r\n",
      "[#0] PROGRESS:Generation -- generated toys: 50500 / 100000\r\n",
      "[#0] PROGRESS:Generation -- generated toys: 51000 / 100000\r\n",
      "[#0] PROGRESS:Generation -- generated toys: 51500 / 100000\r\n",
      "[#0] PROGRESS:Generation -- generated toys: 52000 / 100000\r\n",
      "[#0] PROGRESS:Generation -- generated toys: 52500 / 100000\r\n",
      "[#0] PROGRESS:Generation -- generated toys: 53000 / 100000\r\n",
      "[#0] PROGRESS:Generation -- generated toys: 53500 / 100000\r\n",
      "[#0] PROGRESS:Generation -- generated toys: 54000 / 100000\r\n",
      "[#0] PROGRESS:Generation -- generated toys: 54500 / 100000\r\n",
      "[#0] PROGRESS:Generation -- generated toys: 55000 / 100000\r\n",
      "[#0] PROGRESS:Generation -- generated toys: 55500 / 100000\r\n",
      "[#0] PROGRESS:Generation -- generated toys: 56000 / 100000\r\n",
      "[#0] PROGRESS:Generation -- generated toys: 56500 / 100000\r\n",
      "[#0] PROGRESS:Generation -- generated toys: 57000 / 100000\r\n",
      "[#0] PROGRESS:Generation -- generated toys: 57500 / 100000\r\n",
      "[#0] PROGRESS:Generation -- generated toys: 58000 / 100000\r\n",
      "[#0] PROGRESS:Generation -- generated toys: 58500 / 100000\r\n",
      "[#0] PROGRESS:Generation -- generated toys: 59000 / 100000\r\n",
      "[#0] PROGRESS:Generation -- generated toys: 59500 / 100000\r\n",
      "[#0] PROGRESS:Generation -- generated toys: 60000 / 100000\r\n",
      "[#0] PROGRESS:Generation -- generated toys: 60500 / 100000\r\n",
      "[#0] PROGRESS:Generation -- generated toys: 61000 / 100000\r\n",
      "[#0] PROGRESS:Generation -- generated toys: 61500 / 100000\r\n",
      "[#0] PROGRESS:Generation -- generated toys: 62000 / 100000\r\n",
      "[#0] PROGRESS:Generation -- generated toys: 62500 / 100000\r\n",
      "[#0] PROGRESS:Generation -- generated toys: 63000 / 100000\r\n",
      "[#0] PROGRESS:Generation -- generated toys: 63500 / 100000\r\n",
      "[#0] PROGRESS:Generation -- generated toys: 64000 / 100000\r\n",
      "[#0] PROGRESS:Generation -- generated toys: 64500 / 100000\r\n",
      "[#0] PROGRESS:Generation -- generated toys: 65000 / 100000\r\n",
      "[#0] PROGRESS:Generation -- generated toys: 65500 / 100000\r\n",
      "[#0] PROGRESS:Generation -- generated toys: 66000 / 100000\r\n",
      "[#0] PROGRESS:Generation -- generated toys: 66500 / 100000\r\n",
      "[#0] PROGRESS:Generation -- generated toys: 67000 / 100000\r\n",
      "[#0] PROGRESS:Generation -- generated toys: 67500 / 100000\r\n",
      "[#0] PROGRESS:Generation -- generated toys: 68000 / 100000\r\n",
      "[#0] PROGRESS:Generation -- generated toys: 68500 "
     ]
    }
   ],
   "source": [
    "toy_sampler = RooStats.ToyMCSampler(test, 100000)  # configure to run 20000 toys\n",
    "toy_sampler.SetNEventsPerToy(1)                    # it is a counting experiment\n",
    "toy_sampler.SetObservables(bModel.GetObservables())\n",
    "toy_sampler.SetParametersForTestStat(bModel.GetParametersOfInterest())\n",
    "toy_sampler.SetPdf(pdf)\n",
    "\n",
    "test_distribution_b = toy_sampler.GetSamplingDistribution(bModel.GetParametersOfInterest())\n",
    "\n",
    "plot_test_distribution = RooStats.SamplingDistPlot(60, 0, 60)\n",
    "cuts = [test_distribution_b.InverseCDF(1 - z2p(z)) for z in range(1, 4)]\n",
    "for cut in cuts:\n",
    "    plot_test_distribution.AddSamplingDistributionShaded(test_distribution_b, -1000, cut)\n",
    "plot_test_distribution.AddSamplingDistribution(test_distribution_b)\n",
    "\n",
    "canvas = ROOT.TCanvas()\n",
    "plot_test_distribution.Draw()"
   ]
  },
  {
   "cell_type": "code",
   "execution_count": 61,
   "metadata": {
    "collapsed": false,
    "slideshow": {
     "slide_type": "subslide"
    }
   },
   "outputs": [
    {
     "data": {
      "image/png": "[encoded data removed]",
      "text/plain": [
       "<IPython.core.display.Image object>"
      ]
     },
     "metadata": {},
     "output_type": "display_data"
    },
    {
     "name": "stdout",
     "output_type": "stream",
     "text": [
      "/ 100000\r\n",
      "[#0] PROGRESS:Generation -- generated toys: 69000 / 100000\r\n",
      "[#0] PROGRESS:Generation -- generated toys: 69500 / 100000\r\n",
      "[#0] PROGRESS:Generation -- generated toys: 70000 / 100000\r\n",
      "[#0] PROGRESS:Generation -- generated toys: 70500 / 100000\r\n",
      "[#0] PROGRESS:Generation -- generated toys: 71000 / 100000\r\n",
      "[#0] PROGRESS:Generation -- generated toys: 71500 / 100000\r\n",
      "[#0] PROGRESS:Generation -- generated toys: 72000 / 100000\r\n",
      "[#0] PROGRESS:Generation -- generated toys: 72500 / 100000\r\n",
      "[#0] PROGRESS:Generation -- generated toys: 73000 / 100000\r\n",
      "[#0] PROGRESS:Generation -- generated toys: 73500 / 100000\r\n",
      "[#0] PROGRESS:Generation -- generated toys: 74000 / 100000\r\n",
      "[#0] PROGRESS:Generation -- generated toys: 74500 / 100000\r\n",
      "[#0] PROGRESS:Generation -- generated toys: 75000 / 100000\r\n",
      "[#0] PROGRESS:Generation -- generated toys: 75500 / 100000\r\n",
      "[#0] PROGRESS:Generation -- generated toys: 76000 / 100000\r\n",
      "[#0] PROGRESS:Generation -- generated toys: 76500 / 100000\r\n",
      "[#0] PROGRESS:Generation -- generated toys: 77000 / 100000\r\n",
      "[#0] PROGRESS:Generation -- generated toys: 77500 / 100000\r\n",
      "[#0] PROGRESS:Generation -- generated toys: 78000 / 100000\r\n",
      "[#0] PROGRESS:Generation -- generated toys: 78500 / 100000\r\n",
      "[#0] PROGRESS:Generation -- generated toys: 79000 / 100000\r\n",
      "[#0] PROGRESS:Generation -- generated toys: 79500 / 100000\r\n",
      "[#0] PROGRESS:Generation -- generated toys: 80000 / 100000\r\n",
      "[#0] PROGRESS:Generation -- generated toys: 80500 / 100000\r\n",
      "[#0] PROGRESS:Generation -- generated toys: 81000 / 100000\r\n",
      "[#0] PROGRESS:Generation -- generated toys: 81500 / 100000\r\n",
      "[#0] PROGRESS:Generation -- generated toys: 82000 / 100000\r\n",
      "[#0] PROGRESS:Generation -- generated toys: 82500 / 100000\r\n",
      "[#0] PROGRESS:Generation -- generated toys: 83000 / 100000\r\n",
      "[#0] PROGRESS:Generation -- generated toys: 83500 / 100000\r\n",
      "[#0] PROGRESS:Generation -- generated toys: 84000 / 100000\r\n",
      "[#0] PROGRESS:Generation -- generated toys: 84500 / 100000\r\n",
      "[#0] PROGRESS:Generation -- generated toys: 85000 / 100000\r\n",
      "[#0] PROGRESS:Generation -- generated toys: 85500 / 100000\r\n",
      "[#0] PROGRESS:Generation -- generated toys: 86000 / 100000\r\n",
      "[#0] PROGRESS:Generation -- generated toys: 86500 / 100000\r\n",
      "[#0] PROGRESS:Generation -- generated toys: 87000 / 100000\r\n",
      "[#0] PROGRESS:Generation -- generated toys: 87500 / 100000\r\n",
      "[#0] PROGRESS:Generation -- generated toys: 88000 / 100000\r\n",
      "[#0] PROGRESS:Generation -- generated toys: 88500 / 100000\r\n",
      "[#0] PROGRESS:Generation -- generated toys: 89000 / 100000\r\n",
      "[#0] PROGRESS:Generation -- generated toys: 89500 / 100000\r\n",
      "[#0] PROGRESS:Generation -- generated toys: 90000 / 100000\r\n",
      "[#0] PROGRESS:Generation -- generated toys: 90500 / 100000\r\n",
      "[#0] PROGRESS:Generation -- generated toys: 91000 / 100000\r\n",
      "[#0] PROGRESS:Generation -- generated toys: 91500 / 100000\r\n",
      "[#0] PROGRESS:Generation -- generated toys: 92000 / 100000\r\n",
      "[#0] PROGRESS:Generation -- generated toys: 92500 / 100000\r\n",
      "[#0] PROGRESS:Generation -- generated toys: 93000 / 100000\r\n",
      "[#0] PROGRESS:Generation -- generated toys: 93500 / 100000\r\n",
      "[#0] PROGRESS:Generation -- generated toys: 94000 / 100000\r\n",
      "[#0] PROGRESS:Generation -- generated toys: 94500 / 100000\r\n",
      "[#0] PROGRESS:Generation -- generated toys: 95000 / 100000\r\n",
      "[#0] PROGRESS:Generation -- generated toys: 95500 / 100000\r\n",
      "[#0] PROGRESS:Generation -- generated toys: 96000 / 100000\r\n",
      "[#0] PROGRESS:Generation -- generated toys: 96500 / 100000\r\n",
      "[#0] PROGRESS:Generation -- generated toys: 97000 / 100000\r\n",
      "[#0] PROGRESS:Generation -- generated toys: 97500 / 100000\r\n",
      "[#0] PROGRESS:Generation -- generated toys: 98000 / 100000\r\n",
      "[#0] PROGRESS:Generation -- generated toys: 98500 / 100000\r\n",
      "[#0] PROGRESS:Generation -- generated toys: 99000 / 100000\r\n",
      "[#0] PROGRESS:Generation -- generated toys: 99500 / 100000\r\n"
     ]
    }
   ],
   "source": [
    "canvas.SetLogy()\n",
    "canvas.Draw()"
   ]
  },
  {
   "cell_type": "markdown",
   "metadata": {},
   "source": [
    "The values corresponding to significance of 1,2,3,4 are shown. Too many toys are needed for high-significance, since we have to probe the tail of the distribution. Frequentist approach very expensive."
   ]
  },
  {
   "cell_type": "markdown",
   "metadata": {
    "slideshow": {
     "slide_type": "subslide"
    }
   },
   "source": [
    "Let use the `FrequentistCalculator` to compute the $p_0$ which use the `ToyMCCalculator` for both the hypotheses to compute the p-values. `FrequentistCalculator` is a `HypoTestCalculator` and returns a `HypoTestResults` via `GetHypoTest`, which contain the test results (p-values, ...)"
   ]
  },
  {
   "cell_type": "code",
   "execution_count": 62,
   "metadata": {
    "collapsed": false,
    "slideshow": {
     "slide_type": "-"
    }
   },
   "outputs": [
    {
     "name": "stdout",
     "output_type": "stream",
     "text": [
      "\r\n",
      "=== Using the following for bmodel ===\r\n",
      "Observables:             RooArgSet:: = (n_obs)\r\n",
      "Parameters of Interest:  RooArgSet:: = (s)\r\n",
      "PDF:                     RooPoisson::signal[ x=n_obs mean=n_exp ] = 7.63019e-09\r\n",
      "Snapshot:                \r\n",
      "  1) 0x563d02cab650 RooRealVar:: s = 0 C  L(-INF - +INF)  \"s\"\r\n",
      "\r\n",
      "\r\n",
      "=== Using the following for sbmodel ===\r\n",
      "Observables:             RooArgSet:: = (n_obs)\r\n",
      "Parameters of Interest:  RooArgSet:: = (s)\r\n",
      "PDF:                     RooPoisson::signal[ x=n_obs mean=n_exp ] = 7.63019e-09\r\n",
      "Snapshot:                \r\n",
      "  1) 0x563d02cab650 RooRealVar:: s = 10 C  L(-INF - +INF)  \"s\"\r\n",
      "\r\n",
      "[#0] PROGRESS:Generation -- Test Statistic on data: 37\r\n",
      "[#1] INFO:InputArguments -- Using a ToyMCSampler. Now configuring for Null.\r\n",
      "[#0] PROGRESS:Generation -- generated toys: 500 / 20000\r\n",
      "[#0] PROGRESS:Generation -- generated toys: 1000 / 20000\r\n",
      "[#0] PROGRESS:Generation -- generated toys: 1500 / 20000\r\n",
      "[#0] PROGRESS:Generation -- generated toys: 2000 / 20000\r\n",
      "[#0] PROGRESS:Generation -- generated toys: 2500 / 20000\r\n",
      "[#0] PROGRESS:Generation -- generated toys: 3000 / 20000\r\n",
      "[#0] PROGRESS:Generation -- generated toys: 3500 / 20000\r\n",
      "[#0] PROGRESS:Generation -- generated toys: 4000 / 20000\r\n",
      "[#0] PROGRESS:Generation -- generated toys: 4500 / 20000\r\n",
      "[#0] PROGRESS:Generation -- generated toys: 5000 / 20000\r\n",
      "[#0] PROGRESS:Generation -- generated toys: 5500 / 20000\r\n",
      "[#0] PROGRESS:Generation -- generated toys: 6000 / 20000\r\n",
      "[#0] PROGRESS:Generation -- generated toys: 6500 / 20000\r\n",
      "[#0] PROGRESS:Generation -- generated toys: 7000 / 20000\r\n",
      "[#0] PROGRESS:Generation -- generated toys: 7500 / 20000\r\n",
      "[#0] PROGRESS:Generation -- generated toys: 8000 / 20000\r\n",
      "[#0] PROGRESS:Generation -- generated toys: 8500 / 20000\r\n",
      "[#0] PROGRESS:Generation -- generated toys: 9000 / 20000\r\n",
      "[#0] PROGRESS:Generation -- generated toys: 9500 / 20000\r\n",
      "[#0] PROGRESS:Generation -- generated toys: 10000 / 20000\r\n",
      "[#0] PROGRESS:Generation -- generated toys: 10500 / 20000\r\n",
      "[#0] PROGRESS:Generation -- generated toys: 11000 / 20000\r\n",
      "[#0] PROGRESS:Generation -- generated toys: 11500 / 20000\r\n",
      "[#0] PROGRESS:Generation -- generated toys: 12000 / 20000\r\n",
      "[#0] PROGRESS:Generation -- generated toys: 12500 / 20000\r\n",
      "[#0] PROGRESS:Generation -- generated toys: 13000 / 20000\r\n",
      "[#0] PROGRESS:Generation -- generated toys: 13500 / 20000\r\n",
      "[#0] PROGRESS:Generation -- generated toys: 14000 / 20000\r\n",
      "[#0] PROGRESS:Generation -- generated toys: 14500 / 20000\r\n",
      "[#0] PROGRESS:Generation -- generated toys: 15000 / 20000\r\n",
      "[#0] PROGRESS:Generation -- generated toys: 15500 / 20000\r\n",
      "[#0] PROGRESS:Generation -- generated toys: 16000 / 20000\r\n",
      "[#0] PROGRESS:Generation -- generated toys: 16500 / 20000\r\n",
      "[#0] PROGRESS:Generation -- generated toys: 17000 / 20000\r\n",
      "[#0] PROGRESS:Generation -- generated toys: 17500 / 20000\r\n",
      "[#0] PROGRESS:Generation -- generated toys: 18000 / 20000\r\n",
      "[#0] PROGRESS:Generation -- generated toys: 18500 / 20000\r\n",
      "[#0] PROGRESS:Generation -- generated toys: 19000 / 20000\r\n",
      "[#0] PROGRESS:Generation -- generated toys: 19500 / 20000\r\n",
      "[#1] INFO:InputArguments -- Using a ToyMCSampler. Now configuring for Alt.\r\n",
      "[#0] PROGRESS:Generation -- generated toys: 500 / 1000\r\n"
     ]
    }
   ],
   "source": [
    "# the sb model is not really needed in this case\n",
    "hypoCalc = RooStats.FrequentistCalculator(data, sbModel, bModel)\n",
    "hypoCalc.SetToys(20000, 1000)  # generate much more toys for bkg-only\n",
    "\n",
    "toy_sampler = hypoCalc.GetTestStatSampler()\n",
    "toy_sampler.SetTestStatistic(test)  # our test statistics\n",
    "toy_sampler.SetNEventsPerToy(1)\n",
    "\n",
    "htr = hypoCalc.GetHypoTest()\n",
    "htr.SetPValueIsRightTail(True)  # the \"extreme\" cases are on the right tail\n",
    "htr.SetBackgroundAsAlt(False)"
   ]
  },
  {
   "cell_type": "code",
   "execution_count": 65,
   "metadata": {
    "collapsed": false
   },
   "outputs": [
    {
     "data": {
      "image/png": "[encoded data removed]",
      "text/plain": [
       "<IPython.core.display.Image object>"
      ]
     },
     "metadata": {},
     "output_type": "display_data"
    },
    {
     "name": "stdout",
     "output_type": "stream",
     "text": [
      "(frequentist)        p0 = 0.0006 ± 0.0002  z = 3.24 ± 0.08\n",
      "(from Poisson distr) p0 = 0.00022  z = 3.52\n"
     ]
    },
    {
     "data": {
      "text/latex": [
       "$\\sqrt{2(n \\log(n/b) + b - n)} = 3.39$"
      ],
      "text/plain": [
       "<IPython.core.display.Latex object>"
      ]
     },
     "execution_count": 65,
     "metadata": {},
     "output_type": "execute_result"
    }
   ],
   "source": [
    "plot = RooStats.HypoTestPlot(htr, 60, 0, 60)  # 60 bins\n",
    "canvas = ROOT.TCanvas()\n",
    "plot.Draw()\n",
    "canvas.SetLogy()\n",
    "canvas.Draw()\n",
    "print u\"(frequentist)        p0 = %.2g ± %.1g  z = %.2f ± %.1g\" % (htr.NullPValue(), htr.NullPValueError(), htr.Significance(), htr.SignificanceError())\n",
    "z_formula = np.sqrt(2 * (n_obs_val * np.log(n_obs_val / B) + B - n_obs_val))\n",
    "p0_poisson = stats.poisson(B).sf(n_obs_val)\n",
    "print \"(from Poisson distr) p0 = %.2g  z = %.2f\" % (p0_poisson, p2z(p0_poisson))\n",
    "Latex(\"$\\sqrt{2(n \\log(n/b) + b - n)} = %.2f$\" % z_formula)"
   ]
  },
  {
   "cell_type": "code",
   "execution_count": null,
   "metadata": {
    "collapsed": true
   },
   "outputs": [],
   "source": []
  }
 ],
 "metadata": {
  "celltoolbar": "Slideshow",
  "hide_input": false,
  "kernelspec": {
   "display_name": "Python 2",
   "language": "python",
   "name": "python2"
  },
  "language_info": {
   "codemirror_mode": {
    "name": "ipython",
    "version": 2
   },
   "file_extension": ".py",
   "mimetype": "text/x-python",
   "name": "python",
   "nbconvert_exporter": "python",
   "pygments_lexer": "ipython2",
   "version": "2.7.10"
  },
  "latex_envs": {
   "bibliofile": "biblio.bib",
   "cite_by": "apalike",
   "current_citInitial": 1,
   "eqLabelWithNumbers": true,
   "eqNumInitial": 0
  }
 },
 "nbformat": 4,
 "nbformat_minor": 0
}
