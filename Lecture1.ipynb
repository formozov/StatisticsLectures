{
 "cells": [
  {
   "cell_type": "code",
   "execution_count": 1,
   "metadata": {
    "collapsed": false,
    "slideshow": {
     "slide_type": "skip"
    }
   },
   "outputs": [],
   "source": [
    "from matplotlib import pyplot as plt\n",
    "import numpy as np\n",
    "from scipy import stats\n",
    "from IPython.display import HTML, IFrame\n",
    "#import ROOT\n",
    "#from ROOT import RooFit\n",
    "%matplotlib inline\n",
    "from ipywidgets import interact, interactive, fixed"
   ]
  },
  {
   "cell_type": "code",
   "execution_count": 2,
   "metadata": {
    "collapsed": false,
    "slideshow": {
     "slide_type": "skip"
    }
   },
   "outputs": [
    {
     "data": {
      "text/html": [
       "<link rel=\"stylesheet\" href=\"custom.css\" type=\"text/css\">"
      ],
      "text/plain": [
       "<IPython.core.display.HTML object>"
      ]
     },
     "execution_count": 2,
     "metadata": {},
     "output_type": "execute_result"
    }
   ],
   "source": [
    "HTML('<link rel=\"stylesheet\" href=\"custom.css\" type=\"text/css\">')"
   ]
  },
  {
   "cell_type": "code",
   "execution_count": 3,
   "metadata": {
    "collapsed": false,
    "slideshow": {
     "slide_type": "skip"
    }
   },
   "outputs": [
    {
     "data": {
      "text/plain": [
       "{u'theme': 'sans', u'transition': 'zoom'}"
      ]
     },
     "execution_count": 3,
     "metadata": {},
     "output_type": "execute_result"
    }
   ],
   "source": [
    "from notebook.services.config import ConfigManager\n",
    "cm = ConfigManager()\n",
    "cm.update('livereveal', {\n",
    "          'theme': 'sans',\n",
    "          'transition': 'zoom',\n",
    "})"
   ]
  },
  {
   "cell_type": "markdown",
   "metadata": {
    "slideshow": {
     "slide_type": "slide"
    }
   },
   "source": [
    "# Lecture 1\n",
    "\n",
    "<p style=\"text-align: center;\"><i class=\"icon-user icon-2x\"> [ruggero.turra@mi.infn.it](mailto:ruggero.turra@mi.infn.it)</i></p>\n",
    "<br/>\n",
    "\n",
    "## Content of the day\n",
    "\n",
    "   * Basic notion you should already have\n",
    "   * Introduction to inferential statistics\n",
    "   * Counting experiments\n",
    "   * p-values, type-1, type-2 errors"
   ]
  },
  {
   "cell_type": "markdown",
   "metadata": {
    "slideshow": {
     "slide_type": "slide"
    }
   },
   "source": [
    "## Intro to the lectures\n",
    "   * This is not a course on [RooFit](https://root.cern.ch/roofit) / [RooStats](https://twiki.cern.ch/twiki/bin/view/RooStats/WebTopicList) / ...\n",
    "   * This is not a course of python / [numpy](http://www.numpy.org/) / [matplotlib](http://matplotlib.org/) / ...\n",
    "   * I have just collected some examples that can be interesting for your studies with the minimal-needed theory\n",
    "\n",
    "<small>\n",
    "These lectures are available on https://github.com/wiso/StatisticsLectures as [jupyter](http://jupyter.org/) (previous [ipython](http://ipython.org/) notebook) notebook. They can be shown as interactive slides using [RISE](https://github.com/damianavila/RISE). It works also with a simple `jupyter nbconvert --to slides file.ipynb --post serve`, but style is not optimized. </small>"
   ]
  },
  {
   "cell_type": "markdown",
   "metadata": {
    "slideshow": {
     "slide_type": "slide"
    }
   },
   "source": [
    "## Resources\n",
    "\n",
    "* [Kyle Cranmer](http://orcid.org/0000-0002-5769-7094) [lectures](https://indico.cern.ch/event/117033/other-view?view=standard) and [proceedings](https://cds.cern.ch/record/2004587/files/arXiv:1503.07622.pdf) at 2011 ESHEP (see page 3 for many books)\n",
    "* Kyle Cranmer [lectures](https://indico.cern.ch/event/243641/) for summer students in 2013"
   ]
  },
  {
   "cell_type": "code",
   "execution_count": 4,
   "metadata": {
    "collapsed": false,
    "hide_input": false,
    "scrolled": true,
    "slideshow": {
     "slide_type": "-"
    }
   },
   "outputs": [
    {
     "data": {
      "text/html": [
       "<iframe width=\"49%\" height=\"300\" src=\"https://indico.cern.ch/event/117033/contribution/19/attachments/55755/80228/Cranmer_L1.pdf\" frameborder=\"0\" allowfullscreen></iframe>\n",
       "     <iframe width=\"49%\" height=\"300\" src=\"https://indico.cern.ch/event/243641/\" frameborder=\"0\" allowfullscreen></iframe>"
      ],
      "text/plain": [
       "<IPython.core.display.HTML object>"
      ]
     },
     "execution_count": 4,
     "metadata": {},
     "output_type": "execute_result"
    }
   ],
   "source": [
    "HTML('''<iframe width=\"49%\" height=\"300\" src=\"https://indico.cern.ch/event/117033/contribution/19/attachments/55755/80228/Cranmer_L1.pdf\" frameborder=\"0\" allowfullscreen></iframe>\n",
    "     <iframe width=\"49%\" height=\"300\" src=\"https://indico.cern.ch/event/243641/\" frameborder=\"0\" allowfullscreen></iframe>''')"
   ]
  },
  {
   "cell_type": "markdown",
   "metadata": {
    "slideshow": {
     "slide_type": "subslide"
    }
   },
   "source": [
    "[Luca Lista](http://people.na.infn.it/~lista/Statistics/) with RooStats examples"
   ]
  },
  {
   "cell_type": "code",
   "execution_count": 5,
   "metadata": {
    "collapsed": false,
    "hide_input": false
   },
   "outputs": [
    {
     "data": {
      "text/html": [
       "\n",
       "        <iframe\n",
       "            width=\"900\"\n",
       "            height=\"400\"\n",
       "            src=\"http://people.na.infn.it/~lista/Statistics/\"\n",
       "            frameborder=\"0\"\n",
       "            allowfullscreen\n",
       "        ></iframe>\n",
       "        "
      ],
      "text/plain": [
       "<IPython.lib.display.IFrame at 0x7f946508e190>"
      ]
     },
     "execution_count": 5,
     "metadata": {},
     "output_type": "execute_result"
    }
   ],
   "source": [
    "IFrame('http://people.na.infn.it/~lista/Statistics/', width=900, height=400)"
   ]
  },
  {
   "cell_type": "markdown",
   "metadata": {
    "slideshow": {
     "slide_type": "subslide"
    }
   },
   "source": [
    "LHC discovery related:\n",
    "\n",
    "   * Eilam Gross [LHC Statistics for Pedestrians](http://cds.cern.ch/record/1099994/files/p205.pdf)\n",
    "   * [Asymptotic formulae for likelihood-based tests of new physics](http://arxiv.org/pdf/1007.1727v3.pdf)\n",
    "   * [Procedure for the LHC Higgs boson search\n",
    "combination in Summer 2011](https://cds.cern.ch/record/1379837/files/NOTE2011_005.pdf)\n",
    "\n",
    "   \n",
    "Others:\n",
    "   * Gerhard Bohm, Günter Zech [\"Introduction to Statistics and Data\n",
    "Analysis for Physicists\"](http://www-library.desy.de/preparch/books/vstatmp_engl.pdf)\n",
    "   * Roger Barlow [\"Systematic Errors: Facts and Fictions\"](http://arxiv.org/pdf/hep-ex/0207026v1.pdf)\n",
    "   * Grégory Schott [RooStats for Searches](http://indico.cern.ch/event/107747/contribution/25/attachments/24332/35016/schott_2011.01.17__RooStats_talk.pdf)\n"
   ]
  },
  {
   "cell_type": "markdown",
   "metadata": {
    "slideshow": {
     "slide_type": "slide"
    }
   },
   "source": [
    "   * Statistics seems easy, since usually problems can described with a simple language. But it is not...\n",
    "   * Easy questions: do we have discovered the Higgs boson?"
   ]
  },
  {
   "cell_type": "markdown",
   "metadata": {
    "collapsed": true,
    "slideshow": {
     "slide_type": "slide"
    }
   },
   "source": [
    "## Basic concepts you should already have\n",
    "\n",
    "### about probability\n",
    "\n",
    "Given a (continuos) random variable $X$:\n",
    "   * <strong>CDF</strong>: $F_X(x) = P(X\\geq x)$\n",
    "   * <strong>PDF</strong>: $f_X = \\frac{dF_X}{dx}$\n",
    "   * <strong>Expected value</strong>\n",
    "   $E[X] = \\mu = \\int x f_X(x) dx$\n",
    "   * <strong>Variance</strong>:   \n",
    "   $V[X] = E[(X - \\mu)^2]$\n",
    "   * <strong>Covariance</strong>:   \n",
    "   $\\operatorname{cov}(X,Y) = \\operatorname{E}{\\big[(X - \\operatorname{E}[X])(Y - \\operatorname{E}[Y])\\big]} = \\\\\n",
    "   \\operatorname{E}\\left[X Y\\right] - \\operatorname{E}\\left[X\\right]\\operatorname{E}\\left[Y\\right]$"
   ]
  },
  {
   "cell_type": "markdown",
   "metadata": {
    "slideshow": {
     "slide_type": "subslide"
    }
   },
   "source": [
    "### Exercize\n",
    "   * Having a sample $\\{x_i\\}_i^n$, it is well know that $s^2 = \\frac{1}{n-1} \\sum_{i=1}^n \\left(x_i - \\overline{x} \\right)^2$ is a unbiased estimator ($E[\\text{bias}]=E[s^2 - V[X]] = 0$) for the variance\n",
    "   * Show analytically that $\\sqrt{s^2}$ is not an unbiased estimator for the standard deviation $\\sigma_X=\\sqrt{V[X]}$ (hint: $E$ is linear, $\\sqrt{\\,\\,\\,}$ is not)"
   ]
  },
  {
   "cell_type": "markdown",
   "metadata": {
    "slideshow": {
     "slide_type": "subslide"
    }
   },
   "source": [
    "#### Non-analytical solution\n",
    "\n",
    "Let generate many pseudo-experiments (toys), to see the bias of $\\sqrt{s^2}$. Every toy is made by a normal sample."
   ]
  },
  {
   "cell_type": "code",
   "execution_count": 6,
   "metadata": {
    "collapsed": true,
    "slideshow": {
     "slide_type": "-"
    }
   },
   "outputs": [],
   "source": [
    "POPULATION_STD_DEV = 3  # standard deviation of the population\n",
    "SIZE = 5                # size of the sample (for every toy)\n",
    "NTOYS = 1000            # number of toys\n",
    "\n",
    "# consider two versions of s^2 (with/without Bessel correction)\n",
    "all_bias_std, all_bias_std_corr = [], []\n",
    "\n",
    "for itoy in range(NTOYS):\n",
    "    # generate a sample\n",
    "    sample = np.random.normal(loc=0., scale=POPULATION_STD_DEV,\n",
    "                              size=SIZE)\n",
    "    \n",
    "    # compute the bias for the two definitions\n",
    "    all_bias_std.append(np.std(sample) - POPULATION_STD_DEV)\n",
    "    all_bias_std_corr.append(np.std(sample, ddof=1) - POPULATION_STD_DEV)"
   ]
  },
  {
   "cell_type": "markdown",
   "metadata": {
    "slideshow": {
     "slide_type": "subslide"
    }
   },
   "source": [
    "Much faster code with vectorization"
   ]
  },
  {
   "cell_type": "code",
   "execution_count": 7,
   "metadata": {
    "collapsed": false
   },
   "outputs": [],
   "source": [
    "NTOYS = 1000000\n",
    "samples = np.random.normal(loc=0., scale=POPULATION_STD_DEV,\n",
    "                           size=(NTOYS, 5))\n",
    "all_bias_std = np.std(samples, axis=1) - POPULATION_STD_DEV\n",
    "all_bias_std_corr = np.std(samples, axis=1, ddof=1) - POPULATION_STD_DEV"
   ]
  },
  {
   "cell_type": "code",
   "execution_count": 9,
   "metadata": {
    "collapsed": false,
    "slideshow": {
     "slide_type": "skip"
    }
   },
   "outputs": [],
   "source": [
    "# plot it\n",
    "mean_bias_non_corr, err_bias_non_corr = [f(all_bias_std) for f in (np.mean, stats.sem)]\n",
    "mean_bias_corr, err_bias_corr = [f(all_bias_std_corr) for f in (np.mean, stats.sem)]\n",
    "\n",
    "fig, ax = plt.subplots(figsize=(14, 7))\n",
    "bins = np.linspace(-1.2 * POPULATION_STD_DEV, 2 * POPULATION_STD_DEV, 100)\n",
    "ax.hist(all_bias_std, bins, histtype='step', normed=True, label='non-corr %.3f$\\pm$%.3f' % (mean_bias_non_corr, err_bias_non_corr))\n",
    "ax.hist(all_bias_std_corr, bins, histtype='step', normed=True, label='corr %.3f$\\pm$%.3f' % (mean_bias_corr, err_bias_corr))\n",
    "bias_pdf = stats.chi(df=SIZE-1, loc=-POPULATION_STD_DEV, scale = POPULATION_STD_DEV / (np.sqrt(SIZE - 1) ))\n",
    "bias_pdf_integral_window = bias_pdf.cdf(bins.max()) - bias_pdf.cdf(bins.min())\n",
    "ax.plot(bins, bias_pdf.pdf(bins) / bias_pdf_integral_window, label='$\\chi_{n-1}((\\mathrm{bias} + \\sigma) \\sqrt{n - 1} / \\sigma)$')\n",
    "ax.set_xlabel('bias')\n",
    "ax.legend()\n",
    "plt.close()"
   ]
  },
  {
   "cell_type": "code",
   "execution_count": 10,
   "metadata": {
    "collapsed": false,
    "slideshow": {
     "slide_type": "subslide"
    }
   },
   "outputs": [
    {
     "data": {
      "image/png": "[encoded data removed]",
      "text/plain": [
       "<matplotlib.figure.Figure at 0x7f943d9cb450>"
      ]
     },
     "execution_count": 10,
     "metadata": {},
     "output_type": "execute_result"
    }
   ],
   "source": [
    "fig"
   ]
  },
  {
   "cell_type": "markdown",
   "metadata": {
    "slideshow": {
     "slide_type": "fragment"
    }
   },
   "source": [
    "<small>For a normal distribution $y^2\\sim\\chi^2_{n-1}$ with $y=\\sqrt{n-1}s/\\sigma$ by [Cochran's theorem](https://en.wikipedia.org/wiki/Cochran%27s_theorem), so in principle it is possibile to have an analytical expression for an unbiased estimator</small>"
   ]
  },
  {
   "cell_type": "markdown",
   "metadata": {
    "slideshow": {
     "slide_type": "fragment"
    }
   },
   "source": [
    "Can we draw a conclusions from these numbers? (answer=yes, detail in the rest of the lecture)"
   ]
  },
  {
   "cell_type": "markdown",
   "metadata": {
    "slideshow": {
     "slide_type": "subslide"
    }
   },
   "source": [
    "   * <strong>Statistic</strong>: a function of the data\n",
    "   * <strong>Conditional probability</strong> $P(A|B) = P(A\\cap B) / P(B)$\n",
    "      - 2% $\\stackrel{?}{=}$ P(to be pregnant|to be woman) $\\neq$ P(to be woman|to be pregnant) = 1\n",
    "   * <strong>Bayes theorem</strong> $P(A|B)P(B) = P(B|A)P(A)$\n",
    "   * <strong>Likelihood</strong>: $\\mathcal{L}(\\theta|\\text{data}) = P(\\text{data}|\\theta)$"
   ]
  },
  {
   "cell_type": "code",
   "execution_count": 11,
   "metadata": {
    "collapsed": false,
    "slideshow": {
     "slide_type": "skip"
    }
   },
   "outputs": [
    {
     "data": {
      "image/png": "[encoded data removed]",
      "text/plain": [
       "<matplotlib.figure.Figure at 0x7f943d9031d0>"
      ]
     },
     "metadata": {},
     "output_type": "display_data"
    }
   ],
   "source": [
    "fig_gaussian, axs = plt.subplots(1, 2, figsize=(15, 4))\n",
    "x = np.linspace(-5, 5, 100)\n",
    "norm = stats.norm\n",
    "y = norm.pdf(x)\n",
    "z = 1.\n",
    "mask = x > z\n",
    "for ax in axs.flat:\n",
    "    ax.plot(x, y)\n",
    "axs[0].fill_between(x[mask], y[mask])\n",
    "pvalue = norm.sf(z)\n",
    "axs[0].annotate(\"p-value = %.2f\" % pvalue, xy=(2, norm.pdf(2)), xytext=(z*2, 0.2), ha='left', arrowprops=dict(arrowstyle=\"->\", connectionstyle=\"arc3,rad=-0.1\", facecolor='black'))\n",
    "axs[0].set_xticks(list(axs[0].get_xticks()) + [z])\n",
    "\n",
    "z = norm.isf(pvalue / 2.)\n",
    "axs[1].fill_between(x[x>z], y[x>z])\n",
    "axs[1].fill_between(x[x<-z], y[x<-z])\n",
    "axs[1].set_xticks(list(axs[1].get_xticks()) + [z, -z])\n",
    "\n",
    "for ax in axs.flat:\n",
    "    ax.set_xlim(-5, 5)\n",
    "    ax.set_ylim(0, 0.45)\n",
    "\n",
    "plt.show()\n"
   ]
  },
  {
   "cell_type": "markdown",
   "metadata": {
    "slideshow": {
     "slide_type": "slide"
    }
   },
   "source": [
    "## Normal significance\n",
    "\n",
    "Usually p-values are translated in a more-friendly normal-significance (number of sigmas) $z$. With the one-tail definition this is the value (quantile) corresponding to a certain p-value for a standard gaussian:\n",
    "\n",
    "$$ \\int_z^\\infty N[x| 0, 1] dx = \\text{p-value}$$\n",
    "\n",
    "or $ \\int_z^\\infty + \\int_{-\\infty}^{-z} N[x|0,1] dx = \\text{p-value}$ for the two-tail definition."
   ]
  },
  {
   "cell_type": "code",
   "execution_count": 12,
   "metadata": {
    "collapsed": false
   },
   "outputs": [
    {
     "data": {
      "image/png": "[encoded data removed]",
      "text/plain": [
       "<matplotlib.figure.Figure at 0x7f943d9031d0>"
      ]
     },
     "execution_count": 12,
     "metadata": {},
     "output_type": "execute_result"
    }
   ],
   "source": [
    "fig_gaussian"
   ]
  },
  {
   "cell_type": "markdown",
   "metadata": {
    "slideshow": {
     "slide_type": "subslide"
    }
   },
   "source": [
    "$$ \\int_z^\\infty N[x| 0, 1] dx = \\text{p-value}$$\n",
    "\n",
    "Taking into account the definition of the cumulative density function of a normal distribution, $\\Phi(z) = \\int_{-\\infty}^{z} N[x| 0, 1] dx$, this can be written as:\n",
    "\n",
    "$$ z = \\Phi^{-1}(1 - \\text{p-value})$$\n",
    "\n",
    "or taking into account the definition of the survival function $SF(z) = 1 - CDF(z)$:\n",
    "\n",
    "$$ z = \\text{SF}^{-1}(\\text{p-value})$$"
   ]
  },
  {
   "cell_type": "code",
   "execution_count": 13,
   "metadata": {
    "collapsed": true,
    "slideshow": {
     "slide_type": "subslide"
    }
   },
   "outputs": [],
   "source": [
    "def get_significance(p_value, onetail=True):\n",
    "    if not onetail:\n",
    "        p_value /= 2\n",
    "    return stats.norm.isf(p_value)  # inverse of the survival function"
   ]
  },
  {
   "cell_type": "code",
   "execution_count": 14,
   "metadata": {
    "collapsed": false,
    "slideshow": {
     "slide_type": "skip"
    }
   },
   "outputs": [],
   "source": [
    "table = '<table float=\"left\"><tr><td>p-value</td><td>z (one tail)</td><td>z (two tails)</td></tr>'\n",
    "for p_value in np.logspace(-1, -8, 8):\n",
    "    table += \"<tr><td>%.5g</td><td>%.3f</td><td>%.3f</td></tr>\" % (p_value, get_significance(p_value), get_significance(p_value, False))\n",
    "table += \"</table>\"\n",
    "\n",
    "table += '<table float=\"left\"><tr><td>z (one tail)</td><td>p-value</td></tr>'\n",
    "for z in np.arange(1, 7):\n",
    "    pvalue = stats.norm.sf(z)\n",
    "    table += \"<tr><td>%.2f</td><td>%.2g</td></tr>\" % (z, pvalue)\n",
    "table += \"</table>\"    "
   ]
  },
  {
   "cell_type": "code",
   "execution_count": 15,
   "metadata": {
    "collapsed": false
   },
   "outputs": [
    {
     "data": {
      "text/html": [
       "<table float=\"left\"><tr><td>p-value</td><td>z (one tail)</td><td>z (two tails)</td></tr><tr><td>0.1</td><td>1.282</td><td>1.645</td></tr><tr><td>0.01</td><td>2.326</td><td>2.576</td></tr><tr><td>0.001</td><td>3.090</td><td>3.291</td></tr><tr><td>0.0001</td><td>3.719</td><td>3.891</td></tr><tr><td>1e-05</td><td>4.265</td><td>4.417</td></tr><tr><td>1e-06</td><td>4.753</td><td>4.892</td></tr><tr><td>1e-07</td><td>5.199</td><td>5.327</td></tr><tr><td>1e-08</td><td>5.612</td><td>5.731</td></tr></table><table float=\"left\"><tr><td>z (one tail)</td><td>p-value</td></tr><tr><td>1.00</td><td>0.16</td></tr><tr><td>2.00</td><td>0.023</td></tr><tr><td>3.00</td><td>0.0013</td></tr><tr><td>4.00</td><td>3.2e-05</td></tr><tr><td>5.00</td><td>2.9e-07</td></tr><tr><td>6.00</td><td>9.9e-10</td></tr></table>"
      ],
      "text/plain": [
       "<IPython.core.display.HTML object>"
      ]
     },
     "execution_count": 15,
     "metadata": {},
     "output_type": "execute_result"
    }
   ],
   "source": [
    "HTML(table)"
   ]
  },
  {
   "cell_type": "markdown",
   "metadata": {},
   "source": [
    "In HEP usually we call \"evidence\" deviation at $3\\sigma$ ($z=3$) and \"discovery\" at $5\\sigma$. In other field much bigger p-values (smaller significance) are used."
   ]
  },
  {
   "cell_type": "markdown",
   "metadata": {
    "slideshow": {
     "slide_type": "slide"
    }
   },
   "source": [
    "Counting model: observed events $N_{obs}$ distributed as Poisson distribution. Observed events can be signal or background. We know the prediction (expected) for the background: $N_{bkg}^{exp}$. \n",
    "\n",
    "Question: is there a signal? Compute the p-value.\n",
    "   * null hypothesis = background-only (expected signal = 0)\n",
    "   * Observable: $N_{obs}$\n",
    "   * Statistics: $N_{obs}$\n",
    "\n",
    "$P(N_{obs} | \\text{no signal}) = \\text{Poisson}[N_{obs}|N_{bkg}^{exp}]$. \n",
    "\n",
    "$$\\text{p-value} = \\int_{N_{obs}}^{\\infty} P(N_{obs}|\\text{no signal})$$"
   ]
  },
  {
   "cell_type": "code",
   "execution_count": 16,
   "metadata": {
    "collapsed": false,
    "slideshow": {
     "slide_type": "subslide"
    }
   },
   "outputs": [
    {
     "name": "stdout",
     "output_type": "stream",
     "text": [
      "p-value: 0.177883  z: 0.92  s/sqrt(b): 0.85\n"
     ]
    },
    {
     "data": {
      "image/png": "[encoded data removed]",
      "text/plain": [
       "<matplotlib.figure.Figure at 0x7f943d7a5ad0>"
      ]
     },
     "metadata": {},
     "output_type": "display_data"
    }
   ],
   "source": [
    "@interact(NBKG_EXP=(1, 100), NOBS=(1, 100), NSIG_EXP=(0, 20))\n",
    "def simple_example_poisson(NBKG_EXP=50, NOBS=60, NSIG_EXP=10):\n",
    "    pdf_b = stats.poisson(NBKG_EXP)\n",
    "    p_value = pdf_b.sf(NOBS)\n",
    "    print \"p-value: {:f}  z: {:.2f}  s/sqrt(b): {:.2f}\".format(p_value, get_significance(p_value), (NOBS - NBKG_EXP) / np.sqrt(NBKG_EXP))\n",
    "    \n",
    "    #plot\n",
    "    x = np.arange(0, NBKG_EXP * 2)\n",
    "    y = pdf_b.pmf(x)\n",
    "    plt.plot(x, y, linestyle='steps', label='$P(N_{obs}|s=0)$')\n",
    "    plt.plot(x, stats.poisson(NBKG_EXP + NSIG_EXP).pmf(x), linestyle='steps', alpha=0.3, label='$P(N_{obs}|s=%d)$' % NSIG_EXP)\n",
    "    #plt.step(x, y, fillcolor='red')\n",
    "    #plt.fill_between(x, y, steps='pre')\n",
    "    plt.vlines(NOBS, 0, pdf_b.pmf(NOBS))\n",
    "    plt.legend(loc=0)"
   ]
  },
  {
   "cell_type": "markdown",
   "metadata": {
    "slideshow": {
     "slide_type": "subslide"
    }
   },
   "source": [
    "<small>\n",
    "   * Note that exclusing the null-hypothesis doesn't mean that we consider the alternative hypothesis true.   \n",
    "   * Note that what we have computed is $P(N_{obs} | \\text{no signal})$, which can be written more generally as $P(\\text{data}|\\text{model})$, so we are computing a probability about data.\n",
    "   * We are not computing a probability about the model ($P(\\text{model})$, which is what we want to know!)\n",
    "   * Remember the definition of probability in the frequenstis approach $P(E) = \\lim_{N\\to\\infty}\\frac{n}{N}$, where $n$ is the number of occurrences of an event $E$ in $N$ trials. This can only be applied to repeatable events\n",
    "   * Only in a Bayesian framework you can aswer (or compute the relative probability) questions like \"Is there the Higgs boson?\", \"Will it rain tomorrow?\", \"Was Napoleon murdered?\"\n",
    "   \n",
    "> \"Bayesians address the question everyone is interested in, by using\n",
    "> assumptions no-one believes\"\n",
    "\n",
    "> \"Frequentists use impeccable logic to deal with an issue of no interest to\n",
    ">anyone\"\n",
    "L. Lyons\n",
    "</small>\n",
    "  \n",
    "\n",
    "   "
   ]
  },
  {
   "cell_type": "code",
   "execution_count": 35,
   "metadata": {
    "collapsed": false,
    "slideshow": {
     "slide_type": "subslide"
    }
   },
   "outputs": [],
   "source": [
    "def eval_sensitivity(signal_efficiency=0.8, bkg_rejection=10):\n",
    "    bkg_xsec = 1000.; signal_xsec_exp = 1.\n",
    "    luminosities = np.linspace(0., 200., 200)\n",
    "\n",
    "    pvalues, zs = [], []\n",
    "    for lumi in luminosities:\n",
    "        nsignal_exp = lumi * signal_xsec_exp * signal_efficiency\n",
    "        nbkg_exp = lumi * bkg_xsec / bkg_rejection\n",
    "        p_value = stats.poisson.sf(nsignal_exp + nbkg_exp, nbkg_exp)\n",
    "        pvalues.append(p_value)\n",
    "        zs.append(get_significance(p_value))\n",
    "\n",
    "    fig, axs = plt.subplots(1, 2, figsize=(15, 5))\n",
    "    axs[0].plot(luminosities, zs)\n",
    "    axs[0].set_ylim(0, 6); axs[1].set_ylim(0.001, 0.3)\n",
    "    axs[1].semilogy(luminosities, pvalues)\n",
    "    \n",
    "    for ax in axs.flat:\n",
    "        ax.set_xlabel('luminosity')"
   ]
  },
  {
   "cell_type": "code",
   "execution_count": 36,
   "metadata": {
    "collapsed": false,
    "slideshow": {
     "slide_type": "subslide"
    }
   },
   "outputs": [
    {
     "data": {
      "image/png": "[encoded data removed]",
      "text/plain": [
       "<matplotlib.figure.Figure at 0x7f943cf2fb90>"
      ]
     },
     "metadata": {},
     "output_type": "display_data"
    }
   ],
   "source": [
    "eval_sensitivity = interact(eval_sensitivity, signal_efficiency=(0.7, 1, 0.01), bkg_rejection=(3, 500, 10))"
   ]
  },
  {
   "cell_type": "code",
   "execution_count": 19,
   "metadata": {
    "collapsed": false,
    "slideshow": {
     "slide_type": "slide"
    }
   },
   "outputs": [
    {
     "ename": "NameError",
     "evalue": "name 'ROOT' is not defined",
     "output_type": "error",
     "traceback": [
      "\u001b[1;31m---------------------------------------------------------------------------\u001b[0m",
      "\u001b[1;31mNameError\u001b[0m                                 Traceback (most recent call last)",
      "\u001b[1;32m<ipython-input-19-aeb1d7a73425>\u001b[0m in \u001b[0;36m<module>\u001b[1;34m()\u001b[0m\n\u001b[1;32m----> 1\u001b[1;33m \u001b[0mws\u001b[0m \u001b[1;33m=\u001b[0m \u001b[0mROOT\u001b[0m\u001b[1;33m.\u001b[0m\u001b[0mRooWorkspace\u001b[0m\u001b[1;33m(\u001b[0m\u001b[1;34m'ws'\u001b[0m\u001b[1;33m)\u001b[0m\u001b[1;33m\u001b[0m\u001b[0m\n\u001b[0m\u001b[0;32m      2\u001b[0m \u001b[0mnbkg_exp\u001b[0m \u001b[1;33m=\u001b[0m \u001b[0mws\u001b[0m\u001b[1;33m.\u001b[0m\u001b[0mfactory\u001b[0m\u001b[1;33m(\u001b[0m\u001b[1;34m\"nbkg_exp[1000]\"\u001b[0m\u001b[1;33m)\u001b[0m\u001b[1;33m\u001b[0m\u001b[0m\n\u001b[0;32m      3\u001b[0m \u001b[0mn_exp\u001b[0m \u001b[1;33m=\u001b[0m \u001b[0mws\u001b[0m\u001b[1;33m.\u001b[0m\u001b[0mfactory\u001b[0m\u001b[1;33m(\u001b[0m\u001b[1;34m\"sum::n_exp(nsig_exp[100], nbkg_exp)\"\u001b[0m\u001b[1;33m)\u001b[0m\u001b[1;33m\u001b[0m\u001b[0m\n\u001b[0;32m      4\u001b[0m \u001b[0mpdf\u001b[0m \u001b[1;33m=\u001b[0m \u001b[0mws\u001b[0m\u001b[1;33m.\u001b[0m\u001b[0mfactory\u001b[0m\u001b[1;33m(\u001b[0m\u001b[1;34m\"Poisson::signal(n_obs[0, 10000], n_exp)\"\u001b[0m\u001b[1;33m)\u001b[0m\u001b[1;33m\u001b[0m\u001b[0m\n\u001b[0;32m      5\u001b[0m \u001b[0maset\u001b[0m \u001b[1;33m=\u001b[0m \u001b[0mROOT\u001b[0m\u001b[1;33m.\u001b[0m\u001b[0mRooArgSet\u001b[0m\u001b[1;33m(\u001b[0m\u001b[0mws\u001b[0m\u001b[1;33m.\u001b[0m\u001b[0mvar\u001b[0m\u001b[1;33m(\u001b[0m\u001b[1;34m'n_obs'\u001b[0m\u001b[1;33m)\u001b[0m\u001b[1;33m)\u001b[0m\u001b[1;33m\u001b[0m\u001b[0m\n",
      "\u001b[1;31mNameError\u001b[0m: name 'ROOT' is not defined"
     ]
    }
   ],
   "source": [
    "ws = ROOT.RooWorkspace('ws')\n",
    "nbkg_exp = ws.factory(\"nbkg_exp[1000]\")\n",
    "n_exp = ws.factory(\"sum::n_exp(nsig_exp[100], nbkg_exp)\")\n",
    "pdf = ws.factory(\"Poisson::signal(n_obs[0, 10000], n_exp)\")\n",
    "aset = ROOT.RooArgSet(ws.var('n_obs'))\n",
    "data = pdf.generate(aset, 1)\n",
    "n_obs_val = data.get(0).first().getVal()"
   ]
  },
  {
   "cell_type": "markdown",
   "metadata": {
    "variables": {
     "n_exp.getVal()": "1100.0",
     "n_obs_val": "1058.0",
     "ws.var('nbkg_exp').getVal()": "1000.0",
     "ws.var('nsig_exp').getVal()": "100.0"
    }
   },
   "source": [
    "We expect to observe $s+b =$ {{ws.var('nsig_exp').getVal()}} + {{ws.var('nbkg_exp').getVal()}} = {{n_exp.getVal()}} events if there is a signal and {{ws.var('nbkg_exp').getVal()}} if there is only background. We observe {{n_obs_val}}. Is there a signal?"
   ]
  },
  {
   "cell_type": "markdown",
   "metadata": {},
   "source": [
    "As first step compute the significance as $s / \\sqrt{b}$"
   ]
  },
  {
   "cell_type": "code",
   "execution_count": null,
   "metadata": {
    "collapsed": false
   },
   "outputs": [],
   "source": [
    "(n_obs_val - nbkg_exp.getVal()) / np.sqrt(nbkg_exp.getVal())"
   ]
  },
  {
   "cell_type": "code",
   "execution_count": null,
   "metadata": {
    "collapsed": true
   },
   "outputs": [],
   "source": []
  }
 ],
 "metadata": {
  "celltoolbar": "Slideshow",
  "hide_input": false,
  "kernelspec": {
   "display_name": "Python 2",
   "language": "python",
   "name": "python2"
  },
  "language_info": {
   "codemirror_mode": {
    "name": "ipython",
    "version": 2
   },
   "file_extension": ".py",
   "mimetype": "text/x-python",
   "name": "python",
   "nbconvert_exporter": "python",
   "pygments_lexer": "ipython2",
   "version": "2.7.10"
  },
  "latex_envs": {
   "bibliofile": "biblio.bib",
   "cite_by": "apalike",
   "current_citInitial": 1,
   "eqLabelWithNumbers": true,
   "eqNumInitial": 0
  }
 },
 "nbformat": 4,
 "nbformat_minor": 0
}
