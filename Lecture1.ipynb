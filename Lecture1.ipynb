{
 "cells": [
  {
   "cell_type": "code",
   "execution_count": 1,
   "metadata": {
    "collapsed": false,
    "slideshow": {
     "slide_type": "skip"
    }
   },
   "outputs": [],
   "source": [
    "from matplotlib import pyplot as plt\n",
    "import numpy as np\n",
    "from scipy import stats\n",
    "%matplotlib inline"
   ]
  },
  {
   "cell_type": "code",
   "execution_count": 3,
   "metadata": {
    "collapsed": false,
    "slideshow": {
     "slide_type": "skip"
    }
   },
   "outputs": [
    {
     "data": {
      "text/plain": [
       "{u'start_slideshow_at': 3, u'theme': 'sky', u'transition': 'zoom'}"
      ]
     },
     "execution_count": 3,
     "metadata": {},
     "output_type": "execute_result"
    }
   ],
   "source": [
    "from notebook.services.config import ConfigManager\n",
    "cm = ConfigManager()\n",
    "cm.update('livereveal', {\n",
    "          'theme': 'sky',\n",
    "          'transition': 'zoom',\n",
    "})"
   ]
  },
  {
   "cell_type": "markdown",
   "metadata": {
    "slideshow": {
     "slide_type": "slide"
    }
   },
   "source": [
    "# Lecture 1\n",
    "\n",
    "<p style=\"text-align: center;\"><i class=\"icon-user icon-2x\"> [ruggero.turra@mi.infn.it](mailto:ruggero.turra@mi.infn.it)</i></p>\n",
    "\n",
    "## Content of the day\n",
    "\n",
    "   * Basic notion you should already have\n",
    "   * Introduction to inferential statistics"
   ]
  },
  {
   "cell_type": "markdown",
   "metadata": {
    "slideshow": {
     "slide_type": "slide"
    }
   },
   "source": [
    "## Intro to the lectures\n",
    "   * This is not a course on [RooFit](https://root.cern.ch/roofit) / [RooStats](https://twiki.cern.ch/twiki/bin/view/RooStats/WebTopicList) / ...\n",
    "   * This is not a course of python / [numpy](http://www.numpy.org/) / [matplotlib](http://matplotlib.org/) / ...\n",
    "   * I have just collected some examples that can be interested for your studies with the minimal-needed theory\n",
    "\n",
    "<small>\n",
    "These lectures are available on my [GitHub repository](https://github.com/wiso/StatisticsLectures) as [jupyter](http://jupyter.org/) (previous [ipython](http://ipython.org/) notebook) notebook. They can be shown as interactive slides using [RISE](https://github.com/damianavila/RISE).</small>"
   ]
  },
  {
   "cell_type": "markdown",
   "metadata": {
    "slideshow": {
     "slide_type": "slide"
    }
   },
   "source": [
    "   * Statistics seems easy, since usually problems can described with a simple language. But it is not...\n",
    "   * Easy questions: do we have discovered the Higgs boson?"
   ]
  },
  {
   "cell_type": "markdown",
   "metadata": {
    "collapsed": true,
    "slideshow": {
     "slide_type": "slide"
    }
   },
   "source": [
    "## Basic concepts you should already have\n",
    "\n",
    "   * <strong>Expected value</strong> of a random variable $X$:\n",
    "   \n",
    "   $E[X] = \\mu = \\int x f_X(x) dx$\n",
    "   * <strong>Variance</strong>:\n",
    "   \n",
    "   $V[X] = E[(X - \\mu)^2]$\n",
    "   * <strong>Covariance</strong>:\n",
    "   \n",
    "   $\\operatorname{cov}(X,Y) = \\operatorname{E}{\\big[(X - \\operatorname{E}[X])(Y - \\operatorname{E}[Y])\\big]} = \\\\\n",
    "   \\operatorname{E}\\left[X Y\\right] - \\operatorname{E}\\left[X\\right]\\operatorname{E}\\left[Y\\right]$"
   ]
  },
  {
   "cell_type": "markdown",
   "metadata": {
    "slideshow": {
     "slide_type": "subslide"
    }
   },
   "source": [
    "   * <strong>Mean of a sample</strong>: $\\bar x = \\frac{1}{n}\\sum{x_i}$"
   ]
  },
  {
   "cell_type": "markdown",
   "metadata": {
    "slideshow": {
     "slide_type": "subslide"
    }
   },
   "source": [
    "### Exercize\n",
    "   * It is well know that $s^2 = \\frac{1}{n-1} \\sum_{i=1}^n \\left(y_i - \\overline{y} \\right)^2$ is a unbiased estimator ($E[\\text{bias}]=E[s^2 - V[X]) = 0$) for the variance\n",
    "   * Show analytically that $\\sqrt{s^2}$ is not an unbiased estimator for the standard deviation $\\sigma_X=\\sqrt{V[X]}$ (hint: $E$ is linear, $\\sqrt{\\,\\,\\,}$ is not)"
   ]
  },
  {
   "cell_type": "markdown",
   "metadata": {
    "slideshow": {
     "slide_type": "subslide"
    }
   },
   "source": [
    "Let generate many toys, to see the bias of $\\sqrt{s^2}$. Every toy is made by a normal sample."
   ]
  },
  {
   "cell_type": "code",
   "execution_count": 4,
   "metadata": {
    "collapsed": true,
    "slideshow": {
     "slide_type": "-"
    }
   },
   "outputs": [],
   "source": [
    "import numpy as np\n",
    "\n",
    "POPULATION_STD_DEV = 3\n",
    "SIZE = 5\n",
    "NTOYS = 1000\n",
    "\n",
    "all_bias_std, all_bias_std_corr = [], []\n",
    "\n",
    "for itoy in range(NTOYS):\n",
    "    # generate a sample\n",
    "    sample = np.random.normal(loc=0., scale=POPULATION_STD_DEV, size=SIZE)\n",
    "    \n",
    "    # compute the std with the two definitions\n",
    "    all_bias_std.append(np.std(sample) - POPULATION_STD_DEV)\n",
    "    all_bias_std_corr.append(np.std(sample, ddof=1) - POPULATION_STD_DEV)"
   ]
  },
  {
   "cell_type": "markdown",
   "metadata": {
    "slideshow": {
     "slide_type": "subslide"
    }
   },
   "source": [
    "Much faster code with vectorization"
   ]
  },
  {
   "cell_type": "code",
   "execution_count": 15,
   "metadata": {
    "collapsed": false
   },
   "outputs": [],
   "source": [
    "NTOYS = 1000000\n",
    "samples = np.random.normal(loc=0., scale=POPULATION_STD_DEV, size=(NTOYS, 5))\n",
    "all_bias_std = np.std(samples, axis=1) - POPULATION_STD_DEV\n",
    "all_bias_std_corr = np.std(samples, axis=1, ddof=1) - POPULATION_STD_DEV"
   ]
  },
  {
   "cell_type": "code",
   "execution_count": 17,
   "metadata": {
    "collapsed": false,
    "slideshow": {
     "slide_type": "subslide"
    }
   },
   "outputs": [
    {
     "data": {
      "image/png": "[encoded data removed]",
      "text/plain": [
       "<matplotlib.figure.Figure at 0x5a31050>"
      ]
     },
     "metadata": {},
     "output_type": "display_data"
    }
   ],
   "source": [
    "# plot it\n",
    "\n",
    "mean_bias_non_corr, err_bias_non_corr = [f(all_bias_std) for f in (np.mean, stats.sem)]\n",
    "mean_bias_corr, err_bias_corr = [f(all_bias_std_corr) for f in (np.mean, stats.sem)]\n",
    "    \n",
    "fig, ax = plt.subplots()\n",
    "bins = np.linspace(-POPULATION_STD_DEV, POPULATION_STD_DEV, 100)\n",
    "ax.hist(all_bias_std, bins, histtype='step', label='non-corr %.3f$\\pm$%.3f' % (mean_bias_non_corr, err_bias_non_corr))\n",
    "ax.hist(all_bias_std_corr, bins, histtype='step', label='corr %.3f$\\pm$%.3f' % (mean_bias_corr, err_bias_corr))\n",
    "ax.set_xlabel('bias')\n",
    "ax.legend()\n",
    "plt.show()"
   ]
  },
  {
   "cell_type": "markdown",
   "metadata": {
    "slideshow": {
     "slide_type": "fragment"
    }
   },
   "source": [
    "Can we draw a conclusions from these numbers? (answer=yes, detail in the rest of the lecture)"
   ]
  },
  {
   "cell_type": "code",
   "execution_count": 2,
   "metadata": {
    "collapsed": true
   },
   "outputs": [],
   "source": [
    "import ROOT"
   ]
  },
  {
   "cell_type": "code",
   "execution_count": 3,
   "metadata": {
    "collapsed": false
   },
   "outputs": [
    {
     "data": {
      "text/plain": [
       "<ROOT._Configuration at 0x2368320>"
      ]
     },
     "execution_count": 3,
     "metadata": {},
     "output_type": "execute_result"
    }
   ],
   "source": [
    "ROOT.PyConfig"
   ]
  },
  {
   "cell_type": "code",
   "execution_count": null,
   "metadata": {
    "collapsed": true
   },
   "outputs": [],
   "source": []
  }
 ],
 "metadata": {
  "celltoolbar": "Slideshow",
  "kernelspec": {
   "display_name": "Python 2",
   "language": "python",
   "name": "python2"
  },
  "language_info": {
   "codemirror_mode": {
    "name": "ipython",
    "version": 2
   },
   "file_extension": ".py",
   "mimetype": "text/x-python",
   "name": "python",
   "nbconvert_exporter": "python",
   "pygments_lexer": "ipython2",
   "version": "2.7.5"
  },
  "livereveal": {
   "theme": "serif"
  }
 },
 "nbformat": 4,
 "nbformat_minor": 0
}
