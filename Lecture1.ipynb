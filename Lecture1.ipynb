{
 "cells": [
  {
   "cell_type": "code",
   "execution_count": 12,
   "metadata": {
    "collapsed": false,
    "slideshow": {
     "slide_type": "skip"
    }
   },
   "outputs": [],
   "source": [
    "from matplotlib import pyplot as plt\n",
    "import numpy as np\n",
    "from scipy import stats\n",
    "from IPython.display import HTML, IFrame\n",
    "import ROOT\n",
    "from ROOT import RooFit\n",
    "%matplotlib inline"
   ]
  },
  {
   "cell_type": "code",
   "execution_count": 3,
   "metadata": {
    "collapsed": false,
    "slideshow": {
     "slide_type": "skip"
    }
   },
   "outputs": [
    {
     "data": {
      "text/html": [
       "<link rel=\"stylesheet\" href=\"custom.css\" type=\"text/css\">"
      ],
      "text/plain": [
       "<IPython.core.display.HTML object>"
      ]
     },
     "execution_count": 3,
     "metadata": {},
     "output_type": "execute_result"
    }
   ],
   "source": [
    "HTML('<link rel=\"stylesheet\" href=\"custom.css\" type=\"text/css\">')"
   ]
  },
  {
   "cell_type": "code",
   "execution_count": 4,
   "metadata": {
    "collapsed": false,
    "slideshow": {
     "slide_type": "skip"
    }
   },
   "outputs": [
    {
     "data": {
      "text/plain": [
       "{u'start_slideshow_at': 3, u'theme': 'sans', u'transition': 'zoom'}"
      ]
     },
     "execution_count": 4,
     "metadata": {},
     "output_type": "execute_result"
    }
   ],
   "source": [
    "from notebook.services.config import ConfigManager\n",
    "cm = ConfigManager()\n",
    "cm.update('livereveal', {\n",
    "          'theme': 'sans',\n",
    "          'transition': 'zoom',\n",
    "})"
   ]
  },
  {
   "cell_type": "markdown",
   "metadata": {
    "slideshow": {
     "slide_type": "slide"
    }
   },
   "source": [
    "# Lecture 1\n",
    "\n",
    "<p style=\"text-align: center;\"><i class=\"icon-user icon-2x\"> [ruggero.turra@mi.infn.it](mailto:ruggero.turra@mi.infn.it)</i></p>\n",
    "\n",
    "## Content of the day\n",
    "\n",
    "   * Basic notion you should already have\n",
    "   * Introduction to inferential statistics"
   ]
  },
  {
   "cell_type": "markdown",
   "metadata": {
    "slideshow": {
     "slide_type": "slide"
    }
   },
   "source": [
    "## Intro to the lectures\n",
    "   * This is not a course on [RooFit](https://root.cern.ch/roofit) / [RooStats](https://twiki.cern.ch/twiki/bin/view/RooStats/WebTopicList) / ...\n",
    "   * This is not a course of python / [numpy](http://www.numpy.org/) / [matplotlib](http://matplotlib.org/) / ...\n",
    "   * I have just collected some examples that can be interested for your studies with the minimal-needed theory\n",
    "\n",
    "<small>\n",
    "These lectures are available on my [GitHub repository](https://github.com/wiso/StatisticsLectures) as [jupyter](http://jupyter.org/) (previous [ipython](http://ipython.org/) notebook) notebook. They can be shown as interactive slides using [RISE](https://github.com/damianavila/RISE).</small>"
   ]
  },
  {
   "cell_type": "markdown",
   "metadata": {
    "slideshow": {
     "slide_type": "slide"
    }
   },
   "source": [
    "## Resources\n",
    "\n",
    "* [Kyle Cranmer](http://orcid.org/0000-0002-5769-7094) [lectures](https://indico.cern.ch/event/117033/other-view?view=standard) and [proceedings](https://cds.cern.ch/record/2004587/files/arXiv:1503.07622.pdf) at 2011 ESHEP (see page 3 for many books)\n",
    "* Kyle Cranmer [lectures](https://indico.cern.ch/event/243641/) for summer students in 2013"
   ]
  },
  {
   "cell_type": "code",
   "execution_count": 5,
   "metadata": {
    "collapsed": false,
    "hide_input": false,
    "scrolled": true,
    "slideshow": {
     "slide_type": "-"
    }
   },
   "outputs": [
    {
     "data": {
      "text/html": [
       "<iframe width=\"49%\" height=\"300\" src=\"https://indico.cern.ch/event/117033/contribution/19/attachments/55755/80228/Cranmer_L1.pdf\" frameborder=\"0\" allowfullscreen></iframe>\n",
       "     <iframe width=\"49%\" height=\"300\" src=\"https://indico.cern.ch/event/243641/\" frameborder=\"0\" allowfullscreen></iframe>"
      ],
      "text/plain": [
       "<IPython.core.display.HTML object>"
      ]
     },
     "execution_count": 5,
     "metadata": {},
     "output_type": "execute_result"
    }
   ],
   "source": [
    "HTML('''<iframe width=\"49%\" height=\"300\" src=\"https://indico.cern.ch/event/117033/contribution/19/attachments/55755/80228/Cranmer_L1.pdf\" frameborder=\"0\" allowfullscreen></iframe>\n",
    "     <iframe width=\"49%\" height=\"300\" src=\"https://indico.cern.ch/event/243641/\" frameborder=\"0\" allowfullscreen></iframe>''')"
   ]
  },
  {
   "cell_type": "markdown",
   "metadata": {
    "slideshow": {
     "slide_type": "subslide"
    }
   },
   "source": [
    "[Luca Lista](http://people.na.infn.it/~lista/Statistics/) with RooStats examples"
   ]
  },
  {
   "cell_type": "code",
   "execution_count": 6,
   "metadata": {
    "collapsed": false,
    "hide_input": false
   },
   "outputs": [
    {
     "data": {
      "text/html": [
       "\n",
       "        <iframe\n",
       "            width=\"900\"\n",
       "            height=\"400\"\n",
       "            src=\"http://people.na.infn.it/~lista/Statistics/\"\n",
       "            frameborder=\"0\"\n",
       "            allowfullscreen\n",
       "        ></iframe>\n",
       "        "
      ],
      "text/plain": [
       "<IPython.lib.display.IFrame at 0x448b350>"
      ]
     },
     "execution_count": 6,
     "metadata": {},
     "output_type": "execute_result"
    }
   ],
   "source": [
    "IFrame('http://people.na.infn.it/~lista/Statistics/', width=900, height=400)"
   ]
  },
  {
   "cell_type": "markdown",
   "metadata": {
    "slideshow": {
     "slide_type": "subslide"
    }
   },
   "source": [
    "LHC discovery related:\n",
    "\n",
    "   * Eilam Gross [LHC Statistics for Pedestrians](http://cds.cern.ch/record/1099994/files/p205.pdf)\n",
    "   * [Asymptotic formulae for likelihood-based tests of new physics](http://arxiv.org/pdf/1007.1727v3.pdf)\n",
    "   * [Procedure for the LHC Higgs boson search\n",
    "combination in Summer 2011](https://cds.cern.ch/record/1379837/files/NOTE2011_005.pdf)\n",
    "\n",
    "   \n",
    "Others:\n",
    "   * Gerhard Bohm, Günter Zech [\"Introduction to Statistics and Data\n",
    "Analysis for Physicists\"](http://www-library.desy.de/preparch/books/vstatmp_engl.pdf)\n",
    "   * Roger Barlow [\"Systematic Errors: Facts and Fictions\"](http://arxiv.org/pdf/hep-ex/0207026v1.pdf)\n",
    "   * Grégory Schott [RooStats for Searches](http://indico.cern.ch/event/107747/contribution/25/attachments/24332/35016/schott_2011.01.17__RooStats_talk.pdf)\n"
   ]
  },
  {
   "cell_type": "markdown",
   "metadata": {
    "slideshow": {
     "slide_type": "slide"
    }
   },
   "source": [
    "   * Statistics seems easy, since usually problems can described with a simple language. But it is not...\n",
    "   * Easy questions: do we have discovered the Higgs boson?"
   ]
  },
  {
   "cell_type": "markdown",
   "metadata": {
    "collapsed": true,
    "slideshow": {
     "slide_type": "slide"
    }
   },
   "source": [
    "## Basic concepts you should already have\n",
    "\n",
    "   * <strong>Expected value</strong> of a random variable $X$:   \n",
    "   $E[X] = \\mu = \\int x f_X(x) dx$\n",
    "   * <strong>Variance</strong>:   \n",
    "   $V[X] = E[(X - \\mu)^2]$\n",
    "   * <strong>Covariance</strong>:   \n",
    "   $\\operatorname{cov}(X,Y) = \\operatorname{E}{\\big[(X - \\operatorname{E}[X])(Y - \\operatorname{E}[Y])\\big]} = \\\\\n",
    "   \\operatorname{E}\\left[X Y\\right] - \\operatorname{E}\\left[X\\right]\\operatorname{E}\\left[Y\\right]$"
   ]
  },
  {
   "cell_type": "markdown",
   "metadata": {
    "slideshow": {
     "slide_type": "subslide"
    }
   },
   "source": [
    "   * <strong>Mean of a sample</strong>: $\\bar x = \\frac{1}{n}\\sum{x_i}$"
   ]
  },
  {
   "cell_type": "markdown",
   "metadata": {
    "slideshow": {
     "slide_type": "subslide"
    }
   },
   "source": [
    "### Exercize\n",
    "   * Having a sample $\\{x_i\\}_i^n$, it is well know that $s^2 = \\frac{1}{n-1} \\sum_{i=1}^n \\left(x_i - \\overline{x} \\right)^2$ is a unbiased estimator ($E[\\text{bias}]=E[s^2 - V[X]) = 0$) for the variance\n",
    "   * Show analytically that $\\sqrt{s^2}$ is not an unbiased estimator for the standard deviation $\\sigma_X=\\sqrt{V[X]}$ (hint: $E$ is linear, $\\sqrt{\\,\\,\\,}$ is not)"
   ]
  },
  {
   "cell_type": "markdown",
   "metadata": {
    "slideshow": {
     "slide_type": "subslide"
    }
   },
   "source": [
    "#### Non-analytical solution\n",
    "\n",
    "Let generate many toys, to see the bias of $\\sqrt{s^2}$. Every toy is made by a normal sample."
   ]
  },
  {
   "cell_type": "code",
   "execution_count": 7,
   "metadata": {
    "collapsed": true,
    "slideshow": {
     "slide_type": "-"
    }
   },
   "outputs": [],
   "source": [
    "POPULATION_STD_DEV = 3\n",
    "SIZE = 5\n",
    "NTOYS = 1000\n",
    "\n",
    "all_bias_std, all_bias_std_corr = [], []\n",
    "\n",
    "for itoy in range(NTOYS):\n",
    "    # generate a sample\n",
    "    sample = np.random.normal(loc=0., scale=POPULATION_STD_DEV,\n",
    "                              size=SIZE)\n",
    "    \n",
    "    # compute the std with the two definitions\n",
    "    all_bias_std.append(np.std(sample) - POPULATION_STD_DEV)\n",
    "    all_bias_std_corr.append(np.std(sample, ddof=1) - POPULATION_STD_DEV)"
   ]
  },
  {
   "cell_type": "markdown",
   "metadata": {
    "slideshow": {
     "slide_type": "subslide"
    }
   },
   "source": [
    "Much faster code with vectorization"
   ]
  },
  {
   "cell_type": "code",
   "execution_count": 8,
   "metadata": {
    "collapsed": false
   },
   "outputs": [],
   "source": [
    "NTOYS = 1000000\n",
    "samples = np.random.normal(loc=0., scale=POPULATION_STD_DEV, size=(NTOYS, 5))\n",
    "all_bias_std = np.std(samples, axis=1) - POPULATION_STD_DEV\n",
    "all_bias_std_corr = np.std(samples, axis=1, ddof=1) - POPULATION_STD_DEV"
   ]
  },
  {
   "cell_type": "code",
   "execution_count": 9,
   "metadata": {
    "collapsed": false,
    "slideshow": {
     "slide_type": "subslide"
    }
   },
   "outputs": [
    {
     "data": {
      "image/png": "[encoded data removed]",
      "text/plain": [
       "<matplotlib.figure.Figure at 0x4547910>"
      ]
     },
     "metadata": {},
     "output_type": "display_data"
    }
   ],
   "source": [
    "# plot it\n",
    "mean_bias_non_corr, err_bias_non_corr = [f(all_bias_std) for f in (np.mean, stats.sem)]\n",
    "mean_bias_corr, err_bias_corr = [f(all_bias_std_corr) for f in (np.mean, stats.sem)]\n",
    "    \n",
    "fig, ax = plt.subplots()\n",
    "bins = np.linspace(-POPULATION_STD_DEV, POPULATION_STD_DEV, 100)\n",
    "ax.hist(all_bias_std, bins, histtype='step', label='non-corr %.3f$\\pm$%.3f' % (mean_bias_non_corr, err_bias_non_corr))\n",
    "ax.hist(all_bias_std_corr, bins, histtype='step', label='corr %.3f$\\pm$%.3f' % (mean_bias_corr, err_bias_corr))\n",
    "ax.set_xlabel('bias'); ax.legend(); plt.show()"
   ]
  },
  {
   "cell_type": "markdown",
   "metadata": {
    "slideshow": {
     "slide_type": "fragment"
    }
   },
   "source": [
    "Can we draw a conclusions from these numbers? (answer=yes, detail in the rest of the lecture)"
   ]
  },
  {
   "cell_type": "code",
   "execution_count": 45,
   "metadata": {
    "collapsed": false,
    "slideshow": {
     "slide_type": "slide"
    }
   },
   "outputs": [],
   "source": [
    "ws = ROOT.RooWorkspace('ws')\n",
    "nbkg_exp = ws.factory(\"nbkg_exp[1000]\")\n",
    "n_exp = ws.factory(\"sum::n_exp(nsig_exp[100], nbkg_exp)\")\n",
    "pdf = ws.factory(\"Poisson::signal(n_obs[0, 10000], n_exp)\")\n",
    "aset = ROOT.RooArgSet(ws.var('n_obs'))\n",
    "data = pdf.generate(aset, 1)\n",
    "n_obs_val = data.get(0).first().getVal()"
   ]
  },
  {
   "cell_type": "markdown",
   "metadata": {
    "variables": {
     "n_exp.getVal()": "1100.0",
     "n_obs_val": "1058.0",
     "ws.var('nbkg_exp').getVal()": "1000.0",
     "ws.var('nsig_exp').getVal()": "100.0"
    }
   },
   "source": [
    "We expect to observe $s+b =$ {{ws.var('nsig_exp').getVal()}} + {{ws.var('nbkg_exp').getVal()}} = {{n_exp.getVal()}} events if there is a signal and {{ws.var('nbkg_exp').getVal()}} if there is only background. We observe {{n_obs_val}}. Is there a signal?"
   ]
  },
  {
   "cell_type": "markdown",
   "metadata": {},
   "source": [
    "As first step compute the significance as $s / \\sqrt{b}$"
   ]
  },
  {
   "cell_type": "code",
   "execution_count": 54,
   "metadata": {
    "collapsed": false
   },
   "outputs": [
    {
     "data": {
      "text/plain": [
       "1.83412104289766"
      ]
     },
     "execution_count": 54,
     "metadata": {},
     "output_type": "execute_result"
    }
   ],
   "source": [
    "(n_obs_val - nbkg_exp.getVal()) / np.sqrt(nbkg_exp.getVal())"
   ]
  },
  {
   "cell_type": "code",
   "execution_count": null,
   "metadata": {
    "collapsed": true
   },
   "outputs": [],
   "source": []
  }
 ],
 "metadata": {
  "celltoolbar": "Slideshow",
  "hide_input": false,
  "kernelspec": {
   "display_name": "Python 2",
   "language": "python",
   "name": "python2"
  },
  "language_info": {
   "codemirror_mode": {
    "name": "ipython",
    "version": 2
   },
   "file_extension": ".py",
   "mimetype": "text/x-python",
   "name": "python",
   "nbconvert_exporter": "python",
   "pygments_lexer": "ipython2",
   "version": "2.7.5"
  },
  "latex_envs": {
   "bibliofile": "biblio.bib",
   "cite_by": "apalike",
   "current_citInitial": 1,
   "eqLabelWithNumbers": true,
   "eqNumInitial": 0
  }
 },
 "nbformat": 4,
 "nbformat_minor": 0
}
