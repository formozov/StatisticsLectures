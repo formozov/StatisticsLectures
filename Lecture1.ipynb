{
 "cells": [
  {
   "cell_type": "code",
   "execution_count": 1,
   "metadata": {
    "collapsed": false,
    "slideshow": {
     "slide_type": "skip"
    }
   },
   "outputs": [
    {
     "name": "stderr",
     "output_type": "stream",
     "text": [
      "/usr/lib/python2.7/site-packages/IPython/kernel/__init__.py:13: ShimWarning: The `IPython.kernel` package has been deprecated. You should import from ipykernel or jupyter_client instead.\n",
      "  \"You should import from ipykernel or jupyter_client instead.\", ShimWarning)\n"
     ]
    }
   ],
   "source": [
    "from matplotlib import pyplot as plt\n",
    "import numpy as np\n",
    "from scipy import stats\n",
    "import pandas as pd\n",
    "from IPython.display import HTML, IFrame, Image, SVG, Latex\n",
    "import ROOT\n",
    "from ROOT import RooFit, RooStats\n",
    "#%matplotlib inline\n",
    "#%matplotlib nbagg\n",
    "%matplotlib notebook\n",
    "from ipywidgets import interact, interactive, fixed\n",
    "import colormaps"
   ]
  },
  {
   "cell_type": "code",
   "execution_count": 2,
   "metadata": {
    "collapsed": false,
    "slideshow": {
     "slide_type": "skip"
    }
   },
   "outputs": [
    {
     "data": {
      "text/html": [
       "<link rel=\"stylesheet\" href=\"custom.css\" type=\"text/css\">"
      ],
      "text/plain": [
       "<IPython.core.display.HTML object>"
      ]
     },
     "execution_count": 2,
     "metadata": {},
     "output_type": "execute_result"
    }
   ],
   "source": [
    "HTML('<link rel=\"stylesheet\" href=\"custom.css\" type=\"text/css\">')"
   ]
  },
  {
   "cell_type": "code",
   "execution_count": 3,
   "metadata": {
    "collapsed": false,
    "slideshow": {
     "slide_type": "skip"
    }
   },
   "outputs": [
    {
     "data": {
      "text/plain": [
       "{u'start_slideshow_at': 3, u'theme': 'sans', u'transition': 'zoom'}"
      ]
     },
     "execution_count": 3,
     "metadata": {},
     "output_type": "execute_result"
    }
   ],
   "source": [
    "from notebook.services.config import ConfigManager\n",
    "cm = ConfigManager()\n",
    "cm.update('livereveal', {\n",
    "          'theme': 'sans',\n",
    "          'transition': 'zoom',\n",
    "})"
   ]
  },
  {
   "cell_type": "code",
   "execution_count": 4,
   "metadata": {
    "collapsed": true,
    "slideshow": {
     "slide_type": "skip"
    }
   },
   "outputs": [],
   "source": [
    "def iter_collection(rooAbsCollection):\n",
    "    iterator = rooAbsCollection.createIterator()\n",
    "    object = iterator.Next()\n",
    "    while object:\n",
    "        yield object\n",
    "        object = iterator.Next()"
   ]
  },
  {
   "cell_type": "code",
   "execution_count": 5,
   "metadata": {
    "collapsed": false,
    "slideshow": {
     "slide_type": "skip"
    }
   },
   "outputs": [],
   "source": [
    "def RooDataSet2pandas(data):\n",
    "    nevents = data.numEntries()\n",
    "    columns = [x.GetName() for x in iter_collection(data.get(0))]\n",
    "    return pd.DataFrame([[x.getVal() for x in iter_collection(data.get(ievent))] for ievent in xrange(nevents)], columns=columns)"
   ]
  },
  {
   "cell_type": "markdown",
   "metadata": {
    "slideshow": {
     "slide_type": "slide"
    }
   },
   "source": [
    "# Lecture 1\n",
    "\n",
    "<p style=\"text-align: center;\"><i class=\"icon-user icon-2x\"> [ruggero.turra@mi.infn.it](mailto:ruggero.turra@mi.infn.it)</i></p>\n",
    "<br/>\n",
    "\n",
    "## Content of the lecture\n",
    "\n",
    "   * Basic notion you should already have\n",
    "   * Introduction to inferential statistics\n",
    "   * Counting experiments\n",
    "   * RooFit / RooStats examples"
   ]
  },
  {
   "cell_type": "markdown",
   "metadata": {
    "slideshow": {
     "slide_type": "slide"
    }
   },
   "source": [
    "## Intro to the lectures\n",
    "   * This is not a course on [RooFit](https://root.cern.ch/roofit) / [RooStats](https://twiki.cern.ch/twiki/bin/view/RooStats/WebTopicList) / ...\n",
    "   * This is not a course of python / [numpy](http://www.numpy.org/) / [matplotlib](http://matplotlib.org/) / ...\n",
    "   * I have just collected some examples that can be interesting for your studies with the minimal-needed theory\n",
    "\n",
    "<small>\n",
    "These lectures are available on https://github.com/wiso/StatisticsLectures as [jupyter](http://jupyter.org/) (previous [ipython](http://ipython.org/) notebook) notebook. They can be shown as interactive slides using [RISE](https://github.com/damianavila/RISE). It works also with a simple `jupyter nbconvert --to slides file.ipynb --post serve`, but style is not optimized. </small>"
   ]
  },
  {
   "cell_type": "markdown",
   "metadata": {
    "slideshow": {
     "slide_type": "slide"
    }
   },
   "source": [
    "## Resources\n",
    "\n",
    "* [Kyle Cranmer](http://orcid.org/0000-0002-5769-7094) [lectures](https://indico.cern.ch/event/117033/other-view?view=standard) and [proceedings](https://cds.cern.ch/record/2004587/files/arXiv:1503.07622.pdf) at 2011 ESHEP (see page 3 for many books)\n",
    "* Kyle Cranmer [lectures](https://indico.cern.ch/event/243641/) for summer students in 2013\n",
    "* Glen Cowan [Statistical Data Analysis for Particle Physics](http://www.pp.rhul.ac.uk/~cowan/stat_aachen.html) and [other](http://www.pp.rhul.ac.uk/~cowan/) lectures"
   ]
  },
  {
   "cell_type": "code",
   "execution_count": 6,
   "metadata": {
    "collapsed": false,
    "hide_input": false,
    "scrolled": true,
    "slideshow": {
     "slide_type": "-"
    }
   },
   "outputs": [
    {
     "data": {
      "text/html": [
       "<iframe width=\"49%\" height=\"300\" src=\"https://indico.cern.ch/event/117033/contribution/19/attachments/55755/80228/Cranmer_L1.pdf\" frameborder=\"0\" allowfullscreen></iframe>\n",
       "     <iframe width=\"49%\" height=\"300\" src=\"http://www.pp.rhul.ac.uk/~cowan/stat_aachen.html\" frameborder=\"0\" allowfullscreen></iframe>"
      ],
      "text/plain": [
       "<IPython.core.display.HTML object>"
      ]
     },
     "execution_count": 6,
     "metadata": {},
     "output_type": "execute_result"
    }
   ],
   "source": [
    "HTML('''<iframe width=\"49%\" height=\"300\" src=\"https://indico.cern.ch/event/117033/contribution/19/attachments/55755/80228/Cranmer_L1.pdf\" frameborder=\"0\" allowfullscreen></iframe>\n",
    "     <iframe width=\"49%\" height=\"300\" src=\"http://www.pp.rhul.ac.uk/~cowan/stat_aachen.html\" frameborder=\"0\" allowfullscreen></iframe>''')"
   ]
  },
  {
   "cell_type": "markdown",
   "metadata": {
    "slideshow": {
     "slide_type": "subslide"
    }
   },
   "source": [
    "[Luca Lista](http://people.na.infn.it/~lista/Statistics/) with RooStats examples"
   ]
  },
  {
   "cell_type": "code",
   "execution_count": 7,
   "metadata": {
    "collapsed": false,
    "hide_input": false
   },
   "outputs": [
    {
     "data": {
      "text/html": [
       "\n",
       "        <iframe\n",
       "            width=\"900\"\n",
       "            height=\"400\"\n",
       "            src=\"http://people.na.infn.it/~lista/Statistics/\"\n",
       "            frameborder=\"0\"\n",
       "            allowfullscreen\n",
       "        ></iframe>\n",
       "        "
      ],
      "text/plain": [
       "<IPython.lib.display.IFrame at 0x27009d0>"
      ]
     },
     "execution_count": 7,
     "metadata": {},
     "output_type": "execute_result"
    }
   ],
   "source": [
    "IFrame('http://people.na.infn.it/~lista/Statistics/', width=900, height=400)"
   ]
  },
  {
   "cell_type": "markdown",
   "metadata": {
    "slideshow": {
     "slide_type": "subslide"
    }
   },
   "source": [
    "LHC discovery related:\n",
    "\n",
    "   * Eilam Gross [LHC Statistics for Pedestrians](http://cds.cern.ch/record/1099994/files/p205.pdf)\n",
    "   * [Asymptotic formulae for likelihood-based tests of new physics](http://arxiv.org/pdf/1007.1727v3.pdf)\n",
    "   * [Procedure for the LHC Higgs boson search\n",
    "combination in Summer 2011](https://cds.cern.ch/record/1379837/files/NOTE2011_005.pdf)\n",
    "\n",
    "   \n",
    "Others:\n",
    "   * Gerhard Bohm, Günter Zech [\"Introduction to Statistics and Data\n",
    "Analysis for Physicists\"](http://www-library.desy.de/preparch/books/vstatmp_engl.pdf)\n",
    "   * Roger Barlow [\"Systematic Errors: Facts and Fictions\"](http://arxiv.org/pdf/hep-ex/0207026v1.pdf)\n",
    "   * Grégory Schott [RooStats for Searches](http://indico.cern.ch/event/107747/contribution/25/attachments/24332/35016/schott_2011.01.17__RooStats_talk.pdf)\n"
   ]
  },
  {
   "cell_type": "markdown",
   "metadata": {
    "slideshow": {
     "slide_type": "slide"
    }
   },
   "source": [
    "   * Statistics seems easy, since usually problems can described with a simple language. But it is not...\n",
    "   * Easy questions: do we have discovered the Higgs boson?"
   ]
  },
  {
   "cell_type": "markdown",
   "metadata": {
    "collapsed": true,
    "slideshow": {
     "slide_type": "slide"
    }
   },
   "source": [
    "## Basic concepts you should already have\n",
    "\n",
    "### about probability\n",
    "\n",
    "Given a (continuos) random variable $X$:\n",
    "   * <strong>CDF</strong>: $F_X(x) = P(X\\geq x)$\n",
    "   * <strong>PDF</strong>: $f_X = \\frac{dF_X}{dx}$\n",
    "   * <strong>Expected value</strong>\n",
    "   $E[X] = \\mu = \\int x f_X(x) dx$\n",
    "   * <strong>Variance</strong>:   \n",
    "   $V[X] = E[(X - \\mu)^2]$\n",
    "   * <strong>Covariance</strong>:   \n",
    "   $\\operatorname{cov}(X,Y) = \\operatorname{E}{\\big[(X - \\operatorname{E}[X])(Y - \\operatorname{E}[Y])\\big]} = \\\\\n",
    "   \\operatorname{E}\\left[X Y\\right] - \\operatorname{E}\\left[X\\right]\\operatorname{E}\\left[Y\\right]$"
   ]
  },
  {
   "cell_type": "markdown",
   "metadata": {
    "slideshow": {
     "slide_type": "subslide"
    }
   },
   "source": [
    "### Exercize\n",
    "   * Having a sample $\\{x_i\\}_i^n$, it is well know that $s^2 = \\frac{1}{n-1} \\sum_{i=1}^n \\left(x_i - \\overline{x} \\right)^2$ is a unbiased estimator ($E[\\text{bias}]=E[s^2 - V[X]] = 0$) for the variance\n",
    "   * Show analytically that $\\sqrt{s^2}$ is not an unbiased estimator for the standard deviation $\\sigma_X=\\sqrt{V[X]}$ (hint: $E$ is linear, $\\sqrt{\\,\\,\\,}$ is not)"
   ]
  },
  {
   "cell_type": "markdown",
   "metadata": {
    "slideshow": {
     "slide_type": "subslide"
    }
   },
   "source": [
    "#### Non-analytical solution\n",
    "\n",
    "Let generate many pseudo-experiments (toys), to see the bias of $\\sqrt{s^2}$. Every toy is made by a normal sample."
   ]
  },
  {
   "cell_type": "code",
   "execution_count": 8,
   "metadata": {
    "collapsed": true,
    "slideshow": {
     "slide_type": "-"
    }
   },
   "outputs": [],
   "source": [
    "POPULATION_STD_DEV = 3  # standard deviation of the population\n",
    "SIZE = 5                # size of the sample (for every toy)\n",
    "NTOYS = 1000            # number of toys\n",
    "\n",
    "# consider two versions of s^2 (with/without Bessel correction)\n",
    "all_bias_std, all_bias_std_corr = [], []\n",
    "\n",
    "for itoy in range(NTOYS):\n",
    "    # generate a sample\n",
    "    sample = np.random.normal(loc=0., scale=POPULATION_STD_DEV,\n",
    "                              size=SIZE)\n",
    "    \n",
    "    # compute the bias for the two definitions\n",
    "    all_bias_std.append(np.std(sample) - POPULATION_STD_DEV)\n",
    "    all_bias_std_corr.append(np.std(sample, ddof=1) - POPULATION_STD_DEV)"
   ]
  },
  {
   "cell_type": "markdown",
   "metadata": {
    "slideshow": {
     "slide_type": "subslide"
    }
   },
   "source": [
    "Much faster code with vectorization"
   ]
  },
  {
   "cell_type": "code",
   "execution_count": 9,
   "metadata": {
    "collapsed": false
   },
   "outputs": [],
   "source": [
    "NTOYS = 1000000\n",
    "samples = np.random.normal(loc=0., scale=POPULATION_STD_DEV,\n",
    "                           size=(NTOYS, 5))\n",
    "all_bias_std = np.std(samples, axis=1) - POPULATION_STD_DEV\n",
    "all_bias_std_corr = np.std(samples, axis=1, ddof=1) - POPULATION_STD_DEV"
   ]
  },
  {
   "cell_type": "code",
   "execution_count": 12,
   "metadata": {
    "collapsed": false,
    "slideshow": {
     "slide_type": "skip"
    }
   },
   "outputs": [
    {
     "data": {
      "application/javascript": [
       "/* Put everything inside the global mpl namespace */\n",
       "window.mpl = {};\n",
       "\n",
       "mpl.get_websocket_type = function() {\n",
       "    if (typeof(WebSocket) !== 'undefined') {\n",
       "        return WebSocket;\n",
       "    } else if (typeof(MozWebSocket) !== 'undefined') {\n",
       "        return MozWebSocket;\n",
       "    } else {\n",
       "        alert('Your browser does not have WebSocket support.' +\n",
       "              'Please try Chrome, Safari or Firefox ≥ 6. ' +\n",
       "              'Firefox 4 and 5 are also supported but you ' +\n",
       "              'have to enable WebSockets in about:config.');\n",
       "    };\n",
       "}\n",
       "\n",
       "mpl.figure = function(figure_id, websocket, ondownload, parent_element) {\n",
       "    this.id = figure_id;\n",
       "\n",
       "    this.ws = websocket;\n",
       "\n",
       "    this.supports_binary = (this.ws.binaryType != undefined);\n",
       "\n",
       "    if (!this.supports_binary) {\n",
       "        var warnings = document.getElementById(\"mpl-warnings\");\n",
       "        if (warnings) {\n",
       "            warnings.style.display = 'block';\n",
       "            warnings.textContent = (\n",
       "                \"This browser does not support binary websocket messages. \" +\n",
       "                    \"Performance may be slow.\");\n",
       "        }\n",
       "    }\n",
       "\n",
       "    this.imageObj = new Image();\n",
       "\n",
       "    this.context = undefined;\n",
       "    this.message = undefined;\n",
       "    this.canvas = undefined;\n",
       "    this.rubberband_canvas = undefined;\n",
       "    this.rubberband_context = undefined;\n",
       "    this.format_dropdown = undefined;\n",
       "\n",
       "    this.image_mode = 'full';\n",
       "\n",
       "    this.root = $('<div/>');\n",
       "    this._root_extra_style(this.root)\n",
       "    this.root.attr('style', 'display: inline-block');\n",
       "\n",
       "    $(parent_element).append(this.root);\n",
       "\n",
       "    this._init_header(this);\n",
       "    this._init_canvas(this);\n",
       "    this._init_toolbar(this);\n",
       "\n",
       "    var fig = this;\n",
       "\n",
       "    this.waiting = false;\n",
       "\n",
       "    this.ws.onopen =  function () {\n",
       "            fig.send_message(\"supports_binary\", {value: fig.supports_binary});\n",
       "            fig.send_message(\"send_image_mode\", {});\n",
       "            fig.send_message(\"refresh\", {});\n",
       "        }\n",
       "\n",
       "    this.imageObj.onload = function() {\n",
       "            if (fig.image_mode == 'full') {\n",
       "                // Full images could contain transparency (where diff images\n",
       "                // almost always do), so we need to clear the canvas so that\n",
       "                // there is no ghosting.\n",
       "                fig.context.clearRect(0, 0, fig.canvas.width, fig.canvas.height);\n",
       "            }\n",
       "            fig.context.drawImage(fig.imageObj, 0, 0);\n",
       "            fig.waiting = false;\n",
       "        };\n",
       "\n",
       "    this.imageObj.onunload = function() {\n",
       "        this.ws.close();\n",
       "    }\n",
       "\n",
       "    this.ws.onmessage = this._make_on_message_function(this);\n",
       "\n",
       "    this.ondownload = ondownload;\n",
       "}\n",
       "\n",
       "mpl.figure.prototype._init_header = function() {\n",
       "    var titlebar = $(\n",
       "        '<div class=\"ui-dialog-titlebar ui-widget-header ui-corner-all ' +\n",
       "        'ui-helper-clearfix\"/>');\n",
       "    var titletext = $(\n",
       "        '<div class=\"ui-dialog-title\" style=\"width: 100%; ' +\n",
       "        'text-align: center; padding: 3px;\"/>');\n",
       "    titlebar.append(titletext)\n",
       "    this.root.append(titlebar);\n",
       "    this.header = titletext[0];\n",
       "}\n",
       "\n",
       "\n",
       "\n",
       "mpl.figure.prototype._canvas_extra_style = function(canvas_div) {\n",
       "\n",
       "}\n",
       "\n",
       "\n",
       "mpl.figure.prototype._root_extra_style = function(canvas_div) {\n",
       "\n",
       "}\n",
       "\n",
       "mpl.figure.prototype._init_canvas = function() {\n",
       "    var fig = this;\n",
       "\n",
       "    var canvas_div = $('<div/>');\n",
       "\n",
       "    canvas_div.attr('style', 'position: relative; clear: both; outline: 0');\n",
       "\n",
       "    function canvas_keyboard_event(event) {\n",
       "        return fig.key_event(event, event['data']);\n",
       "    }\n",
       "\n",
       "    canvas_div.keydown('key_press', canvas_keyboard_event);\n",
       "    canvas_div.keyup('key_release', canvas_keyboard_event);\n",
       "    this.canvas_div = canvas_div\n",
       "    this._canvas_extra_style(canvas_div)\n",
       "    this.root.append(canvas_div);\n",
       "\n",
       "    var canvas = $('<canvas/>');\n",
       "    canvas.addClass('mpl-canvas');\n",
       "    canvas.attr('style', \"left: 0; top: 0; z-index: 0; outline: 0\")\n",
       "\n",
       "    this.canvas = canvas[0];\n",
       "    this.context = canvas[0].getContext(\"2d\");\n",
       "\n",
       "    var rubberband = $('<canvas/>');\n",
       "    rubberband.attr('style', \"position: absolute; left: 0; top: 0; z-index: 1;\")\n",
       "\n",
       "    var pass_mouse_events = true;\n",
       "\n",
       "    canvas_div.resizable({\n",
       "        start: function(event, ui) {\n",
       "            pass_mouse_events = false;\n",
       "        },\n",
       "        resize: function(event, ui) {\n",
       "            fig.request_resize(ui.size.width, ui.size.height);\n",
       "        },\n",
       "        stop: function(event, ui) {\n",
       "            pass_mouse_events = true;\n",
       "            fig.request_resize(ui.size.width, ui.size.height);\n",
       "        },\n",
       "    });\n",
       "\n",
       "    function mouse_event_fn(event) {\n",
       "        if (pass_mouse_events)\n",
       "            return fig.mouse_event(event, event['data']);\n",
       "    }\n",
       "\n",
       "    rubberband.mousedown('button_press', mouse_event_fn);\n",
       "    rubberband.mouseup('button_release', mouse_event_fn);\n",
       "    // Throttle sequential mouse events to 1 every 20ms.\n",
       "    rubberband.mousemove('motion_notify', mouse_event_fn);\n",
       "\n",
       "    rubberband.mouseenter('figure_enter', mouse_event_fn);\n",
       "    rubberband.mouseleave('figure_leave', mouse_event_fn);\n",
       "\n",
       "    canvas_div.on(\"wheel\", function (event) {\n",
       "        event = event.originalEvent;\n",
       "        event['data'] = 'scroll'\n",
       "        if (event.deltaY < 0) {\n",
       "            event.step = 1;\n",
       "        } else {\n",
       "            event.step = -1;\n",
       "        }\n",
       "        mouse_event_fn(event);\n",
       "    });\n",
       "\n",
       "    canvas_div.append(canvas);\n",
       "    canvas_div.append(rubberband);\n",
       "\n",
       "    this.rubberband = rubberband;\n",
       "    this.rubberband_canvas = rubberband[0];\n",
       "    this.rubberband_context = rubberband[0].getContext(\"2d\");\n",
       "    this.rubberband_context.strokeStyle = \"#000000\";\n",
       "\n",
       "    this._resize_canvas = function(width, height) {\n",
       "        // Keep the size of the canvas, canvas container, and rubber band\n",
       "        // canvas in synch.\n",
       "        canvas_div.css('width', width)\n",
       "        canvas_div.css('height', height)\n",
       "\n",
       "        canvas.attr('width', width);\n",
       "        canvas.attr('height', height);\n",
       "\n",
       "        rubberband.attr('width', width);\n",
       "        rubberband.attr('height', height);\n",
       "    }\n",
       "\n",
       "    // Set the figure to an initial 600x600px, this will subsequently be updated\n",
       "    // upon first draw.\n",
       "    this._resize_canvas(600, 600);\n",
       "\n",
       "    // Disable right mouse context menu.\n",
       "    $(this.rubberband_canvas).bind(\"contextmenu\",function(e){\n",
       "        return false;\n",
       "    });\n",
       "\n",
       "    function set_focus () {\n",
       "        canvas.focus();\n",
       "        canvas_div.focus();\n",
       "    }\n",
       "\n",
       "    window.setTimeout(set_focus, 100);\n",
       "}\n",
       "\n",
       "mpl.figure.prototype._init_toolbar = function() {\n",
       "    var fig = this;\n",
       "\n",
       "    var nav_element = $('<div/>')\n",
       "    nav_element.attr('style', 'width: 100%');\n",
       "    this.root.append(nav_element);\n",
       "\n",
       "    // Define a callback function for later on.\n",
       "    function toolbar_event(event) {\n",
       "        return fig.toolbar_button_onclick(event['data']);\n",
       "    }\n",
       "    function toolbar_mouse_event(event) {\n",
       "        return fig.toolbar_button_onmouseover(event['data']);\n",
       "    }\n",
       "\n",
       "    for(var toolbar_ind in mpl.toolbar_items) {\n",
       "        var name = mpl.toolbar_items[toolbar_ind][0];\n",
       "        var tooltip = mpl.toolbar_items[toolbar_ind][1];\n",
       "        var image = mpl.toolbar_items[toolbar_ind][2];\n",
       "        var method_name = mpl.toolbar_items[toolbar_ind][3];\n",
       "\n",
       "        if (!name) {\n",
       "            // put a spacer in here.\n",
       "            continue;\n",
       "        }\n",
       "        var button = $('<button/>');\n",
       "        button.addClass('ui-button ui-widget ui-state-default ui-corner-all ' +\n",
       "                        'ui-button-icon-only');\n",
       "        button.attr('role', 'button');\n",
       "        button.attr('aria-disabled', 'false');\n",
       "        button.click(method_name, toolbar_event);\n",
       "        button.mouseover(tooltip, toolbar_mouse_event);\n",
       "\n",
       "        var icon_img = $('<span/>');\n",
       "        icon_img.addClass('ui-button-icon-primary ui-icon');\n",
       "        icon_img.addClass(image);\n",
       "        icon_img.addClass('ui-corner-all');\n",
       "\n",
       "        var tooltip_span = $('<span/>');\n",
       "        tooltip_span.addClass('ui-button-text');\n",
       "        tooltip_span.html(tooltip);\n",
       "\n",
       "        button.append(icon_img);\n",
       "        button.append(tooltip_span);\n",
       "\n",
       "        nav_element.append(button);\n",
       "    }\n",
       "\n",
       "    var fmt_picker_span = $('<span/>');\n",
       "\n",
       "    var fmt_picker = $('<select/>');\n",
       "    fmt_picker.addClass('mpl-toolbar-option ui-widget ui-widget-content');\n",
       "    fmt_picker_span.append(fmt_picker);\n",
       "    nav_element.append(fmt_picker_span);\n",
       "    this.format_dropdown = fmt_picker[0];\n",
       "\n",
       "    for (var ind in mpl.extensions) {\n",
       "        var fmt = mpl.extensions[ind];\n",
       "        var option = $(\n",
       "            '<option/>', {selected: fmt === mpl.default_extension}).html(fmt);\n",
       "        fmt_picker.append(option)\n",
       "    }\n",
       "\n",
       "    // Add hover states to the ui-buttons\n",
       "    $( \".ui-button\" ).hover(\n",
       "        function() { $(this).addClass(\"ui-state-hover\");},\n",
       "        function() { $(this).removeClass(\"ui-state-hover\");}\n",
       "    );\n",
       "\n",
       "    var status_bar = $('<span class=\"mpl-message\"/>');\n",
       "    nav_element.append(status_bar);\n",
       "    this.message = status_bar[0];\n",
       "}\n",
       "\n",
       "mpl.figure.prototype.request_resize = function(x_pixels, y_pixels) {\n",
       "    // Request matplotlib to resize the figure. Matplotlib will then trigger a resize in the client,\n",
       "    // which will in turn request a refresh of the image.\n",
       "    this.send_message('resize', {'width': x_pixels, 'height': y_pixels});\n",
       "}\n",
       "\n",
       "mpl.figure.prototype.send_message = function(type, properties) {\n",
       "    properties['type'] = type;\n",
       "    properties['figure_id'] = this.id;\n",
       "    this.ws.send(JSON.stringify(properties));\n",
       "}\n",
       "\n",
       "mpl.figure.prototype.send_draw_message = function() {\n",
       "    if (!this.waiting) {\n",
       "        this.waiting = true;\n",
       "        this.ws.send(JSON.stringify({type: \"draw\", figure_id: this.id}));\n",
       "    }\n",
       "}\n",
       "\n",
       "\n",
       "mpl.figure.prototype.handle_save = function(fig, msg) {\n",
       "    var format_dropdown = fig.format_dropdown;\n",
       "    var format = format_dropdown.options[format_dropdown.selectedIndex].value;\n",
       "    fig.ondownload(fig, format);\n",
       "}\n",
       "\n",
       "\n",
       "mpl.figure.prototype.handle_resize = function(fig, msg) {\n",
       "    var size = msg['size'];\n",
       "    if (size[0] != fig.canvas.width || size[1] != fig.canvas.height) {\n",
       "        fig._resize_canvas(size[0], size[1]);\n",
       "        fig.send_message(\"refresh\", {});\n",
       "    };\n",
       "}\n",
       "\n",
       "mpl.figure.prototype.handle_rubberband = function(fig, msg) {\n",
       "    var x0 = msg['x0'];\n",
       "    var y0 = fig.canvas.height - msg['y0'];\n",
       "    var x1 = msg['x1'];\n",
       "    var y1 = fig.canvas.height - msg['y1'];\n",
       "    x0 = Math.floor(x0) + 0.5;\n",
       "    y0 = Math.floor(y0) + 0.5;\n",
       "    x1 = Math.floor(x1) + 0.5;\n",
       "    y1 = Math.floor(y1) + 0.5;\n",
       "    var min_x = Math.min(x0, x1);\n",
       "    var min_y = Math.min(y0, y1);\n",
       "    var width = Math.abs(x1 - x0);\n",
       "    var height = Math.abs(y1 - y0);\n",
       "\n",
       "    fig.rubberband_context.clearRect(\n",
       "        0, 0, fig.canvas.width, fig.canvas.height);\n",
       "\n",
       "    fig.rubberband_context.strokeRect(min_x, min_y, width, height);\n",
       "}\n",
       "\n",
       "mpl.figure.prototype.handle_figure_label = function(fig, msg) {\n",
       "    // Updates the figure title.\n",
       "    fig.header.textContent = msg['label'];\n",
       "}\n",
       "\n",
       "mpl.figure.prototype.handle_cursor = function(fig, msg) {\n",
       "    var cursor = msg['cursor'];\n",
       "    switch(cursor)\n",
       "    {\n",
       "    case 0:\n",
       "        cursor = 'pointer';\n",
       "        break;\n",
       "    case 1:\n",
       "        cursor = 'default';\n",
       "        break;\n",
       "    case 2:\n",
       "        cursor = 'crosshair';\n",
       "        break;\n",
       "    case 3:\n",
       "        cursor = 'move';\n",
       "        break;\n",
       "    }\n",
       "    fig.rubberband_canvas.style.cursor = cursor;\n",
       "}\n",
       "\n",
       "mpl.figure.prototype.handle_message = function(fig, msg) {\n",
       "    fig.message.textContent = msg['message'];\n",
       "}\n",
       "\n",
       "mpl.figure.prototype.handle_draw = function(fig, msg) {\n",
       "    // Request the server to send over a new figure.\n",
       "    fig.send_draw_message();\n",
       "}\n",
       "\n",
       "mpl.figure.prototype.handle_image_mode = function(fig, msg) {\n",
       "    fig.image_mode = msg['mode'];\n",
       "}\n",
       "\n",
       "mpl.figure.prototype.updated_canvas_event = function() {\n",
       "    // Called whenever the canvas gets updated.\n",
       "    this.send_message(\"ack\", {});\n",
       "}\n",
       "\n",
       "// A function to construct a web socket function for onmessage handling.\n",
       "// Called in the figure constructor.\n",
       "mpl.figure.prototype._make_on_message_function = function(fig) {\n",
       "    return function socket_on_message(evt) {\n",
       "        if (evt.data instanceof Blob) {\n",
       "            /* FIXME: We get \"Resource interpreted as Image but\n",
       "             * transferred with MIME type text/plain:\" errors on\n",
       "             * Chrome.  But how to set the MIME type?  It doesn't seem\n",
       "             * to be part of the websocket stream */\n",
       "            evt.data.type = \"image/png\";\n",
       "\n",
       "            /* Free the memory for the previous frames */\n",
       "            if (fig.imageObj.src) {\n",
       "                (window.URL || window.webkitURL).revokeObjectURL(\n",
       "                    fig.imageObj.src);\n",
       "            }\n",
       "\n",
       "            fig.imageObj.src = (window.URL || window.webkitURL).createObjectURL(\n",
       "                evt.data);\n",
       "            fig.updated_canvas_event();\n",
       "            return;\n",
       "        }\n",
       "        else if (typeof evt.data === 'string' && evt.data.slice(0, 21) == \"data:image/png;base64\") {\n",
       "            fig.imageObj.src = evt.data;\n",
       "            fig.updated_canvas_event();\n",
       "            return;\n",
       "        }\n",
       "\n",
       "        var msg = JSON.parse(evt.data);\n",
       "        var msg_type = msg['type'];\n",
       "\n",
       "        // Call the  \"handle_{type}\" callback, which takes\n",
       "        // the figure and JSON message as its only arguments.\n",
       "        try {\n",
       "            var callback = fig[\"handle_\" + msg_type];\n",
       "        } catch (e) {\n",
       "            console.log(\"No handler for the '\" + msg_type + \"' message type: \", msg);\n",
       "            return;\n",
       "        }\n",
       "\n",
       "        if (callback) {\n",
       "            try {\n",
       "                // console.log(\"Handling '\" + msg_type + \"' message: \", msg);\n",
       "                callback(fig, msg);\n",
       "            } catch (e) {\n",
       "                console.log(\"Exception inside the 'handler_\" + msg_type + \"' callback:\", e, e.stack, msg);\n",
       "            }\n",
       "        }\n",
       "    };\n",
       "}\n",
       "\n",
       "// from http://stackoverflow.com/questions/1114465/getting-mouse-location-in-canvas\n",
       "mpl.findpos = function(e) {\n",
       "    //this section is from http://www.quirksmode.org/js/events_properties.html\n",
       "    var targ;\n",
       "    if (!e)\n",
       "        e = window.event;\n",
       "    if (e.target)\n",
       "        targ = e.target;\n",
       "    else if (e.srcElement)\n",
       "        targ = e.srcElement;\n",
       "    if (targ.nodeType == 3) // defeat Safari bug\n",
       "        targ = targ.parentNode;\n",
       "\n",
       "    // jQuery normalizes the pageX and pageY\n",
       "    // pageX,Y are the mouse positions relative to the document\n",
       "    // offset() returns the position of the element relative to the document\n",
       "    var x = e.pageX - $(targ).offset().left;\n",
       "    var y = e.pageY - $(targ).offset().top;\n",
       "\n",
       "    return {\"x\": x, \"y\": y};\n",
       "};\n",
       "\n",
       "mpl.figure.prototype.mouse_event = function(event, name) {\n",
       "    var canvas_pos = mpl.findpos(event)\n",
       "\n",
       "    if (name === 'button_press')\n",
       "    {\n",
       "        this.canvas.focus();\n",
       "        this.canvas_div.focus();\n",
       "    }\n",
       "\n",
       "    var x = canvas_pos.x;\n",
       "    var y = canvas_pos.y;\n",
       "\n",
       "    this.send_message(name, {x: x, y: y, button: event.button,\n",
       "                             step: event.step});\n",
       "\n",
       "    /* This prevents the web browser from automatically changing to\n",
       "     * the text insertion cursor when the button is pressed.  We want\n",
       "     * to control all of the cursor setting manually through the\n",
       "     * 'cursor' event from matplotlib */\n",
       "    event.preventDefault();\n",
       "    return false;\n",
       "}\n",
       "\n",
       "mpl.figure.prototype._key_event_extra = function(event, name) {\n",
       "    // Handle any extra behaviour associated with a key event\n",
       "}\n",
       "\n",
       "mpl.figure.prototype.key_event = function(event, name) {\n",
       "\n",
       "    // Prevent repeat events\n",
       "    if (name == 'key_press')\n",
       "    {\n",
       "        if (event.which === this._key)\n",
       "            return;\n",
       "        else\n",
       "            this._key = event.which;\n",
       "    }\n",
       "    if (name == 'key_release')\n",
       "        this._key = null;\n",
       "\n",
       "    var value = '';\n",
       "    if (event.ctrlKey && event.which != 17)\n",
       "        value += \"ctrl+\";\n",
       "    if (event.altKey && event.which != 18)\n",
       "        value += \"alt+\";\n",
       "    if (event.shiftKey && event.which != 16)\n",
       "        value += \"shift+\";\n",
       "\n",
       "    value += 'k';\n",
       "    value += event.which.toString();\n",
       "\n",
       "    this._key_event_extra(event, name);\n",
       "\n",
       "    this.send_message(name, {key: value});\n",
       "    return false;\n",
       "}\n",
       "\n",
       "mpl.figure.prototype.toolbar_button_onclick = function(name) {\n",
       "    if (name == 'download') {\n",
       "        this.handle_save(this, null);\n",
       "    } else {\n",
       "        this.send_message(\"toolbar_button\", {name: name});\n",
       "    }\n",
       "};\n",
       "\n",
       "mpl.figure.prototype.toolbar_button_onmouseover = function(tooltip) {\n",
       "    this.message.textContent = tooltip;\n",
       "};\n",
       "mpl.toolbar_items = [[\"Home\", \"Reset original view\", \"fa fa-home icon-home\", \"home\"], [\"Back\", \"Back to  previous view\", \"fa fa-arrow-left icon-arrow-left\", \"back\"], [\"Forward\", \"Forward to next view\", \"fa fa-arrow-right icon-arrow-right\", \"forward\"], [\"\", \"\", \"\", \"\"], [\"Pan\", \"Pan axes with left mouse, zoom with right\", \"fa fa-arrows icon-move\", \"pan\"], [\"Zoom\", \"Zoom to rectangle\", \"fa fa-square-o icon-check-empty\", \"zoom\"], [\"\", \"\", \"\", \"\"], [\"Download\", \"Download plot\", \"fa fa-floppy-o icon-save\", \"download\"]];\n",
       "\n",
       "mpl.extensions = [\"eps\", \"jpeg\", \"pdf\", \"png\", \"ps\", \"raw\", \"svg\", \"tif\"];\n",
       "\n",
       "mpl.default_extension = \"png\";var comm_websocket_adapter = function(comm) {\n",
       "    // Create a \"websocket\"-like object which calls the given IPython comm\n",
       "    // object with the appropriate methods. Currently this is a non binary\n",
       "    // socket, so there is still some room for performance tuning.\n",
       "    var ws = {};\n",
       "\n",
       "    ws.close = function() {\n",
       "        comm.close()\n",
       "    };\n",
       "    ws.send = function(m) {\n",
       "        //console.log('sending', m);\n",
       "        comm.send(m);\n",
       "    };\n",
       "    // Register the callback with on_msg.\n",
       "    comm.on_msg(function(msg) {\n",
       "        //console.log('receiving', msg['content']['data'], msg);\n",
       "        // Pass the mpl event to the overriden (by mpl) onmessage function.\n",
       "        ws.onmessage(msg['content']['data'])\n",
       "    });\n",
       "    return ws;\n",
       "}\n",
       "\n",
       "mpl.mpl_figure_comm = function(comm, msg) {\n",
       "    // This is the function which gets called when the mpl process\n",
       "    // starts-up an IPython Comm through the \"matplotlib\" channel.\n",
       "\n",
       "    var id = msg.content.data.id;\n",
       "    // Get hold of the div created by the display call when the Comm\n",
       "    // socket was opened in Python.\n",
       "    var element = $(\"#\" + id);\n",
       "    var ws_proxy = comm_websocket_adapter(comm)\n",
       "\n",
       "    function ondownload(figure, format) {\n",
       "        window.open(figure.imageObj.src);\n",
       "    }\n",
       "\n",
       "    var fig = new mpl.figure(id, ws_proxy,\n",
       "                           ondownload,\n",
       "                           element.get(0));\n",
       "\n",
       "    // Call onopen now - mpl needs it, as it is assuming we've passed it a real\n",
       "    // web socket which is closed, not our websocket->open comm proxy.\n",
       "    ws_proxy.onopen();\n",
       "\n",
       "    fig.parent_element = element.get(0);\n",
       "    fig.cell_info = mpl.find_output_cell(\"<div id='\" + id + \"'></div>\");\n",
       "    if (!fig.cell_info) {\n",
       "        console.error(\"Failed to find cell for figure\", id, fig);\n",
       "        return;\n",
       "    }\n",
       "\n",
       "    var output_index = fig.cell_info[2]\n",
       "    var cell = fig.cell_info[0];\n",
       "\n",
       "};\n",
       "\n",
       "mpl.figure.prototype.handle_close = function(fig, msg) {\n",
       "    // Update the output cell to use the data from the current canvas.\n",
       "    fig.push_to_output();\n",
       "    var dataURL = fig.canvas.toDataURL();\n",
       "    // Re-enable the keyboard manager in IPython - without this line, in FF,\n",
       "    // the notebook keyboard shortcuts fail.\n",
       "    IPython.keyboard_manager.enable()\n",
       "    $(fig.parent_element).html('<img src=\"' + dataURL + '\">');\n",
       "    fig.send_message('closing', {});\n",
       "    fig.ws.close()\n",
       "}\n",
       "\n",
       "mpl.figure.prototype.push_to_output = function(remove_interactive) {\n",
       "    // Turn the data on the canvas into data in the output cell.\n",
       "    var dataURL = this.canvas.toDataURL();\n",
       "    this.cell_info[1]['text/html'] = '<img src=\"' + dataURL + '\">';\n",
       "}\n",
       "\n",
       "mpl.figure.prototype.updated_canvas_event = function() {\n",
       "    // Tell IPython that the notebook contents must change.\n",
       "    IPython.notebook.set_dirty(true);\n",
       "    this.send_message(\"ack\", {});\n",
       "    var fig = this;\n",
       "    // Wait a second, then push the new image to the DOM so\n",
       "    // that it is saved nicely (might be nice to debounce this).\n",
       "    setTimeout(function () { fig.push_to_output() }, 1000);\n",
       "}\n",
       "\n",
       "mpl.figure.prototype._init_toolbar = function() {\n",
       "    var fig = this;\n",
       "\n",
       "    var nav_element = $('<div/>')\n",
       "    nav_element.attr('style', 'width: 100%');\n",
       "    this.root.append(nav_element);\n",
       "\n",
       "    // Define a callback function for later on.\n",
       "    function toolbar_event(event) {\n",
       "        return fig.toolbar_button_onclick(event['data']);\n",
       "    }\n",
       "    function toolbar_mouse_event(event) {\n",
       "        return fig.toolbar_button_onmouseover(event['data']);\n",
       "    }\n",
       "\n",
       "    for(var toolbar_ind in mpl.toolbar_items){\n",
       "        var name = mpl.toolbar_items[toolbar_ind][0];\n",
       "        var tooltip = mpl.toolbar_items[toolbar_ind][1];\n",
       "        var image = mpl.toolbar_items[toolbar_ind][2];\n",
       "        var method_name = mpl.toolbar_items[toolbar_ind][3];\n",
       "\n",
       "        if (!name) { continue; };\n",
       "\n",
       "        var button = $('<button class=\"btn btn-default\" href=\"#\" title=\"' + name + '\"><i class=\"fa ' + image + ' fa-lg\"></i></button>');\n",
       "        button.click(method_name, toolbar_event);\n",
       "        button.mouseover(tooltip, toolbar_mouse_event);\n",
       "        nav_element.append(button);\n",
       "    }\n",
       "\n",
       "    // Add the status bar.\n",
       "    var status_bar = $('<span class=\"mpl-message\" style=\"text-align:right; float: right;\"/>');\n",
       "    nav_element.append(status_bar);\n",
       "    this.message = status_bar[0];\n",
       "\n",
       "    // Add the close button to the window.\n",
       "    var buttongrp = $('<div class=\"btn-group inline pull-right\"></div>');\n",
       "    var button = $('<button class=\"btn btn-mini btn-danger\" href=\"#\" title=\"Close figure\"><i class=\"fa fa-times icon-remove icon-large\"></i></button>');\n",
       "    button.click(function (evt) { fig.handle_close(fig, {}); } );\n",
       "    button.mouseover('Close figure', toolbar_mouse_event);\n",
       "    buttongrp.append(button);\n",
       "    var titlebar = this.root.find($('.ui-dialog-titlebar'));\n",
       "    titlebar.prepend(buttongrp);\n",
       "}\n",
       "\n",
       "\n",
       "mpl.figure.prototype._canvas_extra_style = function(el){\n",
       "    // this is important to make the div 'focusable\n",
       "    el.attr('tabindex', 0)\n",
       "    // reach out to IPython and tell the keyboard manager to turn it's self\n",
       "    // off when our div gets focus\n",
       "\n",
       "    // location in version 3\n",
       "    if (IPython.notebook.keyboard_manager) {\n",
       "        IPython.notebook.keyboard_manager.register_events(el);\n",
       "    }\n",
       "    else {\n",
       "        // location in version 2\n",
       "        IPython.keyboard_manager.register_events(el);\n",
       "    }\n",
       "\n",
       "}\n",
       "\n",
       "mpl.figure.prototype._key_event_extra = function(event, name) {\n",
       "    var manager = IPython.notebook.keyboard_manager;\n",
       "    if (!manager)\n",
       "        manager = IPython.keyboard_manager;\n",
       "\n",
       "    // Check for shift+enter\n",
       "    if (event.shiftKey && event.which == 13) {\n",
       "        this.canvas_div.blur();\n",
       "        event.shiftKey = false;\n",
       "        // Send a \"J\" for go to next cell\n",
       "        event.which = 74;\n",
       "        event.keyCode = 74;\n",
       "        manager.command_mode();\n",
       "        manager.handle_keydown(event);\n",
       "    }\n",
       "}\n",
       "\n",
       "mpl.figure.prototype.handle_save = function(fig, msg) {\n",
       "    fig.ondownload(fig, null);\n",
       "}\n",
       "\n",
       "\n",
       "mpl.find_output_cell = function(html_output) {\n",
       "    // Return the cell and output element which can be found *uniquely* in the notebook.\n",
       "    // Note - this is a bit hacky, but it is done because the \"notebook_saving.Notebook\"\n",
       "    // IPython event is triggered only after the cells have been serialised, which for\n",
       "    // our purposes (turning an active figure into a static one), is too late.\n",
       "    var cells = IPython.notebook.get_cells();\n",
       "    var ncells = cells.length;\n",
       "    for (var i=0; i<ncells; i++) {\n",
       "        var cell = cells[i];\n",
       "        if (cell.cell_type === 'code'){\n",
       "            for (var j=0; j<cell.output_area.outputs.length; j++) {\n",
       "                var data = cell.output_area.outputs[j];\n",
       "                if (data.data) {\n",
       "                    // IPython >= 3 moved mimebundle to data attribute of output\n",
       "                    data = data.data;\n",
       "                }\n",
       "                if (data['text/html'] == html_output) {\n",
       "                    return [cell, data, j];\n",
       "                }\n",
       "            }\n",
       "        }\n",
       "    }\n",
       "}\n",
       "\n",
       "// Register the function which deals with the matplotlib target/channel.\n",
       "// The kernel may be null if the page has been refreshed.\n",
       "if (IPython.notebook.kernel != null) {\n",
       "    IPython.notebook.kernel.comm_manager.register_target('matplotlib', mpl.mpl_figure_comm);\n",
       "}\n"
      ],
      "text/plain": [
       "<IPython.core.display.Javascript object>"
      ]
     },
     "metadata": {},
     "output_type": "display_data"
    },
    {
     "data": {
      "text/html": [
       "<img src=\"data:image/png;base64,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\">"
      ],
      "text/plain": [
       "<IPython.core.display.HTML object>"
      ]
     },
     "metadata": {},
     "output_type": "display_data"
    }
   ],
   "source": [
    "# plot it\n",
    "mean_bias_non_corr, err_bias_non_corr = [f(all_bias_std) for f in (np.mean, stats.sem)]\n",
    "mean_bias_corr, err_bias_corr = [f(all_bias_std_corr) for f in (np.mean, stats.sem)]\n",
    "\n",
    "fig, ax = plt.subplots(figsize=(14, 7))\n",
    "bins = np.linspace(-1.2 * POPULATION_STD_DEV, 2 * POPULATION_STD_DEV, 100)\n",
    "ax.hist(all_bias_std, bins, histtype='step', normed=True, label='non-corr %.3f$\\pm$%.3f' % (mean_bias_non_corr, err_bias_non_corr))\n",
    "ax.hist(all_bias_std_corr, bins, histtype='step', normed=True, label='corr %.3f$\\pm$%.3f' % (mean_bias_corr, err_bias_corr))\n",
    "bias_pdf = stats.chi(df=SIZE-1, loc=-POPULATION_STD_DEV, scale = POPULATION_STD_DEV / (np.sqrt(SIZE - 1) ))\n",
    "bias_pdf_integral_window = bias_pdf.cdf(bins.max()) - bias_pdf.cdf(bins.min())\n",
    "ax.plot(bins, bias_pdf.pdf(bins) / bias_pdf_integral_window, label='$\\chi_{n-1}((\\mathrm{bias} + \\sigma) \\sqrt{n - 1} / \\sigma)$')\n",
    "ax.set_xlabel('bias')\n",
    "ax.legend()\n",
    "plt.close()"
   ]
  },
  {
   "cell_type": "code",
   "execution_count": 13,
   "metadata": {
    "collapsed": false,
    "slideshow": {
     "slide_type": "subslide"
    }
   },
   "outputs": [
    {
     "data": {
      "image/png": "[encoded data removed]",
      "text/plain": [
       "<matplotlib.figure.Figure at 0x82387d0>"
      ]
     },
     "execution_count": 13,
     "metadata": {},
     "output_type": "execute_result"
    }
   ],
   "source": [
    "fig"
   ]
  },
  {
   "cell_type": "markdown",
   "metadata": {
    "slideshow": {
     "slide_type": "fragment"
    }
   },
   "source": [
    "<small>For a normal distribution $y^2\\sim\\chi^2_{n-1}$ with $y=\\sqrt{n-1}s/\\sigma$ by [Cochran's theorem](https://en.wikipedia.org/wiki/Cochran%27s_theorem), so in principle it is possibile to have an analytical expression for an unbiased estimator</small>"
   ]
  },
  {
   "cell_type": "markdown",
   "metadata": {
    "slideshow": {
     "slide_type": "fragment"
    }
   },
   "source": [
    "Can we draw a conclusions from these numbers? (answer=yes, detail in the rest of the lecture)"
   ]
  },
  {
   "cell_type": "markdown",
   "metadata": {
    "slideshow": {
     "slide_type": "subslide"
    }
   },
   "source": [
    "   * <strong>Statistic</strong>: a function of the data\n",
    "   * <strong>Conditional probability</strong> $P(A|B) = P(A\\cap B) / P(B)$\n",
    "      - 2% $\\stackrel{?}{=}$ P(to be pregnant|to be woman) $\\neq$ P(to be woman|to be pregnant) = 1\n",
    "      - P(data|theory) $\\neq$ P(theory|data)\n",
    "   * <strong>Bayes theorem</strong> $P(A|B)P(B) = P(B|A)P(A)$\n",
    "   * <strong>Likelihood</strong>: $\\mathcal{L}(\\theta|\\text{data}) = P(\\text{data}|\\theta)$"
   ]
  },
  {
   "cell_type": "code",
   "execution_count": 14,
   "metadata": {
    "collapsed": false,
    "slideshow": {
     "slide_type": "skip"
    }
   },
   "outputs": [
    {
     "data": {
      "application/javascript": [
       "/* Put everything inside the global mpl namespace */\n",
       "window.mpl = {};\n",
       "\n",
       "mpl.get_websocket_type = function() {\n",
       "    if (typeof(WebSocket) !== 'undefined') {\n",
       "        return WebSocket;\n",
       "    } else if (typeof(MozWebSocket) !== 'undefined') {\n",
       "        return MozWebSocket;\n",
       "    } else {\n",
       "        alert('Your browser does not have WebSocket support.' +\n",
       "              'Please try Chrome, Safari or Firefox ≥ 6. ' +\n",
       "              'Firefox 4 and 5 are also supported but you ' +\n",
       "              'have to enable WebSockets in about:config.');\n",
       "    };\n",
       "}\n",
       "\n",
       "mpl.figure = function(figure_id, websocket, ondownload, parent_element) {\n",
       "    this.id = figure_id;\n",
       "\n",
       "    this.ws = websocket;\n",
       "\n",
       "    this.supports_binary = (this.ws.binaryType != undefined);\n",
       "\n",
       "    if (!this.supports_binary) {\n",
       "        var warnings = document.getElementById(\"mpl-warnings\");\n",
       "        if (warnings) {\n",
       "            warnings.style.display = 'block';\n",
       "            warnings.textContent = (\n",
       "                \"This browser does not support binary websocket messages. \" +\n",
       "                    \"Performance may be slow.\");\n",
       "        }\n",
       "    }\n",
       "\n",
       "    this.imageObj = new Image();\n",
       "\n",
       "    this.context = undefined;\n",
       "    this.message = undefined;\n",
       "    this.canvas = undefined;\n",
       "    this.rubberband_canvas = undefined;\n",
       "    this.rubberband_context = undefined;\n",
       "    this.format_dropdown = undefined;\n",
       "\n",
       "    this.image_mode = 'full';\n",
       "\n",
       "    this.root = $('<div/>');\n",
       "    this._root_extra_style(this.root)\n",
       "    this.root.attr('style', 'display: inline-block');\n",
       "\n",
       "    $(parent_element).append(this.root);\n",
       "\n",
       "    this._init_header(this);\n",
       "    this._init_canvas(this);\n",
       "    this._init_toolbar(this);\n",
       "\n",
       "    var fig = this;\n",
       "\n",
       "    this.waiting = false;\n",
       "\n",
       "    this.ws.onopen =  function () {\n",
       "            fig.send_message(\"supports_binary\", {value: fig.supports_binary});\n",
       "            fig.send_message(\"send_image_mode\", {});\n",
       "            fig.send_message(\"refresh\", {});\n",
       "        }\n",
       "\n",
       "    this.imageObj.onload = function() {\n",
       "            if (fig.image_mode == 'full') {\n",
       "                // Full images could contain transparency (where diff images\n",
       "                // almost always do), so we need to clear the canvas so that\n",
       "                // there is no ghosting.\n",
       "                fig.context.clearRect(0, 0, fig.canvas.width, fig.canvas.height);\n",
       "            }\n",
       "            fig.context.drawImage(fig.imageObj, 0, 0);\n",
       "            fig.waiting = false;\n",
       "        };\n",
       "\n",
       "    this.imageObj.onunload = function() {\n",
       "        this.ws.close();\n",
       "    }\n",
       "\n",
       "    this.ws.onmessage = this._make_on_message_function(this);\n",
       "\n",
       "    this.ondownload = ondownload;\n",
       "}\n",
       "\n",
       "mpl.figure.prototype._init_header = function() {\n",
       "    var titlebar = $(\n",
       "        '<div class=\"ui-dialog-titlebar ui-widget-header ui-corner-all ' +\n",
       "        'ui-helper-clearfix\"/>');\n",
       "    var titletext = $(\n",
       "        '<div class=\"ui-dialog-title\" style=\"width: 100%; ' +\n",
       "        'text-align: center; padding: 3px;\"/>');\n",
       "    titlebar.append(titletext)\n",
       "    this.root.append(titlebar);\n",
       "    this.header = titletext[0];\n",
       "}\n",
       "\n",
       "\n",
       "\n",
       "mpl.figure.prototype._canvas_extra_style = function(canvas_div) {\n",
       "\n",
       "}\n",
       "\n",
       "\n",
       "mpl.figure.prototype._root_extra_style = function(canvas_div) {\n",
       "\n",
       "}\n",
       "\n",
       "mpl.figure.prototype._init_canvas = function() {\n",
       "    var fig = this;\n",
       "\n",
       "    var canvas_div = $('<div/>');\n",
       "\n",
       "    canvas_div.attr('style', 'position: relative; clear: both; outline: 0');\n",
       "\n",
       "    function canvas_keyboard_event(event) {\n",
       "        return fig.key_event(event, event['data']);\n",
       "    }\n",
       "\n",
       "    canvas_div.keydown('key_press', canvas_keyboard_event);\n",
       "    canvas_div.keyup('key_release', canvas_keyboard_event);\n",
       "    this.canvas_div = canvas_div\n",
       "    this._canvas_extra_style(canvas_div)\n",
       "    this.root.append(canvas_div);\n",
       "\n",
       "    var canvas = $('<canvas/>');\n",
       "    canvas.addClass('mpl-canvas');\n",
       "    canvas.attr('style', \"left: 0; top: 0; z-index: 0; outline: 0\")\n",
       "\n",
       "    this.canvas = canvas[0];\n",
       "    this.context = canvas[0].getContext(\"2d\");\n",
       "\n",
       "    var rubberband = $('<canvas/>');\n",
       "    rubberband.attr('style', \"position: absolute; left: 0; top: 0; z-index: 1;\")\n",
       "\n",
       "    var pass_mouse_events = true;\n",
       "\n",
       "    canvas_div.resizable({\n",
       "        start: function(event, ui) {\n",
       "            pass_mouse_events = false;\n",
       "        },\n",
       "        resize: function(event, ui) {\n",
       "            fig.request_resize(ui.size.width, ui.size.height);\n",
       "        },\n",
       "        stop: function(event, ui) {\n",
       "            pass_mouse_events = true;\n",
       "            fig.request_resize(ui.size.width, ui.size.height);\n",
       "        },\n",
       "    });\n",
       "\n",
       "    function mouse_event_fn(event) {\n",
       "        if (pass_mouse_events)\n",
       "            return fig.mouse_event(event, event['data']);\n",
       "    }\n",
       "\n",
       "    rubberband.mousedown('button_press', mouse_event_fn);\n",
       "    rubberband.mouseup('button_release', mouse_event_fn);\n",
       "    // Throttle sequential mouse events to 1 every 20ms.\n",
       "    rubberband.mousemove('motion_notify', mouse_event_fn);\n",
       "\n",
       "    rubberband.mouseenter('figure_enter', mouse_event_fn);\n",
       "    rubberband.mouseleave('figure_leave', mouse_event_fn);\n",
       "\n",
       "    canvas_div.on(\"wheel\", function (event) {\n",
       "        event = event.originalEvent;\n",
       "        event['data'] = 'scroll'\n",
       "        if (event.deltaY < 0) {\n",
       "            event.step = 1;\n",
       "        } else {\n",
       "            event.step = -1;\n",
       "        }\n",
       "        mouse_event_fn(event);\n",
       "    });\n",
       "\n",
       "    canvas_div.append(canvas);\n",
       "    canvas_div.append(rubberband);\n",
       "\n",
       "    this.rubberband = rubberband;\n",
       "    this.rubberband_canvas = rubberband[0];\n",
       "    this.rubberband_context = rubberband[0].getContext(\"2d\");\n",
       "    this.rubberband_context.strokeStyle = \"#000000\";\n",
       "\n",
       "    this._resize_canvas = function(width, height) {\n",
       "        // Keep the size of the canvas, canvas container, and rubber band\n",
       "        // canvas in synch.\n",
       "        canvas_div.css('width', width)\n",
       "        canvas_div.css('height', height)\n",
       "\n",
       "        canvas.attr('width', width);\n",
       "        canvas.attr('height', height);\n",
       "\n",
       "        rubberband.attr('width', width);\n",
       "        rubberband.attr('height', height);\n",
       "    }\n",
       "\n",
       "    // Set the figure to an initial 600x600px, this will subsequently be updated\n",
       "    // upon first draw.\n",
       "    this._resize_canvas(600, 600);\n",
       "\n",
       "    // Disable right mouse context menu.\n",
       "    $(this.rubberband_canvas).bind(\"contextmenu\",function(e){\n",
       "        return false;\n",
       "    });\n",
       "\n",
       "    function set_focus () {\n",
       "        canvas.focus();\n",
       "        canvas_div.focus();\n",
       "    }\n",
       "\n",
       "    window.setTimeout(set_focus, 100);\n",
       "}\n",
       "\n",
       "mpl.figure.prototype._init_toolbar = function() {\n",
       "    var fig = this;\n",
       "\n",
       "    var nav_element = $('<div/>')\n",
       "    nav_element.attr('style', 'width: 100%');\n",
       "    this.root.append(nav_element);\n",
       "\n",
       "    // Define a callback function for later on.\n",
       "    function toolbar_event(event) {\n",
       "        return fig.toolbar_button_onclick(event['data']);\n",
       "    }\n",
       "    function toolbar_mouse_event(event) {\n",
       "        return fig.toolbar_button_onmouseover(event['data']);\n",
       "    }\n",
       "\n",
       "    for(var toolbar_ind in mpl.toolbar_items) {\n",
       "        var name = mpl.toolbar_items[toolbar_ind][0];\n",
       "        var tooltip = mpl.toolbar_items[toolbar_ind][1];\n",
       "        var image = mpl.toolbar_items[toolbar_ind][2];\n",
       "        var method_name = mpl.toolbar_items[toolbar_ind][3];\n",
       "\n",
       "        if (!name) {\n",
       "            // put a spacer in here.\n",
       "            continue;\n",
       "        }\n",
       "        var button = $('<button/>');\n",
       "        button.addClass('ui-button ui-widget ui-state-default ui-corner-all ' +\n",
       "                        'ui-button-icon-only');\n",
       "        button.attr('role', 'button');\n",
       "        button.attr('aria-disabled', 'false');\n",
       "        button.click(method_name, toolbar_event);\n",
       "        button.mouseover(tooltip, toolbar_mouse_event);\n",
       "\n",
       "        var icon_img = $('<span/>');\n",
       "        icon_img.addClass('ui-button-icon-primary ui-icon');\n",
       "        icon_img.addClass(image);\n",
       "        icon_img.addClass('ui-corner-all');\n",
       "\n",
       "        var tooltip_span = $('<span/>');\n",
       "        tooltip_span.addClass('ui-button-text');\n",
       "        tooltip_span.html(tooltip);\n",
       "\n",
       "        button.append(icon_img);\n",
       "        button.append(tooltip_span);\n",
       "\n",
       "        nav_element.append(button);\n",
       "    }\n",
       "\n",
       "    var fmt_picker_span = $('<span/>');\n",
       "\n",
       "    var fmt_picker = $('<select/>');\n",
       "    fmt_picker.addClass('mpl-toolbar-option ui-widget ui-widget-content');\n",
       "    fmt_picker_span.append(fmt_picker);\n",
       "    nav_element.append(fmt_picker_span);\n",
       "    this.format_dropdown = fmt_picker[0];\n",
       "\n",
       "    for (var ind in mpl.extensions) {\n",
       "        var fmt = mpl.extensions[ind];\n",
       "        var option = $(\n",
       "            '<option/>', {selected: fmt === mpl.default_extension}).html(fmt);\n",
       "        fmt_picker.append(option)\n",
       "    }\n",
       "\n",
       "    // Add hover states to the ui-buttons\n",
       "    $( \".ui-button\" ).hover(\n",
       "        function() { $(this).addClass(\"ui-state-hover\");},\n",
       "        function() { $(this).removeClass(\"ui-state-hover\");}\n",
       "    );\n",
       "\n",
       "    var status_bar = $('<span class=\"mpl-message\"/>');\n",
       "    nav_element.append(status_bar);\n",
       "    this.message = status_bar[0];\n",
       "}\n",
       "\n",
       "mpl.figure.prototype.request_resize = function(x_pixels, y_pixels) {\n",
       "    // Request matplotlib to resize the figure. Matplotlib will then trigger a resize in the client,\n",
       "    // which will in turn request a refresh of the image.\n",
       "    this.send_message('resize', {'width': x_pixels, 'height': y_pixels});\n",
       "}\n",
       "\n",
       "mpl.figure.prototype.send_message = function(type, properties) {\n",
       "    properties['type'] = type;\n",
       "    properties['figure_id'] = this.id;\n",
       "    this.ws.send(JSON.stringify(properties));\n",
       "}\n",
       "\n",
       "mpl.figure.prototype.send_draw_message = function() {\n",
       "    if (!this.waiting) {\n",
       "        this.waiting = true;\n",
       "        this.ws.send(JSON.stringify({type: \"draw\", figure_id: this.id}));\n",
       "    }\n",
       "}\n",
       "\n",
       "\n",
       "mpl.figure.prototype.handle_save = function(fig, msg) {\n",
       "    var format_dropdown = fig.format_dropdown;\n",
       "    var format = format_dropdown.options[format_dropdown.selectedIndex].value;\n",
       "    fig.ondownload(fig, format);\n",
       "}\n",
       "\n",
       "\n",
       "mpl.figure.prototype.handle_resize = function(fig, msg) {\n",
       "    var size = msg['size'];\n",
       "    if (size[0] != fig.canvas.width || size[1] != fig.canvas.height) {\n",
       "        fig._resize_canvas(size[0], size[1]);\n",
       "        fig.send_message(\"refresh\", {});\n",
       "    };\n",
       "}\n",
       "\n",
       "mpl.figure.prototype.handle_rubberband = function(fig, msg) {\n",
       "    var x0 = msg['x0'];\n",
       "    var y0 = fig.canvas.height - msg['y0'];\n",
       "    var x1 = msg['x1'];\n",
       "    var y1 = fig.canvas.height - msg['y1'];\n",
       "    x0 = Math.floor(x0) + 0.5;\n",
       "    y0 = Math.floor(y0) + 0.5;\n",
       "    x1 = Math.floor(x1) + 0.5;\n",
       "    y1 = Math.floor(y1) + 0.5;\n",
       "    var min_x = Math.min(x0, x1);\n",
       "    var min_y = Math.min(y0, y1);\n",
       "    var width = Math.abs(x1 - x0);\n",
       "    var height = Math.abs(y1 - y0);\n",
       "\n",
       "    fig.rubberband_context.clearRect(\n",
       "        0, 0, fig.canvas.width, fig.canvas.height);\n",
       "\n",
       "    fig.rubberband_context.strokeRect(min_x, min_y, width, height);\n",
       "}\n",
       "\n",
       "mpl.figure.prototype.handle_figure_label = function(fig, msg) {\n",
       "    // Updates the figure title.\n",
       "    fig.header.textContent = msg['label'];\n",
       "}\n",
       "\n",
       "mpl.figure.prototype.handle_cursor = function(fig, msg) {\n",
       "    var cursor = msg['cursor'];\n",
       "    switch(cursor)\n",
       "    {\n",
       "    case 0:\n",
       "        cursor = 'pointer';\n",
       "        break;\n",
       "    case 1:\n",
       "        cursor = 'default';\n",
       "        break;\n",
       "    case 2:\n",
       "        cursor = 'crosshair';\n",
       "        break;\n",
       "    case 3:\n",
       "        cursor = 'move';\n",
       "        break;\n",
       "    }\n",
       "    fig.rubberband_canvas.style.cursor = cursor;\n",
       "}\n",
       "\n",
       "mpl.figure.prototype.handle_message = function(fig, msg) {\n",
       "    fig.message.textContent = msg['message'];\n",
       "}\n",
       "\n",
       "mpl.figure.prototype.handle_draw = function(fig, msg) {\n",
       "    // Request the server to send over a new figure.\n",
       "    fig.send_draw_message();\n",
       "}\n",
       "\n",
       "mpl.figure.prototype.handle_image_mode = function(fig, msg) {\n",
       "    fig.image_mode = msg['mode'];\n",
       "}\n",
       "\n",
       "mpl.figure.prototype.updated_canvas_event = function() {\n",
       "    // Called whenever the canvas gets updated.\n",
       "    this.send_message(\"ack\", {});\n",
       "}\n",
       "\n",
       "// A function to construct a web socket function for onmessage handling.\n",
       "// Called in the figure constructor.\n",
       "mpl.figure.prototype._make_on_message_function = function(fig) {\n",
       "    return function socket_on_message(evt) {\n",
       "        if (evt.data instanceof Blob) {\n",
       "            /* FIXME: We get \"Resource interpreted as Image but\n",
       "             * transferred with MIME type text/plain:\" errors on\n",
       "             * Chrome.  But how to set the MIME type?  It doesn't seem\n",
       "             * to be part of the websocket stream */\n",
       "            evt.data.type = \"image/png\";\n",
       "\n",
       "            /* Free the memory for the previous frames */\n",
       "            if (fig.imageObj.src) {\n",
       "                (window.URL || window.webkitURL).revokeObjectURL(\n",
       "                    fig.imageObj.src);\n",
       "            }\n",
       "\n",
       "            fig.imageObj.src = (window.URL || window.webkitURL).createObjectURL(\n",
       "                evt.data);\n",
       "            fig.updated_canvas_event();\n",
       "            return;\n",
       "        }\n",
       "        else if (typeof evt.data === 'string' && evt.data.slice(0, 21) == \"data:image/png;base64\") {\n",
       "            fig.imageObj.src = evt.data;\n",
       "            fig.updated_canvas_event();\n",
       "            return;\n",
       "        }\n",
       "\n",
       "        var msg = JSON.parse(evt.data);\n",
       "        var msg_type = msg['type'];\n",
       "\n",
       "        // Call the  \"handle_{type}\" callback, which takes\n",
       "        // the figure and JSON message as its only arguments.\n",
       "        try {\n",
       "            var callback = fig[\"handle_\" + msg_type];\n",
       "        } catch (e) {\n",
       "            console.log(\"No handler for the '\" + msg_type + \"' message type: \", msg);\n",
       "            return;\n",
       "        }\n",
       "\n",
       "        if (callback) {\n",
       "            try {\n",
       "                // console.log(\"Handling '\" + msg_type + \"' message: \", msg);\n",
       "                callback(fig, msg);\n",
       "            } catch (e) {\n",
       "                console.log(\"Exception inside the 'handler_\" + msg_type + \"' callback:\", e, e.stack, msg);\n",
       "            }\n",
       "        }\n",
       "    };\n",
       "}\n",
       "\n",
       "// from http://stackoverflow.com/questions/1114465/getting-mouse-location-in-canvas\n",
       "mpl.findpos = function(e) {\n",
       "    //this section is from http://www.quirksmode.org/js/events_properties.html\n",
       "    var targ;\n",
       "    if (!e)\n",
       "        e = window.event;\n",
       "    if (e.target)\n",
       "        targ = e.target;\n",
       "    else if (e.srcElement)\n",
       "        targ = e.srcElement;\n",
       "    if (targ.nodeType == 3) // defeat Safari bug\n",
       "        targ = targ.parentNode;\n",
       "\n",
       "    // jQuery normalizes the pageX and pageY\n",
       "    // pageX,Y are the mouse positions relative to the document\n",
       "    // offset() returns the position of the element relative to the document\n",
       "    var x = e.pageX - $(targ).offset().left;\n",
       "    var y = e.pageY - $(targ).offset().top;\n",
       "\n",
       "    return {\"x\": x, \"y\": y};\n",
       "};\n",
       "\n",
       "mpl.figure.prototype.mouse_event = function(event, name) {\n",
       "    var canvas_pos = mpl.findpos(event)\n",
       "\n",
       "    if (name === 'button_press')\n",
       "    {\n",
       "        this.canvas.focus();\n",
       "        this.canvas_div.focus();\n",
       "    }\n",
       "\n",
       "    var x = canvas_pos.x;\n",
       "    var y = canvas_pos.y;\n",
       "\n",
       "    this.send_message(name, {x: x, y: y, button: event.button,\n",
       "                             step: event.step});\n",
       "\n",
       "    /* This prevents the web browser from automatically changing to\n",
       "     * the text insertion cursor when the button is pressed.  We want\n",
       "     * to control all of the cursor setting manually through the\n",
       "     * 'cursor' event from matplotlib */\n",
       "    event.preventDefault();\n",
       "    return false;\n",
       "}\n",
       "\n",
       "mpl.figure.prototype._key_event_extra = function(event, name) {\n",
       "    // Handle any extra behaviour associated with a key event\n",
       "}\n",
       "\n",
       "mpl.figure.prototype.key_event = function(event, name) {\n",
       "\n",
       "    // Prevent repeat events\n",
       "    if (name == 'key_press')\n",
       "    {\n",
       "        if (event.which === this._key)\n",
       "            return;\n",
       "        else\n",
       "            this._key = event.which;\n",
       "    }\n",
       "    if (name == 'key_release')\n",
       "        this._key = null;\n",
       "\n",
       "    var value = '';\n",
       "    if (event.ctrlKey && event.which != 17)\n",
       "        value += \"ctrl+\";\n",
       "    if (event.altKey && event.which != 18)\n",
       "        value += \"alt+\";\n",
       "    if (event.shiftKey && event.which != 16)\n",
       "        value += \"shift+\";\n",
       "\n",
       "    value += 'k';\n",
       "    value += event.which.toString();\n",
       "\n",
       "    this._key_event_extra(event, name);\n",
       "\n",
       "    this.send_message(name, {key: value});\n",
       "    return false;\n",
       "}\n",
       "\n",
       "mpl.figure.prototype.toolbar_button_onclick = function(name) {\n",
       "    if (name == 'download') {\n",
       "        this.handle_save(this, null);\n",
       "    } else {\n",
       "        this.send_message(\"toolbar_button\", {name: name});\n",
       "    }\n",
       "};\n",
       "\n",
       "mpl.figure.prototype.toolbar_button_onmouseover = function(tooltip) {\n",
       "    this.message.textContent = tooltip;\n",
       "};\n",
       "mpl.toolbar_items = [[\"Home\", \"Reset original view\", \"fa fa-home icon-home\", \"home\"], [\"Back\", \"Back to  previous view\", \"fa fa-arrow-left icon-arrow-left\", \"back\"], [\"Forward\", \"Forward to next view\", \"fa fa-arrow-right icon-arrow-right\", \"forward\"], [\"\", \"\", \"\", \"\"], [\"Pan\", \"Pan axes with left mouse, zoom with right\", \"fa fa-arrows icon-move\", \"pan\"], [\"Zoom\", \"Zoom to rectangle\", \"fa fa-square-o icon-check-empty\", \"zoom\"], [\"\", \"\", \"\", \"\"], [\"Download\", \"Download plot\", \"fa fa-floppy-o icon-save\", \"download\"]];\n",
       "\n",
       "mpl.extensions = [\"eps\", \"jpeg\", \"pdf\", \"png\", \"ps\", \"raw\", \"svg\", \"tif\"];\n",
       "\n",
       "mpl.default_extension = \"png\";var comm_websocket_adapter = function(comm) {\n",
       "    // Create a \"websocket\"-like object which calls the given IPython comm\n",
       "    // object with the appropriate methods. Currently this is a non binary\n",
       "    // socket, so there is still some room for performance tuning.\n",
       "    var ws = {};\n",
       "\n",
       "    ws.close = function() {\n",
       "        comm.close()\n",
       "    };\n",
       "    ws.send = function(m) {\n",
       "        //console.log('sending', m);\n",
       "        comm.send(m);\n",
       "    };\n",
       "    // Register the callback with on_msg.\n",
       "    comm.on_msg(function(msg) {\n",
       "        //console.log('receiving', msg['content']['data'], msg);\n",
       "        // Pass the mpl event to the overriden (by mpl) onmessage function.\n",
       "        ws.onmessage(msg['content']['data'])\n",
       "    });\n",
       "    return ws;\n",
       "}\n",
       "\n",
       "mpl.mpl_figure_comm = function(comm, msg) {\n",
       "    // This is the function which gets called when the mpl process\n",
       "    // starts-up an IPython Comm through the \"matplotlib\" channel.\n",
       "\n",
       "    var id = msg.content.data.id;\n",
       "    // Get hold of the div created by the display call when the Comm\n",
       "    // socket was opened in Python.\n",
       "    var element = $(\"#\" + id);\n",
       "    var ws_proxy = comm_websocket_adapter(comm)\n",
       "\n",
       "    function ondownload(figure, format) {\n",
       "        window.open(figure.imageObj.src);\n",
       "    }\n",
       "\n",
       "    var fig = new mpl.figure(id, ws_proxy,\n",
       "                           ondownload,\n",
       "                           element.get(0));\n",
       "\n",
       "    // Call onopen now - mpl needs it, as it is assuming we've passed it a real\n",
       "    // web socket which is closed, not our websocket->open comm proxy.\n",
       "    ws_proxy.onopen();\n",
       "\n",
       "    fig.parent_element = element.get(0);\n",
       "    fig.cell_info = mpl.find_output_cell(\"<div id='\" + id + \"'></div>\");\n",
       "    if (!fig.cell_info) {\n",
       "        console.error(\"Failed to find cell for figure\", id, fig);\n",
       "        return;\n",
       "    }\n",
       "\n",
       "    var output_index = fig.cell_info[2]\n",
       "    var cell = fig.cell_info[0];\n",
       "\n",
       "};\n",
       "\n",
       "mpl.figure.prototype.handle_close = function(fig, msg) {\n",
       "    // Update the output cell to use the data from the current canvas.\n",
       "    fig.push_to_output();\n",
       "    var dataURL = fig.canvas.toDataURL();\n",
       "    // Re-enable the keyboard manager in IPython - without this line, in FF,\n",
       "    // the notebook keyboard shortcuts fail.\n",
       "    IPython.keyboard_manager.enable()\n",
       "    $(fig.parent_element).html('<img src=\"' + dataURL + '\">');\n",
       "    fig.send_message('closing', {});\n",
       "    fig.ws.close()\n",
       "}\n",
       "\n",
       "mpl.figure.prototype.push_to_output = function(remove_interactive) {\n",
       "    // Turn the data on the canvas into data in the output cell.\n",
       "    var dataURL = this.canvas.toDataURL();\n",
       "    this.cell_info[1]['text/html'] = '<img src=\"' + dataURL + '\">';\n",
       "}\n",
       "\n",
       "mpl.figure.prototype.updated_canvas_event = function() {\n",
       "    // Tell IPython that the notebook contents must change.\n",
       "    IPython.notebook.set_dirty(true);\n",
       "    this.send_message(\"ack\", {});\n",
       "    var fig = this;\n",
       "    // Wait a second, then push the new image to the DOM so\n",
       "    // that it is saved nicely (might be nice to debounce this).\n",
       "    setTimeout(function () { fig.push_to_output() }, 1000);\n",
       "}\n",
       "\n",
       "mpl.figure.prototype._init_toolbar = function() {\n",
       "    var fig = this;\n",
       "\n",
       "    var nav_element = $('<div/>')\n",
       "    nav_element.attr('style', 'width: 100%');\n",
       "    this.root.append(nav_element);\n",
       "\n",
       "    // Define a callback function for later on.\n",
       "    function toolbar_event(event) {\n",
       "        return fig.toolbar_button_onclick(event['data']);\n",
       "    }\n",
       "    function toolbar_mouse_event(event) {\n",
       "        return fig.toolbar_button_onmouseover(event['data']);\n",
       "    }\n",
       "\n",
       "    for(var toolbar_ind in mpl.toolbar_items){\n",
       "        var name = mpl.toolbar_items[toolbar_ind][0];\n",
       "        var tooltip = mpl.toolbar_items[toolbar_ind][1];\n",
       "        var image = mpl.toolbar_items[toolbar_ind][2];\n",
       "        var method_name = mpl.toolbar_items[toolbar_ind][3];\n",
       "\n",
       "        if (!name) { continue; };\n",
       "\n",
       "        var button = $('<button class=\"btn btn-default\" href=\"#\" title=\"' + name + '\"><i class=\"fa ' + image + ' fa-lg\"></i></button>');\n",
       "        button.click(method_name, toolbar_event);\n",
       "        button.mouseover(tooltip, toolbar_mouse_event);\n",
       "        nav_element.append(button);\n",
       "    }\n",
       "\n",
       "    // Add the status bar.\n",
       "    var status_bar = $('<span class=\"mpl-message\" style=\"text-align:right; float: right;\"/>');\n",
       "    nav_element.append(status_bar);\n",
       "    this.message = status_bar[0];\n",
       "\n",
       "    // Add the close button to the window.\n",
       "    var buttongrp = $('<div class=\"btn-group inline pull-right\"></div>');\n",
       "    var button = $('<button class=\"btn btn-mini btn-danger\" href=\"#\" title=\"Close figure\"><i class=\"fa fa-times icon-remove icon-large\"></i></button>');\n",
       "    button.click(function (evt) { fig.handle_close(fig, {}); } );\n",
       "    button.mouseover('Close figure', toolbar_mouse_event);\n",
       "    buttongrp.append(button);\n",
       "    var titlebar = this.root.find($('.ui-dialog-titlebar'));\n",
       "    titlebar.prepend(buttongrp);\n",
       "}\n",
       "\n",
       "\n",
       "mpl.figure.prototype._canvas_extra_style = function(el){\n",
       "    // this is important to make the div 'focusable\n",
       "    el.attr('tabindex', 0)\n",
       "    // reach out to IPython and tell the keyboard manager to turn it's self\n",
       "    // off when our div gets focus\n",
       "\n",
       "    // location in version 3\n",
       "    if (IPython.notebook.keyboard_manager) {\n",
       "        IPython.notebook.keyboard_manager.register_events(el);\n",
       "    }\n",
       "    else {\n",
       "        // location in version 2\n",
       "        IPython.keyboard_manager.register_events(el);\n",
       "    }\n",
       "\n",
       "}\n",
       "\n",
       "mpl.figure.prototype._key_event_extra = function(event, name) {\n",
       "    var manager = IPython.notebook.keyboard_manager;\n",
       "    if (!manager)\n",
       "        manager = IPython.keyboard_manager;\n",
       "\n",
       "    // Check for shift+enter\n",
       "    if (event.shiftKey && event.which == 13) {\n",
       "        this.canvas_div.blur();\n",
       "        event.shiftKey = false;\n",
       "        // Send a \"J\" for go to next cell\n",
       "        event.which = 74;\n",
       "        event.keyCode = 74;\n",
       "        manager.command_mode();\n",
       "        manager.handle_keydown(event);\n",
       "    }\n",
       "}\n",
       "\n",
       "mpl.figure.prototype.handle_save = function(fig, msg) {\n",
       "    fig.ondownload(fig, null);\n",
       "}\n",
       "\n",
       "\n",
       "mpl.find_output_cell = function(html_output) {\n",
       "    // Return the cell and output element which can be found *uniquely* in the notebook.\n",
       "    // Note - this is a bit hacky, but it is done because the \"notebook_saving.Notebook\"\n",
       "    // IPython event is triggered only after the cells have been serialised, which for\n",
       "    // our purposes (turning an active figure into a static one), is too late.\n",
       "    var cells = IPython.notebook.get_cells();\n",
       "    var ncells = cells.length;\n",
       "    for (var i=0; i<ncells; i++) {\n",
       "        var cell = cells[i];\n",
       "        if (cell.cell_type === 'code'){\n",
       "            for (var j=0; j<cell.output_area.outputs.length; j++) {\n",
       "                var data = cell.output_area.outputs[j];\n",
       "                if (data.data) {\n",
       "                    // IPython >= 3 moved mimebundle to data attribute of output\n",
       "                    data = data.data;\n",
       "                }\n",
       "                if (data['text/html'] == html_output) {\n",
       "                    return [cell, data, j];\n",
       "                }\n",
       "            }\n",
       "        }\n",
       "    }\n",
       "}\n",
       "\n",
       "// Register the function which deals with the matplotlib target/channel.\n",
       "// The kernel may be null if the page has been refreshed.\n",
       "if (IPython.notebook.kernel != null) {\n",
       "    IPython.notebook.kernel.comm_manager.register_target('matplotlib', mpl.mpl_figure_comm);\n",
       "}\n"
      ],
      "text/plain": [
       "<IPython.core.display.Javascript object>"
      ]
     },
     "metadata": {},
     "output_type": "display_data"
    },
    {
     "data": {
      "text/html": [
       "<img src=\"data:image/png;base64,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\">"
      ],
      "text/plain": [
       "<IPython.core.display.HTML object>"
      ]
     },
     "metadata": {},
     "output_type": "display_data"
    }
   ],
   "source": [
    "\n",
    "fig_gaussian, axs = plt.subplots(1, 2, figsize=(15, 4))\n",
    "x = np.linspace(-5, 5, 100)\n",
    "norm = stats.norm\n",
    "y = norm.pdf(x)\n",
    "z = 1.\n",
    "mask = x > z\n",
    "for ax in axs.flat:\n",
    "    ax.plot(x, y)\n",
    "axs[0].fill_between(x[mask], y[mask])\n",
    "pvalue = norm.sf(z)\n",
    "axs[0].annotate(\"p-value = %.2f\" % pvalue, xy=(2, norm.pdf(2)), xytext=(z*2, 0.2), ha='left', arrowprops=dict(arrowstyle=\"->\", connectionstyle=\"arc3,rad=-0.1\", facecolor='black'))\n",
    "axs[0].set_xticks(list(axs[0].get_xticks()) + [z])\n",
    "\n",
    "z = norm.isf(pvalue / 2.)\n",
    "axs[1].fill_between(x[x>z], y[x>z])\n",
    "axs[1].fill_between(x[x<-z], y[x<-z])\n",
    "axs[1].set_xticks(list(axs[1].get_xticks()) + [z, -z])\n",
    "\n",
    "for ax in axs.flat:\n",
    "    ax.set_xlim(-5, 5)\n",
    "    ax.set_ylim(0, 0.45)\n",
    "\n",
    "plt.show()\n"
   ]
  },
  {
   "cell_type": "markdown",
   "metadata": {
    "slideshow": {
     "slide_type": "slide"
    }
   },
   "source": [
    "## Normal significance\n",
    "\n",
    "Usually p-values are translated in a more-friendly normal-significance (number of sigmas) $z$. With the one-tail definition this is the value (quantile) corresponding to a certain p-value for a standard gaussian:\n",
    "\n",
    "$$ \\int_z^\\infty N[x| 0, 1] dx = \\text{p-value}$$\n",
    "\n",
    "or $ \\int_z^\\infty + \\int_{-\\infty}^{-z} N[x|0,1] dx = \\text{p-value}$ for the two-tail definition."
   ]
  },
  {
   "cell_type": "code",
   "execution_count": 21,
   "metadata": {
    "collapsed": false,
    "scrolled": true
   },
   "outputs": [
    {
     "data": {
      "image/png": "[encoded data removed]",
      "text/plain": [
       "<matplotlib.figure.Figure at 0xb781150>"
      ]
     },
     "execution_count": 21,
     "metadata": {},
     "output_type": "execute_result"
    }
   ],
   "source": [
    "fig_gaussian"
   ]
  },
  {
   "cell_type": "markdown",
   "metadata": {
    "slideshow": {
     "slide_type": "subslide"
    }
   },
   "source": [
    "$$ \\int_z^\\infty N[x| 0, 1] dx = \\text{p-value}$$\n",
    "\n",
    "Taking into account the definition of the cumulative density function of a normal distribution, $\\Phi(z) = \\int_{-\\infty}^{z} N[x| 0, 1] dx$, this can be written as:\n",
    "\n",
    "$$ z = \\Phi^{-1}(1 - \\text{p-value})$$\n",
    "\n",
    "or taking into account the definition of the survival function $SF(z) = 1 - CDF(z)$:\n",
    "\n",
    "$$ z = \\text{SF}^{-1}(\\text{p-value})$$"
   ]
  },
  {
   "cell_type": "code",
   "execution_count": 15,
   "metadata": {
    "collapsed": true,
    "slideshow": {
     "slide_type": "subslide"
    }
   },
   "outputs": [],
   "source": [
    "def p2z(p_value, onetail=True):\n",
    "    \"\"\" pvalue to significance \"\"\"\n",
    "    if not onetail:\n",
    "        p_value /= 2\n",
    "    return stats.norm.isf(p_value)  # inverse of the survival function\n",
    "\n",
    "def z2p(z, onetail=True):\n",
    "    \"\"\" significance to pvalue \"\"\"\n",
    "    if onetail:\n",
    "        return stats.norm.sf(z)\n",
    "    else:\n",
    "        return stats.norm.sf(z) * 2"
   ]
  },
  {
   "cell_type": "code",
   "execution_count": 16,
   "metadata": {
    "collapsed": false,
    "slideshow": {
     "slide_type": "skip"
    }
   },
   "outputs": [],
   "source": [
    "table = '<table float=\"left\"><tr><td>p-value</td><td>z (one tail)</td><td>z (two tails)</td></tr>'\n",
    "for p_value in np.logspace(-1, -8, 8):\n",
    "    table += \"<tr><td>%.5g</td><td>%.3f</td><td>%.3f</td></tr>\" % (p_value, p2z(p_value), p2z(p_value, False))\n",
    "table += \"</table>\"\n",
    "\n",
    "table += '<table float=\"left\"><tr><td>z (one tail)</td><td>p-value</td></tr>'\n",
    "for z in np.arange(1, 7):\n",
    "    pvalue = z2p(z)\n",
    "    table += \"<tr><td>%.2f</td><td>%.2g</td></tr>\" % (z, pvalue)\n",
    "table += \"</table>\"    "
   ]
  },
  {
   "cell_type": "code",
   "execution_count": 16,
   "metadata": {
    "collapsed": false
   },
   "outputs": [
    {
     "data": {
      "text/html": [
       "<table float=\"left\"><tr><td>p-value</td><td>z (one tail)</td><td>z (two tails)</td></tr><tr><td>0.1</td><td>1.282</td><td>1.645</td></tr><tr><td>0.01</td><td>2.326</td><td>2.576</td></tr><tr><td>0.001</td><td>3.090</td><td>3.291</td></tr><tr><td>0.0001</td><td>3.719</td><td>3.891</td></tr><tr><td>1e-05</td><td>4.265</td><td>4.417</td></tr><tr><td>1e-06</td><td>4.753</td><td>4.892</td></tr><tr><td>1e-07</td><td>5.199</td><td>5.327</td></tr><tr><td>1e-08</td><td>5.612</td><td>5.731</td></tr></table><table float=\"left\"><tr><td>z (one tail)</td><td>p-value</td></tr><tr><td>1.00</td><td>0.16</td></tr><tr><td>2.00</td><td>0.023</td></tr><tr><td>3.00</td><td>0.0013</td></tr><tr><td>4.00</td><td>3.2e-05</td></tr><tr><td>5.00</td><td>2.9e-07</td></tr><tr><td>6.00</td><td>9.9e-10</td></tr></table>"
      ],
      "text/plain": [
       "<IPython.core.display.HTML object>"
      ]
     },
     "execution_count": 16,
     "metadata": {},
     "output_type": "execute_result"
    }
   ],
   "source": [
    "HTML(table)"
   ]
  },
  {
   "cell_type": "markdown",
   "metadata": {},
   "source": [
    "In HEP usually we call \"evidence\" deviation at $3\\sigma$ ($z=3$) and \"discovery\" at $5\\sigma$. In other field much bigger p-values (smaller significance) are used."
   ]
  },
  {
   "cell_type": "markdown",
   "metadata": {
    "slideshow": {
     "slide_type": "slide"
    }
   },
   "source": [
    "Counting model: observed events $N_{obs}$ distributed as Poisson distribution. Observed events can be signal or background. We know the prediction (expected) for the background: $N_{bkg}^{exp}$. \n",
    "\n",
    "Question: is there a signal? Compute the p-value.\n",
    "   * null hypothesis = background-only (expected signal = 0)\n",
    "   * Observable: $N_{obs}$\n",
    "   * Statistics: $N_{obs}$\n",
    "\n",
    "$P(N_{obs} | \\text{no signal}) = \\text{Poisson}[N_{obs}|N_{bkg}^{exp}]$. \n",
    "\n",
    "$$p_0 = \\text{p-value for no signal} = \\int_{N_{obs}}^{\\infty} P(N_{obs}|\\text{no signal}) =\\int_{N_{obs}}^{\\infty} \\text{Poisson}[N_{obs}|N_{bkg}^{exp}]$$"
   ]
  },
  {
   "cell_type": "code",
   "execution_count": 20,
   "metadata": {
    "collapsed": false,
    "slideshow": {
     "slide_type": "subslide"
    }
   },
   "outputs": [
    {
     "name": "stdout",
     "output_type": "stream",
     "text": [
      "p-value: 0.072160  z: 1.46  s/sqrt(b): 1.41\n"
     ]
    }
   ],
   "source": [
    "@interact(NBKG_EXP=(1, 100), NOBS=(1, 100), NSIG_EXP=(0, 20))\n",
    "def simple_example_poisson(NBKG_EXP=50, NOBS=60, NSIG_EXP=10):\n",
    "    pdf_b = stats.poisson(NBKG_EXP)\n",
    "    p_value = pdf_b.sf(NOBS)\n",
    "    print \"p-value: {:f}  z: {:.2f}  s/sqrt(b): {:.2f}\".format(p_value, p2z(p_value), (NOBS - NBKG_EXP) / np.sqrt(NBKG_EXP))\n",
    "    \n",
    "    #plot\n",
    "    x = np.arange(0, NBKG_EXP * 2)\n",
    "    y = pdf_b.pmf(x)\n",
    "    plt.plot(x, y, linestyle='steps', label='$P(N_{obs}|s=0)$')\n",
    "    plt.plot(x, stats.poisson(NBKG_EXP + NSIG_EXP).pmf(x), linestyle='steps', alpha=0.3, label='$P(N_{obs}|s=%d)$' % NSIG_EXP)\n",
    "    #plt.step(x, y, fillcolor='red')\n",
    "    #plt.fill_between(x, y, steps='pre')\n",
    "    plt.vlines(NOBS, 0, pdf_b.pmf(NOBS))\n",
    "    plt.legend(loc=0)\n",
    "    plt.draw()"
   ]
  },
  {
   "cell_type": "markdown",
   "metadata": {
    "slideshow": {
     "slide_type": "subslide"
    }
   },
   "source": [
    "<small>\n",
    "   * Note that exclusing the null-hypothesis doesn't mean that we consider the alternative hypothesis true.   \n",
    "   * Note that what we have computed is $P(N_\\text{obs} | \\text{no signal})$, which can be written more generally as $P(\\text{data}|\\text{model})$, so we are computing a probability about data.\n",
    "   * We are not computing a probability about the model ($P(\\text{model})$, which is what we want to know!)\n",
    "   * Remember the definition of probability in the frequenstis approach $P(E) = \\lim_{N\\to\\infty}\\frac{n}{N}$, where $n$ is the number of occurrences of an event $E$ in $N$ trials. This can only be applied to repeatable events\n",
    "   * Only in a Bayesian framework you can aswer (or compute the relative probability) questions like \"Is there the Higgs boson?\", \"Will it rain tomorrow?\", \"Was Napoleon murdered?\"\n",
    "   \n",
    "> \"Bayesians address the question everyone is interested in, by using\n",
    "> assumptions no-one believes\"\n",
    "\n",
    "> \"Frequentists use impeccable logic to deal with an issue of no interest to\n",
    ">anyone\"\n",
    "L. Lyons\n",
    "</small>\n",
    "  \n",
    "\n",
    "   "
   ]
  },
  {
   "cell_type": "code",
   "execution_count": 18,
   "metadata": {
    "collapsed": false,
    "slideshow": {
     "slide_type": "subslide"
    }
   },
   "outputs": [],
   "source": [
    "def eval_sensitivity(bkg_xsec=1000, signal_xsec_exp=10., signal_efficiency=0.8, bkg_rejection=100, max_lumi=8.):\n",
    "    luminosities = np.linspace(1E-9, max_lumi, 200)\n",
    "\n",
    "    pvalues, zs = [], []\n",
    "    for lumi in luminosities:\n",
    "        nsignal_exp = lumi * signal_xsec_exp * signal_efficiency\n",
    "        nbkg_exp = lumi * bkg_xsec / bkg_rejection\n",
    "        p_value = stats.poisson.sf(nsignal_exp + nbkg_exp, nbkg_exp)\n",
    "        pvalues.append(p_value)\n",
    "        zs.append(p2z(p_value))\n",
    "\n",
    "    s = luminosities * signal_xsec_exp * signal_efficiency  \n",
    "    b = luminosities * bkg_xsec / bkg_rejection\n",
    "    \n",
    "    approximation_z = s / np.sqrt(b)\n",
    "    formula_z = np.sqrt(2 * ((s + b) * np.log(1 + s / b) - s))\n",
    "        \n",
    "    fig, axs = plt.subplots(1, 2, figsize=(15, 5))\n",
    "    axs[0].plot(luminosities, zs, label='$z$')\n",
    "    axs[0].plot(luminosities, approximation_z, '--', label='$s/\\sqrt{b}$')\n",
    "    axs[0].plot(luminosities, formula_z, '--', label='$\\sqrt{2 ((s + b)  \\log(1 + s / b) - s)}$')\n",
    "    axs[0].set_ylim(0, 7); axs[1].set_ylim(1E-8, 0.5)\n",
    "    axs[0].set_ylabel('significance')\n",
    "    axs[0].legend()\n",
    "    axs[0].text(0.05, 0.8, '$s=L\\sigma_S\\epsilon_S = %.2f L$' % (signal_xsec_exp * signal_efficiency), transform=axs[0].transAxes)\n",
    "    axs[0].text(0.05, 0.9, '$b=L\\sigma_b\\epsilon_b = %.2f L$' % (bkg_xsec / bkg_rejection), transform=axs[0].transAxes)\n",
    "    axs[1].semilogy(luminosities, pvalues)\n",
    "    axs[1].set_ylabel('$p_0$')\n",
    "    \n",
    "    axs[1].hlines([z2p(z) for z in range(7)], 1E-9, max_lumi, linestyles='--', alpha=0.3)\n",
    "    \n",
    "    for ax in axs.flat:\n",
    "        ax.set_xlabel('luminosity')"
   ]
  },
  {
   "cell_type": "code",
   "execution_count": 19,
   "metadata": {
    "collapsed": false,
    "slideshow": {
     "slide_type": "subslide"
    }
   },
   "outputs": [
    {
     "name": "stderr",
     "output_type": "stream",
     "text": [
      "/usr/lib64/python2.7/site-packages/matplotlib/collections.py:650: FutureWarning: elementwise comparison failed; returning scalar instead, but in the future will perform elementwise comparison\n",
      "  if self._edgecolors_original != str('face'):\n"
     ]
    },
    {
     "data": {
      "image/png": "[encoded data removed]",
      "text/plain": [
       "<matplotlib.figure.Figure at 0x67a29d0>"
      ]
     },
     "metadata": {},
     "output_type": "display_data"
    }
   ],
   "source": [
    "eval_sensitivity = interact(eval_sensitivity, bkg_xsec=(10, 10000),\n",
    "                            signal_xsec_exp=(0.1, 20),\n",
    "                            signal_efficiency=(0.7, 1, 0.01),\n",
    "                            bkg_rejection=(3, 500, 10),\n",
    "                            max_lumi=(1, 100))"
   ]
  },
  {
   "cell_type": "markdown",
   "metadata": {
    "slideshow": {
     "slide_type": "subslide"
    }
   },
   "source": [
    "### Exercize\n",
    "Explain the discontinuities in the previous plots.\n",
    "### Exercize\n",
    "Derive the approximation for the median expected significance $z\\simeq s/\\sqrt{b}$ when $s\\ll b$. Hint: use gaussian approximation of the Poisson distribution."
   ]
  },
  {
   "cell_type": "markdown",
   "metadata": {
    "slideshow": {
     "slide_type": "slide"
    }
   },
   "source": [
    "## Do it with RooFit / RooStats"
   ]
  },
  {
   "cell_type": "code",
   "execution_count": 13,
   "metadata": {
    "collapsed": false,
    "slideshow": {
     "slide_type": "-"
    }
   },
   "outputs": [],
   "source": [
    "S, B = 10, 20  # expected values\n",
    "\n",
    "ws_poisson = ROOT.RooWorkspace('ws_poisson')  # create the workspace\n",
    "b = ws_poisson.factory(\"b[%f]\" % B)  # create constant variable\n",
    "n_exp = ws_poisson.factory(\"sum::n_exp(s[%f], b)\" % S)\n",
    "# create a Poisson pdf, with n_exp expected events\n",
    "pdf = ws_poisson.factory(\"Poisson::pdf(n_obs[0, 100], n_exp)\")\n",
    "# generate a random experiment\n",
    "aset = ROOT.RooArgSet(ws_poisson.var('n_obs'))\n",
    "data = pdf.generate(aset, 1)  # generate with 1 entry\n",
    "n_obs_val = data.get(0).first().getVal()"
   ]
  },
  {
   "cell_type": "markdown",
   "metadata": {},
   "source": [
    "### Exercize\n",
    "Explain why for a counting experiment we generate a dataset with 1 entry"
   ]
  },
  {
   "cell_type": "markdown",
   "metadata": {
    "variables": {
     "B": {},
     "S": {},
     "n_exp.getVal()": {},
     "n_obs_val": {}
    }
   },
   "source": [
    "We expect to observe $s+b =$ {{S}} + {{B}} = {{n_exp.getVal()}} events if there is a signal and {{B}} if there is only background. We observe {{n_obs_val}}. Is there a signal?"
   ]
  },
  {
   "cell_type": "markdown",
   "metadata": {
    "slideshow": {
     "slide_type": "subslide"
    }
   },
   "source": [
    "We have just defined the pdf(s) and the variables of the model, but the meaning of the various items is not defined (what is our observables?). `ModelConfig`: it bind the RooFit world (just define the model) to RooStats world (do inference with the model).\n",
    "\n",
    "Create two `ModelConfig`s for null (bkg-only) and alternate hypothesis (s+b)"
   ]
  },
  {
   "cell_type": "code",
   "execution_count": 14,
   "metadata": {
    "collapsed": false
   },
   "outputs": [],
   "source": [
    "# create a MC linked to the ws\n",
    "sbModel = RooStats.ModelConfig(\"sbmodel\", ws_poisson)   \n",
    "sbModel.SetPdf(pdf)\n",
    "sbModel.SetObservables('n_obs')  # it understands variable-names\n",
    "sbModel.SetParametersOfInterest('s')\n",
    "# save the value of s for (s+b)-hypothesis\n",
    "sbModel.SetSnapshot(ROOT.RooArgSet(ws_poisson.var('s')))\n",
    "getattr(ws_poisson, 'import')(sbModel)  # import is a keyword in python\n",
    "\n",
    "bModel = sbModel.Clone(\"bmodel\")  # create a bkg-only model\n",
    "ws_poisson.var('s').setVal(0)             # with no signal\n",
    "bModel.SetSnapshot(ROOT.RooArgSet(ws_poisson.var('s')))\n",
    "getattr(ws_poisson, 'import')(bModel);"
   ]
  },
  {
   "cell_type": "code",
   "execution_count": 6,
   "metadata": {
    "collapsed": false,
    "slideshow": {
     "slide_type": "subslide"
    }
   },
   "outputs": [
    {
     "data": {
      "image/svg+xml": [
       "<svg height=\"242pt\" viewBox=\"0.00 0.00 333.00 242.00\" width=\"333pt\" xmlns=\"http://www.w3.org/2000/svg\" xmlns:xlink=\"http://www.w3.org/1999/xlink\">\n",
       "<g class=\"graph\" id=\"graph0\" transform=\"scale(1 1) rotate(0) translate(4 238)\">\n",
       "<title>signal</title>\n",
       "<polygon fill=\"white\" points=\"-4,4 -4,-238 329,-238 329,4 -4,4\" stroke=\"white\"/>\n",
       "<!-- signal -->\n",
       "<g class=\"node\" id=\"node1\"><title>signal</title>\n",
       "<ellipse cx=\"128\" cy=\"-207\" fill=\"none\" rx=\"56.9149\" ry=\"26.7407\" stroke=\"red\"/>\n",
       "<text font-family=\"Times,serif\" font-size=\"14.00\" text-anchor=\"middle\" x=\"128\" y=\"-210.8\">RooPoisson</text>\n",
       "<text font-family=\"Times,serif\" font-size=\"14.00\" text-anchor=\"middle\" x=\"128\" y=\"-195.8\">signal</text>\n",
       "</g>\n",
       "<!-- n_obs -->\n",
       "<g class=\"node\" id=\"node2\"><title>n_obs</title>\n",
       "<ellipse cx=\"59\" cy=\"-117\" fill=\"none\" rx=\"59.096\" ry=\"26.7407\" stroke=\"blue\"/>\n",
       "<text font-family=\"Times,serif\" font-size=\"14.00\" text-anchor=\"middle\" x=\"59\" y=\"-120.8\">RooRealVar</text>\n",
       "<text font-family=\"Times,serif\" font-size=\"14.00\" text-anchor=\"middle\" x=\"59\" y=\"-105.8\">n_obs</text>\n",
       "</g>\n",
       "<!-- signal&#45;&gt;n_obs -->\n",
       "<g class=\"edge\" id=\"edge3\"><title>signal-&gt;n_obs</title>\n",
       "<path d=\"M108.78,-181.487C101.291,-171.936 92.5988,-160.851 84.5934,-150.641\" fill=\"none\" stroke=\"black\"/>\n",
       "<polygon fill=\"black\" points=\"87.2812,-148.396 78.3566,-142.687 81.7726,-152.716 87.2812,-148.396\" stroke=\"black\"/>\n",
       "</g>\n",
       "<!-- n_exp -->\n",
       "<g class=\"node\" id=\"node3\"><title>n_exp</title>\n",
       "<ellipse cx=\"198\" cy=\"-117\" fill=\"none\" rx=\"61.2774\" ry=\"26.7407\" stroke=\"red\"/>\n",
       "<text font-family=\"Times,serif\" font-size=\"14.00\" text-anchor=\"middle\" x=\"198\" y=\"-120.8\">RooAddition</text>\n",
       "<text font-family=\"Times,serif\" font-size=\"14.00\" text-anchor=\"middle\" x=\"198\" y=\"-105.8\">n_exp</text>\n",
       "</g>\n",
       "<!-- signal&#45;&gt;n_exp -->\n",
       "<g class=\"edge\" id=\"edge4\"><title>signal-&gt;n_exp</title>\n",
       "<path d=\"M147.499,-181.487C155.096,-171.936 163.914,-160.851 172.036,-150.641\" fill=\"none\" stroke=\"black\"/>\n",
       "<polygon fill=\"black\" points=\"174.877,-152.692 178.363,-142.687 169.399,-148.334 174.877,-152.692\" stroke=\"black\"/>\n",
       "</g>\n",
       "<!-- s -->\n",
       "<g class=\"node\" id=\"node4\"><title>s</title>\n",
       "<ellipse cx=\"129\" cy=\"-27\" fill=\"none\" rx=\"59.096\" ry=\"26.7407\" stroke=\"blue\"/>\n",
       "<text font-family=\"Times,serif\" font-size=\"14.00\" text-anchor=\"middle\" x=\"129\" y=\"-30.8\">RooRealVar</text>\n",
       "<text font-family=\"Times,serif\" font-size=\"14.00\" text-anchor=\"middle\" x=\"129\" y=\"-15.8\">s</text>\n",
       "</g>\n",
       "<!-- n_exp&#45;&gt;s -->\n",
       "<g class=\"edge\" id=\"edge2\"><title>n_exp-&gt;s</title>\n",
       "<path d=\"M178.412,-91.0181C170.93,-81.4755 162.289,-70.4549 154.345,-60.3245\" fill=\"none\" stroke=\"black\"/>\n",
       "<polygon fill=\"black\" points=\"157.085,-58.146 148.16,-52.4362 151.576,-62.4652 157.085,-58.146\" stroke=\"black\"/>\n",
       "</g>\n",
       "<!-- b -->\n",
       "<g class=\"node\" id=\"node5\"><title>b</title>\n",
       "<ellipse cx=\"266\" cy=\"-27\" fill=\"none\" rx=\"59.096\" ry=\"26.7407\" stroke=\"blue\"/>\n",
       "<text font-family=\"Times,serif\" font-size=\"14.00\" text-anchor=\"middle\" x=\"266\" y=\"-30.8\">RooRealVar</text>\n",
       "<text font-family=\"Times,serif\" font-size=\"14.00\" text-anchor=\"middle\" x=\"266\" y=\"-15.8\">b</text>\n",
       "</g>\n",
       "<!-- n_exp&#45;&gt;b -->\n",
       "<g class=\"edge\" id=\"edge1\"><title>n_exp-&gt;b</title>\n",
       "<path d=\"M217.304,-91.0181C224.544,-81.6493 232.884,-70.8561 240.593,-60.8792\" fill=\"none\" stroke=\"black\"/>\n",
       "<polygon fill=\"black\" points=\"243.538,-62.7927 246.883,-52.7398 237.999,-58.5126 243.538,-62.7927\" stroke=\"black\"/>\n",
       "</g>\n",
       "</g>\n",
       "</svg>"
      ],
      "text/plain": [
       "<IPython.core.display.SVG object>"
      ]
     },
     "execution_count": 6,
     "metadata": {},
     "output_type": "execute_result"
    }
   ],
   "source": [
    "pdf.graphVizTree(\"pdf_graph.dot\")\n",
    "!dot -Tsvg pdf_graph.dot > pdf_graph.svg; rm pdf_graph.dot\n",
    "SVG(\"pdf_graph.svg\")"
   ]
  },
  {
   "cell_type": "code",
   "execution_count": 7,
   "metadata": {
    "collapsed": false
   },
   "outputs": [],
   "source": [
    "ws_poisson.Print()"
   ]
  },
  {
   "cell_type": "markdown",
   "metadata": {
    "slideshow": {
     "slide_type": "subslide"
    }
   },
   "source": [
    "As we have done before, for the simple counting experiment, we have used as statistic the observables directly: `n_obs`. "
   ]
  },
  {
   "cell_type": "code",
   "execution_count": 9,
   "metadata": {
    "collapsed": false
   },
   "outputs": [
    {
     "data": {
      "text/plain": [
       "29.0"
      ]
     },
     "execution_count": 9,
     "metadata": {},
     "output_type": "execute_result"
    }
   ],
   "source": [
    "test = RooStats.NumEventsTestStat(pdf)\n",
    "test.Evaluate(data, ROOT.RooArgSet(ws_poisson.var('s')))"
   ]
  },
  {
   "cell_type": "markdown",
   "metadata": {},
   "source": [
    "The only missing ingredient is the distribution of the statistics, but in this trivial example we have defied it to be the number of observed events, so it is Poissonian by definition. What to do in more complicated case (many entries for 1 events, or just in case I want to use the squared number of events)?\n",
    "   * rely on asymtotic formulas (if any)\n",
    "   * general and expensive method: run pseudo-experiments (toys), see next slide"
   ]
  },
  {
   "cell_type": "markdown",
   "metadata": {
    "slideshow": {
     "slide_type": "subslide"
    }
   },
   "source": [
    "## Usage of `ToyMCSampler`"
   ]
  },
  {
   "cell_type": "code",
   "execution_count": 50,
   "metadata": {
    "collapsed": false,
    "slideshow": {
     "slide_type": "-"
    }
   },
   "outputs": [
    {
     "name": "stderr",
     "output_type": "stream",
     "text": [
      "TROOT::Append:0: RuntimeWarning: Replacing existing TH1: log(L(#mu_{1}) / L(#mu_{0})) (Potential memory leak).\n",
      "TROOT::Append:0: RuntimeWarning: Replacing existing TH1: log(L(#mu_{1}) / L(#mu_{0})) (Potential memory leak).\n",
      "TROOT::Append:0: RuntimeWarning: Replacing existing TH1: log(L(#mu_{1}) / L(#mu_{0})) (Potential memory leak).\n"
     ]
    }
   ],
   "source": [
    "toy_sampler = RooStats.ToyMCSampler(test, 100000)  # configure to run 20000 toys\n",
    "toy_sampler.SetNEventsPerToy(1)                    # it is a counting experiment\n",
    "toy_sampler.SetObservables(bModel.GetObservables())\n",
    "toy_sampler.SetParametersForTestStat(bModel.GetParametersOfInterest())\n",
    "toy_sampler.SetPdf(pdf)\n",
    "\n",
    "test_distribution_b = toy_sampler.GetSamplingDistribution(bModel.GetParametersOfInterest())\n",
    "\n",
    "plot_test_distribution = RooStats.SamplingDistPlot(60, 0, 60)\n",
    "cuts = [test_distribution_b.InverseCDF(1 - z2p(z)) for z in range(1, 4)]\n",
    "for cut in cuts:\n",
    "    plot_test_distribution.AddSamplingDistributionShaded(test_distribution_b, -1000, cut)\n",
    "plot_test_distribution.AddSamplingDistribution(test_distribution_b)\n",
    "\n",
    "canvas = ROOT.TCanvas()\n",
    "plot_test_distribution.Draw()"
   ]
  },
  {
   "cell_type": "code",
   "execution_count": 26,
   "metadata": {
    "collapsed": false,
    "slideshow": {
     "slide_type": "subslide"
    }
   },
   "outputs": [],
   "source": [
    "canvas.SetLogy()\n",
    "canvas.Draw()"
   ]
  },
  {
   "cell_type": "markdown",
   "metadata": {},
   "source": [
    "The values corresponding to significance of 1,2,3,4 are shown. Too many toys are needed for high-significance, since we have to probe the tail of the distribution. Frequentist approach very expensive."
   ]
  },
  {
   "cell_type": "markdown",
   "metadata": {
    "slideshow": {
     "slide_type": "subslide"
    }
   },
   "source": [
    "Let use the `FrequentistCalculator` to compute the $p_0$ which use the `ToyMCCalculator` for both the hypotheses to compute the p-values. `FrequentistCalculator` is a `HypoTestCalculator` and returns a `HypoTestResults` via `GetHypoTest`, which contain the test results (p-values, ...)"
   ]
  },
  {
   "cell_type": "code",
   "execution_count": 27,
   "metadata": {
    "collapsed": false,
    "slideshow": {
     "slide_type": "-"
    }
   },
   "outputs": [],
   "source": [
    "# the sb model is not really needed in this case\n",
    "hypoCalc = RooStats.FrequentistCalculator(data, sbModel, bModel)\n",
    "hypoCalc.SetToys(20000, 1000)  # generate much more toys for bkg-only\n",
    "\n",
    "toy_sampler = hypoCalc.GetTestStatSampler()\n",
    "toy_sampler.SetTestStatistic(test)  # our test statistics\n",
    "toy_sampler.SetNEventsPerToy(1)\n",
    "\n",
    "htr = hypoCalc.GetHypoTest()\n",
    "htr.SetPValueIsRightTail(True)  # the \"extreme\" cases are on the right tail\n",
    "htr.SetBackgroundAsAlt(False)"
   ]
  },
  {
   "cell_type": "code",
   "execution_count": 28,
   "metadata": {
    "collapsed": false
   },
   "outputs": [
    {
     "name": "stdout",
     "output_type": "stream",
     "text": [
      "(frequentist)        p0 = 0.034 ± 0.001  z = 1.83 ± 0.02\n",
      "(from Poisson distr) p0 = 0.022  z = 2.02\n"
     ]
    },
    {
     "data": {
      "text/latex": [
       "$\\sqrt{2(n \\log(n/b) + b - n)} = 1.88$"
      ],
      "text/plain": [
       "<IPython.core.display.Latex object>"
      ]
     },
     "execution_count": 28,
     "metadata": {},
     "output_type": "execute_result"
    }
   ],
   "source": [
    "plot = RooStats.HypoTestPlot(htr, 60, 0, 60)  # 60 bins\n",
    "canvas = ROOT.TCanvas()\n",
    "plot.Draw()\n",
    "canvas.SetLogy()\n",
    "canvas.Draw()\n",
    "print u\"(frequentist)        p0 = %.2g ± %.1g  z = %.2f ± %.1g\" % (htr.NullPValue(), htr.NullPValueError(), htr.Significance(), htr.SignificanceError())\n",
    "z_formula = np.sqrt(2 * (n_obs_val * np.log(n_obs_val / B) + B - n_obs_val))\n",
    "p0_poisson = stats.poisson(B).sf(n_obs_val)\n",
    "print \"(from Poisson distr) p0 = %.2g  z = %.2f\" % (p0_poisson, p2z(p0_poisson))\n",
    "Latex(\"$\\sqrt{2(n \\log(n/b) + b - n)} = %.2f$\" % z_formula)"
   ]
  },
  {
   "cell_type": "markdown",
   "metadata": {
    "slideshow": {
     "slide_type": "slide"
    }
   },
   "source": [
    "## Hypothesis testing\n",
    "\n",
    "A statistical hypothesis is a hypothesis that is testable on the basis of observing a process that is modeled via a set of random variables\n",
    "\n",
    "A statistical hypothesis test is a method of statistical inference\n",
    "\n",
    "The goal of the hypothesis testing is to determine if the null ($H_0$) hypothesis can be\n",
    "rejected. A statistical test can either reject (prove false) or fail to reject (fail to\n",
    "prove false) a null hypothesis, but never prove it true (i.e., failing to reject a null\n",
    "hypothesis does not prove it true).\n"
   ]
  },
  {
   "cell_type": "markdown",
   "metadata": {
    "slideshow": {
     "slide_type": "slide"
    }
   },
   "source": [
    "## Example of test-statistics\n",
    "\n",
    "A famous journalist makes a regular survey every day, using a sample of 1000 random people. One day the fraction of citizen who trust the government is 55%, while the day after is 51%. Can we say there is a change in opinions (using $\\alpha=5\\%$)?\n",
    "\n",
    "Let's write the contingency table\n",
    "\n",
    "|      | day1    | day2  |       |\n",
    "|------|---------|-------|-------|\n",
    "| yes  |   550   |  510  |  1060 |\n",
    "| no   |   450   |  490  |   940 |\n",
    "|      |  1000   | 1000  |  2000 |\n",
    "\n",
    "Null hypothesis: day1 and day2 are from the same population. What will be the expected contingency table in that case?"
   ]
  },
  {
   "cell_type": "code",
   "execution_count": 29,
   "metadata": {
    "collapsed": false
   },
   "outputs": [
    {
     "data": {
      "text/html": [
       "<div style=\"max-height:1000px;max-width:1500px;overflow:auto;\">\n",
       "<table border=\"1\" class=\"dataframe\">\n",
       "  <thead>\n",
       "    <tr style=\"text-align: right;\">\n",
       "      <th></th>\n",
       "      <th>day1</th>\n",
       "      <th>day2</th>\n",
       "    </tr>\n",
       "  </thead>\n",
       "  <tbody>\n",
       "    <tr>\n",
       "      <th>yes</th>\n",
       "      <td>530</td>\n",
       "      <td>530</td>\n",
       "    </tr>\n",
       "    <tr>\n",
       "      <th>no</th>\n",
       "      <td>470</td>\n",
       "      <td>470</td>\n",
       "    </tr>\n",
       "  </tbody>\n",
       "</table>\n",
       "</div>"
      ],
      "text/plain": [
       "     day1  day2\n",
       "yes   530   530\n",
       "no    470   470"
      ]
     },
     "execution_count": 29,
     "metadata": {},
     "output_type": "execute_result"
    }
   ],
   "source": [
    "table = pd.DataFrame([[550, 510], [450, 490]], columns=['day1', 'day2'], index=['yes', 'no'])\n",
    "pd.DataFrame(stats.contingency.expected_freq(table), columns=['day1', 'day2'], index=['yes', 'no'])"
   ]
  },
  {
   "cell_type": "markdown",
   "metadata": {},
   "source": [
    "Define the test statistics: $\\chi^2 = \\sum_{i,j}\\frac{(O_{i,j}-E_{i,j})^2}{E_{i,j}}$ where $O$ and $E$ are the observed and expected values, while the index $i,j$ identify a cell of the table. The test statistics $\\chi^2$ is approximatively distributed as a $\\chi^2$-distribution with $(\\text{nrows} - 1)(\\text{ncolumns} - 1)=1$ degree of freedom."
   ]
  },
  {
   "cell_type": "code",
   "execution_count": 30,
   "metadata": {
    "collapsed": false
   },
   "outputs": [
    {
     "name": "stdout",
     "output_type": "stream",
     "text": [
      "chi2 = 3.05 ndof = 1 p-value = 8.059e-02\n"
     ]
    }
   ],
   "source": [
    "chi2, p, dof, _ = stats.contingency.chi2_contingency(table)\n",
    "print \"chi2 = %.2f ndof = %d p-value = %.3e\" % (chi2, dof, p)"
   ]
  },
  {
   "cell_type": "markdown",
   "metadata": {},
   "source": [
    "We can't reject the null hypothesis. The exact solution is made with the [Fisher exact test](https://en.wikipedia.org/wiki/Fisher%27s_exact_test), which used the hypergeometric distribution"
   ]
  },
  {
   "cell_type": "code",
   "execution_count": 31,
   "metadata": {
    "collapsed": false
   },
   "outputs": [
    {
     "name": "stdout",
     "output_type": "stream",
     "text": [
      "p-value = 8.056e-02\n"
     ]
    }
   ],
   "source": [
    "print \"p-value = %.3e\" % stats.fisher_exact(table)[1]"
   ]
  },
  {
   "cell_type": "markdown",
   "metadata": {
    "slideshow": {
     "slide_type": "slide"
    }
   },
   "source": [
    "## Simple and composite hypothesis\n",
    "\n",
    "* A simple hypothesis is one in which all parameters of the distribution are specified"
   ]
  },
  {
   "cell_type": "markdown",
   "metadata": {
    "slideshow": {
     "slide_type": "slide"
    }
   },
   "source": [
    "## Error type\n",
    "\n",
    "   * Type I error: false positive (excessive credulity). Rate = $\\alpha = P(\\text{reject } H_0|H_0 \\text{ is true})$\n",
    "   * Type II error: false negative (excessive skepticism). Rate = $\\beta = P(\\text{don't reject } H_0|H_0 \\text{ is false})$\n",
    "   \n",
    "   * Power of the test: $1-\\beta$\n",
    "   * Remember that \"true\"/\"false\" refers to $H_1$, the alternative hypothesis"
   ]
  },
  {
   "cell_type": "code",
   "execution_count": 32,
   "metadata": {
    "collapsed": false,
    "slideshow": {
     "slide_type": "subslide"
    }
   },
   "outputs": [
    {
     "data": {
      "image/jpeg": "[encoded data removed]",
      "text/plain": [
       "<IPython.core.display.Image object>"
      ]
     },
     "execution_count": 32,
     "metadata": {
      "image/jpeg": {
       "width": "70%"
      }
     },
     "output_type": "execute_result"
    }
   ],
   "source": [
    "Image(\"img/type-i-and-type-ii-errors.jpg\", width=\"70%\")  # from https://effectsizefaq.files.wordpress.com/2010/05/type-i-and-type-ii-errors.jpg"
   ]
  },
  {
   "cell_type": "markdown",
   "metadata": {
    "slideshow": {
     "slide_type": "fragment"
    }
   },
   "source": [
    "### Exercize: what is $H_0$ and $H_1$ in this sketch?"
   ]
  },
  {
   "cell_type": "code",
   "execution_count": 33,
   "metadata": {
    "collapsed": false,
    "scrolled": true,
    "slideshow": {
     "slide_type": "fragment"
    }
   },
   "outputs": [],
   "source": [
    "with plt.xkcd():\n",
    "    fig, ax = plt.subplots(figsize=(10, 7))\n",
    "    x = np.linspace(-5, 5, 200)\n",
    "    y0 = stats.norm.pdf(x, 0, 1)\n",
    "    y1 = stats.norm.pdf(x, 1, 1)\n",
    "    mask = x >= 2\n",
    "    ax.plot(x, y0, x, y1, '-')\n",
    "    ax.fill_between(x[mask], y0[mask], alpha=0.5)\n",
    "    ax.fill_between(x[~mask], y1[~mask], alpha=0.5, color='green')\n",
    "    ax.vlines(2, 0, 0.5, lw=2)\n",
    "    #ax.set_xticklabels([])\n",
    "    #ax.set_yticklabels([])\n",
    "    ax.set_xlabel(\"$q$\")\n",
    "    ax.annotate(\"$f(q|H_1)$\", xy=(x[100], y1[100]), xytext=(0.2, 0.7), textcoords=\"figure fraction\", size=20,\n",
    "                arrowprops=dict(arrowstyle=\"->\", connectionstyle=\"arc3\"), color='green')\n",
    "    ax.annotate(\"$f(q|H_0)$\", xy=(x[90], y0[90]), xytext=(-0.75, 0.8), textcoords=\"figure fraction\", size=20,\n",
    "                arrowprops=dict(arrowstyle=\"->\", connectionstyle=\"arc3\"), color='blue')\n",
    "    ax.annotate(r\"$\\beta$\", xy=(x[100], 0.1), xytext=(0.1, 0.5), textcoords=\"figure fraction\", size=20,\n",
    "                arrowprops=dict(arrowstyle=\"->\", connectionstyle=\"arc3\"), color='green')\n",
    "    ax.annotate(r\"$\\alpha$\", xy=(x[142], 0.01), xytext=(0.8, 0.25), textcoords=\"figure fraction\", size=20,\n",
    "                arrowprops=dict(arrowstyle=\"->\", connectionstyle=\"arc3\"), color='blue')\n",
    "    ax.text(2, 0.4, r'$q_\\alpha$', rotation='vertical', ha='right', size=20)\n",
    "plt.close()"
   ]
  },
  {
   "cell_type": "code",
   "execution_count": 34,
   "metadata": {
    "collapsed": false,
    "slideshow": {
     "slide_type": "subslide"
    }
   },
   "outputs": [
    {
     "name": "stderr",
     "output_type": "stream",
     "text": [
      "/usr/lib64/python2.7/site-packages/matplotlib/font_manager.py:1282: UserWarning: findfont: Font family [u'Humor Sans', u'Comic Sans MS'] not found. Falling back to Bitstream Vera Sans\n",
      "  (prop.get_family(), self.defaultFamily[fontext]))\n"
     ]
    },
    {
     "data": {
      "image/png": "[encoded data removed]",
      "text/plain": [
       "<matplotlib.figure.Figure at 0x7a8c150>"
      ]
     },
     "execution_count": 34,
     "metadata": {},
     "output_type": "execute_result"
    }
   ],
   "source": [
    "fig"
   ]
  },
  {
   "cell_type": "markdown",
   "metadata": {},
   "source": [
    "Note that to evaluate $\\beta = P(\\text{don't reject } H_0|H_0 \\text{ is false})$ we have used an altenative hypothesis $H_1$, but remember that if $H_0$ is false doesn't mean that $H_1$ is true.\n",
    "\n",
    "The region $q > q_\\alpha$ is the acceptance region. The complementary is the rejection region."
   ]
  },
  {
   "cell_type": "markdown",
   "metadata": {
    "slideshow": {
     "slide_type": "subslide"
    }
   },
   "source": [
    "## Hypothesis testing in practice\n",
    "\n",
    "   1. Define the null hypothesis you want to try to reject\n",
    "   * Define the observables (number of events in the signal region, ...)\n",
    "   * Fix the rate of type I error $\\alpha$ of the test statistics (5%, $5\\sigma$, ...)\n",
    "   * Define the test statistic (trying to maximize the power $1-\\beta$)\n",
    "   * Find the acceptance region in the observable space, which is the region where $H_0$ is accepted (p-value $<\\alpha$)\n",
    "   * Do the experiment\n",
    "   * If the outcome is outside the acceptance region reject the null-hypothesis\n",
    "   \n",
    "In complex example one don't compute the acceptance region, but just compute the observed p-value"
   ]
  },
  {
   "cell_type": "markdown",
   "metadata": {
    "slideshow": {
     "slide_type": "subslide"
    }
   },
   "source": [
    "### Exercize: Lady tasting tea (Fisher \"The Design of Experiments\" - 1935)\n",
    "\n",
    "A lady claimed to be able to tell whether the tea or the milk was added first to a cup. Fisher proposed to give her eight cups, four of each variety, in random order. What is the critical region at 5%? If we ask for a $5\\sigma$ evidence, what's the minimum amount of cups we have to prepare? (Hint: look at the [Hypergeometric distribution](https://en.wikipedia.org/wiki/Hypergeometric_distribution), answer should be 26)\n",
    "\n",
    "Suppose the lady claimed that she can guess at least 90% of the time the right answer. What is the power of the test in the two cases?"
   ]
  },
  {
   "cell_type": "markdown",
   "metadata": {
    "collapsed": true,
    "slideshow": {
     "slide_type": "slide"
    }
   },
   "source": [
    "## Neyman–Pearson lemma\n",
    "Having two simple hypotheses (no additional parameters) $H_0: \\theta = \\theta_0$ and $H_1: \\theta = \\theta_1$, the likelihood-ratio test:\n",
    "$$\n",
    "\\Lambda(x) = \\frac{L(\\theta_0|x)}{L(\\theta_1|x)}\n",
    "$$\n",
    "\n",
    "which rejects $H_0$ in favour of $H_1$ when $\\Lambda \\leq k_\\alpha$ (rejection region) with $\\alpha=P(\\Lambda(X)\\leq k_\\alpha|H_0)$ is the most powerful test with size $\\alpha$."
   ]
  },
  {
   "cell_type": "markdown",
   "metadata": {
    "slideshow": {
     "slide_type": "subslide"
    }
   },
   "source": [
    "### Example\n",
    "Suppose you have a rock that seems to be opal (density 2.2 g/cm<sup>3</sup>), but may be also quarz (2.6 g/cm<sup>3</sup>). You have two instruments to measure the density, the first with resolution 0.2, the second with resolution 0.5. What is the rejection region at 5%? Assume gaussian errors."
   ]
  },
  {
   "cell_type": "code",
   "execution_count": 35,
   "metadata": {
    "collapsed": false,
    "slideshow": {
     "slide_type": "subslide"
    }
   },
   "outputs": [],
   "source": [
    "ws = ROOT.RooWorkspace()\n",
    "true_density = ws.factory(\"true_density[2, 3]\")\n",
    "ws.factory(\"Gaussian::pdf1(density1[0,50], true_density, resolution1[0.5])\")\n",
    "ws.factory(\"Gaussian::pdf2(density2[0,50], true_density, resolution2[0.2])\")\n",
    "pdf = ws.factory(\"PROD::pdf(pdf1, pdf2)\")\n",
    "\n",
    "pdf_opal = ws.factory(\"EDIT:pdf_opal(pdf, true_density=density_opal[2.2])\")\n",
    "pdf_quarz = ws.factory(\"EDIT:pdf_quarz(pdf, true_density=density_quarz[2.6])\")"
   ]
  },
  {
   "cell_type": "code",
   "execution_count": 36,
   "metadata": {
    "collapsed": false
   },
   "outputs": [],
   "source": [
    "# do the experiment\n",
    "data = pdf_quarz.generate(ROOT.RooArgSet(ws.var('density1'),\n",
    "                                         ws.var('density2')), 1)  # generate with 1 entry\n",
    "data.get(0).Print(\"V\")"
   ]
  },
  {
   "cell_type": "code",
   "execution_count": 37,
   "metadata": {
    "collapsed": false
   },
   "outputs": [],
   "source": [
    "opal_model = RooStats.ModelConfig(\"opal\", ws)   \n",
    "opal_model.SetPdf(pdf_opal)\n",
    "opal_model.SetParametersOfInterest('density_opal')  # not useful\n",
    "opal_model.SetObservables('density1,density2')  # no space\n",
    "opal_model.SetSnapshot(ROOT.RooArgSet(ws.var('density_opal')))\n",
    "\n",
    "quarz_model = opal_model.Clone(\"quarz\")\n",
    "quarz_model.SetParametersOfInterest('density_quarz')  # not useful\n",
    "quarz_model.SetPdf(pdf_quarz)"
   ]
  },
  {
   "cell_type": "code",
   "execution_count": 38,
   "metadata": {
    "collapsed": false,
    "slideshow": {
     "slide_type": "subslide"
    }
   },
   "outputs": [],
   "source": [
    "# define the test-statistic\n",
    "\n",
    "test = RooStats.SimpleLikelihoodRatioTestStat(pdf_opal, pdf_quarz)  # null, alt\n",
    "test.EnableDetailedOutput(True)\n",
    "\n",
    "hypoCalc = RooStats.FrequentistCalculator(data, quarz_model, opal_model)  # alt, null\n",
    "hypoCalc.SetToys(20000, 1000)  # generate much more toys for bkg-only\n",
    "\n",
    "toy_sampler = hypoCalc.GetTestStatSampler()\n",
    "toy_sampler.SetTestStatistic(test)  # our test statistics\n",
    "toy_sampler.SetNEventsPerToy(1)\n",
    "\n",
    "htr = hypoCalc.GetHypoTest()\n",
    "htr.SetPValueIsRightTail(True)  # the \"extreme\" cases are on the right tail\n",
    "htr.SetBackgroundAsAlt(False)"
   ]
  },
  {
   "cell_type": "code",
   "execution_count": 39,
   "metadata": {
    "collapsed": false,
    "slideshow": {
     "slide_type": "subslide"
    }
   },
   "outputs": [
    {
     "name": "stderr",
     "output_type": "stream",
     "text": [
      "TROOT::Append:0: RuntimeWarning: Replacing existing TH1: quarz (Potential memory leak).\n",
      "TROOT::Append:0: RuntimeWarning: Replacing existing TH1: opal (Potential memory leak).\n"
     ]
    }
   ],
   "source": [
    "plot = RooStats.HypoTestPlot(htr, 50, -15, 15)\n",
    "canvas = ROOT.TCanvas()\n",
    "plot.Draw()\n",
    "canvas.Draw()"
   ]
  },
  {
   "cell_type": "code",
   "execution_count": 40,
   "metadata": {
    "collapsed": false,
    "slideshow": {
     "slide_type": "-"
    }
   },
   "outputs": [
    {
     "name": "stdout",
     "output_type": "stream",
     "text": [
      "observed p-value:  0.00635\n",
      "k_alpha =  1.22760964599\n",
      "power =  0.693\n"
     ]
    }
   ],
   "source": [
    "print \"observed p-value: \", htr.NullPValue()\n",
    "\n",
    "alpha = 0.05\n",
    "kalpha = htr.GetNullDistribution().InverseCDF(1 - alpha)\n",
    "beta = htr.GetAltDistribution().CDF(kalpha)\n",
    "print \"k_alpha = \", kalpha\n",
    "print \"power = \", 1 - beta"
   ]
  },
  {
   "cell_type": "markdown",
   "metadata": {
    "slideshow": {
     "slide_type": "fragment"
    }
   },
   "source": [
    "Exercize: show that the in this case the likelihood ratio is equivalent to the weighted mean of the two measurements"
   ]
  },
  {
   "cell_type": "code",
   "execution_count": 41,
   "metadata": {
    "collapsed": false,
    "slideshow": {
     "slide_type": "skip"
    }
   },
   "outputs": [],
   "source": [
    "def eval_test_stat():\n",
    "    d = ROOT.RooDataSet(\"d\", \"d\", ROOT.RooArgSet(ws.var('density1'), ws.var('density2')))\n",
    "    d.add(ROOT.RooArgSet(ws.var('density1'), ws.var('density2')))\n",
    "    return test.Evaluate(d, ROOT.RooArgSet(ws.var('true_density')))\n",
    "\n",
    "fig, ax = plt.subplots(figsize=(12, 7))\n",
    "\n",
    "x = np.linspace(1.3, 3.5, 100)\n",
    "y = np.linspace(1.5, 3.5, 100)\n",
    "\n",
    "qvalues = np.zeros((len(x), len(y)))\n",
    "pdf_opal_values = np.zeros((len(x), len(y)))\n",
    "pdf_quarz_values = np.zeros((len(x), len(y)))\n",
    "for ix, xx in enumerate(x):\n",
    "    for iy, yy in enumerate(y):        \n",
    "        ws.var('density1').setVal(xx)\n",
    "        ws.var('density2').setVal(yy)\n",
    "        qvalues[iy, ix] = eval_test_stat()\n",
    "        pdf_opal_values[iy, ix] = pdf_opal.getVal()\n",
    "        pdf_quarz_values[iy, ix] = pdf_quarz.getVal()\n",
    "        \n",
    "c = plt.pcolormesh(x, y, qvalues, cmap=colormaps.viridis)\n",
    "cs = ax.contour(x, y, qvalues, [kalpha], linestyles='dashed')\n",
    "ax.clabel(cs, fontsize=14, fmt=r\"$k_\\alpha$ = %1.3f\", inline_spacing=30, use_clabeltext=True)\n",
    "ax.contour(x, y, pdf_opal_values, cmap='Blues', alpha=0.6)\n",
    "ax.contour(x, y, pdf_quarz_values, cmap='Oranges', alpha=0.6)\n",
    "ax.text(1.5, 1.6, \"accept\", size=20)\n",
    "ax.text(1.8, 3.2, \"reject\", size=20)\n",
    "datalist = [x.getVal() for x in iter_collection(data.get(0))]\n",
    "ax.plot(datalist[0], datalist[1], 'v', label='observed')\n",
    "\n",
    "ax.set_xlabel('density1')\n",
    "ax.set_ylabel('density2')\n",
    "ax.legend()\n",
    "ax.set_aspect('equal')\n",
    "plt.colorbar(c)\n",
    "plt.close()"
   ]
  },
  {
   "cell_type": "markdown",
   "metadata": {
    "slideshow": {
     "slide_type": "subslide"
    }
   },
   "source": [
    "Since we have just two observables we can easily show the acceptance / rejection region in the space of the observables"
   ]
  },
  {
   "cell_type": "code",
   "execution_count": 42,
   "metadata": {
    "collapsed": false
   },
   "outputs": [
    {
     "name": "stderr",
     "output_type": "stream",
     "text": [
      "/usr/lib64/python2.7/site-packages/matplotlib/text.py:52: UnicodeWarning: Unicode equal comparison failed to convert both arguments to Unicode - interpreting them as being unequal\n",
      "  if rotation in ('horizontal', None):\n",
      "/usr/lib64/python2.7/site-packages/matplotlib/text.py:54: UnicodeWarning: Unicode equal comparison failed to convert both arguments to Unicode - interpreting them as being unequal\n",
      "  elif rotation == 'vertical':\n"
     ]
    },
    {
     "data": {
      "image/png": "[encoded data removed]",
      "text/plain": [
       "<matplotlib.figure.Figure at 0x788e390>"
      ]
     },
     "execution_count": 42,
     "metadata": {},
     "output_type": "execute_result"
    }
   ],
   "source": [
    "fig"
   ]
  },
  {
   "cell_type": "markdown",
   "metadata": {
    "collapsed": false
   },
   "source": [
    "### Exercize\n",
    "Compute the acceptance region using the simple mean as test-statistics: show that it is less powerful"
   ]
  },
  {
   "cell_type": "markdown",
   "metadata": {
    "slideshow": {
     "slide_type": "subslide"
    }
   },
   "source": [
    "### Plot the power as a function of the size of the test for the likelihood ratio"
   ]
  },
  {
   "cell_type": "code",
   "execution_count": 43,
   "metadata": {
    "collapsed": false,
    "slideshow": {
     "slide_type": "-"
    }
   },
   "outputs": [
    {
     "data": {
      "image/png": "[encoded data removed]",
      "text/plain": [
       "<matplotlib.figure.Figure at 0x9e6cf10>"
      ]
     },
     "metadata": {},
     "output_type": "display_data"
    }
   ],
   "source": [
    "alphas = np.linspace(0, 1, 100)\n",
    "powers = []\n",
    "\n",
    "for alpha in alphas:\n",
    "    kalpha = htr.GetNullDistribution().InverseCDF(1 - alpha)\n",
    "    beta = htr.GetAltDistribution().CDF(kalpha)\n",
    "    powers.append(1 - beta)\n",
    "    \n",
    "plt.plot(alphas, powers)   \n",
    "plt.xlabel(r'$\\alpha$')\n",
    "plt.ylabel(r'power')\n",
    "plt.show()"
   ]
  },
  {
   "cell_type": "markdown",
   "metadata": {
    "slideshow": {
     "slide_type": "subslide"
    }
   },
   "source": [
    "### Exercize\n",
    "Compute $\\text{power}(\\alpha)$ for the simple mean\n",
    "### Exercize\n",
    "Explain why the previous plot remembers the ROC curve (bkg-rejection vs signal-efficiency)."
   ]
  },
  {
   "cell_type": "markdown",
   "metadata": {
    "collapsed": true,
    "slideshow": {
     "slide_type": "slide"
    }
   },
   "source": [
    "## Profile likelihood ratio\n",
    "\n",
    "Suppose you have composite hypothesis as \n",
    "\n",
    "$$H_0: \\theta\\in\\Theta_0 \\quad H_1: \\theta\\in\\Theta_0^C$$\n",
    "\n",
    "$$\\Lambda(x) = \\frac{\\sup_{\\theta\\in\\Theta_0}{L(\\theta|x)}}{\\sup_{\\theta\\in\\Theta}{L(\\theta|x)}}$$\n",
    "\n",
    "with $\\Theta_0 \\subset \\Theta$. For example it can be $H_0: s=0$, $H_1: s\\neq 0$\n",
    "\n",
    "$$\\Lambda(x) = \\frac{L(s=0, \\hat{\\hat\\theta}(0)|x)}{L(\\hat{s}, \\hat\\theta|x)}$$\n",
    "\n",
    "where $\\hat{\\hat\\theta}(0)$ is the value of $\\theta$ which optimize the likelihood for $s=0$ (conditioned likelihood), while $\\hat{s}$ and $\\hat{\\theta}$ are the values that optimize the likelihood without any constrains (unconditioned likelihood).\n",
    "\n",
    "<small>It varies between 0 and 1, low values mean that the observed result is less likely to occur under the null hypothesis as compared to the alternative.</small>\n",
    "\n",
    "<small>The profile likelihood ratio is nearly an optimal test-statistics</small>"
   ]
  },
  {
   "cell_type": "markdown",
   "metadata": {
    "slideshow": {
     "slide_type": "slide"
    }
   },
   "source": [
    "<small>As shown it is important to have an analytically expression $f_q$ of the distribution of the test-statistics $q$ to compute the p-value: $\\text{p-value} = \\int_{q^\\text{obs}}^{\\infty} f_q(q) dq$. Otherwise toys must be run.</small>\n",
    "\n",
    "## Wilks's theorem\n",
    "\n",
    "The quantity $-2\\log(\\Lambda)$ is aymptotically (large sample) distributed as a $\\chi^2$ distribution with $n=\\text{dim}(\\Theta)-\\text{dim}(\\Theta_0)$ degrees of freedom."
   ]
  },
  {
   "cell_type": "markdown",
   "metadata": {
    "slideshow": {
     "slide_type": "subslide"
    }
   },
   "source": [
    "Let resurrect the simple Poisson model $\\text{Poisson}(n|s + b)$. This time, instead of using the number of observed events as test-statistics, let use the profile likelihood ratio."
   ]
  },
  {
   "cell_type": "code",
   "execution_count": null,
   "metadata": {
    "collapsed": false
   },
   "outputs": [],
   "source": [
    "S, B = 100, 200  # expected values\n",
    "\n",
    "ws_poisson = ROOT.RooWorkspace('ws_poisson')\n",
    "b = ws_poisson.factory(\"b[%f]\" % B)\n",
    "n_exp = ws_poisson.factory(\"sum::n_exp(s[%f, 0, 100], b)\" % S)\n",
    "pdf = ws_poisson.factory(\"Poisson::pdf(n_obs[0, 100], n_exp)\")\n",
    "aset = ROOT.RooArgSet(ws_poisson.var('n_obs'))\n",
    "data = pdf.generate(aset, 1)  # generate with 1 entry\n",
    "print \"observed = \", data.get(0).first().getVal()"
   ]
  },
  {
   "cell_type": "code",
   "execution_count": null,
   "metadata": {
    "collapsed": true
   },
   "outputs": [],
   "source": [
    "# create a MC linked to the ws\n",
    "sbModel = RooStats.ModelConfig(\"sbmodel\", ws_poisson)   \n",
    "sbModel.SetPdf(pdf)\n",
    "sbModel.SetObservables('n_obs')  # it understands variable-names\n",
    "sbModel.SetParametersOfInterest('s')\n",
    "# save the value of s for (s+b)-hypothesis\n",
    "sbModel.SetSnapshot(ROOT.RooArgSet(ws_poisson.var('s')))\n",
    "getattr(ws_poisson, 'import')(sbModel)  # import is a keyword in python\n",
    "\n",
    "bModel = sbModel.Clone(\"bmodel\")  # create a bkg-only model\n",
    "ws_poisson.var('s').setVal(0)             # with no signal\n",
    "bModel.SetSnapshot(ROOT.RooArgSet(ws_poisson.var('s')))\n",
    "getattr(ws_poisson, 'import')(bModel);"
   ]
  },
  {
   "cell_type": "code",
   "execution_count": null,
   "metadata": {
    "collapsed": false
   },
   "outputs": [],
   "source": [
    "profll = RooStats.ProfileLikelihoodTestStat(bmodel.GetPdf())\n",
    "# this modify a bit our test statistics\n",
    "#profll.SetOneSidedDiscovery(1)\n",
    "\n",
    "hypoCalc = RooStats.FrequentistCalculator(data, sbModel, bModel)\n",
    "hypoCalc.SetToys(100000, 5000)  # generate much more toys for bkg-only\n",
    "\n",
    "toy_sampler = hypoCalc.GetTestStatSampler()\n",
    "toy_sampler.SetTestStatistic(profll)\n",
    "toy_sampler.SetNEventsPerToy(1)\n",
    "\n",
    "htr = hypoCalc.GetHypoTest()\n",
    "htr.SetPValueIsRightTail(True)  # the \"extreme\" cases are on the right tail\n",
    "htr.SetBackgroundAsAlt(False)"
   ]
  },
  {
   "cell_type": "code",
   "execution_count": null,
   "metadata": {
    "collapsed": false
   },
   "outputs": [],
   "source": [
    "q0var = ROOT.RooRealVar('x', 'x', 0, 50)\n",
    "chi2_pdf = ROOT.RooChiSquarePdf(\"chi2\", \"chi2\", q0var, RooFit.RooConst(1))\n",
    "f = chi2_pdf.asTF(ROOT.RooArgList(q0var))\n",
    "\n",
    "plot = RooStats.HypoTestPlot(htr, 20, 0, 10)\n",
    "canvas = ROOT.TCanvas()\n",
    "plot.Draw()\n",
    "f.SetLineStyle(ROOT.kDashed)\n",
    "f.Draw(\"same\")\n",
    "canvas.SetLogy()\n",
    "canvas.Draw()\n",
    "print \"pvalue = \", htr.NullPValue(), \" significance = \", htr.Significance()"
   ]
  },
  {
   "cell_type": "markdown",
   "metadata": {
    "slideshow": {
     "slide_type": "slide"
    }
   },
   "source": [
    "## On/off problem\n",
    "\n",
    "Let's introduce a classical problem in high-energy / astro / ... physics. Suppose you have a source that can contain signal and background events. You have an other source that contains only background events and the background in the two source is correlated.\n",
    "\n",
    "This is the case when you have a control region, with only background, and a signal region with signal plus background. Usually the correlation of the background between the two region comes from a simulation. In astrophysics this can be the case when with telescope one wants to see if there is source in a particular region of the sky, using as control region the average of regions where there are no known source.\n",
    "\n",
    "In term of random variables:\n",
    "\n",
    "$$ N_{SR} = S + B \\qquad N_{CR} = \\alpha B$$\n",
    "\n",
    "with $S$ and $B$ distributed as Poisson distribution. What we observe are the number of events in the signal region $n_{SR}$ and in the control region $n_{CR}$. $\\alpha$ is assumed to be a known constant. We can write the likelihood as:\n",
    "\n",
    "$$L(s, b|N_{SR}, N_{CR}) = \\text{Pois}(N_{SR}|s + b) \\text{Pois}(N_{CR}|\\alpha b)$$\n",
    "\n",
    "remember that $\\alpha$ is a known constant. The test statistics is based on the profiled likelihood ratio:\n",
    "\n",
    "$$-2\\log\\Lambda = -2\\log\\frac{\\sup_{b \\in [0, \\infty], s\\in\\{0\\}}{L(s, b)}}{\\sup_{b\\in [0, \\infty], s\\in [0, \\infty]}{L(s, b)}} = -2\\log\\frac{{L(0, \\hat{\\hat{b}}(s=0))}}{L(\\hat{s}, \\hat{b})}$$\n"
   ]
  },
  {
   "cell_type": "code",
   "execution_count": 31,
   "metadata": {
    "collapsed": false
   },
   "outputs": [
    {
     "data": {
      "text/plain": [
       "False"
      ]
     },
     "execution_count": 31,
     "metadata": {},
     "output_type": "execute_result"
    }
   ],
   "source": [
    "ws_onoff = ROOT.RooWorkspace('ws_onoff')\n",
    "model_sr = ws_onoff.factory(\"Poisson:N_SR(n_sr[0, 5000], sum:s_plus_b(s[20, 0, 100], b[50, 0, 100]))\")\n",
    "model_cr = ws_onoff.factory(\"Poisson:N_CR(n_cr[0, 5000], prod:alpha_x_b(alpha[10, 0, 10], b))\")\n",
    "model = ws_onoff.factory(\"PROD:model(N_SR, N_CR)\")\n",
    "ws_onoff.var(\"alpha\").setConstant(True)\n",
    "\n",
    "sbModel = RooStats.ModelConfig('sbModel', ws_onoff)\n",
    "sbModel.SetObservables('n_sr,n_cr')\n",
    "sbModel.SetParametersOfInterest('s')\n",
    "sbModel.SetPdf('model')\n",
    "sbModel.SetSnapshot(ROOT.RooArgSet(ws_onoff.var('s')))\n",
    "getattr(ws_onoff, 'import')(sbModel)\n",
    "\n",
    "bModel = sbModel.Clone(\"bModel\")\n",
    "ws_onoff.var('s').setVal(0)\n",
    "bModel.SetSnapshot(bModel.GetParametersOfInterest())\n",
    "\n",
    "ws_onoff.Print()\n",
    "ws_onoff.writeToFile('onoff.root')"
   ]
  },
  {
   "cell_type": "code",
   "execution_count": 32,
   "metadata": {
    "collapsed": false
   },
   "outputs": [
    {
     "data": {
      "image/svg+xml": [
       "<svg height=\"332pt\" viewBox=\"0.00 0.00 539.00 332.00\" width=\"539pt\" xmlns=\"http://www.w3.org/2000/svg\" xmlns:xlink=\"http://www.w3.org/1999/xlink\">\n",
       "<g class=\"graph\" id=\"graph0\" transform=\"scale(1 1) rotate(0) translate(4 328)\">\n",
       "<title>model</title>\n",
       "<polygon fill=\"white\" points=\"-4,4 -4,-328 535,-328 535,4 -4,4\" stroke=\"white\"/>\n",
       "<!-- model -->\n",
       "<g class=\"node\" id=\"node1\"><title>model</title>\n",
       "<ellipse cx=\"267\" cy=\"-297\" fill=\"none\" rx=\"58.5343\" ry=\"26.7407\" stroke=\"red\"/>\n",
       "<text font-family=\"Times,serif\" font-size=\"14.00\" text-anchor=\"middle\" x=\"267\" y=\"-300.8\">RooProdPdf</text>\n",
       "<text font-family=\"Times,serif\" font-size=\"14.00\" text-anchor=\"middle\" x=\"267\" y=\"-285.8\">model</text>\n",
       "</g>\n",
       "<!-- N_SR -->\n",
       "<g class=\"node\" id=\"node2\"><title>N_SR</title>\n",
       "<ellipse cx=\"198\" cy=\"-207\" fill=\"none\" rx=\"56.9149\" ry=\"26.7407\" stroke=\"red\"/>\n",
       "<text font-family=\"Times,serif\" font-size=\"14.00\" text-anchor=\"middle\" x=\"198\" y=\"-210.8\">RooPoisson</text>\n",
       "<text font-family=\"Times,serif\" font-size=\"14.00\" text-anchor=\"middle\" x=\"198\" y=\"-195.8\">N_SR</text>\n",
       "</g>\n",
       "<!-- model&#45;&gt;N_SR -->\n",
       "<g class=\"edge\" id=\"edge4\"><title>model-&gt;N_SR</title>\n",
       "<path d=\"M247.78,-271.487C240.228,-261.856 231.453,-250.664 223.392,-240.384\" fill=\"none\" stroke=\"black\"/>\n",
       "<polygon fill=\"black\" points=\"226.042,-238.091 217.117,-232.381 220.533,-242.41 226.042,-238.091\" stroke=\"black\"/>\n",
       "</g>\n",
       "<!-- N_CR -->\n",
       "<g class=\"node\" id=\"node7\"><title>N_CR</title>\n",
       "<ellipse cx=\"337\" cy=\"-207\" fill=\"none\" rx=\"56.9149\" ry=\"26.7407\" stroke=\"red\"/>\n",
       "<text font-family=\"Times,serif\" font-size=\"14.00\" text-anchor=\"middle\" x=\"337\" y=\"-210.8\">RooPoisson</text>\n",
       "<text font-family=\"Times,serif\" font-size=\"14.00\" text-anchor=\"middle\" x=\"337\" y=\"-195.8\">N_CR</text>\n",
       "</g>\n",
       "<!-- model&#45;&gt;N_CR -->\n",
       "<g class=\"edge\" id=\"edge3\"><title>model-&gt;N_CR</title>\n",
       "<path d=\"M286.499,-271.487C294.16,-261.856 303.063,-250.664 311.24,-240.384\" fill=\"none\" stroke=\"black\"/>\n",
       "<polygon fill=\"black\" points=\"314.12,-242.386 317.606,-232.381 308.641,-238.029 314.12,-242.386\" stroke=\"black\"/>\n",
       "</g>\n",
       "<!-- n_sr -->\n",
       "<g class=\"node\" id=\"node3\"><title>n_sr</title>\n",
       "<ellipse cx=\"59\" cy=\"-117\" fill=\"none\" rx=\"59.096\" ry=\"26.7407\" stroke=\"blue\"/>\n",
       "<text font-family=\"Times,serif\" font-size=\"14.00\" text-anchor=\"middle\" x=\"59\" y=\"-120.8\">RooRealVar</text>\n",
       "<text font-family=\"Times,serif\" font-size=\"14.00\" text-anchor=\"middle\" x=\"59\" y=\"-105.8\">n_sr</text>\n",
       "</g>\n",
       "<!-- N_SR&#45;&gt;n_sr -->\n",
       "<g class=\"edge\" id=\"edge9\"><title>N_SR-&gt;n_sr</title>\n",
       "<path d=\"M164.706,-184.922C145.591,-172.82 121.406,-157.509 100.995,-144.587\" fill=\"none\" stroke=\"black\"/>\n",
       "<polygon fill=\"black\" points=\"102.825,-141.603 92.504,-139.211 99.081,-147.518 102.825,-141.603\" stroke=\"black\"/>\n",
       "</g>\n",
       "<!-- s_plus_b -->\n",
       "<g class=\"node\" id=\"node4\"><title>s_plus_b</title>\n",
       "<ellipse cx=\"198\" cy=\"-117\" fill=\"none\" rx=\"61.2774\" ry=\"26.7407\" stroke=\"red\"/>\n",
       "<text font-family=\"Times,serif\" font-size=\"14.00\" text-anchor=\"middle\" x=\"198\" y=\"-120.8\">RooAddition</text>\n",
       "<text font-family=\"Times,serif\" font-size=\"14.00\" text-anchor=\"middle\" x=\"198\" y=\"-105.8\">s_plus_b</text>\n",
       "</g>\n",
       "<!-- N_SR&#45;&gt;s_plus_b -->\n",
       "<g class=\"edge\" id=\"edge10\"><title>N_SR-&gt;s_plus_b</title>\n",
       "<path d=\"M198,-180.073C198,-171.999 198,-162.943 198,-154.296\" fill=\"none\" stroke=\"black\"/>\n",
       "<polygon fill=\"black\" points=\"201.5,-154.046 198,-144.046 194.5,-154.046 201.5,-154.046\" stroke=\"black\"/>\n",
       "</g>\n",
       "<!-- s -->\n",
       "<g class=\"node\" id=\"node5\"><title>s</title>\n",
       "<ellipse cx=\"198\" cy=\"-27\" fill=\"none\" rx=\"59.096\" ry=\"26.7407\" stroke=\"blue\"/>\n",
       "<text font-family=\"Times,serif\" font-size=\"14.00\" text-anchor=\"middle\" x=\"198\" y=\"-30.8\">RooRealVar</text>\n",
       "<text font-family=\"Times,serif\" font-size=\"14.00\" text-anchor=\"middle\" x=\"198\" y=\"-15.8\">s</text>\n",
       "</g>\n",
       "<!-- s_plus_b&#45;&gt;s -->\n",
       "<g class=\"edge\" id=\"edge5\"><title>s_plus_b-&gt;s</title>\n",
       "<path d=\"M198,-90.0731C198,-81.9993 198,-72.9428 198,-64.2961\" fill=\"none\" stroke=\"black\"/>\n",
       "<polygon fill=\"black\" points=\"201.5,-64.0457 198,-54.0457 194.5,-64.0458 201.5,-64.0457\" stroke=\"black\"/>\n",
       "</g>\n",
       "<!-- b -->\n",
       "<g class=\"node\" id=\"node6\"><title>b</title>\n",
       "<ellipse cx=\"335\" cy=\"-27\" fill=\"none\" rx=\"59.096\" ry=\"26.7407\" stroke=\"blue\"/>\n",
       "<text font-family=\"Times,serif\" font-size=\"14.00\" text-anchor=\"middle\" x=\"335\" y=\"-30.8\">RooRealVar</text>\n",
       "<text font-family=\"Times,serif\" font-size=\"14.00\" text-anchor=\"middle\" x=\"335\" y=\"-15.8\">b</text>\n",
       "</g>\n",
       "<!-- s_plus_b&#45;&gt;b -->\n",
       "<g class=\"edge\" id=\"edge6\"><title>s_plus_b-&gt;b</title>\n",
       "<path d=\"M231.514,-94.4728C250.145,-82.5053 273.497,-67.5058 293.3,-54.7853\" fill=\"none\" stroke=\"black\"/>\n",
       "<polygon fill=\"black\" points=\"295.31,-57.6543 301.832,-49.305 291.527,-51.7647 295.31,-57.6543\" stroke=\"black\"/>\n",
       "</g>\n",
       "<!-- n_cr -->\n",
       "<g class=\"node\" id=\"node8\"><title>n_cr</title>\n",
       "<ellipse cx=\"337\" cy=\"-117\" fill=\"none\" rx=\"59.096\" ry=\"26.7407\" stroke=\"blue\"/>\n",
       "<text font-family=\"Times,serif\" font-size=\"14.00\" text-anchor=\"middle\" x=\"337\" y=\"-120.8\">RooRealVar</text>\n",
       "<text font-family=\"Times,serif\" font-size=\"14.00\" text-anchor=\"middle\" x=\"337\" y=\"-105.8\">n_cr</text>\n",
       "</g>\n",
       "<!-- N_CR&#45;&gt;n_cr -->\n",
       "<g class=\"edge\" id=\"edge8\"><title>N_CR-&gt;n_cr</title>\n",
       "<path d=\"M337,-180.073C337,-171.999 337,-162.943 337,-154.296\" fill=\"none\" stroke=\"black\"/>\n",
       "<polygon fill=\"black\" points=\"340.5,-154.046 337,-144.046 333.5,-154.046 340.5,-154.046\" stroke=\"black\"/>\n",
       "</g>\n",
       "<!-- alpha_x_b -->\n",
       "<g class=\"node\" id=\"node9\"><title>alpha_x_b</title>\n",
       "<ellipse cx=\"472\" cy=\"-117\" fill=\"none\" rx=\"56.9149\" ry=\"26.7407\" stroke=\"red\"/>\n",
       "<text font-family=\"Times,serif\" font-size=\"14.00\" text-anchor=\"middle\" x=\"472\" y=\"-120.8\">RooProduct</text>\n",
       "<text font-family=\"Times,serif\" font-size=\"14.00\" text-anchor=\"middle\" x=\"472\" y=\"-105.8\">alpha_x_b</text>\n",
       "</g>\n",
       "<!-- N_CR&#45;&gt;alpha_x_b -->\n",
       "<g class=\"edge\" id=\"edge7\"><title>N_CR-&gt;alpha_x_b</title>\n",
       "<path d=\"M369.68,-184.698C388.033,-172.734 411.116,-157.687 430.71,-144.915\" fill=\"none\" stroke=\"black\"/>\n",
       "<polygon fill=\"black\" points=\"432.687,-147.804 439.153,-139.411 428.865,-141.94 432.687,-147.804\" stroke=\"black\"/>\n",
       "</g>\n",
       "<!-- alpha_x_b&#45;&gt;b -->\n",
       "<g class=\"edge\" id=\"edge2\"><title>alpha_x_b-&gt;b</title>\n",
       "<path d=\"M439.185,-94.9218C420.567,-82.9627 397.069,-67.8691 377.103,-55.0444\" fill=\"none\" stroke=\"black\"/>\n",
       "<polygon fill=\"black\" points=\"378.804,-51.9772 368.499,-49.5175 375.021,-57.8669 378.804,-51.9772\" stroke=\"black\"/>\n",
       "</g>\n",
       "<!-- alpha -->\n",
       "<g class=\"node\" id=\"node10\"><title>alpha</title>\n",
       "<ellipse cx=\"472\" cy=\"-27\" fill=\"none\" rx=\"59.096\" ry=\"26.7407\" stroke=\"blue\"/>\n",
       "<text font-family=\"Times,serif\" font-size=\"14.00\" text-anchor=\"middle\" x=\"472\" y=\"-30.8\">RooRealVar</text>\n",
       "<text font-family=\"Times,serif\" font-size=\"14.00\" text-anchor=\"middle\" x=\"472\" y=\"-15.8\">alpha</text>\n",
       "</g>\n",
       "<!-- alpha_x_b&#45;&gt;alpha -->\n",
       "<g class=\"edge\" id=\"edge1\"><title>alpha_x_b-&gt;alpha</title>\n",
       "<path d=\"M472,-90.0731C472,-81.9993 472,-72.9428 472,-64.2961\" fill=\"none\" stroke=\"black\"/>\n",
       "<polygon fill=\"black\" points=\"475.5,-64.0457 472,-54.0457 468.5,-64.0458 475.5,-64.0457\" stroke=\"black\"/>\n",
       "</g>\n",
       "</g>\n",
       "</svg>"
      ],
      "text/plain": [
       "<IPython.core.display.SVG object>"
      ]
     },
     "execution_count": 32,
     "metadata": {},
     "output_type": "execute_result"
    }
   ],
   "source": [
    "model.graphVizTree(\"on_off_graph.dot\")\n",
    "!dot -Tsvg on_off_graph.dot > on_off_graph.svg; rm on_off_graph.dot\n",
    "SVG(\"on_off_graph.svg\")"
   ]
  },
  {
   "cell_type": "code",
   "execution_count": 33,
   "metadata": {
    "collapsed": false
   },
   "outputs": [
    {
     "name": "stdout",
     "output_type": "stream",
     "text": [
      "observed  N_SR = 59, N_CR = 518\n",
      "best fit\n",
      "SR      7.2     51.8\n",
      "CR             518.0\n"
     ]
    }
   ],
   "source": [
    "sbModel.LoadSnapshot()\n",
    "data = model.generate(bModel.GetObservables(), 1)\n",
    "print \"observed  N_SR = %.f, N_CR = %.f\" % tuple([x.getVal() for x in iter_collection(data.get(0))])\n",
    "model.fitTo(data)\n",
    "print \"best fit\"\n",
    "print \"SR {:>8.1f} {:>8.1f}\".format(ws_onoff.var('s').getVal(), ws_onoff.var('b').getVal())\n",
    "print \"CR          {:>8.1f}\".format(ws_onoff.function('alpha_x_b').getVal())"
   ]
  },
  {
   "cell_type": "code",
   "execution_count": 34,
   "metadata": {
    "collapsed": false
   },
   "outputs": [],
   "source": [
    "profll = RooStats.ProfileLikelihoodTestStat(bModel.GetPdf())\n",
    "# this modify a bit our test statistics\n",
    "profll.SetOneSidedDiscovery(True)\n",
    "\n",
    "hypoCalc = RooStats.FrequentistCalculator(data, sbModel, bModel)\n",
    "hypoCalc.SetToys(10000, 500)\n",
    "\n",
    "toy_sampler = hypoCalc.GetTestStatSampler()\n",
    "toy_sampler.SetTestStatistic(profll)\n",
    "toy_sampler.SetNEventsPerToy(1)\n",
    "\n",
    "htr = hypoCalc.GetHypoTest()\n",
    "htr.SetPValueIsRightTail(True)  # the \"extreme\" cases are on the right tail\n",
    "htr.SetBackgroundAsAlt(False)"
   ]
  },
  {
   "cell_type": "code",
   "execution_count": 35,
   "metadata": {
    "collapsed": false
   },
   "outputs": [
    {
     "name": "stdout",
     "output_type": "stream",
     "text": [
      "pvalue =  0.1733  significance =  0.941204638797\n"
     ]
    }
   ],
   "source": [
    "q0var = ROOT.RooRealVar('x', 'x', 0, 20)\n",
    "delta = ROOT.RooGaussian(\"delta\", \"delta\", q0var, RooFit.RooConst(0), RooFit.RooConst(0.01))  # simulate a dirac-delta\n",
    "chi2_pdf = ROOT.RooChiSquarePdf(\"chi2\", \"chi2\", q0var, RooFit.RooConst(1))\n",
    "chi2_pdf_modified = ROOT.RooAddPdf(\"chi2_modified\", \"chi2_modified\", ROOT.RooArgList(chi2_pdf, delta),\n",
    "                                   ROOT.RooArgList(RooFit.RooConst(0.5), RooFit.RooConst(0.5)))\n",
    "f = chi2_pdf_modified.asTF(ROOT.RooArgList(q0var))\n",
    "\n",
    "plot = RooStats.HypoTestPlot(htr, 50, 0, 20)\n",
    "canvas = ROOT.TCanvas()\n",
    "plot.Draw()\n",
    "f.SetLineStyle(ROOT.kDashed)\n",
    "f.Draw(\"same\")\n",
    "canvas.SetLogy()\n",
    "canvas.Draw()\n",
    "print \"pvalue = \", htr.NullPValue(), \" significance = \", htr.Significance()"
   ]
  },
  {
   "cell_type": "code",
   "execution_count": 57,
   "metadata": {
    "collapsed": false
   },
   "outputs": [],
   "source": [
    "# create profiled log-likelihood\n",
    "prof = model.createNLL(data).createProfile(ROOT.RooArgSet(ws_onoff.var('s')))\n",
    "# multiply by 2\n",
    "minus2LL = ROOT.RooFormulaVar(\"minus2LL\", \"2 * @0\", ROOT.RooArgList(prof))\n",
    "frame = ws_onoff.var('s').frame(0, 30)\n",
    "minus2LL.plotOn(frame)\n",
    "frame.SetYTitle(\"-2 log#Lambda(s)\")\n",
    "frame.Draw()"
   ]
  },
  {
   "cell_type": "code",
   "execution_count": 56,
   "metadata": {
    "collapsed": false
   },
   "outputs": [
    {
     "name": "stdout",
     "output_type": "stream",
     "text": [
      "pvalue = 0.0018715481151  significance = 2.89903791886\n",
      "expected p-value =  0.0121740680096  significance = 2.25159091013\n"
     ]
    }
   ],
   "source": [
    "hypoCalc = RooStats.AsymptoticCalculator(data, sbModel, bModel)\n",
    "hypoCalc.SetOneSidedDiscovery(True)\n",
    "htr = hypoCalc.GetHypoTest()\n",
    "print \"pvalue =\", htr.NullPValue(), \" significance =\", htr.Significance()\n",
    "\n",
    "pvalue_exp = RooStats.AsymptoticCalculator.GetExpectedPValues(htr.NullPValue(), htr.AlternatePValue(), False, True)\n",
    "significance_exp = ROOT.Math.normal_quantile_c(pvalue_exp, 1)\n",
    "print \"expected p-value = \", pvalue_exp, \" significance =\", significance_exp                "
   ]
  },
  {
   "cell_type": "markdown",
   "metadata": {
    "slideshow": {
     "slide_type": "slide"
    }
   },
   "source": [
    "## Systematics\n",
    "\n",
    "How we can incorporate systematics inside our model? Suppose we know the parameter $\\alpha$ with a relative uncertainty $\\sigma_\\alpha$. We can imagine that there is another measurement (auxiliary measurement), that measured $\\alpha$ (the parameter of the model of the auxiliary measurement) and observed $a$. We can write the likelihood of the auxiliary measurement as $L(a|\\alpha) = N(a|\\alpha, \\delta_\\alpha)$, if assume that $a$ is normally distributed aroud the true value $\\alpha$ and $\\delta\\alpha$ is the absolute error on $\\alpha$\n",
    "\n",
    "We can join the auxiliary measurement with our on/off model:\n",
    "\n",
    "$$L(s, b, a|N_{SR}, N_{CR}, \\alpha) = L(s, b|N_{SR}, N_{CR}) L(a|\\alpha)$$\n",
    "\n",
    "or more explicitely:\n",
    "\n",
    "$$\\text{Pois}(N_{SR}|s + b) \\text{Pois}(N_{CR}|\\alpha b) N(a|\\alpha, \\delta_\\alpha)$$\n",
    "\n",
    "Usually this is written as:\n",
    "\n",
    "$$\\text{Pois}(N_{SR}|s + b) \\text{Pois}(N_{CR}|a (1 + \\sigma_\\alpha\\theta_\\alpha) b) N(0|\\alpha, 1)$$\n",
    "\n",
    "The first term is called the \"physical\" pdf, while the second is called the \"constraints\".\n",
    "\n",
    "\n"
   ]
  },
  {
   "cell_type": "code",
   "execution_count": 58,
   "metadata": {
    "collapsed": false,
    "slideshow": {
     "slide_type": "subslide"
    }
   },
   "outputs": [],
   "source": [
    "#ws = ws_onoff_withsys = ws_onoff.Clone(\"ws_onoff_withsys\")\n",
    "f = ROOT.TFile.Open(\"onoff.root\")\n",
    "ws = ws_onoff_withsys = f.Get(\"ws_onoff\")\n",
    "\n",
    "# create the term kalpha = (1 + sigma * theta) with a relative error of 10%\n",
    "ws.factory('expr:kalpha(\"1 + @0 * @1\", {sigma_alpha[0.1], theta_alpha[0, -5, 5]})')\n",
    "# create new pdf model replacing alpha -> kalpha\n",
    "model_with_sys = ws.factory('EDIT:model_with_sys(model, alpha=kalpha)')\n",
    "# create the constraint\n",
    "ws.factory(\"Gaussian:constraint_alpha(global_alpha[0, -5, 5], theta_alpha, 1)\")\n",
    "ws.var(\"global_alpha\").setConstant(True)\n",
    "# final pdf\n",
    "ws.factory(\"PROD:model_constrained(model_with_sys, constraint_alpha)\")\n",
    "\n",
    "ws.Print()"
   ]
  },
  {
   "cell_type": "code",
   "execution_count": 22,
   "metadata": {
    "collapsed": false,
    "slideshow": {
     "slide_type": "subslide"
    }
   },
   "outputs": [
    {
     "data": {
      "image/svg+xml": [
       "<svg height=\"422pt\" viewBox=\"0.00 0.00 670.00 422.00\" width=\"670pt\" xmlns=\"http://www.w3.org/2000/svg\" xmlns:xlink=\"http://www.w3.org/1999/xlink\">\n",
       "<g class=\"graph\" id=\"graph0\" transform=\"scale(1 1) rotate(0) translate(4 418)\">\n",
       "<title>model_with_sys</title>\n",
       "<polygon fill=\"white\" points=\"-4,4 -4,-418 666,-418 666,4 -4,4\" stroke=\"white\"/>\n",
       "<!-- model_with_sys -->\n",
       "<g class=\"node\" id=\"node1\"><title>model_with_sys</title>\n",
       "<ellipse cx=\"267\" cy=\"-387\" fill=\"none\" rx=\"74.4303\" ry=\"26.7407\" stroke=\"red\"/>\n",
       "<text font-family=\"Times,serif\" font-size=\"14.00\" text-anchor=\"middle\" x=\"267\" y=\"-390.8\">RooProdPdf</text>\n",
       "<text font-family=\"Times,serif\" font-size=\"14.00\" text-anchor=\"middle\" x=\"267\" y=\"-375.8\">model_with_sys</text>\n",
       "</g>\n",
       "<!-- N_SR -->\n",
       "<g class=\"node\" id=\"node2\"><title>N_SR</title>\n",
       "<ellipse cx=\"178\" cy=\"-297\" fill=\"none\" rx=\"56.9149\" ry=\"26.7407\" stroke=\"red\"/>\n",
       "<text font-family=\"Times,serif\" font-size=\"14.00\" text-anchor=\"middle\" x=\"178\" y=\"-300.8\">RooPoisson</text>\n",
       "<text font-family=\"Times,serif\" font-size=\"14.00\" text-anchor=\"middle\" x=\"178\" y=\"-285.8\">N_SR</text>\n",
       "</g>\n",
       "<!-- model_with_sys&#45;&gt;N_SR -->\n",
       "<g class=\"edge\" id=\"edge3\"><title>model_with_sys-&gt;N_SR</title>\n",
       "<path d=\"M242.209,-361.487C231.928,-351.322 219.889,-339.418 209.031,-328.682\" fill=\"none\" stroke=\"black\"/>\n",
       "<polygon fill=\"black\" points=\"211.311,-326.014 201.739,-321.472 206.389,-330.992 211.311,-326.014\" stroke=\"black\"/>\n",
       "</g>\n",
       "<!-- N_CR_model_with_sys -->\n",
       "<g class=\"node\" id=\"node7\"><title>N_CR_model_with_sys</title>\n",
       "<ellipse cx=\"357\" cy=\"-297\" fill=\"none\" rx=\"103.417\" ry=\"26.7407\" stroke=\"red\"/>\n",
       "<text font-family=\"Times,serif\" font-size=\"14.00\" text-anchor=\"middle\" x=\"357\" y=\"-300.8\">RooPoisson</text>\n",
       "<text font-family=\"Times,serif\" font-size=\"14.00\" text-anchor=\"middle\" x=\"357\" y=\"-285.8\">N_CR_model_with_sys</text>\n",
       "</g>\n",
       "<!-- model_with_sys&#45;&gt;N_CR_model_with_sys -->\n",
       "<g class=\"edge\" id=\"edge4\"><title>model_with_sys-&gt;N_CR_model_with_sys</title>\n",
       "<path d=\"M292.07,-361.487C301.864,-351.911 313.236,-340.792 323.701,-330.559\" fill=\"none\" stroke=\"black\"/>\n",
       "<polygon fill=\"black\" points=\"326.422,-332.794 331.125,-323.3 321.528,-327.789 326.422,-332.794\" stroke=\"black\"/>\n",
       "</g>\n",
       "<!-- n_sr -->\n",
       "<g class=\"node\" id=\"node3\"><title>n_sr</title>\n",
       "<ellipse cx=\"59\" cy=\"-207\" fill=\"none\" rx=\"59.096\" ry=\"26.7407\" stroke=\"blue\"/>\n",
       "<text font-family=\"Times,serif\" font-size=\"14.00\" text-anchor=\"middle\" x=\"59\" y=\"-210.8\">RooRealVar</text>\n",
       "<text font-family=\"Times,serif\" font-size=\"14.00\" text-anchor=\"middle\" x=\"59\" y=\"-195.8\">n_sr</text>\n",
       "</g>\n",
       "<!-- N_SR&#45;&gt;n_sr -->\n",
       "<g class=\"edge\" id=\"edge5\"><title>N_SR-&gt;n_sr</title>\n",
       "<path d=\"M148.278,-274.021C132.919,-262.663 113.993,-248.667 97.525,-236.489\" fill=\"none\" stroke=\"black\"/>\n",
       "<polygon fill=\"black\" points=\"99.2908,-233.442 89.1693,-230.31 95.1287,-239.07 99.2908,-233.442\" stroke=\"black\"/>\n",
       "</g>\n",
       "<!-- s_plus_b -->\n",
       "<g class=\"node\" id=\"node4\"><title>s_plus_b</title>\n",
       "<ellipse cx=\"198\" cy=\"-207\" fill=\"none\" rx=\"61.2774\" ry=\"26.7407\" stroke=\"red\"/>\n",
       "<text font-family=\"Times,serif\" font-size=\"14.00\" text-anchor=\"middle\" x=\"198\" y=\"-210.8\">RooAddition</text>\n",
       "<text font-family=\"Times,serif\" font-size=\"14.00\" text-anchor=\"middle\" x=\"198\" y=\"-195.8\">s_plus_b</text>\n",
       "</g>\n",
       "<!-- N_SR&#45;&gt;s_plus_b -->\n",
       "<g class=\"edge\" id=\"edge6\"><title>N_SR-&gt;s_plus_b</title>\n",
       "<path d=\"M183.892,-270.073C185.748,-261.911 187.831,-252.744 189.816,-244.011\" fill=\"none\" stroke=\"black\"/>\n",
       "<polygon fill=\"black\" points=\"193.277,-244.573 192.081,-234.046 186.451,-243.021 193.277,-244.573\" stroke=\"black\"/>\n",
       "</g>\n",
       "<!-- s -->\n",
       "<g class=\"node\" id=\"node5\"><title>s</title>\n",
       "<ellipse cx=\"198\" cy=\"-117\" fill=\"none\" rx=\"59.096\" ry=\"26.7407\" stroke=\"blue\"/>\n",
       "<text font-family=\"Times,serif\" font-size=\"14.00\" text-anchor=\"middle\" x=\"198\" y=\"-120.8\">RooRealVar</text>\n",
       "<text font-family=\"Times,serif\" font-size=\"14.00\" text-anchor=\"middle\" x=\"198\" y=\"-105.8\">s</text>\n",
       "</g>\n",
       "<!-- s_plus_b&#45;&gt;s -->\n",
       "<g class=\"edge\" id=\"edge8\"><title>s_plus_b-&gt;s</title>\n",
       "<path d=\"M198,-180.073C198,-171.999 198,-162.943 198,-154.296\" fill=\"none\" stroke=\"black\"/>\n",
       "<polygon fill=\"black\" points=\"201.5,-154.046 198,-144.046 194.5,-154.046 201.5,-154.046\" stroke=\"black\"/>\n",
       "</g>\n",
       "<!-- b -->\n",
       "<g class=\"node\" id=\"node6\"><title>b</title>\n",
       "<ellipse cx=\"358\" cy=\"-117\" fill=\"none\" rx=\"59.096\" ry=\"26.7407\" stroke=\"blue\"/>\n",
       "<text font-family=\"Times,serif\" font-size=\"14.00\" text-anchor=\"middle\" x=\"358\" y=\"-120.8\">RooRealVar</text>\n",
       "<text font-family=\"Times,serif\" font-size=\"14.00\" text-anchor=\"middle\" x=\"358\" y=\"-105.8\">b</text>\n",
       "</g>\n",
       "<!-- s_plus_b&#45;&gt;b -->\n",
       "<g class=\"edge\" id=\"edge7\"><title>s_plus_b-&gt;b</title>\n",
       "<path d=\"M235.109,-185.59C258.213,-172.883 288.092,-156.449 312.603,-142.968\" fill=\"none\" stroke=\"black\"/>\n",
       "<polygon fill=\"black\" points=\"314.293,-146.034 321.368,-138.148 310.919,-139.9 314.293,-146.034\" stroke=\"black\"/>\n",
       "</g>\n",
       "<!-- n_cr -->\n",
       "<g class=\"node\" id=\"node8\"><title>n_cr</title>\n",
       "<ellipse cx=\"337\" cy=\"-207\" fill=\"none\" rx=\"59.096\" ry=\"26.7407\" stroke=\"blue\"/>\n",
       "<text font-family=\"Times,serif\" font-size=\"14.00\" text-anchor=\"middle\" x=\"337\" y=\"-210.8\">RooRealVar</text>\n",
       "<text font-family=\"Times,serif\" font-size=\"14.00\" text-anchor=\"middle\" x=\"337\" y=\"-195.8\">n_cr</text>\n",
       "</g>\n",
       "<!-- N_CR_model_with_sys&#45;&gt;n_cr -->\n",
       "<g class=\"edge\" id=\"edge11\"><title>N_CR_model_with_sys-&gt;n_cr</title>\n",
       "<path d=\"M351.108,-270.073C349.236,-261.838 347.132,-252.58 345.131,-243.777\" fill=\"none\" stroke=\"black\"/>\n",
       "<polygon fill=\"black\" points=\"348.48,-242.717 342.85,-233.742 341.654,-244.269 348.48,-242.717\" stroke=\"black\"/>\n",
       "</g>\n",
       "<!-- alpha_x_b_model_with_sys -->\n",
       "<g class=\"node\" id=\"node9\"><title>alpha_x_b_model_with_sys</title>\n",
       "<ellipse cx=\"534\" cy=\"-207\" fill=\"none\" rx=\"119.252\" ry=\"26.7407\" stroke=\"red\"/>\n",
       "<text font-family=\"Times,serif\" font-size=\"14.00\" text-anchor=\"middle\" x=\"534\" y=\"-210.8\">RooProduct</text>\n",
       "<text font-family=\"Times,serif\" font-size=\"14.00\" text-anchor=\"middle\" x=\"534\" y=\"-195.8\">alpha_x_b_model_with_sys</text>\n",
       "</g>\n",
       "<!-- N_CR_model_with_sys&#45;&gt;alpha_x_b_model_with_sys -->\n",
       "<g class=\"edge\" id=\"edge12\"><title>N_CR_model_with_sys-&gt;alpha_x_b_model_with_sys</title>\n",
       "<path d=\"M403.505,-272.879C426.02,-261.685 453.256,-248.144 477.009,-236.334\" fill=\"none\" stroke=\"black\"/>\n",
       "<polygon fill=\"black\" points=\"478.869,-239.319 486.265,-231.733 475.753,-233.05 478.869,-239.319\" stroke=\"black\"/>\n",
       "</g>\n",
       "<!-- alpha_x_b_model_with_sys&#45;&gt;b -->\n",
       "<g class=\"edge\" id=\"edge10\"><title>alpha_x_b_model_with_sys-&gt;b</title>\n",
       "<path d=\"M486.372,-182.186C461.347,-169.674 430.762,-154.381 405.723,-141.862\" fill=\"none\" stroke=\"black\"/>\n",
       "<polygon fill=\"black\" points=\"407.28,-138.727 396.77,-137.385 404.149,-144.988 407.28,-138.727\" stroke=\"black\"/>\n",
       "</g>\n",
       "<!-- kalpha -->\n",
       "<g class=\"node\" id=\"node10\"><title>kalpha</title>\n",
       "<ellipse cx=\"534\" cy=\"-117\" fill=\"none\" rx=\"74.4303\" ry=\"26.7407\" stroke=\"red\"/>\n",
       "<text font-family=\"Times,serif\" font-size=\"14.00\" text-anchor=\"middle\" x=\"534\" y=\"-120.8\">RooFormulaVar</text>\n",
       "<text font-family=\"Times,serif\" font-size=\"14.00\" text-anchor=\"middle\" x=\"534\" y=\"-105.8\">kalpha</text>\n",
       "</g>\n",
       "<!-- alpha_x_b_model_with_sys&#45;&gt;kalpha -->\n",
       "<g class=\"edge\" id=\"edge9\"><title>alpha_x_b_model_with_sys-&gt;kalpha</title>\n",
       "<path d=\"M534,-180.073C534,-171.999 534,-162.943 534,-154.296\" fill=\"none\" stroke=\"black\"/>\n",
       "<polygon fill=\"black\" points=\"537.5,-154.046 534,-144.046 530.5,-154.046 537.5,-154.046\" stroke=\"black\"/>\n",
       "</g>\n",
       "<!-- sigma_alpha -->\n",
       "<g class=\"node\" id=\"node11\"><title>sigma_alpha</title>\n",
       "<ellipse cx=\"465\" cy=\"-27\" fill=\"none\" rx=\"60.2186\" ry=\"26.7407\" stroke=\"blue\"/>\n",
       "<text font-family=\"Times,serif\" font-size=\"14.00\" text-anchor=\"middle\" x=\"465\" y=\"-30.8\">RooRealVar</text>\n",
       "<text font-family=\"Times,serif\" font-size=\"14.00\" text-anchor=\"middle\" x=\"465\" y=\"-15.8\">sigma_alpha</text>\n",
       "</g>\n",
       "<!-- kalpha&#45;&gt;sigma_alpha -->\n",
       "<g class=\"edge\" id=\"edge1\"><title>kalpha-&gt;sigma_alpha</title>\n",
       "<path d=\"M514.412,-91.0181C507.066,-81.6493 498.603,-70.8561 490.78,-60.8792\" fill=\"none\" stroke=\"black\"/>\n",
       "<polygon fill=\"black\" points=\"493.323,-58.4495 484.398,-52.7398 487.814,-62.7688 493.323,-58.4495\" stroke=\"black\"/>\n",
       "</g>\n",
       "<!-- theta_alpha -->\n",
       "<g class=\"node\" id=\"node12\"><title>theta_alpha</title>\n",
       "<ellipse cx=\"603\" cy=\"-27\" fill=\"none\" rx=\"59.096\" ry=\"26.7407\" stroke=\"blue\"/>\n",
       "<text font-family=\"Times,serif\" font-size=\"14.00\" text-anchor=\"middle\" x=\"603\" y=\"-30.8\">RooRealVar</text>\n",
       "<text font-family=\"Times,serif\" font-size=\"14.00\" text-anchor=\"middle\" x=\"603\" y=\"-15.8\">theta_alpha</text>\n",
       "</g>\n",
       "<!-- kalpha&#45;&gt;theta_alpha -->\n",
       "<g class=\"edge\" id=\"edge2\"><title>kalpha-&gt;theta_alpha</title>\n",
       "<path d=\"M553.588,-91.0181C561.07,-81.4755 569.711,-70.4549 577.655,-60.3245\" fill=\"none\" stroke=\"black\"/>\n",
       "<polygon fill=\"black\" points=\"580.424,-62.4652 583.84,-52.4362 574.915,-58.146 580.424,-62.4652\" stroke=\"black\"/>\n",
       "</g>\n",
       "</g>\n",
       "</svg>"
      ],
      "text/plain": [
       "<IPython.core.display.SVG object>"
      ]
     },
     "execution_count": 22,
     "metadata": {},
     "output_type": "execute_result"
    }
   ],
   "source": [
    "model_with_sys.graphVizTree(\"on_off_with_sys_graph.dot\")\n",
    "!dot -Tsvg on_off_with_sys_graph.dot > on_off_with_sys_graph.svg; rm on_off_with_sys_graph.dot\n",
    "SVG(\"on_off_with_sys_graph.svg\")"
   ]
  },
  {
   "cell_type": "markdown",
   "metadata": {},
   "source": [
    "### (Big) exercize\n",
    "\n",
    "Suppose you are looking for a signal in a SR. There are two main background on the signal region, due to two different physical processes, B1 and B2. You also have two CRs. The simulation predicts the following countings for an equivalent luminosity of 1/fb.\n",
    "\n",
    "|     |  SR |CR1|CR2|\n",
    "|-----|-----|-----|-----|\n",
    "|  B1 |  10 | 100 | 20  |\n",
    "|  B2 |  20 |  30 | 500 |\n",
    "\n",
    "You don't trust the cross section of the background, so you assume a degree of freedom for every process. For example:\n",
    "\n",
    "$$n_{B1}^{SR,exp} = L\\times k_{B1}\\times n_{B1}^{SR,mc}$$\n",
    "$$n_{B1}^{CR1,exp} = L\\times k_{B1}\\times n_{B1}^{CR1,mc}$$\n",
    "\n",
    "where $L$ is the observed luminosity. Note that we are using the correlation between SR/CR1/CR2 of the simulation. Assume  L=10/fb +/- 5%. \n",
    "\n",
    "Suppose you analysis is blinded (you haven't look to the signal region) and you observe: CR1=1509, CR2=5017 events.\n",
    "\n",
    "How many events do you have to observe in the signal region to claim a discovery at 3 sigma (what is the acceptance region)? What is the impact of the systematics? Bonus: take into account the MC statistical uncertainty of 3% for every prediction.\n",
    "\n",
    "For this kind of analyses usually [HistFactory](https://twiki.cern.ch/twiki/bin/view/RooStats/HistFactory) is used to produce the workspace."
   ]
  },
  {
   "cell_type": "markdown",
   "metadata": {
    "slideshow": {
     "slide_type": "slide"
    }
   },
   "source": [
    "## Shape analysis\n",
    "\n",
    "In more complicate analysis you don't look just to the number of events in specific region but you look to the distribution of the events as a function of a continuos variable (e.g. invariant mass).\n",
    "\n",
    "$$L(\\alpha|\\{m_i\\}_{i=1}^n) = \\text{Pois}[n|N_s(\\alpha) + N_b(\\alpha)] \\prod_{i=1}^n\\left(\\frac{N_s(\\alpha) f_s[m_i|\\alpha] + N_b(\\alpha) f_b[m_i|\\alpha]}{N_s(\\alpha)+N_b(\\alpha)}\\right)\\times\\prod_j L(a_j|\\alpha_j)$$\n",
    "\n",
    "Where $\\alpha$ is a set of nuisance parameters, $\\{m_i\\}_{i=1}^n$ are the data, $N_s$ and $N_b$ the predicted number of signal and background events, $f_s$ and $f_b$ the pdf describing the continuos observable.\n",
    "\n",
    "The last term is the product of all the constraints of the nuisance parameters (not all the nuisance parameters need to be constrained by auxiliary measurements). The other term is the extended likelihood of the s+b model.\n",
    "\n",
    "If the signal is localised the background shape can be fully data-driven. This means that the nuisance parameters for the background shape are completely free."
   ]
  },
  {
   "cell_type": "code",
   "execution_count": 65,
   "metadata": {
    "collapsed": false,
    "scrolled": false
   },
   "outputs": [
    {
     "data": {
      "application/javascript": [
       "/* Put everything inside the global mpl namespace */\n",
       "window.mpl = {};\n",
       "\n",
       "mpl.get_websocket_type = function() {\n",
       "    if (typeof(WebSocket) !== 'undefined') {\n",
       "        return WebSocket;\n",
       "    } else if (typeof(MozWebSocket) !== 'undefined') {\n",
       "        return MozWebSocket;\n",
       "    } else {\n",
       "        alert('Your browser does not have WebSocket support.' +\n",
       "              'Please try Chrome, Safari or Firefox ≥ 6. ' +\n",
       "              'Firefox 4 and 5 are also supported but you ' +\n",
       "              'have to enable WebSockets in about:config.');\n",
       "    };\n",
       "}\n",
       "\n",
       "mpl.figure = function(figure_id, websocket, ondownload, parent_element) {\n",
       "    this.id = figure_id;\n",
       "\n",
       "    this.ws = websocket;\n",
       "\n",
       "    this.supports_binary = (this.ws.binaryType != undefined);\n",
       "\n",
       "    if (!this.supports_binary) {\n",
       "        var warnings = document.getElementById(\"mpl-warnings\");\n",
       "        if (warnings) {\n",
       "            warnings.style.display = 'block';\n",
       "            warnings.textContent = (\n",
       "                \"This browser does not support binary websocket messages. \" +\n",
       "                    \"Performance may be slow.\");\n",
       "        }\n",
       "    }\n",
       "\n",
       "    this.imageObj = new Image();\n",
       "\n",
       "    this.context = undefined;\n",
       "    this.message = undefined;\n",
       "    this.canvas = undefined;\n",
       "    this.rubberband_canvas = undefined;\n",
       "    this.rubberband_context = undefined;\n",
       "    this.format_dropdown = undefined;\n",
       "\n",
       "    this.image_mode = 'full';\n",
       "\n",
       "    this.root = $('<div/>');\n",
       "    this._root_extra_style(this.root)\n",
       "    this.root.attr('style', 'display: inline-block');\n",
       "\n",
       "    $(parent_element).append(this.root);\n",
       "\n",
       "    this._init_header(this);\n",
       "    this._init_canvas(this);\n",
       "    this._init_toolbar(this);\n",
       "\n",
       "    var fig = this;\n",
       "\n",
       "    this.waiting = false;\n",
       "\n",
       "    this.ws.onopen =  function () {\n",
       "            fig.send_message(\"supports_binary\", {value: fig.supports_binary});\n",
       "            fig.send_message(\"send_image_mode\", {});\n",
       "            fig.send_message(\"refresh\", {});\n",
       "        }\n",
       "\n",
       "    this.imageObj.onload = function() {\n",
       "            if (fig.image_mode == 'full') {\n",
       "                // Full images could contain transparency (where diff images\n",
       "                // almost always do), so we need to clear the canvas so that\n",
       "                // there is no ghosting.\n",
       "                fig.context.clearRect(0, 0, fig.canvas.width, fig.canvas.height);\n",
       "            }\n",
       "            fig.context.drawImage(fig.imageObj, 0, 0);\n",
       "            fig.waiting = false;\n",
       "        };\n",
       "\n",
       "    this.imageObj.onunload = function() {\n",
       "        this.ws.close();\n",
       "    }\n",
       "\n",
       "    this.ws.onmessage = this._make_on_message_function(this);\n",
       "\n",
       "    this.ondownload = ondownload;\n",
       "}\n",
       "\n",
       "mpl.figure.prototype._init_header = function() {\n",
       "    var titlebar = $(\n",
       "        '<div class=\"ui-dialog-titlebar ui-widget-header ui-corner-all ' +\n",
       "        'ui-helper-clearfix\"/>');\n",
       "    var titletext = $(\n",
       "        '<div class=\"ui-dialog-title\" style=\"width: 100%; ' +\n",
       "        'text-align: center; padding: 3px;\"/>');\n",
       "    titlebar.append(titletext)\n",
       "    this.root.append(titlebar);\n",
       "    this.header = titletext[0];\n",
       "}\n",
       "\n",
       "\n",
       "\n",
       "mpl.figure.prototype._canvas_extra_style = function(canvas_div) {\n",
       "\n",
       "}\n",
       "\n",
       "\n",
       "mpl.figure.prototype._root_extra_style = function(canvas_div) {\n",
       "\n",
       "}\n",
       "\n",
       "mpl.figure.prototype._init_canvas = function() {\n",
       "    var fig = this;\n",
       "\n",
       "    var canvas_div = $('<div/>');\n",
       "\n",
       "    canvas_div.attr('style', 'position: relative; clear: both; outline: 0');\n",
       "\n",
       "    function canvas_keyboard_event(event) {\n",
       "        return fig.key_event(event, event['data']);\n",
       "    }\n",
       "\n",
       "    canvas_div.keydown('key_press', canvas_keyboard_event);\n",
       "    canvas_div.keyup('key_release', canvas_keyboard_event);\n",
       "    this.canvas_div = canvas_div\n",
       "    this._canvas_extra_style(canvas_div)\n",
       "    this.root.append(canvas_div);\n",
       "\n",
       "    var canvas = $('<canvas/>');\n",
       "    canvas.addClass('mpl-canvas');\n",
       "    canvas.attr('style', \"left: 0; top: 0; z-index: 0; outline: 0\")\n",
       "\n",
       "    this.canvas = canvas[0];\n",
       "    this.context = canvas[0].getContext(\"2d\");\n",
       "\n",
       "    var rubberband = $('<canvas/>');\n",
       "    rubberband.attr('style', \"position: absolute; left: 0; top: 0; z-index: 1;\")\n",
       "\n",
       "    var pass_mouse_events = true;\n",
       "\n",
       "    canvas_div.resizable({\n",
       "        start: function(event, ui) {\n",
       "            pass_mouse_events = false;\n",
       "        },\n",
       "        resize: function(event, ui) {\n",
       "            fig.request_resize(ui.size.width, ui.size.height);\n",
       "        },\n",
       "        stop: function(event, ui) {\n",
       "            pass_mouse_events = true;\n",
       "            fig.request_resize(ui.size.width, ui.size.height);\n",
       "        },\n",
       "    });\n",
       "\n",
       "    function mouse_event_fn(event) {\n",
       "        if (pass_mouse_events)\n",
       "            return fig.mouse_event(event, event['data']);\n",
       "    }\n",
       "\n",
       "    rubberband.mousedown('button_press', mouse_event_fn);\n",
       "    rubberband.mouseup('button_release', mouse_event_fn);\n",
       "    // Throttle sequential mouse events to 1 every 20ms.\n",
       "    rubberband.mousemove('motion_notify', mouse_event_fn);\n",
       "\n",
       "    rubberband.mouseenter('figure_enter', mouse_event_fn);\n",
       "    rubberband.mouseleave('figure_leave', mouse_event_fn);\n",
       "\n",
       "    canvas_div.on(\"wheel\", function (event) {\n",
       "        event = event.originalEvent;\n",
       "        event['data'] = 'scroll'\n",
       "        if (event.deltaY < 0) {\n",
       "            event.step = 1;\n",
       "        } else {\n",
       "            event.step = -1;\n",
       "        }\n",
       "        mouse_event_fn(event);\n",
       "    });\n",
       "\n",
       "    canvas_div.append(canvas);\n",
       "    canvas_div.append(rubberband);\n",
       "\n",
       "    this.rubberband = rubberband;\n",
       "    this.rubberband_canvas = rubberband[0];\n",
       "    this.rubberband_context = rubberband[0].getContext(\"2d\");\n",
       "    this.rubberband_context.strokeStyle = \"#000000\";\n",
       "\n",
       "    this._resize_canvas = function(width, height) {\n",
       "        // Keep the size of the canvas, canvas container, and rubber band\n",
       "        // canvas in synch.\n",
       "        canvas_div.css('width', width)\n",
       "        canvas_div.css('height', height)\n",
       "\n",
       "        canvas.attr('width', width);\n",
       "        canvas.attr('height', height);\n",
       "\n",
       "        rubberband.attr('width', width);\n",
       "        rubberband.attr('height', height);\n",
       "    }\n",
       "\n",
       "    // Set the figure to an initial 600x600px, this will subsequently be updated\n",
       "    // upon first draw.\n",
       "    this._resize_canvas(600, 600);\n",
       "\n",
       "    // Disable right mouse context menu.\n",
       "    $(this.rubberband_canvas).bind(\"contextmenu\",function(e){\n",
       "        return false;\n",
       "    });\n",
       "\n",
       "    function set_focus () {\n",
       "        canvas.focus();\n",
       "        canvas_div.focus();\n",
       "    }\n",
       "\n",
       "    window.setTimeout(set_focus, 100);\n",
       "}\n",
       "\n",
       "mpl.figure.prototype._init_toolbar = function() {\n",
       "    var fig = this;\n",
       "\n",
       "    var nav_element = $('<div/>')\n",
       "    nav_element.attr('style', 'width: 100%');\n",
       "    this.root.append(nav_element);\n",
       "\n",
       "    // Define a callback function for later on.\n",
       "    function toolbar_event(event) {\n",
       "        return fig.toolbar_button_onclick(event['data']);\n",
       "    }\n",
       "    function toolbar_mouse_event(event) {\n",
       "        return fig.toolbar_button_onmouseover(event['data']);\n",
       "    }\n",
       "\n",
       "    for(var toolbar_ind in mpl.toolbar_items) {\n",
       "        var name = mpl.toolbar_items[toolbar_ind][0];\n",
       "        var tooltip = mpl.toolbar_items[toolbar_ind][1];\n",
       "        var image = mpl.toolbar_items[toolbar_ind][2];\n",
       "        var method_name = mpl.toolbar_items[toolbar_ind][3];\n",
       "\n",
       "        if (!name) {\n",
       "            // put a spacer in here.\n",
       "            continue;\n",
       "        }\n",
       "        var button = $('<button/>');\n",
       "        button.addClass('ui-button ui-widget ui-state-default ui-corner-all ' +\n",
       "                        'ui-button-icon-only');\n",
       "        button.attr('role', 'button');\n",
       "        button.attr('aria-disabled', 'false');\n",
       "        button.click(method_name, toolbar_event);\n",
       "        button.mouseover(tooltip, toolbar_mouse_event);\n",
       "\n",
       "        var icon_img = $('<span/>');\n",
       "        icon_img.addClass('ui-button-icon-primary ui-icon');\n",
       "        icon_img.addClass(image);\n",
       "        icon_img.addClass('ui-corner-all');\n",
       "\n",
       "        var tooltip_span = $('<span/>');\n",
       "        tooltip_span.addClass('ui-button-text');\n",
       "        tooltip_span.html(tooltip);\n",
       "\n",
       "        button.append(icon_img);\n",
       "        button.append(tooltip_span);\n",
       "\n",
       "        nav_element.append(button);\n",
       "    }\n",
       "\n",
       "    var fmt_picker_span = $('<span/>');\n",
       "\n",
       "    var fmt_picker = $('<select/>');\n",
       "    fmt_picker.addClass('mpl-toolbar-option ui-widget ui-widget-content');\n",
       "    fmt_picker_span.append(fmt_picker);\n",
       "    nav_element.append(fmt_picker_span);\n",
       "    this.format_dropdown = fmt_picker[0];\n",
       "\n",
       "    for (var ind in mpl.extensions) {\n",
       "        var fmt = mpl.extensions[ind];\n",
       "        var option = $(\n",
       "            '<option/>', {selected: fmt === mpl.default_extension}).html(fmt);\n",
       "        fmt_picker.append(option)\n",
       "    }\n",
       "\n",
       "    // Add hover states to the ui-buttons\n",
       "    $( \".ui-button\" ).hover(\n",
       "        function() { $(this).addClass(\"ui-state-hover\");},\n",
       "        function() { $(this).removeClass(\"ui-state-hover\");}\n",
       "    );\n",
       "\n",
       "    var status_bar = $('<span class=\"mpl-message\"/>');\n",
       "    nav_element.append(status_bar);\n",
       "    this.message = status_bar[0];\n",
       "}\n",
       "\n",
       "mpl.figure.prototype.request_resize = function(x_pixels, y_pixels) {\n",
       "    // Request matplotlib to resize the figure. Matplotlib will then trigger a resize in the client,\n",
       "    // which will in turn request a refresh of the image.\n",
       "    this.send_message('resize', {'width': x_pixels, 'height': y_pixels});\n",
       "}\n",
       "\n",
       "mpl.figure.prototype.send_message = function(type, properties) {\n",
       "    properties['type'] = type;\n",
       "    properties['figure_id'] = this.id;\n",
       "    this.ws.send(JSON.stringify(properties));\n",
       "}\n",
       "\n",
       "mpl.figure.prototype.send_draw_message = function() {\n",
       "    if (!this.waiting) {\n",
       "        this.waiting = true;\n",
       "        this.ws.send(JSON.stringify({type: \"draw\", figure_id: this.id}));\n",
       "    }\n",
       "}\n",
       "\n",
       "\n",
       "mpl.figure.prototype.handle_save = function(fig, msg) {\n",
       "    var format_dropdown = fig.format_dropdown;\n",
       "    var format = format_dropdown.options[format_dropdown.selectedIndex].value;\n",
       "    fig.ondownload(fig, format);\n",
       "}\n",
       "\n",
       "\n",
       "mpl.figure.prototype.handle_resize = function(fig, msg) {\n",
       "    var size = msg['size'];\n",
       "    if (size[0] != fig.canvas.width || size[1] != fig.canvas.height) {\n",
       "        fig._resize_canvas(size[0], size[1]);\n",
       "        fig.send_message(\"refresh\", {});\n",
       "    };\n",
       "}\n",
       "\n",
       "mpl.figure.prototype.handle_rubberband = function(fig, msg) {\n",
       "    var x0 = msg['x0'];\n",
       "    var y0 = fig.canvas.height - msg['y0'];\n",
       "    var x1 = msg['x1'];\n",
       "    var y1 = fig.canvas.height - msg['y1'];\n",
       "    x0 = Math.floor(x0) + 0.5;\n",
       "    y0 = Math.floor(y0) + 0.5;\n",
       "    x1 = Math.floor(x1) + 0.5;\n",
       "    y1 = Math.floor(y1) + 0.5;\n",
       "    var min_x = Math.min(x0, x1);\n",
       "    var min_y = Math.min(y0, y1);\n",
       "    var width = Math.abs(x1 - x0);\n",
       "    var height = Math.abs(y1 - y0);\n",
       "\n",
       "    fig.rubberband_context.clearRect(\n",
       "        0, 0, fig.canvas.width, fig.canvas.height);\n",
       "\n",
       "    fig.rubberband_context.strokeRect(min_x, min_y, width, height);\n",
       "}\n",
       "\n",
       "mpl.figure.prototype.handle_figure_label = function(fig, msg) {\n",
       "    // Updates the figure title.\n",
       "    fig.header.textContent = msg['label'];\n",
       "}\n",
       "\n",
       "mpl.figure.prototype.handle_cursor = function(fig, msg) {\n",
       "    var cursor = msg['cursor'];\n",
       "    switch(cursor)\n",
       "    {\n",
       "    case 0:\n",
       "        cursor = 'pointer';\n",
       "        break;\n",
       "    case 1:\n",
       "        cursor = 'default';\n",
       "        break;\n",
       "    case 2:\n",
       "        cursor = 'crosshair';\n",
       "        break;\n",
       "    case 3:\n",
       "        cursor = 'move';\n",
       "        break;\n",
       "    }\n",
       "    fig.rubberband_canvas.style.cursor = cursor;\n",
       "}\n",
       "\n",
       "mpl.figure.prototype.handle_message = function(fig, msg) {\n",
       "    fig.message.textContent = msg['message'];\n",
       "}\n",
       "\n",
       "mpl.figure.prototype.handle_draw = function(fig, msg) {\n",
       "    // Request the server to send over a new figure.\n",
       "    fig.send_draw_message();\n",
       "}\n",
       "\n",
       "mpl.figure.prototype.handle_image_mode = function(fig, msg) {\n",
       "    fig.image_mode = msg['mode'];\n",
       "}\n",
       "\n",
       "mpl.figure.prototype.updated_canvas_event = function() {\n",
       "    // Called whenever the canvas gets updated.\n",
       "    this.send_message(\"ack\", {});\n",
       "}\n",
       "\n",
       "// A function to construct a web socket function for onmessage handling.\n",
       "// Called in the figure constructor.\n",
       "mpl.figure.prototype._make_on_message_function = function(fig) {\n",
       "    return function socket_on_message(evt) {\n",
       "        if (evt.data instanceof Blob) {\n",
       "            /* FIXME: We get \"Resource interpreted as Image but\n",
       "             * transferred with MIME type text/plain:\" errors on\n",
       "             * Chrome.  But how to set the MIME type?  It doesn't seem\n",
       "             * to be part of the websocket stream */\n",
       "            evt.data.type = \"image/png\";\n",
       "\n",
       "            /* Free the memory for the previous frames */\n",
       "            if (fig.imageObj.src) {\n",
       "                (window.URL || window.webkitURL).revokeObjectURL(\n",
       "                    fig.imageObj.src);\n",
       "            }\n",
       "\n",
       "            fig.imageObj.src = (window.URL || window.webkitURL).createObjectURL(\n",
       "                evt.data);\n",
       "            fig.updated_canvas_event();\n",
       "            return;\n",
       "        }\n",
       "        else if (typeof evt.data === 'string' && evt.data.slice(0, 21) == \"data:image/png;base64\") {\n",
       "            fig.imageObj.src = evt.data;\n",
       "            fig.updated_canvas_event();\n",
       "            return;\n",
       "        }\n",
       "\n",
       "        var msg = JSON.parse(evt.data);\n",
       "        var msg_type = msg['type'];\n",
       "\n",
       "        // Call the  \"handle_{type}\" callback, which takes\n",
       "        // the figure and JSON message as its only arguments.\n",
       "        try {\n",
       "            var callback = fig[\"handle_\" + msg_type];\n",
       "        } catch (e) {\n",
       "            console.log(\"No handler for the '\" + msg_type + \"' message type: \", msg);\n",
       "            return;\n",
       "        }\n",
       "\n",
       "        if (callback) {\n",
       "            try {\n",
       "                // console.log(\"Handling '\" + msg_type + \"' message: \", msg);\n",
       "                callback(fig, msg);\n",
       "            } catch (e) {\n",
       "                console.log(\"Exception inside the 'handler_\" + msg_type + \"' callback:\", e, e.stack, msg);\n",
       "            }\n",
       "        }\n",
       "    };\n",
       "}\n",
       "\n",
       "// from http://stackoverflow.com/questions/1114465/getting-mouse-location-in-canvas\n",
       "mpl.findpos = function(e) {\n",
       "    //this section is from http://www.quirksmode.org/js/events_properties.html\n",
       "    var targ;\n",
       "    if (!e)\n",
       "        e = window.event;\n",
       "    if (e.target)\n",
       "        targ = e.target;\n",
       "    else if (e.srcElement)\n",
       "        targ = e.srcElement;\n",
       "    if (targ.nodeType == 3) // defeat Safari bug\n",
       "        targ = targ.parentNode;\n",
       "\n",
       "    // jQuery normalizes the pageX and pageY\n",
       "    // pageX,Y are the mouse positions relative to the document\n",
       "    // offset() returns the position of the element relative to the document\n",
       "    var x = e.pageX - $(targ).offset().left;\n",
       "    var y = e.pageY - $(targ).offset().top;\n",
       "\n",
       "    return {\"x\": x, \"y\": y};\n",
       "};\n",
       "\n",
       "mpl.figure.prototype.mouse_event = function(event, name) {\n",
       "    var canvas_pos = mpl.findpos(event)\n",
       "\n",
       "    if (name === 'button_press')\n",
       "    {\n",
       "        this.canvas.focus();\n",
       "        this.canvas_div.focus();\n",
       "    }\n",
       "\n",
       "    var x = canvas_pos.x;\n",
       "    var y = canvas_pos.y;\n",
       "\n",
       "    this.send_message(name, {x: x, y: y, button: event.button,\n",
       "                             step: event.step});\n",
       "\n",
       "    /* This prevents the web browser from automatically changing to\n",
       "     * the text insertion cursor when the button is pressed.  We want\n",
       "     * to control all of the cursor setting manually through the\n",
       "     * 'cursor' event from matplotlib */\n",
       "    event.preventDefault();\n",
       "    return false;\n",
       "}\n",
       "\n",
       "mpl.figure.prototype._key_event_extra = function(event, name) {\n",
       "    // Handle any extra behaviour associated with a key event\n",
       "}\n",
       "\n",
       "mpl.figure.prototype.key_event = function(event, name) {\n",
       "\n",
       "    // Prevent repeat events\n",
       "    if (name == 'key_press')\n",
       "    {\n",
       "        if (event.which === this._key)\n",
       "            return;\n",
       "        else\n",
       "            this._key = event.which;\n",
       "    }\n",
       "    if (name == 'key_release')\n",
       "        this._key = null;\n",
       "\n",
       "    var value = '';\n",
       "    if (event.ctrlKey && event.which != 17)\n",
       "        value += \"ctrl+\";\n",
       "    if (event.altKey && event.which != 18)\n",
       "        value += \"alt+\";\n",
       "    if (event.shiftKey && event.which != 16)\n",
       "        value += \"shift+\";\n",
       "\n",
       "    value += 'k';\n",
       "    value += event.which.toString();\n",
       "\n",
       "    this._key_event_extra(event, name);\n",
       "\n",
       "    this.send_message(name, {key: value});\n",
       "    return false;\n",
       "}\n",
       "\n",
       "mpl.figure.prototype.toolbar_button_onclick = function(name) {\n",
       "    if (name == 'download') {\n",
       "        this.handle_save(this, null);\n",
       "    } else {\n",
       "        this.send_message(\"toolbar_button\", {name: name});\n",
       "    }\n",
       "};\n",
       "\n",
       "mpl.figure.prototype.toolbar_button_onmouseover = function(tooltip) {\n",
       "    this.message.textContent = tooltip;\n",
       "};\n",
       "mpl.toolbar_items = [[\"Home\", \"Reset original view\", \"fa fa-home icon-home\", \"home\"], [\"Back\", \"Back to  previous view\", \"fa fa-arrow-left icon-arrow-left\", \"back\"], [\"Forward\", \"Forward to next view\", \"fa fa-arrow-right icon-arrow-right\", \"forward\"], [\"\", \"\", \"\", \"\"], [\"Pan\", \"Pan axes with left mouse, zoom with right\", \"fa fa-arrows icon-move\", \"pan\"], [\"Zoom\", \"Zoom to rectangle\", \"fa fa-square-o icon-check-empty\", \"zoom\"], [\"\", \"\", \"\", \"\"], [\"Download\", \"Download plot\", \"fa fa-floppy-o icon-save\", \"download\"]];\n",
       "\n",
       "mpl.extensions = [\"eps\", \"jpeg\", \"pdf\", \"png\", \"ps\", \"raw\", \"svg\", \"tif\"];\n",
       "\n",
       "mpl.default_extension = \"png\";var comm_websocket_adapter = function(comm) {\n",
       "    // Create a \"websocket\"-like object which calls the given IPython comm\n",
       "    // object with the appropriate methods. Currently this is a non binary\n",
       "    // socket, so there is still some room for performance tuning.\n",
       "    var ws = {};\n",
       "\n",
       "    ws.close = function() {\n",
       "        comm.close()\n",
       "    };\n",
       "    ws.send = function(m) {\n",
       "        //console.log('sending', m);\n",
       "        comm.send(m);\n",
       "    };\n",
       "    // Register the callback with on_msg.\n",
       "    comm.on_msg(function(msg) {\n",
       "        //console.log('receiving', msg['content']['data'], msg);\n",
       "        // Pass the mpl event to the overriden (by mpl) onmessage function.\n",
       "        ws.onmessage(msg['content']['data'])\n",
       "    });\n",
       "    return ws;\n",
       "}\n",
       "\n",
       "mpl.mpl_figure_comm = function(comm, msg) {\n",
       "    // This is the function which gets called when the mpl process\n",
       "    // starts-up an IPython Comm through the \"matplotlib\" channel.\n",
       "\n",
       "    var id = msg.content.data.id;\n",
       "    // Get hold of the div created by the display call when the Comm\n",
       "    // socket was opened in Python.\n",
       "    var element = $(\"#\" + id);\n",
       "    var ws_proxy = comm_websocket_adapter(comm)\n",
       "\n",
       "    function ondownload(figure, format) {\n",
       "        window.open(figure.imageObj.src);\n",
       "    }\n",
       "\n",
       "    var fig = new mpl.figure(id, ws_proxy,\n",
       "                           ondownload,\n",
       "                           element.get(0));\n",
       "\n",
       "    // Call onopen now - mpl needs it, as it is assuming we've passed it a real\n",
       "    // web socket which is closed, not our websocket->open comm proxy.\n",
       "    ws_proxy.onopen();\n",
       "\n",
       "    fig.parent_element = element.get(0);\n",
       "    fig.cell_info = mpl.find_output_cell(\"<div id='\" + id + \"'></div>\");\n",
       "    if (!fig.cell_info) {\n",
       "        console.error(\"Failed to find cell for figure\", id, fig);\n",
       "        return;\n",
       "    }\n",
       "\n",
       "    var output_index = fig.cell_info[2]\n",
       "    var cell = fig.cell_info[0];\n",
       "\n",
       "};\n",
       "\n",
       "mpl.figure.prototype.handle_close = function(fig, msg) {\n",
       "    // Update the output cell to use the data from the current canvas.\n",
       "    fig.push_to_output();\n",
       "    var dataURL = fig.canvas.toDataURL();\n",
       "    // Re-enable the keyboard manager in IPython - without this line, in FF,\n",
       "    // the notebook keyboard shortcuts fail.\n",
       "    IPython.keyboard_manager.enable()\n",
       "    $(fig.parent_element).html('<img src=\"' + dataURL + '\">');\n",
       "    fig.send_message('closing', {});\n",
       "    fig.ws.close()\n",
       "}\n",
       "\n",
       "mpl.figure.prototype.push_to_output = function(remove_interactive) {\n",
       "    // Turn the data on the canvas into data in the output cell.\n",
       "    var dataURL = this.canvas.toDataURL();\n",
       "    this.cell_info[1]['text/html'] = '<img src=\"' + dataURL + '\">';\n",
       "}\n",
       "\n",
       "mpl.figure.prototype.updated_canvas_event = function() {\n",
       "    // Tell IPython that the notebook contents must change.\n",
       "    IPython.notebook.set_dirty(true);\n",
       "    this.send_message(\"ack\", {});\n",
       "    var fig = this;\n",
       "    // Wait a second, then push the new image to the DOM so\n",
       "    // that it is saved nicely (might be nice to debounce this).\n",
       "    setTimeout(function () { fig.push_to_output() }, 1000);\n",
       "}\n",
       "\n",
       "mpl.figure.prototype._init_toolbar = function() {\n",
       "    var fig = this;\n",
       "\n",
       "    var nav_element = $('<div/>')\n",
       "    nav_element.attr('style', 'width: 100%');\n",
       "    this.root.append(nav_element);\n",
       "\n",
       "    // Define a callback function for later on.\n",
       "    function toolbar_event(event) {\n",
       "        return fig.toolbar_button_onclick(event['data']);\n",
       "    }\n",
       "    function toolbar_mouse_event(event) {\n",
       "        return fig.toolbar_button_onmouseover(event['data']);\n",
       "    }\n",
       "\n",
       "    for(var toolbar_ind in mpl.toolbar_items){\n",
       "        var name = mpl.toolbar_items[toolbar_ind][0];\n",
       "        var tooltip = mpl.toolbar_items[toolbar_ind][1];\n",
       "        var image = mpl.toolbar_items[toolbar_ind][2];\n",
       "        var method_name = mpl.toolbar_items[toolbar_ind][3];\n",
       "\n",
       "        if (!name) { continue; };\n",
       "\n",
       "        var button = $('<button class=\"btn btn-default\" href=\"#\" title=\"' + name + '\"><i class=\"fa ' + image + ' fa-lg\"></i></button>');\n",
       "        button.click(method_name, toolbar_event);\n",
       "        button.mouseover(tooltip, toolbar_mouse_event);\n",
       "        nav_element.append(button);\n",
       "    }\n",
       "\n",
       "    // Add the status bar.\n",
       "    var status_bar = $('<span class=\"mpl-message\" style=\"text-align:right; float: right;\"/>');\n",
       "    nav_element.append(status_bar);\n",
       "    this.message = status_bar[0];\n",
       "\n",
       "    // Add the close button to the window.\n",
       "    var buttongrp = $('<div class=\"btn-group inline pull-right\"></div>');\n",
       "    var button = $('<button class=\"btn btn-mini btn-danger\" href=\"#\" title=\"Close figure\"><i class=\"fa fa-times icon-remove icon-large\"></i></button>');\n",
       "    button.click(function (evt) { fig.handle_close(fig, {}); } );\n",
       "    button.mouseover('Close figure', toolbar_mouse_event);\n",
       "    buttongrp.append(button);\n",
       "    var titlebar = this.root.find($('.ui-dialog-titlebar'));\n",
       "    titlebar.prepend(buttongrp);\n",
       "}\n",
       "\n",
       "\n",
       "mpl.figure.prototype._canvas_extra_style = function(el){\n",
       "    // this is important to make the div 'focusable\n",
       "    el.attr('tabindex', 0)\n",
       "    // reach out to IPython and tell the keyboard manager to turn it's self\n",
       "    // off when our div gets focus\n",
       "\n",
       "    // location in version 3\n",
       "    if (IPython.notebook.keyboard_manager) {\n",
       "        IPython.notebook.keyboard_manager.register_events(el);\n",
       "    }\n",
       "    else {\n",
       "        // location in version 2\n",
       "        IPython.keyboard_manager.register_events(el);\n",
       "    }\n",
       "\n",
       "}\n",
       "\n",
       "mpl.figure.prototype._key_event_extra = function(event, name) {\n",
       "    var manager = IPython.notebook.keyboard_manager;\n",
       "    if (!manager)\n",
       "        manager = IPython.keyboard_manager;\n",
       "\n",
       "    // Check for shift+enter\n",
       "    if (event.shiftKey && event.which == 13) {\n",
       "        this.canvas_div.blur();\n",
       "        event.shiftKey = false;\n",
       "        // Send a \"J\" for go to next cell\n",
       "        event.which = 74;\n",
       "        event.keyCode = 74;\n",
       "        manager.command_mode();\n",
       "        manager.handle_keydown(event);\n",
       "    }\n",
       "}\n",
       "\n",
       "mpl.figure.prototype.handle_save = function(fig, msg) {\n",
       "    fig.ondownload(fig, null);\n",
       "}\n",
       "\n",
       "\n",
       "mpl.find_output_cell = function(html_output) {\n",
       "    // Return the cell and output element which can be found *uniquely* in the notebook.\n",
       "    // Note - this is a bit hacky, but it is done because the \"notebook_saving.Notebook\"\n",
       "    // IPython event is triggered only after the cells have been serialised, which for\n",
       "    // our purposes (turning an active figure into a static one), is too late.\n",
       "    var cells = IPython.notebook.get_cells();\n",
       "    var ncells = cells.length;\n",
       "    for (var i=0; i<ncells; i++) {\n",
       "        var cell = cells[i];\n",
       "        if (cell.cell_type === 'code'){\n",
       "            for (var j=0; j<cell.output_area.outputs.length; j++) {\n",
       "                var data = cell.output_area.outputs[j];\n",
       "                if (data.data) {\n",
       "                    // IPython >= 3 moved mimebundle to data attribute of output\n",
       "                    data = data.data;\n",
       "                }\n",
       "                if (data['text/html'] == html_output) {\n",
       "                    return [cell, data, j];\n",
       "                }\n",
       "            }\n",
       "        }\n",
       "    }\n",
       "}\n",
       "\n",
       "// Register the function which deals with the matplotlib target/channel.\n",
       "// The kernel may be null if the page has been refreshed.\n",
       "if (IPython.notebook.kernel != null) {\n",
       "    IPython.notebook.kernel.comm_manager.register_target('matplotlib', mpl.mpl_figure_comm);\n",
       "}\n"
      ],
      "text/plain": [
       "<IPython.core.display.Javascript object>"
      ]
     },
     "metadata": {},
     "output_type": "display_data"
    },
    {
     "data": {
      "text/html": [
       "<img src=\"data:image/png;base64,iVBORw0KGgoAAAANSUhEUgAAAoAAAAHgCAYAAAA10dzkAAAgAElEQVR4Xu3dC7hld1nn+V8FrUQlCQ6XhEtxEcJ1BHsYQoQZiEAMcmmaxlEYGgREBcsIJAKZADGQJqalhREpHOwmhLZtIDDIrcGyuYTQgEbuECUGQyQEEBCspENCQVL9vJu948lJnexT5z216qx9Pvt58hir9n+ftT7/d1e+rH2pLXEjQIAAAQIECBDYVAJbNtXZOlkCBAgQIECAAIEIQENAgAABAgQIENhkAgJwk2240yVAgAABAgQICEAzQIAAAQIECBDYZAICcJNtuNMlQIAAAQIECAhAM0CAAAECBAgQ2GQCAnCTbbjTJUCAAAECBAgIQDNAgAABAgQIENhkAgJwk2240yVAgAABAgQICEAzQIAAAQIECBDYZAICcJNtuNMlQIAAAQIECAhAM0CAAAECBAgQ2GQCAnCTbbjTJUCAAAECBAgIQDNAgAABAgQIENhkAgJwk2240yVAgAABAgQICEAzQIAAAQIECBDYZAICcJNtuNMlQIAAAQIECAhAM0CAAAECBAgQ2GQCAnCTbbjTJUCAAAECBAgIQDNAgAABAgQIENhkAgJwk2240yVAgAABAgQICEAzQIAAAQIECBDYZAICcJNtuNMlQIAAAQIECAhAM0CAAAECBAgQ2GQCAnCTbbjTJUCAAAECBAgIQDNAgAABAgQIENhkAgJwk2240yVAgAABAgQICEAzQIAAAQIECBDYZAICcJNtuNMlQIAAAQIECAhAM0CAwN4ETktyapIfSnLtgET/KsmdkrxilT/z7kleneS+SQ5NUuvfscq1i363S5K8P8nTFv1EnR8BAvsuIAD33cwKAptBoALwRUl+eOAAPDvJQ5NsWyXyu5NUBD4jyT8l+dvp/13l8oW+232SXJ7kiwt9lk6OAIE1CQjANbFZRGDhBQ7UFcB9DcCKmw8mecqcHTk4yXcXftecIAECBFYpIABXCeVuBDaZwCwA753kD5IcnWRXkv+QpH5vzxKPWyY5PcmjktxiesXp5dP7zu5Wv/7SJMcmuV2Sf0zyoSTPTfKV6Z0q/p68zLlexvyJvdjX49TLm0tvdUw3mR5fvXz9k0nqOB6Q5H3Tl4d/NMlvJ/mFJLdJclmS/5jkd5ad079I8sok//v0WP+/6dXQuip60PSH3jHJxUmemuT1Sw5kdmz1f89b8uv/Osnzpse1O8l/S3JSkkuX3KfOt1z+6/Q460ro3yR5dpIPLzvfByd5YZL7TV+q/8L0mM+a3q8e6wPT45strZfX/22S45IcNn3sFyd525LHvmuSfzd1q/t8PclfJnlCkms22fPA6RJYWAEBuLBb68QItARmAViB89okf5Xk4UlOTFLBUP/UrQKhfq+usFUE1hW52f0qWl41vV9FxW9Mg+gfktw6yW8lqXisl3Dr6lyFXkVXBc2jp+vq1z+9lzOp9/vdc/p+v/OnP7vuVv++9Ngr7v5i+jJ2BdS5Se6R5CVJPpvkp6cvde+YHk89RsXqRdMwrceqWKtQvX2S204js+43C8C6+vif5gRgvURd71WsOHvL1K0e+5AkFdn/Y7q+/OrP5TKqCKvzL9cKt/p5FeF1e0yS/38ai3+Y5JtJ/tck/8v0/Os+9VgVgLP3AFZMfjzJ15KcmeQbSR4/vXpa75185/Sx69wr0Ovn1+NWsP9ckl9O8r3WVFlMgMCGERCAG2YrHAiBDSUwi6iTk/zukiP7o2k0VBTU+8vqitgp0/j4u2X3e2ySI1Z4D2FdqasrcH+fpK6Mza5A7etLwHX1rK6kLf2gw+zYnzW9ejk7rCdNr9Q9KMl/X3Ksdfx1VbDiroKnrlTWlbk7T68Q1l3ryuGXkvz4GgLwptPHeXOSpy/5uRV0F06vCv7+9Nfrql3FbcXwLPbqAy4V2U9M8oZpIFbc1ZW5ujK70m15AFbI11XaCu5vL1n059MQr6ueFb/1uP8yybs21EQ6GAIE1lVAAK4rpwcjsDACs4iqEKkomd3qAxoVXP9Hko9MX5asK2QPm4bJ7H51Remc6dWtz01/8ZnTD2vUY/7YksdcGpnrGYB1xe7LS37On0xf1rzLsmOt8KmXOGfRUy8t18u89RLu0tvrkvzSXl4CnncFsF5u3Tk1WvqScD32J6ZXGx+3JADLq0Jtdqurq1clmTlVwP311LKCfLUBWC93V+xVhC79s7+u1Fbk19XcK6fHU1ce65PY9f7KuiLoRoDAggkIwAXbUKdDYJ0EZgFYoVbxMbvVy4yfSfKLSeqKVsVBXSnb263ek/eQaUSckKSucv3eNIbqClRdBayXZ+tn1UuydVvPAKxPMC99z1qFawXsSsdaVxHrvXz1nrvZOS69b71sWu/hW/4ewHkBWFfu/vhG9qUi62emv19X7eo9gMvfC1lfxTNzeuD0PhWJ9SnolW7LrwDWy7dlvtL5V5jXFdl6ubl+1iOS3Hz6UvLLktT7IN0IEFgQAQG4IBvpNAiss8AsACvuln6NyPIrgB9N8v0k9XLr3m71tSz1/rZ6/11dXfrZJXeq0KiXjfdXAC7/DsN6+bReMv2/VjjWutL5rekHRmptfchi6W35FcAjp+8T/NXpB0lm962reRXHsw+B1HsiK9Tq6uEFe/nZVyy5yraaALzbNFLrfYX7cgXwq9P3YNZ7+/Z2qyuPdTV36a2+Sqbeu1nv/6sg/LN1njMPR4DAARIQgAcI3o8lsMEFZgH4/0w/DDA73PoUcH2Ctt4DWOFS752rq3v1wYr6UMFKt3qpsz58UBExu9VVv/oU69IAfE2SCqh6L9pqbjf2HsDlAVgBVsdfnw6u996tdKtPydaHPip+Zy8h15XQujq29D2A9efnd6YRtjSA64MedVVwFoD10modZ10BrU8n39htNQFYP7fCud6vuC/vAayArQ+9/FSSq1eDO71PHX99x2KZ1BVcNwIEFkBAAC7AJjoFAvtBYBaAFRoVNB9Lcvz0U8AVffXJ1LpVHNTLuPWyaL1nrK74VSzV+9TqfYL1XsC6nZHk+dPgqw801EvDFXpHLQvA30zy/yb59eknVitU6tO6K90q0Op9bXv7EMjyAKz//71J6j2AFTL1Mu/WaejVp47rWOvl7nrZs17armBd+ing+hTt0k8B1zHVS9Y/Pz23OvdHTj/BXFc3l34NTF0lrE8a16eS6ypafcCjHquuMtYndevqZN3qKmS9T/DGXgKu+9X7Fd86vW+9NFsxWBFen6quY5491tK/CaSOvz4lXTFan86eBW29rF/HW1f56hPJFapvnEZmvWRcMVsf1DkmySf3w6x5SAIEDoCAADwA6H4kgREIVOTNvkuvYqH+419XgeoKWv3e0tvNpvetgKqoqft9fvo1JfW1LnWrrzup7+SrWKp/r69jqdirr5lZegWwPm1bkVQvm9bjrvQ9gLOfv7crgLNj39vfYlIfqKgPU9TXn1T01MvS9f159b179enf2XsG64MhFUL1lTQVV7PvASyT2XsA6xgOn37SuL4mpX79TdNPz9ZXqtT7+pZ+6KPuU1fR6lO9FaP1oYz6/X8/9arHW80VwNm51+PXp7DrGOtW51HxPPtOwuXvAaz71P6Udx1LxWJ93UsFdq35L9Nfq/f71ZXCuspbAV6hXAFf76F0I0BgQQQE4IJspNMgQGC/C8yuii4NwP3+Q/0AAgQI7A8BAbg/VD0mAQKLKCAAF3FXnROBTSogADfpxjttAgT2WWD20vJKX6Wyzw9oAQECBA6UgAA8UPJ+LgECBAgQIEDgAAkIwAME78cSIECAAAECBA6UgADsyZdf/X2m9X1obgQIECBAgMB4BOrv3f5KkvpbizbdTQD2try+UmHp3zXaezSrCRAgQIAAgSEF6uuO6iuZNt1NAPa2vL4Ed9ell16aww6rf3U7kAKnnHJKzjijvq7M7UAL2IsDvQPX//n2Y+Psh73YGHtx+eWXZ9u2+m70yXd5Xr4xjmrYoxCAPe9JAO7atUsA9hzXZfWJJ56Yl7+8vmvY7UAL2IsDvQPX//n2Y+Psh73YGHtRAXj44dV+AnBj7Mj4jkIAbqA98wfrxtkMe7Fx9qKOxH5snP2wFxtjLwRg4gpgbxYFYM9vXVfv3Lkzxx9ff12t24EWsBcHegeu//Ptx8bZD3uxMfZCAArA7iQKwK6g9QQIECBAYGABASgAuyMnALuC1hMgQIAAgYEFBKAA7I6cAOwKWk+AAIGRCuzZsydXXOFrYDfy9h166KHZsuWG73YTgAKwO7cCsCtoPQECBEYqsCQiRnoGi3/YK31LhwAUgN3pF4BdQesJECAwUoFZRPgu2I23gbPv+ROAK++NTwH35lYA9vysJkCAwGgFZgHou2A33hbO2xtXAF0B7E6tAOwKWk+AAIGRCsyLjJGe1kIc9ry9EYACsDvoArAraD0BAgRGKjAvMkZ6Wgtx2PP2RgAKwO6gC8CuoPUECBAYqcC8yBjpaS3EYc/bGwEoALuDLgC7gtYTIEBgpALzImOkp3XdYf/Kr/xKXvva1+bZz3726P6e9Xl7IwAFYPf5KQC7gtYTIEBgpALzImOkpzU57KuuuipHHnlkvv/976e+S++yyy7LTW5yk9Gc0ry9EYACsDvMArAraD0BAgRGKjAvMkZ6WpPDfsMb3pAnPvGJeeUrX5nf/M3fzDvf+c488pGPHM0pzdsbASgAu8MsALuC1hMgQGCkAvMiY6SnNTnshz/84anvN/zc5z6Xbdu25QEPeEDOOeec0ZzSvL0RgAKwO8wCsCtoPQECBEYqMC8yRnpa+cpXvpI73OEOedGLXpRTTz01J554Yv7wD/8wX/3qV3Ozm91sFKc1b28EoADsDrIA7ApaT4AAgZEKzIuMkZ5Wfvd3fzcnn3xyPv/5z+eud71rzj///BxzzDGTCPy1X/u1UZzWvL0RgAKwO8gCsCtoPQECBEYqMC8yrndae/YkV1yxf8/00EOTLf2/4Ote97pXtm7dmk9+8pPXHe+d73znHHHEEfnIRz6yf89hnR593t4IQAHYHTUB2BW0ngABAiMVmBcZ1zutyy9PDj98/57prl3JYfWfpbXfPvaxj+Xoo4/OC17wgpx00knXPdBpp502+UDIhRdemKOOOmrtP2CglfP2RgAKwO4oCsCuoPUECBAYqcC8yBjjFcATTjghO3bsWHFHKgxPP/30Db9j8/ZGAArA7hALwK6g9QQIEBipwLzIGNtp7d69O7e5zW0m7/s788wzl/XrnjznOc/Jt771rVxyySUb/tTm7Y0AFIDdIRaAXUHrCRAgMFKBeZExttP60z/90zzucY/L61//+jzpSU+6weG/5jWvyTOf+cy8//3vz7HHHruhT2/e3ghAAdgdYAHYFbSeAAECIxWYFxljO63HPvax+cAHPpCvfe1rOeSQQ25w+HW+t771rfOLv/iLOeusszb06c3bGwEoALsDLAC7gtYTIEBgpALzImOkp7UQhz1vbwSgAOwOugDsClpPgACBkQrMi4yRntZCHPa8vRGAArA76AKwK2g9AQIERiowLzJGeloLcdjz9kYACsDuoAvArqD1BAgQGKnAvMgY6WktxGHP2xsBKAC7gy4Au4LWEyBAYKQC8yJjpKe1EIc9b28EoADsDroA7ApaT4AAgZEKzIuMkZ7WQhz2vL0RgAKwO+gCsCtoPQECBEYqMC8yRnpaC3HY8/ZGAArAlQa9vgL9EUnukOTKJOcmeV6SLy9bIAAX4o8KJ0GAAIF9F5gXGfv+iFasl8C8vRGAAnClWTsjyZuTfDbJjyV5dZJ7JvkXAnC9np4ehwABAuMWmBcZ4z67cR/9vL0RgAJwtRP+U0k+keTHk+xassgVwNUKuh8BAgQWTGBeZCzY6Y7qdObtjQAUgKsd6Hr59xlJfsIVwNWSuR8BAgQWW2BeZCz22W/ss5u3NwJQAK5mgh+W5G1J/nWSPxeAqyFzHwIECCy+wLzIGJvA2Wefnac97WnXHfZBBx2UI488Mg984ANz+umn5653vetoTmne3ghAAThvmB+V5I+TPCXJ2/dy58lLwNu3b8/WrVsnv3388cdP/nEjQIAAgcUWmBcZYzv7WQC+5S1vye1ud7tcc801+cIXvjCJv6uuuioXXHBBDjus/rO38W9725udO3em/qnb7t27s2PHjvrXw5NcvvHPaP2PcMv6P+TCPOITk9R0/HyS965wVt4DuDDb7UQIECCwbwKLGoAVfT/xE//8jqf3ve99Oe644/Ke97xnNBc45u2NK4CuAK70bP+NJC9J8ugkH76RPxIE4L79eeneBAgQWBiBeZExthOdXQFcHoDnn39+jjnmmLzjHe/Iox5VL4xt/Nu8vRGAAnClKb42yffqKvGyOzx8WRAKwI3/54AjJECAwH4RmBcZ++WH7scHnQXg5z//+ckVwHoJ+OKLL84JJ5wwefn3oosuyk1vetP9eATr99Dz9kYACsDutAnArqD1BAgQGKnAvMgY22kt/xDI7Phvc5vb5O1vf3vue9/7juaU5u2NABSA3WEWgF1B6wkQIDBSgXmRsfS09uzZk91XLH9RaX1PfOuhW7Nly9rf2j8LwLe97W2TD4HUMV922WV51atelU996lM577zzcve73319D3o/Pdq8vRGAArA7egKwK2g9AQIERiowLzKWntZ3L/9uzjy8/pbR/Xc7edfJOfiwg9f8A1Z6D+DVV1+dbdu25aEPfWje+MY3rvnxh1w4b28EoADszqMA7ApaT4AAgZEKzIuMsV4BXP4hkDqPo48+OldeeeXkvYBjuM3bGwEoALtzLAC7gtYTIEBgpALzImNsp7XSFcDvfOc7kyuAP/mTP5lzzz13FKc1b28EoADsDrIA7ApaT4AAgZEKzIuMsZ3WLADf/OY357a3ve3kPYBf/epXJ+8B/OAHP5hzzjknj3vc40ZxWvP2RgAKwO4gC8CuoPUECBAYqcC8yBjbab3+9a/PU5/61Osd9i1vecvJlb/nP//5ky+DHstt3t4IQAHYnWUB2BW0ngABAiMVmBcZIz2thTjseXsjAAVgd9AFYFfQegIECIxUYF5kjPS0FuKw5+2NABSA3UEXgF1B6wkQIDBSgXmRMdLTWojDnrc3AlAAdgddAHYFrSdAgMBIBeZFxkhPayEOe97eCEAB2B10AdgVtJ4AAQIjFZgXGSM9rYU47Hl7IwAFYHfQBWBX0HoCBAiMVGBeZIz0tBbisOftjQAUgN1BF4BdQesJECAwUoF5kTHS01qIw563NwJQAHYHXQB2Ba0nQIDASAXmRcZIT2shDnve3ghAAdgddAHYFbSeAAECIxWYFxkjPa2FOOx5eyMABWB30AVgV9B6AgQIjFRgXmSM9LQW4rDn7Y0AFIDdQReAXUHrCRAgMFKBeZEx0tNaiMOetzcCUAB2B10AdgWtJ0CAwEgF5kXGSE9rxcM+99xz85CHPCT1fx/0oAcd0NM7++yz87SnPS2XXHJJbn/729/gWObtjQAUgN0BFoBdQesJECAwUoF5kTHS01rxsK+44or8zd/8Te5xj3vk0EMPPaCnJwD7/Fv6D7GpH0EAburtd/IECGxmgc0WgBtprwVgfzcEYM9QAPb8rCZAgMBoBRYxAP/2b/82z3/+8/ORj3wkdX63utWtcv/73z9veMMb8qEPfegGLwFfc801+e3f/u289rWvndz/mGOOyY4dO3LPe95z8uv1T91OO+20vOQlL0k9/rOe9aycd955ufnNb55f/uVfzgtf+MJs2fKDHPnud7+bk08+Oe9973snL+/e9KY3zf3ud7+87GUvy93udrfrZkUA9p82ArBnKAB7flYTIEBgtAKLGIBHHXXUJMwqAm9xi1vky1/+ct7znvdMAu/DH/7wDQKw4u13fud38rznPS8Pe9jD8rGPfWxy3y984QuT6Dv11FOvF4D3ute9Ju/du8997pN3vOMdeeUrX5mzzjorT3nKUyb3K9MTTzwxD33oQ3Pb29423/72tydBWY9bLz8fccQRk/sJwP7TRgD2DAVgz89qAgQIjFZg0QLwm9/85uSKX4XZox71qBvsy/IPgVScbdu2bRJvr3rVq667/yte8YqcdNJJew3A173udfmlX/ql6+5773vfO7e+9a2zc+fOvc7Btddem6uvvjpHHnnk5Aris5/9bAG4Ts8YAdiDFIA9P6sJECAwWoF9CcA9e/akPkSxP2/1wYzZS6lr/Tl3uctdcvDBB+c5z3lOHvzgB6euCM5uywOwXsY99thj84EPfGBy39nt0ksvzR3ucIe9BuDXv/71yZXF2e0JT3hCPvWpT02u7s1u55xzTn7v935v8nLxrl27rvv1ZzzjGXn1q18tANe6ucvWCcAepADs+VlNgACB0QrsSwAu+dqR/Xa+FUuHHVb/WVr77Ytf/OIk3N797nfnH//xH3OnO90pz33uc1PxtTwA3/SmN6UC7oILLph8Mnh2q/fx/ciP/MheA/D73/9+DjrooOvuW1cPP/jBD6Z+bt3e+c535jGPeczkquIv/MIvTGKxovYRj3hEHvnIR05eLq6bl4DXvsezlQKwZygAe35WEyBAYLQC+xKAY7kCuHQzPv3pT09e2q339FUQHnLIIdd7D+BKVwC/9KUv5Y53vOOaAvCJT3zi5P1+F1544XWH8r3vfW8SlE9+8pMF4Do+WwRgD1MA9vysJkCAwGgF9iUAx3qSdY43u9nNJp/Cve9973u9AKz3ANaXMFeY1Qc1Zrd6+bauGu7tQyDzrgA+9rGPncTfX//1X1/3eHXV7+lPf/rkqqArgOs3SQKwZykAe35WEyBAYLQCixaAn/nMZyZf0fL4xz8+d77znVNf8VIvtb71rW/NX/zFX0zej7f8bwJ50YtelDPOOGMSfPXJ3U984hOTSLvooosmH9qoTwnXbfY1MPMC8I/+6I8mLzfXhz3qJd+6GlhXIa+88srJS8P1IZK6eQm4/7QRgD1DAdjzs5oAAQKjFVi0APzGN74xCbmPfvSjk69/qZd861O6p5xySo477rjJewAr8upDH7O/Cq4+pVtf9VIvE1cg1vcAvvSlL80DH/jA/P7v/35OOOGEyf6++MUvngRhvZy79D2AT33qUyfvAbz44osn96uXyuvxKiL/6Z/+KUcffXTqU8V1ZfBnfuZnrncFsL5DsN476K+CW9tTSACuzW22SgD2/KwmQIDAaAUWLQDXayPe8pa3TD7AUV8cXSF4IG7z9sbfBezvAu7OpQDsClpPgACBkQrMi4yRntY+Hfb555+fd73rXZO/LaSuGH784x/PmWeeOflUcH1x9IG6zdsbASgAu7MpALuC1hMgQGCkAvMiY6SntU+HXR/W2L59ez772c9O/haP+ps6Hv3oR0/+dpDDDz98nx5rPe88b28EoADszpsA7ApaT4AAgZEKzIuMkZ7WQhz2vL0RgAKwO+gCsCtoPQECBEYqMC8yRnpaC3HY8/ZGAArA7qALwK6g9QQIEBipwLzIGOlpLcRhz9sbASgAu4MuALuC1hMgQGCkAvMiY6SntRCHPW9vBKAA7A66AOwKWk+AAIGRCsyLjJGe1kIc9ry9EYACsDvoArAraD0BAgRGKjAvMkZ6Wgtx2PP2RgAKwO6gC8CuoPUECBAYqcAsIi699NIcdlj958BtowjU3mzbtm3yt5PsbW8EoADszqoA7ApaT4AAgZEKLImIkZ7B4h+2AFx5j/1VcL35F4A9P6sJECAwWoH6e2uvuOKK0R7/ZjjwQw89NFu23DB1XAF0BbA7/wKwK2g9AQIECBAYWEAACsDuyAnArqD1BAgQIEBgYAEBKAC7IycAu4LWEyBAgACBgQUEoADsjpwA7ApaT4AAAQIEBhYQgAKwO3ICsCtoPQECBAgQGFhAAArA7sgJwK6g9QQIECBAYGABASgAuyMnALuC1hMgQIAAgYEFBKAA7I6cAOwKWk+AAAECBAYWEIACsDtyArAraD0BAgQIEBhYQAAKwO7ICcCuoPUECBAgQGBgAQEoALsjJwC7gtYTIECAAIGBBQSgAOyOnADsClpPgAABAgQGFhCAArA7cgKwK2g9AQIECBAYWEAACsDuyAnArqD1BAgQIEBgYAEBKAC7IycAu4LWEyBAgACBgQUEoADsjpwA7ApaT4AAAQIEBhYQgAKwO3ICsCtoPQECBAgQGFhAAArA7sgJwK6g9QQIECBAYGABASgAuyMnALuC1hMgQIAAgYEFBKAA7I6cAOwKWk+AAAECBAYWEIACsDtyArAraD0BAgQIEBhYQAAKwO7ICcCuoPUECBAgQGBgAQEoALsjJwC7gtYTIECAAIGBBQSgAOyOnADsClpPgAABAgQGFhCAArA7cgKwK2g9AQIECBAYWEAACsDuyAnArqD1BAgQIEBgYAEBKABvbOQen2R7knsnOTTJDyW5dtkCATjwk9aPI0CAAAECXQEBKABvbIZ+NsmPJ/nRJK8VgN2nm/UECBAgQGBjCAhAAbiaSTw2yfsF4Gqo3IcAAQIECGx8AQEoAFczpQJwNUruQ4AAAQIERiIgAAXgakZVAK5GyX0IECBAgMBIBASgAFzNqM4NwO3bt2fr1q2Txzr++OMn/7gRIECAAAECG0dg586dqX/qtnv37uzYsaP+9fAkl2+coxzuSLYM96NG+5PmBuCuXbty2GH1gWA3AgQIECBAYKMLuALoCuCNzehBSeqy3oOS/FmSm06/Bua7SfZMF/oamI3+LHd8BAgQIEBgmYAAFIA39qR4SpKzpneo4JtdLa0rgucJQH+eECBAgACBcQoIQAHYnVxXALuC1hMgQIAAgYEFBKAA7I6cAOwKWk+AAAECBAYWEIACsDtyArAraD0BAgQIEBhYQAAKwO7ICcCuoPUECBAgQGBgAQEoALsjJwC7gtYTIECAAIGBBQSgAOyOnADsClpPgAABAgQGFhCAArA7cgKwK2g9AQIECBAYWEAACsDuyAnArqD1BAgQIMC5lIEAABxKSURBVEBgYAEBKAC7IycAu4LWEyBAgACBgQUEoADsjpwA7ApaT4AAAQIEBhYQgAKwO3ICsCtoPQECBAgQGFhAAArA7sgJwK6g9QQIECBAYGABASgAuyMnALuC1hMgQIAAgYEFBKAA7I6cAOwKWk+AAAECBAYWEIACsDtyArAraD0BAgQIEBhYQAAKwO7ICcCuoPUECBAgQGBgAQEoALsjJwC7gtYTIECAAIGBBQSgAOyOnADsClpPgAABAgQGFhCAArA7cgKwK2g9AQIECBAYWEAACsDuyAnArqD1BAgQIEBgYAEBKAC7IycAu4LWEyBAgACBgQUEoADsjpwA7ApaT4AAAQIEBhYQgAKwO3ICsCtoPQECBAgQGFhAAArA7sgJwK6g9QQIECBAYGABASgAuyMnALuC1hMgQIAAgYEFBKAA7I6cAOwKWk+AAAECBAYWEIACsDtyArAraD0BAgQIEBhYQAAKwO7ICcCuoPUECBAgQGBgAQEoALsjJwC7gtYTIECAAIGBBQSgAOyOnADsClpPgAABAgQGFhCAArA7cgKwK2g9AQIECBAYWEAACsDuyAnArqD1BAgQIEBgYAEBKAC7IycAu4LWEyBAgACBgQUEoADsjpwA7ApaT4AAAQIEBhYQgAKwO3ICsCtoPQECBAgQGFhAAArA7sgJwK6g9QQIECBAYGABASgAuyMnALuC1hMgQIAAgYEFBKAA7I6cAOwKWk+AAAECBAYWEIACsDtyArAraD0BAgQIEBhYQAAKwO7ICcCuoPUECBAgQGBgAQEoALsjJwC7gtYTIECAAIGBBQSgAOyOnADsClpPgAABAgQGFhCAArA7cgKwK2g9AQIECBAYWEAACsDuyAnArqD1BAgQIEBgYAEBKAC7IycAu4LWEyBAgACBgQUEoADsjpwA7ApaT4AAAQIEBhYQgAKwO3ICsCtoPQECBAgQGFhAAArA7sgJwK6g9QQIECBAYGABASgAuyMnALuC1hMgQIAAgYEFBKAA7I6cAOwKWk+AAAECBAYWEIACsDtyArAraD0BAgQIEBhYQAAKwO7ICcCuoPUECBAgQGBgAQEoALsjJwC7gtYTIECAAIGBBQSgAOyOnADsClpPgAABAgQGFhCAArA7cgKwK2g9AQIECBAYWEAACsDuyAnArqD1BAgQIEBgYAEBKAC7IycAu4LWEyBAgACBgQUEoADsjpwA7ApaT4AAAQIEBhYQgAKwO3ICsCtoPQECBAgQGFhAAArA7sgJwK6g9QQIECBAYGABASgAuyMnALuC1hMgQIAAgYEFBKAA7I6cAOwKWk+AAAECBAYWEIACsDtyArAraD0BAgQIEBhYQAAKwO7ICcCuoPUECBAgQGBgAQEoALsjJwC7gtYTIECAAIGBBQSgAOyOnADsClpPgAABAgQGFhCAArA7cgKwK2g9AQIECBAYWEAACsDuyAnArqD1BAgQIEBgYAEBKADnjdyLkzw9yeFJPp7k15NcsGSRAJwn6PcJECBAgMAGExCAAvDGRvK5SU5I8nNJ/i7JqUmenORuSa6cLhSAG+xJ7XAIECBAgMA8AQEoAG9sRr6Y5OVJ/mB6p5sk+UqSk5L8ZwE47+nl9wkQIECAwMYUEIACcKXJrJd8v53kp5P85ZI77UzyuWkE1i+7Argxn9uOigABAgQIrCggAAXgSsOxLcnfJ7lHkguX3OmNSS5P8qtLrwA+6hb/W374oLpA6EaAAAECBAhsdIHvXXtN3vXNT9Rh1gWf+u/6prtt2XRnvLoTXukK4J8n+UyS31oagHc65FY5aMsPKI/YeniOOLiWuxEgQIAAAQIbReAfvrsr/7B71+Rwrt2zJ1+8+usCcKNszgY7jouTvGLJewB/aPoewOck+ZOlAbhr164cdli9GuxGgAABAgQIbHQBLwF7CfjGZrSu8tWngB+RpGKwPgX8b6afAv6OANzoT2/HR4AAAQIE9i4gAAXgvOdGfQ9gvd+vLu/9VZLtvgdwHpnfJ0CAAAECG1tAAArA7oT6FHBX0HoCBAgQIDCwgAAUgN2RE4BdQesJECBAgMDAAgJQAHZHTgB2Ba0nQIAAAQIDCwhAAdgdOQHYFbSeAAECBAgMLCAABWB35ARgV9B6AgQIECAwsIAAFIDdkROAXUHrCRAgQIDAwAICUAB2R04AdgWtJ0CAAAECAwsIQAHYHTkB2BW0ngABAgQIDCwgAAVgd+QEYFfQegIECBAgMLCAABSA3ZETgF1B6wkQIECAwMACAlAAdkdOAHYFrSdAgAABAgMLCEAB2B05AdgVtJ4AAQIECAwsIAAFYHfkBGBX0HoCBAgQIDCwgAAUgN2RE4BdQesJECBAgMDAAgJQAHZHTgB2Ba0nQIAAAQIDCwhAAdgdOQHYFbSeAAECBAgMLCAABWB35ARgV9B6AgQIECAwsIAAFIDdkROAXUHrCRAgQIDAwAICUAB2R04AdgWtJ0CAAAECAwsIQAHYHTkB2BW0ngABAgQIDCwgAAVgd+QEYFfQegIECBAgMLCAABSA3ZETgF1B6wkQIECAwMACAlAAdkdOAHYFrSdAgAABAgMLCEAB2B05AdgVtJ4AAQIECAwsIAAFYHfkBGBX0HoCBAgQIDCwgAAUgN2RE4BdQesJECBAgMDAAgJQAHZHTgB2Ba0nQIAAAQIDCwhAAdgdOQHYFbSeAAECBAgMLCAABWB35ARgV9B6AgQIECAwsIAAFIDdkROAXUHrCRAgQIDAwAICUAB2R04AdgWtJ0CAAAECAwsIQAHYHTkB2BW0ngABAgQIDCwgAAVgd+QEYFfQegIECBAgMLCAABSA3ZETgF1B6wkQIECAwMACAlAAdkdOAHYFrSdAgAABAgMLCEAB2B05AdgVtJ4AAQIECAwsIAAFYHfkBGBX0HoCBAgQIDCwgAAUgN2RE4BdQesJECBAgMDAAgJQAHZHTgB2Ba0nQIAAAQIDCwhAAdgdOQHYFbSeAAECBAgMLCAABWB35ARgV9B6AgQIECAwsIAAFIDdkROAXUHrCRAgQIDAwAICUAB2R04AdgWtJ0CAAAECAwsIQAHYHTkB2BW0ngABAgQIDCwgAAVgd+QEYFfQegIECBAgMLCAABSA3ZETgF1B6wkQIECAwMACAlAAdkdOAHYFrSdAgAABAgMLCEAB2B05AdgVtJ4AAQIECAwsIAAFYHfkBGBX0HoCBAgQIDCwgAAUgN2RE4BdQesJECBAgMDAAgJQAHZHTgB2Ba0nQIAAAQIDCwhAAdgdOQHYFbSeAAECBAgMLCAABWB35ARgV9B6AgQIECAwsIAAFIDdkROAXUHrCRAgQIDAwAICUAB2R04AdgWtJ0CAAAECAwsIQAHYHTkB2BW0ngABAgQIDCwgAAVgd+QEYFfQegIECBAgMLCAABSA3ZETgF1B6wkQIECAwMACAlAAdkdOAHYFrSdAgAABAgMLCEAB2B05AdgVtJ4AAQIECAwsIAAFYHfkBGBX0HoCBAgQIDCwgAAUgN2RE4BdQesJECBAgMDAAgJQAHZHTgB2Ba0nQIAAAQIDCwhAAdgdOQHYFbSeAAECBAgMLCAABWB35ARgV9B6AgQIECAwsIAAFIDdkROAXUHrCRAgQIDAwAICUAB2R04AdgWtJ0CAAAECAwsIQAG4t5G7T5Izk/xUkiOSHJfkfSvMpgAc+EnrxxEgQIAAga6AABSAe5uhuyd5YJJPJfmrJA9L8n4B2H26WU+AAAECBDaGgAAUgPMm8VoBOI/I7xMgQIAAgXEJCEABOG9iBeA8Ib9PgAABAgRGJiAAN1cAnp3kyTcyo+cmeciy3xeAI3tSO1wCBAgQIDBPQABurgD8sSQH38hQfC/JFQJw3tPG7xMgQIAAgXELCMDNFYBrmdZVXQHcvn17tm7dOnn8448/fvKPGwECBAgQILBxBHbu3Jn6p267d+/Ojh076l8PT3L5xjnK4Y5ky3A/alQ/6ZD8II6vTPKIJPXycF0hvGbZWfgamFFtq4MlQIAAAQKJK4CuAO7teXDHJBdPf2PPNATr/z0tyUsEoD86CBAgQIDAuAUEoADsTrArgF1B6wkQIECAwMACAlAAdkdOAHYFrSdAgAABAgMLCEAB2B05AdgVtJ4AAQIECAwsIAAFYHfkBGBX0HoCBAgQIDCwgAAUgN2RE4BdQesJECBAgMDAAgJQAHZHTgB2Ba0nQIAAAQIDCwhAAdgdOQHYFbSeAAECBAgMLCAABWB35ARgV9B6AgQIECAwsIAAFIDdkROAXUHrCRAgQIDAwAICUAB2R04AdgWtJ0CAAAECAwsIQAHYHTkB2BW0ngABAgQIDCwgAAVgd+QEYFfQegIECBAgMLCAABSA3ZETgF1B6wkQIECAwMACAlAAdkdOAHYFrSdAgAABAgMLCEAB2B05AdgVtJ4AAQIECAwsIAAFYHfkBGBX0HoCBAgQIDCwgAAUgN2RE4BdQesJECBAgMDAAgJQAHZHTgB2Ba0nQIAAAQIDCwhAAdgdOQHYFbSeAAECBAgMLCAABWB35ARgV9B6AgQIECAwsIAAFIDdkROAXUHrCRAgQIDAwAICUAB2R04AdgWtJ0CAAAECAwsIQAHYHTkB2BW0ngABAgQIDCwgAAVgd+QEYFfQegIECBAgMLCAABSA3ZETgF1B6wkQIECAwMACAlAAdkdOAHYFrSdAgAABAgMLCEAB2B05AdgVtJ4AAQIECAwsIAAFYHfkBGBX0HoCBAgQIDCwgAAUgN2RE4BdQesJECBAgMDAAgJQAHZHTgB2Ba0nQIAAAQIDCwhAAdgdOQHYFbSeAAECBAgMLCAABWB35ARgV9B6AgQIECAwsIAAFIDdkROAXUHrCRAgQIDAwAICUAB2R04AdgWtJ0CAAAECAwsIQAHYHTkB2BW0ngABAgQIDCwgAAVgd+QEYFfQegIECBAgMLCAABSA3ZETgF1B6wkQIECAwMACAlAAdkdOAHYFrSdAgAABAgMLCEAB2B05AdgVtJ4AAQIECAwsIAAFYHfkBGBX0HoCBAgQIDCwgAAUgN2RE4BdQesJECBAgMDAAgJQAHZHTgB2Ba0nQIAAAQIDCwhAAdgdOQHYFbSeAAECBAgMLCAABWB35ARgV9B6AgQIECAwsIAAFIDdkROAXUHrCRAgQIDAwAICUAB2R04AdgWtJ0CAAAECAwsIQAHYHTkB2BW0ngABAgQIDCwgAAVgd+QEYFfQegIECBAgMLCAABSA3ZETgF1B6wkQIECAwMACAlAAdkdOAHYFrSdAgAABAgMLCEAB2B05AdgVtJ4AAQIECAwsIAAFYHfkBGBX0HoCBAgQIDCwgAAUgN2RE4BdQesJECBAgMDAAgJQAHZHTgB2Ba0nQIAAAQIDCwhAAdgdOQHYFbSeAAECBAgMLCAABWB35ARgV9B6AgQIECAwsIAAFIDdkROAXUHrCRAgQIDAwAICUAB2R04AdgWtJ0CAAAECAwsIQAHYHTkB2BW0ngABAgQIDCwgAAVgd+QEYFfQegIECBAgMLCAABSA3ZETgF1B6wkQIECAwMACAlAAdkdOAHYFrSdAgAABAgMLCEAB2B05AdgVtJ4AAQIECAwsIAAFYHfkBGBX0HoCBAgQIDCwgAAUgN2RE4BdQesJECBAgMDAAgJQAHZHTgB2Ba0nQIAAAQIDCwhAAdgdOQHYFbSeAAECBAgMLCAABWB35ARgV9B6AgQIECAwsIAAFIB7G7knJ/nVJPdIsifJZ5O8IMlH9nJnATjwk9aPI0CAAAECXQEBKAD3NkO/nuSiafBdneQ3kpw+DcLLli0QgN1nofUECBAgQGBgAQEoAFc7ct9O8pQkbxeAqyVzPwIECBAgsDEFBKAAXM1k3j/Jf09yVJJLBOBqyNyHAAECBAhsXAEBuLkC8Owk9f6+lW7nJnnIst/cluRDSf5TklP3stBLwBv3+e3ICBAgQIDAXgUE4OYKwB9LcvCNPBe+l+SKJb9/lyT/Lcmbkpy8wjoB6A8XAgQIECAwMgEBuLkCcF/G895J/izJjiQvvZGFkwDcvn17tm7dOrnb8ccfP/nHjQABAgQIENg4Ajt37kz9U7fdu3dnx476T3wOT3L5xjnK4Y5ky3A/ajQ/6QFJ3pXktCSvnHPUrgCOZlsdKAECBAgQ+IGAK4CuAO7tufD+JA9KctWy36wrgWcu+zUB6E8TAgQIECAwMgEBKAC7IysAu4LWEyBAgACBgQUEoADsjpwA7ApaT4AAAQIEBhYQgAKwO3ICsCtoPQECBAgQGFhAAArA7sgJwK6g9QQIECBAYGABASgAuyMnALuC1hMgQIAAgYEFBKAA7I6cAOwKWk+AAAECBAYWEIACsDtyArAraD0BAgQIEBhYQAAKwO7ICcCuoPUECBAgQGBgAQEoALsjJwC7gtYTIECAAIGBBQSgAOyOnADsClpPgAABAgQGFhCAArA7cgKwK2g9AQIECBAYWEAACsDuyAnArqD1BAgQIEBgYAEBKAC7IycAu4LWEyBAgACBgQUEoADsjpwA7ApaT4AAAQIEBhYQgAKwO3ICsCtoPQECBAgQGFhAAArA7sgJwK6g9QQIECBAYGABASgAuyMnALuC1hMgQIAAgYEFBKAA7I6cAOwKWk+AAAECBAYWEIACsDtyArAraD0BAgQIEBhYQAAKwO7ICcCuoPUECBAgQGBgAQEoALsjJwC7gtYTIECAAIGBBQSgAOyOnADsClpPgAABAgQGFhCAArA7cgKwK2g9AQIECBAYWEAACsDuyAnArqD1BAgQIEBgYAEBKAC7IycAu4LWEyBAgACBgQUEoADsjpwA7ApaT4AAAQIEBhYQgAKwO3ICsCtoPQECBAgQGFhAAArA7sgJwK6g9QQIECBAYGABASgAuyMnALuC1hMgQIAAgYEFBKAA7I6cAOwKWk+AAAECBAYWEIACsDtyArAraD0BAgQIEBhYQAAKwO7ICcCu4Dqu37lzZ44//vh1fEQPtVYBe7FWuf2zzn7sH9e1PKq9WIva+q8RgAKwO1UCsCu4jutPPPHEvPzlL1/HR/RQaxWwF2uV2z/r7Mf+cV3Lo9qLtait/xoBKAC7UyUAu4LruN4frOuI2Xwoe9EEXOfl9mOdQRsPZy8aeOu4VAAKwO44TQLw0ksvzWGH1b+6HUiBU045JWecccaBPAQ/eypgLzbWKNiPjbMf9mJj7EUF4LZt2+pgDk9y+cY4qmGPYsuwP27hftptk3x54c7KCREgQIAAgc0hcLskl22OU73+WQrA3q6X322SXNF7GKsJECBAgACBgQUOTfKVJHsG/rkb4scJwA2xDQ6CAAECBAgQIDCcgAAcztpPIkCAAAECBAhsCAEBuCG2wUEQIECAAAECBIYTEIA3tH5xkqdPPxn08SS/nuSCFbbkx5O8Kskjp+8h+K9Jttcng5fc/+eT/Nskt09ySZIXJPnT4bZ41D9pPffi2CTvT3LlEpFvT/dl1EgDHfy+7EXN+yOS3CvJ+Un+z70co+dFb+PWcz88N4bZi1sm+ffT50P9+zeTvCHJaUl2+29GbxOmq1f7vFjNXiz880IAXn/mnpvkhCQ/l+Tvkpya5MlJ7rYsHGarKvh+OMnj84Ov1Hnj9H7/anqH+yc5N8n/neQdSR6T5D9P/wCouHRbWWC992L2ZL7JZn3Db2PY9nUvnpLkG0kenuQ+SR607Gd7XjQ2I8l674fnxtr3Y1/24k7T/1bUfye+mOTOSd46/R+mz/HfjLVvwnTleu/Fwj8vBOD1Z66elPVXSfzB9JcrFuoTQidNw23pve8wfRLXf+A+O/2Neyf51PSqUn09zOuS1BcEPm7JwnrCf2t6lbE98Qv8AOu9F7MncwX7NQvstj9ObV/2YunPrysbD93LFUDPi94urfd+eG6sfT/Wuhezn/isJE9N8lPTX/Dc2Dh7sfDPCwH4z8NWXwZZLwn+dJK/XDKDO5N8bhqBS0ezrubV/5L7kWXzenWSennrXUk+keRNSf7dkvucMg3C+659zhd+5f7Yi9mTucJ863RPX5LkvIXX7J3gvu7FagLQ82Lte7I/9sNzY2370dmL2U98d5KvJXna9Bc8NzbOXiz880IA/vOw1VeC/32SeyS5cMkMVuTVt4T/6rK5fFKSlyU5ctmv15P5xCT/JckXpvd5zZL7PHP6+0etbc43xar9sRdHJLnV9P2cP5rk16bvzTwmyac3heraTnJf92I1Aeh5sba9qFX7Yz88N9a2H529qJ/4oiTPSHK/6StN9WueGxtnLxb+eSEA518B/PMkn0nyW8vmcrVXAM9JcqYrgPv0rF7pf1l39mJvB1AfCvno9IM5+3SAm+jO+7oXqwnAusrhebG2Idof++G5MfxenD59f/nDkly05Md7bmycvVj454UAvP4WX5zkFUveA/hD0/9lVm/Q/ZNl07C39wDW+wE/ueQ9gGdNP0289D2A9Qng+vTXr6xtzjfNqvXei4V/Mu/HydiXvVhNAHpe9DZrvffDc2Pt+7Gve1H/za1vjjguScXfl5b9aM+NjbMXC/+8EIDX3+K6ylefAq6vsKgndn0K+N9MPwX8nb1MQ73Prz5UUJ/ynX0K+H8kWf4p4CckqU8M/8skf+xTwKt6hq/3Xvzs9H9p18v8h0xf0q8rsw+YvldzVQe1Se+0r3tR/8Op/nlhknofTX0QpJ4f9f7Yus0+Bex5sbaBWu/98NxY2z7Uqn3Zi3pOvH76yfiKv3q70PKb58bG2YuFf14IwBsOW32PUL3frz69+1fT7/Wr7wGs7/Gr/1tfbfHh6bKl3wNYv/TO6f3rPYOzW30gpC7333H6qWHfA7j6J/h67kXFSF11vXmSq6Yv69e+1Nf0uM0X2Je9OHv68lY9av0dm/XnTP3f+lS958V869XcYz33w3NjNeIr32e1e/HgJB+Y/g+hpd9EUM+N+u+N50ZvH2r1eu7Fwj8vBGB/4DwCAQIECBAgQGBUAgJwVNvlYAkQIECAAAECfQEB2Df0CAQIECBAgACBUQkIwFFtl4MlQIAAAQIECPQFBGDf0CMQIECAAAECBEYlIABHtV0OlgABAgQIECDQFxCAfUOPQIAAAQIECBAYlYAAHNV2OVgCBAgQIECAQF9AAPYNPQIBAgQIECBAYFQCAnBU2+VgCRAgQIAAAQJ9AQHYN/QIBAgQIECAAIFRCQjAUW2XgyVAgAABAgQI9AUEYN/QIxAgQIAAAQIERiUgAEe1XQ6WAAECBAgQINAXEIB9Q49AgAABAgQIEBiVgAAc1XY5WAIECBAgQIBAX0AA9g09AgECBAgQIEBgVAICcFTb5WAJECBAgAABAn0BAdg39AgECBAgQIAAgVEJCMBRbZeDJUCAAAECBAj0BQRg39AjECBAgAABAgRGJSAAR7VdDpYAAQIECBAg0BcQgH1Dj0CAAAECBAgQGJWAABzVdjlYAgQIECBAgEBfQAD2DT0CAQIECBAgQGBUAgJwVNvlYAkQIECAAAECfQEB2Df0CAQIECBAgACBUQkIwFFtl4MlQIAAAQIECPQFBGDf0CMQIECAAAECBEYlIABHtV0OlgABAgQIECDQFxCAfUOPQIAAAQIECBAYlYAAHNV2OVgCBAgQIECAQF9AAPYNPQIBAgQIECBAYFQCAnBU2+VgCRAgQIAAAQJ9gf8JggLYOouvW70AAAAASUVORK5CYII=\">"
      ],
      "text/plain": [
       "<IPython.core.display.HTML object>"
      ]
     },
     "metadata": {},
     "output_type": "display_data"
    }
   ],
   "source": [
    "fig, ax = plt.subplots()\n",
    "ax.set_xlim(0, .25)\n",
    "ax.set_ylim(-2.5, 2.5)\n",
    "ax.set_title('beat frequencies')\n",
    "lnA, = ax.plot([], [], color='r', label='A')\n",
    "lnB, = ax.plot([], [], color='purple', label='B')\n",
    "lnsum, = ax.plot([], [], color='k', label='signal')\n",
    "ax.legend()\n",
    "max_time = 3\n",
    "rate = 8000\n",
    "times = np.linspace(0,max_time,rate*max_time)\n",
    "\n",
    "def beat_freq(f1=220.0, f2=224.0):\n",
    "\n",
    "    A = np.sin(2*np.pi*f1*times)\n",
    "    B = np.sin(2*np.pi*f2*times)\n",
    "    sig = A + B\n",
    "\n",
    "    lnA.set_data(times, A)\n",
    "    lnB.set_data(times, B)\n",
    "    lnsum.set_data(times, sig)\n",
    "\n",
    "    plt.draw()\n",
    "\n",
    "beat_freq(0, 0)"
   ]
  },
  {
   "cell_type": "code",
   "execution_count": 23,
   "metadata": {
    "collapsed": true
   },
   "outputs": [],
   "source": [
    "interactive(beat_freq, f1=(200.0,300.0), f2=(200.0,300.0))"
   ]
  },
  {
   "cell_type": "code",
   "execution_count": null,
   "metadata": {
    "collapsed": true
   },
   "outputs": [],
   "source": []
  }
 ],
 "metadata": {
  "celltoolbar": "Slideshow",
  "hide_input": false,
  "kernelspec": {
   "display_name": "Python 2",
   "language": "python",
   "name": "python2"
  },
  "language_info": {
   "codemirror_mode": {
    "name": "ipython",
    "version": 2
   },
   "file_extension": ".py",
   "mimetype": "text/x-python",
   "name": "python",
   "nbconvert_exporter": "python",
   "pygments_lexer": "ipython2",
   "version": "2.7.5"
  },
  "latex_envs": {
   "bibliofile": "biblio.bib",
   "cite_by": "apalike",
   "current_citInitial": 1,
   "eqLabelWithNumbers": true,
   "eqNumInitial": 0
  }
 },
 "nbformat": 4,
 "nbformat_minor": 0
}
