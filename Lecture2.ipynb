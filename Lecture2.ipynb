{
 "cells": [
  {
   "cell_type": "code",
   "execution_count": 7,
   "metadata": {
    "collapsed": false,
    "slideshow": {
     "slide_type": "skip"
    }
   },
   "outputs": [],
   "source": [
    "from matplotlib import pyplot as plt\n",
    "import numpy as np\n",
    "from scipy import stats\n",
    "import pandas as pd\n",
    "from IPython.display import HTML, IFrame, Image, SVG, Latex\n",
    "import ROOT\n",
    "from ROOT import RooFit, RooStats\n",
    "%matplotlib inline\n",
    "#%matplotlib nbagg\n",
    "#%matplotlib notebook\n",
    "from ipywidgets import interact, interactive, fixed\n",
    "import colormaps"
   ]
  },
  {
   "cell_type": "code",
   "execution_count": 8,
   "metadata": {
    "collapsed": false,
    "slideshow": {
     "slide_type": "skip"
    }
   },
   "outputs": [
    {
     "data": {
      "text/html": [
       "<link rel=\"stylesheet\" href=\"custom.css\" type=\"text/css\">"
      ],
      "text/plain": [
       "<IPython.core.display.HTML object>"
      ]
     },
     "execution_count": 8,
     "metadata": {},
     "output_type": "execute_result"
    }
   ],
   "source": [
    "HTML('<link rel=\"stylesheet\" href=\"custom.css\" type=\"text/css\">')"
   ]
  },
  {
   "cell_type": "code",
   "execution_count": 9,
   "metadata": {
    "collapsed": false,
    "slideshow": {
     "slide_type": "skip"
    }
   },
   "outputs": [],
   "source": [
    "#from notebook.services.config import ConfigManager\n",
    "#cm = ConfigManager()\n",
    "#cm.update('livereveal', {\n",
    "#          'theme': 'sans',\n",
    "#          'transition': 'zoom',\n",
    "#})"
   ]
  },
  {
   "cell_type": "code",
   "execution_count": 10,
   "metadata": {
    "collapsed": true,
    "slideshow": {
     "slide_type": "skip"
    }
   },
   "outputs": [],
   "source": [
    "def iter_collection(rooAbsCollection):\n",
    "    iterator = rooAbsCollection.createIterator()\n",
    "    object = iterator.Next()\n",
    "    while object:\n",
    "        yield object\n",
    "        object = iterator.Next()"
   ]
  },
  {
   "cell_type": "code",
   "execution_count": 11,
   "metadata": {
    "collapsed": false,
    "slideshow": {
     "slide_type": "skip"
    }
   },
   "outputs": [],
   "source": [
    "def RooDataSet2pandas(data):\n",
    "    nevents = data.numEntries()\n",
    "    columns = [x.GetName() for x in iter_collection(data.get(0))]\n",
    "    return pd.DataFrame([[x.getVal() for x in iter_collection(data.get(ievent))] for ievent in xrange(nevents)], columns=columns)"
   ]
  },
  {
   "cell_type": "markdown",
   "metadata": {
    "slideshow": {
     "slide_type": "slide"
    }
   },
   "source": [
    "# Lecture 2\n",
    "\n",
    "<p style=\"text-align: center;\"><i class=\"icon-user icon-2x\"> [ruggero.turra@mi.infn.it](mailto:ruggero.turra@mi.infn.it)</i></p>\n",
    "<br/>\n",
    "\n",
    "## Content of the lecture\n",
    "\n",
    "   * Hypothesis testing\n",
    "   * Type or errors\n",
    "   * Likelihood ratio\n",
    "   * Neyman–Pearson lemma\n",
    "   * Exclusions\n",
    "   * Profiled likelihood ratio"
   ]
  },
  {
   "cell_type": "markdown",
   "metadata": {
    "slideshow": {
     "slide_type": "slide"
    }
   },
   "source": [
    "## Simple and composite hypothesis\n",
    "\n",
    "* A simple hypothesis is one in which all parameters of the distribution are specified"
   ]
  },
  {
   "cell_type": "markdown",
   "metadata": {
    "slideshow": {
     "slide_type": "slide"
    }
   },
   "source": [
    "## Error type\n",
    "\n",
    "   * Type I error: false positive (excessive credulity). Rate = $\\alpha = P(\\text{reject } H_0|H_0 \\text{ is true})$\n",
    "   * Type II error: false negative (excessive skepticism). Rate = $\\beta = P(\\text{don't reject } H_0|H_0 \\text{ is false})$\n",
    "   \n",
    "   * Power of the test: $1-\\beta$\n",
    "   * Remember that \"true\"/\"false\" refers to $H_1$, the alternative hypothesis"
   ]
  },
  {
   "cell_type": "code",
   "execution_count": 43,
   "metadata": {
    "collapsed": false,
    "scrolled": true,
    "slideshow": {
     "slide_type": "subslide"
    }
   },
   "outputs": [
    {
     "data": {
      "image/jpeg": "[encoded data removed]",
      "text/plain": [
       "<IPython.core.display.Image object>"
      ]
     },
     "execution_count": 43,
     "metadata": {
      "image/jpeg": {
       "width": "70%"
      }
     },
     "output_type": "execute_result"
    }
   ],
   "source": [
    "Image(\"img/type-i-and-type-ii-errors.jpg\", width=\"70%\")  # from https://effectsizefaq.files.wordpress.com/2010/05/type-i-and-type-ii-errors.jpg"
   ]
  },
  {
   "cell_type": "markdown",
   "metadata": {
    "slideshow": {
     "slide_type": "fragment"
    }
   },
   "source": [
    "### Exercize:\n",
    "what is $H_0$ and $H_1$ in this sketch?"
   ]
  },
  {
   "cell_type": "code",
   "execution_count": 44,
   "metadata": {
    "collapsed": false,
    "scrolled": true,
    "slideshow": {
     "slide_type": "skip"
    }
   },
   "outputs": [],
   "source": [
    "with plt.xkcd():\n",
    "    fig, ax = plt.subplots(figsize=(10, 7))\n",
    "    x = np.linspace(-5, 5, 200)\n",
    "    y0 = stats.norm.pdf(x, 0, 1)\n",
    "    y1 = stats.norm.pdf(x, 1, 1)\n",
    "    mask = x >= 2\n",
    "    ax.plot(x, y0, x, y1, '-')\n",
    "    ax.fill_between(x[mask], y0[mask], alpha=0.5)\n",
    "    ax.fill_between(x[~mask], y1[~mask], alpha=0.5, color='green')\n",
    "    ax.vlines(2, 0, 0.5, lw=2)\n",
    "    #ax.set_xticklabels([])\n",
    "    #ax.set_yticklabels([])\n",
    "    ax.set_xlabel(\"$q$\")\n",
    "    ax.annotate(\"$f(q|H_1)$\", xy=(x[100], y1[100]), xytext=(0.2, 0.7), textcoords=\"figure fraction\", size=20,\n",
    "                arrowprops=dict(arrowstyle=\"->\", connectionstyle=\"arc3\"), color='green')\n",
    "    ax.annotate(\"$f(q|H_0)$\", xy=(x[90], y0[90]), xytext=(-0.75, 0.8), textcoords=\"figure fraction\", size=20,\n",
    "                arrowprops=dict(arrowstyle=\"->\", connectionstyle=\"arc3\"), color='blue')\n",
    "    ax.annotate(r\"$\\beta$\", xy=(x[100], 0.1), xytext=(0.1, 0.5), textcoords=\"figure fraction\", size=20,\n",
    "                arrowprops=dict(arrowstyle=\"->\", connectionstyle=\"arc3\"), color='green')\n",
    "    ax.annotate(r\"$\\alpha$\", xy=(x[142], 0.01), xytext=(0.8, 0.25), textcoords=\"figure fraction\", size=20,\n",
    "                arrowprops=dict(arrowstyle=\"->\", connectionstyle=\"arc3\"), color='blue')\n",
    "    ax.text(2, 0.4, r'$q_\\alpha$', rotation='vertical', ha='right', size=20)\n",
    "plt.close()"
   ]
  },
  {
   "cell_type": "code",
   "execution_count": 45,
   "metadata": {
    "collapsed": false,
    "slideshow": {
     "slide_type": "subslide"
    }
   },
   "outputs": [
    {
     "name": "stderr",
     "output_type": "stream",
     "text": [
      "/usr/lib64/python2.7/site-packages/matplotlib/font_manager.py:1282: UserWarning: findfont: Font family [u'Humor Sans', u'Comic Sans MS'] not found. Falling back to Bitstream Vera Sans\n",
      "  (prop.get_family(), self.defaultFamily[fontext]))\n"
     ]
    },
    {
     "data": {
      "image/png": "[encoded data removed]",
      "text/plain": [
       "<matplotlib.figure.Figure at 0xc066c10>"
      ]
     },
     "execution_count": 45,
     "metadata": {},
     "output_type": "execute_result"
    }
   ],
   "source": [
    "fig"
   ]
  },
  {
   "cell_type": "markdown",
   "metadata": {},
   "source": [
    "Note that to evaluate $\\beta = P(\\text{don't reject } H_0|H_0 \\text{ is false})$ we have used an altenative hypothesis $H_1$, but remember that if $H_0$ is false doesn't mean that $H_1$ is true.\n",
    "\n",
    "The region $q > q_\\alpha$ is the acceptance region. The complementary is the rejection region."
   ]
  },
  {
   "cell_type": "markdown",
   "metadata": {
    "slideshow": {
     "slide_type": "subslide"
    }
   },
   "source": [
    "## Hypothesis testing in practice\n",
    "\n",
    "   * Define the null hypothesis you want to try to reject\n",
    "   * Define the observables (number of events in the signal region, ...)\n",
    "   * Fix the rate of type I error $\\alpha$ of the test statistics (5%, $5\\sigma$, ...)\n",
    "   * Define the test statistic (trying to maximize the power $1-\\beta$)\n",
    "   * Find the acceptance region in the observable space, which is the region where $H_0$ is accepted (p-value $<\\alpha$)\n",
    "   * Do the experiment\n",
    "   * If the outcome is outside the acceptance region reject the null-hypothesis\n",
    "   \n",
    "In complex example one don't compute the acceptance region, but just compute the observed p-value"
   ]
  },
  {
   "cell_type": "markdown",
   "metadata": {
    "slideshow": {
     "slide_type": "subslide"
    }
   },
   "source": [
    "### Exercize (big): Lady tasting tea (Fisher \"The Design of Experiments\" - 1935)\n",
    "\n",
    "A lady claimed to be able to tell whether the tea or the milk was added first to a cup. Fisher proposed to give her eight cups, four of each variety, in random order. What is the critical region at 5%? If we ask for a $5\\sigma$ evidence, what's the minimum amount of cups we have to prepare? (Hint: look at the [Hypergeometric distribution](https://en.wikipedia.org/wiki/Hypergeometric_distribution), answer should be 26)\n",
    "\n",
    "Suppose the lady claimed that she can guess at least 90% of the time the right answer. What is the power of the test in the two cases?\n",
    "\n",
    "Are we interested in the rare case when the lady never guess? What is \"more extreme\" in this case?"
   ]
  },
  {
   "cell_type": "markdown",
   "metadata": {
    "collapsed": true,
    "slideshow": {
     "slide_type": "slide"
    }
   },
   "source": [
    "## Neyman–Pearson lemma\n",
    "Having two simple hypotheses (no additional parameters) $H_0: \\theta = \\theta_0$ and $H_1: \\theta = \\theta_1$, the likelihood-ratio test:\n",
    "$$\n",
    "\\Lambda(x) = \\frac{L(\\theta_0|x)}{L(\\theta_1|x)}\n",
    "$$\n",
    "\n",
    "which rejects $H_0$ in favour of $H_1$ when $\\Lambda \\leq k_\\alpha$ (rejection region) with $\\alpha=P(\\Lambda(X)\\leq k_\\alpha|H_0)$ is the most powerful test with size $\\alpha$."
   ]
  },
  {
   "cell_type": "markdown",
   "metadata": {
    "slideshow": {
     "slide_type": "subslide"
    }
   },
   "source": [
    "### Example\n",
    "Suppose you have a rock that seems to be opal (density 2.2 g/cm<sup>3</sup>), but may be also quarz (2.6 g/cm<sup>3</sup>). You have two instruments to measure the density, the first with resolution 0.2, the second with resolution 0.5. What is the rejection region at 5%? Assume gaussian errors."
   ]
  },
  {
   "cell_type": "code",
   "execution_count": 46,
   "metadata": {
    "collapsed": false,
    "slideshow": {
     "slide_type": "subslide"
    }
   },
   "outputs": [],
   "source": [
    "ws = ROOT.RooWorkspace()\n",
    "true_density = ws.factory(\"true_density[2, 3]\")\n",
    "ws.factory(\"Gaussian::pdf1(density1[0,50], true_density, resolution1[0.5])\")\n",
    "ws.factory(\"Gaussian::pdf2(density2[0,50], true_density, resolution2[0.2])\")\n",
    "pdf = ws.factory(\"PROD::pdf(pdf1, pdf2)\")\n",
    "\n",
    "pdf_opal = ws.factory(\"EDIT:pdf_opal(pdf, true_density=density_opal[2.2])\")\n",
    "pdf_quarz = ws.factory(\"EDIT:pdf_quarz(pdf, true_density=density_quarz[2.6])\")"
   ]
  },
  {
   "cell_type": "code",
   "execution_count": 47,
   "metadata": {
    "collapsed": false
   },
   "outputs": [
    {
     "name": "stdout",
     "output_type": "stream",
     "text": [
      "  1) RooRealVar:: density1 = 3.31624\r\n",
      "  2) RooRealVar:: density2 = 2.38958\r\n"
     ]
    }
   ],
   "source": [
    "# do the experiment\n",
    "data = pdf_quarz.generate(ROOT.RooArgSet(ws.var('density1'),\n",
    "                                         ws.var('density2')), 1)  # generate with 1 entry\n",
    "data.get(0).Print(\"V\")"
   ]
  },
  {
   "cell_type": "code",
   "execution_count": 48,
   "metadata": {
    "collapsed": false
   },
   "outputs": [],
   "source": [
    "opal_model = RooStats.ModelConfig(\"opal\", ws)   \n",
    "opal_model.SetPdf(pdf_opal)\n",
    "opal_model.SetParametersOfInterest('density_opal')  # not useful\n",
    "opal_model.SetObservables('density1,density2')  # no space\n",
    "opal_model.SetSnapshot(ROOT.RooArgSet(ws.var('density_opal')))\n",
    "\n",
    "quarz_model = opal_model.Clone(\"quarz\")\n",
    "quarz_model.SetParametersOfInterest('density_quarz')  # not useful\n",
    "quarz_model.SetPdf(pdf_quarz)"
   ]
  },
  {
   "cell_type": "code",
   "execution_count": 49,
   "metadata": {
    "collapsed": false,
    "slideshow": {
     "slide_type": "subslide"
    }
   },
   "outputs": [
    {
     "name": "stdout",
     "output_type": "stream",
     "text": [
      "\r\n",
      "=== Using the following for opal ===\r\n",
      "Observables:             RooArgSet:: = (density1,density2)\r\n",
      "Parameters of Interest:  RooArgSet:: = (density_opal)\r\n",
      "PDF:                     RooProdPdf::pdf_opal[ pdf1_pdf_opal * pdf2_pdf_opal ] = 0\r\n",
      "Snapshot:                \r\n",
      "  1) 0xd6bd2d0 RooRealVar:: density_opal = 2.2 C  L(-INF - +INF)  \"density_opal\"\r\n",
      "\r\n",
      "\r\n",
      "=== Using the following for quarz ===\r\n",
      "Observables:             RooArgSet:: = (density1,density2)\r\n",
      "Parameters of Interest:  RooArgSet:: = (density_quarz)\r\n",
      "PDF:                     RooProdPdf::pdf_quarz[ pdf1_pdf_quarz * pdf2_pdf_quarz ] = 0\r\n",
      "Snapshot:                \r\n",
      "  1) 0xd3ea9d0 RooRealVar:: density_opal = 2.2 C  L(-INF - +INF)  \"density_opal\"\r\n",
      "\r\n",
      "[#0] PROGRESS:Generation -- Test Statistic on data: 1.36175\r\n",
      "[#1] INFO:InputArguments -- Using a ToyMCSampler. Now configuring for Null.\r\n",
      "[#0] PROGRESS:Generation -- generated toys: 500 / 20000\r\n",
      "[#0] PROGRESS:Generation -- generated toys: 1000 / 20000\r\n",
      "[#0] PROGRESS:Generation -- generated toys: 1500 / 20000\r\n",
      "[#0] PROGRESS:Generation -- generated toys: 2000 / 20000\r\n",
      "[#0] PROGRESS:Generation -- generated toys: 2500 / 20000\r\n",
      "[#0] PROGRESS:Generation -- generated toys: 3000 / 20000\r\n",
      "[#0] PROGRESS:Generation -- generated toys: 3500 / 20000\r\n",
      "[#0] PROGRESS:Generation -- generated toys: 4000 / 20000\r\n",
      "[#0] PROGRESS:Generation -- generated toys: 4500 / 20000\r\n",
      "[#0] PROGRESS:Generation -- generated toys: 5000 / 20000\r\n",
      "[#0] PROGRESS:Generation -- generated toys: 5500 / 20000\r\n",
      "[#0] PROGRESS:Generation -- generated toys: 6000 / 20000\r\n",
      "[#0] PROGRESS:Generation -- generated toys: 6500 / 20000\r\n",
      "[#0] PROGRESS:Generation -- generated toys: 7000 / 20000\r\n",
      "[#0] PROGRESS:Generation -- generated toys: 7500 / 20000\r\n",
      "[#0] PROGRESS:Generation -- generated toys: 8000 / 20000\r\n",
      "[#0] PROGRESS:Generation -- generated toys: 8500 / 20000\r\n",
      "[#0] PROGRESS:Generation -- generated toys: 9000 / 20000\r\n",
      "[#0] PROGRESS:Generation -- generated toys: 9500 / 20000\r\n",
      "[#0] PROGRESS:Generation -- generated toys: 10000 / 20000\r\n",
      "[#0] PROGRESS:Generation -- generated toys: 10500 / 20000\r\n",
      "[#0] PROGRESS:Generation -- generated toys: 11000 / 20000\r\n",
      "[#0] PROGRESS:Generation -- generated toys: 11500 / 20000\r\n",
      "[#0] PROGRESS:Generation -- generated toys: 12000 / 20000\r\n",
      "[#0] PROGRESS:Generation -- generated toys: 12500 / 20000\r\n",
      "[#0] PROGRESS:Generation -- generated toys: 13000 / 20000\r\n",
      "[#0] PROGRESS:Generation -- generated toys: 13500 / 20000\r\n",
      "[#0] PROGRESS:Generation -- generated toys: 14000 / 20000\r\n",
      "[#0] PROGRESS:Generation -- generated toys: 14500 / 20000\r\n",
      "[#0] PROGRESS:Generation -- generated toys: 15000 / 20000\r\n",
      "[#0] PROGRESS:Generation -- generated toys: 15500 / 20000\r\n",
      "[#0] PROGRESS:Generation -- generated toys: 16000 / 20000\r\n",
      "[#0] PROGRESS:Generation -- generated toys: 16500 / 20000\r\n",
      "[#0] PROGRESS:Generation -- generated toys: 17000 / 20000\r\n",
      "[#0] PROGRESS:Generation -- generated toys: 17500 / 20000\r\n",
      "[#0] PROGRESS:Generation -- generated toys: 18000 / 20000\r\n",
      "[#0] PROGRESS:Generation -- generated toys: 18500 / 20000\r\n",
      "[#0] PROGRESS:Generation -- generated toys: 19000 / 20000\r\n",
      "[#0] PROGRESS:Generation -- generated toys: 19500 / 20000\r\n",
      "[#1] INFO:InputArguments -- Using a ToyMCSampler. Now configuring for Alt.\r\n",
      "[#0] PROGRESS:Generation -- generated toys: 500 / 1000\r\n"
     ]
    }
   ],
   "source": [
    "# define the test-statistic\n",
    "\n",
    "test = RooStats.SimpleLikelihoodRatioTestStat(pdf_opal, pdf_quarz)  # null, alt\n",
    "test.EnableDetailedOutput(True)\n",
    "\n",
    "hypoCalc = RooStats.FrequentistCalculator(data, quarz_model, opal_model)  # alt, null\n",
    "hypoCalc.SetToys(20000, 1000)  # generate much more toys for bkg-only\n",
    "\n",
    "toy_sampler = hypoCalc.GetTestStatSampler()\n",
    "toy_sampler.SetTestStatistic(test)  # our test statistics\n",
    "toy_sampler.SetNEventsPerToy(1)\n",
    "\n",
    "htr = hypoCalc.GetHypoTest()\n",
    "htr.SetPValueIsRightTail(True)  # the \"extreme\" cases are on the right tail\n",
    "htr.SetBackgroundAsAlt(False)"
   ]
  },
  {
   "cell_type": "code",
   "execution_count": 50,
   "metadata": {
    "collapsed": false,
    "slideshow": {
     "slide_type": "subslide"
    }
   },
   "outputs": [
    {
     "name": "stderr",
     "output_type": "stream",
     "text": [
      "TROOT::Append:0: RuntimeWarning: Replacing existing TH1: quarz (Potential memory leak).\n",
      "TROOT::Append:0: RuntimeWarning: Replacing existing TH1: opal (Potential memory leak).\n"
     ]
    },
    {
     "data": {
      "image/png": "[encoded data removed]",
      "text/plain": [
       "<IPython.core.display.Image object>"
      ]
     },
     "metadata": {},
     "output_type": "display_data"
    }
   ],
   "source": [
    "plot = RooStats.HypoTestPlot(htr, 50, -15, 15)\n",
    "canvas = ROOT.TCanvas()\n",
    "plot.Draw()\n",
    "canvas.Draw()"
   ]
  },
  {
   "cell_type": "code",
   "execution_count": 51,
   "metadata": {
    "collapsed": false,
    "slideshow": {
     "slide_type": "subslide"
    }
   },
   "outputs": [
    {
     "name": "stdout",
     "output_type": "stream",
     "text": [
      "observed p-value:  0.04305\n",
      "k_alpha =  1.20919914471\n",
      "power =  0.715\n"
     ]
    }
   ],
   "source": [
    "print \"observed p-value: \", htr.NullPValue()\n",
    "\n",
    "alpha = 0.05\n",
    "kalpha = htr.GetNullDistribution().InverseCDF(1 - alpha)\n",
    "beta = htr.GetAltDistribution().CDF(kalpha)\n",
    "print \"k_alpha = \", kalpha\n",
    "print \"power = \", 1 - beta"
   ]
  },
  {
   "cell_type": "markdown",
   "metadata": {
    "slideshow": {
     "slide_type": "fragment"
    }
   },
   "source": [
    "### Exercize\n",
    "Show that the in this case the likelihood ratio is equivalent to the weighted mean of the two measurements"
   ]
  },
  {
   "cell_type": "code",
   "execution_count": 52,
   "metadata": {
    "collapsed": false,
    "slideshow": {
     "slide_type": "skip"
    }
   },
   "outputs": [],
   "source": [
    "def eval_test_stat():\n",
    "    d = ROOT.RooDataSet(\"d\", \"d\", ROOT.RooArgSet(ws.var('density1'), ws.var('density2')))\n",
    "    d.add(ROOT.RooArgSet(ws.var('density1'), ws.var('density2')))\n",
    "    return test.Evaluate(d, ROOT.RooArgSet(ws.var('true_density')))\n",
    "\n",
    "fig_opal, ax = plt.subplots(figsize=(12, 7))\n",
    "\n",
    "x = np.linspace(1.3, 3.5, 100)\n",
    "y = np.linspace(1.5, 3.5, 100)\n",
    "\n",
    "qvalues = np.zeros((len(x), len(y)))\n",
    "pdf_opal_values = np.zeros((len(x), len(y)))\n",
    "pdf_quarz_values = np.zeros((len(x), len(y)))\n",
    "for ix, xx in enumerate(x):\n",
    "    for iy, yy in enumerate(y):        \n",
    "        ws.var('density1').setVal(xx)\n",
    "        ws.var('density2').setVal(yy)\n",
    "        qvalues[iy, ix] = eval_test_stat()\n",
    "        pdf_opal_values[iy, ix] = pdf_opal.getVal()\n",
    "        pdf_quarz_values[iy, ix] = pdf_quarz.getVal()\n",
    "        \n",
    "c = plt.pcolormesh(x, y, qvalues, cmap=colormaps.viridis)\n",
    "cs = ax.contour(x, y, qvalues, [kalpha], linestyles='dashed')\n",
    "ax.clabel(cs, fontsize=14, fmt=r\"$k_\\alpha$ = %1.3f\", inline_spacing=30, use_clabeltext=True)\n",
    "ax.contour(x, y, pdf_opal_values, cmap='Blues', alpha=0.6)\n",
    "ax.contour(x, y, pdf_quarz_values, cmap='Oranges', alpha=0.6)\n",
    "ax.text(1.5, 1.6, \"accept\", size=20)\n",
    "ax.text(1.8, 3.2, \"reject\", size=20)\n",
    "datalist = [x.getVal() for x in iter_collection(data.get(0))]\n",
    "ax.plot(datalist[0], datalist[1], 'v', label='observed')\n",
    "\n",
    "ax.set_xlabel('density1')\n",
    "ax.set_ylabel('density2')\n",
    "ax.legend()\n",
    "ax.set_aspect('equal')\n",
    "plt.colorbar(c)\n",
    "plt.close()"
   ]
  },
  {
   "cell_type": "markdown",
   "metadata": {
    "slideshow": {
     "slide_type": "subslide"
    }
   },
   "source": [
    "Since we have just two observables we can easily show the acceptance / rejection region in the space of the observables"
   ]
  },
  {
   "cell_type": "code",
   "execution_count": 53,
   "metadata": {
    "collapsed": false
   },
   "outputs": [
    {
     "name": "stderr",
     "output_type": "stream",
     "text": [
      "/usr/lib64/python2.7/site-packages/matplotlib/text.py:52: UnicodeWarning: Unicode equal comparison failed to convert both arguments to Unicode - interpreting them as being unequal\n",
      "  if rotation in ('horizontal', None):\n",
      "/usr/lib64/python2.7/site-packages/matplotlib/text.py:54: UnicodeWarning: Unicode equal comparison failed to convert both arguments to Unicode - interpreting them as being unequal\n",
      "  elif rotation == 'vertical':\n"
     ]
    },
    {
     "data": {
      "image/png": "[encoded data removed]",
      "text/plain": [
       "<matplotlib.figure.Figure at 0xd67b8d0>"
      ]
     },
     "execution_count": 53,
     "metadata": {},
     "output_type": "execute_result"
    }
   ],
   "source": [
    "fig_opal"
   ]
  },
  {
   "cell_type": "markdown",
   "metadata": {
    "collapsed": false
   },
   "source": [
    "### Exercize\n",
    "Compute the acceptance region using the simple mean as test-statistics: show that it is less powerful"
   ]
  },
  {
   "cell_type": "markdown",
   "metadata": {
    "slideshow": {
     "slide_type": "subslide"
    }
   },
   "source": [
    "### Plot the power as a function of the size of the test for the likelihood ratio"
   ]
  },
  {
   "cell_type": "code",
   "execution_count": 54,
   "metadata": {
    "collapsed": false,
    "slideshow": {
     "slide_type": "-"
    }
   },
   "outputs": [
    {
     "data": {
      "image/png": "[encoded data removed]",
      "text/plain": [
       "<matplotlib.figure.Figure at 0xe351b90>"
      ]
     },
     "metadata": {},
     "output_type": "display_data"
    }
   ],
   "source": [
    "alphas = np.linspace(0, 1, 100)\n",
    "powers = []\n",
    "\n",
    "for alpha in alphas:\n",
    "    kalpha = htr.GetNullDistribution().InverseCDF(1 - alpha)\n",
    "    beta = htr.GetAltDistribution().CDF(kalpha)\n",
    "    powers.append(1 - beta)\n",
    "    \n",
    "plt.plot(alphas, powers)   \n",
    "plt.xlabel(r'$\\alpha$')\n",
    "plt.ylabel(r'power')\n",
    "plt.show()"
   ]
  },
  {
   "cell_type": "markdown",
   "metadata": {
    "slideshow": {
     "slide_type": "subslide"
    }
   },
   "source": [
    "### Exercize\n",
    "Compute $\\text{power}(\\alpha)$ for the simple mean\n",
    "### Exercize\n",
    "Explain why the previous plot remembers the ROC curve (bkg-rejection vs signal-efficiency)."
   ]
  },
  {
   "cell_type": "markdown",
   "metadata": {
    "slideshow": {
     "slide_type": "slide"
    }
   },
   "source": [
    "## Exclusion and frequentist intervals\n",
    "\n",
    "By now we have done statistical test to discover something (a signal), defining the null hypothesis to be the background only case. Suppose we have counted $n_{obs}$ events in a Poissonian process with mean $\\lambda$. What are the values $[n_{up}, \\infty]$ that we can exclude? This is something called hypothesis inversion. As usual we define the null hypothesis: $H_0: \\lambda = N$ with $N > n_{obs}$. The likelihood:\n",
    "\n",
    "$$L = \\text{Pois}(n|N)$$\n",
    "\n",
    "than the p-value of our observation $n_{obs}$:\n",
    "\n",
    "$$\\text{p-value} = \\sum_{n\\geq n_{obs}} \\text{Pois}(n|N)$$\n",
    "\n",
    "if p-value $<\\alpha$ we consider $N$ to be inside the exluded region $[n_{up}, \\infty]$. The general approach is to scan for many value of $N$ until we found the one with p-value $=\\alpha$, which is $n_{up}$."
   ]
  },
  {
   "cell_type": "markdown",
   "metadata": {
    "slideshow": {
     "slide_type": "subslide"
    }
   },
   "source": [
    "### Example: RooFit asymmetric error bars\n",
    "\n",
    "Let's do a two-side test and compute the excluded intervals $[-\\infty, n_{down}]$ and $[n_{up}, \\infty]$ with $\\alpha=1 - 0.6827$. This means that every single interval should be tested with $\\alpha=(1-0.6827)/2.=0.15865$. We can solve it analytically or with a scan. Suppose $n_{obs} = 3$."
   ]
  },
  {
   "cell_type": "code",
   "execution_count": 55,
   "metadata": {
    "collapsed": false
   },
   "outputs": [],
   "source": [
    "NOBS = 4\n",
    "ALPHA = z2p(1)  # 0.158...\n",
    "\n",
    "def compute_pvalue(nobs, ntrue, left):\n",
    "    if left:\n",
    "        return stats.poisson(ntrue).cdf(nobs)\n",
    "    else:\n",
    "        return stats.poisson(ntrue).sf(nobs) + stats.poisson(ntrue).pmf(nobs)\n",
    "\n",
    "fig, axs = plt.subplots(1, 3, figsize=(13, 4))\n",
    "x = np.linspace(NOBS, NOBS + 3 * NOBS, 20)\n",
    "\n",
    "axs[1].plot(x, compute_pvalue(NOBS, x, left=True), 'r')\n",
    "axs[1].hlines(ALPHA, np.min(x), np.max(x), linestyles='--')\n",
    "\n",
    "x = np.linspace(max(NOBS - NOBS * 3, 0), NOBS, 20)\n",
    "axs[0].plot(x, compute_pvalue(NOBS, x, left=False), 'b')\n",
    "axs[0].hlines(ALPHA, np.min(x), np.max(x), linestyles='--')\n",
    "\n",
    "from scipy.optimize import brenth\n",
    "nup = brenth(lambda x: compute_pvalue(NOBS, x, True) - ALPHA, NOBS, NOBS * 3)\n",
    "ndown = brenth(lambda x: compute_pvalue(NOBS, x, False) - ALPHA, 1E-5, NOBS)\n",
    "\n",
    "axs[1].plot(nup, compute_pvalue(NOBS, nup, True), 'ro')\n",
    "axs[0].plot(ndown, compute_pvalue(NOBS, ndown, False), 'bo')\n",
    "axs[1].set_xlabel('N'); axs[0].set_xlabel('N')\n",
    "axs[1].set_ylabel('$P(n\\leq n_{obs})$')\n",
    "axs[0].set_ylabel('$P(n\\geq n_{obs})$')\n",
    "plt.close()"
   ]
  },
  {
   "cell_type": "code",
   "execution_count": 56,
   "metadata": {
    "collapsed": false,
    "slideshow": {
     "slide_type": "skip"
    }
   },
   "outputs": [
    {
     "data": {
      "text/plain": [
       "<matplotlib.collections.LineCollection at 0xd225450>"
      ]
     },
     "execution_count": 56,
     "metadata": {},
     "output_type": "execute_result"
    }
   ],
   "source": [
    "x = np.arange(0, NOBS * 3)\n",
    "axs[2].plot(x, stats.poisson(nup).pmf(x), 'r', linestyle='steps',)\n",
    "axs[2].plot(x, stats.poisson(ndown).pmf(x), 'b', linestyle='steps')\n",
    "axs[2].vlines(NOBS, 0, 0.3, linestyles='--')"
   ]
  },
  {
   "cell_type": "code",
   "execution_count": 57,
   "metadata": {
    "collapsed": false,
    "scrolled": true,
    "slideshow": {
     "slide_type": "subslide"
    }
   },
   "outputs": [
    {
     "data": {
      "image/png": "[encoded data removed]",
      "text/plain": [
       "<matplotlib.figure.Figure at 0xe1081d0>"
      ]
     },
     "execution_count": 57,
     "metadata": {},
     "output_type": "execute_result"
    }
   ],
   "source": [
    "fig"
   ]
  },
  {
   "cell_type": "code",
   "execution_count": 58,
   "metadata": {
    "collapsed": false
   },
   "outputs": [
    {
     "name": "stdout",
     "output_type": "stream",
     "text": [
      "2.08566081378 7.16275317226\n"
     ]
    },
    {
     "data": {
      "text/latex": [
       "$\\lambda = 4.00^{+3.16}_{-1.91}$"
      ],
      "text/plain": [
       "<IPython.core.display.Latex object>"
      ]
     },
     "execution_count": 58,
     "metadata": {},
     "output_type": "execute_result"
    }
   ],
   "source": [
    "print ndown, nup\n",
    "Latex(\"$\\lambda = %.2f^{+%.2f}_{-%.2f}$\" % (NOBS, nup - NOBS, NOBS - ndown))"
   ]
  },
  {
   "cell_type": "markdown",
   "metadata": {},
   "source": [
    "### Question:\n",
    "why we assumed that the central value for $\\lambda$ is $n_{obs}=4$?"
   ]
  },
  {
   "cell_type": "code",
   "execution_count": 59,
   "metadata": {
    "collapsed": false,
    "slideshow": {
     "slide_type": "subslide"
    }
   },
   "outputs": [
    {
     "data": {
      "text/plain": [
       "(2.0856608137771171, 7.1627531722609437)"
      ]
     },
     "execution_count": 59,
     "metadata": {},
     "output_type": "execute_result"
    }
   ],
   "source": [
    "def get_confiderence_poisson(n):\n",
    "    ym = np.array([0], dtype=np.float64)\n",
    "    yp = np.array([0], dtype=np.float64)\n",
    "    ROOT.RooHistError.instance().getPoissonInterval(n, ym, yp, 1)\n",
    "    return ym[0], yp[0]\n",
    "\n",
    "get_confiderence_poisson(4)"
   ]
  },
  {
   "cell_type": "markdown",
   "metadata": {},
   "source": [
    "This is the function used by RooFit to draw error bands"
   ]
  },
  {
   "cell_type": "code",
   "execution_count": 60,
   "metadata": {
    "collapsed": false,
    "slideshow": {
     "slide_type": "subslide"
    }
   },
   "outputs": [
    {
     "data": {
      "image/png": "[encoded data removed]",
      "text/plain": [
       "<matplotlib.figure.Figure at 0xe998490>"
      ]
     },
     "metadata": {},
     "output_type": "display_data"
    }
   ],
   "source": [
    "fig, ax = plt.subplots(figsize=(7, 5))\n",
    "trues = np.linspace(1E-5, NOBS * 4, 100)\n",
    "obss = np.arange(0, NOBS * 3)\n",
    "v = np.zeros((len(trues), len(obss)))\n",
    "limits = []\n",
    "for ix, obs in enumerate(obss):\n",
    "    limits.append(get_confiderence_poisson(obs))   \n",
    "    for iy, true in enumerate(trues):\n",
    "        v[iy, ix] = stats.poisson(true).pmf(obs)\n",
    "ax.pcolormesh(obss, trues, v, vmax=np.percentile(v, 99))\n",
    "ax.plot(obss, np.array(limits).T[0], 'k', drawstyle='steps-post')\n",
    "ax.plot(obss, np.array(limits).T[1], 'k', drawstyle='steps-post')\n",
    "ax.set_xlim(0, np.max(obss))\n",
    "ax.set_xlabel('obs')\n",
    "ax.set_ylabel('$\\lambda$'); plt.show()"
   ]
  },
  {
   "cell_type": "markdown",
   "metadata": {},
   "source": [
    "### Question: explain why this is a frequentist procedure"
   ]
  },
  {
   "cell_type": "markdown",
   "metadata": {},
   "source": [
    "## Bayesian approach\n",
    "\n",
    "$$P(\\lambda|n_{obs}) = P(n_{obs}|\\lambda)P(\\lambda)$$\n",
    "\n",
    "We assume the prior $P(\\lambda)$ to be flat (and zero for negative values), equivalent to a constant we can ignore. Everybody agree?\n",
    "\n",
    "$$P(\\lambda|n_{obs}) = P(n_{obs}|\\lambda)$$\n",
    "\n",
    "note that $n_{obs}$ is fixed, so this is a real function $f(\\lambda)$."
   ]
  },
  {
   "cell_type": "code",
   "execution_count": 61,
   "metadata": {
    "collapsed": false,
    "slideshow": {
     "slide_type": "skip"
    }
   },
   "outputs": [
    {
     "name": "stdout",
     "output_type": "stream",
     "text": [
      "2.84030885559 7.16275317226\n"
     ]
    },
    {
     "data": {
      "text/latex": [
       "$\\lambda = 4.00_{-1.16}^{+3.16}$"
      ],
      "text/plain": [
       "<IPython.core.display.Latex object>"
      ]
     },
     "execution_count": 61,
     "metadata": {},
     "output_type": "execute_result"
    }
   ],
   "source": [
    "def f(true):\n",
    "    return stats.poisson(true).pmf(NOBS)\n",
    "\n",
    "import scipy\n",
    "from scipy.optimize import brenth, brentq\n",
    "def f_low(x):\n",
    "    return scipy.integrate.quad(f, 0, x)[0] - z2p(1)\n",
    "\n",
    "def f_hi(x):\n",
    "    return scipy.integrate.quad(f, x, NOBS * 10)[0] - z2p(1)\n",
    "\n",
    "lo_bayes, hi_bayes = brentq(f_low, 1E-5, NOBS), brentq(f_hi, NOBS, NOBS * 5)\n",
    "print lo_bayes, hi_bayes\n",
    "Latex(\"$\\lambda = %.2f_{-%.2f}^{+%.2f}$\" % (NOBS, NOBS - lo_bayes, hi_bayes - NOBS))"
   ]
  },
  {
   "cell_type": "code",
   "execution_count": 62,
   "metadata": {
    "collapsed": false,
    "slideshow": {
     "slide_type": "skip"
    }
   },
   "outputs": [
    {
     "name": "stdout",
     "output_type": "stream",
     "text": [
      "2.28988237908 6.40285900785\n"
     ]
    }
   ],
   "source": [
    "\n",
    "\n",
    "def invert(f, y, a, b):\n",
    "    return brentq(lambda x: f(x) - y, a, b)\n",
    "\n",
    "lo_bayes_el = brenth(\n",
    "    lambda x: scipy.integrate.quad(f, x, invert(f, f(x), x * (1 + 1E-5), NOBS * 20))[0] - (1 - z2p(1) * 2),\n",
    "    1E-2, NOBS - 1E-2)\n",
    "hi_bayes_el = invert(f, f(lo_bayes_el), NOBS, NOBS * 5)\n",
    "print lo_bayes_el, hi_bayes_el"
   ]
  },
  {
   "cell_type": "code",
   "execution_count": 63,
   "metadata": {
    "collapsed": false,
    "slideshow": {
     "slide_type": "skip"
    }
   },
   "outputs": [
    {
     "name": "stdout",
     "output_type": "stream",
     "text": [
      "2.2898822866 6.40285891537\n"
     ]
    }
   ],
   "source": [
    "def width_interval(x):\n",
    "    return brenth(lambda y: scipy.integrate.quad(f, x, y)[0] - (1 - z2p(1) * 2), x, NOBS * 20) - x\n",
    "\n",
    "sol = scipy.optimize.minimize_scalar(width_interval, (1E-1, 3), bounds=(0, NOBS), method='bounded')\n",
    "lo_bayes_min, hi_bayes_min = sol.x, sol.x + width_interval(sol.x)\n",
    "print lo_bayes_min, hi_bayes_min"
   ]
  },
  {
   "cell_type": "code",
   "execution_count": 64,
   "metadata": {
    "collapsed": false,
    "slideshow": {
     "slide_type": "skip"
    }
   },
   "outputs": [],
   "source": [
    "x = np.linspace(0, NOBS * 3, 100)\n",
    "\n",
    "fig, axs = plt.subplots(1, 3, figsize=(14, 4))\n",
    "\n",
    "axs[0].plot(x, f(x))\n",
    "axs[0].fill_between(np.linspace(0, lo_bayes, 50), f(np.linspace(0, lo_bayes, 50)))\n",
    "axs[0].fill_between(np.linspace(hi_bayes, NOBS * 3, 50), f(np.linspace(hi_bayes, NOBS * 3, 50)))\n",
    "axs[0].set_title('equal probability (central)')\n",
    "axs[0].text(7, 0.16, '$\\lambda = %.2f_{-%.2f}^{+%.2f}$' % (NOBS, NOBS - lo_bayes, hi_bayes - NOBS), size=15)\n",
    "axs[0].text(4, 0.04, '68%', size=15)\n",
    "axs[0].set_xlabel('$\\lambda$')\n",
    "axs[1].plot(x, f(x))\n",
    "axs[1].fill_between(np.linspace(0, lo_bayes_el, 50), f(np.linspace(0, lo_bayes_el, 50)))\n",
    "axs[1].fill_between(np.linspace(hi_bayes_el, NOBS * 3, 50), f(np.linspace(hi_bayes_el, NOBS * 3, 50)))\n",
    "axs[1].set_title('equal likelihood')\n",
    "axs[1].text(7, 0.16, '$\\lambda = %.2f_{-%.2f}^{+%.2f}$' % (NOBS, NOBS - lo_bayes_el, hi_bayes_el - NOBS), size=15)\n",
    "axs[1].text(3.5, 0.04, '68%', size=15)\n",
    "axs[1].set_xlabel('$\\lambda$')\n",
    "axs[2].plot(x, f(x))\n",
    "axs[2].fill_between(np.linspace(0, lo_bayes_min, 50), f(np.linspace(0, lo_bayes_min, 50)))\n",
    "axs[2].fill_between(np.linspace(hi_bayes_min, NOBS * 3, 50), f(np.linspace(hi_bayes_min, NOBS * 3, 50)))\n",
    "axs[2].set_title('minimum interval')\n",
    "axs[2].text(7, 0.16, '$\\lambda = %.2f_{-%.2f}^{+%.2f}$' % (NOBS, NOBS - lo_bayes_min, hi_bayes_min - NOBS), size=15)\n",
    "axs[2].text(3.5, 0.04, '68%', size=15)\n",
    "axs[2].set_xlabel('$\\lambda$')\n",
    "plt.close()"
   ]
  },
  {
   "cell_type": "code",
   "execution_count": 65,
   "metadata": {
    "collapsed": false,
    "slideshow": {
     "slide_type": "-"
    }
   },
   "outputs": [
    {
     "data": {
      "image/png": "[encoded data removed]",
      "text/plain": [
       "<matplotlib.figure.Figure at 0xe36aa90>"
      ]
     },
     "execution_count": 65,
     "metadata": {},
     "output_type": "execute_result"
    }
   ],
   "source": [
    "fig"
   ]
  },
  {
   "cell_type": "markdown",
   "metadata": {
    "collapsed": true,
    "slideshow": {
     "slide_type": "slide"
    }
   },
   "source": [
    "## Profile likelihood ratio\n",
    "\n",
    "Suppose you have composite hypothesis as \n",
    "\n",
    "$$H_0: \\theta\\in\\Theta_0 \\quad H_1: \\theta\\in\\Theta_0^C$$\n",
    "\n",
    "where $\\Theta_0 = \\{s=0, \\ldots\\}$, $\\theta\\in\\Theta_0^C = \\{s\\neq 0, \\ldots\\}$, \n",
    "\n",
    "$$\\lambda(x) = \\frac{\\sup_{\\theta\\in\\Theta_0}{L(\\theta|x)}}{\\sup_{\\theta\\in\\Theta}{L(\\theta|x)}}$$\n",
    "\n",
    "with $\\Theta_0 \\subset \\Theta$. For example it can be $H_0: s=0$, $H_1: s\\neq 0$\n",
    "\n",
    "$$\\lambda(x) = \\frac{L(s=0, \\hat{\\hat\\theta}(0)|x)}{L(\\hat{s}, \\hat\\theta|x)}$$\n",
    "\n",
    "where $\\hat{\\hat\\theta}(0)$ is the value of $\\theta$ which optimize the likelihood for $s=0$ (conditioned likelihood), while $\\hat{s}$ and $\\hat{\\theta}$ are the values that optimize the likelihood without any constrains (unconditioned likelihood).\n",
    "\n",
    "<small>It varies between 0 and 1, low values mean that the observed result is less likely to occur under the null hypothesis as compared to the alternative.\n",
    "\n",
    "The profile likelihood ratio is nearly an optimal test-statistics</small>"
   ]
  },
  {
   "cell_type": "markdown",
   "metadata": {
    "slideshow": {
     "slide_type": "slide"
    }
   },
   "source": [
    "<small>As shown it is important to have an analytically expression $f_q$ of the distribution of the test-statistics $q$ to compute the p-value: $\\text{p-value} = \\int_{q^\\text{obs}}^{\\infty} f_q(q) dq$. Otherwise toys must be run.</small>\n",
    "\n",
    "## Wilks's theorem\n",
    "\n",
    "The quantity $t=-2\\log(\\lambda)$ is aymptotically (large sample) distributed as a $\\chi^2$ distribution with $n=\\text{dim}(\\Theta)-\\text{dim}(\\Theta_0)$ degrees of freedom."
   ]
  },
  {
   "cell_type": "markdown",
   "metadata": {
    "slideshow": {
     "slide_type": "subslide"
    }
   },
   "source": [
    "Let resurrect the simple Poisson model $\\text{Poisson}(n|s + b)$. This time, instead of using the number of observed events as test-statistics, let use the profile likelihood ratio."
   ]
  },
  {
   "cell_type": "code",
   "execution_count": 66,
   "metadata": {
    "collapsed": false
   },
   "outputs": [
    {
     "name": "stdout",
     "output_type": "stream",
     "text": [
      "observed =  249.0\n"
     ]
    }
   ],
   "source": [
    "S, B = 30, 200  # expected values\n",
    "\n",
    "ws_poisson = ROOT.RooWorkspace('ws_poisson')\n",
    "b = ws_poisson.factory(\"b[%f]\" % B)\n",
    "n_exp = ws_poisson.factory(\"sum::n_exp(s[%f, -500, 500], b)\" % S)\n",
    "pdf = ws_poisson.factory(\"Poisson::pdf(n_obs[0, 1000], n_exp)\")\n",
    "aset = ROOT.RooArgSet(ws_poisson.var('n_obs'))\n",
    "data = pdf.generate(aset, 1)  # generate with 1 entry\n",
    "print \"observed = \", data.get(0).first().getVal()"
   ]
  },
  {
   "cell_type": "code",
   "execution_count": 67,
   "metadata": {
    "collapsed": true,
    "slideshow": {
     "slide_type": "subslide"
    }
   },
   "outputs": [],
   "source": [
    "# create a MC linked to the ws\n",
    "sbModel = RooStats.ModelConfig(\"sbmodel\", ws_poisson)   \n",
    "sbModel.SetPdf(pdf)\n",
    "sbModel.SetObservables('n_obs')  # it understands variable-names\n",
    "sbModel.SetParametersOfInterest('s')\n",
    "# save the value of s for (s+b)-hypothesis\n",
    "sbModel.SetSnapshot(ROOT.RooArgSet(ws_poisson.var('s')))\n",
    "getattr(ws_poisson, 'import')(sbModel)  # import is a keyword in python\n",
    "\n",
    "bModel = sbModel.Clone(\"bmodel\")  # create a bkg-only model\n",
    "ws_poisson.var('s').setVal(0)             # with no signal\n",
    "bModel.SetSnapshot(ROOT.RooArgSet(ws_poisson.var('s')))\n",
    "getattr(ws_poisson, 'import')(bModel);"
   ]
  },
  {
   "cell_type": "code",
   "execution_count": 68,
   "metadata": {
    "collapsed": false,
    "slideshow": {
     "slide_type": "subslide"
    }
   },
   "outputs": [
    {
     "name": "stdout",
     "output_type": "stream",
     "text": [
      "\r\n",
      "=== Using the following for bmodel ===\r\n",
      "Observables:             RooArgSet:: = (n_obs)\r\n",
      "Parameters of Interest:  RooArgSet:: = (s)\r\n",
      "PDF:                     RooPoisson::pdf[ x=n_obs mean=n_exp ] = 3.71273e-71\r\n",
      "Snapshot:                \r\n",
      "  1) 0xe7e0fc0 RooRealVar:: s = 0  L(-500 - 500)  \"s\"\r\n",
      "\r\n",
      "\r\n",
      "=== Using the following for sbmodel ===\r\n",
      "Observables:             RooArgSet:: = (n_obs)\r\n",
      "Parameters of Interest:  RooArgSet:: = (s)\r\n",
      "PDF:                     RooPoisson::pdf[ x=n_obs mean=n_exp ] = 3.71273e-71\r\n",
      "Snapshot:                \r\n",
      "  1) 0xe7e0fc0 RooRealVar:: s = 30  L(-500 - 500)  \"s\"\r\n",
      "\r\n",
      "[#0] PROGRESS:Generation -- Test Statistic on data: 5.56475\r\n",
      "[#1] INFO:InputArguments -- Using a ToyMCSampler. Now configuring for Null.\r\n",
      "[#0] PROGRESS:Generation -- generated toys: 500 / 100000\r\n",
      "[#0] PROGRESS:Generation -- generated toys: 1000 / 100000\r\n",
      "[#0] PROGRESS:Generation -- generated toys: 1500 / 100000\r\n",
      "[#0] PROGRESS:Generation -- generated toys: 2000 / 100000\r\n",
      "[#0] PROGRESS:Generation -- generated toys: 2500 / 100000\r\n",
      "[#0] PROGRESS:Generation -- generated toys: 3000 / 100000\r\n",
      "[#0] PROGRESS:Generation -- generated toys: 3500 / 100000\r\n",
      "[#0] PROGRESS:Generation -- generated toys: 4000 / 100000\r\n",
      "[#0] PROGRESS:Generation -- generated toys: 4500 / 100000\r\n",
      "[#0] PROGRESS:Generation -- generated toys: 5000 / 100000\r\n",
      "[#0] PROGRESS:Generation -- generated toys: 5500 / 100000\r\n",
      "[#0] PROGRESS:Generation -- generated toys: 6000 / 100000\r\n",
      "[#0] PROGRESS:Generation -- generated toys: 6500 / 100000\r\n",
      "[#0] PROGRESS:Generation -- generated toys: 7000 / 100000\r\n",
      "[#0] PROGRESS:Generation -- generated toys: 7500 / 100000\r\n",
      "[#0] PROGRESS:Generation -- generated toys: 8000 / 100000\r\n",
      "[#0] PROGRESS:Generation -- generated toys: 8500 / 100000\r\n",
      "[#0] PROGRESS:Generation -- generated toys: 9000 / 100000\r\n",
      "[#0] PROGRESS:Generation -- generated toys: 9500 / 100000\r\n",
      "[#0] PROGRESS:Generation -- generated toys: 10000 / 100000\r\n",
      "[#0] PROGRESS:Generation -- generated toys: 10500 / 100000\r\n",
      "[#0] PROGRESS:Generation -- generated toys: 11000 / 100000\r\n",
      "[#0] PROGRESS:Generation -- generated toys: 11500 / 100000\r\n",
      "[#0] PROGRESS:Generation -- generated toys: 12000 / 100000\r\n",
      "[#0] PROGRESS:Generation -- generated toys: 12500 / 100000\r\n",
      "[#0] PROGRESS:Generation -- generated toys: 13000 / 100000\r\n",
      "[#0] PROGRESS:Generation -- generated toys: 13500 / 100000\r\n",
      "[#0] PROGRESS:Generation -- generated toys: 14000 / 100000\r\n",
      "[#0] PROGRESS:Generation -- generated toys: 14500 / 100000\r\n",
      "[#0] PROGRESS:Generation -- generated toys: 15000 / 100000\r\n",
      "[#0] PROGRESS:Generation -- generated toys: 15500 / 100000\r\n",
      "[#0] PROGRESS:Generation -- generated toys: 16000 / 100000\r\n",
      "[#0] PROGRESS:Generation -- generated toys: 16500 / 100000\r\n",
      "[#0] PROGRESS:Generation -- generated toys: 17000 / 100000\r\n",
      "[#0] PROGRESS:Generation -- generated toys: 17500 / 100000\r\n",
      "[#0] PROGRESS:Generation -- generated toys: 18000 / 100000\r\n",
      "[#0] PROGRESS:Generation -- generated toys: 18500 / 100000\r\n",
      "[#0] PROGRESS:Generation -- generated toys: 19000 / 100000\r\n",
      "[#0] PROGRESS:Generation -- generated toys: 19500 / 100000\r\n",
      "[#0] PROGRESS:Generation -- generated toys: 20000 / 100000\r\n",
      "[#0] PROGRESS:Generation -- generated toys: 20500 / 100000\r\n",
      "[#0] PROGRESS:Generation -- generated toys: 21000 / 100000\r\n",
      "[#0] PROGRESS:Generation -- generated toys: 21500 / 100000\r\n",
      "[#0] PROGRESS:Generation -- generated toys: 22000 / 100000\r\n",
      "[#0] PROGRESS:Generation -- generated toys: 22500 / 100000\r\n",
      "[#0] PROGRESS:Generation -- generated toys: 23000 / 100000\r\n",
      "[#0] PROGRESS:Generation -- generated toys: 23500 / 100000\r\n",
      "[#0] PROGRESS:Generation -- generated toys: 24000 / 100000\r\n",
      "[#0] PROGRESS:Generation -- generated toys: 24500 / 100000\r\n",
      "[#0] PROGRESS:Generation -- generated toys: 25000 / 100000\r\n",
      "[#0] PROGRESS:Generation -- generated toys: 25500 / 100000\r\n",
      "[#0] PROGRESS:Generation -- generated toys: 26000 / 100000\r\n",
      "[#0] PROGRESS:Generation -- generated toys: 26500 / 100000\r\n",
      "[#0] PROGRESS:Generation -- generated toys: 27000 / 100000\r\n",
      "[#0] PROGRESS:Generation -- generated toys: 27500 / 100000\r\n",
      "[#0] PROGRESS:Generation -- generated toys: 28000 / 100000\r\n",
      "[#0] PROGRESS:Generatio"
     ]
    }
   ],
   "source": [
    "profll = RooStats.ProfileLikelihoodTestStat(bModel.GetPdf())\n",
    "# this modify a bit our test statistics\n",
    "#profll.SetOneSidedDiscovery(1)\n",
    "\n",
    "hypoCalc = RooStats.FrequentistCalculator(data, sbModel, bModel)\n",
    "hypoCalc.SetToys(100000, 5000)  # generate much more toys for bkg-only\n",
    "\n",
    "toy_sampler = hypoCalc.GetTestStatSampler()\n",
    "toy_sampler.SetTestStatistic(profll)\n",
    "toy_sampler.SetNEventsPerToy(1)\n",
    "\n",
    "htr = hypoCalc.GetHypoTest()\n",
    "htr.SetPValueIsRightTail(True)  # the \"extreme\" cases are on the right tail\n",
    "htr.SetBackgroundAsAlt(False)"
   ]
  },
  {
   "cell_type": "code",
   "execution_count": 69,
   "metadata": {
    "collapsed": false,
    "slideshow": {
     "slide_type": "subslide"
    }
   },
   "outputs": [
    {
     "data": {
      "image/png": "[encoded data removed]",
      "text/plain": [
       "<IPython.core.display.Image object>"
      ]
     },
     "metadata": {},
     "output_type": "display_data"
    },
    {
     "name": "stdout",
     "output_type": "stream",
     "text": [
      "pvalue =  0.00088  significance =  3.12800030277\n",
      "n -- generated toys: 28500 / 100000\r\n",
      "[#0] PROGRESS:Generation -- generated toys: 29000 / 100000\r\n",
      "[#0] PROGRESS:Generation -- generated toys: 29500 / 100000\r\n",
      "[#0] PROGRESS:Generation -- generated toys: 30000 / 100000\r\n",
      "[#0] PROGRESS:Generation -- generated toys: 30500 / 100000\r\n",
      "[#0] PROGRESS:Generation -- generated toys: 31000 / 100000\r\n",
      "[#0] PROGRESS:Generation -- generated toys: 31500 / 100000\r\n",
      "[#0] PROGRESS:Generation -- generated toys: 32000 / 100000\r\n",
      "[#0] PROGRESS:Generation -- generated toys: 32500 / 100000\r\n",
      "[#0] PROGRESS:Generation -- generated toys: 33000 / 100000\r\n",
      "[#0] PROGRESS:Generation -- generated toys: 33500 / 100000\r\n",
      "[#0] PROGRESS:Generation -- generated toys: 34000 / 100000\r\n",
      "[#0] PROGRESS:Generation -- generated toys: 34500 / 100000\r\n",
      "[#0] PROGRESS:Generation -- generated toys: 35000 / 100000\r\n",
      "[#0] PROGRESS:Generation -- generated toys: 35500 / 100000\r\n",
      "[#0] PROGRESS:Generation -- generated toys: 36000 / 100000\r\n",
      "[#0] PROGRESS:Generation -- generated toys: 36500 / 100000\r\n",
      "[#0] PROGRESS:Generation -- generated toys: 37000 / 100000\r\n",
      "[#0] PROGRESS:Generation -- generated toys: 37500 / 100000\r\n",
      "[#0] PROGRESS:Generation -- generated toys: 38000 / 100000\r\n",
      "[#0] PROGRESS:Generation -- generated toys: 38500 / 100000\r\n",
      "[#0] PROGRESS:Generation -- generated toys: 39000 / 100000\r\n",
      "[#0] PROGRESS:Generation -- generated toys: 39500 / 100000\r\n",
      "[#0] PROGRESS:Generation -- generated toys: 40000 / 100000\r\n",
      "[#0] PROGRESS:Generation -- generated toys: 40500 / 100000\r\n",
      "[#0] PROGRESS:Generation -- generated toys: 41000 / 100000\r\n",
      "[#0] PROGRESS:Generation -- generated toys: 41500 / 100000\r\n",
      "[#0] PROGRESS:Generation -- generated toys: 42000 / 100000\r\n",
      "[#0] PROGRESS:Generation -- generated toys: 42500 / 100000\r\n",
      "[#0] PROGRESS:Generation -- generated toys: 43000 / 100000\r\n",
      "[#0] PROGRESS:Generation -- generated toys: 43500 / 100000\r\n",
      "[#0] PROGRESS:Generation -- generated toys: 44000 / 100000\r\n",
      "[#0] PROGRESS:Generation -- generated toys: 44500 / 100000\r\n",
      "[#0] PROGRESS:Generation -- generated toys: 45000 / 100000\r\n",
      "[#0] PROGRESS:Generation -- generated toys: 45500 / 100000\r\n",
      "[#0] PROGRESS:Generation -- generated toys: 46000 / 100000\r\n",
      "[#0] PROGRESS:Generation -- generated toys: 46500 / 100000\r\n",
      "[#0] PROGRESS:Generation -- generated toys: 47000 / 100000\r\n",
      "[#0] PROGRESS:Generation -- generated toys: 47500 / 100000\r\n",
      "[#0] PROGRESS:Generation -- generated toys: 48000 / 100000\r\n",
      "[#0] PROGRESS:Generation -- generated toys: 48500 / 100000\r\n",
      "[#0] PROGRESS:Generation -- generated toys: 49000 / 100000\r\n",
      "[#0] PROGRESS:Generation -- generated toys: 49500 / 100000\r\n",
      "[#0] PROGRESS:Generation -- generated toys: 50000 / 100000\r\n",
      "[#0] PROGRESS:Generation -- generated toys: 50500 / 100000\r\n",
      "[#0] PROGRESS:Generation -- generated toys: 51000 / 100000\r\n",
      "[#0] PROGRESS:Generation -- generated toys: 51500 / 100000\r\n",
      "[#0] PROGRESS:Generation -- generated toys: 52000 / 100000\r\n",
      "[#0] PROGRESS:Generation -- generated toys: 52500 / 100000\r\n",
      "[#0] PROGRESS:Generation -- generated toys: 53000 / 100000\r\n",
      "[#0] PROGRESS:Generation -- generated toys: 53500 / 100000\r\n",
      "[#0] PROGRESS:Generation -- generated toys: 54000 / 100000\r\n",
      "[#0] PROGRESS:Generation -- generated toys: 54500 / 100000\r\n",
      "[#0] PROGRESS:Generation -- generated toys: 55000 / 100000\r\n",
      "[#0] PROGRESS:Generation -- generated toys: 55500 / 100000\r\n",
      "[#0] PROGRESS:Generation -- generated toys: 56000 / 100000\r\n",
      "[#0] PROGRESS:Generation -- generated toys: 56500 / 100000\r\n",
      "[#0] PROGRESS:Generation -- generated toys: 57000 / 100000\r\n",
      "[#0] PROGRESS:Generation -- generated toys: 57500 / 100000\r\n",
      "[#0] PROGRESS:Generation -- generated toys: 58000 / 100000\r\n",
      "[#0] PROGRESS:Generation -- generated toys: 58500 / 100000\r\n",
      "[#0] PROGRESS:Generation -- generated toys: 59000 / 100000\r\n",
      "[#0] PROGRESS:Generation -- generated toys: 59500 / 100000\r\n",
      "[#0] PROGRESS:Generation -- generated toys: 60000 / 100000\r\n",
      "[#0] PROGRESS:Generation -- generated toys: 60500 / 100000\r\n",
      "[#0] PROGRESS:Generation -- generated toys: 61000 / 100000\r\n",
      "[#0] PROGRESS:Generation -- generated toys: 61500 / 100000\r\n",
      "[#0] PROGRESS:Generation -- generated toys: 62000 / 100000\r\n",
      "[#0] PROGRESS:Generation -- generated "
     ]
    }
   ],
   "source": [
    "plot = RooStats.HypoTestPlot(htr, 20, 0, 10)\n",
    "canvas = ROOT.TCanvas()\n",
    "plot.Draw()\n",
    "canvas.SetLogy(); canvas.Draw()\n",
    "print \"pvalue = \", htr.NullPValue(), \" significance = \", htr.Significance()"
   ]
  },
  {
   "cell_type": "markdown",
   "metadata": {
    "slideshow": {
     "slide_type": "subslide"
    }
   },
   "source": [
    "We can also use the AsymtoticCalculator, which instead of using the empirical distribution of the likelihood ratio from toys, it uses the asymptotic distribution ($\\chi^2_1$ distribution for the simple likelihood ratio)"
   ]
  },
  {
   "cell_type": "code",
   "execution_count": 70,
   "metadata": {
    "collapsed": false
   },
   "outputs": [
    {
     "name": "stdout",
     "output_type": "stream",
     "text": [
      "pvalue = 0.000424828860905  significance = 3.33608960891\n",
      "toys: 62500 / 100000\r\n",
      "[#0] PROGRESS:Generation -- generated toys: 63000 / 100000\r\n",
      "[#0] PROGRESS:Generation -- generated toys: 63500 / 100000\r\n",
      "[#0] PROGRESS:Generation -- generated toys: 64000 / 100000\r\n",
      "[#0] PROGRESS:Generation -- generated toys: 64500 / 100000\r\n",
      "[#0] PROGRESS:Generation -- generated toys: 65000 / 100000\r\n",
      "[#0] PROGRESS:Generation -- generated toys: 65500 / 100000\r\n",
      "[#0] PROGRESS:Generation -- generated toys: 66000 / 100000\r\n",
      "[#0] PROGRESS:Generation -- generated toys: 66500 / 100000\r\n",
      "[#0] PROGRESS:Generation -- generated toys: 67000 / 100000\r\n",
      "[#0] PROGRESS:Generation -- generated toys: 67500 / 100000\r\n",
      "[#0] PROGRESS:Generation -- generated toys: 68000 / 100000\r\n",
      "[#0] PROGRESS:Generation -- generated toys: 68500 / 100000\r\n",
      "[#0] PROGRESS:Generation -- generated toys: 69000 / 100000\r\n",
      "[#0] PROGRESS:Generation -- generated toys: 69500 / 100000\r\n",
      "[#0] PROGRESS:Generation -- generated toys: 70000 / 100000\r\n",
      "[#0] PROGRESS:Generation -- generated toys: 70500 / 100000\r\n",
      "[#0] PROGRESS:Generation -- generated toys: 71000 / 100000\r\n",
      "[#0] PROGRESS:Generation -- generated toys: 71500 / 100000\r\n",
      "[#0] PROGRESS:Generation -- generated toys: 72000 / 100000\r\n",
      "[#0] PROGRESS:Generation -- generated toys: 72500 / 100000\r\n",
      "[#0] PROGRESS:Generation -- generated toys: 73000 / 100000\r\n",
      "[#0] PROGRESS:Generation -- generated toys: 73500 / 100000\r\n",
      "[#0] PROGRESS:Generation -- generated toys: 74000 / 100000\r\n",
      "[#0] PROGRESS:Generation -- generated toys: 74500 / 100000\r\n",
      "[#0] PROGRESS:Generation -- generated toys: 75000 / 100000\r\n",
      "[#0] PROGRESS:Generation -- generated toys: 75500 / 100000\r\n",
      "[#0] PROGRESS:Generation -- generated toys: 76000 / 100000\r\n",
      "[#0] PROGRESS:Generation -- generated toys: 76500 / 100000\r\n",
      "[#0] PROGRESS:Generation -- generated toys: 77000 / 100000\r\n",
      "[#0] PROGRESS:Generation -- generated toys: 77500 / 100000\r\n",
      "[#0] PROGRESS:Generation -- generated toys: 78000 / 100000\r\n",
      "[#0] PROGRESS:Generation -- generated toys: 78500 / 100000\r\n",
      "[#0] PROGRESS:Generation -- generated toys: 79000 / 100000\r\n",
      "[#0] PROGRESS:Generation -- generated toys: 79500 / 100000\r\n",
      "[#0] PROGRESS:Generation -- generated toys: 80000 / 100000\r\n",
      "[#0] PROGRESS:Generation -- generated toys: 80500 / 100000\r\n",
      "[#0] PROGRESS:Generation -- generated toys: 81000 / 100000\r\n",
      "[#0] PROGRESS:Generation -- generated toys: 81500 / 100000\r\n",
      "[#0] PROGRESS:Generation -- generated toys: 82000 / 100000\r\n",
      "[#0] PROGRESS:Generation -- generated toys: 82500 / 100000\r\n",
      "[#0] PROGRESS:Generation -- generated toys: 83000 / 100000\r\n",
      "[#0] PROGRESS:Generation -- generated toys: 83500 / 100000\r\n",
      "[#0] PROGRESS:Generation -- generated toys: 84000 / 100000\r\n",
      "[#0] PROGRESS:Generation -- generated toys: 84500 / 100000\r\n",
      "[#0] PROGRESS:Generation -- generated toys: 85000 / 100000\r\n",
      "[#0] PROGRESS:Generation -- generated toys: 85500 / 100000\r\n",
      "[#0] PROGRESS:Generation -- generated toys: 86000 / 100000\r\n",
      "[#0] PROGRESS:Generation -- generated toys: 86500 / 100000\r\n",
      "[#0] PROGRESS:Generation -- generated toys: 87000 / 100000\r\n",
      "[#0] PROGRESS:Generation -- generated toys: 87500 / 100000\r\n",
      "[#0] PROGRESS:Generation -- generated toys: 88000 / 100000\r\n",
      "[#0] PROGRESS:Generation -- generated toys: 88500 / 100000\r\n",
      "[#0] PROGRESS:Generation -- generated toys: 89000 / 100000\r\n",
      "[#0] PROGRESS:Generation -- generated toys: 89500 / 100000\r\n",
      "[#0] PROGRESS:Generation -- generated toys: 90000 / 100000\r\n",
      "[#0] PROGRESS:Generation -- generated toys: 90500 / 100000\r\n",
      "[#0] PROGRESS:Generation -- generated toys: 91000 / 100000\r\n",
      "[#0] PROGRESS:Generation -- generated toys: 91500 / 100000\r\n",
      "[#0] PROGRESS:Generation -- generated toys: 92000 / 100000\r\n",
      "[#0] PROGRESS:Generation -- generated toys: 92500 / 100000\r\n",
      "[#0] PROGRESS:Generation -- generated toys: 93000 / 100000\r\n",
      "[#0] PROGRESS:Generation -- generated toys: 93500 / 100000\r\n",
      "[#0] PROGRESS:Generation -- generated toys: 94000 / 100000\r\n",
      "[#0] PROGRESS:Generation -- generated toys: 94500 / 100000\r\n",
      "[#0] PROGRESS:Generation -- generated toys: 95000 / 100000\r\n",
      "[#0] PROGRESS:Generation -- generated toys: 95500 / 100000\r\n",
      "[#0] PROGRESS:Generation -- generated toys: 96000 / 100000\r\n",
      "[#0] PROGRESS:Generation -- generated toys: 96500 / 100000\r\n",
      "[#0] PROGRESS:Generation -- generated toys: 97000 / 100000\r\n",
      "[#0] PROGRESS:Generation -- generated toys: 97500 / 100000\r\n",
      "[#0] PROGRESS:Generation -- generated toys: 98000 / 100000\r\n",
      "[#0] PROGRESS:Generation -- generated toys: 98500 / 100000\r\n",
      "[#0] PROGRESS:Generation -- generated toys: 99000 / 100000\r\n",
      "[#0] PROGRESS:Generation -- generated toys: 99500 / 100000\r\n",
      "[#1] INFO:InputArguments -- Using a ToyMCSampler. Now configuring for Alt.\r\n",
      "[#0] PROGRESS:Generation -- generated toys: 500 / 5000\r\n",
      "[#0] PROGRESS:Generation -- generated toys: 1000 / 5000\r\n",
      "[#0] PROGRESS:Generation -- generated toys: 1500 / 5000\r\n",
      "[#0] PROGRESS:Generation -- generated toys: 2000 / 5000\r\n",
      "[#0] PROGRESS:Generation -- generated toys: 2500 / 5000\r\n",
      "[#0] PROGRESS:Generation -- generated toys: 3000 / 5000\r\n",
      "[#0] PROGRESS:Generation -- generated toys: 3500 / 5000\r\n",
      "[#0] PROGRESS:Generation -- generated toys: 4000 / 5000\r\n",
      "[#0] PROGRESS:Generation -- generated toys: 4500 / 5000\r\n",
      "[#0] PROGRESS:Eval -- AsymptoticCalculator::Initialize....\r\n",
      "[#0] PROGRESS:Eval -- AsymptoticCalculator::Initialize - Find  best unconditional NLL on observed data\r\n",
      "AsymptoticCalculator::EvaluateNLL  ........ using Minuit / Migrad with strategy  1 and tolerance 1\r\n",
      " **********\r\n",
      " **840010 **SET NOGRAD\r\n",
      " **********\r\n",
      " PARAMETER DEFINITIONS:\r\n",
      "    NO.   NAME         VALUE      STEP SIZE      LIMITS\r\n",
      "     1 s            0.00000e+00  1.00000e+02   -5.00000e+02  5.00000e+02\r\n",
      " **********\r\n",
      " **840011 **SET ERR         0.5\r\n",
      " **********\r\n",
      " **********\r\n",
      " **840012 **SET PRINT           0\r\n",
      " **********\r\n",
      " **********\r\n",
      " **840013 **SET STR           1\r\n",
      " **********\r\n",
      " **********\r\n",
      " **840014 **MIGRAD         500           1\r\n",
      " **********\r\n",
      " MIGRAD MINIMIZATION HAS CONVERGED.\r\n",
      " MIGRAD WILL VERIFY CONVERGENCE AND ERROR MATRIX.\r\n",
      " FCN=3.678 FROM MIGRAD    STATUS=CONVERGED      18 CALLS          19 TOTAL\r\n",
      "                     EDM=1.98077e-08    STRATEGY= 1      ERROR MATRIX ACCURATE \r\n",
      "  EXT PARAMETER                                   STEP         FIRST   \r\n",
      "  NO.   NAME      VALUE            ERROR          SIZE      DERIVATIVE \r\n",
      "   1  s            4.89978e+01   1.57769e+01   4.45583e-05  -4.43809e-03\r\n",
      "                               ERR DEF= 0.5\r\n",
      "AsymptoticCalculator::EvaluateNLL -  value = 3.678\tfit time : Real time 0:00:00, CP time 0.000\r\n",
      "[#0] PROGRESS:Eval -- Best fitted POI value = 48.9978 +/- 15.7769\r\n",
      "[#0] PROGRESS:Eval -- AsymptoticCalculator: Building Asimov data Set\r\n",
      "[#1] INFO:InputArguments -- AsymptoticCalculator: Asimov data will be generated using fitted nuisance parameter values\r\n",
      "MakeAsimov: Setting poi s to a constant value = 30\r\n",
      "Generated Asimov data for observables RooArgSet:: = (n_obs)\r\n",
      "[#0] PROGRESS:Eval -- AsymptoticCalculator::Initialize Find  best conditional NLL on ASIMOV data set for given alt POI ( s ) = 30\r\n",
      "AsymptoticCalculator::EvaluateNLL -  value = 3.63834 for poi fixed at = 30\r\n",
      "\r\n",
      "[#1] INFO:Eval -- AsymptoticCalculator::GetHypoTest: - perform  an hypothesis test for  POI ( s ) = 0\r\n",
      "[#0] PROGRESS:Eval -- AsymptoticCalculator::GetHypoTest -  Find  best conditional NLL on OBSERVED data set ..... \r\n",
      "AsymptoticCalculator::EvaluateNLL -  value = 9.24275 for poi fixed at = 0\r\n",
      "[#0] PROGRESS:Eval -- \t OBSERVED DATA :  qmu   = 11.1295 condNLL = 9.24275 uncond 3.678\r\n",
      "[#0] PROGRESS:Eval -- AsymptoticCalculator::GetHypoTest -- Find  best conditional NLL on ASIMOV data set .... \r\n",
      "AsymptoticCalculator::EvaluateNLL -  value = 5.78359 for poi fixed at = 0\r\n",
      "[#0] PROGRESS:Eval -- \t ASIMOV data qmu_A = 4.29049 condNLL = 5.78359 uncond 3.63834\r\n",
      "[#0] PROGRESS:Eval -- poi = 0 qmu = 11.1295 qmu_A = 4.29049 sigma = 0  CLsplusb = 0.000424829 CLb = 0.102982 CLs = 242.409\r\n"
     ]
    }
   ],
   "source": [
    "hypoCalc = RooStats.AsymptoticCalculator(data, sbModel, bModel)\n",
    "hypoCalc.SetOneSidedDiscovery(True)\n",
    "htr = hypoCalc.GetHypoTest()\n",
    "print \"pvalue =\", htr.NullPValue(), \" significance =\", htr.Significance()"
   ]
  },
  {
   "cell_type": "markdown",
   "metadata": {
    "slideshow": {
     "slide_type": "slide"
    }
   },
   "source": [
    "## On/off problem\n",
    "\n",
    "Let's introduce a classical problem in high-energy / astro / ... physics. Suppose you have a source that can contain signal and background events. You have an other source that contains only background events and the background in the two source is correlated.\n",
    "\n",
    "This is the case when you have a control region, with only background, and a signal region with signal plus background. Usually the correlation of the background between the two region comes from a simulation. In astrophysics this can be the case when with telescope one wants to see if there is source in a particular region of the sky, using as control region the average of regions where there are no known source.\n",
    "\n"
   ]
  },
  {
   "cell_type": "markdown",
   "metadata": {
    "slideshow": {
     "slide_type": "subslide"
    }
   },
   "source": [
    "In term of random variables:\n",
    "\n",
    "$$ N_{SR} = S + B \\qquad N_{CR} = \\alpha B$$\n",
    "\n",
    "with $S$ and $B$ distributed as Poisson distribution. What we observe are the number of events in the signal region $n_{SR}$ and in the control region $n_{CR}$. $\\alpha$ is assumed to be a known constant. We can write the likelihood as:\n",
    "\n",
    "$$L(s, b|N_{SR}, N_{CR}) = \\text{Pois}(N_{SR}|s + b) \\text{Pois}(N_{CR}|\\alpha b)$$\n",
    "\n",
    "remember that $\\alpha$ is a known constant. The test statistics is based on the profiled likelihood ratio:\n",
    "\n",
    "$$-2\\log\\lambda = -2\\log\\frac{\\sup_{b \\in [0, \\infty], s\\in\\{0\\}}{L(s, b)}}{\\sup_{b\\in [0, \\infty], s\\in [0, \\infty]}{L(s, b)}} = -2\\log\\frac{L(0, \\hat{\\hat{b}}(s=0))}{L(\\hat{s}, \\hat{b})}$$\n"
   ]
  },
  {
   "cell_type": "code",
   "execution_count": 153,
   "metadata": {
    "collapsed": false,
    "slideshow": {
     "slide_type": "subslide"
    }
   },
   "outputs": [
    {
     "data": {
      "text/plain": [
       "False"
      ]
     },
     "execution_count": 153,
     "metadata": {},
     "output_type": "execute_result"
    },
    {
     "name": "stdout",
     "output_type": "stream",
     "text": [
      "\r\n",
      "RooWorkspace(ws_onoff) ws_onoff contents\r\n",
      "\r\n",
      "variables\r\n",
      "---------\r\n",
      "(alpha,b,n_cr,n_sr,s)\r\n",
      "\r\n",
      "p.d.f.s\r\n",
      "-------\r\n",
      "RooPoisson::N_CR[ x=n_cr mean=alpha_x_b ] = 0\r\n",
      "RooPoisson::N_SR[ x=n_sr mean=s_plus_b ] = 0\r\n",
      "RooProdPdf::model[ N_SR * N_CR ] = 0\r\n",
      "\r\n",
      "functions\r\n",
      "--------\r\n",
      "RooProduct::alpha_x_b[ alpha * b ] = 500\r\n",
      "RooAddition::s_plus_b[ s + b ] = 50\r\n",
      "\r\n",
      "parameter snapshots\r\n",
      "-------------------\r\n",
      "sbModel__snapshot = (s=15)\r\n",
      "bModel__snapshot = (s=0)\r\n",
      "\r\n",
      "named sets\r\n",
      "----------\r\n",
      "bModel__snapshot:(s)\r\n",
      "sbModel_Observables:(n_sr,n_cr)\r\n",
      "sbModel_POI:(s)\r\n",
      "sbModel__snapshot:(s)\r\n",
      "\r\n",
      "generic objects\r\n",
      "---------------\r\n",
      "RooStats::ModelConfig::sbModel\r\n",
      "\r\n"
     ]
    }
   ],
   "source": [
    "ws_onoff = ROOT.RooWorkspace('ws_onoff')\n",
    "model_sr = ws_onoff.factory(\"Poisson:N_SR(n_sr[0, 5000], sum:s_plus_b(s[15, 0, 100], b[50, 0, 100]))\")\n",
    "model_cr = ws_onoff.factory(\"Poisson:N_CR(n_cr[0, 5000], prod:alpha_x_b(alpha[10, 0, 10], b))\")\n",
    "model = ws_onoff.factory(\"PROD:model(N_SR, N_CR)\")\n",
    "ws_onoff.var(\"alpha\").setConstant(True)\n",
    "\n",
    "sbModel = RooStats.ModelConfig('sbModel', ws_onoff)\n",
    "sbModel.SetObservables('n_sr,n_cr')\n",
    "sbModel.SetParametersOfInterest('s')\n",
    "sbModel.SetPdf('model')\n",
    "sbModel.SetSnapshot(ROOT.RooArgSet(ws_onoff.var('s')))\n",
    "getattr(ws_onoff, 'import')(sbModel)\n",
    "\n",
    "bModel = sbModel.Clone(\"bModel\")\n",
    "ws_onoff.var('s').setVal(0)\n",
    "bModel.SetSnapshot(bModel.GetParametersOfInterest())\n",
    "\n",
    "ws_onoff.Print()\n",
    "ws_onoff.writeToFile('onoff.root')"
   ]
  },
  {
   "cell_type": "code",
   "execution_count": 154,
   "metadata": {
    "collapsed": false,
    "slideshow": {
     "slide_type": "subslide"
    }
   },
   "outputs": [
    {
     "data": {
      "image/svg+xml": [
       "<svg height=\"332pt\" viewBox=\"0.00 0.00 539.00 332.00\" width=\"539pt\" xmlns=\"http://www.w3.org/2000/svg\" xmlns:xlink=\"http://www.w3.org/1999/xlink\">\n",
       "<g class=\"graph\" id=\"graph0\" transform=\"scale(1 1) rotate(0) translate(4 328)\">\n",
       "<title>model</title>\n",
       "<polygon fill=\"white\" points=\"-4,4 -4,-328 535,-328 535,4 -4,4\" stroke=\"white\"/>\n",
       "<!-- model -->\n",
       "<g class=\"node\" id=\"node1\"><title>model</title>\n",
       "<ellipse cx=\"267\" cy=\"-297\" fill=\"none\" rx=\"58.5343\" ry=\"26.7407\" stroke=\"red\"/>\n",
       "<text font-family=\"Times,serif\" font-size=\"14.00\" text-anchor=\"middle\" x=\"267\" y=\"-300.8\">RooProdPdf</text>\n",
       "<text font-family=\"Times,serif\" font-size=\"14.00\" text-anchor=\"middle\" x=\"267\" y=\"-285.8\">model</text>\n",
       "</g>\n",
       "<!-- N_SR -->\n",
       "<g class=\"node\" id=\"node2\"><title>N_SR</title>\n",
       "<ellipse cx=\"198\" cy=\"-207\" fill=\"none\" rx=\"56.9149\" ry=\"26.7407\" stroke=\"red\"/>\n",
       "<text font-family=\"Times,serif\" font-size=\"14.00\" text-anchor=\"middle\" x=\"198\" y=\"-210.8\">RooPoisson</text>\n",
       "<text font-family=\"Times,serif\" font-size=\"14.00\" text-anchor=\"middle\" x=\"198\" y=\"-195.8\">N_SR</text>\n",
       "</g>\n",
       "<!-- model&#45;&gt;N_SR -->\n",
       "<g class=\"edge\" id=\"edge4\"><title>model-&gt;N_SR</title>\n",
       "<path d=\"M247.78,-271.487C240.228,-261.856 231.453,-250.664 223.392,-240.384\" fill=\"none\" stroke=\"black\"/>\n",
       "<polygon fill=\"black\" points=\"226.042,-238.091 217.117,-232.381 220.533,-242.41 226.042,-238.091\" stroke=\"black\"/>\n",
       "</g>\n",
       "<!-- N_CR -->\n",
       "<g class=\"node\" id=\"node7\"><title>N_CR</title>\n",
       "<ellipse cx=\"337\" cy=\"-207\" fill=\"none\" rx=\"56.9149\" ry=\"26.7407\" stroke=\"red\"/>\n",
       "<text font-family=\"Times,serif\" font-size=\"14.00\" text-anchor=\"middle\" x=\"337\" y=\"-210.8\">RooPoisson</text>\n",
       "<text font-family=\"Times,serif\" font-size=\"14.00\" text-anchor=\"middle\" x=\"337\" y=\"-195.8\">N_CR</text>\n",
       "</g>\n",
       "<!-- model&#45;&gt;N_CR -->\n",
       "<g class=\"edge\" id=\"edge3\"><title>model-&gt;N_CR</title>\n",
       "<path d=\"M286.499,-271.487C294.16,-261.856 303.063,-250.664 311.24,-240.384\" fill=\"none\" stroke=\"black\"/>\n",
       "<polygon fill=\"black\" points=\"314.12,-242.386 317.606,-232.381 308.641,-238.029 314.12,-242.386\" stroke=\"black\"/>\n",
       "</g>\n",
       "<!-- n_sr -->\n",
       "<g class=\"node\" id=\"node3\"><title>n_sr</title>\n",
       "<ellipse cx=\"59\" cy=\"-117\" fill=\"none\" rx=\"59.096\" ry=\"26.7407\" stroke=\"blue\"/>\n",
       "<text font-family=\"Times,serif\" font-size=\"14.00\" text-anchor=\"middle\" x=\"59\" y=\"-120.8\">RooRealVar</text>\n",
       "<text font-family=\"Times,serif\" font-size=\"14.00\" text-anchor=\"middle\" x=\"59\" y=\"-105.8\">n_sr</text>\n",
       "</g>\n",
       "<!-- N_SR&#45;&gt;n_sr -->\n",
       "<g class=\"edge\" id=\"edge9\"><title>N_SR-&gt;n_sr</title>\n",
       "<path d=\"M164.706,-184.922C145.591,-172.82 121.406,-157.509 100.995,-144.587\" fill=\"none\" stroke=\"black\"/>\n",
       "<polygon fill=\"black\" points=\"102.825,-141.603 92.504,-139.211 99.081,-147.518 102.825,-141.603\" stroke=\"black\"/>\n",
       "</g>\n",
       "<!-- s_plus_b -->\n",
       "<g class=\"node\" id=\"node4\"><title>s_plus_b</title>\n",
       "<ellipse cx=\"198\" cy=\"-117\" fill=\"none\" rx=\"61.2774\" ry=\"26.7407\" stroke=\"red\"/>\n",
       "<text font-family=\"Times,serif\" font-size=\"14.00\" text-anchor=\"middle\" x=\"198\" y=\"-120.8\">RooAddition</text>\n",
       "<text font-family=\"Times,serif\" font-size=\"14.00\" text-anchor=\"middle\" x=\"198\" y=\"-105.8\">s_plus_b</text>\n",
       "</g>\n",
       "<!-- N_SR&#45;&gt;s_plus_b -->\n",
       "<g class=\"edge\" id=\"edge10\"><title>N_SR-&gt;s_plus_b</title>\n",
       "<path d=\"M198,-180.073C198,-171.999 198,-162.943 198,-154.296\" fill=\"none\" stroke=\"black\"/>\n",
       "<polygon fill=\"black\" points=\"201.5,-154.046 198,-144.046 194.5,-154.046 201.5,-154.046\" stroke=\"black\"/>\n",
       "</g>\n",
       "<!-- s -->\n",
       "<g class=\"node\" id=\"node5\"><title>s</title>\n",
       "<ellipse cx=\"198\" cy=\"-27\" fill=\"none\" rx=\"59.096\" ry=\"26.7407\" stroke=\"blue\"/>\n",
       "<text font-family=\"Times,serif\" font-size=\"14.00\" text-anchor=\"middle\" x=\"198\" y=\"-30.8\">RooRealVar</text>\n",
       "<text font-family=\"Times,serif\" font-size=\"14.00\" text-anchor=\"middle\" x=\"198\" y=\"-15.8\">s</text>\n",
       "</g>\n",
       "<!-- s_plus_b&#45;&gt;s -->\n",
       "<g class=\"edge\" id=\"edge8\"><title>s_plus_b-&gt;s</title>\n",
       "<path d=\"M198,-90.0731C198,-81.9993 198,-72.9428 198,-64.2961\" fill=\"none\" stroke=\"black\"/>\n",
       "<polygon fill=\"black\" points=\"201.5,-64.0457 198,-54.0457 194.5,-64.0458 201.5,-64.0457\" stroke=\"black\"/>\n",
       "</g>\n",
       "<!-- b -->\n",
       "<g class=\"node\" id=\"node6\"><title>b</title>\n",
       "<ellipse cx=\"335\" cy=\"-27\" fill=\"none\" rx=\"59.096\" ry=\"26.7407\" stroke=\"blue\"/>\n",
       "<text font-family=\"Times,serif\" font-size=\"14.00\" text-anchor=\"middle\" x=\"335\" y=\"-30.8\">RooRealVar</text>\n",
       "<text font-family=\"Times,serif\" font-size=\"14.00\" text-anchor=\"middle\" x=\"335\" y=\"-15.8\">b</text>\n",
       "</g>\n",
       "<!-- s_plus_b&#45;&gt;b -->\n",
       "<g class=\"edge\" id=\"edge7\"><title>s_plus_b-&gt;b</title>\n",
       "<path d=\"M231.514,-94.4728C250.145,-82.5053 273.497,-67.5058 293.3,-54.7853\" fill=\"none\" stroke=\"black\"/>\n",
       "<polygon fill=\"black\" points=\"295.31,-57.6543 301.832,-49.305 291.527,-51.7647 295.31,-57.6543\" stroke=\"black\"/>\n",
       "</g>\n",
       "<!-- n_cr -->\n",
       "<g class=\"node\" id=\"node8\"><title>n_cr</title>\n",
       "<ellipse cx=\"337\" cy=\"-117\" fill=\"none\" rx=\"59.096\" ry=\"26.7407\" stroke=\"blue\"/>\n",
       "<text font-family=\"Times,serif\" font-size=\"14.00\" text-anchor=\"middle\" x=\"337\" y=\"-120.8\">RooRealVar</text>\n",
       "<text font-family=\"Times,serif\" font-size=\"14.00\" text-anchor=\"middle\" x=\"337\" y=\"-105.8\">n_cr</text>\n",
       "</g>\n",
       "<!-- N_CR&#45;&gt;n_cr -->\n",
       "<g class=\"edge\" id=\"edge2\"><title>N_CR-&gt;n_cr</title>\n",
       "<path d=\"M337,-180.073C337,-171.999 337,-162.943 337,-154.296\" fill=\"none\" stroke=\"black\"/>\n",
       "<polygon fill=\"black\" points=\"340.5,-154.046 337,-144.046 333.5,-154.046 340.5,-154.046\" stroke=\"black\"/>\n",
       "</g>\n",
       "<!-- alpha_x_b -->\n",
       "<g class=\"node\" id=\"node9\"><title>alpha_x_b</title>\n",
       "<ellipse cx=\"472\" cy=\"-117\" fill=\"none\" rx=\"56.9149\" ry=\"26.7407\" stroke=\"red\"/>\n",
       "<text font-family=\"Times,serif\" font-size=\"14.00\" text-anchor=\"middle\" x=\"472\" y=\"-120.8\">RooProduct</text>\n",
       "<text font-family=\"Times,serif\" font-size=\"14.00\" text-anchor=\"middle\" x=\"472\" y=\"-105.8\">alpha_x_b</text>\n",
       "</g>\n",
       "<!-- N_CR&#45;&gt;alpha_x_b -->\n",
       "<g class=\"edge\" id=\"edge1\"><title>N_CR-&gt;alpha_x_b</title>\n",
       "<path d=\"M369.68,-184.698C388.033,-172.734 411.116,-157.687 430.71,-144.915\" fill=\"none\" stroke=\"black\"/>\n",
       "<polygon fill=\"black\" points=\"432.687,-147.804 439.153,-139.411 428.865,-141.94 432.687,-147.804\" stroke=\"black\"/>\n",
       "</g>\n",
       "<!-- alpha_x_b&#45;&gt;b -->\n",
       "<g class=\"edge\" id=\"edge6\"><title>alpha_x_b-&gt;b</title>\n",
       "<path d=\"M439.185,-94.9218C420.567,-82.9627 397.069,-67.8691 377.103,-55.0444\" fill=\"none\" stroke=\"black\"/>\n",
       "<polygon fill=\"black\" points=\"378.804,-51.9772 368.499,-49.5175 375.021,-57.8669 378.804,-51.9772\" stroke=\"black\"/>\n",
       "</g>\n",
       "<!-- alpha -->\n",
       "<g class=\"node\" id=\"node10\"><title>alpha</title>\n",
       "<ellipse cx=\"472\" cy=\"-27\" fill=\"none\" rx=\"59.096\" ry=\"26.7407\" stroke=\"blue\"/>\n",
       "<text font-family=\"Times,serif\" font-size=\"14.00\" text-anchor=\"middle\" x=\"472\" y=\"-30.8\">RooRealVar</text>\n",
       "<text font-family=\"Times,serif\" font-size=\"14.00\" text-anchor=\"middle\" x=\"472\" y=\"-15.8\">alpha</text>\n",
       "</g>\n",
       "<!-- alpha_x_b&#45;&gt;alpha -->\n",
       "<g class=\"edge\" id=\"edge5\"><title>alpha_x_b-&gt;alpha</title>\n",
       "<path d=\"M472,-90.0731C472,-81.9993 472,-72.9428 472,-64.2961\" fill=\"none\" stroke=\"black\"/>\n",
       "<polygon fill=\"black\" points=\"475.5,-64.0457 472,-54.0457 468.5,-64.0458 475.5,-64.0457\" stroke=\"black\"/>\n",
       "</g>\n",
       "</g>\n",
       "</svg>"
      ],
      "text/plain": [
       "<IPython.core.display.SVG object>"
      ]
     },
     "execution_count": 154,
     "metadata": {},
     "output_type": "execute_result"
    }
   ],
   "source": [
    "model.graphVizTree(\"on_off_graph.dot\")\n",
    "!dot -Tsvg on_off_graph.dot > on_off_graph.svg; rm on_off_graph.dot\n",
    "SVG(\"on_off_graph.svg\")"
   ]
  },
  {
   "cell_type": "code",
   "execution_count": 155,
   "metadata": {
    "collapsed": false,
    "slideshow": {
     "slide_type": "subslide"
    }
   },
   "outputs": [
    {
     "name": "stdout",
     "output_type": "stream",
     "text": [
      "observed  N_SR = 60, N_CR = 494\n",
      "best fit     s        b\n",
      "SR        10.6     49.4\n",
      "CR                494.1\n",
      "[#1] INFO:Minization -- RooMinuit::optimizeConst: activating const optimization\r\n",
      "[#1] INFO:Minization --  The following expressions will be evaluated in cache-and-track mode: (N_SR,N_CR)\r\n",
      " **********\r\n",
      " **   13 **MIGRAD        1000           1\r\n",
      " **********\r\n",
      " FIRST CALL TO USER FUNCTION AT NEW START POINT, WITH IFLAG=4.\r\n",
      " START MIGRAD MINIMIZATION.  STRATEGY  1.  CONVERGENCE WHEN EDM .LT. 1.00e-03\r\n",
      " FCN=7.22146 FROM MIGRAD    STATUS=INITIATE        8 CALLS           9 TOTAL\r\n",
      "                     EDM= unknown      STRATEGY= 1      NO ERROR MATRIX       \r\n",
      "  EXT PARAMETER               CURRENT GUESS       STEP         FIRST   \r\n",
      "  NO.   NAME      VALUE            ERROR          SIZE      DERIVATIVE \r\n",
      "   1  b            5.00000e+01   1.00000e+01   2.01358e-01   9.84615e+00\r\n",
      "   2  s            1.50000e+01   7.50000e+00   2.16811e-01   2.74670e+00\r\n",
      "                               ERR DEF= 0.5\r\n",
      " MIGRAD MINIMIZATION HAS CONVERGED.\r\n",
      " MIGRAD WILL VERIFY CONVERGENCE AND ERROR MATRIX.\r\n",
      " COVARIANCE MATRIX CALCULATED SUCCESSFULLY\r\n",
      " FCN=6.9879 FROM MIGRAD    STATUS=CONVERGED      30 CALLS          31 TOTAL\r\n",
      "                     EDM=4.06834e-05    STRATEGY= 1      ERROR MATRIX ACCURATE \r\n",
      "  EXT PARAMETER                                   STEP         FIRST   \r\n",
      "  NO.   NAME      VALUE            ERROR          SIZE      DERIVATIVE \r\n",
      "   1  b            4.94059e+01   2.22197e+00   8.05208e-05   9.67075e-02\r\n",
      "   2  s            1.06392e+01   7.96472e+00   4.62526e-04   2.31254e-02\r\n",
      "                               ERR DEF= 0.5\r\n",
      " EXTERNAL ERROR MATRIX.    NDIM=  25    NPAR=  2    ERR DEF=0.5\r\n",
      "  4.940e+00 -4.931e+00 \r\n",
      " -4.931e+00  6.490e+01 \r\n",
      " PARAMETER  CORRELATION COEFFICIENTS  \r\n",
      "       NO.  GLOBAL      1      2\r\n",
      "        1  0.27539   1.000 -0.275\r\n",
      "        2  0.27539  -0.275  1.000\r\n",
      " **********\r\n",
      " **   18 **HESSE        1000\r\n",
      " **********\r\n",
      " COVARIANCE MATRIX CALCULATED SUCCESSFULLY\r\n",
      " FCN=6.9879 FROM HESSE     STATUS=OK             10 CALLS          41 TOTAL\r\n",
      "                     EDM=4.06832e-05    STRATEGY= 1      ERROR MATRIX ACCURATE \r\n",
      "  EXT PARAMETER                                INTERNAL      INTERNAL  \r\n",
      "  NO.   NAME      VALUE            ERROR       STEP SIZE       VALUE   \r\n",
      "   1  b            4.94059e+01   2.22197e+00   1.61042e-05  -1.18833e-02\r\n",
      "   2  s            1.06392e+01   7.96472e+00   9.25052e-05  -9.06282e-01\r\n",
      "                               ERR DEF= 0.5\r\n",
      " EXTERNAL ERROR MATRIX.    NDIM=  25    NPAR=  2    ERR DEF=0.5\r\n",
      "  4.940e+00 -4.931e+00 \r\n",
      " -4.931e+00  6.490e+01 \r\n",
      " PARAMETER  CORRELATION COEFFICIENTS  \r\n",
      "       NO.  GLOBAL      1      2\r\n",
      "        1  0.27539   1.000 -0.275\r\n",
      "        2  0.27539  -0.275  1.000\r\n",
      "[#1] INFO:Minization -- RooMinuit::optimizeConst: deactivating const optimization\r\n"
     ]
    }
   ],
   "source": [
    "sbModel.LoadSnapshot()\n",
    "data = model.generate(bModel.GetObservables(), 1)\n",
    "print \"observed  N_SR = %.f, N_CR = %.f\" % tuple([x.getVal() for x in iter_collection(data.get(0))])\n",
    "model.fitTo(data)\n",
    "print \"best fit     s        b\"\n",
    "print \"SR    {:>8.1f} {:>8.1f}\".format(ws_onoff.var('s').getVal(), ws_onoff.var('b').getVal())\n",
    "print \"CR             {:>8.1f}\".format(ws_onoff.function('alpha_x_b').getVal())"
   ]
  },
  {
   "cell_type": "code",
   "execution_count": 156,
   "metadata": {
    "collapsed": false,
    "slideshow": {
     "slide_type": "subslide"
    }
   },
   "outputs": [
    {
     "name": "stdout",
     "output_type": "stream",
     "text": [
      "\r\n",
      "=== Using the following for bModel ===\r\n",
      "Observables:             RooArgSet:: = (n_sr,n_cr)\r\n",
      "Parameters of Interest:  RooArgSet:: = (s)\r\n",
      "Nuisance Parameters:     RooArgSet:: = (b)\r\n",
      "PDF:                     RooProdPdf::model[ N_SR * N_CR ] = 0\r\n",
      "Snapshot:                \r\n",
      "  1) 0x12182fc0 RooRealVar:: s = 0  L(0 - 100)  \"s\"\r\n",
      "\r\n",
      "\r\n",
      "=== Using the following for sbModel ===\r\n",
      "Observables:             RooArgSet:: = (n_sr,n_cr)\r\n",
      "Parameters of Interest:  RooArgSet:: = (s)\r\n",
      "Nuisance Parameters:     RooArgSet:: = (b)\r\n",
      "PDF:                     RooProdPdf::model[ N_SR * N_CR ] = 0\r\n",
      "Snapshot:                \r\n",
      "  1) 0x12182fc0 RooRealVar:: s = 15  L(0 - 100)  \"s\"\r\n",
      "\r\n",
      "[#0] PROGRESS:Generation -- Test Statistic on data: 0.960928\r\n",
      "[#1] INFO:InputArguments -- Profiling conditional MLEs for Null.\r\n",
      "[#1] INFO:InputArguments -- Using a ToyMCSampler. Now configuring for Null.\r\n",
      "[#0] PROGRESS:Generation -- generated toys: 500 / 10000\r\n",
      "[#0] PROGRESS:Generation -- generated toys: 1000 / 10000\r\n",
      "[#0] PROGRESS:Generation -- generated toys: 1500 / 10000\r\n",
      "[#0] PROGRESS:Generation -- generated toys: 2000 / 10000\r\n",
      "[#0] PROGRESS:Generation -- generated toys: 2500 / 10000\r\n",
      "[#0] PROGRESS:Generation -- generated toys: 3000 / 10000\r\n",
      "[#0] PROGRESS:Generation -- generated toys: 3500 / 10000\r\n",
      "[#0] PROGRESS:Generation -- generated toys: 4000 / 10000\r\n",
      "[#0] PROGRESS:Generation -- generated toys: 4500 / 10000\r\n",
      "[#0] PROGRESS:Generation -- generated toys: 5000 / 10000\r\n",
      "[#0] PROGRESS:Generation -- generated toys: 5500 / 10000\r\n",
      "[#0] PROGRESS:Generation -- generated toys: 6000 / 10000\r\n",
      "[#0] PROGRESS:Generation -- generated toys: 6500 / 10000\r\n",
      "[#0] PROGRESS:Generation -- generated toys: 7000 / 10000\r\n",
      "[#0] PROGRESS:Generation -- generated toys: 7500 / 10000\r\n",
      "[#0] PROGRESS:Generation -- generated toys: 8000 / 10000\r\n",
      "[#0] PROGRESS:Generation -- generated toys: 8500 / 10000\r\n",
      "[#0] PROGRESS:Generation -- generated toys: 9000 / 10000\r\n",
      "[#0] PROGRESS:Generation -- generated toys: 9500 / 10000\r\n",
      "[#1] INFO:InputArguments -- Profiling conditional MLEs for Alt.\r\n",
      "[#1] INFO:InputArguments -- Using a ToyMCSampler. Now configuring for Alt.\r\n"
     ]
    }
   ],
   "source": [
    "profll = RooStats.ProfileLikelihoodTestStat(bModel.GetPdf())\n",
    "# this modify a bit our test statistics\n",
    "profll.SetOneSidedDiscovery(True)\n",
    "\n",
    "hypoCalc = RooStats.FrequentistCalculator(data, sbModel, bModel)\n",
    "hypoCalc.SetToys(10000, 500)\n",
    "\n",
    "toy_sampler = hypoCalc.GetTestStatSampler()\n",
    "toy_sampler.SetTestStatistic(profll)\n",
    "toy_sampler.SetNEventsPerToy(1)\n",
    "\n",
    "htr = hypoCalc.GetHypoTest()\n",
    "htr.SetPValueIsRightTail(True)  # the \"extreme\" cases are on the right tail\n",
    "htr.SetBackgroundAsAlt(False)"
   ]
  },
  {
   "cell_type": "code",
   "execution_count": 158,
   "metadata": {
    "collapsed": false,
    "slideshow": {
     "slide_type": "subslide"
    }
   },
   "outputs": [
    {
     "data": {
      "image/png": "[encoded data removed]",
      "text/plain": [
       "<IPython.core.display.Image object>"
      ]
     },
     "metadata": {},
     "output_type": "display_data"
    },
    {
     "name": "stdout",
     "output_type": "stream",
     "text": [
      "pvalue =  0.0801  significance =  1.40439923019\n"
     ]
    }
   ],
   "source": [
    "plot = RooStats.HypoTestPlot(htr, 50, 0, 20)\n",
    "canvas = ROOT.TCanvas()\n",
    "plot.Draw()\n",
    "canvas.SetLogy()\n",
    "canvas.Draw()\n",
    "print \"pvalue = \", htr.NullPValue(), \" significance = \", htr.Significance()"
   ]
  },
  {
   "cell_type": "code",
   "execution_count": 159,
   "metadata": {
    "collapsed": false,
    "slideshow": {
     "slide_type": "subslide"
    }
   },
   "outputs": [
    {
     "data": {
      "image/png": "[encoded data removed]",
      "text/plain": [
       "<IPython.core.display.Image object>"
      ]
     },
     "metadata": {},
     "output_type": "display_data"
    },
    {
     "name": "stdout",
     "output_type": "stream",
     "text": [
      "[#1] INFO:Minization -- RooProfileLL::evaluate(nll_model_modelData_Profile[s]) Creating instance of MINUIT\r\n",
      "[#1] INFO:Minization -- RooProfileLL::evaluate(nll_model_modelData_Profile[s]) determining minimum likelihood for current configurations w.r.t all observable\r\n",
      "[#1] INFO:Minization -- RooProfileLL::evaluate(nll_model_modelData_Profile[s]) minimum found at (s=10.6035)\r\n",
      ".........................................................................................................................................................................................................."
     ]
    }
   ],
   "source": [
    "# create profiled log-likelihood\n",
    "prof = model.createNLL(data).createProfile(ROOT.RooArgSet(ws_onoff.var('s')))\n",
    "# multiply by 2\n",
    "minus2LL = ROOT.RooFormulaVar(\"minus2LL\", \"2 * @0\", ROOT.RooArgList(prof))\n",
    "frame = ws_onoff.var('s').frame(0, 30)\n",
    "minus2LL.plotOn(frame)\n",
    "frame.SetYTitle(\"-2 log#Lambda(s)\")\n",
    "canvas = ROOT.TCanvas()\n",
    "frame.Draw()\n",
    "canvas.Draw()"
   ]
  },
  {
   "cell_type": "code",
   "execution_count": 160,
   "metadata": {
    "collapsed": false,
    "slideshow": {
     "slide_type": "subslide"
    }
   },
   "outputs": [
    {
     "name": "stdout",
     "output_type": "stream",
     "text": [
      "pvalue = 0.0828261234044  significance = 1.38631005841\n",
      "expected p-value =  0.0523517293198  significance = 1.6224666952\n",
      "[#0] PROGRESS:Eval -- AsymptoticCalculator::Initialize....\r\n",
      "[#0] PROGRESS:Eval -- AsymptoticCalculator::Initialize - Find  best unconditional NLL on observed data\r\n",
      "AsymptoticCalculator::EvaluateNLL  ........ using Minuit / Migrad with strategy  1 and tolerance 1\r\n",
      " **********\r\n",
      " ** 1828 **SET NOGRAD\r\n",
      " **********\r\n",
      " PARAMETER DEFINITIONS:\r\n",
      "    NO.   NAME         VALUE      STEP SIZE      LIMITS\r\n",
      "     1 b            4.94059e+01  2.22197e+00    0.00000e+00  1.00000e+02\r\n",
      "     2 s            1.06392e+01  5.31959e+00    0.00000e+00  1.00000e+02\r\n",
      " **********\r\n",
      " ** 1829 **SET ERR         0.5\r\n",
      " **********\r\n",
      " **********\r\n",
      " ** 1830 **SET PRINT           0\r\n",
      " **********\r\n",
      " **********\r\n",
      " ** 1831 **SET STR           1\r\n",
      " **********\r\n",
      " **********\r\n",
      " ** 1832 **MIGRAD        1000           1\r\n",
      " **********\r\n",
      " MIGRAD MINIMIZATION HAS CONVERGED.\r\n",
      " MIGRAD WILL VERIFY CONVERGENCE AND ERROR MATRIX.\r\n",
      " FCN=6.98787 FROM MIGRAD    STATUS=CONVERGED      24 CALLS          25 TOTAL\r\n",
      "                     EDM=3.63216e-07    STRATEGY= 1      ERROR MATRIX ACCURATE \r\n",
      "  EXT PARAMETER                                   STEP         FIRST   \r\n",
      "  NO.   NAME      VALUE            ERROR          SIZE      DERIVATIVE \r\n",
      "   1  b            4.93988e+01   2.22182e+00   8.07569e-05  -9.81505e-03\r\n",
      "   2  s            1.06035e+01   7.96669e+00   4.74606e-04   1.19386e-03\r\n",
      "                               ERR DEF= 0.5\r\n",
      "AsymptoticCalculator::EvaluateNLL -  value = 6.98787\tfit time : Real time 0:00:00, CP time 0.000\r\n",
      "[#0] PROGRESS:Eval -- Best fitted POI value = 10.6035 +/- 7.96669\r\n",
      "[#0] PROGRESS:Eval -- AsymptoticCalculator: Building Asimov data Set\r\n",
      "[#1] INFO:InputArguments -- AsymptoticCalculator: Asimov data will be generated using fitted nuisance parameter values\r\n",
      "MakeAsimov: Setting poi s to a constant value = 15\r\n",
      "MakeAsimov: doing a conditional fit for finding best nuisance values \r\n",
      " **********\r\n",
      " **    1 **SET PRINT           0\r\n",
      " **********\r\n",
      " **********\r\n",
      " **    2 **SET NOGRAD\r\n",
      " **********\r\n",
      " PARAMETER DEFINITIONS:\r\n",
      "    NO.   NAME         VALUE      STEP SIZE      LIMITS\r\n",
      "     1 b            4.93988e+01  2.22182e+00    0.00000e+00  1.00000e+02\r\n",
      " **********\r\n",
      " **    3 **SET ERR         0.5\r\n",
      " **********\r\n",
      " **********\r\n",
      " **    4 **SET PRINT           0\r\n",
      " **********\r\n",
      " **********\r\n",
      " **    5 **SET STR           1\r\n",
      " **********\r\n",
      " **********\r\n",
      " **    6 **MIGRAD         500           1\r\n",
      " **********\r\n",
      " MIGRAD MINIMIZATION HAS CONVERGED.\r\n",
      " MIGRAD WILL VERIFY CONVERGENCE AND ERROR MATRIX.\r\n",
      " FCN=7.13101 FROM MIGRAD    STATUS=CONVERGED      12 CALLS          13 TOTAL\r\n",
      "                     EDM=8.03702e-07    STRATEGY= 1      ERROR MATRIX ACCURATE \r\n",
      "  EXT PARAMETER                                   STEP         FIRST   \r\n",
      "  NO.   NAME      VALUE            ERROR          SIZE      DERIVATIVE \r\n",
      "   1  b            4.90850e+01   2.13308e+00   8.19191e-05  -2.10042e-02\r\n",
      "                               ERR DEF= 0.5\r\n",
      "fit time Real time 0:00:00, CP time 0.010\r\n",
      "Generated Asimov data for observables RooArgSet:: = (n_sr,n_cr)\r\n",
      "[#0] PROGRESS:Eval -- AsymptoticCalculator::Initialize Find  best conditional NLL on ASIMOV data set for given alt POI ( s ) = 15\r\n",
      "AsymptoticCalculator::EvaluateNLL  ........ using Minuit / Migrad with strategy  1 and tolerance 1\r\n",
      " **********\r\n",
      " **    7 **SET PRINT           0\r\n",
      " **********\r\n",
      " **********\r\n",
      " **    8 **SET NOGRAD\r\n",
      " **********\r\n",
      " PARAMETER DEFINITIONS:\r\n",
      "    NO.   NAME         VALUE      STEP SIZE      LIMITS\r\n",
      "     1 b            4.90850e+01  2.13308e+00    0.00000e+00  1.00000e+02\r\n",
      " **********\r\n",
      " **    9 **SET ERR         0.5\r\n",
      " **********\r\n",
      " **********\r\n",
      " **   10 **SET PRINT           0\r\n",
      " **********\r\n",
      " **********\r\n",
      " **   11 **SET STR           1\r\n",
      " **********\r\n",
      " **********\r\n",
      " **   12 **MIGRAD         500           1\r\n",
      " **********\r\n",
      " MIGRAD MINIMIZATION HAS CONVERGED.\r\n",
      " MIGRAD WILL VERIFY CONVERGENCE AND ERROR MATRIX.\r\n",
      " FCN=7.01752 FROM MIGRAD    STATUS=CONVERGED      24 CALLS          25 TOTAL\r\n",
      "                     EDM=2.32564e-15    STRATEGY= 1      ERROR MATRIX ACCURATE \r\n",
      "  EXT PARAMETER                                   STEP         FIRST   \r\n",
      "  NO.   NAME      VALUE            ERROR          SI"
     ]
    }
   ],
   "source": [
    "hypoCalc = RooStats.AsymptoticCalculator(data, sbModel, bModel)\n",
    "hypoCalc.SetOneSidedDiscovery(True)\n",
    "htr = hypoCalc.GetHypoTest()\n",
    "print \"pvalue =\", htr.NullPValue(), \" significance =\", htr.Significance()\n",
    "\n",
    "pvalue_exp = RooStats.AsymptoticCalculator.GetExpectedPValues(htr.NullPValue(), htr.AlternatePValue(), False, True)\n",
    "significance_exp = ROOT.Math.normal_quantile_c(pvalue_exp, 1)\n",
    "print \"expected p-value = \", pvalue_exp, \" significance =\", significance_exp                "
   ]
  },
  {
   "cell_type": "markdown",
   "metadata": {
    "slideshow": {
     "slide_type": "slide"
    }
   },
   "source": [
    "# Lecture 3\n",
    "\n",
    "<p style=\"text-align: center;\"><i class=\"icon-user icon-2x\"> [ruggero.turra@mi.infn.it](mailto:ruggero.turra@mi.infn.it)</i></p>\n",
    "<br/>\n",
    "\n",
    "## Content of the lecture\n",
    "\n",
    "   * Systematics\n",
    "   * Shape analysis\n",
    "   * Test statistic for discovery and exclusions\n",
    "   * CLs"
   ]
  },
  {
   "cell_type": "markdown",
   "metadata": {
    "slideshow": {
     "slide_type": "slide"
    }
   },
   "source": [
    "## Systematics\n",
    "\n",
    "How we can incorporate systematics inside our model? Suppose we know the parameter $\\alpha$ with a relative uncertainty $\\sigma_\\alpha$. We can imagine that there is another measurement (auxiliary measurement), that measured $\\alpha$ (the parameter of the model of the auxiliary measurement) and observed $a$. We can write the likelihood of the auxiliary measurement as $L(a|\\alpha) = N(a|\\alpha, \\delta_\\alpha)$, if assume that $a$ is normally distributed aroud the true value $\\alpha$ and $\\delta\\alpha$ is the absolute error on $\\alpha$\n",
    "\n",
    "We can join the auxiliary measurement with our on/off model:\n",
    "\n",
    "$$L(s, b, a|N_{SR}, N_{CR}, \\alpha) = L(s, b|N_{SR}, N_{CR}) L(a|\\alpha)$$\n",
    "\n",
    "or more explicitely:\n",
    "\n",
    "$$\\text{Pois}(N_{SR}|s + b) \\text{Pois}(N_{CR}|\\alpha b) N(a|\\alpha, \\delta_\\alpha)$$\n",
    "\n",
    "Usually this is written as:\n",
    "\n",
    "$$\\text{Pois}(N_{SR}|s + b) \\text{Pois}(N_{CR}|a (1 + \\sigma_\\alpha\\theta_\\alpha) b) N(0|\\alpha, 1)$$\n",
    "\n",
    "The first term is called the \"physical\" pdf, while the second is called the \"constraints\".\n",
    "\n",
    "\n"
   ]
  },
  {
   "cell_type": "code",
   "execution_count": 78,
   "metadata": {
    "collapsed": false,
    "slideshow": {
     "slide_type": "subslide"
    }
   },
   "outputs": [
    {
     "name": "stdout",
     "output_type": "stream",
     "text": [
      "[#1] INFO:ObjectHandling -- RooWorkspace::import(ws_onoff_sys) importing RooProdPdf::model_with_sys\r\n",
      "[#1] INFO:ObjectHandling -- RooWorkspace::import(ws_onoff_sys) importing RooPoisson::N_SR\r\n",
      "[#1] INFO:ObjectHandling -- RooWorkspace::import(ws_onoff_sys) importing RooRealVar::n_sr\r\n",
      "[#1] INFO:ObjectHandling -- RooWorkspace::import(ws_onoff_sys) importing RooAddition::s_plus_b\r\n",
      "[#1] INFO:ObjectHandling -- RooWorkspace::import(ws_onoff_sys) importing RooRealVar::s\r\n",
      "[#1] INFO:ObjectHandling -- RooWorkspace::import(ws_onoff_sys) importing RooRealVar::b\r\n",
      "[#1] INFO:ObjectHandling -- RooWorkspace::import(ws_onoff_sys) importing RooPoisson::N_CR_model_with_sys\r\n",
      "[#1] INFO:ObjectHandling -- RooWorkspace::import(ws_onoff_sys) importing RooRealVar::n_cr\r\n",
      "[#1] INFO:ObjectHandling -- RooWorkspace::import(ws_onoff_sys) importing RooProduct::alpha_x_b_model_with_sys\r\n",
      "[#1] INFO:ObjectHandling -- RooWorkspace::import(ws_onoff_sys) importing RooFormulaVar::kalpha\r\n",
      "[#1] INFO:ObjectHandling -- RooWorkspace::import(ws_onoff_sys) importing RooRealVar::sigma_alpha\r\n",
      "[#1] INFO:ObjectHandling -- RooWorkspace::import(ws_onoff_sys) importing RooRealVar::theta_alpha\r\n"
     ]
    }
   ],
   "source": [
    "#ws = ws_onoff_withsys = ws_onoff.Clone(\"ws_onoff_withsys\")\n",
    "f = ROOT.TFile.Open(\"onoff.root\")\n",
    "ws_onoff = f.Get(\"ws_onoff\")\n",
    "\n",
    "# create the term kalpha = (1 + sigma * theta) with a relative error of 10%\n",
    "ws_onoff.factory('expr:kalpha(\"1 + @0 * @1\", {sigma_alpha[0.1], theta_alpha[0, -5, 5]})')\n",
    "# create new pdf model replacing alpha -> kalpha\n",
    "ws_onoff.factory('EDIT:model_with_sys(model, alpha=kalpha)')\n",
    "\n",
    "# create new workspace\n",
    "ws_onoff_sys = ROOT.RooWorkspace('ws_onoff_sys')\n",
    "getattr(ws_onoff_sys, 'import')(ws_onoff.pdf('model_with_sys'))\n",
    "# create the constraint\n",
    "ws_onoff_sys.factory(\"Gaussian:constraint_alpha(global_alpha[0, -5, 5], theta_alpha, 1)\")\n",
    "ws_onoff_sys.var(\"global_alpha\").setConstant(True)\n",
    "# final pdf\n",
    "model = ws_onoff_sys.factory(\"PROD:model_constrained(model_with_sys, constraint_alpha)\")"
   ]
  },
  {
   "cell_type": "code",
   "execution_count": 79,
   "metadata": {
    "collapsed": false,
    "slideshow": {
     "slide_type": "subslide"
    }
   },
   "outputs": [
    {
     "name": "stdout",
     "output_type": "stream",
     "text": [
      "\r\n",
      "RooWorkspace(ws_onoff_sys) ws_onoff_sys contents\r\n",
      "\r\n",
      "variables\r\n",
      "---------\r\n",
      "(b,global_alpha,n_cr,n_sr,s,sigma_alpha,theta_alpha)\r\n",
      "\r\n",
      "p.d.f.s\r\n",
      "-------\r\n",
      "RooPoisson::N_CR_model_with_sys[ x=n_cr mean=alpha_x_b_model_with_sys ] = 0\r\n",
      "RooPoisson::N_SR[ x=n_sr mean=s_plus_b ] = 0\r\n",
      "RooGaussian::constraint_alpha[ x=global_alpha mean=theta_alpha sigma=1 ] = 1\r\n",
      "RooProdPdf::model_constrained[ model_with_sys * constraint_alpha ] = 0\r\n",
      "RooProdPdf::model_with_sys[ N_SR * N_CR_model_with_sys ] = 0\r\n",
      "\r\n",
      "functions\r\n",
      "--------\r\n",
      "RooProduct::alpha_x_b_model_with_sys[ kalpha * b ] = 50\r\n",
      "RooFormulaVar::kalpha[ actualVars=(sigma_alpha,theta_alpha) formula=\"1+@0*@1\" ] = 1\r\n",
      "RooAddition::s_plus_b[ s + b ] = 50\r\n",
      "\r\n"
     ]
    }
   ],
   "source": [
    "ws_onoff_sys.Print()"
   ]
  },
  {
   "cell_type": "code",
   "execution_count": 80,
   "metadata": {
    "collapsed": false,
    "slideshow": {
     "slide_type": "subslide"
    }
   },
   "outputs": [
    {
     "data": {
      "image/svg+xml": [
       "<svg height=\"512pt\" viewBox=\"0.00 0.00 985.00 512.00\" width=\"90%\" xmlns=\"http://www.w3.org/2000/svg\" xmlns:xlink=\"http://www.w3.org/1999/xlink\">\n",
       "<g class=\"graph\" id=\"graph0\" transform=\"scale(1 1) rotate(0) translate(4 508)\">\n",
       "<title>model_constrained</title>\n",
       "<polygon fill=\"white\" points=\"-4,4 -4,-508 981,-508 981,4 -4,4\" stroke=\"white\"/>\n",
       "<!-- model_constrained -->\n",
       "<g class=\"node\" id=\"node1\"><title>model_constrained</title>\n",
       "<ellipse cx=\"608\" cy=\"-477\" fill=\"none\" rx=\"84.2802\" ry=\"26.7407\" stroke=\"red\"/>\n",
       "<text font-family=\"Times,serif\" font-size=\"14.00\" text-anchor=\"middle\" x=\"608\" y=\"-480.8\">RooProdPdf</text>\n",
       "<text font-family=\"Times,serif\" font-size=\"14.00\" text-anchor=\"middle\" x=\"608\" y=\"-465.8\">model_constrained</text>\n",
       "</g>\n",
       "<!-- model_with_sys -->\n",
       "<g class=\"node\" id=\"node2\"><title>model_with_sys</title>\n",
       "<ellipse cx=\"490\" cy=\"-387\" fill=\"none\" rx=\"74.4303\" ry=\"26.7407\" stroke=\"red\"/>\n",
       "<text font-family=\"Times,serif\" font-size=\"14.00\" text-anchor=\"middle\" x=\"490\" y=\"-390.8\">RooProdPdf</text>\n",
       "<text font-family=\"Times,serif\" font-size=\"14.00\" text-anchor=\"middle\" x=\"490\" y=\"-375.8\">model_with_sys</text>\n",
       "</g>\n",
       "<!-- model_constrained&#45;&gt;model_with_sys -->\n",
       "<g class=\"edge\" id=\"edge1\"><title>model_constrained-&gt;model_with_sys</title>\n",
       "<path d=\"M575.756,-451.954C561.477,-441.305 544.546,-428.678 529.515,-417.469\" fill=\"none\" stroke=\"black\"/>\n",
       "<polygon fill=\"black\" points=\"531.498,-414.582 521.389,-411.409 527.313,-420.193 531.498,-414.582\" stroke=\"black\"/>\n",
       "</g>\n",
       "<!-- constraint_alpha -->\n",
       "<g class=\"node\" id=\"node14\"><title>constraint_alpha</title>\n",
       "<ellipse cx=\"726\" cy=\"-387\" fill=\"none\" rx=\"74.4303\" ry=\"26.7407\" stroke=\"red\"/>\n",
       "<text font-family=\"Times,serif\" font-size=\"14.00\" text-anchor=\"middle\" x=\"726\" y=\"-390.8\">RooGaussian</text>\n",
       "<text font-family=\"Times,serif\" font-size=\"14.00\" text-anchor=\"middle\" x=\"726\" y=\"-375.8\">constraint_alpha</text>\n",
       "</g>\n",
       "<!-- model_constrained&#45;&gt;constraint_alpha -->\n",
       "<g class=\"edge\" id=\"edge2\"><title>model_constrained-&gt;constraint_alpha</title>\n",
       "<path d=\"M640.244,-451.954C654.523,-441.305 671.454,-428.678 686.485,-417.469\" fill=\"none\" stroke=\"black\"/>\n",
       "<polygon fill=\"black\" points=\"688.687,-420.193 694.611,-411.409 684.502,-414.582 688.687,-420.193\" stroke=\"black\"/>\n",
       "</g>\n",
       "<!-- N_SR -->\n",
       "<g class=\"node\" id=\"node3\"><title>N_SR</title>\n",
       "<ellipse cx=\"198\" cy=\"-297\" fill=\"none\" rx=\"56.9149\" ry=\"26.7407\" stroke=\"red\"/>\n",
       "<text font-family=\"Times,serif\" font-size=\"14.00\" text-anchor=\"middle\" x=\"198\" y=\"-300.8\">RooPoisson</text>\n",
       "<text font-family=\"Times,serif\" font-size=\"14.00\" text-anchor=\"middle\" x=\"198\" y=\"-285.8\">N_SR</text>\n",
       "</g>\n",
       "<!-- model_with_sys&#45;&gt;N_SR -->\n",
       "<g class=\"edge\" id=\"edge5\"><title>model_with_sys-&gt;N_SR</title>\n",
       "<path d=\"M434.045,-369.137C382.706,-353.665 306.996,-330.848 255.251,-315.254\" fill=\"none\" stroke=\"black\"/>\n",
       "<polygon fill=\"black\" points=\"256.143,-311.867 245.558,-312.333 254.123,-318.569 256.143,-311.867\" stroke=\"black\"/>\n",
       "</g>\n",
       "<!-- N_CR_model_with_sys -->\n",
       "<g class=\"node\" id=\"node8\"><title>N_CR_model_with_sys</title>\n",
       "<ellipse cx=\"490\" cy=\"-297\" fill=\"none\" rx=\"103.417\" ry=\"26.7407\" stroke=\"red\"/>\n",
       "<text font-family=\"Times,serif\" font-size=\"14.00\" text-anchor=\"middle\" x=\"490\" y=\"-300.8\">RooPoisson</text>\n",
       "<text font-family=\"Times,serif\" font-size=\"14.00\" text-anchor=\"middle\" x=\"490\" y=\"-285.8\">N_CR_model_with_sys</text>\n",
       "</g>\n",
       "<!-- model_with_sys&#45;&gt;N_CR_model_with_sys -->\n",
       "<g class=\"edge\" id=\"edge6\"><title>model_with_sys-&gt;N_CR_model_with_sys</title>\n",
       "<path d=\"M490,-360.073C490,-351.999 490,-342.943 490,-334.296\" fill=\"none\" stroke=\"black\"/>\n",
       "<polygon fill=\"black\" points=\"493.5,-334.046 490,-324.046 486.5,-334.046 493.5,-334.046\" stroke=\"black\"/>\n",
       "</g>\n",
       "<!-- n_sr -->\n",
       "<g class=\"node\" id=\"node4\"><title>n_sr</title>\n",
       "<ellipse cx=\"59\" cy=\"-207\" fill=\"none\" rx=\"59.096\" ry=\"26.7407\" stroke=\"blue\"/>\n",
       "<text font-family=\"Times,serif\" font-size=\"14.00\" text-anchor=\"middle\" x=\"59\" y=\"-210.8\">RooRealVar</text>\n",
       "<text font-family=\"Times,serif\" font-size=\"14.00\" text-anchor=\"middle\" x=\"59\" y=\"-195.8\">n_sr</text>\n",
       "</g>\n",
       "<!-- N_SR&#45;&gt;n_sr -->\n",
       "<g class=\"edge\" id=\"edge8\"><title>N_SR-&gt;n_sr</title>\n",
       "<path d=\"M164.706,-274.922C145.591,-262.82 121.406,-247.509 100.995,-234.587\" fill=\"none\" stroke=\"black\"/>\n",
       "<polygon fill=\"black\" points=\"102.825,-231.603 92.504,-229.211 99.081,-237.518 102.825,-231.603\" stroke=\"black\"/>\n",
       "</g>\n",
       "<!-- s_plus_b -->\n",
       "<g class=\"node\" id=\"node5\"><title>s_plus_b</title>\n",
       "<ellipse cx=\"198\" cy=\"-207\" fill=\"none\" rx=\"61.2774\" ry=\"26.7407\" stroke=\"red\"/>\n",
       "<text font-family=\"Times,serif\" font-size=\"14.00\" text-anchor=\"middle\" x=\"198\" y=\"-210.8\">RooAddition</text>\n",
       "<text font-family=\"Times,serif\" font-size=\"14.00\" text-anchor=\"middle\" x=\"198\" y=\"-195.8\">s_plus_b</text>\n",
       "</g>\n",
       "<!-- N_SR&#45;&gt;s_plus_b -->\n",
       "<g class=\"edge\" id=\"edge7\"><title>N_SR-&gt;s_plus_b</title>\n",
       "<path d=\"M198,-270.073C198,-261.999 198,-252.943 198,-244.296\" fill=\"none\" stroke=\"black\"/>\n",
       "<polygon fill=\"black\" points=\"201.5,-244.046 198,-234.046 194.5,-244.046 201.5,-244.046\" stroke=\"black\"/>\n",
       "</g>\n",
       "<!-- s -->\n",
       "<g class=\"node\" id=\"node6\"><title>s</title>\n",
       "<ellipse cx=\"198\" cy=\"-117\" fill=\"none\" rx=\"59.096\" ry=\"26.7407\" stroke=\"blue\"/>\n",
       "<text font-family=\"Times,serif\" font-size=\"14.00\" text-anchor=\"middle\" x=\"198\" y=\"-120.8\">RooRealVar</text>\n",
       "<text font-family=\"Times,serif\" font-size=\"14.00\" text-anchor=\"middle\" x=\"198\" y=\"-105.8\">s</text>\n",
       "</g>\n",
       "<!-- s_plus_b&#45;&gt;s -->\n",
       "<g class=\"edge\" id=\"edge3\"><title>s_plus_b-&gt;s</title>\n",
       "<path d=\"M198,-180.073C198,-171.999 198,-162.943 198,-154.296\" fill=\"none\" stroke=\"black\"/>\n",
       "<polygon fill=\"black\" points=\"201.5,-154.046 198,-144.046 194.5,-154.046 201.5,-154.046\" stroke=\"black\"/>\n",
       "</g>\n",
       "<!-- b -->\n",
       "<g class=\"node\" id=\"node7\"><title>b</title>\n",
       "<ellipse cx=\"361\" cy=\"-117\" fill=\"none\" rx=\"59.096\" ry=\"26.7407\" stroke=\"blue\"/>\n",
       "<text font-family=\"Times,serif\" font-size=\"14.00\" text-anchor=\"middle\" x=\"361\" y=\"-120.8\">RooRealVar</text>\n",
       "<text font-family=\"Times,serif\" font-size=\"14.00\" text-anchor=\"middle\" x=\"361\" y=\"-105.8\">b</text>\n",
       "</g>\n",
       "<!-- s_plus_b&#45;&gt;b -->\n",
       "<g class=\"edge\" id=\"edge4\"><title>s_plus_b-&gt;b</title>\n",
       "<path d=\"M235.805,-185.59C259.426,-172.838 289.998,-156.332 315.018,-142.825\" fill=\"none\" stroke=\"black\"/>\n",
       "<polygon fill=\"black\" points=\"316.825,-145.827 323.962,-137.996 313.5,-139.667 316.825,-145.827\" stroke=\"black\"/>\n",
       "</g>\n",
       "<!-- n_cr -->\n",
       "<g class=\"node\" id=\"node9\"><title>n_cr</title>\n",
       "<ellipse cx=\"337\" cy=\"-207\" fill=\"none\" rx=\"59.096\" ry=\"26.7407\" stroke=\"blue\"/>\n",
       "<text font-family=\"Times,serif\" font-size=\"14.00\" text-anchor=\"middle\" x=\"337\" y=\"-210.8\">RooRealVar</text>\n",
       "<text font-family=\"Times,serif\" font-size=\"14.00\" text-anchor=\"middle\" x=\"337\" y=\"-195.8\">n_cr</text>\n",
       "</g>\n",
       "<!-- N_CR_model_with_sys&#45;&gt;n_cr -->\n",
       "<g class=\"edge\" id=\"edge11\"><title>N_CR_model_with_sys-&gt;n_cr</title>\n",
       "<path d=\"M448.596,-272.186C427.843,-260.25 402.69,-245.783 381.522,-233.607\" fill=\"none\" stroke=\"black\"/>\n",
       "<polygon fill=\"black\" points=\"383.131,-230.495 372.718,-228.544 379.641,-236.563 383.131,-230.495\" stroke=\"black\"/>\n",
       "</g>\n",
       "<!-- alpha_x_b_model_with_sys -->\n",
       "<g class=\"node\" id=\"node10\"><title>alpha_x_b_model_with_sys</title>\n",
       "<ellipse cx=\"534\" cy=\"-207\" fill=\"none\" rx=\"119.252\" ry=\"26.7407\" stroke=\"red\"/>\n",
       "<text font-family=\"Times,serif\" font-size=\"14.00\" text-anchor=\"middle\" x=\"534\" y=\"-210.8\">RooProduct</text>\n",
       "<text font-family=\"Times,serif\" font-size=\"14.00\" text-anchor=\"middle\" x=\"534\" y=\"-195.8\">alpha_x_b_model_with_sys</text>\n",
       "</g>\n",
       "<!-- N_CR_model_with_sys&#45;&gt;alpha_x_b_model_with_sys -->\n",
       "<g class=\"edge\" id=\"edge12\"><title>N_CR_model_with_sys-&gt;alpha_x_b_model_with_sys</title>\n",
       "<path d=\"M502.963,-270.073C507.215,-261.569 512.012,-251.975 516.541,-242.918\" fill=\"none\" stroke=\"black\"/>\n",
       "<polygon fill=\"black\" points=\"519.787,-244.251 521.129,-233.742 513.526,-241.121 519.787,-244.251\" stroke=\"black\"/>\n",
       "</g>\n",
       "<!-- alpha_x_b_model_with_sys&#45;&gt;b -->\n",
       "<g class=\"edge\" id=\"edge14\"><title>alpha_x_b_model_with_sys-&gt;b</title>\n",
       "<path d=\"M487.184,-182.186C462.782,-169.774 433.002,-154.625 408.501,-142.162\" fill=\"none\" stroke=\"black\"/>\n",
       "<polygon fill=\"black\" points=\"409.892,-138.943 399.392,-137.529 406.718,-145.182 409.892,-138.943\" stroke=\"black\"/>\n",
       "</g>\n",
       "<!-- kalpha -->\n",
       "<g class=\"node\" id=\"node11\"><title>kalpha</title>\n",
       "<ellipse cx=\"539\" cy=\"-117\" fill=\"none\" rx=\"74.4303\" ry=\"26.7407\" stroke=\"red\"/>\n",
       "<text font-family=\"Times,serif\" font-size=\"14.00\" text-anchor=\"middle\" x=\"539\" y=\"-120.8\">RooFormulaVar</text>\n",
       "<text font-family=\"Times,serif\" font-size=\"14.00\" text-anchor=\"middle\" x=\"539\" y=\"-105.8\">kalpha</text>\n",
       "</g>\n",
       "<!-- alpha_x_b_model_with_sys&#45;&gt;kalpha -->\n",
       "<g class=\"edge\" id=\"edge13\"><title>alpha_x_b_model_with_sys-&gt;kalpha</title>\n",
       "<path d=\"M535.473,-180.073C535.932,-171.999 536.446,-162.943 536.938,-154.296\" fill=\"none\" stroke=\"black\"/>\n",
       "<polygon fill=\"black\" points=\"540.447,-154.228 537.52,-144.046 533.458,-153.831 540.447,-154.228\" stroke=\"black\"/>\n",
       "</g>\n",
       "<!-- sigma_alpha -->\n",
       "<g class=\"node\" id=\"node12\"><title>sigma_alpha</title>\n",
       "<ellipse cx=\"539\" cy=\"-27\" fill=\"none\" rx=\"60.2186\" ry=\"26.7407\" stroke=\"blue\"/>\n",
       "<text font-family=\"Times,serif\" font-size=\"14.00\" text-anchor=\"middle\" x=\"539\" y=\"-30.8\">RooRealVar</text>\n",
       "<text font-family=\"Times,serif\" font-size=\"14.00\" text-anchor=\"middle\" x=\"539\" y=\"-15.8\">sigma_alpha</text>\n",
       "</g>\n",
       "<!-- kalpha&#45;&gt;sigma_alpha -->\n",
       "<g class=\"edge\" id=\"edge9\"><title>kalpha-&gt;sigma_alpha</title>\n",
       "<path d=\"M539,-90.0731C539,-81.9993 539,-72.9428 539,-64.2961\" fill=\"none\" stroke=\"black\"/>\n",
       "<polygon fill=\"black\" points=\"542.5,-64.0457 539,-54.0457 535.5,-64.0458 542.5,-64.0457\" stroke=\"black\"/>\n",
       "</g>\n",
       "<!-- theta_alpha -->\n",
       "<g class=\"node\" id=\"node13\"><title>theta_alpha</title>\n",
       "<ellipse cx=\"679\" cy=\"-27\" fill=\"none\" rx=\"59.096\" ry=\"26.7407\" stroke=\"blue\"/>\n",
       "<text font-family=\"Times,serif\" font-size=\"14.00\" text-anchor=\"middle\" x=\"679\" y=\"-30.8\">RooRealVar</text>\n",
       "<text font-family=\"Times,serif\" font-size=\"14.00\" text-anchor=\"middle\" x=\"679\" y=\"-15.8\">theta_alpha</text>\n",
       "</g>\n",
       "<!-- kalpha&#45;&gt;theta_alpha -->\n",
       "<g class=\"edge\" id=\"edge10\"><title>kalpha-&gt;theta_alpha</title>\n",
       "<path d=\"M575.053,-93.3378C593.742,-81.5908 616.69,-67.1664 636.266,-54.8615\" fill=\"none\" stroke=\"black\"/>\n",
       "<polygon fill=\"black\" points=\"638.392,-57.6593 644.995,-49.3743 634.666,-51.7328 638.392,-57.6593\" stroke=\"black\"/>\n",
       "</g>\n",
       "<!-- constraint_alpha&#45;&gt;theta_alpha -->\n",
       "<g class=\"edge\" id=\"edge16\"><title>constraint_alpha-&gt;theta_alpha</title>\n",
       "<path d=\"M713.575,-360.336C708.826,-349.39 703.868,-336.321 701,-324 679.65,-232.294 677.57,-120.701 678.128,-64.3306\" fill=\"none\" stroke=\"black\"/>\n",
       "<polygon fill=\"black\" points=\"681.63,-64.1858 678.264,-54.1398 674.631,-64.0921 681.63,-64.1858\" stroke=\"black\"/>\n",
       "</g>\n",
       "<!-- 1 -->\n",
       "<g class=\"node\" id=\"node15\"><title>1</title>\n",
       "<ellipse cx=\"774\" cy=\"-297\" fill=\"none\" rx=\"64.0209\" ry=\"26.7407\" stroke=\"red\"/>\n",
       "<text font-family=\"Times,serif\" font-size=\"14.00\" text-anchor=\"middle\" x=\"774\" y=\"-300.8\">RooConstVar</text>\n",
       "<text font-family=\"Times,serif\" font-size=\"14.00\" text-anchor=\"middle\" x=\"774\" y=\"-285.8\">1</text>\n",
       "</g>\n",
       "<!-- constraint_alpha&#45;&gt;1 -->\n",
       "<g class=\"edge\" id=\"edge17\"><title>constraint_alpha-&gt;1</title>\n",
       "<path d=\"M739.884,-360.547C744.71,-351.699 750.203,-341.627 755.351,-332.189\" fill=\"none\" stroke=\"black\"/>\n",
       "<polygon fill=\"black\" points=\"758.432,-333.851 760.148,-323.396 752.286,-330.499 758.432,-333.851\" stroke=\"black\"/>\n",
       "</g>\n",
       "<!-- global_alpha -->\n",
       "<g class=\"node\" id=\"node16\"><title>global_alpha</title>\n",
       "<ellipse cx=\"917\" cy=\"-297\" fill=\"none\" rx=\"60.2186\" ry=\"26.7407\" stroke=\"blue\"/>\n",
       "<text font-family=\"Times,serif\" font-size=\"14.00\" text-anchor=\"middle\" x=\"917\" y=\"-300.8\">RooRealVar</text>\n",
       "<text font-family=\"Times,serif\" font-size=\"14.00\" text-anchor=\"middle\" x=\"917\" y=\"-285.8\">global_alpha</text>\n",
       "</g>\n",
       "<!-- constraint_alpha&#45;&gt;global_alpha -->\n",
       "<g class=\"edge\" id=\"edge15\"><title>constraint_alpha-&gt;global_alpha</title>\n",
       "<path d=\"M770.781,-365.368C799.535,-352.12 836.93,-334.891 866.705,-321.173\" fill=\"none\" stroke=\"black\"/>\n",
       "<polygon fill=\"black\" points=\"868.466,-324.215 876.083,-316.852 865.536,-317.857 868.466,-324.215\" stroke=\"black\"/>\n",
       "</g>\n",
       "</g>\n",
       "</svg>"
      ],
      "text/plain": [
       "<IPython.core.display.SVG object>"
      ]
     },
     "execution_count": 80,
     "metadata": {},
     "output_type": "execute_result"
    }
   ],
   "source": [
    "model.graphVizTree(\"on_off_with_sys_graph.dot\")\n",
    "!dot -Tsvg on_off_with_sys_graph.dot > on_off_with_sys_graph.svg; rm on_off_with_sys_graph.dot\n",
    "s = SVG(\"on_off_with_sys_graph.svg\")\n",
    "s.data = s.data.replace('width=\"985pt\"', 'width=\"90%\"'); s"
   ]
  },
  {
   "cell_type": "code",
   "execution_count": 81,
   "metadata": {
    "collapsed": false,
    "slideshow": {
     "slide_type": "subslide"
    }
   },
   "outputs": [
    {
     "data": {
      "text/plain": [
       "False"
      ]
     },
     "execution_count": 81,
     "metadata": {},
     "output_type": "execute_result"
    }
   ],
   "source": [
    "sbModel = ROOT.RooStats.ModelConfig(ws_onoff_sys)\n",
    "sbModel.SetPdf('model_constrained')\n",
    "sbModel.SetParametersOfInterest('s')\n",
    "sbModel.SetObservables('n_sr,n_cr')\n",
    "sbModel.SetNuisanceParameters('theta_alpha')\n",
    "ws_onoff_sys.var('s').setVal(30)\n",
    "sbModel.SetSnapshot(ROOT.RooArgSet(ws_onoff_sys.var('s')))\n",
    "getattr(ws_onoff_sys, 'import')(sbModel)\n",
    "\n",
    "bModel = sbModel.Clone(\"bModel\")\n",
    "ws_onoff_sys.var('s').setVal(0)\n",
    "bModel.SetSnapshot(bModel.GetParametersOfInterest())\n",
    "getattr(ws_onoff_sys, 'import')(bModel)\n",
    "\n",
    "ws_onoff_sys.writeToFile('onoff_sys.root')"
   ]
  },
  {
   "cell_type": "code",
   "execution_count": 82,
   "metadata": {
    "collapsed": false
   },
   "outputs": [
    {
     "name": "stdout",
     "output_type": "stream",
     "text": [
      "observed  N_SR = 69, N_CR = 57\n",
      "best fit\n",
      "SR     12.0     57.0\n",
      "CR              57.0\n",
      "RooRealVar::s = 30  L(0 - 100) \r\n",
      "\r\n",
      "[#1] INFO:Minization --  Including the following contraint terms in minimization: (constraint_alpha)\r\n",
      "[#1] INFO:Fitting -- RooAddition::defaultErrorLevel(nll_model_constrained_model_constrainedData_with_constr) Summation contains a RooNLLVar, using its error level\r\n",
      "[#1] INFO:Minization -- RooMinuit::optimizeConst: activating const optimization\r\n",
      "[#1] INFO:Minization --  The following expressions will be evaluated in cache-and-track mode: (N_SR,N_CR_model_with_sys)\r\n",
      " **********\r\n",
      " **   13 **MIGRAD        1500           1\r\n",
      " **********\r\n",
      " FIRST CALL TO USER FUNCTION AT NEW START POINT, WITH IFLAG=4.\r\n",
      " START MIGRAD MINIMIZATION.  STRATEGY  1.  CONVERGENCE WHEN EDM .LT. 1.00e-03\r\n",
      " FCN=8.16019 FROM MIGRAD    STATUS=INITIATE       12 CALLS          13 TOTAL\r\n",
      "                     EDM= unknown      STRATEGY= 1      NO ERROR MATRIX       \r\n",
      "  EXT PARAMETER               CURRENT GUESS       STEP         FIRST   \r\n",
      "  NO.   NAME      VALUE            ERROR          SIZE      DERIVATIVE \r\n",
      "   1  b            5.00000e+01   1.00000e+01   2.01358e-01  -1.25001e-01\r\n",
      "   2  s            3.00000e+01   1.00000e+01   2.21072e-01   6.30104e+00\r\n",
      "   3  theta_alpha   0.00000e+00   1.00000e+00   2.01358e-01  -3.50000e+00\r\n",
      "                               ERR DEF= 0.5\r\n",
      " MIGRAD MINIMIZATION HAS CONVERGED.\r\n",
      " MIGRAD WILL VERIFY CONVERGENCE AND ERROR MATRIX.\r\n",
      " COVARIANCE MATRIX CALCULATED SUCCESSFULLY\r\n",
      " FCN=6.89809 FROM MIGRAD    STATUS=CONVERGED      59 CALLS          60 TOTAL\r\n",
      "                     EDM=5.37318e-05    STRATEGY= 1      ERROR MATRIX ACCURATE \r\n",
      "  EXT PARAMETER                                   STEP         FIRST   \r\n",
      "  NO.   NAME      VALUE            ERROR          SIZE      DERIVATIVE \r\n",
      "   1  b            5.70259e+01   9.39690e+00   2.11253e-04   3.81226e-02\r\n",
      "   2  s            1.20244e+01   1.22599e+01   4.68286e-04   2.36918e-02\r\n",
      "   3  theta_alpha  -4.12061e-03   9.92929e-01   3.00017e-04  -1.94144e-02\r\n",
      "                               ERR DEF= 0.5\r\n",
      " EXTERNAL ERROR MATRIX.    NDIM=  25    NPAR=  3    ERR DEF=0.5\r\n",
      "  8.938e+01 -8.921e+01 -5.691e+00 \r\n",
      " -8.921e+01  1.580e+02  5.680e+00 \r\n",
      " -5.691e+00  5.680e+00  9.991e-01 \r\n",
      " PARAMETER  CORRELATION COEFFICIENTS  \r\n",
      "       NO.  GLOBAL      1      2      3\r\n",
      "        1  0.80644   1.000 -0.751 -0.602\r\n",
      "        2  0.75066  -0.751  1.000  0.452\r\n",
      "        3  0.60225  -0.602  0.452  1.000\r\n",
      " **********\r\n",
      " **   18 **HESSE        1500\r\n",
      " **********\r\n",
      " COVARIANCE MATRIX CALCULATED SUCCESSFULLY\r\n",
      " FCN=6.89809 FROM HESSE     STATUS=OK             16 CALLS          76 TOTAL\r\n",
      "                     EDM=5.37304e-05    STRATEGY= 1      ERROR MATRIX ACCURATE \r\n",
      "  EXT PARAMETER                                INTERNAL      INTERNAL  \r\n",
      "  NO.   NAME      VALUE            ERROR       STEP SIZE       VALUE   \r\n",
      "   1  b            5.70259e+01   9.39806e+00   4.22506e-05   1.40984e-01\r\n",
      "   2  s            1.20244e+01   1.22613e+01   9.36572e-05  -8.62562e-01\r\n",
      "   3  theta_alpha  -4.12061e-03   9.92978e-01   6.00033e-05  -8.24121e-04\r\n",
      "                               ERR DEF= 0.5\r\n",
      " EXTERNAL ERROR MATRIX.    NDIM=  25    NPAR=  3    ERR DEF=0.5\r\n",
      "  8.941e+01 -8.924e+01 -5.693e+00 \r\n",
      " -8.924e+01  1.581e+02  5.682e+00 \r\n",
      " -5.693e+00  5.682e+00  9.992e-01 \r\n",
      " PARAMETER  CORRELATION COEFFICIENTS  \r\n",
      "       NO.  GLOBAL      1      2      3\r\n",
      "        1  0.80650   1.000 -0.751 -0.602\r\n",
      "        2  0.75073  -0.751  1.000  0.452\r\n",
      "        3  0.60230  -0.602  0.452  1.000\r\n",
      "[#1] INFO:Minization -- RooMinuit::optimizeConst: deactivating const optimization\r\n"
     ]
    }
   ],
   "source": [
    "sbModel.LoadSnapshot()\n",
    "ws_onoff_sys.var('s').Print()\n",
    "data = model.generate(bModel.GetObservables(), 1)\n",
    "print \"observed  N_SR = %.f, N_CR = %.f\" % tuple([x.getVal() for x in iter_collection(data.get(0))])\n",
    "model.fitTo(data)\n",
    "print \"best fit\"\n",
    "print \"SR {:>8.1f} {:>8.1f}\".format(ws_onoff_sys.var('s').getVal(), ws_onoff_sys.var('b').getVal())\n",
    "print \"CR          {:>8.1f}\".format(ws_onoff_sys.function('alpha_x_b_model_with_sys').getVal())"
   ]
  },
  {
   "cell_type": "code",
   "execution_count": 83,
   "metadata": {
    "collapsed": false
   },
   "outputs": [
    {
     "name": "stdout",
     "output_type": "stream",
     "text": [
      "[#1] INFO:Minization --  Including the following contraint terms in minimization: (constraint_alpha)\r\n",
      "[#1] INFO:Minization -- RooProfileLL::evaluate(nll_model_constrained_model_constrainedData_with_constr_Profile[s]) Creating instance of MINUIT\r\n",
      "[#1] INFO:Fitting -- RooAddition::defaultErrorLevel(nll_model_constrained_model_constrainedData_with_constr) Summation contains a RooNLLVar, using its error level\r\n",
      "[#1] INFO:Minization -- RooProfileLL::evaluate(nll_model_constrained_model_constrainedData_with_constr_Profile[s]) determining minimum likelihood for current configurations w.r.t all observable\r\n",
      "[#1] INFO:Minization -- RooProfileLL::evaluate(nll_model_constrained_model_constrainedData_with_constr_Profile[s]) minimum found at (s=11.9615)\r\n",
      "..........................................................................................................................................................................................................\r\n",
      "[#1] INFO:Minization -- RooProfileLL::evaluate(nll_model_constrained_model_constrainedData_with_constr_Profile[s]) Creating instance of MINUIT\r\n",
      "[#1] INFO:Fitting -- RooAddition::defaultErrorLevel(nll_model_constrained_model_constrainedData_with_constr) Summation contains a RooNLLVar, using its error level\r\n",
      "[#1] INFO:Minization -- RooProfileLL::evaluate(nll_model_constrained_model_constrainedData_with_constr_Profile[s]) determining minimum likelihood for current configurations w.r.t all observable\r\n",
      "[#1] INFO:Minization -- RooProfileLL::evaluate(nll_model_constrained_model_constrainedData_with_constr_Profile[s]) minimum found at (s=11.9751)\r\n",
      ".........................................................................................................................................................................................................."
     ]
    }
   ],
   "source": [
    "# create profiled log-likelihood as a function of s\n",
    "ws_onoff_sys.var('theta_alpha').setConstant(False)\n",
    "prof = model.createNLL(data).createProfile(ROOT.RooArgSet(ws_onoff_sys.var('s')))\n",
    "# multiply by 2\n",
    "minus2LL = ROOT.RooFormulaVar(\"minus2LL\", \"2 * @0\", ROOT.RooArgList(prof))\n",
    "frame = ws_onoff.var('s').frame(0, 60)\n",
    "minus2LL.plotOn(frame)\n",
    "\n",
    "ws_onoff_sys.var('theta_alpha').setConstant(True)\n",
    "minus2LL.plotOn(frame, ROOT.RooFit.LineColor(ROOT.kRed))\n",
    "frame.SetYTitle(\"-2 log#Lambda(s)\")"
   ]
  },
  {
   "cell_type": "code",
   "execution_count": 84,
   "metadata": {
    "collapsed": false
   },
   "outputs": [
    {
     "data": {
      "image/png": "[encoded data removed]",
      "text/plain": [
       "<IPython.core.display.Image object>"
      ]
     },
     "metadata": {},
     "output_type": "display_data"
    }
   ],
   "source": [
    "canvas = ROOT.TCanvas()\n",
    "frame.Draw()\n",
    "canvas.Draw()"
   ]
  },
  {
   "cell_type": "markdown",
   "metadata": {},
   "source": [
    "### (Big) exercize\n",
    "\n",
    "Suppose you are looking for a signal in a SR. There are two main background on the signal region, due to two different physical processes, B1 and B2. You also have two CRs. The simulation predicts the following countings for an equivalent luminosity of 1/fb.\n",
    "\n",
    "|     |  SR |CR1|CR2|\n",
    "|-----|-----|-----|-----|\n",
    "|  B1 |  10 | 100 | 20  |\n",
    "|  B2 |  20 |  30 | 500 |\n",
    "\n",
    "You don't trust the cross section of the background, so you assume a degree of freedom for every process. For example:\n",
    "\n",
    "$$n_{B1}^{SR,exp} = L\\times k_{B1}\\times n_{B1}^{SR,mc}$$\n",
    "$$n_{B1}^{CR1,exp} = L\\times k_{B1}\\times n_{B1}^{CR1,mc}$$\n",
    "\n",
    "where $L$ is the observed luminosity. Note that we are using the correlation between SR/CR1/CR2 of the simulation. Assume  L=10/fb +/- 5%. \n",
    "\n",
    "Suppose you analysis is blinded (you haven't look to the signal region) and you observe: CR1=1509, CR2=5017 events.\n",
    "\n",
    "How many events do you have to observe in the signal region to claim a discovery at 3 sigma (what is the acceptance region)? What is the impact of the systematics? Bonus: take into account the MC statistical uncertainty of 3% for every prediction.\n",
    "\n",
    "For this kind of analyses usually [HistFactory](https://twiki.cern.ch/twiki/bin/view/RooStats/HistFactory) is used to produce the workspace."
   ]
  },
  {
   "cell_type": "markdown",
   "metadata": {
    "slideshow": {
     "slide_type": "slide"
    }
   },
   "source": [
    "## Shape analysis\n",
    "\n",
    "In more complicate analysis you don't look just to the number of events in specific region but you look to the distribution of the events as a function of a continuos variable (e.g. invariant mass).\n",
    "\n",
    "$$L(\\alpha|\\{m_i\\}_{i=1}^n) = \\text{Pois}[n|N_s(\\alpha) + N_b(\\alpha)] \\prod_{i=1}^n\\left(\\frac{N_s(\\alpha) f_s[m_i|\\alpha] + N_b(\\alpha) f_b[m_i|\\alpha]}{N_s(\\alpha)+N_b(\\alpha)}\\right)\\times\\prod_j L(a_j|\\alpha_j)$$\n",
    "\n",
    "Where $\\alpha$ is a set of nuisance parameters, $\\{m_i\\}_{i=1}^n$ are the data, $N_s$ and $N_b$ the predicted number of signal and background events, $f_s$ and $f_b$ the pdf describing the continuos observable.\n",
    "\n",
    "The last term is the product of all the constraints of the nuisance parameters (not all the nuisance parameters need to be constrained by auxiliary measurements). The other term is the extended likelihood of the s+b model.\n",
    "\n",
    "If the signal is localised the background shape can be fully data-driven. This means that the nuisance parameters for the background shape are completely free."
   ]
  },
  {
   "cell_type": "markdown",
   "metadata": {
    "slideshow": {
     "slide_type": "subslide"
    }
   },
   "source": [
    "### Example model\n",
    "\n",
    "Suppose we observe the invariant mass distribution and we are searching for a narrow resonance in the spectrum. Our signal + background model is (after many careful studies) an exponential plus a gaussian. We also know the expected number of events for the signal under a particular theory. We want to be able to parametrize also similar model, where the number of signal events is multiplied by the \"signal multiplier\", $\\mu$. So we will write the number of signal events as $\\mu n_{exp}$ where $n_{exp}$ are the one from the nominal theory. In this way we can also write the background-only model as the special case for $\\mu=0$. The number of background events are not well know by the theory, so we can estimate them from data, which means that $n_b$ is a nuisance parameters in the model."
   ]
  },
  {
   "cell_type": "code",
   "execution_count": 85,
   "metadata": {
    "collapsed": false,
    "slideshow": {
     "slide_type": "subslide"
    }
   },
   "outputs": [
    {
     "data": {
      "text/plain": [
       "<ROOT.RooProdPdf object (\"constraints\") at 0x107b0f30>"
      ]
     },
     "execution_count": 85,
     "metadata": {},
     "output_type": "execute_result"
    }
   ],
   "source": [
    "ws = ROOT.RooWorkspace(\"ws_shape\")\n",
    "ws.factory(\"mH[125, 110, 190]\")  # mass of the resonance\n",
    "ws.factory(\"mass[100, 200]\")  # observed invariant mass\n",
    "ws.factory('expr:kpeak(\"1 + @0 * @1\", {sigma_mH[0.1], theta_mH[0, -5, 5]})')\n",
    "ws.factory('expr:peak(\"@0 * @1\", {mH, kpeak})')   # peak position for signal\n",
    "ws.factory('expr:kwidth(\"1 + @0 * @1\", {sigma_width[0.05], theta_width[0, -5, 5]})')\n",
    "ws.factory('expr:width(\"@0 * @1\", {nominal_width[100], kwidth})')\n",
    "ws.factory(\"RooGaussian:signal(mass, peak, width)\")\n",
    "ws.factory(\"RooExponential:background(mass, tau[-0.1, -0.5, -0.01])\")\n",
    "ws.factory(\"nbkg[0, 1000]\")\n",
    "ws.factory('expr:lumi(\"@0 * (1 + exp(@1 * @2))\", {nominal_lumi[25], sigma_lumi[0.02], theta_lumi[0, -5, 5]})')\n",
    "ws.factory('expr:efficiency(\"@0 * (1 + exp(@1 * @2))\", {nominal_efficiency[0.6], sigma_efficiency[0.05], theta_efficiency[0, -5, 5]})')\n",
    "ws.factory('expr:nsignal_theory(\"100 + @0 * 0.1\", {mH})')\n",
    "ws.factory('prod:nsignal(nsignal_theory, mu[0, 5])')\n",
    "ws.factory(\"SUM:phys_pdf(nsignal * signal, nbkg * background)\")\n",
    "ws.factory(\"RooGaussian:constrain_peak(global_peak[0, -5, 5], theta_mH, 1)\")\n",
    "ws.factory(\"RooGaussian:constrain_width(global_width[0, -5, 5], theta_width, 1)\")\n",
    "ws.factory(\"RooGaussian:constrain_lumi(global_lumi[0, -5, 5], theta_lumi, 1)\")\n",
    "ws.factory(\"RooGaussian:constrain_eff(global_efficiency[0, -5, 5], theta_efficiency, 1)\")\n",
    "ws.factory(\"PROD:constraints(constrain_peak)\")"
   ]
  },
  {
   "cell_type": "markdown",
   "metadata": {
    "slideshow": {
     "slide_type": "subslide"
    }
   },
   "source": [
    "## Test statistics $t_\\mu$ and $\\tilde{t}_\\mu$\n",
    "\n",
    "$$ t_\\mu = -2\\log\\lambda (\\mu) = -2\\log \\frac{L(\\mu, \\hat{\\hat{\\theta}}(\\mu))}{L(\\hat{\\mu}, \\hat{\\theta})}$$\n",
    "\n",
    "High value means incompatiblity with data. If we want to test a specific $\\mu$ we can compute the p-value $= \\int_{t_{\\mu, obs}}^\\infty f(t_\\mu|\\mu) dt_\\mu$. Values can be excluded because they are too low, or too high.\n",
    "\n",
    "Usually we can assume that $\\mu\\geq 0$, so we need a new test statistic:\n",
    "\n",
    "$$ \\tilde{t}_\\mu = -2\\log \\tilde\\lambda(\\mu)$$\n",
    "\n",
    "$$ \\tilde\\lambda(\\mu) = \\begin{cases} \n",
    "      \\hfill \\frac{L(0, \\hat{\\hat{\\theta}}(\\mu=0))}{L(\\hat{\\mu}, \\hat{\\theta})}    \\hfill & \\mu < 0 \\\\\n",
    "      \\hfill \\frac{L(\\mu, \\hat{\\hat{\\theta}}(\\mu))}{L(\\hat{\\mu}, \\hat{\\theta})} \\hfill & \\mu \\geq 0 \\\\\n",
    "  \\end{cases}$$\n",
    "  \n",
    "Also in this case, values can be excluded because they are too low, or too high."
   ]
  },
  {
   "cell_type": "markdown",
   "metadata": {
    "slideshow": {
     "slide_type": "subslide"
    }
   },
   "source": [
    "## $q_0$ statistics for discovery of positive signal\n",
    "\n",
    "For discovery we want to exclude the hypothesis $s=0$ (background-only), assuming $\\mu\\geq 0$. Defining $q_0 = \\tilde{t}_0$:\n",
    "\n",
    "$$ q_0 = \n",
    "\\begin{cases} \n",
    "-2\\log\\lambda(0)\\qquad &\\hat \\mu\\geq 0 \\\\\n",
    "0\\qquad &\\hat \\mu < 0\n",
    "\\end{cases}\n",
    "$$\n",
    "\n",
    "If $\\hat s<0$ it means that we are observing less events than the one predicted by the background-only model. Since we are truncating the the definition of test statistics we are not considering downward fluctuation as discrepancies with the model. High value of $\\hat\\ s$ means high value of $q_0$ and large discrepancy with the background-only model. The p-value is computed as usual:\n",
    "\n",
    "$$ \\text{p-value} = p_0 = \\int_{q_{0, obs}}^\\infty f(q_0|\\mu=0)\\, dq_0$$\n",
    "\n",
    "### Question\n",
    "If we assume that the background model is true, how many times we will get $\\hat \\mu<0$?"
   ]
  },
  {
   "cell_type": "markdown",
   "metadata": {},
   "source": [
    "## $q_\\mu$ statistic for exclusion\n",
    "Suppose we want to put un upper limit, so we define as null hypothesis to exclude the hypotesis signal+background with $\\mu$ as signal multiplier.\n",
    "\n",
    "$$\n",
    "q_\\mu=\\begin{cases}\n",
    "-2\\log\\lambda(\\mu)\\qquad & \\hat\\mu \\leq \\mu\\\\\n",
    "0 \\qquad & \\hat\\mu > \\mu\n",
    "\\end{cases}\n",
    "$$\n",
    "\n",
    "we set $q_\\mu=0$ when observing a value of $\\mu$ greater than the one we are observing since we don't want it to enter in the rejection region when doing an upper limit; we don't want that upper fluctuation count as bad agreement with data. The p-value is computed in the usual way, assuming the null-hypothesis ($\\mu$) true:\n",
    "\n",
    "$$ \\text{p-value} = p_\\mu = \\int_{q_{\\mu, obs}}^\\infty f(q_\\mu|\\mu)\\, dq_\\mu$$\n",
    "\n",
    "\n",
    "### Questions\n",
    "What is the relation between $q_\\mu$ and $q_0$? Are you looking in the same tail of $\\mu$?"
   ]
  },
  {
   "cell_type": "markdown",
   "metadata": {
    "slideshow": {
     "slide_type": "subslide"
    }
   },
   "source": [
    "## Alternative test $\\tilde{q}_\\mu$ for exclusion"
   ]
  },
  {
   "cell_type": "markdown",
   "metadata": {
    "slideshow": {
     "slide_type": "slide"
    }
   },
   "source": [
    "## The CLs problem\n",
    "\n",
    "Suppose you have a counting experiments. You know $b=3$, you observe $n=0$. What is the exclusion for $s$ at 5%? If we use directly the number of observed events as test statistics:\n",
    "\n",
    "$$\\text{p-value} = P(n\\leq n_{obs}|s + b) = \\sum_{0\\leq n\\leq n_{obs}} Pois(n|\\lambda=s+b)$$"
   ]
  },
  {
   "cell_type": "code",
   "execution_count": 86,
   "metadata": {
    "collapsed": false
   },
   "outputs": [
    {
     "data": {
      "image/png": "[encoded data removed]",
      "text/plain": [
       "<matplotlib.figure.Figure at 0xe76a050>"
      ]
     },
     "metadata": {},
     "output_type": "display_data"
    }
   ],
   "source": [
    "b = 3; s = np.linspace(0, 5, 50)\n",
    "pvalue_sb = stats.poisson(b + s).cdf(0)\n",
    "plt.plot(s, pvalue_sb);"
   ]
  },
  {
   "cell_type": "markdown",
   "metadata": {
    "slideshow": {
     "slide_type": "fragment"
    }
   },
   "source": [
    "All the value of $s$ are excluded! Also $s=0$. The problem is that the experiment is not able to distinguish very small value of $s$ with respect to $s=0$. So, the p-value should be corrected."
   ]
  },
  {
   "cell_type": "code",
   "execution_count": 87,
   "metadata": {
    "collapsed": false,
    "slideshow": {
     "slide_type": "subslide"
    }
   },
   "outputs": [
    {
     "data": {
      "image/png": "[encoded data removed]",
      "text/plain": [
       "<matplotlib.figure.Figure at 0x10615b10>"
      ]
     },
     "metadata": {},
     "output_type": "display_data"
    }
   ],
   "source": [
    "x = np.arange(0, 12)\n",
    "y1 = stats.poisson(3).pmf(x)\n",
    "y2 = stats.poisson(3 + 1).pmf(x)\n",
    "plt.plot(x, y1, drawstyle=\"steps-post\", label='s=0');\n",
    "plt.plot(x, y2, drawstyle=\"steps-post\", label='s=1');\n",
    "plt.vlines(1, 0, 0.3)\n",
    "plt.xlim(-1.4, 12)\n",
    "plt.legend();"
   ]
  },
  {
   "cell_type": "code",
   "execution_count": 88,
   "metadata": {
    "collapsed": false
   },
   "outputs": [
    {
     "data": {
      "text/plain": [
       "0.95021293163213605"
      ]
     },
     "execution_count": 88,
     "metadata": {},
     "output_type": "execute_result"
    }
   ],
   "source": [
    "pvalue_b = stats.poisson(b).sf(0)\n",
    "pvalue_b"
   ]
  }
 ],
 "metadata": {
  "celltoolbar": "Slideshow",
  "hide_input": false,
  "kernelspec": {
   "display_name": "Python 2",
   "language": "python",
   "name": "python2"
  },
  "language_info": {
   "codemirror_mode": {
    "name": "ipython",
    "version": 2
   },
   "file_extension": ".py",
   "mimetype": "text/x-python",
   "name": "python",
   "nbconvert_exporter": "python",
   "pygments_lexer": "ipython2",
   "version": "2.7.10"
  },
  "latex_envs": {
   "bibliofile": "biblio.bib",
   "cite_by": "apalike",
   "current_citInitial": 1,
   "eqLabelWithNumbers": true,
   "eqNumInitial": 0
  }
 },
 "nbformat": 4,
 "nbformat_minor": 0
}
