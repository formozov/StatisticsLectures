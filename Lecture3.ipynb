{
 "cells": [
  {
   "cell_type": "code",
   "execution_count": 1,
   "metadata": {
    "collapsed": false,
    "slideshow": {
     "slide_type": "skip"
    }
   },
   "outputs": [
    {
     "data": {
      "application/javascript": [
       "require(['codemirror/mode/clike/clike'], function(Clike) { console.log('ROOTaaS - C++ CodeMirror module loaded'); });"
      ]
     },
     "metadata": {},
     "output_type": "display_data"
    },
    {
     "data": {
      "application/javascript": [
       "IPython.CodeCell.config_defaults.highlight_modes['magic_text/x-c++src'] = {'reg':[/^%%cpp/]};"
      ]
     },
     "metadata": {},
     "output_type": "display_data"
    },
    {
     "name": "stdout",
     "output_type": "stream",
     "text": [
      "Welcome to ROOTaaS 6.06/00\n",
      "\r\n",
      "\u001b[1mRooFit v3.60 -- Developed by Wouter Verkerke and David Kirkby\u001b[0m \r\n",
      "                Copyright (C) 2000-2013 NIKHEF, University of California & Stanford University\r\n",
      "                All rights reserved, please read http://roofit.sourceforge.net/license.txt\r\n",
      "\r\n"
     ]
    }
   ],
   "source": [
    "from matplotlib import pyplot as plt\n",
    "import numpy as np\n",
    "from scipy import stats\n",
    "import pandas as pd\n",
    "from IPython.display import HTML, IFrame, Image, SVG, Latex\n",
    "import re\n",
    "import ROOT\n",
    "from ROOT import RooFit, RooStats\n",
    "%matplotlib inline\n",
    "#%matplotlib nbagg\n",
    "#%matplotlib notebook\n",
    "from ipywidgets import interact, interactive, fixed\n",
    "import colormaps"
   ]
  },
  {
   "cell_type": "code",
   "execution_count": 2,
   "metadata": {
    "collapsed": false,
    "slideshow": {
     "slide_type": "skip"
    }
   },
   "outputs": [
    {
     "data": {
      "text/html": [
       "<link rel=\"stylesheet\" href=\"custom.css\" type=\"text/css\">"
      ],
      "text/plain": [
       "<IPython.core.display.HTML object>"
      ]
     },
     "execution_count": 2,
     "metadata": {},
     "output_type": "execute_result"
    }
   ],
   "source": [
    "HTML('<link rel=\"stylesheet\" href=\"custom.css\" type=\"text/css\">')"
   ]
  },
  {
   "cell_type": "code",
   "execution_count": 3,
   "metadata": {
    "collapsed": false,
    "slideshow": {
     "slide_type": "skip"
    }
   },
   "outputs": [],
   "source": [
    "#from notebook.services.config import ConfigManager\n",
    "#cm = ConfigManager()\n",
    "#cm.update('livereveal', {\n",
    "#          'theme': 'sans',\n",
    "#          'transition': 'zoom',\n",
    "#})"
   ]
  },
  {
   "cell_type": "code",
   "execution_count": 4,
   "metadata": {
    "collapsed": true,
    "slideshow": {
     "slide_type": "skip"
    }
   },
   "outputs": [],
   "source": [
    "def iter_collection(rooAbsCollection):\n",
    "    iterator = rooAbsCollection.createIterator()\n",
    "    object = iterator.Next()\n",
    "    while object:\n",
    "        yield object\n",
    "        object = iterator.Next()"
   ]
  },
  {
   "cell_type": "markdown",
   "metadata": {
    "slideshow": {
     "slide_type": "slide"
    }
   },
   "source": [
    "# Lecture 3\n",
    "\n",
    "<p style=\"text-align: center;\"><i class=\"icon-user icon-2x\"> [ruggero.turra@mi.infn.it](mailto:ruggero.turra@mi.infn.it)</i></p>\n",
    "<br/>\n",
    "\n",
    "## Content of the lecture\n",
    "\n",
    "   * Systematics\n",
    "   * Shape analysis\n",
    "   * Test statistic for discovery and exclusions"
   ]
  },
  {
   "cell_type": "markdown",
   "metadata": {
    "slideshow": {
     "slide_type": "slide"
    }
   },
   "source": [
    "Restart from the on/off problem.\n",
    "\n",
    "We observe the number of events in the signal region $n_{SR}$ and in the control region $n_{CR}$. $\\alpha$ is the ratio of the expected background in the CR with respect to the SR. We can write the likelihood as:\n",
    "\n",
    "$$L(s, b|n_{SR}, n_{CR}) = \\text{Pois}(n_{SR}|s + b) \\text{Pois}(n_{CR}|\\alpha b)$$\n",
    "\n",
    "The test statistics is based on the profiled likelihood ratio:\n",
    "\n",
    "$$-2\\log\\lambda = -2\\log\\frac{\\sup_{b \\in [0, \\infty], s\\in\\{0\\}}{L(s, b)}}{\\sup_{b\\in [0, \\infty], s\\in [0, \\infty]}{L(s, b)}} = -2\\log\\frac{L(0, \\hat{\\hat{b}}(s=0))}{L(\\hat{s}, \\hat{b})}$$"
   ]
  },
  {
   "cell_type": "markdown",
   "metadata": {
    "slideshow": {
     "slide_type": "slide"
    }
   },
   "source": [
    "## Systematics\n",
    "\n",
    "How we can incorporate systematics inside our model? Suppose we know the parameter $\\alpha$ with a relative uncertainty $\\sigma_\\alpha$. We can imagine that there is another measurement (auxiliary measurement), that measured $\\alpha$ (the parameter of the model of the auxiliary measurement) and observed $a$. We can write the likelihood of the auxiliary measurement as $L(a|\\alpha) = N(a|\\alpha, \\delta_\\alpha)$, if assume that $a$ is normally distributed aroud the true value $\\alpha$ and $\\delta\\alpha$ is the absolute error on $\\alpha$\n",
    "\n",
    "\n",
    "\n"
   ]
  },
  {
   "cell_type": "markdown",
   "metadata": {
    "slideshow": {
     "slide_type": "subslide"
    }
   },
   "source": [
    "We can join the auxiliary measurement with our on/off model:\n",
    "\n",
    "$$L(s, b, a|N_{SR}, N_{CR}, \\alpha) = L(s, b|N_{SR}, N_{CR}) L(a|\\alpha)$$\n",
    "\n",
    "or more explicitely:\n",
    "\n",
    "$$\\text{Pois}(N_{SR}|s + b) \\text{Pois}(N_{CR}|\\alpha b) N(a|\\alpha, \\delta_\\alpha)$$\n",
    "\n",
    "Usually this is written as:\n",
    "\n",
    "$$\\text{Pois}(N_{SR}|s + b) \\text{Pois}(N_{CR}|a (1 + \\sigma_\\alpha\\theta_\\alpha) b) N(0|\\theta_\\alpha, 1)$$\n",
    "\n",
    "The first term is called the \"physical\" pdf, while the second is called the \"constraints\".\n"
   ]
  },
  {
   "cell_type": "code",
   "execution_count": 5,
   "metadata": {
    "collapsed": false,
    "slideshow": {
     "slide_type": "subslide"
    }
   },
   "outputs": [
    {
     "name": "stdout",
     "output_type": "stream",
     "text": [
      "[#1] INFO:ObjectHandling -- RooWorkspace::import(ws_onoff_sys) importing RooProdPdf::model_with_sys\r\n",
      "[#1] INFO:ObjectHandling -- RooWorkspace::import(ws_onoff_sys) importing RooPoisson::N_SR\r\n",
      "[#1] INFO:ObjectHandling -- RooWorkspace::import(ws_onoff_sys) importing RooRealVar::n_sr\r\n",
      "[#1] INFO:ObjectHandling -- RooWorkspace::import(ws_onoff_sys) importing RooAddition::s_plus_b\r\n",
      "[#1] INFO:ObjectHandling -- RooWorkspace::import(ws_onoff_sys) importing RooRealVar::s\r\n",
      "[#1] INFO:ObjectHandling -- RooWorkspace::import(ws_onoff_sys) importing RooRealVar::b\r\n",
      "[#1] INFO:ObjectHandling -- RooWorkspace::import(ws_onoff_sys) importing RooPoisson::N_CR_model_with_sys\r\n",
      "[#1] INFO:ObjectHandling -- RooWorkspace::import(ws_onoff_sys) importing RooRealVar::n_cr\r\n",
      "[#1] INFO:ObjectHandling -- RooWorkspace::import(ws_onoff_sys) importing RooProduct::alpha_x_b_model_with_sys\r\n",
      "[#1] INFO:ObjectHandling -- RooWorkspace::import(ws_onoff_sys) importing RooProduct::alpha_x_kappa\r\n",
      "[#1] INFO:ObjectHandling -- RooWorkspace::import(ws_onoff_sys) importing RooRealVar::alpha\r\n",
      "[#1] INFO:ObjectHandling -- RooWorkspace::import(ws_onoff_sys) importing RooFormulaVar::kalpha\r\n",
      "[#1] INFO:ObjectHandling -- RooWorkspace::import(ws_onoff_sys) importing RooRealVar::sigma_alpha\r\n",
      "[#1] INFO:ObjectHandling -- RooWorkspace::import(ws_onoff_sys) importing RooRealVar::theta_alpha\r\n"
     ]
    }
   ],
   "source": [
    "#ws = ws_onoff_withsys = ws_onoff.Clone(\"ws_onoff_withsys\")\n",
    "f = ROOT.TFile.Open(\"onoff.root\")\n",
    "ws_onoff = f.Get(\"ws_onoff\")\n",
    "\n",
    "# create the term kalpha = (1 + sigma * theta) with a relative error of 20%\n",
    "ws_onoff.factory('expr:kalpha(\"1 + @0 * @1\", {sigma_alpha[0.2], theta_alpha[0, -5, 5]})')\n",
    "ws_onoff.factory('prod:alpha_x_kappa(alpha, kalpha)')\n",
    "# create new pdf model replacing alpha -> alpha_x_kalpha\n",
    "ws_onoff.factory('EDIT:model_with_sys(model, alpha=alpha_x_kappa)')\n",
    "\n",
    "# create new workspace\n",
    "ws_onoff_sys = ROOT.RooWorkspace('ws_onoff_sys')\n",
    "getattr(ws_onoff_sys, 'import')(ws_onoff.pdf('model_with_sys'))\n",
    "# create the constraint\n",
    "ws_onoff_sys.factory(\"Gaussian:constraint_alpha(global_alpha[0, -5, 5], theta_alpha, 1)\")\n",
    "ws_onoff_sys.var(\"global_alpha\").setConstant(True)\n",
    "# final pdf\n",
    "model = ws_onoff_sys.factory(\"PROD:model_constrained(model_with_sys, constraint_alpha)\")"
   ]
  },
  {
   "cell_type": "code",
   "execution_count": 6,
   "metadata": {
    "collapsed": false,
    "slideshow": {
     "slide_type": "subslide"
    }
   },
   "outputs": [
    {
     "name": "stdout",
     "output_type": "stream",
     "text": [
      "\r\n",
      "RooWorkspace(ws_onoff_sys) ws_onoff_sys contents\r\n",
      "\r\n",
      "variables\r\n",
      "---------\r\n",
      "(alpha,b,global_alpha,n_cr,n_sr,s,sigma_alpha,theta_alpha)\r\n",
      "\r\n",
      "p.d.f.s\r\n",
      "-------\r\n",
      "RooPoisson::N_CR_model_with_sys[ x=n_cr mean=alpha_x_b_model_with_sys ] = 0\r\n",
      "RooPoisson::N_SR[ x=n_sr mean=s_plus_b ] = 0\r\n",
      "RooGaussian::constraint_alpha[ x=global_alpha mean=theta_alpha sigma=1 ] = 1\r\n",
      "RooProdPdf::model_constrained[ model_with_sys * constraint_alpha ] = 0\r\n",
      "RooProdPdf::model_with_sys[ N_SR * N_CR_model_with_sys ] = 0\r\n",
      "\r\n",
      "functions\r\n",
      "--------\r\n",
      "RooProduct::alpha_x_b_model_with_sys[ alpha_x_kappa * b ] = 500\r\n",
      "RooProduct::alpha_x_kappa[ alpha * kalpha ] = 10\r\n",
      "RooFormulaVar::kalpha[ actualVars=(sigma_alpha,theta_alpha) formula=\"1+@0*@1\" ] = 1\r\n",
      "RooAddition::s_plus_b[ s + b ] = 50\r\n",
      "\r\n"
     ]
    }
   ],
   "source": [
    "ws_onoff_sys.Print()"
   ]
  },
  {
   "cell_type": "code",
   "execution_count": 7,
   "metadata": {
    "collapsed": false,
    "slideshow": {
     "slide_type": "subslide"
    }
   },
   "outputs": [
    {
     "data": {
      "image/svg+xml": [
       "<svg height=\"\" viewBox=\"0.00 0.00 986.21 600.18\" width=\"90%\" xmlns=\"http://www.w3.org/2000/svg\" xmlns:xlink=\"http://www.w3.org/1999/xlink\">\n",
       "<g class=\"graph\" id=\"graph0\" transform=\"scale(1 1) rotate(0) translate(4 596.181)\">\n",
       "<title>model_constrained</title>\n",
       "<polygon fill=\"white\" points=\"-4,4 -4,-596.181 982.208,-596.181 982.208,4 -4,4\" stroke=\"none\"/>\n",
       "<!-- model_constrained -->\n",
       "<g class=\"node\" id=\"node1\"><title>model_constrained</title>\n",
       "<ellipse cx=\"608.397\" cy=\"-565.311\" fill=\"none\" rx=\"84.7059\" ry=\"26.7407\" stroke=\"red\"/>\n",
       "<text font-family=\"Times,serif\" font-size=\"14.00\" text-anchor=\"middle\" x=\"608.397\" y=\"-569.111\">RooProdPdf</text>\n",
       "<text font-family=\"Times,serif\" font-size=\"14.00\" text-anchor=\"middle\" x=\"608.397\" y=\"-554.111\">model_constrained</text>\n",
       "</g>\n",
       "<!-- model_with_sys -->\n",
       "<g class=\"node\" id=\"node2\"><title>model_with_sys</title>\n",
       "<ellipse cx=\"490.397\" cy=\"-475.571\" fill=\"none\" rx=\"74.9067\" ry=\"26.7407\" stroke=\"red\"/>\n",
       "<text font-family=\"Times,serif\" font-size=\"14.00\" text-anchor=\"middle\" x=\"490.397\" y=\"-479.371\">RooProdPdf</text>\n",
       "<text font-family=\"Times,serif\" font-size=\"14.00\" text-anchor=\"middle\" x=\"490.397\" y=\"-464.371\">model_with_sys</text>\n",
       "</g>\n",
       "<!-- model_constrained&#45;&gt;model_with_sys -->\n",
       "<g class=\"edge\" id=\"edge18\"><title>model_constrained-&gt;model_with_sys</title>\n",
       "<path d=\"M576.153,-540.335C561.989,-529.804 545.216,-517.332 530.276,-506.223\" fill=\"none\" stroke=\"black\"/>\n",
       "<polygon fill=\"black\" points=\"532.307,-503.371 522.193,-500.213 528.13,-508.989 532.307,-503.371\" stroke=\"black\"/>\n",
       "</g>\n",
       "<!-- constraint_alpha -->\n",
       "<g class=\"node\" id=\"node16\"><title>constraint_alpha</title>\n",
       "<ellipse cx=\"726.397\" cy=\"-475.571\" fill=\"none\" rx=\"74.9067\" ry=\"26.7407\" stroke=\"red\"/>\n",
       "<text font-family=\"Times,serif\" font-size=\"14.00\" text-anchor=\"middle\" x=\"726.397\" y=\"-479.371\">RooGaussian</text>\n",
       "<text font-family=\"Times,serif\" font-size=\"14.00\" text-anchor=\"middle\" x=\"726.397\" y=\"-464.371\">constraint_alpha</text>\n",
       "</g>\n",
       "<!-- model_constrained&#45;&gt;constraint_alpha -->\n",
       "<g class=\"edge\" id=\"edge19\"><title>model_constrained-&gt;constraint_alpha</title>\n",
       "<path d=\"M640.641,-540.335C654.805,-529.804 671.578,-517.332 686.518,-506.223\" fill=\"none\" stroke=\"black\"/>\n",
       "<polygon fill=\"black\" points=\"688.664,-508.989 694.6,-500.213 684.487,-503.371 688.664,-508.989\" stroke=\"black\"/>\n",
       "</g>\n",
       "<!-- N_SR -->\n",
       "<g class=\"node\" id=\"node3\"><title>N_SR</title>\n",
       "<ellipse cx=\"198.397\" cy=\"-385.831\" fill=\"none\" rx=\"57.0522\" ry=\"26.7407\" stroke=\"red\"/>\n",
       "<text font-family=\"Times,serif\" font-size=\"14.00\" text-anchor=\"middle\" x=\"198.397\" y=\"-389.631\">RooPoisson</text>\n",
       "<text font-family=\"Times,serif\" font-size=\"14.00\" text-anchor=\"middle\" x=\"198.397\" y=\"-374.631\">N_SR</text>\n",
       "</g>\n",
       "<!-- model_with_sys&#45;&gt;N_SR -->\n",
       "<g class=\"edge\" id=\"edge9\"><title>model_with_sys-&gt;N_SR</title>\n",
       "<path d=\"M434.096,-457.653C382.718,-442.215 307.143,-419.507 255.511,-403.992\" fill=\"none\" stroke=\"black\"/>\n",
       "<polygon fill=\"black\" points=\"256.424,-400.612 245.84,-401.086 254.409,-407.316 256.424,-400.612\" stroke=\"black\"/>\n",
       "</g>\n",
       "<!-- N_CR_model_with_sys -->\n",
       "<g class=\"node\" id=\"node8\"><title>N_CR_model_with_sys</title>\n",
       "<ellipse cx=\"490.397\" cy=\"-385.831\" fill=\"none\" rx=\"103.889\" ry=\"26.7407\" stroke=\"red\"/>\n",
       "<text font-family=\"Times,serif\" font-size=\"14.00\" text-anchor=\"middle\" x=\"490.397\" y=\"-389.631\">RooPoisson</text>\n",
       "<text font-family=\"Times,serif\" font-size=\"14.00\" text-anchor=\"middle\" x=\"490.397\" y=\"-374.631\">N_CR_model_with_sys</text>\n",
       "</g>\n",
       "<!-- model_with_sys&#45;&gt;N_CR_model_with_sys -->\n",
       "<g class=\"edge\" id=\"edge10\"><title>model_with_sys-&gt;N_CR_model_with_sys</title>\n",
       "<path d=\"M490.397,-448.246C490.397,-440.279 490.397,-431.388 490.397,-422.9\" fill=\"none\" stroke=\"black\"/>\n",
       "<polygon fill=\"black\" points=\"493.897,-422.834 490.397,-412.835 486.897,-422.835 493.897,-422.834\" stroke=\"black\"/>\n",
       "</g>\n",
       "<!-- n_sr -->\n",
       "<g class=\"node\" id=\"node4\"><title>n_sr</title>\n",
       "<ellipse cx=\"59.397\" cy=\"-296.09\" fill=\"none\" rx=\"59.2941\" ry=\"26.7407\" stroke=\"blue\"/>\n",
       "<text font-family=\"Times,serif\" font-size=\"14.00\" text-anchor=\"middle\" x=\"59.397\" y=\"-299.89\">RooRealVar</text>\n",
       "<text font-family=\"Times,serif\" font-size=\"14.00\" text-anchor=\"middle\" x=\"59.397\" y=\"-284.89\">n_sr</text>\n",
       "</g>\n",
       "<!-- N_SR&#45;&gt;n_sr -->\n",
       "<g class=\"edge\" id=\"edge2\"><title>N_SR-&gt;n_sr</title>\n",
       "<path d=\"M165.103,-363.815C146.128,-351.837 122.158,-336.707 101.843,-323.883\" fill=\"none\" stroke=\"black\"/>\n",
       "<polygon fill=\"black\" points=\"103.709,-320.923 93.3849,-318.544 99.9729,-326.842 103.709,-320.923\" stroke=\"black\"/>\n",
       "</g>\n",
       "<!-- s_plus_b -->\n",
       "<g class=\"node\" id=\"node5\"><title>s_plus_b</title>\n",
       "<ellipse cx=\"198.397\" cy=\"-296.09\" fill=\"none\" rx=\"61.5366\" ry=\"26.7407\" stroke=\"red\"/>\n",
       "<text font-family=\"Times,serif\" font-size=\"14.00\" text-anchor=\"middle\" x=\"198.397\" y=\"-299.89\">RooAddition</text>\n",
       "<text font-family=\"Times,serif\" font-size=\"14.00\" text-anchor=\"middle\" x=\"198.397\" y=\"-284.89\">s_plus_b</text>\n",
       "</g>\n",
       "<!-- N_SR&#45;&gt;s_plus_b -->\n",
       "<g class=\"edge\" id=\"edge1\"><title>N_SR-&gt;s_plus_b</title>\n",
       "<path d=\"M198.397,-358.506C198.397,-350.539 198.397,-341.648 198.397,-333.159\" fill=\"none\" stroke=\"black\"/>\n",
       "<polygon fill=\"black\" points=\"201.897,-333.094 198.397,-323.094 194.897,-333.094 201.897,-333.094\" stroke=\"black\"/>\n",
       "</g>\n",
       "<!-- s -->\n",
       "<g class=\"node\" id=\"node6\"><title>s</title>\n",
       "<ellipse cx=\"198.397\" cy=\"-206.35\" fill=\"none\" rx=\"59.2941\" ry=\"26.7407\" stroke=\"blue\"/>\n",
       "<text font-family=\"Times,serif\" font-size=\"14.00\" text-anchor=\"middle\" x=\"198.397\" y=\"-210.15\">RooRealVar</text>\n",
       "<text font-family=\"Times,serif\" font-size=\"14.00\" text-anchor=\"middle\" x=\"198.397\" y=\"-195.15\">s</text>\n",
       "</g>\n",
       "<!-- s_plus_b&#45;&gt;s -->\n",
       "<g class=\"edge\" id=\"edge3\"><title>s_plus_b-&gt;s</title>\n",
       "<path d=\"M198.397,-268.765C198.397,-260.799 198.397,-251.908 198.397,-243.419\" fill=\"none\" stroke=\"black\"/>\n",
       "<polygon fill=\"black\" points=\"201.897,-243.354 198.397,-233.354 194.897,-243.354 201.897,-243.354\" stroke=\"black\"/>\n",
       "</g>\n",
       "<!-- b -->\n",
       "<g class=\"node\" id=\"node7\"><title>b</title>\n",
       "<ellipse cx=\"361.397\" cy=\"-206.35\" fill=\"none\" rx=\"59.2941\" ry=\"26.7407\" stroke=\"blue\"/>\n",
       "<text font-family=\"Times,serif\" font-size=\"14.00\" text-anchor=\"middle\" x=\"361.397\" y=\"-210.15\">RooRealVar</text>\n",
       "<text font-family=\"Times,serif\" font-size=\"14.00\" text-anchor=\"middle\" x=\"361.397\" y=\"-195.15\">b</text>\n",
       "</g>\n",
       "<!-- s_plus_b&#45;&gt;b -->\n",
       "<g class=\"edge\" id=\"edge4\"><title>s_plus_b-&gt;b</title>\n",
       "<path d=\"M236.202,-274.741C259.739,-262.071 290.178,-245.686 315.149,-232.245\" fill=\"none\" stroke=\"black\"/>\n",
       "<polygon fill=\"black\" points=\"316.932,-235.26 324.078,-227.438 313.614,-229.096 316.932,-235.26\" stroke=\"black\"/>\n",
       "</g>\n",
       "<!-- n_cr -->\n",
       "<g class=\"node\" id=\"node9\"><title>n_cr</title>\n",
       "<ellipse cx=\"337.397\" cy=\"-296.09\" fill=\"none\" rx=\"59.2941\" ry=\"26.7407\" stroke=\"blue\"/>\n",
       "<text font-family=\"Times,serif\" font-size=\"14.00\" text-anchor=\"middle\" x=\"337.397\" y=\"-299.89\">RooRealVar</text>\n",
       "<text font-family=\"Times,serif\" font-size=\"14.00\" text-anchor=\"middle\" x=\"337.397\" y=\"-284.89\">n_cr</text>\n",
       "</g>\n",
       "<!-- N_CR_model_with_sys&#45;&gt;n_cr -->\n",
       "<g class=\"edge\" id=\"edge12\"><title>N_CR_model_with_sys-&gt;n_cr</title>\n",
       "<path d=\"M448.993,-361.087C428.24,-349.186 403.087,-334.762 381.919,-322.622\" fill=\"none\" stroke=\"black\"/>\n",
       "<polygon fill=\"black\" points=\"383.531,-319.512 373.115,-317.573 380.048,-325.584 383.531,-319.512\" stroke=\"black\"/>\n",
       "</g>\n",
       "<!-- alpha_x_b_model_with_sys -->\n",
       "<g class=\"node\" id=\"node10\"><title>alpha_x_b_model_with_sys</title>\n",
       "<ellipse cx=\"534.397\" cy=\"-296.09\" fill=\"none\" rx=\"119.502\" ry=\"26.7407\" stroke=\"red\"/>\n",
       "<text font-family=\"Times,serif\" font-size=\"14.00\" text-anchor=\"middle\" x=\"534.397\" y=\"-299.89\">RooProduct</text>\n",
       "<text font-family=\"Times,serif\" font-size=\"14.00\" text-anchor=\"middle\" x=\"534.397\" y=\"-284.89\">alpha_x_b_model_with_sys</text>\n",
       "</g>\n",
       "<!-- N_CR_model_with_sys&#45;&gt;alpha_x_b_model_with_sys -->\n",
       "<g class=\"edge\" id=\"edge11\"><title>N_CR_model_with_sys-&gt;alpha_x_b_model_with_sys</title>\n",
       "<path d=\"M503.36,-358.98C507.575,-350.576 512.325,-341.105 516.818,-332.145\" fill=\"none\" stroke=\"black\"/>\n",
       "<polygon fill=\"black\" points=\"520.02,-333.567 521.374,-323.059 513.763,-330.429 520.02,-333.567\" stroke=\"black\"/>\n",
       "</g>\n",
       "<!-- alpha_x_b_model_with_sys&#45;&gt;b -->\n",
       "<g class=\"edge\" id=\"edge5\"><title>alpha_x_b_model_with_sys-&gt;b</title>\n",
       "<path d=\"M487.581,-271.347C463.268,-259.016 433.616,-243.977 409.166,-231.577\" fill=\"none\" stroke=\"black\"/>\n",
       "<polygon fill=\"black\" points=\"410.573,-228.367 400.072,-226.965 407.407,-234.61 410.573,-228.367\" stroke=\"black\"/>\n",
       "</g>\n",
       "<!-- alpha_x_kappa -->\n",
       "<g class=\"node\" id=\"node11\"><title>alpha_x_kappa</title>\n",
       "<ellipse cx=\"534.397\" cy=\"-206.35\" fill=\"none\" rx=\"69.0935\" ry=\"26.7407\" stroke=\"red\"/>\n",
       "<text font-family=\"Times,serif\" font-size=\"14.00\" text-anchor=\"middle\" x=\"534.397\" y=\"-210.15\">RooProduct</text>\n",
       "<text font-family=\"Times,serif\" font-size=\"14.00\" text-anchor=\"middle\" x=\"534.397\" y=\"-195.15\">alpha_x_kappa</text>\n",
       "</g>\n",
       "<!-- alpha_x_b_model_with_sys&#45;&gt;alpha_x_kappa -->\n",
       "<g class=\"edge\" id=\"edge6\"><title>alpha_x_b_model_with_sys-&gt;alpha_x_kappa</title>\n",
       "<path d=\"M534.397,-268.765C534.397,-260.799 534.397,-251.908 534.397,-243.419\" fill=\"none\" stroke=\"black\"/>\n",
       "<polygon fill=\"black\" points=\"537.897,-243.354 534.397,-233.354 530.897,-243.354 537.897,-243.354\" stroke=\"black\"/>\n",
       "</g>\n",
       "<!-- alpha -->\n",
       "<g class=\"node\" id=\"node12\"><title>alpha</title>\n",
       "<ellipse cx=\"410.397\" cy=\"-116.61\" fill=\"none\" rx=\"59.2941\" ry=\"26.7407\" stroke=\"blue\"/>\n",
       "<text font-family=\"Times,serif\" font-size=\"14.00\" text-anchor=\"middle\" x=\"410.397\" y=\"-120.41\">RooRealVar</text>\n",
       "<text font-family=\"Times,serif\" font-size=\"14.00\" text-anchor=\"middle\" x=\"410.397\" y=\"-105.41\">alpha</text>\n",
       "</g>\n",
       "<!-- alpha_x_kappa&#45;&gt;alpha -->\n",
       "<g class=\"edge\" id=\"edge7\"><title>alpha_x_kappa-&gt;alpha</title>\n",
       "<path d=\"M502.141,-182.527C486.253,-171.285 466.95,-157.626 450.157,-145.743\" fill=\"none\" stroke=\"black\"/>\n",
       "<polygon fill=\"black\" points=\"451.82,-142.633 441.635,-139.714 447.776,-148.347 451.82,-142.633\" stroke=\"black\"/>\n",
       "</g>\n",
       "<!-- kalpha -->\n",
       "<g class=\"node\" id=\"node13\"><title>kalpha</title>\n",
       "<ellipse cx=\"562.397\" cy=\"-116.61\" fill=\"none\" rx=\"74.9067\" ry=\"26.7407\" stroke=\"red\"/>\n",
       "<text font-family=\"Times,serif\" font-size=\"14.00\" text-anchor=\"middle\" x=\"562.397\" y=\"-120.41\">RooFormulaVar</text>\n",
       "<text font-family=\"Times,serif\" font-size=\"14.00\" text-anchor=\"middle\" x=\"562.397\" y=\"-105.41\">kalpha</text>\n",
       "</g>\n",
       "<!-- alpha_x_kappa&#45;&gt;kalpha -->\n",
       "<g class=\"edge\" id=\"edge8\"><title>alpha_x_kappa-&gt;kalpha</title>\n",
       "<path d=\"M542.646,-179.5C545.272,-171.273 548.224,-162.023 551.029,-153.231\" fill=\"none\" stroke=\"black\"/>\n",
       "<polygon fill=\"black\" points=\"554.404,-154.17 554.11,-143.579 547.735,-152.042 554.404,-154.17\" stroke=\"black\"/>\n",
       "</g>\n",
       "<!-- sigma_alpha -->\n",
       "<g class=\"node\" id=\"node14\"><title>sigma_alpha</title>\n",
       "<ellipse cx=\"544.397\" cy=\"-26.8701\" fill=\"none\" rx=\"60.623\" ry=\"26.7407\" stroke=\"blue\"/>\n",
       "<text font-family=\"Times,serif\" font-size=\"14.00\" text-anchor=\"middle\" x=\"544.397\" y=\"-30.6701\">RooRealVar</text>\n",
       "<text font-family=\"Times,serif\" font-size=\"14.00\" text-anchor=\"middle\" x=\"544.397\" y=\"-15.6701\">sigma_alpha</text>\n",
       "</g>\n",
       "<!-- kalpha&#45;&gt;sigma_alpha -->\n",
       "<g class=\"edge\" id=\"edge16\"><title>kalpha-&gt;sigma_alpha</title>\n",
       "<path d=\"M557.094,-89.7598C555.424,-81.6214 553.549,-72.4816 551.763,-63.7749\" fill=\"none\" stroke=\"black\"/>\n",
       "<polygon fill=\"black\" points=\"555.163,-62.9314 549.725,-53.8389 548.306,-64.3383 555.163,-62.9314\" stroke=\"black\"/>\n",
       "</g>\n",
       "<!-- theta_alpha -->\n",
       "<g class=\"node\" id=\"node15\"><title>theta_alpha</title>\n",
       "<ellipse cx=\"682.397\" cy=\"-26.8701\" fill=\"none\" rx=\"59.2941\" ry=\"26.7407\" stroke=\"blue\"/>\n",
       "<text font-family=\"Times,serif\" font-size=\"14.00\" text-anchor=\"middle\" x=\"682.397\" y=\"-30.6701\">RooRealVar</text>\n",
       "<text font-family=\"Times,serif\" font-size=\"14.00\" text-anchor=\"middle\" x=\"682.397\" y=\"-15.6701\">theta_alpha</text>\n",
       "</g>\n",
       "<!-- kalpha&#45;&gt;theta_alpha -->\n",
       "<g class=\"edge\" id=\"edge17\"><title>kalpha-&gt;theta_alpha</title>\n",
       "<path d=\"M594.555,-92.0974C609.551,-81.133 627.528,-67.9888 643.302,-56.4553\" fill=\"none\" stroke=\"black\"/>\n",
       "<polygon fill=\"black\" points=\"645.799,-58.9653 651.805,-50.2376 641.667,-53.3146 645.799,-58.9653\" stroke=\"black\"/>\n",
       "</g>\n",
       "<!-- constraint_alpha&#45;&gt;theta_alpha -->\n",
       "<g class=\"edge\" id=\"edge15\"><title>constraint_alpha-&gt;theta_alpha</title>\n",
       "<path d=\"M714.508,-448.825C709.846,-437.88 704.807,-424.859 701.397,-412.701 687.335,-362.564 682.397,-349.162 682.397,-297.09 682.397,-297.09 682.397,-297.09 682.397,-205.35 682.397,-156.623 682.397,-100.371 682.397,-64.4848\" fill=\"none\" stroke=\"black\"/>\n",
       "<polygon fill=\"black\" points=\"685.897,-64.0324 682.397,-54.0324 678.897,-64.0325 685.897,-64.0324\" stroke=\"black\"/>\n",
       "</g>\n",
       "<!-- 1 -->\n",
       "<g class=\"node\" id=\"node17\"><title>1</title>\n",
       "<ellipse cx=\"774.397\" cy=\"-385.831\" fill=\"none\" rx=\"64.1938\" ry=\"26.7407\" stroke=\"red\"/>\n",
       "<text font-family=\"Times,serif\" font-size=\"14.00\" text-anchor=\"middle\" x=\"774.397\" y=\"-389.631\">RooConstVar</text>\n",
       "<text font-family=\"Times,serif\" font-size=\"14.00\" text-anchor=\"middle\" x=\"774.397\" y=\"-374.631\">1</text>\n",
       "</g>\n",
       "<!-- constraint_alpha&#45;&gt;1 -->\n",
       "<g class=\"edge\" id=\"edge13\"><title>constraint_alpha-&gt;1</title>\n",
       "<path d=\"M740.539,-448.72C745.268,-440.076 750.615,-430.303 755.639,-421.118\" fill=\"none\" stroke=\"black\"/>\n",
       "<polygon fill=\"black\" points=\"758.792,-422.647 760.521,-412.194 752.651,-419.287 758.792,-422.647\" stroke=\"black\"/>\n",
       "</g>\n",
       "<!-- global_alpha -->\n",
       "<g class=\"node\" id=\"node18\"><title>global_alpha</title>\n",
       "<ellipse cx=\"917.397\" cy=\"-385.831\" fill=\"none\" rx=\"60.623\" ry=\"26.7407\" stroke=\"blue\"/>\n",
       "<text font-family=\"Times,serif\" font-size=\"14.00\" text-anchor=\"middle\" x=\"917.397\" y=\"-389.631\">RooRealVar</text>\n",
       "<text font-family=\"Times,serif\" font-size=\"14.00\" text-anchor=\"middle\" x=\"917.397\" y=\"-374.631\">global_alpha</text>\n",
       "</g>\n",
       "<!-- constraint_alpha&#45;&gt;global_alpha -->\n",
       "<g class=\"edge\" id=\"edge14\"><title>constraint_alpha-&gt;global_alpha</title>\n",
       "<path d=\"M771.178,-453.999C799.832,-440.837 837.068,-423.731 866.792,-410.077\" fill=\"none\" stroke=\"black\"/>\n",
       "<polygon fill=\"black\" points=\"868.533,-413.129 876.159,-405.774 865.61,-406.768 868.533,-413.129\" stroke=\"black\"/>\n",
       "</g>\n",
       "</g>\n",
       "</svg>"
      ],
      "text/plain": [
       "<IPython.core.display.SVG object>"
      ]
     },
     "execution_count": 7,
     "metadata": {},
     "output_type": "execute_result"
    }
   ],
   "source": [
    "model.graphVizTree(\"on_off_with_sys_graph.dot\")\n",
    "!dot -Tsvg on_off_with_sys_graph.dot > on_off_with_sys_graph.svg; rm on_off_with_sys_graph.dot\n",
    "s = SVG(\"on_off_with_sys_graph.svg\")\n",
    "s.data = re.sub(r'width=\"[0-9]+pt\"', r'width=\"90%\"', s.data)\n",
    "s.data = re.sub(r'height=\"[0-9]+pt\"', r'height=\"\"', s.data); s"
   ]
  },
  {
   "cell_type": "code",
   "execution_count": 8,
   "metadata": {
    "collapsed": false,
    "slideshow": {
     "slide_type": "subslide"
    }
   },
   "outputs": [
    {
     "data": {
      "text/plain": [
       "False"
      ]
     },
     "execution_count": 8,
     "metadata": {},
     "output_type": "execute_result"
    }
   ],
   "source": [
    "sbModel = ROOT.RooStats.ModelConfig('sbModel_sys', ws_onoff_sys)\n",
    "sbModel.SetPdf('model_constrained')\n",
    "sbModel.SetParametersOfInterest('s')\n",
    "sbModel.SetObservables('n_sr,n_cr')\n",
    "sbModel.SetNuisanceParameters('theta_alpha')\n",
    "ws_onoff_sys.var('s').setVal(30)\n",
    "sbModel.SetSnapshot(ROOT.RooArgSet(ws_onoff_sys.var('s')))\n",
    "getattr(ws_onoff_sys, 'import')(sbModel)\n",
    "\n",
    "bModel = sbModel.Clone(\"bModel_sys\")\n",
    "ws_onoff_sys.var('s').setVal(0)\n",
    "bModel.SetSnapshot(bModel.GetParametersOfInterest())\n",
    "getattr(ws_onoff_sys, 'import')(bModel)"
   ]
  },
  {
   "cell_type": "code",
   "execution_count": 9,
   "metadata": {
    "collapsed": false,
    "slideshow": {
     "slide_type": "subslide"
    }
   },
   "outputs": [
    {
     "name": "stdout",
     "output_type": "stream",
     "text": [
      "observed  N_SR = 79, N_CR = 528\n",
      "best fit\n",
      "SR     26.2     52.8\n",
      "CR             528.0\n"
     ]
    },
    {
     "data": {
      "text/plain": [
       "False"
      ]
     },
     "execution_count": 9,
     "metadata": {},
     "output_type": "execute_result"
    },
    {
     "name": "stdout",
     "output_type": "stream",
     "text": [
      "RooRealVar::s = 30  L(0 - 100) \r\n",
      "[#1] INFO:Minization --  Including the following contraint terms in minimization: (constraint_alpha)\r\n",
      "[#1] INFO:Fitting -- RooAddition::defaultErrorLevel(nll_model_constrained_obsData_with_constr) Summation contains a RooNLLVar, using its error level\r\n",
      "[#1] INFO:Minization -- RooMinuit::optimizeConst: activating const optimization\r\n",
      "[#1] INFO:Minization --  The following expressions will be evaluated in cache-and-track mode: (N_SR,N_CR_model_with_sys)\r\n",
      " **********\r\n",
      " **   13 **MIGRAD        1500           1\r\n",
      " **********\r\n",
      " FIRST CALL TO USER FUNCTION AT NEW START POINT, WITH IFLAG=4.\r\n",
      " START MIGRAD MINIMIZATION.  STRATEGY  1.  CONVERGENCE WHEN EDM .LT. 1.00e-03\r\n",
      " FCN=8.85334 FROM MIGRAD    STATUS=INITIATE       12 CALLS          13 TOTAL\r\n",
      "                     EDM= unknown      STRATEGY= 1      NO ERROR MATRIX       \r\n",
      "  EXT PARAMETER               CURRENT GUESS       STEP         FIRST   \r\n",
      "  NO.   NAME      VALUE            ERROR          SIZE      DERIVATIVE \r\n",
      "   1  b            5.00000e+01   1.00000e+01   2.01358e-01  -2.73750e+01\r\n",
      "   2  s            3.00000e+01   1.00000e+01   2.21072e-01   5.72822e-01\r\n",
      "   3  theta_alpha   0.00000e+00   1.00000e+00   2.01358e-01  -2.80000e+01\r\n",
      "                               ERR DEF= 0.5\r\n",
      " MIGRAD MINIMIZATION HAS CONVERGED.\r\n",
      " MIGRAD WILL VERIFY CONVERGENCE AND ERROR MATRIX.\r\n",
      " COVARIANCE MATRIX CALCULATED SUCCESSFULLY\r\n",
      " FCN=8.0773 FROM MIGRAD    STATUS=CONVERGED      67 CALLS          68 TOTAL\r\n",
      "                     EDM=1.73202e-06    STRATEGY= 1      ERROR MATRIX ACCURATE \r\n",
      "  EXT PARAMETER                                   STEP         FIRST   \r\n",
      "  NO.   NAME      VALUE            ERROR          SIZE      DERIVATIVE \r\n",
      "   1  b            5.27871e+01   1.07157e+01   9.01237e-05   5.24028e-03\r\n",
      "   2  s            2.62162e+01   1.37507e+01   4.08935e-04   1.81613e-03\r\n",
      "   3  theta_alpha   1.25566e-03   9.93164e-01   8.59540e-05   9.63871e-03\r\n",
      "                               ERR DEF= 0.5\r\n",
      " EXTERNAL ERROR MATRIX.    NDIM=  25    NPAR=  3    ERR DEF=0.5\r\n",
      "  1.166e+02 -1.166e+02 -1.055e+01 \r\n",
      " -1.166e+02  1.956e+02  1.055e+01 \r\n",
      " -1.055e+01  1.055e+01  9.996e-01 \r\n",
      " PARAMETER  CORRELATION COEFFICIENTS  \r\n",
      "       NO.  GLOBAL      1      2      3\r\n",
      "        1  0.97856   1.000 -0.772 -0.977\r\n",
      "        2  0.77206  -0.772  1.000  0.754\r\n",
      "        3  0.97711  -0.977  0.754  1.000\r\n",
      " **********\r\n",
      " **   18 **HESSE        1500\r\n",
      " **********\r\n",
      " COVARIANCE MATRIX CALCULATED SUCCESSFULLY\r\n",
      " FCN=8.0773 FROM HESSE     STATUS=OK             16 CALLS          84 TOTAL\r\n",
      "                     EDM=1.73303e-06    STRATEGY= 1      ERROR MATRIX ACCURATE \r\n",
      "  EXT PARAMETER                                INTERNAL      INTERNAL  \r\n",
      "  NO.   NAME      VALUE            ERROR       STEP SIZE       VALUE   \r\n",
      "   1  b            5.27871e+01   1.07188e+01   1.80247e-05   5.57705e-02\r\n",
      "   2  s            2.62162e+01   1.37542e+01   8.17869e-05  -4.95733e-01\r\n",
      "   3  theta_alpha   1.25566e-03   9.93446e-01   1.71908e-05   2.51132e-04\r\n",
      "                               ERR DEF= 0.5\r\n",
      " EXTERNAL ERROR MATRIX.    NDIM=  25    NPAR=  3    ERR DEF=0.5\r\n",
      "  1.167e+02 -1.167e+02 -1.056e+01 \r\n",
      " -1.167e+02  1.957e+02  1.056e+01 \r\n",
      " -1.056e+01  1.056e+01  1.000e+00 \r\n",
      " PARAMETER  CORRELATION COEFFICIENTS  \r\n",
      "       NO.  GLOBAL      1      2      3\r\n",
      "        1  0.97858   1.000 -0.772 -0.977\r\n",
      "        2  0.77219  -0.772  1.000  0.755\r\n",
      "        3  0.97713  -0.977  0.755  1.000\r\n",
      "[#1] INFO:Minization -- RooMinuit::optimizeConst: deactivating const optimization\r\n",
      "[#1] INFO:ObjectHandling -- RooWorkspace::import(ws_onoff_sys) importing dataset obsData\r\n"
     ]
    }
   ],
   "source": [
    "sbModel.LoadSnapshot()\n",
    "ws_onoff_sys.var('s').Print()\n",
    "data = model.generate(bModel.GetObservables(), 1)\n",
    "data.SetName('obsData')\n",
    "print \"observed  N_SR = %.f, N_CR = %.f\" % tuple([x.getVal() for x in iter_collection(data.get(0))])\n",
    "model.fitTo(data)\n",
    "print \"best fit\"\n",
    "print \"SR {:>8.1f} {:>8.1f}\".format(ws_onoff_sys.var('s').getVal(), ws_onoff_sys.var('b').getVal())\n",
    "print \"CR          {:>8.1f}\".format(ws_onoff_sys.function('alpha_x_b_model_with_sys').getVal())\n",
    "getattr(ws_onoff_sys, 'import')(data)\n",
    "ws_onoff_sys.writeToFile('onoff_sys.root')"
   ]
  },
  {
   "cell_type": "code",
   "execution_count": 10,
   "metadata": {
    "collapsed": false,
    "slideshow": {
     "slide_type": "subslide"
    }
   },
   "outputs": [
    {
     "name": "stdout",
     "output_type": "stream",
     "text": [
      "[#1] INFO:Minization --  Including the following contraint terms in minimization: (constraint_alpha)\r\n",
      "[#1] INFO:Minization -- RooProfileLL::evaluate(nll_model_constrained_obsData_with_constr_Profile[s]) Creating instance of MINUIT\r\n",
      "[#1] INFO:Fitting -- RooAddition::defaultErrorLevel(nll_model_constrained_obsData_with_constr) Summation contains a RooNLLVar, using its error level\r\n",
      "[#1] INFO:Minization -- RooProfileLL::evaluate(nll_model_constrained_obsData_with_constr_Profile[s]) determining minimum likelihood for current configurations w.r.t all observable\r\n",
      "[#1] INFO:Minization -- RooProfileLL::evaluate(nll_model_constrained_obsData_with_constr_Profile[s]) minimum found at (s=26.2054)\r\n",
      "..........................................................................................................................................................................................................\r\n",
      "[#1] INFO:Minization -- RooProfileLL::evaluate(nll_model_constrained_obsData_with_constr_Profile[s]) Creating instance of MINUIT\r\n",
      "[#1] INFO:Fitting -- RooAddition::defaultErrorLevel(nll_model_constrained_obsData_with_constr) Summation contains a RooNLLVar, using its error level\r\n",
      "[#1] INFO:Minization -- RooProfileLL::evaluate(nll_model_constrained_obsData_with_constr_Profile[s]) determining minimum likelihood for current configurations w.r.t all observable\r\n",
      "[#1] INFO:Minization -- RooProfileLL::evaluate(nll_model_constrained_obsData_with_constr_Profile[s]) minimum found at (s=26.1875)\r\n",
      ".........................................................................................................................................................................................................."
     ]
    }
   ],
   "source": [
    "# create profiled log-likelihood as a function of s\n",
    "ws_onoff_sys.var('theta_alpha').setConstant(False)\n",
    "prof = model.createNLL(data).createProfile(ROOT.RooArgSet(ws_onoff_sys.var('s')))\n",
    "# multiply by 2\n",
    "minus2LL = ROOT.RooFormulaVar(\"minus2LL\", \"2 * @0\", ROOT.RooArgList(prof))\n",
    "frame = ws_onoff.var('s').frame(0, 60)\n",
    "minus2LL.plotOn(frame)\n",
    "\n",
    "ws_onoff_sys.var('theta_alpha').setConstant(True)\n",
    "minus2LL.plotOn(frame, ROOT.RooFit.LineColor(ROOT.kRed))\n",
    "frame.SetYTitle(\"-2 log#Lambda(s)\")"
   ]
  },
  {
   "cell_type": "code",
   "execution_count": 11,
   "metadata": {
    "collapsed": false,
    "slideshow": {
     "slide_type": "subslide"
    }
   },
   "outputs": [
    {
     "data": {
      "image/png": "[encoded data removed]",
      "text/plain": [
       "<IPython.core.display.Image object>"
      ]
     },
     "metadata": {},
     "output_type": "display_data"
    }
   ],
   "source": [
    "canvas = ROOT.TCanvas()\n",
    "frame.Draw()\n",
    "canvas.Draw()"
   ]
  },
  {
   "cell_type": "markdown",
   "metadata": {
    "slideshow": {
     "slide_type": "subslide"
    }
   },
   "source": [
    "### Compute the significance with systematics"
   ]
  },
  {
   "cell_type": "code",
   "execution_count": 12,
   "metadata": {
    "collapsed": false,
    "slideshow": {
     "slide_type": "-"
    }
   },
   "outputs": [
    {
     "name": "stdout",
     "output_type": "stream",
     "text": [
      "pvalue = 0.0632982477896  significance = 1.52766193531\n",
      "[#0] PROGRESS:Eval -- AsymptoticCalculator::Initialize....\r\n",
      "[#0] PROGRESS:Eval -- AsymptoticCalculator::Initialize - Find  best unconditional NLL on observed data\r\n",
      "AsymptoticCalculator::EvaluateNLL  ........ using Minuit / Migrad with strategy  1 and tolerance 1\r\n",
      " **********\r\n",
      " **    1 **SET PRINT           0\r\n",
      " **********\r\n",
      " **********\r\n",
      " **    2 **SET NOGRAD\r\n",
      " **********\r\n",
      " PARAMETER DEFINITIONS:\r\n",
      "    NO.   NAME         VALUE      STEP SIZE      LIMITS\r\n",
      "     1 b            5.27871e+01  1.07188e+01    0.00000e+00  1.00000e+02\r\n",
      "     2 s            2.62162e+01  1.00000e+01    0.00000e+00  1.00000e+02\r\n",
      "     3 theta_alpha   1.25566e-03  9.93446e-01   -5.00000e+00  5.00000e+00\r\n",
      " **********\r\n",
      " **    3 **SET ERR         0.5\r\n",
      " **********\r\n",
      " **********\r\n",
      " **    4 **SET PRINT           0\r\n",
      " **********\r\n",
      " **********\r\n",
      " **    5 **SET STR           1\r\n",
      " **********\r\n",
      " **********\r\n",
      " **    6 **MIGRAD        1500           1\r\n",
      " **********\r\n",
      " MIGRAD MINIMIZATION HAS CONVERGED.\r\n",
      " MIGRAD WILL VERIFY CONVERGENCE AND ERROR MATRIX.\r\n",
      " FCN=8.0773 FROM MIGRAD    STATUS=CONVERGED      36 CALLS          37 TOTAL\r\n",
      "                     EDM=1.51139e-06    STRATEGY= 1      ERROR MATRIX ACCURATE \r\n",
      "  EXT PARAMETER                                   STEP         FIRST   \r\n",
      "  NO.   NAME      VALUE            ERROR          SIZE      DERIVATIVE \r\n",
      "   1  b            5.27868e+01   1.07121e+01   9.01023e-05  -4.60045e-03\r\n",
      "   2  s            2.62142e+01   1.37482e+01   4.08712e-04   5.20876e-04\r\n",
      "   3  theta_alpha   1.20205e-03   9.92824e-01   8.60205e-05   5.21990e-04\r\n",
      "                               ERR DEF= 0.5\r\n",
      "AsymptoticCalculator::EvaluateNLL -  value = 8.0773\tfit time : Real time 0:00:00, CP time 0.000\r\n",
      "[#0] PROGRESS:Eval -- Best fitted POI value = 26.2142 +/- 13.7482\r\n",
      "[#0] PROGRESS:Eval -- AsymptoticCalculator: Building Asimov data Set\r\n",
      "[#1] INFO:InputArguments -- AsymptoticCalculator: Asimov data will be generated using fitted nuisance parameter values\r\n",
      "MakeAsimov: Setting poi s to a constant value = 30\r\n",
      "MakeAsimov: doing a conditional fit for finding best nuisance values \r\n",
      " **********\r\n",
      " **    1 **SET PRINT           0\r\n",
      " **********\r\n",
      " **********\r\n",
      " **    2 **SET NOGRAD\r\n",
      " **********\r\n",
      " PARAMETER DEFINITIONS:\r\n",
      "    NO.   NAME         VALUE      STEP SIZE      LIMITS\r\n",
      "     1 b            5.27868e+01  1.07121e+01    0.00000e+00  1.00000e+02\r\n",
      "     2 theta_alpha   1.20205e-03  9.92824e-01   -5.00000e+00  5.00000e+00\r\n",
      " **********\r\n",
      " **    3 **SET ERR         0.5\r\n",
      " **********\r\n",
      " **********\r\n",
      " **    4 **SET PRINT           0\r\n",
      " **********\r\n",
      " **********\r\n",
      " **    5 **SET STR           1\r\n",
      " **********\r\n",
      " **********\r\n",
      " **    6 **MIGRAD        1000           1\r\n",
      " **********\r\n",
      " MIGRAD MINIMIZATION HAS CONVERGED.\r\n",
      " MIGRAD WILL VERIFY CONVERGENCE AND ERROR MATRIX.\r\n",
      " FCN=8.11572 FROM MIGRAD    STATUS=CONVERGED      36 CALLS          37 TOTAL\r\n",
      "                     EDM=1.16155e-05    STRATEGY= 1      ERROR MATRIX ACCURATE \r\n",
      "  EXT PARAMETER                                   STEP         FIRST   \r\n",
      "  NO.   NAME      VALUE            ERROR          SIZE      DERIVATIVE \r\n",
      "   1  b            5.06842e+01   6.58904e+00   8.68309e-05   3.67286e-02\r\n",
      "   2  theta_alpha   1.98655e-01   6.78234e-01   8.94787e-05   1.15268e-02\r\n",
      "                               ERR DEF= 0.5\r\n",
      "fit time Real time 0:00:00, CP time 0.000\r\n",
      "Generated Asimov data for observables RooArgSet:: = (n_sr,n_cr)\r\n",
      "[#0] PROGRESS:Eval -- AsymptoticCalculator::Initialize Find  best conditional NLL on ASIMOV data set for given alt POI ( s ) = 30\r\n",
      "AsymptoticCalculator::EvaluateNLL  ........ using Minuit / Migrad with strategy  1 and tolerance 1\r\n",
      " **********\r\n",
      " **    7 **SET PRINT           0\r\n",
      " **********\r\n",
      " **********\r\n",
      " **    8 **SET NOGRAD\r\n",
      " **********\r\n",
      " PARAMETER DEFINITIONS:\r\n",
      "    NO.   NAME         VALUE      STEP SIZE      LIMITS\r\n",
      "     1 b            5.06842e+01  6.58904e+00    0.00000e+00  1.00000e+02\r\n",
      "     2 theta_alpha   1.98655e-01  6.78234e-01   -5.00000e+00  5.00000e+00\r\n",
      " **********\r\n",
      " **    9 **SET ERR         0.5\r\n",
      " **********\r\n",
      " **********\r\n",
      " **   10 **SET PRINT           0\r\n",
      " **********\r\n",
      " **********\r\n",
      " **   11 **SET STR           1\r\n",
      " **********\r\n",
      " *******"
     ]
    }
   ],
   "source": [
    "ws_onoff_sys.var('theta_alpha').setConstant(False)\n",
    "hypoCalc = RooStats.AsymptoticCalculator(data, sbModel, bModel)\n",
    "hypoCalc.SetOneSidedDiscovery(True)\n",
    "htr = hypoCalc.GetHypoTest()\n",
    "print \"pvalue =\", htr.NullPValue(), \" significance =\", htr.Significance()"
   ]
  },
  {
   "cell_type": "markdown",
   "metadata": {
    "slideshow": {
     "slide_type": "subslide"
    }
   },
   "source": [
    "### Compute the significance without systematics"
   ]
  },
  {
   "cell_type": "code",
   "execution_count": 17,
   "metadata": {
    "collapsed": false
   },
   "outputs": [
    {
     "name": "stdout",
     "output_type": "stream",
     "text": [
      "pvalue = 0.00074156030617  significance = 3.17796615755\n",
      "[#0] PROGRESS:Eval -- AsymptoticCalculator::Initialize....\r\n",
      "[#0] PROGRESS:Eval -- AsymptoticCalculator::Initialize - Find  best unconditional NLL on observed data\r\n",
      "AsymptoticCalculator::EvaluateNLL  ........ using Minuit / Migrad with strategy  1 and tolerance 1\r\n",
      " **********\r\n",
      " **   25 **SET PRINT           0\r\n",
      " **********\r\n",
      " **********\r\n",
      " **   26 **SET NOGRAD\r\n",
      " **********\r\n",
      " PARAMETER DEFINITIONS:\r\n",
      "    NO.   NAME         VALUE      STEP SIZE      LIMITS\r\n",
      "     1 b            7.54833e+01  8.24820e+00    0.00000e+00  1.00000e+02\r\n",
      "     2 s            0.00000e+00  1.00000e+01    0.00000e+00  1.00000e+02\r\n",
      " MINUIT WARNING IN PARAM DEF\r\n",
      " ============== STARTING VALUE IS AT LIMIT.\r\n",
      " MINUIT WARNING IN PARAMETR\r\n",
      " ============== VARIABLE2 IS AT ITS LOWER ALLOWED LIMIT.\r\n",
      " MINUIT WARNING IN PARAMETR\r\n",
      " ============== VARIABLE2 BROUGHT BACK INSIDE LIMITS.\r\n",
      " **********\r\n",
      " **   27 **SET ERR         0.5\r\n",
      " **********\r\n",
      " **********\r\n",
      " **   28 **SET PRINT           0\r\n",
      " **********\r\n",
      " **********\r\n",
      " **   29 **SET STR           1\r\n",
      " **********\r\n",
      " **********\r\n",
      " **   30 **MIGRAD        1000           1\r\n",
      " **********\r\n",
      " MINUIT WARNING IN MIGrad    \r\n",
      " ============== VARIABLE2 IS AT ITS LOWER ALLOWED LIMIT.\r\n",
      " MIGRAD MINIMIZATION HAS CONVERGED.\r\n",
      " MIGRAD WILL VERIFY CONVERGENCE AND ERROR MATRIX.\r\n",
      " FCN=7.15837 FROM MIGRAD    STATUS=CONVERGED      61 CALLS          62 TOTAL\r\n",
      "                     EDM=1.80189e-05    STRATEGY= 1      ERROR MATRIX ACCURATE \r\n",
      "  EXT PARAMETER                                   STEP         FIRST   \r\n",
      "  NO.   NAME      VALUE            ERROR          SIZE      DERIVATIVE \r\n",
      "   1  b            5.28063e+01   2.29730e+00   8.55450e-05   4.17759e-02\r\n",
      "   2  s            2.61650e+01   9.11242e+00   3.95063e-04  -1.59608e-02\r\n",
      "                               ERR DEF= 0.5\r\n",
      "AsymptoticCalculator::EvaluateNLL -  value = 7.15837\tfit time : Real time 0:00:00, CP time 0.000\r\n",
      "[#0] PROGRESS:Eval -- Best fitted POI value = 26.165 +/- 9.11242\r\n",
      "[#0] PROGRESS:Eval -- AsymptoticCalculator: Building Asimov data Set\r\n",
      "[#1] INFO:InputArguments -- AsymptoticCalculator: Asimov data will be generated using fitted nuisance parameter values\r\n",
      "MakeAsimov: Setting poi s to a constant value = 30\r\n",
      "Generated Asimov data for observables RooArgSet:: = (n_sr,n_cr)\r\n",
      "[#0] PROGRESS:Eval -- AsymptoticCalculator::Initialize Find  best conditional NLL on ASIMOV data set for given alt POI ( s ) = 30\r\n",
      "AsymptoticCalculator::EvaluateNLL  ........ using Minuit / Migrad with strategy  1 and tolerance 1\r\n",
      " **********\r\n",
      " **    1 **SET PRINT           0\r\n",
      " **********\r\n",
      " **********\r\n",
      " **    2 **SET NOGRAD\r\n",
      " **********\r\n",
      " PARAMETER DEFINITIONS:\r\n",
      "    NO.   NAME         VALUE      STEP SIZE      LIMITS\r\n",
      "     1 b            5.28063e+01  2.29730e+00    0.00000e+00  1.00000e+02\r\n",
      " **********\r\n",
      " **    3 **SET ERR         0.5\r\n",
      " **********\r\n",
      " **********\r\n",
      " **    4 **SET PRINT           0\r\n",
      " **********\r\n",
      " **********\r\n",
      " **    5 **SET STR           1\r\n",
      " **********\r\n",
      " **********\r\n",
      " **    6 **MIGRAD         500           1\r\n",
      " **********\r\n",
      " MIGRAD MINIMIZATION HAS CONVERGED.\r\n",
      " FCN=7.1819 FROM MIGRAD    STATUS=CONVERGED      15 CALLS          16 TOTAL\r\n",
      "                     EDM=3.2751e-17    STRATEGY= 1  ERROR MATRIX UNCERTAINTY 100.0 per cent\r\n",
      "  EXT PARAMETER                                   STEP         FIRST   \r\n",
      "  NO.   NAME      VALUE            ERROR          SIZE      DERIVATIVE \r\n",
      "   1  b            5.28063e+01   4.88518e-01   1.65693e-11  -1.81340e-07\r\n",
      "                               ERR DEF= 0.5\r\n",
      "AsymptoticCalculator::EvaluateNLL -  value = 7.1819 for poi fixed at = 30\tfit time : Real time 0:00:00, CP time 0.000\r\n",
      "[#1] INFO:InputArguments -- AsymptotiCalculator: Minimum of POI is 0 corresponds to null  snapshot   - default configuration is  one-sided discovery formulae  \r\n",
      "\r\n",
      "[#1] INFO:Eval -- AsymptoticCalculator::GetHypoTest: - perform  an hypothesis test for  POI ( s ) = 0\r\n",
      "[#0] PROGRESS:Eval -- AsymptoticCalculator::GetHypoTest -  Find  best conditional NLL on OBSERVED data set ..... \r\n",
      "AsymptoticCalculator::EvaluateNLL  ........ using Minuit / Migrad with strategy  1 and tolerance 1\r\n",
      " **********\r\n",
      " **    7 **SET PRINT         "
     ]
    }
   ],
   "source": [
    "ws_onoff_sys.var('theta_alpha').setVal(0)\n",
    "ws_onoff_sys.var('theta_alpha').setConstant(True)\n",
    "hypoCalc = RooStats.AsymptoticCalculator(data, sbModel, bModel)\n",
    "hypoCalc.SetOneSidedDiscovery(True)\n",
    "htr = hypoCalc.GetHypoTest()\n",
    "print \"pvalue =\", htr.NullPValue(), \" significance =\", htr.Significance()"
   ]
  },
  {
   "cell_type": "code",
   "execution_count": null,
   "metadata": {
    "collapsed": false,
    "slideshow": {
     "slide_type": "skip"
    }
   },
   "outputs": [],
   "source": [
    "model.fitTo(data)\n",
    "calculator = RooStats.AsymptoticCalculator(data, bModel, sbModel, False)\n",
    "calculator.SetOneSided(True)\n",
    "inverter = RooStats.HypoTestInverter(calculator)\n",
    "inverter.SetConfidenceLevel(0.95)\n",
    "inverter.UseCLs(True)\n",
    "result = inverter.GetInterval()"
   ]
  },
  {
   "cell_type": "code",
   "execution_count": null,
   "metadata": {
    "collapsed": true,
    "slideshow": {
     "slide_type": "skip"
    }
   },
   "outputs": [],
   "source": [
    "canvas = ROOT.TCanvas()\n",
    "plot = RooStats.HypoTestInverterPlot(\"HTI_Result_Plot\", 'the result', result)\n",
    "canvas.Draw()"
   ]
  },
  {
   "cell_type": "markdown",
   "metadata": {
    "slideshow": {
     "slide_type": "subslide"
    }
   },
   "source": [
    "### (Big) exercize\n",
    "\n",
    "Suppose you are looking for a signal in a SR. There are two main background on the signal region, due to two different physical processes, B1 and B2. You also have two CRs. The simulation predicts the following countings for an equivalent luminosity of 1/fb.\n",
    "\n",
    "|     |  SR |CR1|CR2|\n",
    "|-----|-----|-----|-----|\n",
    "|  B1 |  10 | 100 | 20  |\n",
    "|  B2 |  20 |  30 | 500 |\n",
    "\n",
    "You don't trust the cross section of the background, so you assume a degree of freedom for every process. For example:\n",
    "\n",
    "$$n_{B1}^{SR,exp} = L\\times k_{B1}\\times n_{B1}^{SR,mc}$$\n",
    "$$n_{B1}^{CR1,exp} = L\\times k_{B1}\\times n_{B1}^{CR1,mc}$$\n",
    "\n",
    "where $L$ is the observed luminosity. Note that we are using the correlation between SR/CR1/CR2 of the simulation. Assume  L=10/fb +/- 5%. \n",
    "\n",
    "Suppose you analysis is blinded (you haven't look to the signal region) and you observe: CR1=1509, CR2=5017 events.\n",
    "\n",
    "How many events do you have to observe in the signal region to claim a discovery at 3 sigma (what is the acceptance region)? What is the impact of the systematics? Bonus: take into account the MC statistical uncertainty of 3% for every prediction.\n",
    "\n",
    "For this kind of analyses usually [HistFactory](https://twiki.cern.ch/twiki/bin/view/RooStats/HistFactory) is used to produce the workspace."
   ]
  },
  {
   "cell_type": "markdown",
   "metadata": {
    "slideshow": {
     "slide_type": "subslide"
    }
   },
   "source": [
    "Costraints can be gaussian:\n",
    "    \n",
    "   $$m\\to m(1 + \\sigma\\theta) \\qquad L \\to L \\times G(0, \\theta, 1)$$\n",
    "   \n",
    "or log-normal, for example for quantity that cannot be negative (e.g. efficiencies):\n",
    "\n",
    "   $$\\varepsilon\\to \\varepsilon(1 + \\exp(\\sigma\\theta))\\qquad L \\to L \\times G(0, \\theta, 1)$$\n",
    "   \n"
   ]
  },
  {
   "cell_type": "markdown",
   "metadata": {
    "slideshow": {
     "slide_type": "subslide"
    }
   },
   "source": [
    "### Exercize (big)\n",
    "\n",
    "Find a better constrain for log-normal variable. Suppose you have a random variable $Y$ that is log-normal distributed. Do a change of variable and write it as $Y = a\\exp(b \\Theta)$. How is distributed $\\Theta$? How can I constrain $\\Theta$? Suppose I know the median of $Y$ ($=Y_0$) and the standard deviation $\\sigma\\times Y_0$. What are the values of $a$ and $b$ if I want to conserve the median and the standard deviation? What is the value of $y$ if $\\theta=1$? Is it $Y_0 + \\sigma Y_0$? If not, give an approximation in terms of $O(\\sigma)$ for small $\\sigma$."
   ]
  },
  {
   "cell_type": "markdown",
   "metadata": {
    "slideshow": {
     "slide_type": "slide"
    }
   },
   "source": [
    "## Shape analysis\n",
    "\n",
    "In more complicate analysis you don't look just to the number of events in specific region but you look to the distribution of the events as a function of a continuos variable (e.g. invariant mass).\n",
    "\n",
    "$$L(\\alpha|\\{m_i\\}_{i=1}^n) = \\text{Pois}[n|N_s(\\alpha) + N_b(\\alpha)] \\prod_{i=1}^n\\left(\\frac{N_s(\\alpha) f_s[m_i|\\alpha] + N_b(\\alpha) f_b[m_i|\\alpha]}{N_s(\\alpha)+N_b(\\alpha)}\\right)\\times\\prod_j L(a_j|\\alpha_j)$$\n",
    "\n",
    "Where $\\alpha$ is a set of nuisance parameters, $\\{m_i\\}_{i=1}^n$ are the data, $N_s$ and $N_b$ the predicted number of signal and background events, $f_s$ and $f_b$ the pdf describing the continuos observable.\n",
    "\n",
    "The last term is the product of all the constraints of the nuisance parameters (not all the nuisance parameters need to be constrained by auxiliary measurements). The other term is the extended likelihood of the s+b model.\n",
    "\n",
    "If the signal is localised the background shape can be fully data-driven. This means that the nuisance parameters for the background shape are completely free."
   ]
  },
  {
   "cell_type": "markdown",
   "metadata": {
    "slideshow": {
     "slide_type": "subslide"
    }
   },
   "source": [
    "### Example model\n",
    "\n",
    "Suppose we observe the invariant mass distribution and we are searching for a narrow resonance in the spectrum. Our signal + background model is (after many careful studies) an exponential plus a gaussian. We also know the expected number of events for the signal under a particular theory. We want to be able to parametrize also similar model, where the number of signal events is multiplied by the \"signal multiplier\", $\\mu$. So we will write the number of signal events as $\\mu \\times n_{exp}$ where $n_{exp}$ are the one from the nominal theory. In this way we can also write the background-only model as the special case for $\\mu=0$. The number of background events are not well know by the theory, so we can estimate them from data, which means that $n_b$ is a nuisance parameters in the model."
   ]
  },
  {
   "cell_type": "code",
   "execution_count": 14,
   "metadata": {
    "collapsed": false,
    "slideshow": {
     "slide_type": "subslide"
    }
   },
   "outputs": [],
   "source": [
    "ws = ROOT.RooWorkspace(\"ws_shape\")\n",
    "mH = ws.factory(\"mH[125, 90, 150]\")  # true mass of the resonance\n",
    "mass = ws.factory(\"mass[80, 160]\")    # observed invariant mass\n",
    "ws.factory('expr:kpeak(\"1 + @0 * @1\", {sigma_mH[0.01], theta_mH[0, -5, 5]})')\n",
    "peak = ws.factory('expr:peak(\"@0 * @1\", {mH, kpeak})')   # peak position for signal\n",
    "ws.factory('expr:kwidth(\"1 + @0 * @1\", {sigma_width[0.05], theta_width[0, -5, 5]})')\n",
    "width = ws.factory('expr:width(\"@0 * @1\", {nominal_width[5], kwidth})')\n",
    "signal = ws.factory(\"RooGaussian:signal(mass, peak, width)\")\n",
    "ws.factory(\"RooExponential:background(mass, tau[-0.03, -0.5, -0.001])\")\n",
    "ws.factory(\"nbkg[400, 0, 1000]\")\n",
    "ws.factory('expr:lumi(\"@0 * (1 + exp(@1 * @2))\", {nominal_lumi[25], sigma_lumi[0.02], theta_lumi[0, -5, 5]})')\n",
    "ws.factory('expr:efficiency(\"@0 * (1 + exp(@1 * @2))\", {nominal_efficiency[0.6], sigma_efficiency[0.05], theta_efficiency[0, -5, 5]})')\n",
    "ws.factory('expr:nsignal_theory(\"7 + @0 * 0.2\", {mH})')\n",
    "ws.factory('prod:nsignal(nsignal_theory, mu[1, -2, 5], efficiency)')\n",
    "ws.factory(\"SUM:phys_pdf(nsignal * signal, nbkg * background)\")\n",
    "ws.factory(\"RooGaussian:constrain_peak(global_peak[0, -5, 5], theta_mH, 1)\")\n",
    "ws.factory(\"RooGaussian:constrain_width(global_width[0, -5, 5], theta_width, 1)\")\n",
    "ws.factory(\"RooGaussian:constrain_lumi(global_lumi[0, -5, 5], theta_lumi, 1)\")\n",
    "ws.factory(\"RooGaussian:constrain_eff(global_efficiency[0, -5, 5], theta_efficiency, 1)\")\n",
    "ws.factory(\"PROD:constraints(constrain_peak, constrain_lumi, constrain_width)\")\n",
    "model = ws.factory(\"PROD:model(phys_pdf, constraints)\")"
   ]
  },
  {
   "cell_type": "code",
   "execution_count": 15,
   "metadata": {
    "collapsed": false,
    "slideshow": {
     "slide_type": "subslide"
    }
   },
   "outputs": [
    {
     "data": {
      "image/svg+xml": [
       "<svg height=\"\" viewBox=\"0.00 0.00 1884.79 510.44\" width=\"90%\" xmlns=\"http://www.w3.org/2000/svg\" xmlns:xlink=\"http://www.w3.org/1999/xlink\">\n",
       "<g class=\"graph\" id=\"graph0\" transform=\"scale(1 1) rotate(0) translate(4 506.441)\">\n",
       "<title>model</title>\n",
       "<polygon fill=\"white\" points=\"-4,4 -4,-506.441 1880.79,-506.441 1880.79,4 -4,4\" stroke=\"none\"/>\n",
       "<!-- model -->\n",
       "<g class=\"node\" id=\"node1\"><title>model</title>\n",
       "<ellipse cx=\"565.397\" cy=\"-475.571\" fill=\"none\" rx=\"58.8803\" ry=\"26.7407\" stroke=\"red\"/>\n",
       "<text font-family=\"Times,serif\" font-size=\"14.00\" text-anchor=\"middle\" x=\"565.397\" y=\"-479.371\">RooProdPdf</text>\n",
       "<text font-family=\"Times,serif\" font-size=\"14.00\" text-anchor=\"middle\" x=\"565.397\" y=\"-464.371\">model</text>\n",
       "</g>\n",
       "<!-- phys_pdf -->\n",
       "<g class=\"node\" id=\"node2\"><title>phys_pdf</title>\n",
       "<ellipse cx=\"364.397\" cy=\"-385.831\" fill=\"none\" rx=\"57.0522\" ry=\"26.7407\" stroke=\"red\"/>\n",
       "<text font-family=\"Times,serif\" font-size=\"14.00\" text-anchor=\"middle\" x=\"364.397\" y=\"-389.631\">RooAddPdf</text>\n",
       "<text font-family=\"Times,serif\" font-size=\"14.00\" text-anchor=\"middle\" x=\"364.397\" y=\"-374.631\">phys_pdf</text>\n",
       "</g>\n",
       "<!-- model&#45;&gt;phys_pdf -->\n",
       "<g class=\"edge\" id=\"edge2\"><title>model-&gt;phys_pdf</title>\n",
       "<path d=\"M523.75,-456.391C492.007,-442.535 448.171,-423.4 414.509,-408.705\" fill=\"none\" stroke=\"black\"/>\n",
       "<polygon fill=\"black\" points=\"415.868,-405.48 405.303,-404.687 413.068,-411.895 415.868,-405.48\" stroke=\"black\"/>\n",
       "</g>\n",
       "<!-- constraints -->\n",
       "<g class=\"node\" id=\"node25\"><title>constraints</title>\n",
       "<ellipse cx=\"1443.4\" cy=\"-206.35\" fill=\"none\" rx=\"58.8803\" ry=\"26.7407\" stroke=\"red\"/>\n",
       "<text font-family=\"Times,serif\" font-size=\"14.00\" text-anchor=\"middle\" x=\"1443.4\" y=\"-210.15\">RooProdPdf</text>\n",
       "<text font-family=\"Times,serif\" font-size=\"14.00\" text-anchor=\"middle\" x=\"1443.4\" y=\"-195.15\">constraints</text>\n",
       "</g>\n",
       "<!-- model&#45;&gt;constraints -->\n",
       "<g class=\"edge\" id=\"edge1\"><title>model-&gt;constraints</title>\n",
       "<path d=\"M613.539,-459.919C763.64,-414.235 1222.78,-274.496 1385.48,-224.976\" fill=\"none\" stroke=\"black\"/>\n",
       "<polygon fill=\"black\" points=\"1386.76,-228.246 1395.31,-221.986 1384.72,-221.55 1386.76,-228.246\" stroke=\"black\"/>\n",
       "</g>\n",
       "<!-- signal -->\n",
       "<g class=\"node\" id=\"node3\"><title>signal</title>\n",
       "<ellipse cx=\"364.397\" cy=\"-296.09\" fill=\"none\" rx=\"62.8651\" ry=\"26.7407\" stroke=\"red\"/>\n",
       "<text font-family=\"Times,serif\" font-size=\"14.00\" text-anchor=\"middle\" x=\"364.397\" y=\"-299.89\">RooGaussian</text>\n",
       "<text font-family=\"Times,serif\" font-size=\"14.00\" text-anchor=\"middle\" x=\"364.397\" y=\"-284.89\">signal</text>\n",
       "</g>\n",
       "<!-- phys_pdf&#45;&gt;signal -->\n",
       "<g class=\"edge\" id=\"edge35\"><title>phys_pdf-&gt;signal</title>\n",
       "<path d=\"M364.397,-358.506C364.397,-350.539 364.397,-341.648 364.397,-333.159\" fill=\"none\" stroke=\"black\"/>\n",
       "<polygon fill=\"black\" points=\"367.897,-333.094 364.397,-323.094 360.897,-333.094 367.897,-333.094\" stroke=\"black\"/>\n",
       "</g>\n",
       "<!-- nsignal -->\n",
       "<g class=\"node\" id=\"node15\"><title>nsignal</title>\n",
       "<ellipse cx=\"758.397\" cy=\"-296.09\" fill=\"none\" rx=\"57.0522\" ry=\"26.7407\" stroke=\"red\"/>\n",
       "<text font-family=\"Times,serif\" font-size=\"14.00\" text-anchor=\"middle\" x=\"758.397\" y=\"-299.89\">RooProduct</text>\n",
       "<text font-family=\"Times,serif\" font-size=\"14.00\" text-anchor=\"middle\" x=\"758.397\" y=\"-284.89\">nsignal</text>\n",
       "</g>\n",
       "<!-- phys_pdf&#45;&gt;nsignal -->\n",
       "<g class=\"edge\" id=\"edge36\"><title>phys_pdf-&gt;nsignal</title>\n",
       "<path d=\"M415.502,-373.45C487.837,-357.342 619.875,-327.938 697.295,-310.697\" fill=\"none\" stroke=\"black\"/>\n",
       "<polygon fill=\"black\" points=\"698.383,-314.041 707.383,-308.451 696.861,-307.208 698.383,-314.041\" stroke=\"black\"/>\n",
       "</g>\n",
       "<!-- background -->\n",
       "<g class=\"node\" id=\"node22\"><title>background</title>\n",
       "<ellipse cx=\"210.397\" cy=\"-296.09\" fill=\"none\" rx=\"73.5782\" ry=\"26.7407\" stroke=\"red\"/>\n",
       "<text font-family=\"Times,serif\" font-size=\"14.00\" text-anchor=\"middle\" x=\"210.397\" y=\"-299.89\">RooExponential</text>\n",
       "<text font-family=\"Times,serif\" font-size=\"14.00\" text-anchor=\"middle\" x=\"210.397\" y=\"-284.89\">background</text>\n",
       "</g>\n",
       "<!-- phys_pdf&#45;&gt;background -->\n",
       "<g class=\"edge\" id=\"edge38\"><title>phys_pdf-&gt;background</title>\n",
       "<path d=\"M328.679,-364.481C307.578,-352.459 280.606,-337.091 257.747,-324.068\" fill=\"none\" stroke=\"black\"/>\n",
       "<polygon fill=\"black\" points=\"259.307,-320.928 248.885,-319.019 255.841,-327.01 259.307,-320.928\" stroke=\"black\"/>\n",
       "</g>\n",
       "<!-- nbkg -->\n",
       "<g class=\"node\" id=\"node24\"><title>nbkg</title>\n",
       "<ellipse cx=\"59.397\" cy=\"-296.09\" fill=\"none\" rx=\"59.2941\" ry=\"26.7407\" stroke=\"blue\"/>\n",
       "<text font-family=\"Times,serif\" font-size=\"14.00\" text-anchor=\"middle\" x=\"59.397\" y=\"-299.89\">RooRealVar</text>\n",
       "<text font-family=\"Times,serif\" font-size=\"14.00\" text-anchor=\"middle\" x=\"59.397\" y=\"-284.89\">nbkg</text>\n",
       "</g>\n",
       "<!-- phys_pdf&#45;&gt;nbkg -->\n",
       "<g class=\"edge\" id=\"edge37\"><title>phys_pdf-&gt;nbkg</title>\n",
       "<path d=\"M313.548,-373.241C265.245,-361.837 190.787,-343.227 127.397,-322.96 122.558,-321.413 117.561,-319.714 112.576,-317.948\" fill=\"none\" stroke=\"black\"/>\n",
       "<polygon fill=\"black\" points=\"113.64,-314.611 103.046,-314.493 111.254,-321.192 113.64,-314.611\" stroke=\"black\"/>\n",
       "</g>\n",
       "<!-- mass -->\n",
       "<g class=\"node\" id=\"node4\"><title>mass</title>\n",
       "<ellipse cx=\"210.397\" cy=\"-206.35\" fill=\"none\" rx=\"59.2941\" ry=\"26.7407\" stroke=\"blue\"/>\n",
       "<text font-family=\"Times,serif\" font-size=\"14.00\" text-anchor=\"middle\" x=\"210.397\" y=\"-210.15\">RooRealVar</text>\n",
       "<text font-family=\"Times,serif\" font-size=\"14.00\" text-anchor=\"middle\" x=\"210.397\" y=\"-195.15\">mass</text>\n",
       "</g>\n",
       "<!-- signal&#45;&gt;mass -->\n",
       "<g class=\"edge\" id=\"edge3\"><title>signal-&gt;mass</title>\n",
       "<path d=\"M327.51,-274.074C305.829,-261.722 278.26,-246.015 255.318,-232.944\" fill=\"none\" stroke=\"black\"/>\n",
       "<polygon fill=\"black\" points=\"256.873,-229.801 246.451,-227.892 253.408,-235.883 256.873,-229.801\" stroke=\"black\"/>\n",
       "</g>\n",
       "<!-- peak -->\n",
       "<g class=\"node\" id=\"node5\"><title>peak</title>\n",
       "<ellipse cx=\"530.397\" cy=\"-206.35\" fill=\"none\" rx=\"74.9067\" ry=\"26.7407\" stroke=\"red\"/>\n",
       "<text font-family=\"Times,serif\" font-size=\"14.00\" text-anchor=\"middle\" x=\"530.397\" y=\"-210.15\">RooFormulaVar</text>\n",
       "<text font-family=\"Times,serif\" font-size=\"14.00\" text-anchor=\"middle\" x=\"530.397\" y=\"-195.15\">peak</text>\n",
       "</g>\n",
       "<!-- signal&#45;&gt;peak -->\n",
       "<g class=\"edge\" id=\"edge4\"><title>signal-&gt;peak</title>\n",
       "<path d=\"M402.898,-274.741C426.015,-262.522 455.67,-246.848 480.562,-233.691\" fill=\"none\" stroke=\"black\"/>\n",
       "<polygon fill=\"black\" points=\"482.291,-236.736 489.496,-228.968 479.02,-230.547 482.291,-236.736\" stroke=\"black\"/>\n",
       "</g>\n",
       "<!-- width -->\n",
       "<g class=\"node\" id=\"node10\"><title>width</title>\n",
       "<ellipse cx=\"362.397\" cy=\"-206.35\" fill=\"none\" rx=\"74.9067\" ry=\"26.7407\" stroke=\"red\"/>\n",
       "<text font-family=\"Times,serif\" font-size=\"14.00\" text-anchor=\"middle\" x=\"362.397\" y=\"-210.15\">RooFormulaVar</text>\n",
       "<text font-family=\"Times,serif\" font-size=\"14.00\" text-anchor=\"middle\" x=\"362.397\" y=\"-195.15\">width</text>\n",
       "</g>\n",
       "<!-- signal&#45;&gt;width -->\n",
       "<g class=\"edge\" id=\"edge5\"><title>signal-&gt;width</title>\n",
       "<path d=\"M363.797,-268.765C363.615,-260.799 363.413,-251.908 363.219,-243.419\" fill=\"none\" stroke=\"black\"/>\n",
       "<polygon fill=\"black\" points=\"366.717,-243.272 362.99,-233.354 359.719,-243.431 366.717,-243.272\" stroke=\"black\"/>\n",
       "</g>\n",
       "<!-- mH -->\n",
       "<g class=\"node\" id=\"node6\"><title>mH</title>\n",
       "<ellipse cx=\"682.397\" cy=\"-116.61\" fill=\"none\" rx=\"59.2941\" ry=\"26.7407\" stroke=\"blue\"/>\n",
       "<text font-family=\"Times,serif\" font-size=\"14.00\" text-anchor=\"middle\" x=\"682.397\" y=\"-120.41\">RooRealVar</text>\n",
       "<text font-family=\"Times,serif\" font-size=\"14.00\" text-anchor=\"middle\" x=\"682.397\" y=\"-105.41\">mH</text>\n",
       "</g>\n",
       "<!-- peak&#45;&gt;mH -->\n",
       "<g class=\"edge\" id=\"edge10\"><title>peak-&gt;mH</title>\n",
       "<path d=\"M568.753,-183.21C589.778,-171.073 615.945,-155.969 637.868,-143.314\" fill=\"none\" stroke=\"black\"/>\n",
       "<polygon fill=\"black\" points=\"639.753,-146.267 646.664,-138.237 636.253,-140.205 639.753,-146.267\" stroke=\"black\"/>\n",
       "</g>\n",
       "<!-- kpeak -->\n",
       "<g class=\"node\" id=\"node7\"><title>kpeak</title>\n",
       "<ellipse cx=\"530.397\" cy=\"-116.61\" fill=\"none\" rx=\"74.9067\" ry=\"26.7407\" stroke=\"red\"/>\n",
       "<text font-family=\"Times,serif\" font-size=\"14.00\" text-anchor=\"middle\" x=\"530.397\" y=\"-120.41\">RooFormulaVar</text>\n",
       "<text font-family=\"Times,serif\" font-size=\"14.00\" text-anchor=\"middle\" x=\"530.397\" y=\"-105.41\">kpeak</text>\n",
       "</g>\n",
       "<!-- peak&#45;&gt;kpeak -->\n",
       "<g class=\"edge\" id=\"edge9\"><title>peak-&gt;kpeak</title>\n",
       "<path d=\"M530.397,-179.025C530.397,-171.059 530.397,-162.168 530.397,-153.679\" fill=\"none\" stroke=\"black\"/>\n",
       "<polygon fill=\"black\" points=\"533.897,-153.614 530.397,-143.614 526.897,-153.614 533.897,-153.614\" stroke=\"black\"/>\n",
       "</g>\n",
       "<!-- sigma_mH -->\n",
       "<g class=\"node\" id=\"node8\"><title>sigma_mH</title>\n",
       "<ellipse cx=\"530.397\" cy=\"-26.8701\" fill=\"none\" rx=\"59.2941\" ry=\"26.7407\" stroke=\"blue\"/>\n",
       "<text font-family=\"Times,serif\" font-size=\"14.00\" text-anchor=\"middle\" x=\"530.397\" y=\"-30.6701\">RooRealVar</text>\n",
       "<text font-family=\"Times,serif\" font-size=\"14.00\" text-anchor=\"middle\" x=\"530.397\" y=\"-15.6701\">sigma_mH</text>\n",
       "</g>\n",
       "<!-- kpeak&#45;&gt;sigma_mH -->\n",
       "<g class=\"edge\" id=\"edge12\"><title>kpeak-&gt;sigma_mH</title>\n",
       "<path d=\"M530.397,-89.2852C530.397,-81.3185 530.397,-72.4275 530.397,-63.9391\" fill=\"none\" stroke=\"black\"/>\n",
       "<polygon fill=\"black\" points=\"533.897,-63.874 530.397,-53.874 526.897,-63.8741 533.897,-63.874\" stroke=\"black\"/>\n",
       "</g>\n",
       "<!-- theta_mH -->\n",
       "<g class=\"node\" id=\"node9\"><title>theta_mH</title>\n",
       "<ellipse cx=\"1038.4\" cy=\"-26.8701\" fill=\"none\" rx=\"59.2941\" ry=\"26.7407\" stroke=\"blue\"/>\n",
       "<text font-family=\"Times,serif\" font-size=\"14.00\" text-anchor=\"middle\" x=\"1038.4\" y=\"-30.6701\">RooRealVar</text>\n",
       "<text font-family=\"Times,serif\" font-size=\"14.00\" text-anchor=\"middle\" x=\"1038.4\" y=\"-15.6701\">theta_mH</text>\n",
       "</g>\n",
       "<!-- kpeak&#45;&gt;theta_mH -->\n",
       "<g class=\"edge\" id=\"edge11\"><title>kpeak-&gt;theta_mH</title>\n",
       "<path d=\"M584.291,-97.6737C594.231,-94.7487 604.573,-91.9559 614.397,-89.7401 738.696,-61.7057 886.478,-43.4883 970.672,-34.5015\" fill=\"none\" stroke=\"black\"/>\n",
       "<polygon fill=\"black\" points=\"971.041,-37.982 980.618,-33.4512 970.306,-31.0207 971.041,-37.982\" stroke=\"black\"/>\n",
       "</g>\n",
       "<!-- nominal_width -->\n",
       "<g class=\"node\" id=\"node11\"><title>nominal_width</title>\n",
       "<ellipse cx=\"199.397\" cy=\"-116.61\" fill=\"none\" rx=\"70.0071\" ry=\"26.7407\" stroke=\"blue\"/>\n",
       "<text font-family=\"Times,serif\" font-size=\"14.00\" text-anchor=\"middle\" x=\"199.397\" y=\"-120.41\">RooRealVar</text>\n",
       "<text font-family=\"Times,serif\" font-size=\"14.00\" text-anchor=\"middle\" x=\"199.397\" y=\"-105.41\">nominal_width</text>\n",
       "</g>\n",
       "<!-- width&#45;&gt;nominal_width -->\n",
       "<g class=\"edge\" id=\"edge17\"><title>width-&gt;nominal_width</title>\n",
       "<path d=\"M322.105,-183.662C299.618,-171.557 271.45,-156.395 247.776,-143.652\" fill=\"none\" stroke=\"black\"/>\n",
       "<polygon fill=\"black\" points=\"249.408,-140.556 238.944,-138.898 246.091,-146.719 249.408,-140.556\" stroke=\"black\"/>\n",
       "</g>\n",
       "<!-- kwidth -->\n",
       "<g class=\"node\" id=\"node12\"><title>kwidth</title>\n",
       "<ellipse cx=\"362.397\" cy=\"-116.61\" fill=\"none\" rx=\"74.9067\" ry=\"26.7407\" stroke=\"red\"/>\n",
       "<text font-family=\"Times,serif\" font-size=\"14.00\" text-anchor=\"middle\" x=\"362.397\" y=\"-120.41\">RooFormulaVar</text>\n",
       "<text font-family=\"Times,serif\" font-size=\"14.00\" text-anchor=\"middle\" x=\"362.397\" y=\"-105.41\">kwidth</text>\n",
       "</g>\n",
       "<!-- width&#45;&gt;kwidth -->\n",
       "<g class=\"edge\" id=\"edge18\"><title>width-&gt;kwidth</title>\n",
       "<path d=\"M362.397,-179.025C362.397,-171.059 362.397,-162.168 362.397,-153.679\" fill=\"none\" stroke=\"black\"/>\n",
       "<polygon fill=\"black\" points=\"365.897,-153.614 362.397,-143.614 358.897,-153.614 365.897,-153.614\" stroke=\"black\"/>\n",
       "</g>\n",
       "<!-- sigma_width -->\n",
       "<g class=\"node\" id=\"node13\"><title>sigma_width</title>\n",
       "<ellipse cx=\"362.397\" cy=\"-26.8701\" fill=\"none\" rx=\"61.5366\" ry=\"26.7407\" stroke=\"blue\"/>\n",
       "<text font-family=\"Times,serif\" font-size=\"14.00\" text-anchor=\"middle\" x=\"362.397\" y=\"-30.6701\">RooRealVar</text>\n",
       "<text font-family=\"Times,serif\" font-size=\"14.00\" text-anchor=\"middle\" x=\"362.397\" y=\"-15.6701\">sigma_width</text>\n",
       "</g>\n",
       "<!-- kwidth&#45;&gt;sigma_width -->\n",
       "<g class=\"edge\" id=\"edge20\"><title>kwidth-&gt;sigma_width</title>\n",
       "<path d=\"M362.397,-89.2852C362.397,-81.3185 362.397,-72.4275 362.397,-63.9391\" fill=\"none\" stroke=\"black\"/>\n",
       "<polygon fill=\"black\" points=\"365.897,-63.874 362.397,-53.874 358.897,-63.8741 365.897,-63.874\" stroke=\"black\"/>\n",
       "</g>\n",
       "<!-- theta_width -->\n",
       "<g class=\"node\" id=\"node14\"><title>theta_width</title>\n",
       "<ellipse cx=\"745.397\" cy=\"-26.8701\" fill=\"none\" rx=\"59.2941\" ry=\"26.7407\" stroke=\"blue\"/>\n",
       "<text font-family=\"Times,serif\" font-size=\"14.00\" text-anchor=\"middle\" x=\"745.397\" y=\"-30.6701\">RooRealVar</text>\n",
       "<text font-family=\"Times,serif\" font-size=\"14.00\" text-anchor=\"middle\" x=\"745.397\" y=\"-15.6701\">theta_width</text>\n",
       "</g>\n",
       "<!-- kwidth&#45;&gt;theta_width -->\n",
       "<g class=\"edge\" id=\"edge19\"><title>kwidth-&gt;theta_width</title>\n",
       "<path d=\"M416.858,-98.017C426.647,-95.0897 436.79,-92.2075 446.397,-89.7401 526.524,-69.1607 620.076,-50.6795 680.906,-39.3862\" fill=\"none\" stroke=\"black\"/>\n",
       "<polygon fill=\"black\" points=\"681.555,-42.8256 690.754,-37.5678 680.284,-35.942 681.555,-42.8256\" stroke=\"black\"/>\n",
       "</g>\n",
       "<!-- nsignal_theory -->\n",
       "<g class=\"node\" id=\"node16\"><title>nsignal_theory</title>\n",
       "<ellipse cx=\"834.397\" cy=\"-206.35\" fill=\"none\" rx=\"74.9067\" ry=\"26.7407\" stroke=\"red\"/>\n",
       "<text font-family=\"Times,serif\" font-size=\"14.00\" text-anchor=\"middle\" x=\"834.397\" y=\"-210.15\">RooFormulaVar</text>\n",
       "<text font-family=\"Times,serif\" font-size=\"14.00\" text-anchor=\"middle\" x=\"834.397\" y=\"-195.15\">nsignal_theory</text>\n",
       "</g>\n",
       "<!-- nsignal&#45;&gt;nsignal_theory -->\n",
       "<g class=\"edge\" id=\"edge6\"><title>nsignal-&gt;nsignal_theory</title>\n",
       "<path d=\"M779.567,-270.65C787.827,-261.114 797.417,-250.043 806.245,-239.852\" fill=\"none\" stroke=\"black\"/>\n",
       "<polygon fill=\"black\" points=\"808.91,-242.12 812.812,-232.269 803.619,-237.537 808.91,-242.12\" stroke=\"black\"/>\n",
       "</g>\n",
       "<!-- mu -->\n",
       "<g class=\"node\" id=\"node17\"><title>mu</title>\n",
       "<ellipse cx=\"682.397\" cy=\"-206.35\" fill=\"none\" rx=\"59.2941\" ry=\"26.7407\" stroke=\"blue\"/>\n",
       "<text font-family=\"Times,serif\" font-size=\"14.00\" text-anchor=\"middle\" x=\"682.397\" y=\"-210.15\">RooRealVar</text>\n",
       "<text font-family=\"Times,serif\" font-size=\"14.00\" text-anchor=\"middle\" x=\"682.397\" y=\"-195.15\">mu</text>\n",
       "</g>\n",
       "<!-- nsignal&#45;&gt;mu -->\n",
       "<g class=\"edge\" id=\"edge8\"><title>nsignal-&gt;mu</title>\n",
       "<path d=\"M737.227,-270.65C728.827,-260.952 719.052,-249.667 710.101,-239.334\" fill=\"none\" stroke=\"black\"/>\n",
       "<polygon fill=\"black\" points=\"712.647,-236.927 703.454,-231.66 707.355,-241.51 712.647,-236.927\" stroke=\"black\"/>\n",
       "</g>\n",
       "<!-- efficiency -->\n",
       "<g class=\"node\" id=\"node18\"><title>efficiency</title>\n",
       "<ellipse cx=\"1007.4\" cy=\"-206.35\" fill=\"none\" rx=\"74.9067\" ry=\"26.7407\" stroke=\"red\"/>\n",
       "<text font-family=\"Times,serif\" font-size=\"14.00\" text-anchor=\"middle\" x=\"1007.4\" y=\"-210.15\">RooFormulaVar</text>\n",
       "<text font-family=\"Times,serif\" font-size=\"14.00\" text-anchor=\"middle\" x=\"1007.4\" y=\"-195.15\">efficiency</text>\n",
       "</g>\n",
       "<!-- nsignal&#45;&gt;efficiency -->\n",
       "<g class=\"edge\" id=\"edge7\"><title>nsignal-&gt;efficiency</title>\n",
       "<path d=\"M803.201,-279.303C842.987,-265.284 901.505,-244.663 945.709,-229.087\" fill=\"none\" stroke=\"black\"/>\n",
       "<polygon fill=\"black\" points=\"946.927,-232.369 955.195,-225.745 944.601,-225.767 946.927,-232.369\" stroke=\"black\"/>\n",
       "</g>\n",
       "<!-- nsignal_theory&#45;&gt;mH -->\n",
       "<g class=\"edge\" id=\"edge13\"><title>nsignal_theory-&gt;mH</title>\n",
       "<path d=\"M796.041,-183.21C775.016,-171.073 748.849,-155.969 726.926,-143.314\" fill=\"none\" stroke=\"black\"/>\n",
       "<polygon fill=\"black\" points=\"728.541,-140.205 718.13,-138.237 725.041,-146.267 728.541,-140.205\" stroke=\"black\"/>\n",
       "</g>\n",
       "<!-- nominal_efficiency -->\n",
       "<g class=\"node\" id=\"node19\"><title>nominal_efficiency</title>\n",
       "<ellipse cx=\"1011.4\" cy=\"-116.61\" fill=\"none\" rx=\"86.0347\" ry=\"26.7407\" stroke=\"blue\"/>\n",
       "<text font-family=\"Times,serif\" font-size=\"14.00\" text-anchor=\"middle\" x=\"1011.4\" y=\"-120.41\">RooRealVar</text>\n",
       "<text font-family=\"Times,serif\" font-size=\"14.00\" text-anchor=\"middle\" x=\"1011.4\" y=\"-105.41\">nominal_efficiency</text>\n",
       "</g>\n",
       "<!-- efficiency&#45;&gt;nominal_efficiency -->\n",
       "<g class=\"edge\" id=\"edge16\"><title>efficiency-&gt;nominal_efficiency</title>\n",
       "<path d=\"M1008.6,-179.025C1008.96,-171.059 1009.37,-162.168 1009.75,-153.679\" fill=\"none\" stroke=\"black\"/>\n",
       "<polygon fill=\"black\" points=\"1013.25,-153.763 1010.21,-143.614 1006.26,-153.444 1013.25,-153.763\" stroke=\"black\"/>\n",
       "</g>\n",
       "<!-- sigma_efficiency -->\n",
       "<g class=\"node\" id=\"node20\"><title>sigma_efficiency</title>\n",
       "<ellipse cx=\"1193.4\" cy=\"-116.61\" fill=\"none\" rx=\"77.5641\" ry=\"26.7407\" stroke=\"blue\"/>\n",
       "<text font-family=\"Times,serif\" font-size=\"14.00\" text-anchor=\"middle\" x=\"1193.4\" y=\"-120.41\">RooRealVar</text>\n",
       "<text font-family=\"Times,serif\" font-size=\"14.00\" text-anchor=\"middle\" x=\"1193.4\" y=\"-105.41\">sigma_efficiency</text>\n",
       "</g>\n",
       "<!-- efficiency&#45;&gt;sigma_efficiency -->\n",
       "<g class=\"edge\" id=\"edge15\"><title>efficiency-&gt;sigma_efficiency</title>\n",
       "<path d=\"M1051.48,-184.557C1077.83,-172.128 1111.5,-156.243 1139.43,-143.067\" fill=\"none\" stroke=\"black\"/>\n",
       "<polygon fill=\"black\" points=\"1141.11,-146.143 1148.67,-138.711 1138.13,-139.812 1141.11,-146.143\" stroke=\"black\"/>\n",
       "</g>\n",
       "<!-- theta_efficiency -->\n",
       "<g class=\"node\" id=\"node21\"><title>theta_efficiency</title>\n",
       "<ellipse cx=\"833.397\" cy=\"-116.61\" fill=\"none\" rx=\"73.5782\" ry=\"26.7407\" stroke=\"blue\"/>\n",
       "<text font-family=\"Times,serif\" font-size=\"14.00\" text-anchor=\"middle\" x=\"833.397\" y=\"-120.41\">RooRealVar</text>\n",
       "<text font-family=\"Times,serif\" font-size=\"14.00\" text-anchor=\"middle\" x=\"833.397\" y=\"-105.41\">theta_efficiency</text>\n",
       "</g>\n",
       "<!-- efficiency&#45;&gt;theta_efficiency -->\n",
       "<g class=\"edge\" id=\"edge14\"><title>efficiency-&gt;theta_efficiency</title>\n",
       "<path d=\"M965.276,-184.111C941.001,-171.87 910.306,-156.392 884.639,-143.449\" fill=\"none\" stroke=\"black\"/>\n",
       "<polygon fill=\"black\" points=\"885.936,-140.183 875.431,-138.806 882.784,-146.434 885.936,-140.183\" stroke=\"black\"/>\n",
       "</g>\n",
       "<!-- background&#45;&gt;mass -->\n",
       "<g class=\"edge\" id=\"edge24\"><title>background-&gt;mass</title>\n",
       "<path d=\"M210.397,-268.765C210.397,-260.799 210.397,-251.908 210.397,-243.419\" fill=\"none\" stroke=\"black\"/>\n",
       "<polygon fill=\"black\" points=\"213.897,-243.354 210.397,-233.354 206.897,-243.354 213.897,-243.354\" stroke=\"black\"/>\n",
       "</g>\n",
       "<!-- tau -->\n",
       "<g class=\"node\" id=\"node23\"><title>tau</title>\n",
       "<ellipse cx=\"73.397\" cy=\"-206.35\" fill=\"none\" rx=\"59.2941\" ry=\"26.7407\" stroke=\"blue\"/>\n",
       "<text font-family=\"Times,serif\" font-size=\"14.00\" text-anchor=\"middle\" x=\"73.397\" y=\"-210.15\">RooRealVar</text>\n",
       "<text font-family=\"Times,serif\" font-size=\"14.00\" text-anchor=\"middle\" x=\"73.397\" y=\"-195.15\">tau</text>\n",
       "</g>\n",
       "<!-- background&#45;&gt;tau -->\n",
       "<g class=\"edge\" id=\"edge25\"><title>background-&gt;tau</title>\n",
       "<path d=\"M175.116,-272.495C156.828,-260.783 134.372,-246.401 115.215,-234.132\" fill=\"none\" stroke=\"black\"/>\n",
       "<polygon fill=\"black\" points=\"116.982,-231.107 106.673,-228.661 113.206,-237.002 116.982,-231.107\" stroke=\"black\"/>\n",
       "</g>\n",
       "<!-- constrain_peak -->\n",
       "<g class=\"node\" id=\"node26\"><title>constrain_peak</title>\n",
       "<ellipse cx=\"1523.4\" cy=\"-116.61\" fill=\"none\" rx=\"69.0935\" ry=\"26.7407\" stroke=\"red\"/>\n",
       "<text font-family=\"Times,serif\" font-size=\"14.00\" text-anchor=\"middle\" x=\"1523.4\" y=\"-120.41\">RooGaussian</text>\n",
       "<text font-family=\"Times,serif\" font-size=\"14.00\" text-anchor=\"middle\" x=\"1523.4\" y=\"-105.41\">constrain_peak</text>\n",
       "</g>\n",
       "<!-- constraints&#45;&gt;constrain_peak -->\n",
       "<g class=\"edge\" id=\"edge21\"><title>constraints-&gt;constrain_peak</title>\n",
       "<path d=\"M1465.26,-181.375C1474.19,-171.576 1484.66,-160.097 1494.23,-149.6\" fill=\"none\" stroke=\"black\"/>\n",
       "<polygon fill=\"black\" points=\"1496.85,-151.915 1501.01,-142.167 1491.68,-147.199 1496.85,-151.915\" stroke=\"black\"/>\n",
       "</g>\n",
       "<!-- constrain_lumi -->\n",
       "<g class=\"node\" id=\"node29\"><title>constrain_lumi</title>\n",
       "<ellipse cx=\"1680.4\" cy=\"-116.61\" fill=\"none\" rx=\"69.0935\" ry=\"26.7407\" stroke=\"red\"/>\n",
       "<text font-family=\"Times,serif\" font-size=\"14.00\" text-anchor=\"middle\" x=\"1680.4\" y=\"-120.41\">RooGaussian</text>\n",
       "<text font-family=\"Times,serif\" font-size=\"14.00\" text-anchor=\"middle\" x=\"1680.4\" y=\"-105.41\">constrain_lumi</text>\n",
       "</g>\n",
       "<!-- constraints&#45;&gt;constrain_lumi -->\n",
       "<g class=\"edge\" id=\"edge22\"><title>constraints-&gt;constrain_lumi</title>\n",
       "<path d=\"M1487.97,-188.847C1525.92,-174.801 1580.69,-154.522 1622.11,-139.19\" fill=\"none\" stroke=\"black\"/>\n",
       "<polygon fill=\"black\" points=\"1623.36,-142.457 1631.53,-135.703 1620.93,-135.892 1623.36,-142.457\" stroke=\"black\"/>\n",
       "</g>\n",
       "<!-- constrain_width -->\n",
       "<g class=\"node\" id=\"node32\"><title>constrain_width</title>\n",
       "<ellipse cx=\"1362.4\" cy=\"-116.61\" fill=\"none\" rx=\"73.5782\" ry=\"26.7407\" stroke=\"red\"/>\n",
       "<text font-family=\"Times,serif\" font-size=\"14.00\" text-anchor=\"middle\" x=\"1362.4\" y=\"-120.41\">RooGaussian</text>\n",
       "<text font-family=\"Times,serif\" font-size=\"14.00\" text-anchor=\"middle\" x=\"1362.4\" y=\"-105.41\">constrain_width</text>\n",
       "</g>\n",
       "<!-- constraints&#45;&gt;constrain_width -->\n",
       "<g class=\"edge\" id=\"edge23\"><title>constraints-&gt;constrain_width</title>\n",
       "<path d=\"M1421.26,-181.375C1412.29,-171.658 1401.8,-160.288 1392.17,-149.862\" fill=\"none\" stroke=\"black\"/>\n",
       "<polygon fill=\"black\" points=\"1394.71,-147.448 1385.35,-142.474 1389.56,-152.196 1394.71,-147.448\" stroke=\"black\"/>\n",
       "</g>\n",
       "<!-- constrain_peak&#45;&gt;theta_mH -->\n",
       "<g class=\"edge\" id=\"edge27\"><title>constrain_peak-&gt;theta_mH</title>\n",
       "<path d=\"M1473.85,-97.6756C1464.49,-94.715 1454.71,-91.9093 1445.4,-89.7401 1331.78,-63.2676 1300.64,-71.8529 1185.4,-53.7401 1158.28,-49.4779 1128.43,-44.3131 1102.76,-39.7226\" fill=\"none\" stroke=\"black\"/>\n",
       "<polygon fill=\"black\" points=\"1103.23,-36.2518 1092.77,-37.9284 1101.99,-43.1415 1103.23,-36.2518\" stroke=\"black\"/>\n",
       "</g>\n",
       "<!-- 1 -->\n",
       "<g class=\"node\" id=\"node27\"><title>1</title>\n",
       "<ellipse cx=\"1401.4\" cy=\"-26.8701\" fill=\"none\" rx=\"64.1938\" ry=\"26.7407\" stroke=\"red\"/>\n",
       "<text font-family=\"Times,serif\" font-size=\"14.00\" text-anchor=\"middle\" x=\"1401.4\" y=\"-30.6701\">RooConstVar</text>\n",
       "<text font-family=\"Times,serif\" font-size=\"14.00\" text-anchor=\"middle\" x=\"1401.4\" y=\"-15.6701\">1</text>\n",
       "</g>\n",
       "<!-- constrain_peak&#45;&gt;1 -->\n",
       "<g class=\"edge\" id=\"edge28\"><title>constrain_peak-&gt;1</title>\n",
       "<path d=\"M1491.34,-92.5575C1475.95,-81.4889 1457.36,-68.1188 1441.09,-56.4136\" fill=\"none\" stroke=\"black\"/>\n",
       "<polygon fill=\"black\" points=\"1442.98,-53.4625 1432.82,-50.4653 1438.89,-59.1455 1442.98,-53.4625\" stroke=\"black\"/>\n",
       "</g>\n",
       "<!-- global_peak -->\n",
       "<g class=\"node\" id=\"node28\"><title>global_peak</title>\n",
       "<ellipse cx=\"1543.4\" cy=\"-26.8701\" fill=\"none\" rx=\"59.2941\" ry=\"26.7407\" stroke=\"blue\"/>\n",
       "<text font-family=\"Times,serif\" font-size=\"14.00\" text-anchor=\"middle\" x=\"1543.4\" y=\"-30.6701\">RooRealVar</text>\n",
       "<text font-family=\"Times,serif\" font-size=\"14.00\" text-anchor=\"middle\" x=\"1543.4\" y=\"-15.6701\">global_peak</text>\n",
       "</g>\n",
       "<!-- constrain_peak&#45;&gt;global_peak -->\n",
       "<g class=\"edge\" id=\"edge26\"><title>constrain_peak-&gt;global_peak</title>\n",
       "<path d=\"M1529.29,-89.7598C1531.14,-81.6214 1533.23,-72.4816 1535.21,-63.7749\" fill=\"none\" stroke=\"black\"/>\n",
       "<polygon fill=\"black\" points=\"1538.67,-64.3667 1537.48,-53.8389 1531.84,-62.8109 1538.67,-64.3667\" stroke=\"black\"/>\n",
       "</g>\n",
       "<!-- constrain_lumi&#45;&gt;1 -->\n",
       "<g class=\"edge\" id=\"edge30\"><title>constrain_lumi-&gt;1</title>\n",
       "<path d=\"M1629.07,-98.4869C1619.87,-95.5095 1610.37,-92.4888 1601.4,-89.7401 1545.71,-72.6745 1530.91,-71.3576 1475.4,-53.7401 1469.91,-51.9995 1464.22,-50.1281 1458.54,-48.2167\" fill=\"none\" stroke=\"black\"/>\n",
       "<polygon fill=\"black\" points=\"1459.62,-44.8884 1449.03,-44.9781 1457.37,-51.5147 1459.62,-44.8884\" stroke=\"black\"/>\n",
       "</g>\n",
       "<!-- global_lumi -->\n",
       "<g class=\"node\" id=\"node30\"><title>global_lumi</title>\n",
       "<ellipse cx=\"1817.4\" cy=\"-26.8701\" fill=\"none\" rx=\"59.2941\" ry=\"26.7407\" stroke=\"blue\"/>\n",
       "<text font-family=\"Times,serif\" font-size=\"14.00\" text-anchor=\"middle\" x=\"1817.4\" y=\"-30.6701\">RooRealVar</text>\n",
       "<text font-family=\"Times,serif\" font-size=\"14.00\" text-anchor=\"middle\" x=\"1817.4\" y=\"-15.6701\">global_lumi</text>\n",
       "</g>\n",
       "<!-- constrain_lumi&#45;&gt;global_lumi -->\n",
       "<g class=\"edge\" id=\"edge31\"><title>constrain_lumi-&gt;global_lumi</title>\n",
       "<path d=\"M1715.32,-93.2426C1733.61,-81.531 1756.14,-67.103 1775.37,-54.7836\" fill=\"none\" stroke=\"black\"/>\n",
       "<polygon fill=\"black\" points=\"1777.42,-57.6296 1783.95,-49.289 1773.64,-51.7348 1777.42,-57.6296\" stroke=\"black\"/>\n",
       "</g>\n",
       "<!-- theta_lumi -->\n",
       "<g class=\"node\" id=\"node31\"><title>theta_lumi</title>\n",
       "<ellipse cx=\"1680.4\" cy=\"-26.8701\" fill=\"none\" rx=\"59.2941\" ry=\"26.7407\" stroke=\"blue\"/>\n",
       "<text font-family=\"Times,serif\" font-size=\"14.00\" text-anchor=\"middle\" x=\"1680.4\" y=\"-30.6701\">RooRealVar</text>\n",
       "<text font-family=\"Times,serif\" font-size=\"14.00\" text-anchor=\"middle\" x=\"1680.4\" y=\"-15.6701\">theta_lumi</text>\n",
       "</g>\n",
       "<!-- constrain_lumi&#45;&gt;theta_lumi -->\n",
       "<g class=\"edge\" id=\"edge29\"><title>constrain_lumi-&gt;theta_lumi</title>\n",
       "<path d=\"M1680.4,-89.2852C1680.4,-81.3185 1680.4,-72.4275 1680.4,-63.9391\" fill=\"none\" stroke=\"black\"/>\n",
       "<polygon fill=\"black\" points=\"1683.9,-63.874 1680.4,-53.874 1676.9,-63.8741 1683.9,-63.874\" stroke=\"black\"/>\n",
       "</g>\n",
       "<!-- constrain_width&#45;&gt;theta_width -->\n",
       "<g class=\"edge\" id=\"edge32\"><title>constrain_width-&gt;theta_width</title>\n",
       "<path d=\"M1310.3,-97.5438C1300.46,-94.596 1290.18,-91.8287 1280.4,-89.7401 1277.55,-89.1327 955.537,-52.048 812.524,-35.5917\" fill=\"none\" stroke=\"black\"/>\n",
       "<polygon fill=\"black\" points=\"812.878,-32.1094 802.543,-34.4432 812.077,-39.0635 812.878,-32.1094\" stroke=\"black\"/>\n",
       "</g>\n",
       "<!-- constrain_width&#45;&gt;1 -->\n",
       "<g class=\"edge\" id=\"edge33\"><title>constrain_width-&gt;1</title>\n",
       "<path d=\"M1373.89,-89.7598C1377.66,-81.281 1381.91,-71.7152 1385.92,-62.6847\" fill=\"none\" stroke=\"black\"/>\n",
       "<polygon fill=\"black\" points=\"1389.13,-64.0953 1389.99,-53.5357 1382.73,-61.252 1389.13,-64.0953\" stroke=\"black\"/>\n",
       "</g>\n",
       "<!-- global_width -->\n",
       "<g class=\"node\" id=\"node33\"><title>global_width</title>\n",
       "<ellipse cx=\"1256.4\" cy=\"-26.8701\" fill=\"none\" rx=\"62.4516\" ry=\"26.7407\" stroke=\"blue\"/>\n",
       "<text font-family=\"Times,serif\" font-size=\"14.00\" text-anchor=\"middle\" x=\"1256.4\" y=\"-30.6701\">RooRealVar</text>\n",
       "<text font-family=\"Times,serif\" font-size=\"14.00\" text-anchor=\"middle\" x=\"1256.4\" y=\"-15.6701\">global_width</text>\n",
       "</g>\n",
       "<!-- constrain_width&#45;&gt;global_width -->\n",
       "<g class=\"edge\" id=\"edge34\"><title>constrain_width-&gt;global_width</title>\n",
       "<path d=\"M1333.71,-91.8664C1320.9,-81.2602 1305.66,-68.6502 1292.12,-57.4393\" fill=\"none\" stroke=\"black\"/>\n",
       "<polygon fill=\"black\" points=\"1294.31,-54.7061 1284.37,-51.0258 1289.84,-60.0984 1294.31,-54.7061\" stroke=\"black\"/>\n",
       "</g>\n",
       "</g>\n",
       "</svg>"
      ],
      "text/plain": [
       "<IPython.core.display.SVG object>"
      ]
     },
     "execution_count": 15,
     "metadata": {},
     "output_type": "execute_result"
    }
   ],
   "source": [
    "model.graphVizTree(\"shape_graph.dot\")\n",
    "!dot -Tsvg shape_graph.dot > shape_graph.svg; rm shape_graph.dot\n",
    "s = SVG(\"shape_graph.svg\")\n",
    "s.data = re.sub(r'width=\"[0-9]+pt\"', r'width=\"90%\"', s.data)\n",
    "s.data = re.sub(r'height=\"[0-9]+pt\"', r'height=\"\"', s.data)\n",
    "s"
   ]
  },
  {
   "cell_type": "code",
   "execution_count": 16,
   "metadata": {
    "collapsed": false,
    "slideshow": {
     "slide_type": "subslide"
    }
   },
   "outputs": [
    {
     "data": {
      "text/plain": [
       "False"
      ]
     },
     "execution_count": 16,
     "metadata": {},
     "output_type": "execute_result"
    },
    {
     "name": "stdout",
     "output_type": "stream",
     "text": [
      "[#1] INFO:ObjectHandling -- RooWorkspace::import(ws_shape) importing dataset obsData\r\n"
     ]
    }
   ],
   "source": [
    "data = model.generate(ROOT.RooArgSet(mass))\n",
    "data.SetName('obsData')\n",
    "getattr(ws, 'import')(data)"
   ]
  },
  {
   "cell_type": "code",
   "execution_count": 17,
   "metadata": {
    "collapsed": false,
    "slideshow": {
     "slide_type": "subslide"
    }
   },
   "outputs": [
    {
     "data": {
      "image/png": "[encoded data removed]",
      "text/plain": [
       "<IPython.core.display.Image object>"
      ]
     },
     "metadata": {},
     "output_type": "display_data"
    },
    {
     "name": "stdout",
     "output_type": "stream",
     "text": [
      "\r\n",
      "[#1] INFO:Minization -- p.d.f. provides expected number of events, including extended term in likelihood.\r\n",
      "[#1] INFO:Minization --  Including the following contraint terms in minimization: (constraints)\r\n",
      "[#1] INFO:Fitting -- RooAddition::defaultErrorLevel(nll_model_obsData_with_constr) Summation contains a RooNLLVar, using its error level\r\n",
      "[#1] INFO:Minization -- RooMinuit::optimizeConst: activating const optimization\r\n",
      "[#1] INFO:Minization --  The following expressions will be evaluated in cache-and-track mode: (signal,background)\r\n",
      " **********\r\n",
      " **   13 **MIGRAD        5500           1\r\n",
      " **********\r\n",
      " FIRST CALL TO USER FUNCTION AT NEW START POINT, WITH IFLAG=4.\r\n",
      " START MIGRAD MINIMIZATION.  STRATEGY  1.  CONVERGENCE WHEN EDM .LT. 1.00e-03\r\n",
      " FCN=-370.046 FROM MIGRAD    STATUS=INITIATE      727 CALLS         728 TOTAL\r\n",
      "                     EDM= unknown      STRATEGY= 1      NO ERROR MATRIX       \r\n",
      "  EXT PARAMETER               CURRENT GUESS       STEP         FIRST   \r\n",
      "  NO.   NAME      VALUE            ERROR          SIZE      DERIVATIVE \r\n",
      "   1  global_lumi   0.00000e+00   1.00000e+00   0.00000e+00   0.00000e+00\r\n",
      "   2  global_peak   0.00000e+00   1.00000e+00   0.00000e+00   0.00000e+00\r\n",
      "   3  global_width   0.00000e+00   1.00000e+00   0.00000e+00   0.00000e+00\r\n",
      "   4  mH           1.25000e+02   6.00000e+00   0.00000e+00   4.38063e+00\r\n",
      "   5  mu           1.00000e+00   7.00000e-01   0.00000e+00  -1.23517e+01\r\n",
      "   6  nbkg         4.00000e+02   1.00000e+02   0.00000e+00   4.85682e+00\r\n",
      "   7  tau         -3.00000e-02   1.45000e-02   0.00000e+00  -5.74999e+01\r\n",
      "   8  theta_efficiency   0.00000e+00   1.00000e+00   0.00000e+00  -4.45571e-01\r\n",
      "   9  theta_lumi   0.00000e+00   1.00000e+00   0.00000e+00   0.00000e+00\r\n",
      "  10  theta_mH     0.00000e+00   1.00000e+00   0.00000e+00   1.06488e+00\r\n",
      "  11  theta_width   0.00000e+00   1.00000e+00   0.00000e+00  -2.86487e-01\r\n",
      "                               ERR DEF= 0.5\r\n",
      " MIGRAD MINIMIZATION HAS CONVERGED.\r\n",
      " MIGRAD WILL VERIFY CONVERGENCE AND ERROR MATRIX.\r\n",
      " MINUIT WARNING IN HESSE\r\n",
      " ============== Second derivative enters zero, param 1\r\n",
      " MINUIT WARNING IN HESSE\r\n",
      " ============== Second derivative zero for parameter1\r\n",
      "  MNHESS FAILS AND WILL RETURN DIAGONAL MATRIX. \r\n",
      " FCN=-372.066 FROM MIGRAD    STATUS=CONVERGED     994 CALLS         995 TOTAL\r\n",
      "                     EDM=2.357e-05    STRATEGY= 1  ERROR MATRIX UNCERTAINTY 100.0 per cent\r\n",
      "  EXT PARAMETER                APPROXIMATE        STEP         FIRST   \r\n",
      "  NO.   NAME      VALUE            ERROR          SIZE      DERIVATIVE \r\n",
      "   1  global_lumi   0.00000e+00   1.39543e+00  -0.00000e+00   0.00000e+00\r\n",
      "   2  global_peak  -2.52357e-02   9.93356e-01  -2.85712e-03  -1.07589e-02\r\n",
      "   3  global_width   4.99996e+00   6.37280e-01  -3.36648e-03   1.60293e-02\r\n",
      "   4  mH           1.24970e+02   1.72700e+00  -2.61493e-04   1.07720e-02\r\n",
      "   5  mu           1.33696e+00   2.86642e-01  -3.61644e-04  -1.86269e-02\r\n",
      "   6  nbkg         3.83720e+02   2.04700e+01   1.03274e-03  -2.76126e-02\r\n",
      "   7  tau         -2.84299e-02   2.60072e-03   1.84166e-04  -4.80580e-02\r\n",
      "   8  theta_efficiency   2.15619e+00   5.86496e+00   1.32759e-02   8.69225e-04\r\n",
      "   9  theta_lumi   0.00000e+00   4.20735e+00  -0.00000e+00   0.00000e+00\r\n",
      "  10  theta_mH    -2.30834e-02   8.07696e-01   1.49086e-03   1.33150e-02\r\n",
      "  11  theta_width   4.96975e+00   7.31700e+00  -1.17021e-03  -2.28682e-02\r\n",
      "                               ERR DEF= 0.5\r\n",
      " EXTERNAL ERROR MATRIX.    NDIM=  34    NPAR= 11    ERR DEF=0.5\r\n",
      "  2.000e+00 \r\n",
      "  0.000e+00  1.000e+00 \r\n",
      "  0.000e+00  0.000e+00  1.136e-04 \r\n",
      "  0.000e+00  0.000e+00  0.000e+00  2.986e+00 \r\n",
      "  0.000e+00  0.000e+00  0.000e+00  0.000e+00  8.235e-02 \r\n",
      "  0.000e+00  0.000e+00  0.000e+00  0.000e+00  0.000e+00  4.193e+02 \r\n",
      "  0.000e+00  0.000e+00  0.000e+00  0.000e+00  0.000e+00  0.000e+00  6.765e-06 \r\n",
      "  0.000e+00  0.000e+00  0.000e+00  0.000e+00  0.000e+00  0.000e+00  0.000e+00  6.634e+01 \r\n",
      "  0.000e+00  0.000e+00  0.000e+00  0.000e+00  0.000e+00  0.000e+00  0.000e+00  0.000e+00  2.500e+01 \r\n",
      "  0.000e+00  0.000e+00  0.000e+00  0.000e+00  0.000e+00  0.000e+00  0.000e+00  0.000e+00  0.0"
     ]
    }
   ],
   "source": [
    "frame = mass.frame(50)\n",
    "data.plotOn(frame)\n",
    "model.fitTo(data)\n",
    "model.plotOn(frame)\n",
    "frame.Draw()\n",
    "ROOT.gPad.Draw()"
   ]
  },
  {
   "cell_type": "code",
   "execution_count": 18,
   "metadata": {
    "collapsed": false,
    "slideshow": {
     "slide_type": "subslide"
    }
   },
   "outputs": [
    {
     "data": {
      "text/plain": [
       "False"
      ]
     },
     "execution_count": 18,
     "metadata": {},
     "output_type": "execute_result"
    },
    {
     "name": "stdout",
     "output_type": "stream",
     "text": [
      "00e+00  6.581e-01 \r\n",
      "  0.000e+00  0.000e+00  0.000e+00  0.000e+00  0.000e+00  0.000e+00  0.000e+00  0.000e+00  0.000e+00  0.000e+00  5.857e-01 \r\n",
      "ERR MATRIX APPROXIMATE\r\n",
      " PARAMETER  CORRELATION COEFFICIENTS  \r\n",
      "       NO.  GLOBAL      1      2      3      4      5      6      7      8      9     10     11\r\n",
      "        1  0.00000   1.000  0.000  0.000  0.000  0.000  0.000  0.000  0.000  0.000  0.000  0.000\r\n",
      "        2  0.00000   0.000  1.000  0.000  0.000  0.000  0.000  0.000  0.000  0.000  0.000  0.000\r\n",
      "        3  0.00000   0.000  0.000  1.000  0.000  0.000  0.000  0.000  0.000  0.000  0.000  0.000\r\n",
      "        4  0.00000   0.000  0.000  0.000  1.000  0.000  0.000  0.000  0.000  0.000  0.000  0.000\r\n",
      "        5  0.00000   0.000  0.000  0.000  0.000  1.000  0.000  0.000  0.000  0.000  0.000  0.000\r\n",
      "        6  0.00000   0.000  0.000  0.000  0.000  0.000  1.000  0.000  0.000  0.000  0.000  0.000\r\n",
      "        7  0.00000   0.000  0.000  0.000  0.000  0.000  0.000  1.000  0.000  0.000  0.000  0.000\r\n",
      "        8  0.00000   0.000  0.000  0.000  0.000  0.000  0.000  0.000  1.000  0.000  0.000  0.000\r\n",
      "        9  0.00000   0.000  0.000  0.000  0.000  0.000  0.000  0.000  0.000  1.000  0.000  0.000\r\n",
      "       10  0.00000   0.000  0.000  0.000  0.000  0.000  0.000  0.000  0.000  0.000  1.000  0.000\r\n",
      "       11  0.00000   0.000  0.000  0.000  0.000  0.000  0.000  0.000  0.000  0.000  0.000  1.000\r\n",
      " ERR MATRIX APPROXIMATE\r\n",
      " **********\r\n",
      " **   18 **HESSE        5500\r\n",
      " **********\r\n",
      " MINUIT WARNING IN HESSE\r\n",
      " ============== Second derivative zero for parameter1\r\n",
      "  MNHESS FAILS AND WILL RETURN DIAGONAL MATRIX. \r\n",
      " FCN=-372.066 FROM HESSE     STATUS=FAILED          3 CALLS         998 TOTAL\r\n",
      "                     EDM=2.357e-05    STRATEGY= 1  ERROR MATRIX UNCERTAINTY 100.0 per cent\r\n",
      "  EXT PARAMETER                APPROXIMATE     INTERNAL      INTERNAL  \r\n",
      "  NO.   NAME      VALUE            ERROR       STEP SIZE       VALUE   \r\n",
      "   1  global_lumi  -2.39713e+00   2.39713e+00  -0.00000e+00   0.00000e+00\r\n",
      "   2  global_peak  -2.52357e-02   9.93356e-01  -2.85712e-03  -5.04716e-03\r\n",
      "   3  global_width   4.99996e+00   6.37280e-01  -3.36648e-03   1.57497e+00\r\n",
      "   4  mH           1.24970e+02   1.72700e+00  -2.61493e-04   1.66431e-01\r\n",
      "   5  mu           1.33696e+00   2.86642e-01  -3.61644e-04  -4.65989e-02\r\n",
      "   6  nbkg         3.83720e+02   2.04700e+01   1.03274e-03  -2.34709e-01\r\n",
      "   7  tau         -2.84299e-02   2.60072e-03   1.84166e-04   1.09748e+00\r\n",
      "   8  theta_efficiency   2.15619e+00   5.86496e+00   1.32759e-02   2.69573e+00\r\n",
      "   9  theta_lumi   0.00000e+00   4.20735e+00  -0.00000e+00   0.00000e+00\r\n",
      "  10  theta_mH    -2.30834e-02   8.07696e-01   1.49086e-03  -4.61670e-03\r\n",
      "  11  theta_width   4.96975e+00   7.31700e+00  -1.17021e-03   1.46074e+00\r\n",
      "                               ERR DEF= 0.5\r\n",
      " EXTERNAL ERROR MATRIX.    NDIM=  34    NPAR= 11    ERR DEF=0.5\r\n",
      "  2.000e+00 \r\n",
      "  0.000e+00  1.000e+00 \r\n",
      "  0.000e+00  0.000e+00  1.136e-04 \r\n",
      "  0.000e+00  0.000e+00  0.000e+00  2.986e+00 \r\n",
      "  0.000e+00  0.000e+00  0.000e+00  0.000e+00  8.235e-02 \r\n",
      "  0.000e+00  0.000e+00  0.000e+00  0.000e+00  0.000e+00  4.193e+02 \r\n",
      "  0.000e+00  0.000e+00  0.000e+00  0.000e+00  0.000e+00  0.000e+00  6.765e-06 \r\n",
      "  0.000e+00  0.000e+00  0.000e+00  0.000e+00  0.000e+00  0.000e+00  0.000e+00  6.634e+01 \r\n",
      "  0.000e+00  0.000e+00  0.000e+00  0.000e+00  0.000e+00  0.000e+00  0.000e+00  0.000e+00  2.500e+01 \r\n",
      "  0.000e+00  0.000e+00  0.000e+00  0.000e+00  0.000e+00  0.000e+00  0.000e+00  0.000e+00  0.000e+00  6.581e-01 \r\n",
      "  0.000e+00  0.000e+00  0.000e+00  0.000e+00  0.000e+00  0.000e+00  0.000e+00  0.000e+00  0.000e+00  0.000e+00  5.857e-01 \r\n",
      "ERR MATRIX APPROXIMATE\r\n",
      " PARAMETER  CORRELATION COEFFICIENTS  \r\n",
      "       NO.  GLOBAL      1      2      3      4      5      6      7      8      9     10     11\r\n",
      "        1  0.00000   1.000  0.000  0.000  0.000  0.000  0.000  0.000  0.000  0.000  0.000  0.000\r\n",
      "        2  0.00000   0.000  1.000  0.000  0.000  0.000  0.000  0.000  0.000  0.000  0.000  0.000\r\n",
      "        3  0.00000   0.000  0.000  1.000  0.000  0.000  0.000  0.000  0.000  0.000  0.000  0.000\r\n",
      "        4  0.00000   0.000  0.000 "
     ]
    }
   ],
   "source": [
    "sbModel = RooStats.ModelConfig('sbModel', ws)\n",
    "sbModel.SetPdf('model')\n",
    "nps = ws.allVars().selectByName('theta*')\n",
    "nps.add(ws.var('tau'))\n",
    "nps.add(ws.var('nbkg'))\n",
    "sbModel.SetNuisanceParameters(nps)\n",
    "sbModel.SetObservables('mass')\n",
    "sbModel.SetParametersOfInterest('mu')\n",
    "sbModel.SetGlobalObservables(ws.allVars().selectByName('global*'))\n",
    "sbModel.SetSnapshot(ROOT.RooArgSet(ws.var('mu')))\n",
    "\n",
    "bModel = sbModel.Clone('bModel')\n",
    "ws.var('mu').setVal(0)\n",
    "bModel.SetSnapshot(ROOT.RooArgSet(ws.var('mu')))\n",
    "\n",
    "getattr(ws, 'import')(sbModel)\n",
    "getattr(ws, 'import')(bModel)\n",
    "\n",
    "ws.writeToFile('ws_shape.root')"
   ]
  },
  {
   "cell_type": "markdown",
   "metadata": {
    "slideshow": {
     "slide_type": "slide"
    }
   },
   "source": [
    "## Test statistics $t_\\mu$ and $\\tilde{t}_\\mu$\n",
    "\n",
    "$$ t_\\mu = -2\\log\\lambda (\\mu) = -2\\log \\frac{L(\\mu, \\hat{\\hat{\\theta}}(\\mu))}{L(\\hat{\\mu}, \\hat{\\theta})}$$\n",
    "\n",
    "High value means incompatiblity with data. If we want to test a specific $\\mu$ we can compute the p-value $= \\int_{t_{\\mu, obs}}^\\infty f(t_\\mu|\\mu) dt_\\mu$. Values can be excluded because they are too low, or too high.\n",
    "\n"
   ]
  },
  {
   "cell_type": "markdown",
   "metadata": {
    "slideshow": {
     "slide_type": "subslide"
    }
   },
   "source": [
    "Usually we can assume that $\\mu\\geq 0$, so we need a new test statistic:\n",
    "\n",
    "$$ \\tilde{t}_\\mu = -2\\log \\tilde\\lambda(\\mu)$$\n",
    "\n",
    "$$ \\tilde\\lambda(\\mu) = \\begin{cases} \n",
    "      \\hfill \\frac{L(0, \\hat{\\hat{\\theta}}(\\mu=0))}{L(\\hat{\\mu}, \\hat{\\theta})}    \\hfill & \\mu < 0 \\\\\n",
    "      \\hfill \\frac{L(\\mu, \\hat{\\hat{\\theta}}(\\mu))}{L(\\hat{\\mu}, \\hat{\\theta})} \\hfill & \\mu \\geq 0 \\\\\n",
    "  \\end{cases}$$\n",
    "  \n",
    "Also in this case, values can be excluded because they are too low, or too high."
   ]
  },
  {
   "cell_type": "markdown",
   "metadata": {
    "slideshow": {
     "slide_type": "subslide"
    }
   },
   "source": [
    "## $q_0$ statistics for discovery of positive signal\n",
    "\n",
    "For discovery we want to exclude the hypothesis $s=0$ (background-only), assuming $\\mu\\geq 0$. Defining $q_0 = \\tilde{t}_0$:\n",
    "\n",
    "$$ q_0 = \n",
    "\\begin{cases} \n",
    "-2\\log\\lambda(0)\\qquad &\\hat \\mu\\geq 0 \\\\\n",
    "0\\qquad &\\hat \\mu < 0\n",
    "\\end{cases}\n",
    "$$\n",
    "\n",
    "If $\\hat s<0$ it means that we are observing less events than the one predicted by the background-only model. Since we are truncating the the definition of test statistics we are not considering downward fluctuation as discrepancies with the model. High value of $\\hat\\ s$ means high value of $q_0$ and large discrepancy with the background-only model."
   ]
  },
  {
   "cell_type": "markdown",
   "metadata": {
    "slideshow": {
     "slide_type": "subslide"
    }
   },
   "source": [
    " The p-value is computed as usual:\n",
    "\n",
    "$$ \\text{p-value} = p_0 = \\int_{q_{0, obs}}^\\infty f(q_0|\\mu=0)\\, dq_0$$\n",
    "\n",
    "### Question\n",
    "If we assume that the background model is true, how many times we will get $\\hat \\mu<0$? If $f(t_0|\\mu=0)$ is a $\\chi^2$ distribution what about $f(q_0|\\mu=0)$?"
   ]
  },
  {
   "cell_type": "markdown",
   "metadata": {
    "slideshow": {
     "slide_type": "subslide"
    }
   },
   "source": [
    "## $q_\\mu$ statistic for exclusion\n",
    "Suppose we want to put un upper limit, so we define as null hypothesis to exclude the hypotesis signal+background with $\\mu$ as signal multiplier.\n",
    "\n",
    "$$\n",
    "q_\\mu=\\begin{cases}\n",
    "-2\\log\\lambda(\\mu)\\qquad & \\hat\\mu \\leq \\mu\\\\\n",
    "0 \\qquad & \\hat\\mu > \\mu\n",
    "\\end{cases}\n",
    "$$\n",
    "\n",
    "we set $q_\\mu=0$ when observing a value of $\\mu$ greater than the one we are observing since we don't want it to enter in the rejection region when doing an upper limit; we don't want that upper fluctuation count as bad agreement with data."
   ]
  },
  {
   "cell_type": "markdown",
   "metadata": {
    "slideshow": {
     "slide_type": "subslide"
    }
   },
   "source": [
    " The p-value is computed in the usual way, assuming the null-hypothesis ($\\mu$) true:\n",
    "\n",
    "$$ \\text{p-value} = p_\\mu = \\int_{q_{\\mu, obs}}^\\infty f(q_\\mu|\\mu)\\, dq_\\mu$$\n",
    "\n",
    "\n",
    "### Questions\n",
    "What is the relation between $q_\\mu$ and $q_0$? Are you looking in the same tail of $\\mu$?"
   ]
  },
  {
   "cell_type": "markdown",
   "metadata": {
    "slideshow": {
     "slide_type": "slide"
    }
   },
   "source": [
    "Let's try to write the profiled likelihood ratio for the shape model:\n",
    "\n",
    "$$\\frac{\\sup L(0, m_H, \\theta)}{\\sup L(\\mu, m_H, \\theta)}$$\n",
    "\n",
    "Is $m_H$ playing a role in the numerator? No! The numerator is not a special case of the numerator! $m_H$ is not a nuisance parameter that can be profiled.\n",
    "\n",
    "The commont solution is to repeat the test for fixed value of $m_H$: in that case $m_H$ is considered to be a constant."
   ]
  },
  {
   "cell_type": "code",
   "execution_count": 19,
   "metadata": {
    "collapsed": false,
    "slideshow": {
     "slide_type": "subslide"
    }
   },
   "outputs": [
    {
     "name": "stdout",
     "output_type": "stream",
     "text": [
      "mH =  90.0 pvalue = 0.5  significance = -0.0\n",
      "mH =  93.1578947368 pvalue = 0.5  significance = -0.0\n",
      "mH =  96.3157894737 pvalue = 0.5  significance = -0.0\n",
      "mH =  99.4736842105 pvalue = 0.5  significance = -0.0\n",
      "mH =  102.631578947 pvalue = 0.5  significance = -0.0\n",
      "mH =  105.789473684 pvalue = 0.5  significance = -0.0\n",
      "mH =  108.947368421 pvalue = 0.5  significance = -0.0\n",
      "mH =  112.105263158 pvalue = 0.438870080383  significance = 0.153834588491\n",
      "mH =  115.263157895 pvalue = 0.0436394226191  significance = 1.70992985327\n",
      "mH =  118.421052632 pvalue = 0.000741074926675  significance = 3.17815599162\n",
      "mH =  121.578947368 pvalue = 2.93529033117e-05  significance = 4.01795338512\n",
      "mH =  124.736842105 pvalue = 8.21852776276e-06  significance = 4.30849316492\n",
      "mH =  127.894736842 pvalue = 2.0869797143e-05  significance = 4.09763322693\n",
      "mH =  131.052631579 pvalue = 0.000373161812088  significance = 3.37197079324\n",
      "mH =  134.210526316 pvalue = 0.0189311649723  significance = 2.07634201595\n",
      "mH =  137.368421053 pvalue = 0.35890745613  significance = 0.361380648426\n",
      "mH =  140.526315789 pvalue = 0.5  significance = -0.0\n",
      "mH =  143.684210526 pvalue = 0.5  significance = -0.0\n",
      "mH =  146.842105263 pvalue = 0.5  significance = -0.0\n",
      "mH =  150.0 pvalue = 0.5  significance = -0.0\n",
      " 0.000  1.000  0.000  0.000  0.000  0.000  0.000  0.000  0.000\n",
      "        5  0.00000   0.000  0.000  0.000  0.000  1.000  0.000  0.000  0.000  0.000  0.000  0.000\n",
      "        6  0.00000   0.000  0.000  0.000  0.000  0.000  1.000  0.000  0.000  0.000  0.000  0.000\n",
      "        7  0.00000   0.000  0.000  0.000  0.000  0.000  0.000  1.000  0.000  0.000  0.000  0.000\n",
      "        8  0.00000   0.000  0.000  0.000  0.000  0.000  0.000  0.000  1.000  0.000  0.000  0.000\n",
      "        9  0.00000   0.000  0.000  0.000  0.000  0.000  0.000  0.000  0.000  1.000  0.000  0.000\n",
      "       10  0.00000   0.000  0.000  0.000  0.000  0.000  0.000  0.000  0.000  0.000  1.000  0.000\n",
      "       11  0.00000   0.000  0.000  0.000  0.000  0.000  0.000  0.000  0.000  0.000  0.000  1.000\n",
      " ERR MATRIX APPROXIMATE\n",
      "[#1] INFO:Minization -- RooMinuit::optimizeConst: deactivating const optimization\n",
      "[#0] PROGRESS:Eval -- AsymptoticCalculator: Building Asimov data Set\n",
      "[#1] INFO:Eval -- Using one-sided discovery qmu - setting qmu to zero  muHat = -1.52291 muTest = 0\n",
      "[#0] PROGRESS:Eval -- AsymptoticCalculator: Building Asimov data Set\n",
      "[#1] INFO:Eval -- Using one-sided discovery qmu - setting qmu to zero  muHat = -1.07593 muTest = 0\n",
      "[#0] PROGRESS:Eval -- AsymptoticCalculator: Building Asimov data Set\n",
      "[#1] INFO:Eval -- Using one-sided discovery qmu - setting qmu to zero  muHat = -0.674576 muTest = 0\n",
      "[#0] PROGRESS:Eval -- AsymptoticCalculator: Building Asimov data Set\n",
      "[#1] INFO:Eval -- Using one-sided discovery qmu - setting qmu to zero  muHat = -0.46999 muTest = 0\n",
      "[#0] PROGRESS:Eval -- AsymptoticCalculator: Building Asimov data Set\n",
      "[#1] INFO:Eval -- Using one-sided discovery qmu - setting qmu to zero  muHat = -0.386821 muTest = 0\n",
      "[#0] PROGRESS:Eval -- AsymptoticCalculator: Building Asimov data Set\n",
      "[#1] INFO:Eval -- Using one-sided discovery qmu - setting qmu to zero  muHat = -0.339563 muTest = 0\n",
      "[#0] PROGRESS:Eval -- AsymptoticCalculator: Building Asimov data Set\n",
      "[#1] INFO:Eval -- Using one-sided discovery qmu - setting qmu to zero  muHat = -0.237887 muTest = 0\n",
      "[#0] PROGRESS:Eval -- AsymptoticCalculator: Building Asimov data Set\n",
      "[#0] PROGRESS:Eval -- AsymptoticCalculator: Building Asimov data Set\n",
      "[#0] PROGRESS:Eval -- AsymptoticCalculator: Building Asimov data Set\n",
      "[#0] PROGRESS:Eval -- AsymptoticCalculator: Building Asimov data Set\n",
      "[#0] PROGRESS:Eval -- AsymptoticCalculator: Building Asimov data Set\n",
      "[#0] PROGRESS:Eval -- AsymptoticCalculator: Building Asimov data Set\n",
      "[#0] PROGRESS:Eval -- AsymptoticCalculator: Building Asimov data Set\n",
      "[#0] PROGRESS:Eval -- AsymptoticCalculator: Building Asimov data Set\n",
      "[#0] PROGRESS:Eval -- AsymptoticCalculator: Building Asimov data Set\n",
      "[#0] PROGRESS:Eval -- AsymptoticCalculator: Building Asimov data Set\n",
      "[#1] INFO:Eval -- Using one-sided discovery qmu - setting qmu to zero  muHat = -0.416734 muTest = 0\n",
      "[#0] PROGRESS:Eval -- AsymptoticCalculator: Building Asimov data Set\n",
      "[#1] INFO:Eval -- Using one-sided discovery qmu - setting qmu to zero  muHat = -0.611602 muTest = 0\n",
      "[#0] PROGRESS:Eval -- AsymptoticCalculator: Building Asimov data Set\n",
      "[#1] INFO:Eval -- Using one-sided discovery qmu - setting qmu to zero  muHat = -0.622652 muTest = 0\n",
      "[#0] PROGRESS:Eval -- AsymptoticCalculator: Building Asimov data Set\n",
      "[#1] INFO:Eval -- Using one-sided discovery qmu - setting qmu to zero  muHat = -0.550196 muTest = 0\n"
     ]
    }
   ],
   "source": [
    "RooStats.AsymptoticCalculator.SetPrintLevel(-1)\n",
    "mH_values = np.linspace(mH.getMin(), mH.getMax(), 20)\n",
    "pvalues, pvalues_exp, zs, qvalues = [], [], [], []\n",
    "for mH_value in mH_values:\n",
    "    f = ROOT.TFile('ws_shape.root')\n",
    "    ws = f.Get('ws_shape')\n",
    "    mH = ws.var('mH')\n",
    "    mH.setVal(mH_value)\n",
    "    mH.setConstant(True)\n",
    "    data = ws.data('obsData')\n",
    "    #ws.pdf('model').fitTo(data)   # better to do a fit before\n",
    "    sbModel = ws.obj('sbModel')\n",
    "    bModel = ws.obj('bModel')\n",
    "    hypoCalc = RooStats.AsymptoticCalculator(data, sbModel, bModel)\n",
    "    hypoCalc.SetOneSidedDiscovery(True)\n",
    "    htr = hypoCalc.GetHypoTest()\n",
    "    print \"mH = \", mH.getVal(), \"pvalue =\", htr.NullPValue(), \" significance =\", htr.Significance()\n",
    "    pval_exp = RooStats.AsymptoticCalculator.GetExpectedPValues(htr.NullPValue(), htr.AlternatePValue(), 0, False)\n",
    "    pvalues.append(htr.NullPValue()); zs.append(htr.Significance()); pvalues_exp.append(pval_exp)\n",
    "    del hypoCalc\n",
    "    del htr"
   ]
  },
  {
   "cell_type": "code",
   "execution_count": 20,
   "metadata": {
    "collapsed": false,
    "slideshow": {
     "slide_type": "subslide"
    }
   },
   "outputs": [
    {
     "data": {
      "image/png": "[encoded data removed]",
      "text/plain": [
       "<matplotlib.figure.Figure at 0x7f582aa2cd90>"
      ]
     },
     "metadata": {},
     "output_type": "display_data"
    }
   ],
   "source": [
    "fig, axs = plt.subplots(1, 2, figsize=(12, 4))\n",
    "axs[0].semilogy(mH_values, pvalues, '.-')\n",
    "axs[0].semilogy(mH_values, pvalues_exp, '--')\n",
    "axs[1].plot(mH_values, zs, '.-')\n",
    "axs[0].set_xlabel('mH'); axs[1].set_xlabel('mH')\n",
    "axs[0].set_ylabel('pvalue'); axs[1].set_ylabel('significance'); plt.show()"
   ]
  },
  {
   "cell_type": "markdown",
   "metadata": {
    "slideshow": {
     "slide_type": "fragment"
    }
   },
   "source": [
    "### Question\n",
    "Explain why p-value is never bigger than 0.5 (we have used $q_0$ as test statistic)."
   ]
  },
  {
   "cell_type": "markdown",
   "metadata": {
    "slideshow": {
     "slide_type": "subslide"
    }
   },
   "source": [
    "### Look elsewhere effect\n",
    "\n",
    "The maximum significance we have found is 3.5 around 125. Usually this is called \"local significace\", since it is computed for a particular $m_H$. The problem is that we have repeated the test many times and we have to consider that we are taking into account the maximum discrepancy. This is also know as \"problem of multiple comparisons\".\n",
    "\n",
    "One can solve this problem redefining the test statistic as:\n",
    "\n",
    "$$q_0^{global} = \\max_{m_H} q_0(m_H)$$\n",
    "\n",
    "But the distribution of $q_0^{global}$ is unknown. The other solution is to introduce a \"trial factor\" to correct the local-$p_0$ to obtain the global-$p_0$."
   ]
  },
  {
   "cell_type": "code",
   "execution_count": 21,
   "metadata": {
    "collapsed": false,
    "slideshow": {
     "slide_type": "subslide"
    }
   },
   "outputs": [
    {
     "data": {
      "text/html": [
       "\n",
       "        <iframe\n",
       "            width=\"900\"\n",
       "            height=\"500\"\n",
       "            src=\"http://xkcd.com/882/\"\n",
       "            frameborder=\"0\"\n",
       "            allowfullscreen\n",
       "        ></iframe>\n",
       "        "
      ],
      "text/plain": [
       "<IPython.lib.display.IFrame at 0x7f582ab24d50>"
      ]
     },
     "execution_count": 21,
     "metadata": {},
     "output_type": "execute_result"
    }
   ],
   "source": [
    "IFrame(\"http://xkcd.com/882/\", 900, 500)"
   ]
  },
  {
   "cell_type": "markdown",
   "metadata": {
    "slideshow": {
     "slide_type": "subslide"
    }
   },
   "source": [
    "## Exclusions\n",
    "\n",
    "We are also interested to know what is the minimum $\\mu$ that we can exclude. This is done as hypothesis inversion. We have to find a $\\mu_{95}$ that is exluded at 5%. As before this is done with a simple scan. Let's do it for $m_H=110 GeV$."
   ]
  },
  {
   "cell_type": "code",
   "execution_count": 22,
   "metadata": {
    "collapsed": false,
    "slideshow": {
     "slide_type": "subslide"
    }
   },
   "outputs": [
    {
     "data": {
      "text/plain": [
       "False"
      ]
     },
     "execution_count": 22,
     "metadata": {},
     "output_type": "execute_result"
    }
   ],
   "source": [
    "f = ROOT.TFile('ws_shape.root')\n",
    "ws = f.Get(\"ws_shape\")\n",
    "ws.var('mH').setVal(110)\n",
    "ws.var('mH').setConstant(True)\n",
    "ws.writeToFile(\"ws_shape_110.root\")"
   ]
  },
  {
   "cell_type": "code",
   "execution_count": 23,
   "metadata": {
    "collapsed": false,
    "slideshow": {
     "slide_type": "subslide"
    }
   },
   "outputs": [
    {
     "name": "stdout",
     "output_type": "stream",
     "text": [
      "0x5569b1d4d310\tws_shape_110.root\r\n",
      "Running HypoTestInverter on the workspace ws_shape\r\n",
      "\r\n",
      "RooWorkspace(ws_shape) ws_shape contents\r\n",
      "\r\n",
      "variables\r\n",
      "---------\r\n",
      "(global_efficiency,global_lumi,global_peak,global_width,mH,mass,mu,nbkg,nominal_efficiency,nominal_lumi,nominal_width,sigma_efficiency,sigma_lumi,sigma_mH,sigma_width,tau,theta_efficiency,theta_lumi,theta_mH,theta_width)\r\n",
      "\r\n",
      "p.d.f.s\r\n",
      "-------\r\n",
      "RooExponential::background[ x=mass c=tau ] = 0.0329889\r\n",
      "RooGaussian::constrain_eff[ x=global_efficiency mean=theta_efficiency sigma=1 ] = 0.0978245\r\n",
      "RooGaussian::constrain_lumi[ x=global_lumi mean=theta_lumi sigma=1 ] = 0.0565228\r\n",
      "RooGaussian::constrain_peak[ x=global_peak mean=theta_mH sigma=1 ] = 0.999998\r\n",
      "RooGaussian::constrain_width[ x=global_width mean=theta_width sigma=1 ] = 0.999544\r\n",
      "RooProdPdf::constraints[ constrain_peak * constrain_lumi * constrain_width ] = 0.0564969\r\n",
      "RooProdPdf::model[ phys_pdf * constraints ] = 0.00186377\r\n",
      "RooAddPdf::phys_pdf[ nsignal * signal + nbkg * background ] = 0.0329889\r\n",
      "RooGaussian::signal[ x=mass mean=peak sigma=width ] = 0.275373\r\n",
      "\r\n",
      "functions\r\n",
      "--------\r\n",
      "RooFormulaVar::efficiency[ actualVars=(nominal_efficiency,sigma_efficiency,theta_efficiency) formula=\"@0*(1+exp(@1*@2))\" ] = 1.2683\r\n",
      "RooFormulaVar::kpeak[ actualVars=(sigma_mH,theta_mH) formula=\"1+@0*@1\" ] = 0.999769\r\n",
      "RooFormulaVar::kwidth[ actualVars=(sigma_width,theta_width) formula=\"1+@0*@1\" ] = 1.24849\r\n",
      "RooFormulaVar::lumi[ actualVars=(nominal_lumi,sigma_lumi,theta_lumi) formula=\"@0*(1+exp(@1*@2))\" ] = 50\r\n",
      "RooProduct::nsignal[ nsignal_theory * mu * efficiency ] = 0\r\n",
      "RooFormulaVar::nsignal_theory[ actualVars=(mH) formula=\"7+@0*0.2\" ] = 29\r\n",
      "RooFormulaVar::peak[ actualVars=(mH,kpeak) formula=\"@0*@1\" ] = 109.975\r\n",
      "RooFormulaVar::width[ actualVars=(nominal_width,kwidth) formula=\"@0*@1\" ] = 6.24244\r\n",
      "\r\n",
      "datasets\r\n",
      "--------\r\n",
      "RooDataSet::obsData(mass)\r\n",
      "\r\n",
      "parameter snapshots\r\n",
      "-------------------\r\n",
      "sbModel__snapshot = (mu=1.33696 +/- 0.286642)\r\n",
      "bModel__snapshot = (mu=0 +/- 0.286642)\r\n",
      "\r\n",
      "named sets\r\n",
      "----------\r\n",
      "bModel__snapshot:(mu)\r\n",
      "sbModel_GlobalObservables:(global_peak,global_width,global_lumi,global_efficiency)\r\n",
      "sbModel_NuisParams:(theta_mH,theta_width,theta_lumi,theta_efficiency,tau,nbkg)\r\n",
      "sbModel_Observables:(mass)\r\n",
      "sbModel_POI:(mu)\r\n",
      "sbModel__snapshot:(mu)\r\n",
      "\r\n",
      "generic objects\r\n",
      "---------------\r\n",
      "RooStats::ModelConfig::sbModel\r\n",
      "RooStats::ModelConfig::bModel\r\n",
      "\r\n",
      "Using data set obsData\r\n",
      "StandardHypoTestInvDemo : POI initial value:   mu = 0\r\n",
      "[#1] INFO:Minization -- p.d.f. provides expected number of events, including extended term in likelihood.\r\n",
      "[#1] INFO:Minization --  Including the following contraint terms in minimization: (constraints)\r\n",
      "[#1] INFO:Fitting -- RooAddition::defaultErrorLevel(nll_model_obsData_with_constr) Summation contains a RooNLLVar, using its error level\r\n",
      "[#1] INFO:Minization -- RooMinimizer::optimizeConst: activating const optimization\r\n",
      "[#1] INFO:Minization --  The following expressions will be evaluated in cache-and-track mode: (signal,background)\r\n",
      " **********\r\n",
      " **    1 **SET PRINT           0\r\n",
      " **********\r\n",
      " **********\r\n",
      " **    2 **SET NOGRAD\r\n",
      " **********\r\n",
      " PARAMETER DEFINITIONS:\r\n",
      "    NO.   NAME         VALUE      STEP SIZE      LIMITS\r\n",
      "     1 mu           0.00000e+00  2.86642e-01   -2.00000e+00  5.00000e+00\r\n",
      "     2 nbkg         3.83720e+02  2.04700e+01    0.00000e+00  1.00000e+03\r\n",
      "     3 tau         -2.84299e-02  2.60072e-03   -5.00000e-01 -1.00000e-03\r\n",
      "     4 theta_efficiency   2.15619e+00  5.86496e+00   -5.00000e+00  5.00000e+00\r\n",
      " MINUIT WARNING IN PARAMETR\r\n",
      " ============== VARIABLE4 BROUGHT BACK INSIDE LIMITS.\r\n",
      "     5 theta_lumi   0.00000e+00  4.20735e+00   -5.00000e+00  5.00000e+00\r\n",
      "     6 theta_mH    -2.30834e-02  8.07696e-01   -5.00000e+00  5.00000e+00\r\n",
      "     7 theta_width   4.96975e+00  7.31700e+00   -5.00000e+00  5.00000e+00\r\n",
      " MINUIT WARNING IN PARAMETR\r\n",
      " ============== VARIABLE7 BROUGHT BACK INSIDE LIMITS.\r\n",
      " **********\r\n",
      " **    3 **SET ERR         0.5\r\n",
      " **********\r\n",
      " **********\r\n",
      " **    4 **SET PRINT           0\r\n",
      " **********\r\n",
      " **********\r\n",
      " **    5 **SET STR           0\r\n",
      " **********\r\n",
      " **********\r\n",
      " **    6 **MIGRAD        3500     "
     ]
    },
    {
     "name": "stderr",
     "output_type": "stream",
     "text": [
      "TROOT::Append:0: RuntimeWarning: Replacing existing TH1: CLs_observed (Potential memory leak).\n",
      "Info in <StandardHypoTestInvDemo>: Using Minuit as minimizer for computing the test statistic\r\n",
      "Info in <StandardHypoTestInvDemo>:  Doing a first fit to the observed data \r\n",
      "Info in <StandardHypoTestInvDemo>: HypoTestInverterResult has been written in the file Asym_CLs_grid_ts3_ws_shape_110.root\r\n"
     ]
    }
   ],
   "source": [
    "ROOT.gROOT.LoadMacro('StandardHypoTestInvDemo.C')\n",
    "ROOT.StandardHypoTestInvDemo(\"ws_shape_110.root\", \"ws_shape\", \"sbModel\", \"bModel\", \"obsData\", 2, 3, True, 30)"
   ]
  },
  {
   "cell_type": "code",
   "execution_count": 24,
   "metadata": {
    "collapsed": false,
    "slideshow": {
     "slide_type": "subslide"
    }
   },
   "outputs": [
    {
     "data": {
      "image/png": "[encoded data removed]",
      "text/plain": [
       "<IPython.core.display.Image object>"
      ]
     },
     "metadata": {},
     "output_type": "display_data"
    },
    {
     "name": "stdout",
     "output_type": "stream",
     "text": [
      "      1\r\n",
      " **********\r\n",
      " MIGRAD MINIMIZATION HAS CONVERGED.\r\n",
      " FCN=-362.869 FROM MIGRAD    STATUS=CONVERGED     238 CALLS         239 TOTAL\r\n",
      "                     EDM=3.70313e-05    STRATEGY= 0  ERROR MATRIX UNCERTAINTY   6.6 per cent\r\n",
      "  EXT PARAMETER                APPROXIMATE        STEP         FIRST   \r\n",
      "  NO.   NAME      VALUE            ERROR          SIZE      DERIVATIVE \r\n",
      "   1  mu          -1.70249e-01   3.92062e-01  -2.84048e-03   3.34584e-02\r\n",
      "   2  nbkg         4.44133e+02   2.49505e+01   2.00446e-03   2.44597e-02\r\n",
      "   3  tau         -2.29966e-02   2.20260e-03  -1.76616e-03  -7.37271e-02\r\n",
      "   4  theta_efficiency   1.23090e+00   7.32982e+00   1.18325e-03  -2.30373e-04\r\n",
      "   5  theta_lumi   0.00000e+00   4.20735e+00  -0.00000e+00   0.00000e+00\r\n",
      "   6  theta_mH    -1.14026e-01   9.97315e-01   1.56103e-02   3.53288e-03\r\n",
      "   7  theta_width   4.97555e+00   7.04499e+00   1.48468e-02  -3.90277e-03\r\n",
      "                               ERR DEF= 0.5\r\n",
      "[#1] INFO:Minization -- RooMinimizer::optimizeConst: deactivating const optimization\r\n",
      "StandardHypoTestInvDemo - Best Fit value : mu = -0.170249 +/- 0.392062\r\n",
      "Time for fitting : Real time 0:00:00, CP time 0.030\r\n",
      "[#1] INFO:ObjectHandling -- RooWorkspace::saveSnaphot(ws_shape) replacing previous snapshot with name sbModel__snapshot\r\n",
      "StandardHypoTestInvo: snapshot of S+B Model sbModel is set to the best fit value\r\n",
      "[#0] PROGRESS:Eval -- AsymptoticCalculator::Initialize....\r\n",
      "[#0] PROGRESS:Eval -- AsymptoticCalculator::Initialize - Find  best unconditional NLL on observed data\r\n",
      "[#0] PROGRESS:Eval -- Best fitted POI value = -0.171046 +/- 0.392062\r\n",
      "[#0] PROGRESS:Eval -- AsymptoticCalculator: Building Asimov data Set\r\n",
      "[#1] INFO:InputArguments -- AsymptoticCalculator: Asimov data will be generated using fitted nuisance parameter values\r\n",
      "[#0] PROGRESS:Eval -- AsymptoticCalculator::Initialize Find  best conditional NLL on ASIMOV data set for given alt POI ( mu ) = 0\r\n",
      "[#1] INFO:InputArguments -- HypoTestInverter ---- Input models: \r\n",
      "\t\t using as S+B (null) model     : sbModel\r\n",
      "\t\t using as B (alternate) model  : bModel\r\n",
      "\r\n",
      "Doing a fixed scan  in interval : 0 , 5\r\n",
      "[#1] INFO:Eval -- HypoTestInverter::GetInterval - run a fixed scan\r\n",
      "[#1] INFO:ObjectHandling -- RooWorkspace::saveSnaphot(ws_shape) replacing previous snapshot with name sbModel__snapshot\r\n",
      "[#0] PROGRESS:Eval -- Running for mu = 0\r\n",
      "[#1] INFO:InputArguments -- Minimum of POI is -2 is different to alt snapshot 0 - using standard q asymptotic formulae  \r\n",
      "[#0] PROGRESS:Eval -- P values for  mu =  0\r\n",
      "\tCLs      = 0.999999 +/- 0\r\n",
      "\tCLb      = 0.335561 +/- 0\r\n",
      "\tCLsplusb = 0.335561 +/- 0\r\n",
      "\r\n",
      "[#1] INFO:ObjectHandling -- RooWorkspace::saveSnaphot(ws_shape) replacing previous snapshot with name sbModel__snapshot\r\n",
      "[#0] PROGRESS:Eval -- Running for mu = 0.172414\r\n",
      "[#0] PROGRESS:Eval -- P values for  mu =  0.172414\r\n",
      "\tCLs      = 0.628649 +/- 0\r\n",
      "\tCLb      = 0.344179 +/- 0\r\n",
      "\tCLsplusb = 0.216368 +/- 0\r\n",
      "\r\n",
      "[#1] INFO:ObjectHandling -- RooWorkspace::saveSnaphot(ws_shape) replacing previous snapshot with name sbModel__snapshot\r\n",
      "[#0] PROGRESS:Eval -- Running for mu = 0.344828\r\n",
      "[#0] PROGRESS:Eval -- P values for  mu =  0.344828\r\n",
      "\tCLs      = 0.361193 +/- 0\r\n",
      "\tCLb      = 0.3526 +/- 0\r\n",
      "\tCLsplusb = 0.127357 +/- 0\r\n",
      "\r\n",
      "[#1] INFO:ObjectHandling -- RooWorkspace::saveSnaphot(ws_shape) replacing previous snapshot with name sbModel__snapshot\r\n",
      "[#0] PROGRESS:Eval -- Running for mu = 0.517241\r\n",
      "[#0] PROGRESS:Eval -- P values for  mu =  0.517241\r\n",
      "\tCLs      = 0.189537 +/- 0\r\n",
      "\tCLb      = 0.360921 +/- 0\r\n",
      "\tCLsplusb = 0.0684081 +/- 0\r\n",
      "\r\n",
      "[#1] INFO:ObjectHandling -- RooWorkspace::saveSnaphot(ws_shape) replacing previous snapshot with name sbModel__snapshot\r\n",
      "[#0] PROGRESS:Eval -- Running for mu = 0.689655\r\n",
      "[#0] PROGRESS:Eval -- P values for  mu =  0.689655\r\n",
      "\tCLs      = 0.090889 +/- 0\r\n",
      "\tCLb      = 0.369156 +/- 0\r\n",
      "\tCLsplusb = 0.0335523 +/- 0\r\n",
      "\r\n",
      "[#1] INFO:ObjectHandling -- RooWorkspace::saveSnaphot(ws_shape) replacing previous snapshot with name sbModel__snapshot\r\n",
      "[#0] PROGRESS:Eval -- Running for mu = 0.862069\r\n",
      "[#0] PROGRESS:Eval -- P values for  mu =  0.862069\r\n",
      "\tCLs      = 0.0398878 +/- 0\r\n",
      "\tCLb      = 0.3"
     ]
    }
   ],
   "source": [
    "fresult = ROOT.TFile(\"Asym_CLs_grid_ts3_ws_shape_110.root\")\n",
    "result = fresult.Get(\"result_mu\")\n",
    "plot = RooStats.HypoTestInverterPlot(\"result\", \"result\", result)\n",
    "plot.Draw()\n",
    "ROOT.gPad.Draw()"
   ]
  },
  {
   "cell_type": "markdown",
   "metadata": {
    "slideshow": {
     "slide_type": "slide"
    }
   },
   "source": [
    "## Example of result you can find around"
   ]
  },
  {
   "cell_type": "code",
   "execution_count": 25,
   "metadata": {
    "collapsed": false,
    "slideshow": {
     "slide_type": "subslide"
    }
   },
   "outputs": [
    {
     "data": {
      "text/html": [
       "\n",
       "        <iframe\n",
       "            width=\"90%\"\n",
       "            height=\"700px\"\n",
       "            src=\"figaux_004a.pdf\"\n",
       "            frameborder=\"0\"\n",
       "            allowfullscreen\n",
       "        ></iframe>\n",
       "        "
      ],
      "text/plain": [
       "<IPython.lib.display.IFrame at 0x7f582ab24dd0>"
      ]
     },
     "execution_count": 25,
     "metadata": {},
     "output_type": "execute_result"
    },
    {
     "name": "stdout",
     "output_type": "stream",
     "text": [
      "773 +/- 0\r\n",
      "\tCLsplusb = 0.0150497 +/- 0\r\n",
      "\r\n",
      "[#1] INFO:ObjectHandling -- RooWorkspace::saveSnaphot(ws_shape) replacing previous snapshot with name sbModel__snapshot\r\n",
      "[#0] PROGRESS:Eval -- Running for mu = 1.03448\r\n",
      "[#0] PROGRESS:Eval -- P values for  mu =  1.03448\r\n",
      "\tCLs      = 0.0160533 +/- 0\r\n",
      "\tCLb      = 0.385339 +/- 0\r\n",
      "\tCLsplusb = 0.00618595 +/- 0\r\n",
      "\r\n",
      "[#1] INFO:ObjectHandling -- RooWorkspace::saveSnaphot(ws_shape) replacing previous snapshot with name sbModel__snapshot\r\n",
      "[#0] PROGRESS:Eval -- Running for mu = 1.2069\r\n",
      "[#0] PROGRESS:Eval -- P values for  mu =  1.2069\r\n",
      "\tCLs      = 0.00593915 +/- 0\r\n",
      "\tCLb      = 0.393265 +/- 0\r\n",
      "\tCLsplusb = 0.00233566 +/- 0\r\n",
      "\r\n",
      "[#1] INFO:ObjectHandling -- RooWorkspace::saveSnaphot(ws_shape) replacing previous snapshot with name sbModel__snapshot\r\n",
      "[#0] PROGRESS:Eval -- Running for mu = 1.37931\r\n",
      "[#0] PROGRESS:Eval -- P values for  mu =  1.37931\r\n",
      "\tCLs      = 0.00202512 +/- 0\r\n",
      "\tCLb      = 0.40107 +/- 0\r\n",
      "\tCLsplusb = 0.000812216 +/- 0\r\n",
      "\r\n",
      "[#1] INFO:ObjectHandling -- RooWorkspace::saveSnaphot(ws_shape) replacing previous snapshot with name sbModel__snapshot\r\n",
      "[#0] PROGRESS:Eval -- Running for mu = 1.55172\r\n",
      "[#0] PROGRESS:Eval -- P values for  mu =  1.55172\r\n",
      "\tCLs      = 0.000638154 +/- 0\r\n",
      "\tCLb      = 0.40875 +/- 0\r\n",
      "\tCLsplusb = 0.000260846 +/- 0\r\n",
      "\r\n",
      "[#1] INFO:ObjectHandling -- RooWorkspace::saveSnaphot(ws_shape) replacing previous snapshot with name sbModel__snapshot\r\n",
      "[#0] PROGRESS:Eval -- Running for mu = 1.72414\r\n",
      "[#0] PROGRESS:Eval -- P values for  mu =  1.72414\r\n",
      "\tCLs      = 0.00018634 +/- 0\r\n",
      "\tCLb      = 0.416293 +/- 0\r\n",
      "\tCLsplusb = 7.75721e-05 +/- 0\r\n",
      "\r\n",
      "[#1] INFO:ObjectHandling -- RooWorkspace::saveSnaphot(ws_shape) replacing previous snapshot with name sbModel__snapshot\r\n",
      "[#0] PROGRESS:Eval -- Running for mu = 1.89655\r\n",
      "[#0] PROGRESS:Eval -- P values for  mu =  1.89655\r\n",
      "\tCLs      = 5.05557e-05 +/- 0\r\n",
      "\tCLb      = 0.423696 +/- 0\r\n",
      "\tCLsplusb = 2.14203e-05 +/- 0\r\n",
      "\r\n",
      "[#1] INFO:ObjectHandling -- RooWorkspace::saveSnaphot(ws_shape) replacing previous snapshot with name sbModel__snapshot\r\n",
      "[#0] PROGRESS:Eval -- Running for mu = 2.06897\r\n",
      "[#0] PROGRESS:Eval -- P values for  mu =  2.06897\r\n",
      "\tCLs      = 1.27775e-05 +/- 0\r\n",
      "\tCLb      = 0.430952 +/- 0\r\n",
      "\tCLsplusb = 5.50647e-06 +/- 0\r\n",
      "\r\n",
      "[#1] INFO:ObjectHandling -- RooWorkspace::saveSnaphot(ws_shape) replacing previous snapshot with name sbModel__snapshot\r\n",
      "[#0] PROGRESS:Eval -- Running for mu = 2.24138\r\n",
      "[#0] PROGRESS:Eval -- P values for  mu =  2.24138\r\n",
      "\tCLs      = 3.01585e-06 +/- 0\r\n",
      "\tCLb      = 0.438051 +/- 0\r\n",
      "\tCLsplusb = 1.3211e-06 +/- 0\r\n",
      "\r\n",
      "[#1] INFO:ObjectHandling -- RooWorkspace::saveSnaphot(ws_shape) replacing previous snapshot with name sbModel__snapshot\r\n",
      "[#0] PROGRESS:Eval -- Running for mu = 2.41379\r\n",
      "[#0] PROGRESS:Eval -- P values for  mu =  2.41379\r\n",
      "\tCLs      = 6.66407e-07 +/- 0\r\n",
      "\tCLb      = 0.444995 +/- 0\r\n",
      "\tCLsplusb = 2.96548e-07 +/- 0\r\n",
      "\r\n",
      "[#1] INFO:ObjectHandling -- RooWorkspace::saveSnaphot(ws_shape) replacing previous snapshot with name sbModel__snapshot\r\n",
      "[#0] PROGRESS:Eval -- Running for mu = 2.58621\r\n",
      "[#0] PROGRESS:Eval -- P values for  mu =  2.58621\r\n",
      "\tCLs      = 1.38166e-07 +/- 0\r\n",
      "\tCLb      = 0.451766 +/- 0\r\n",
      "\tCLsplusb = 6.24188e-08 +/- 0\r\n",
      "\r\n",
      "[#1] INFO:ObjectHandling -- RooWorkspace::saveSnaphot(ws_shape) replacing previous snapshot with name sbModel__snapshot\r\n",
      "[#0] PROGRESS:Eval -- Running for mu = 2.75862\r\n",
      "[#0] PROGRESS:Eval -- P values for  mu =  2.75862\r\n",
      "\tCLs      = 2.69367e-08 +/- 0\r\n",
      "\tCLb      = 0.458368 +/- 0\r\n",
      "\tCLsplusb = 1.23469e-08 +/- 0\r\n",
      "\r\n",
      "[#1] INFO:ObjectHandling -- RooWorkspace::saveSnaphot(ws_shape) replacing previous snapshot with name sbModel__snapshot\r\n",
      "[#0] PROGRESS:Eval -- Running for mu = 2.93103\r\n",
      "[#0] PROGRESS:Eval -- P values for  mu =  2.93103\r\n",
      "\tCLs      = 4.94824e-09 +/- 0\r\n",
      "\tCLb      = 0.464791 +/- 0\r\n",
      "\tCLsplusb = 2.2999e-09 +/- 0\r\n",
      "\r\n",
      "[#1] INFO:ObjectHandling -- RooWorkspace::saveSnaphot(ws_shape) replacing previous snapshot with name sbModel__snapshot\r\n",
      "[#0] PROGRESS:Eval -- Running for mu = 3.10345\r\n",
      "[#0] PROGRESS:Eval -- P values for  mu =  3.10345\r\n",
      "\tCLs      = 8.58138e-10 +/- 0\r\n",
      "\tCLb      = 0.471028 +/- 0\r\n",
      "\tCLsplusb = 4.04207e-10 +/- 0\r\n",
      "\r\n",
      "[#1] INFO:ObjectHandling -- RooWorkspace::saveSnaphot(ws_shape) replacing previous snapshot with name sbModel__snapshot\r\n",
      "[#0] PROGRESS:Eval -- Running for mu = 3.27586\r\n",
      "[#0] PROGRESS:Eval -- P values for  mu =  3.27586\r\n",
      "\tCLs      = 1.40749e-10 +/- 0\r\n",
      "\tCLb      = 0.477074 +/- 0\r\n",
      "\tCLsplusb = 6.71476e-11 +/- 0\r\n",
      "\r\n",
      "[#1] INFO:ObjectHandling -- RooWorkspace::saveSnaphot(ws_shape) replacing previous snapshot with name sbModel__snapshot\r\n",
      "[#0] PROGRESS:Eval -- Running for mu = 3.44828\r\n",
      "[#0] PROGRESS:Eval -- P values for  mu =  3.44828\r\n",
      "\tCLs      = 2.187e-11 +/- 0\r\n",
      "\tCLb      = 0.482922 +/- 0\r\n",
      "\tCLsplusb = 1.05615e-11 +/- 0\r\n",
      "\r\n",
      "[#1] INFO:ObjectHandling -- RooWorkspace::saveSnaphot(ws_shape) replacing previous snapshot with name sbModel__snapshot\r\n",
      "[#0] PROGRESS:Eval -- Running for mu = 3.62069\r\n",
      "[#0] PROGRESS:Eval -- P values for  mu =  3.62069\r\n",
      "\tCLs      = 3.22441e-12 +/- 0\r\n",
      "\tCLb      = 0.488567 +/- 0\r\n",
      "\tCLsplusb = 1.57534e-12 +/- 0\r\n",
      "\r\n",
      "[#1] INFO:ObjectHandling -- RooWorkspace::saveSnaphot(ws_shape) replacing previous snapshot with name sbModel__snapshot\r\n",
      "[#0] PROGRESS:Eval -- Running for mu = 3.7931\r\n",
      "[#0] PROGRESS:Eval -- P values for  mu =  3.7931\r\n",
      "\tCLs      = 4.5176e-13 +/- 0\r\n",
      "\tCLb      = 0.494006 +/- 0\r\n",
      "\tCLsplusb = 2.23172e-13 +/- 0\r\n",
      "\r\n",
      "[#1] INFO:ObjectHandling -- RooWorkspace::saveSnaphot(ws_shape) replacing previous snapshot with name sbModel__snapshot\r\n",
      "[#0] PROGRESS:Eval -- Running for mu = 3.96552\r\n",
      "[#0] PROGRESS:Eval -- P values for  mu =  3.96552\r\n",
      "\tCLs      = 6.02312e-14 +/- 0\r\n",
      "\tCLb      = 0.499233 +/- 0\r\n",
      "\tCLsplusb = 3.00694e-14 +/- 0\r\n",
      "\r\n",
      "[#1] INFO:ObjectHandling -- RooWorkspace::saveSnaphot(ws_shape) replacing previous snapshot with name sbModel__snapshot\r\n",
      "[#0] PROGRESS:Eval -- Running for mu = 4.13793\r\n",
      "[#0] PROGRESS:Eval -- P values for  mu =  4.13793\r\n",
      "\tCLs      = 7.6519e-15 +/- 0\r\n",
      "\tCLb      = 0.504247 +/- 0\r\n",
      "\tCLsplusb = 3.85845e-15 +/- 0\r\n",
      "\r\n",
      "[#1] INFO:ObjectHandling -- RooWorkspace::saveSnaphot(ws_shape) replacing previous snapshot with name sbModel__snapshot\r\n",
      "[#0] PROGRESS:Eval -- Running for mu = 4.31034\r\n",
      "[#0] PROGRESS:Eval -- P values for  mu =  4.31034\r\n",
      "\tCLs      = 9.27447e-16 +/- 0\r\n",
      "\tCLb      = 0.509044 +/- 0\r\n",
      "\tCLsplusb = 4.72111e-16 +/- 0\r\n",
      "\r\n",
      "[#1] INFO:ObjectHandling -- RooWorkspace::saveSnaphot(ws_shape) replacing previous snapshot with name sbModel__snapshot\r\n",
      "[#0] PROGRESS:Eval -- Running for mu = 4.48276\r\n",
      "[#0] PROGRESS:Eval -- P values for  mu =  4.48276\r\n",
      "\tCLs      = 1.07373e-16 +/- 0\r\n",
      "\tCLb      = 0.513624 +/- 0\r\n",
      "\tCLsplusb = 5.51496e-17 +/- 0\r\n",
      "\r\n",
      "[#1] INFO:ObjectHandling -- RooWorkspace::saveSnaphot(ws_shape) replacing previous snapshot with name sbModel__snapshot\r\n",
      "[#0] PROGRESS:Eval -- Running for mu = 4.65517\r\n",
      "[#0] PROGRESS:Eval -- P values for  mu =  4.65517\r\n",
      "\tCLs      = 1.18873e-17 +/- 0\r\n",
      "\tCLb      = 0.517985 +/- 0\r\n",
      "\tCLsplusb = 6.15745e-18 +/- 0\r\n",
      "\r\n",
      "[#1] INFO:ObjectHandling -- RooWorkspace::saveSnaphot(ws_shape) replacing previous snapshot with name sbModel__snapshot\r\n",
      "[#0] PROGRESS:Eval -- Running for mu = 4.82759\r\n",
      "[#0] PROGRESS:Eval -- P values for  mu =  4.82759\r\n",
      "\tCLs      = 1.25984e-18 +/- 0\r\n",
      "\tCLb      = 0.52213 +/- 0\r\n",
      "\tCLsplusb = 6.57802e-19 +/- 0\r\n",
      "\r\n",
      "[#1] INFO:ObjectHandling -- RooWorkspace::saveSnaphot(ws_shape) replacing previous snapshot with name sbModel__snapshot\r\n",
      "[#0] PROGRESS:Eval -- Running for mu = 5\r\n",
      "[#0] PROGRESS:Eval -- P values for  mu =  5\r\n",
      "\tCLs      = 1.27952e-19 +/- 0\r\n",
      "\tCLb      = 0.52606 +/- 0\r\n",
      "\tCLsplusb = 6.73104e-20 +/- 0\r\n",
      "\r\n",
      "Time to perform limit scan \r\n",
      "Real time 0:00:00, CP time 0.840\r\n",
      "The computed lower limit is: -2 +/- 0\r\n",
      "The computed upper limit is: 0.827884 +/- 0\r\n",
      "Expected upper limits, using the B (alternate) model : \r\n",
      " expected limit (median) 0.925815\r\n",
      " expected limit (-1 sig) 0.661591\r\n",
      " expected limit (+1 sig) 1.30462\r\n",
      " expected limit (-2 sig) 0.494256\r\n",
      " expected limit (+2 sig) 1.77827\r\n"
     ]
    }
   ],
   "source": [
    "IFrame(\"figaux_004a.pdf\", width=\"90%\", height=\"700px\")"
   ]
  },
  {
   "cell_type": "code",
   "execution_count": 26,
   "metadata": {
    "collapsed": false,
    "slideshow": {
     "slide_type": "subslide"
    }
   },
   "outputs": [
    {
     "data": {
      "text/html": [
       "\n",
       "        <iframe\n",
       "            width=\"90%\"\n",
       "            height=\"600px\"\n",
       "            src=\"figaux_007a.pdf\"\n",
       "            frameborder=\"0\"\n",
       "            allowfullscreen\n",
       "        ></iframe>\n",
       "        "
      ],
      "text/plain": [
       "<IPython.lib.display.IFrame at 0x7f582ae76c10>"
      ]
     },
     "execution_count": 26,
     "metadata": {},
     "output_type": "execute_result"
    }
   ],
   "source": [
    "IFrame(\"figaux_007a.pdf\", width=\"90%\", height=\"600px\")"
   ]
  },
  {
   "cell_type": "code",
   "execution_count": 27,
   "metadata": {
    "collapsed": false,
    "slideshow": {
     "slide_type": "subslide"
    }
   },
   "outputs": [
    {
     "data": {
      "text/html": [
       "\n",
       "        <iframe\n",
       "            width=\"90%\"\n",
       "            height=\"600px\"\n",
       "            src=\"figaux_007b.pdf\"\n",
       "            frameborder=\"0\"\n",
       "            allowfullscreen\n",
       "        ></iframe>\n",
       "        "
      ],
      "text/plain": [
       "<IPython.lib.display.IFrame at 0x7f582ae76850>"
      ]
     },
     "execution_count": 27,
     "metadata": {},
     "output_type": "execute_result"
    }
   ],
   "source": [
    "IFrame(\"figaux_007b.pdf\", width=\"90%\", height=\"600px\")"
   ]
  },
  {
   "cell_type": "markdown",
   "metadata": {
    "slideshow": {
     "slide_type": "slide"
    }
   },
   "source": [
    "## Topic not coverted, but important if you want to do hypothesis test in HEP\n",
    "\n",
    "   * Look elesewhere effect\n",
    "   * CLs\n",
    "   * Asimov dataset"
   ]
  },
  {
   "cell_type": "markdown",
   "metadata": {
    "slideshow": {
     "slide_type": "slide"
    }
   },
   "source": [
    "## Last (big) exercize\n",
    "Redo one of the example where we have use the frequentist calculator, without using it, reimplementing the toy generation and the computation of the test statistic by hand"
   ]
  }
 ],
 "metadata": {
  "celltoolbar": "Slideshow",
  "hide_input": false,
  "kernelspec": {
   "display_name": "Python 2",
   "language": "python",
   "name": "python2"
  },
  "language_info": {
   "codemirror_mode": {
    "name": "ipython",
    "version": 2
   },
   "file_extension": ".py",
   "mimetype": "text/x-python",
   "name": "python",
   "nbconvert_exporter": "python",
   "pygments_lexer": "ipython2",
   "version": "2.7.10"
  },
  "latex_envs": {
   "bibliofile": "biblio.bib",
   "cite_by": "apalike",
   "current_citInitial": 1,
   "eqLabelWithNumbers": true,
   "eqNumInitial": 0
  }
 },
 "nbformat": 4,
 "nbformat_minor": 0
}
