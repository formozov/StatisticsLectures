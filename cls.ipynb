{
 "cells": [
  {
   "cell_type": "code",
   "execution_count": 1,
   "metadata": {},
   "outputs": [
    {
     "name": "stdout",
     "output_type": "stream",
     "text": [
      "Welcome to JupyROOT 6.10/02\n"
     ]
    }
   ],
   "source": [
    "import numpy as np\n",
    "from matplotlib import pyplot as plt\n",
    "from IPython.display import HTML, IFrame, Image, SVG, Latex\n",
    "import ROOT\n",
    "from ROOT import RooFit, RooStats\n",
    "from tqdm import tqdm_notebook as tqdm\n",
    "\n",
    "%matplotlib inline"
   ]
  },
  {
   "cell_type": "code",
   "execution_count": 2,
   "metadata": {},
   "outputs": [
    {
     "name": "stdout",
     "output_type": "stream",
     "text": [
      "[#1] INFO:ObjectHandling -- RooWorkspace::import(ws) importing dataset data_toy_signal\n",
      "[#1] INFO:ObjectHandling -- RooWorkspace::import(ws) importing dataset data_toy_nosignal\n"
     ]
    }
   ],
   "source": [
    "from create_example_ws import create_example_onoff as create_example\n",
    "\n",
    "ws = create_example()\n",
    "\n",
    "# create references to useful variables\n",
    "model_config = ws.obj('model_config')\n",
    "pdf = model_config.GetPdf()\n",
    "obs = model_config.GetObservables()\n",
    "poi = model_config.GetParametersOfInterest().first()"
   ]
  },
  {
   "cell_type": "code",
   "execution_count": 3,
   "metadata": {},
   "outputs": [
    {
     "data": {
      "image/svg+xml": [
       "<svg height=\"331pt\" viewBox=\"0.00 0.00 539.79 330.96\" width=\"540pt\" xmlns=\"http://www.w3.org/2000/svg\" xmlns:xlink=\"http://www.w3.org/1999/xlink\">\n",
       "<g class=\"graph\" id=\"graph0\" transform=\"scale(1 1) rotate(0) translate(4 326.9605)\">\n",
       "<title>pdf</title>\n",
       "<polygon fill=\"#ffffff\" points=\"-4,4 -4,-326.9605 535.7939,-326.9605 535.7939,4 -4,4\" stroke=\"transparent\"/>\n",
       "<!-- pdf -->\n",
       "<g class=\"node\" id=\"node1\">\n",
       "<title>pdf</title>\n",
       "<ellipse cx=\"267.397\" cy=\"-296.0904\" fill=\"none\" rx=\"58.8803\" ry=\"26.7407\" stroke=\"#ff0000\"/>\n",
       "<text fill=\"#000000\" font-family=\"Times,serif\" font-size=\"14.00\" text-anchor=\"middle\" x=\"267.397\" y=\"-299.8904\">RooProdPdf</text>\n",
       "<text fill=\"#000000\" font-family=\"Times,serif\" font-size=\"14.00\" text-anchor=\"middle\" x=\"267.397\" y=\"-284.8904\">pdf</text>\n",
       "</g>\n",
       "<!-- pdf_sr -->\n",
       "<g class=\"node\" id=\"node2\">\n",
       "<title>pdf_sr</title>\n",
       "<ellipse cx=\"198.397\" cy=\"-206.3503\" fill=\"none\" rx=\"57.0522\" ry=\"26.7407\" stroke=\"#ff0000\"/>\n",
       "<text fill=\"#000000\" font-family=\"Times,serif\" font-size=\"14.00\" text-anchor=\"middle\" x=\"198.397\" y=\"-210.1503\">RooPoisson</text>\n",
       "<text fill=\"#000000\" font-family=\"Times,serif\" font-size=\"14.00\" text-anchor=\"middle\" x=\"198.397\" y=\"-195.1503\">pdf_sr</text>\n",
       "</g>\n",
       "<!-- pdf&#45;&gt;pdf_sr -->\n",
       "<g class=\"edge\" id=\"edge1\">\n",
       "<title>pdf-&gt;pdf_sr</title>\n",
       "<path d=\"M247.8089,-270.6145C240.4523,-261.0467 231.9756,-250.0221 224.1434,-239.8356\" fill=\"none\" stroke=\"#000000\"/>\n",
       "<polygon fill=\"#000000\" points=\"226.9041,-237.684 218.034,-231.8899 221.3548,-241.9508 226.9041,-237.684\" stroke=\"#000000\"/>\n",
       "</g>\n",
       "<!-- pdf_cr -->\n",
       "<g class=\"node\" id=\"node7\">\n",
       "<title>pdf_cr</title>\n",
       "<ellipse cx=\"337.397\" cy=\"-206.3503\" fill=\"none\" rx=\"57.0522\" ry=\"26.7407\" stroke=\"#ff0000\"/>\n",
       "<text fill=\"#000000\" font-family=\"Times,serif\" font-size=\"14.00\" text-anchor=\"middle\" x=\"337.397\" y=\"-210.1503\">RooPoisson</text>\n",
       "<text fill=\"#000000\" font-family=\"Times,serif\" font-size=\"14.00\" text-anchor=\"middle\" x=\"337.397\" y=\"-195.1503\">pdf_cr</text>\n",
       "</g>\n",
       "<!-- pdf&#45;&gt;pdf_cr -->\n",
       "<g class=\"edge\" id=\"edge2\">\n",
       "<title>pdf-&gt;pdf_cr</title>\n",
       "<path d=\"M287.2689,-270.6145C294.7321,-261.0467 303.3317,-250.0221 311.2774,-239.8356\" fill=\"none\" stroke=\"#000000\"/>\n",
       "<polygon fill=\"#000000\" points=\"314.0846,-241.9275 317.4753,-231.8899 308.5651,-237.6221 314.0846,-241.9275\" stroke=\"#000000\"/>\n",
       "</g>\n",
       "<!-- nobs_sr -->\n",
       "<g class=\"node\" id=\"node3\">\n",
       "<title>nobs_sr</title>\n",
       "<ellipse cx=\"59.397\" cy=\"-116.6102\" fill=\"none\" rx=\"59.2941\" ry=\"26.7407\" stroke=\"#0000ff\"/>\n",
       "<text fill=\"#000000\" font-family=\"Times,serif\" font-size=\"14.00\" text-anchor=\"middle\" x=\"59.397\" y=\"-120.4102\">RooRealVar</text>\n",
       "<text fill=\"#000000\" font-family=\"Times,serif\" font-size=\"14.00\" text-anchor=\"middle\" x=\"59.397\" y=\"-105.4102\">nobs_sr</text>\n",
       "</g>\n",
       "<!-- pdf_sr&#45;&gt;nobs_sr -->\n",
       "<g class=\"edge\" id=\"edge3\">\n",
       "<title>pdf_sr-&gt;nobs_sr</title>\n",
       "<path d=\"M164.3937,-184.3974C145.6305,-172.2836 122.1489,-157.1236 102.1526,-144.2137\" fill=\"none\" stroke=\"#000000\"/>\n",
       "<polygon fill=\"#000000\" points=\"103.8306,-141.131 93.5309,-138.6475 100.0338,-147.0119 103.8306,-141.131\" stroke=\"#000000\"/>\n",
       "</g>\n",
       "<!-- nexp_sr -->\n",
       "<g class=\"node\" id=\"node4\">\n",
       "<title>nexp_sr</title>\n",
       "<ellipse cx=\"198.397\" cy=\"-116.6102\" fill=\"none\" rx=\"61.5366\" ry=\"26.7407\" stroke=\"#ff0000\"/>\n",
       "<text fill=\"#000000\" font-family=\"Times,serif\" font-size=\"14.00\" text-anchor=\"middle\" x=\"198.397\" y=\"-120.4102\">RooAddition</text>\n",
       "<text fill=\"#000000\" font-family=\"Times,serif\" font-size=\"14.00\" text-anchor=\"middle\" x=\"198.397\" y=\"-105.4102\">nexp_sr</text>\n",
       "</g>\n",
       "<!-- pdf_sr&#45;&gt;nexp_sr -->\n",
       "<g class=\"edge\" id=\"edge4\">\n",
       "<title>pdf_sr-&gt;nexp_sr</title>\n",
       "<path d=\"M198.397,-179.4253C198.397,-171.3504 198.397,-162.3471 198.397,-153.7362\" fill=\"none\" stroke=\"#000000\"/>\n",
       "<polygon fill=\"#000000\" points=\"201.8971,-153.5161 198.397,-143.5162 194.8971,-153.5162 201.8971,-153.5161\" stroke=\"#000000\"/>\n",
       "</g>\n",
       "<!-- ns -->\n",
       "<g class=\"node\" id=\"node5\">\n",
       "<title>ns</title>\n",
       "<ellipse cx=\"198.397\" cy=\"-26.8701\" fill=\"none\" rx=\"59.2941\" ry=\"26.7407\" stroke=\"#0000ff\"/>\n",
       "<text fill=\"#000000\" font-family=\"Times,serif\" font-size=\"14.00\" text-anchor=\"middle\" x=\"198.397\" y=\"-30.6701\">RooRealVar</text>\n",
       "<text fill=\"#000000\" font-family=\"Times,serif\" font-size=\"14.00\" text-anchor=\"middle\" x=\"198.397\" y=\"-15.6701\">ns</text>\n",
       "</g>\n",
       "<!-- nexp_sr&#45;&gt;ns -->\n",
       "<g class=\"edge\" id=\"edge7\">\n",
       "<title>nexp_sr-&gt;ns</title>\n",
       "<path d=\"M198.397,-89.6852C198.397,-81.6102 198.397,-72.607 198.397,-63.9961\" fill=\"none\" stroke=\"#000000\"/>\n",
       "<polygon fill=\"#000000\" points=\"201.8971,-63.776 198.397,-53.776 194.8971,-63.7761 201.8971,-63.776\" stroke=\"#000000\"/>\n",
       "</g>\n",
       "<!-- nb_sr -->\n",
       "<g class=\"node\" id=\"node6\">\n",
       "<title>nb_sr</title>\n",
       "<ellipse cx=\"335.397\" cy=\"-26.8701\" fill=\"none\" rx=\"59.2941\" ry=\"26.7407\" stroke=\"#0000ff\"/>\n",
       "<text fill=\"#000000\" font-family=\"Times,serif\" font-size=\"14.00\" text-anchor=\"middle\" x=\"335.397\" y=\"-30.6701\">RooRealVar</text>\n",
       "<text fill=\"#000000\" font-family=\"Times,serif\" font-size=\"14.00\" text-anchor=\"middle\" x=\"335.397\" y=\"-15.6701\">nb_sr</text>\n",
       "</g>\n",
       "<!-- nexp_sr&#45;&gt;nb_sr -->\n",
       "<g class=\"edge\" id=\"edge8\">\n",
       "<title>nexp_sr-&gt;nb_sr</title>\n",
       "<path d=\"M232.6145,-94.1964C250.9787,-82.1672 273.772,-67.2367 293.2244,-54.4947\" fill=\"none\" stroke=\"#000000\"/>\n",
       "<polygon fill=\"#000000\" points=\"295.1683,-57.4054 301.6156,-48.9981 291.3326,-51.5498 295.1683,-57.4054\" stroke=\"#000000\"/>\n",
       "</g>\n",
       "<!-- nobs_cr -->\n",
       "<g class=\"node\" id=\"node8\">\n",
       "<title>nobs_cr</title>\n",
       "<ellipse cx=\"337.397\" cy=\"-116.6102\" fill=\"none\" rx=\"59.2941\" ry=\"26.7407\" stroke=\"#0000ff\"/>\n",
       "<text fill=\"#000000\" font-family=\"Times,serif\" font-size=\"14.00\" text-anchor=\"middle\" x=\"337.397\" y=\"-120.4102\">RooRealVar</text>\n",
       "<text fill=\"#000000\" font-family=\"Times,serif\" font-size=\"14.00\" text-anchor=\"middle\" x=\"337.397\" y=\"-105.4102\">nobs_cr</text>\n",
       "</g>\n",
       "<!-- pdf_cr&#45;&gt;nobs_cr -->\n",
       "<g class=\"edge\" id=\"edge5\">\n",
       "<title>pdf_cr-&gt;nobs_cr</title>\n",
       "<path d=\"M337.397,-179.4253C337.397,-171.3504 337.397,-162.3471 337.397,-153.7362\" fill=\"none\" stroke=\"#000000\"/>\n",
       "<polygon fill=\"#000000\" points=\"340.8971,-153.5161 337.397,-143.5162 333.8971,-153.5162 340.8971,-153.5161\" stroke=\"#000000\"/>\n",
       "</g>\n",
       "<!-- nb_cr -->\n",
       "<g class=\"node\" id=\"node9\">\n",
       "<title>nb_cr</title>\n",
       "<ellipse cx=\"472.397\" cy=\"-116.6102\" fill=\"none\" rx=\"57.0522\" ry=\"26.7407\" stroke=\"#ff0000\"/>\n",
       "<text fill=\"#000000\" font-family=\"Times,serif\" font-size=\"14.00\" text-anchor=\"middle\" x=\"472.397\" y=\"-120.4102\">RooProduct</text>\n",
       "<text fill=\"#000000\" font-family=\"Times,serif\" font-size=\"14.00\" text-anchor=\"middle\" x=\"472.397\" y=\"-105.4102\">nb_cr</text>\n",
       "</g>\n",
       "<!-- pdf_cr&#45;&gt;nb_cr -->\n",
       "<g class=\"edge\" id=\"edge6\">\n",
       "<title>pdf_cr-&gt;nb_cr</title>\n",
       "<path d=\"M370.7678,-184.1673C388.7788,-172.1946 411.1893,-157.2975 430.3792,-144.5411\" fill=\"none\" stroke=\"#000000\"/>\n",
       "<polygon fill=\"#000000\" points=\"432.5519,-147.2997 438.9422,-138.849 428.6767,-141.4701 432.5519,-147.2997\" stroke=\"#000000\"/>\n",
       "</g>\n",
       "<!-- nb_cr&#45;&gt;nb_sr -->\n",
       "<g class=\"edge\" id=\"edge10\">\n",
       "<title>nb_cr-&gt;nb_sr</title>\n",
       "<path d=\"M438.883,-94.6573C420.5278,-82.6339 397.5912,-67.6096 377.9792,-54.763\" fill=\"none\" stroke=\"#000000\"/>\n",
       "<polygon fill=\"#000000\" points=\"379.7996,-51.7714 369.5166,-49.2197 375.9639,-57.627 379.7996,-51.7714\" stroke=\"#000000\"/>\n",
       "</g>\n",
       "<!-- tau -->\n",
       "<g class=\"node\" id=\"node10\">\n",
       "<title>tau</title>\n",
       "<ellipse cx=\"472.397\" cy=\"-26.8701\" fill=\"none\" rx=\"59.2941\" ry=\"26.7407\" stroke=\"#0000ff\"/>\n",
       "<text fill=\"#000000\" font-family=\"Times,serif\" font-size=\"14.00\" text-anchor=\"middle\" x=\"472.397\" y=\"-30.6701\">RooRealVar</text>\n",
       "<text fill=\"#000000\" font-family=\"Times,serif\" font-size=\"14.00\" text-anchor=\"middle\" x=\"472.397\" y=\"-15.6701\">tau</text>\n",
       "</g>\n",
       "<!-- nb_cr&#45;&gt;tau -->\n",
       "<g class=\"edge\" id=\"edge9\">\n",
       "<title>nb_cr-&gt;tau</title>\n",
       "<path d=\"M472.397,-89.6852C472.397,-81.6102 472.397,-72.607 472.397,-63.9961\" fill=\"none\" stroke=\"#000000\"/>\n",
       "<polygon fill=\"#000000\" points=\"475.8971,-63.776 472.397,-53.776 468.8971,-63.7761 475.8971,-63.776\" stroke=\"#000000\"/>\n",
       "</g>\n",
       "</g>\n",
       "</svg>"
      ],
      "text/plain": [
       "<IPython.core.display.SVG object>"
      ]
     },
     "execution_count": 3,
     "metadata": {},
     "output_type": "execute_result"
    }
   ],
   "source": [
    "pdf.graphVizTree(\"pdf_graph.dot\")\n",
    "!dot -Tsvg pdf_graph.dot > pdf_graph.svg; rm pdf_graph.dot\n",
    "SVG(\"pdf_graph.svg\")"
   ]
  },
  {
   "cell_type": "code",
   "execution_count": 4,
   "metadata": {
    "collapsed": true
   },
   "outputs": [],
   "source": [
    "ROOT.RooMsgService.instance().getStream(1).removeTopic(RooFit.Eval) \n",
    "ROOT.RooMsgService.instance().setGlobalKillBelow(RooFit.ERROR)\n",
    "ROOT.RooMsgService.instance().getStream(1).removeTopic(RooFit.NumIntegration) \n",
    "ROOT.RooMsgService.instance().getStream(1).removeTopic(RooFit.Fitting) \n",
    "ROOT.RooMsgService.instance().getStream(1).removeTopic(RooFit.Minimization) \n",
    "ROOT.RooMsgService.instance().getStream(1).removeTopic(RooFit.InputArguments) \n",
    "ROOT.RooMsgService.instance().getStream(1).removeTopic(RooFit.Eval) \n",
    "ROOT.RooMsgService.instance().setGlobalKillBelow(RooFit.ERROR)\n",
    "ROOT.RooMsgService.instance().setSilentMode(True);"
   ]
  },
  {
   "cell_type": "code",
   "execution_count": 5,
   "metadata": {},
   "outputs": [
    {
     "name": "stdout",
     "output_type": "stream",
     "text": [
      "  1) 0x55dfee23a5f0 RooRealVar:: nobs_sr = 7  L(0 - 1500)  \"nobs_sr\"\n",
      "  2) 0x55dfee1d0430 RooRealVar:: nobs_cr = 7  L(0 - 900)  \"nobs_cr\"\n"
     ]
    }
   ],
   "source": [
    "# create a useful function to create toys specific for this workspace\n",
    "def create_toy():\n",
    "    return pdf.generate(obs, 1)\n",
    "\n",
    "# just an example\n",
    "data = create_toy()\n",
    "data.get(0).Print(\"v\")"
   ]
  },
  {
   "cell_type": "code",
   "execution_count": 6,
   "metadata": {
    "collapsed": true
   },
   "outputs": [],
   "source": [
    "from functools import wraps\n",
    "\n",
    "def stateless(varnames):\n",
    "    def decorator(method):\n",
    "        @wraps(method)\n",
    "        def f(*args, **kwargs):\n",
    "            old_values = {v: ws.var(v).getVal() for v in varnames}\n",
    "            result = method(*args, **kwargs)\n",
    "            for k, v in old_values.iteritems():\n",
    "                ws.var(k).setVal(v)\n",
    "                ws.var(k).setConstant(False)\n",
    "            return result\n",
    "        return f\n",
    "    return decorator\n",
    "\n",
    "@stateless([poi.GetName()])\n",
    "def evaluate_test_stat(test_value, data):\n",
    "   \n",
    "    # uncond fit\n",
    "    poi.setConstant(False)\n",
    "    r = pdf.fitTo(data, RooFit.Save())\n",
    "    denominator = r.minNll()\n",
    "    \n",
    "    # special case, we are not interested in these cases\n",
    "    if poi.getVal() > test_value:\n",
    "        return 0.\n",
    "    \n",
    "    # recompute if needed\n",
    "    if poi.getVal() < 0:\n",
    "        poi.setVal(0)\n",
    "        poi.setConstant(True)\n",
    "        r = pdf.fitTo(data, RooFit.Save())\n",
    "        denominator = r.minNll()\n",
    "        \n",
    "    # conditional fit\n",
    "    poi.setVal(test_value)\n",
    "    poi.setConstant(True)\n",
    "    r = pdf.fitTo(data, RooFit.Save())\n",
    "    numerator = r.minNll()\n",
    "    \n",
    "    return numerator - denominator"
   ]
  },
  {
   "cell_type": "code",
   "execution_count": 7,
   "metadata": {},
   "outputs": [
    {
     "name": "stderr",
     "output_type": "stream",
     "text": [
      "\r",
      "  0%|          | 0/10000 [00:00<?, ?it/s]"
     ]
    },
    {
     "name": "stdout",
     "output_type": "stream",
     "text": [
      "computing 0.1\n"
     ]
    },
    {
     "name": "stderr",
     "output_type": "stream",
     "text": [
      "100%|██████████| 10000/10000 [01:38<00:00, 101.44it/s]\n",
      "100%|██████████| 10000/10000 [04:01<00:00, 32.06it/s]\n",
      "  0%|          | 4/10000 [00:00<05:52, 28.35it/s]"
     ]
    },
    {
     "name": "stdout",
     "output_type": "stream",
     "text": [
      "computing 6.0\n"
     ]
    },
    {
     "name": "stderr",
     "output_type": "stream",
     "text": [
      "100%|██████████| 10000/10000 [06:11<00:00, 22.24it/s]\n",
      "100%|██████████| 10000/10000 [10:17<00:00, 14.14it/s]\n"
     ]
    }
   ],
   "source": [
    "nsignal_toys = 10000\n",
    "nbkg_toys = 10000\n",
    "\n",
    "test_poi_values = np.linspace(0.1, 6, 2)\n",
    "\n",
    "all_qvalue_data = {}\n",
    "all_qvalues_signal_toys = {}\n",
    "all_qvalues_bkg_toys = {}\n",
    "all_clsb = {}\n",
    "all_cls = {}\n",
    "all_clb = {}\n",
    "\n",
    "for test_poi_value in test_poi_values:\n",
    "    print \"computing\", test_poi_value\n",
    "    \n",
    "    qvalue_data = evaluate_test_stat(test_poi_value, data)\n",
    "\n",
    "    qvalues_signal_toys = []\n",
    "    qvalues_bkg_toys = []\n",
    "\n",
    "    for itoy in tqdm(range(nsignal_toys)):\n",
    "        # create signal-sample toy\n",
    "        poi.setVal(test_poi_value)\n",
    "        poi.setConstant(True)\n",
    "        pdf.fitTo(data)\n",
    "        poi.setConstant(False)\n",
    "        toy_s = create_toy()\n",
    "        qvalues_signal_toys.append(evaluate_test_stat(test_poi_value, toy_s))\n",
    "\n",
    "\n",
    "    for itoy in tqdm(range(nbkg_toys)):\n",
    "        # create signal-sample toy\n",
    "        poi.setVal(0)\n",
    "        poi.setConstant(True)\n",
    "        pdf.fitTo(data)\n",
    "        poi.setConstant(False)\n",
    "        toy_b = create_toy()\n",
    "        qvalues_bkg_toys.append(evaluate_test_stat(test_poi_value, toy_b))\n",
    "    \n",
    "    \n",
    "    all_qvalue_data[test_poi_value] = qvalue_data\n",
    "    all_qvalues_signal_toys[test_poi_value] = np.array(qvalues_signal_toys)\n",
    "    all_qvalues_bkg_toys[test_poi_value] = np.array(qvalues_bkg_toys)\n",
    "    \n",
    "    pvalue_sb = (all_qvalues_signal_toys[test_poi_value] >= qvalue_data).sum() / float(nsignal_toys)\n",
    "    pvalue_b = (all_qvalues_bkg_toys[test_poi_value] >= qvalue_data).sum() / float(nbkg_toys)\n",
    "    cls = pvalue_sb / (1 - pvalue_b)\n",
    "    \n",
    "    all_clsb[test_poi_value] = pvalue_sb\n",
    "    all_clb[test_poi_value] = 1 - pvalue_b\n",
    "    all_cls[test_poi_value] = cls"
   ]
  },
  {
   "cell_type": "code",
   "execution_count": 10,
   "metadata": {},
   "outputs": [
    {
     "data": {
      "image/png": "[encoded data removed]",
      "text/plain": [
       "<matplotlib.figure.Figure at 0x7fb9d78ee210>"
      ]
     },
     "metadata": {},
     "output_type": "display_data"
    }
   ],
   "source": [
    "fig, axs = plt.subplots(1, len(test_poi_values), figsize=(15, 5))\n",
    "for ax, test_poi_value in zip(axs.flat, test_poi_values):\n",
    "    \n",
    "    qvalue_data = all_qvalue_data[test_poi_value]\n",
    "    qvalues_signal_toys = all_qvalues_signal_toys[test_poi_value]\n",
    "    qvalues_bkg_toys = all_qvalues_bkg_toys[test_poi_value]\n",
    "    \n",
    "    bins = np.linspace(min([np.min(qvalues_signal_toys), np.min(qvalues_bkg_toys)]),\n",
    "                       max([np.max(qvalues_signal_toys), np.max(qvalues_bkg_toys)]), 50)\n",
    "    ax.hist(qvalues_signal_toys, bins=bins, histtype='step', label='s+b', normed=True)\n",
    "    ax.hist(qvalues_bkg_toys, bins=bins, histtype='step', label='background', normed=True)\n",
    "    ax.axvline(qvalue_data)\n",
    "    ax.set_title(test_poi_value)\n",
    "    ax.set_yscale('log')\n",
    "    ax.legend()"
   ]
  },
  {
   "cell_type": "code",
   "execution_count": 11,
   "metadata": {},
   "outputs": [
    {
     "data": {
      "text/plain": [
       "<matplotlib.legend.Legend at 0x7fb9d7f32fd0>"
      ]
     },
     "execution_count": 11,
     "metadata": {},
     "output_type": "execute_result"
    },
    {
     "data": {
      "image/png": "[encoded data removed]",
      "text/plain": [
       "<matplotlib.figure.Figure at 0x7fb9e78bfe50>"
      ]
     },
     "metadata": {},
     "output_type": "display_data"
    }
   ],
   "source": [
    "def get_xy(d):\n",
    "    xs = sorted(d.keys())\n",
    "    ys = [d[x] for x in xs]\n",
    "    return xs, ys\n",
    "\n",
    "fig, ax = plt.subplots(figsize=(10, 7))\n",
    "\n",
    "x, y = get_xy(all_cls)\n",
    "ax.plot(x, y, '.-', label='cls')\n",
    "\n",
    "x, y = get_xy(all_clb)\n",
    "ax.plot(x, y, '.-', label='clb')\n",
    "\n",
    "x, y = get_xy(all_clsb)\n",
    "ax.plot(x, y, '.-', label='clsb')\n",
    "\n",
    "ax.axhline(0.05, ls=\":\", color='k')\n",
    "ax.legend(loc=0)"
   ]
  },
  {
   "cell_type": "code",
   "execution_count": 3,
   "metadata": {},
   "outputs": [],
   "source": [
    "import sympy\n",
    "from sympy import symbols, diff, init_printing, simplify, lambdify\n",
    "from sympy.solvers import solve\n",
    "from sympy import stats\n",
    "from sympy.plotting import plot3d\n",
    "init_printing() "
   ]
  },
  {
   "cell_type": "code",
   "execution_count": 134,
   "metadata": {},
   "outputs": [],
   "source": [
    "ns, theta = symbols('ns theta', real=True)\n",
    "NBEXP, SIGMA = symbols('NBEXP, SIGMA', positive=True)\n",
    "nobs = symbols('nobs', positive=True)"
   ]
  },
  {
   "cell_type": "code",
   "execution_count": 135,
   "metadata": {},
   "outputs": [
    {
     "data": {
      "image/png": "[encoded data removed]",
      "text/latex": [
       "$$\\frac{\\sqrt{2} \\left(NBEXP \\sigma \\theta + NBEXP + ns\\right)^{nobs}}{2 \\sqrt{\\pi} \\sigma nobs!} e^{- NBEXP \\sigma \\theta - NBEXP - ns - \\frac{\\theta^{2}}{2 \\sigma^{2}}}$$"
      ],
      "text/plain": [
       "                                                                       2   \n",
       "                                                                      θ    \n",
       "                                     -NBEXP⋅SIGMA⋅θ - NBEXP - ns - ────────\n",
       "                                                                          2\n",
       "                               nobs                                2⋅SIGMA \n",
       "√2⋅(NBEXP⋅SIGMA⋅θ + NBEXP + ns)    ⋅ℯ                                      \n",
       "───────────────────────────────────────────────────────────────────────────\n",
       "                              2⋅√π⋅SIGMA⋅nobs!                             "
      ]
     },
     "execution_count": 135,
     "metadata": {},
     "output_type": "execute_result"
    }
   ],
   "source": [
    "poisson = sympy.stats.density(sympy.stats.Poisson('X_ns', ns + NBEXP * (1 + SIGMA * theta)))(nobs)\n",
    "gaussian = sympy.stats.density(sympy.stats.Normal('X_G', theta, SIGMA))(0)\n",
    "likelihood = poisson * gaussian\n",
    "simplify(likelihood)"
   ]
  },
  {
   "cell_type": "code",
   "execution_count": 136,
   "metadata": {},
   "outputs": [
    {
     "data": {
      "image/png": "[encoded data removed]",
      "text/latex": [
       "$$\\left \\{ ns : - NBEXP + nobs, \\quad \\theta : 0\\right \\}$$"
      ],
      "text/plain": [
       "{ns: -NBEXP + nobs, θ: 0}"
      ]
     },
     "execution_count": 136,
     "metadata": {},
     "output_type": "execute_result"
    }
   ],
   "source": [
    "solution = solve([diff(likelihood, ns),\n",
    "                  diff(likelihood, theta)], ns, theta, dict=True, check=True)[0]\n",
    "ns_hat = solution[ns]\n",
    "theta_hat = solution[theta]\n",
    "solution"
   ]
  },
  {
   "cell_type": "code",
   "execution_count": 137,
   "metadata": {},
   "outputs": [
    {
     "data": {
      "image/png": "[encoded data removed]",
      "text/plain": [
       "<matplotlib.figure.Figure at 0x7f1a60241690>"
      ]
     },
     "metadata": {},
     "output_type": "display_data"
    }
   ],
   "source": [
    "example = {nobs:15, NBEXP:10, SIGMA:0.3}\n",
    "likelihood_example = likelihood.subs(example)\n",
    "example_solution = [float(sympy.N(solution[x].subs(example))) for x in (ns, theta)]\n",
    "likelihood_example = lambdify((ns, theta), likelihood_example, modules=['numpy'])\n",
    "X, Y = np.meshgrid(np.linspace(0, 6, 50), np.linspace(-.1, .1, 50))\n",
    "fig, ax = plt.subplots(figsize=(5, 5))\n",
    "pc = ax.contourf(X, Y, -2 * np.log(likelihood_example(X, Y)))\n",
    "fig.colorbar(pc)\n",
    "ax.set_xlabel(ns)\n",
    "ax.set_ylabel(repr(theta))\n",
    "ax.legend()"
   ]
  },
  {
   "cell_type": "code",
   "execution_count": 138,
   "metadata": {},
   "outputs": [
    {
     "data": {
      "image/png": "[encoded data removed]",
      "text/latex": [
       "$$\\frac{\\sqrt{2} \\left(NBEXP \\left(\\sigma \\theta + 1\\right)\\right)^{nobs}}{2 \\sqrt{\\pi} \\sigma nobs!} e^{- NBEXP \\sigma \\theta - NBEXP - \\frac{\\theta^{2}}{2 \\sigma^{2}}}$$"
      ],
      "text/plain": [
       "                                                           2   \n",
       "                                                          θ    \n",
       "                              -NBEXP⋅SIGMA⋅θ - NBEXP - ────────\n",
       "                                                              2\n",
       "                        nobs                           2⋅SIGMA \n",
       "√2⋅(NBEXP⋅(SIGMA⋅θ + 1))    ⋅ℯ                                 \n",
       "───────────────────────────────────────────────────────────────\n",
       "                        2⋅√π⋅SIGMA⋅nobs!                       "
      ]
     },
     "execution_count": 138,
     "metadata": {},
     "output_type": "execute_result"
    }
   ],
   "source": [
    "likelihood_bkg_only = likelihood.subs({ns: 0})\n",
    "simplify(likelihood_bkg_only)"
   ]
  },
  {
   "cell_type": "code",
   "execution_count": 139,
   "metadata": {},
   "outputs": [
    {
     "data": {
      "image/png": "[encoded data removed]",
      "text/latex": [
       "$$\\left [ \\frac{1}{2 \\sigma} \\left(- NBEXP \\sigma^{4} + \\sqrt{NBEXP^{2} \\sigma^{8} - 2 NBEXP \\sigma^{4} + 4 \\sigma^{4} nobs + 1} - 1\\right), \\quad - \\frac{1}{2 \\sigma} \\left(NBEXP \\sigma^{4} + \\sqrt{NBEXP^{2} \\sigma^{8} - 2 NBEXP \\sigma^{4} + 4 \\sigma^{4} nobs + 1} + 1\\right)\\right ]$$"
      ],
      "text/plain": [
       "⎡                    ____________________________________________________     \n",
       "⎢             4     ╱      2      8                4          4               \n",
       "⎢- NBEXP⋅SIGMA  + ╲╱  NBEXP ⋅SIGMA  - 2⋅NBEXP⋅SIGMA  + 4⋅SIGMA ⋅nobs + 1  - 1 \n",
       "⎢────────────────────────────────────────────────────────────────────────────,\n",
       "⎣                                  2⋅SIGMA                                    \n",
       "\n",
       "  ⎛                  ____________________________________________________    ⎞\n",
       "  ⎜           4     ╱      2      8                4          4              ⎟\n",
       " -⎝NBEXP⋅SIGMA  + ╲╱  NBEXP ⋅SIGMA  - 2⋅NBEXP⋅SIGMA  + 4⋅SIGMA ⋅nobs + 1  + 1⎠\n",
       " ─────────────────────────────────────────────────────────────────────────────\n",
       "                                    2⋅SIGMA                                   \n",
       "\n",
       " ⎤\n",
       " ⎥\n",
       " ⎥\n",
       "─⎥\n",
       " ⎦"
      ]
     },
     "execution_count": 139,
     "metadata": {},
     "output_type": "execute_result"
    }
   ],
   "source": [
    "theta_hat_hat_solutions = solve(diff(likelihood_bkg_only, theta), theta)\n",
    "theta_hat_hat = theta_hat_hat_solutions[0]\n",
    "simplify(theta_hat_hat_solutions)"
   ]
  },
  {
   "cell_type": "code",
   "execution_count": 140,
   "metadata": {},
   "outputs": [
    {
     "data": {
      "image/png": "[encoded data removed]",
      "text/plain": [
       "<matplotlib.figure.Figure at 0x7f1aba526450>"
      ]
     },
     "metadata": {},
     "output_type": "display_data"
    }
   ],
   "source": [
    "likelihood_bkg_only_example = likelihood_bkg_only.subs(example)\n",
    "likelihood_bkg_only_example = lambdify(theta, likelihood_bkg_only_example, modules=['numpy'])\n",
    "X = np.linspace(-1, 1, 100)\n",
    "fig, ax = plt.subplots(figsize=(5, 5))\n",
    "ax.plot(X, (likelihood_bkg_only_example(X)))\n",
    "ax.axvline(simplify(theta_hat_hat).subs(example), color='k')\n",
    "ax.set_xlabel(theta)\n",
    "plt.show()"
   ]
  },
  {
   "cell_type": "code",
   "execution_count": 148,
   "metadata": {},
   "outputs": [
    {
     "data": {
      "image/png": "[encoded data removed]",
      "text/latex": [
       "$$- \\frac{NBEXP^{2} \\sigma^{4}}{2} + NBEXP + 2 nobs \\log{\\left (nobs \\right )} - nobs - 2 \\log{\\left (\\left(- \\frac{NBEXP^{2} \\sigma^{4}}{2} + \\frac{NBEXP}{2} \\sqrt{NBEXP^{2} \\sigma^{8} - 2 NBEXP \\sigma^{4} + 4 \\sigma^{4} nobs + 1} + \\frac{NBEXP}{2}\\right)^{nobs} e^{- \\frac{NBEXP}{4} \\sqrt{NBEXP^{2} \\sigma^{8} - 2 NBEXP \\sigma^{4} + 4 \\sigma^{4} nobs + 1}} e^{\\frac{1}{4 \\sigma^{4}} \\sqrt{NBEXP^{2} \\sigma^{8} - 2 NBEXP \\sigma^{4} + 4 \\sigma^{4} nobs + 1}} \\right )} + \\frac{1}{2 \\sigma^{4}}$$"
      ],
      "text/plain": [
       "                                                         ⎛                    \n",
       "                                                         ⎜                    \n",
       "                                                         ⎜                    \n",
       "                                                         ⎜⎛                   \n",
       "       2      4                                          ⎜⎜       2      4    \n",
       "  NBEXP ⋅SIGMA                                           ⎜⎜  NBEXP ⋅SIGMA    N\n",
       "- ───────────── + NBEXP + 2⋅nobs⋅log(nobs) - nobs - 2⋅log⎜⎜- ───────────── + ─\n",
       "        2                                                ⎝⎝        2          \n",
       "                                                                              \n",
       "\n",
       "                                                                              \n",
       "                                                                              \n",
       "                                                                     nobs     \n",
       "        ____________________________________________________        ⎞      -NB\n",
       "       ╱      2      8                4          4                  ⎟      ───\n",
       "BEXP⋅╲╱  NBEXP ⋅SIGMA  - 2⋅NBEXP⋅SIGMA  + 4⋅SIGMA ⋅nobs + 1    NBEXP⎟         \n",
       "──────────────────────────────────────────────────────────── + ─────⎟    ⋅ℯ   \n",
       "                             2                                   2  ⎠         \n",
       "                                                                              \n",
       "\n",
       "                                                                 _____________\n",
       "       ____________________________________________________     ╱      2      \n",
       "      ╱      2      8                4          4             ╲╱  NBEXP ⋅SIGMA\n",
       "EXP⋅╲╱  NBEXP ⋅SIGMA  - 2⋅NBEXP⋅SIGMA  + 4⋅SIGMA ⋅nobs + 1    ────────────────\n",
       "────────────────────────────────────────────────────────────                  \n",
       "                            4                                                 \n",
       "                                                            ⋅ℯ                \n",
       "                                                                              \n",
       "                                                                              \n",
       "\n",
       "_______________________________________⎞           \n",
       "8                4          4          ⎟           \n",
       "  - 2⋅NBEXP⋅SIGMA  + 4⋅SIGMA ⋅nobs + 1 ⎟           \n",
       "───────────────────────────────────────⎟           \n",
       "               4                       ⎟           \n",
       "        4⋅SIGMA                        ⎟      1    \n",
       "                                       ⎟ + ────────\n",
       "                                       ⎠          4\n",
       "                                           2⋅SIGMA "
      ]
     },
     "execution_count": 148,
     "metadata": {},
     "output_type": "execute_result"
    }
   ],
   "source": [
    "denominator = likelihood.subs({ns: ns_hat, theta: theta_hat})\n",
    "numerator = likelihood_bkg_only.subs({theta: theta_hat_hat})\n",
    "q0 = - 2 * sympy.log(numerator / denominator)\n",
    "significance = sympy.sqrt(q0)\n",
    "sympy.expand(q0)"
   ]
  },
  {
   "cell_type": "code",
   "execution_count": null,
   "metadata": {
    "collapsed": true
   },
   "outputs": [],
   "source": []
  }
 ],
 "metadata": {
  "kernelspec": {
   "display_name": "Python 2",
   "language": "python",
   "name": "python2"
  },
  "language_info": {
   "codemirror_mode": {
    "name": "ipython",
    "version": 2
   },
   "file_extension": ".py",
   "mimetype": "text/x-python",
   "name": "python",
   "nbconvert_exporter": "python",
   "pygments_lexer": "ipython2",
   "version": "2.7.13"
  }
 },
 "nbformat": 4,
 "nbformat_minor": 2
}
