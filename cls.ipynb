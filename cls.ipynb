{
 "cells": [
  {
   "cell_type": "code",
   "execution_count": 61,
   "metadata": {},
   "outputs": [],
   "source": [
    "import numpy as np\n",
    "from matplotlib import pyplot as plt\n",
    "from IPython.display import HTML, IFrame, Image, SVG, Latex\n",
    "import ROOT\n",
    "from ROOT import RooFit, RooStats\n",
    "\n",
    "%matplotlib inline"
   ]
  },
  {
   "cell_type": "code",
   "execution_count": 9,
   "metadata": {},
   "outputs": [
    {
     "name": "stdout",
     "output_type": "stream",
     "text": [
      "[#1] INFO:ObjectHandling -- RooWorkspace::import(ws) importing dataset data_toy_signal\r\n",
      "[#1] INFO:ObjectHandling -- RooWorkspace::import(ws) importing dataset data_toy_nosignal\r\n"
     ]
    }
   ],
   "source": [
    "from create_example_ws import create_example\n",
    "\n",
    "ws = create_example()\n",
    "\n",
    "# create references to useful variables\n",
    "model_config = ws.obj('model_config')\n",
    "pdf = model_config.GetPdf()\n",
    "obs = model_config.GetObservables()\n",
    "poi = model_config.GetParametersOfInterest().first()"
   ]
  },
  {
   "cell_type": "code",
   "execution_count": 4,
   "metadata": {},
   "outputs": [
    {
     "data": {
      "image/svg+xml": [
       "<svg height=\"421pt\" viewBox=\"0.00 0.00 628.50 420.70\" width=\"629pt\" xmlns=\"http://www.w3.org/2000/svg\" xmlns:xlink=\"http://www.w3.org/1999/xlink\">\n",
       "<g class=\"graph\" id=\"graph0\" transform=\"scale(1 1) rotate(0) translate(4 416.701)\">\n",
       "<title>pdf</title>\n",
       "<polygon fill=\"white\" points=\"-4,4 -4,-416.701 624.501,-416.701 624.501,4 -4,4\" stroke=\"none\"/>\n",
       "<!-- pdf -->\n",
       "<g class=\"node\" id=\"node1\"><title>pdf</title>\n",
       "<ellipse cx=\"306.104\" cy=\"-385.831\" fill=\"none\" rx=\"58.8803\" ry=\"26.7407\" stroke=\"red\"/>\n",
       "<text font-family=\"Times,serif\" font-size=\"14.00\" text-anchor=\"middle\" x=\"306.104\" y=\"-389.631\">RooProdPdf</text>\n",
       "<text font-family=\"Times,serif\" font-size=\"14.00\" text-anchor=\"middle\" x=\"306.104\" y=\"-374.631\">pdf</text>\n",
       "</g>\n",
       "<!-- pdf_phys -->\n",
       "<g class=\"node\" id=\"node2\"><title>pdf_phys</title>\n",
       "<ellipse cx=\"215.104\" cy=\"-296.09\" fill=\"none\" rx=\"57.0522\" ry=\"26.7407\" stroke=\"red\"/>\n",
       "<text font-family=\"Times,serif\" font-size=\"14.00\" text-anchor=\"middle\" x=\"215.104\" y=\"-299.89\">RooPoisson</text>\n",
       "<text font-family=\"Times,serif\" font-size=\"14.00\" text-anchor=\"middle\" x=\"215.104\" y=\"-284.89\">pdf_phys</text>\n",
       "</g>\n",
       "<!-- pdf&#45;&gt;pdf_phys -->\n",
       "<g class=\"edge\" id=\"edge11\"><title>pdf-&gt;pdf_phys</title>\n",
       "<path d=\"M281.718,-361.318C271.007,-350.991 258.291,-338.731 246.855,-327.704\" fill=\"none\" stroke=\"black\"/>\n",
       "<polygon fill=\"black\" points=\"249.186,-325.089 239.558,-320.668 244.327,-330.129 249.186,-325.089\" stroke=\"black\"/>\n",
       "</g>\n",
       "<!-- constr_nb -->\n",
       "<g class=\"node\" id=\"node10\"><title>constr_nb</title>\n",
       "<ellipse cx=\"398.104\" cy=\"-296.09\" fill=\"none\" rx=\"62.8651\" ry=\"26.7407\" stroke=\"red\"/>\n",
       "<text font-family=\"Times,serif\" font-size=\"14.00\" text-anchor=\"middle\" x=\"398.104\" y=\"-299.89\">RooGaussian</text>\n",
       "<text font-family=\"Times,serif\" font-size=\"14.00\" text-anchor=\"middle\" x=\"398.104\" y=\"-284.89\">constr_nb</text>\n",
       "</g>\n",
       "<!-- pdf&#45;&gt;constr_nb -->\n",
       "<g class=\"edge\" id=\"edge12\"><title>pdf-&gt;constr_nb</title>\n",
       "<path d=\"M330.758,-361.318C341.499,-351.074 354.235,-338.928 365.725,-327.971\" fill=\"none\" stroke=\"black\"/>\n",
       "<polygon fill=\"black\" points=\"368.24,-330.408 373.062,-320.973 363.409,-325.342 368.24,-330.408\" stroke=\"black\"/>\n",
       "</g>\n",
       "<!-- nobs -->\n",
       "<g class=\"node\" id=\"node3\"><title>nobs</title>\n",
       "<ellipse cx=\"76.1041\" cy=\"-206.35\" fill=\"none\" rx=\"59.2941\" ry=\"26.7407\" stroke=\"blue\"/>\n",
       "<text font-family=\"Times,serif\" font-size=\"14.00\" text-anchor=\"middle\" x=\"76.1041\" y=\"-210.15\">RooRealVar</text>\n",
       "<text font-family=\"Times,serif\" font-size=\"14.00\" text-anchor=\"middle\" x=\"76.1041\" y=\"-195.15\">nobs</text>\n",
       "</g>\n",
       "<!-- pdf_phys&#45;&gt;nobs -->\n",
       "<g class=\"edge\" id=\"edge1\"><title>pdf_phys-&gt;nobs</title>\n",
       "<path d=\"M181.81,-274.074C162.835,-262.097 138.865,-246.967 118.55,-234.143\" fill=\"none\" stroke=\"black\"/>\n",
       "<polygon fill=\"black\" points=\"120.417,-231.182 110.092,-228.804 116.68,-237.102 120.417,-231.182\" stroke=\"black\"/>\n",
       "</g>\n",
       "<!-- nexp -->\n",
       "<g class=\"node\" id=\"node4\"><title>nexp</title>\n",
       "<ellipse cx=\"215.104\" cy=\"-206.35\" fill=\"none\" rx=\"61.5366\" ry=\"26.7407\" stroke=\"red\"/>\n",
       "<text font-family=\"Times,serif\" font-size=\"14.00\" text-anchor=\"middle\" x=\"215.104\" y=\"-210.15\">RooAddition</text>\n",
       "<text font-family=\"Times,serif\" font-size=\"14.00\" text-anchor=\"middle\" x=\"215.104\" y=\"-195.15\">nexp</text>\n",
       "</g>\n",
       "<!-- pdf_phys&#45;&gt;nexp -->\n",
       "<g class=\"edge\" id=\"edge2\"><title>pdf_phys-&gt;nexp</title>\n",
       "<path d=\"M215.104,-268.765C215.104,-260.799 215.104,-251.908 215.104,-243.419\" fill=\"none\" stroke=\"black\"/>\n",
       "<polygon fill=\"black\" points=\"218.604,-243.354 215.104,-233.354 211.604,-243.354 218.604,-243.354\" stroke=\"black\"/>\n",
       "</g>\n",
       "<!-- ns -->\n",
       "<g class=\"node\" id=\"node5\"><title>ns</title>\n",
       "<ellipse cx=\"63.1041\" cy=\"-116.61\" fill=\"none\" rx=\"59.2941\" ry=\"26.7407\" stroke=\"blue\"/>\n",
       "<text font-family=\"Times,serif\" font-size=\"14.00\" text-anchor=\"middle\" x=\"63.1041\" y=\"-120.41\">RooRealVar</text>\n",
       "<text font-family=\"Times,serif\" font-size=\"14.00\" text-anchor=\"middle\" x=\"63.1041\" y=\"-105.41\">ns</text>\n",
       "</g>\n",
       "<!-- nexp&#45;&gt;ns -->\n",
       "<g class=\"edge\" id=\"edge6\"><title>nexp-&gt;ns</title>\n",
       "<path d=\"M179.082,-184.557C157.692,-172.21 130.394,-156.453 107.657,-143.328\" fill=\"none\" stroke=\"black\"/>\n",
       "<polygon fill=\"black\" points=\"109.278,-140.222 98.8674,-138.254 105.778,-146.285 109.278,-140.222\" stroke=\"black\"/>\n",
       "</g>\n",
       "<!-- nb -->\n",
       "<g class=\"node\" id=\"node6\"><title>nb</title>\n",
       "<ellipse cx=\"215.104\" cy=\"-116.61\" fill=\"none\" rx=\"74.9067\" ry=\"26.7407\" stroke=\"red\"/>\n",
       "<text font-family=\"Times,serif\" font-size=\"14.00\" text-anchor=\"middle\" x=\"215.104\" y=\"-120.41\">RooFormulaVar</text>\n",
       "<text font-family=\"Times,serif\" font-size=\"14.00\" text-anchor=\"middle\" x=\"215.104\" y=\"-105.41\">nb</text>\n",
       "</g>\n",
       "<!-- nexp&#45;&gt;nb -->\n",
       "<g class=\"edge\" id=\"edge7\"><title>nexp-&gt;nb</title>\n",
       "<path d=\"M215.104,-179.025C215.104,-171.059 215.104,-162.168 215.104,-153.679\" fill=\"none\" stroke=\"black\"/>\n",
       "<polygon fill=\"black\" points=\"218.604,-153.614 215.104,-143.614 211.604,-153.614 218.604,-153.614\" stroke=\"black\"/>\n",
       "</g>\n",
       "<!-- nb_expected -->\n",
       "<g class=\"node\" id=\"node7\"><title>nb_expected</title>\n",
       "<ellipse cx=\"60.1041\" cy=\"-26.8701\" fill=\"none\" rx=\"60.2083\" ry=\"26.7407\" stroke=\"blue\"/>\n",
       "<text font-family=\"Times,serif\" font-size=\"14.00\" text-anchor=\"middle\" x=\"60.1041\" y=\"-30.6701\">RooRealVar</text>\n",
       "<text font-family=\"Times,serif\" font-size=\"14.00\" text-anchor=\"middle\" x=\"60.1041\" y=\"-15.6701\">nb_expected</text>\n",
       "</g>\n",
       "<!-- nb&#45;&gt;nb_expected -->\n",
       "<g class=\"edge\" id=\"edge5\"><title>nb-&gt;nb_expected</title>\n",
       "<path d=\"M175.991,-93.4696C154.472,-81.2887 127.672,-66.1177 105.265,-53.4343\" fill=\"none\" stroke=\"black\"/>\n",
       "<polygon fill=\"black\" points=\"106.706,-50.2281 96.2796,-48.3478 103.258,-56.3199 106.706,-50.2281\" stroke=\"black\"/>\n",
       "</g>\n",
       "<!-- sigma_nb -->\n",
       "<g class=\"node\" id=\"node8\"><title>sigma_nb</title>\n",
       "<ellipse cx=\"198.104\" cy=\"-26.8701\" fill=\"none\" rx=\"59.2941\" ry=\"26.7407\" stroke=\"blue\"/>\n",
       "<text font-family=\"Times,serif\" font-size=\"14.00\" text-anchor=\"middle\" x=\"198.104\" y=\"-30.6701\">RooRealVar</text>\n",
       "<text font-family=\"Times,serif\" font-size=\"14.00\" text-anchor=\"middle\" x=\"198.104\" y=\"-15.6701\">sigma_nb</text>\n",
       "</g>\n",
       "<!-- nb&#45;&gt;sigma_nb -->\n",
       "<g class=\"edge\" id=\"edge4\"><title>nb-&gt;sigma_nb</title>\n",
       "<path d=\"M210.095,-89.7598C208.519,-81.6214 206.748,-72.4816 205.061,-63.7749\" fill=\"none\" stroke=\"black\"/>\n",
       "<polygon fill=\"black\" points=\"208.474,-62.9905 203.136,-53.8389 201.602,-64.3221 208.474,-62.9905\" stroke=\"black\"/>\n",
       "</g>\n",
       "<!-- theta_nb -->\n",
       "<g class=\"node\" id=\"node9\"><title>theta_nb</title>\n",
       "<ellipse cx=\"335.104\" cy=\"-26.8701\" fill=\"none\" rx=\"59.2941\" ry=\"26.7407\" stroke=\"blue\"/>\n",
       "<text font-family=\"Times,serif\" font-size=\"14.00\" text-anchor=\"middle\" x=\"335.104\" y=\"-30.6701\">RooRealVar</text>\n",
       "<text font-family=\"Times,serif\" font-size=\"14.00\" text-anchor=\"middle\" x=\"335.104\" y=\"-15.6701\">theta_nb</text>\n",
       "</g>\n",
       "<!-- nb&#45;&gt;theta_nb -->\n",
       "<g class=\"edge\" id=\"edge3\"><title>nb-&gt;theta_nb</title>\n",
       "<path d=\"M247.262,-92.0974C262.258,-81.133 280.235,-67.9888 296.009,-56.4553\" fill=\"none\" stroke=\"black\"/>\n",
       "<polygon fill=\"black\" points=\"298.506,-58.9653 304.513,-50.2376 294.374,-53.3146 298.506,-58.9653\" stroke=\"black\"/>\n",
       "</g>\n",
       "<!-- constr_nb&#45;&gt;theta_nb -->\n",
       "<g class=\"edge\" id=\"edge8\"><title>constr_nb-&gt;theta_nb</title>\n",
       "<path d=\"M371.916,-271.389C361.984,-260.773 351.723,-247.445 346.104,-233.22 324.035,-177.355 326.222,-106.227 330.315,-64.0253\" fill=\"none\" stroke=\"black\"/>\n",
       "<polygon fill=\"black\" points=\"333.81,-64.2595 331.384,-53.9463 326.849,-63.5217 333.81,-64.2595\" stroke=\"black\"/>\n",
       "</g>\n",
       "<!-- 1 -->\n",
       "<g class=\"node\" id=\"node11\"><title>1</title>\n",
       "<ellipse cx=\"419.104\" cy=\"-206.35\" fill=\"none\" rx=\"64.1938\" ry=\"26.7407\" stroke=\"red\"/>\n",
       "<text font-family=\"Times,serif\" font-size=\"14.00\" text-anchor=\"middle\" x=\"419.104\" y=\"-210.15\">RooConstVar</text>\n",
       "<text font-family=\"Times,serif\" font-size=\"14.00\" text-anchor=\"middle\" x=\"419.104\" y=\"-195.15\">1</text>\n",
       "</g>\n",
       "<!-- constr_nb&#45;&gt;1 -->\n",
       "<g class=\"edge\" id=\"edge10\"><title>constr_nb-&gt;1</title>\n",
       "<path d=\"M404.291,-269.24C406.239,-261.102 408.427,-251.962 410.511,-243.255\" fill=\"none\" stroke=\"black\"/>\n",
       "<polygon fill=\"black\" points=\"413.965,-243.859 412.889,-233.319 407.157,-242.23 413.965,-243.859\" stroke=\"black\"/>\n",
       "</g>\n",
       "<!-- global_nb -->\n",
       "<g class=\"node\" id=\"node12\"><title>global_nb</title>\n",
       "<ellipse cx=\"561.104\" cy=\"-206.35\" fill=\"none\" rx=\"59.2941\" ry=\"26.7407\" stroke=\"blue\"/>\n",
       "<text font-family=\"Times,serif\" font-size=\"14.00\" text-anchor=\"middle\" x=\"561.104\" y=\"-210.15\">RooRealVar</text>\n",
       "<text font-family=\"Times,serif\" font-size=\"14.00\" text-anchor=\"middle\" x=\"561.104\" y=\"-195.15\">global_nb</text>\n",
       "</g>\n",
       "<!-- constr_nb&#45;&gt;global_nb -->\n",
       "<g class=\"edge\" id=\"edge9\"><title>constr_nb-&gt;global_nb</title>\n",
       "<path d=\"M436.32,-274.519C459.87,-261.843 490.211,-245.511 515.078,-232.125\" fill=\"none\" stroke=\"black\"/>\n",
       "<polygon fill=\"black\" points=\"516.823,-235.161 523.969,-227.339 513.505,-228.997 516.823,-235.161\" stroke=\"black\"/>\n",
       "</g>\n",
       "</g>\n",
       "</svg>"
      ],
      "text/plain": [
       "<IPython.core.display.SVG object>"
      ]
     },
     "execution_count": 4,
     "metadata": {},
     "output_type": "execute_result"
    }
   ],
   "source": [
    "pdf.graphVizTree(\"pdf_graph.dot\")\n",
    "!dot -Tsvg pdf_graph.dot > pdf_graph.svg; rm pdf_graph.dot\n",
    "SVG(\"pdf_graph.svg\")"
   ]
  },
  {
   "cell_type": "code",
   "execution_count": 28,
   "metadata": {},
   "outputs": [],
   "source": [
    "ROOT.RooMsgService.instance().getStream(1).removeTopic(RooFit.Eval) \n",
    "ROOT.RooMsgService.instance().setGlobalKillBelow(RooFit.ERROR)\n",
    "ROOT.RooMsgService.instance().getStream(1).removeTopic(RooFit.NumIntegration) \n",
    "ROOT.RooMsgService.instance().getStream(1).removeTopic(RooFit.Fitting) \n",
    "ROOT.RooMsgService.instance().getStream(1).removeTopic(RooFit.Minimization) \n",
    "ROOT.RooMsgService.instance().getStream(1).removeTopic(RooFit.InputArguments) \n",
    "ROOT.RooMsgService.instance().getStream(1).removeTopic(RooFit.Eval) \n",
    "ROOT.RooMsgService.instance().setGlobalKillBelow(RooFit.ERROR)\n",
    "ROOT.RooMsgService.instance().setSilentMode(True);"
   ]
  },
  {
   "cell_type": "code",
   "execution_count": 29,
   "metadata": {},
   "outputs": [
    {
     "name": "stdout",
     "output_type": "stream",
     "text": [
      "  1) 0x55b6b6a940a0 RooRealVar:: nobs = 124  L(0 - 13000)  \"nobs\"\r\n"
     ]
    }
   ],
   "source": [
    "# create a useful function to create toys specific for this workspace\n",
    "def create_toy():\n",
    "    return pdf.generate(obs, 1)\n",
    "\n",
    "# just an example\n",
    "data = create_toy()\n",
    "data.get(0).Print(\"v\")"
   ]
  },
  {
   "cell_type": "code",
   "execution_count": 39,
   "metadata": {},
   "outputs": [],
   "source": [
    "from functools import wraps\n",
    "\n",
    "def stateless(varnames):\n",
    "    def decorator(method):\n",
    "        @wraps(method)\n",
    "        def f(*args, **kwargs):\n",
    "            old_values = {v: ws.var(v).getVal() for v in varnames}\n",
    "            result = method(*args, **kwargs)\n",
    "            for k, v in old_values.iteritems():\n",
    "                ws.var(k).setVal(v)\n",
    "                ws.var(k).setConstant(False)\n",
    "            return result\n",
    "        return f\n",
    "    return decorator\n",
    "\n",
    "@stateless([poi.GetName()])\n",
    "def evaluate_test_stat(test_value, data):\n",
    "   \n",
    "    # uncond fit\n",
    "    poi.setConstant(False)\n",
    "    r = pdf.fitTo(data, RooFit.Save())\n",
    "    denominator = r.minNll()\n",
    "    \n",
    "    # special case, we are not interested in these cases\n",
    "    if poi.getVal() > test_value:\n",
    "        return 0.\n",
    "    \n",
    "    # recompute if needed\n",
    "    if poi.getVal() < 0:\n",
    "        poi.setVal(0)\n",
    "        poi.setConstant(True)\n",
    "        r = pdf.fitTo(data, RooFit.Save())\n",
    "        denominator = r.minNll()\n",
    "        \n",
    "    # conditional fit\n",
    "    poi.setVal(test_value)\n",
    "    poi.setConstant(True)\n",
    "    r = pdf.fitTo(data, RooFit.Save())\n",
    "    numerator = r.minNll()\n",
    "    \n",
    "    return numerator - denominator"
   ]
  },
  {
   "cell_type": "code",
   "execution_count": 113,
   "metadata": {},
   "outputs": [
    {
     "name": "stdout",
     "output_type": "stream",
     "text": [
      "computing 0.1\n",
      "computing 75.075\n",
      "computing 150.05\n",
      "computing 225.025\n",
      "computing 300.0\n"
     ]
    }
   ],
   "source": [
    "nsignal_toys = 300\n",
    "nbkg_toys = 100\n",
    "\n",
    "test_poi_values = np.linspace(0.1, 300, 5)\n",
    "\n",
    "all_qvalue_data = {}\n",
    "all_qvalues_signal_toys = {}\n",
    "all_qvalues_bkg_toys = {}\n",
    "all_clsb = {}\n",
    "all_cls = {}\n",
    "all_clb = {}\n",
    "\n",
    "for test_poi_value in test_poi_values:\n",
    "    print \"computing\", test_poi_value\n",
    "    \n",
    "    qvalue_data = evaluate_test_stat(test_poi_value, data)\n",
    "\n",
    "    qvalues_signal_toys = []\n",
    "    qvalues_bkg_toys = []\n",
    "\n",
    "    for itoy in range(nsignal_toys):\n",
    "        # create signal-sample toy\n",
    "        poi.setVal(test_poi_value)\n",
    "        poi.setConstant(True)\n",
    "        pdf.fitTo(data)\n",
    "        poi.setConstant(False)\n",
    "        toy_s = create_toy()\n",
    "        qvalues_signal_toys.append(evaluate_test_stat(test_poi_value, toy_s))\n",
    "\n",
    "\n",
    "    for itoy in range(nbkg_toys):\n",
    "        # create signal-sample toy\n",
    "        poi.setVal(0)\n",
    "        poi.setConstant(True)\n",
    "        pdf.fitTo(data)\n",
    "        poi.setConstant(False)\n",
    "        toy_b = create_toy()\n",
    "        qvalues_bkg_toys.append(evaluate_test_stat(test_poi_value, toy_b))\n",
    "    \n",
    "    \n",
    "    all_qvalue_data[test_poi_value] = qvalue_data\n",
    "    all_qvalues_signal_toys[test_poi_value] = np.array(qvalues_signal_toys)\n",
    "    all_qvalues_bkg_toys[test_poi_value] = np.array(qvalues_bkg_toys)\n",
    "    \n",
    "    pvalue_sb = (all_qvalues_signal_toys[test_poi_value] >= qvalue_data).sum() / float(nsignal_toys)\n",
    "    pvalue_b = (all_qvalues_bkg_toys[test_poi_value] >= qvalue_data).sum() / float(nbkg_toys)\n",
    "    cls = pvalue_sb / (1 - pvalue_b)\n",
    "    \n",
    "    all_clsb[test_poi_value] = pvalue_sb\n",
    "    all_clb[test_poi_value] = 1 - pvalue_b\n",
    "    all_cls[test_poi_value] = cls"
   ]
  },
  {
   "cell_type": "code",
   "execution_count": 114,
   "metadata": {},
   "outputs": [
    {
     "data": {
      "image/png": "[encoded data removed]",
      "text/plain": [
       "<matplotlib.figure.Figure at 0x7f9c31346790>"
      ]
     },
     "metadata": {},
     "output_type": "display_data"
    }
   ],
   "source": [
    "fig, axs = plt.subplots(1, len(test_poi_values), figsize=(15, 5))\n",
    "for ax, test_poi_value in zip(axs.flat, test_poi_values):\n",
    "    \n",
    "    qvalue_data = all_qvalue_data[test_poi_value]\n",
    "    qvalues_signal_toys = all_qvalues_signal_toys[test_poi_value]\n",
    "    qvalues_bkg_toys = all_qvalues_bkg_toys[test_poi_value]\n",
    "    \n",
    "    bins = np.linspace(min([np.min(qvalues_signal_toys), np.min(qvalues_bkg_toys)]),\n",
    "                       max([np.max(qvalues_signal_toys), np.max(qvalues_bkg_toys)]), 20)\n",
    "    ax.hist(qvalues_signal_toys, bins=bins)\n",
    "    ax.hist(qvalues_bkg_toys, bins=bins)\n",
    "    ax.axvline(qvalue_data)"
   ]
  },
  {
   "cell_type": "code",
   "execution_count": 115,
   "metadata": {},
   "outputs": [
    {
     "data": {
      "text/plain": [
       "<matplotlib.legend.Legend at 0x7f9c3120bfd0>"
      ]
     },
     "execution_count": 115,
     "metadata": {},
     "output_type": "execute_result"
    },
    {
     "data": {
      "image/png": "[encoded data removed]",
      "text/plain": [
       "<matplotlib.figure.Figure at 0x7f9c2ec68350>"
      ]
     },
     "metadata": {},
     "output_type": "display_data"
    }
   ],
   "source": [
    "def get_xy(d):\n",
    "    xs = sorted(d.keys())\n",
    "    ys = [d[x] for x in xs]\n",
    "    return xs, ys\n",
    "\n",
    "fig, ax = plt.subplots(figsize=(10, 7))\n",
    "\n",
    "x, y = get_xy(all_cls)\n",
    "ax.plot(x, y, '.-', label='cls')\n",
    "\n",
    "x, y = get_xy(all_clb)\n",
    "ax.plot(x, y, '.-', label='clb')\n",
    "\n",
    "x, y = get_xy(all_clsb)\n",
    "ax.plot(x, y, '.-', label='clsb')\n",
    "\n",
    "ax.axhline(0.05, ls=\":\", color='k')\n",
    "ax.legend(loc=0)"
   ]
  },
  {
   "cell_type": "code",
   "execution_count": null,
   "metadata": {
    "collapsed": true
   },
   "outputs": [],
   "source": []
  }
 ],
 "metadata": {
  "kernelspec": {
   "display_name": "Python 2",
   "language": "python",
   "name": "python2"
  },
  "language_info": {
   "codemirror_mode": {
    "name": "ipython",
    "version": 2
   },
   "file_extension": ".py",
   "mimetype": "text/x-python",
   "name": "python",
   "nbconvert_exporter": "python",
   "pygments_lexer": "ipython2",
   "version": "2.7.11"
  }
 },
 "nbformat": 4,
 "nbformat_minor": 2
}
